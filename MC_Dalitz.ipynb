{
 "cells": [
  {
   "cell_type": "code",
   "execution_count": 1,
   "id": "04a2efcc-6026-480e-a7b5-7ede89c81881",
   "metadata": {},
   "outputs": [
    {
     "name": "stdout",
     "output_type": "stream",
     "text": [
      "Welcome to JupyROOT 6.28/00\n"
     ]
    }
   ],
   "source": [
    "import ROOT\n",
    "import awkward as ak\n",
    "import uproot\n",
    "\n",
    "#my custom python modules\n",
    "from common import *\n",
    "from process_ntuples import *\n",
    "from plotting import *\n",
    "\n",
    "import matplotlib.pyplot as plt"
   ]
  },
  {
   "cell_type": "markdown",
   "id": "c519a7c0-3c31-4688-bbcd-029ee237ff69",
   "metadata": {},
   "source": [
    "This part of the code is for processing ntuples into pandas data frames with a list of branches and batch size, specifically below is the Monte Carlo simulation for $D^{+}\\rightarrow k^{-} \\pi^{+} \\pi^{+}$ and $\\Lambda_c^{+}\\rightarrow p k^{-} \\pi^{+}$"
   ]
  },
  {
   "cell_type": "code",
   "execution_count": 2,
   "id": "56d9a6bd-ea49-4751-b70a-ec3be850babc",
   "metadata": {},
   "outputs": [
    {
     "data": {
      "text/plain": [
       "['CharmAnalysis.mc.ForcedDecay.Dplus.tree.root',\n",
       " 'CharmAnalysis.mc.ForcedDecay.LabmdaC.tree.root']"
      ]
     },
     "execution_count": 2,
     "metadata": {},
     "output_type": "execute_result"
    }
   ],
   "source": [
    "dir_path = \"/global/cfs/cdirs/atlas/gottino/Charm/Analysis/run_batch_gup/ntuples\"\n",
    "\n",
    "files = os.listdir(dir_path)\n",
    "TTree = process_ntuple(dir_path, files[0])\n",
    "files"
   ]
  },
  {
   "cell_type": "markdown",
   "id": "2485d5c9-bb23-49b4-a8e0-d02e38a3dba9",
   "metadata": {},
   "source": [
    "-------------------------------------------------------------------------------- $D^{+}\\rightarrow k^{-} \\pi^{+} \\pi^{+}$ Analysis Starts here --------------------------------------------------------------------------------"
   ]
  },
  {
   "cell_type": "code",
   "execution_count": 3,
   "id": "3683f221-d51c-4043-8762-bb7cb4dda99f",
   "metadata": {},
   "outputs": [
    {
     "data": {
      "text/html": [
       "<div>\n",
       "<style scoped>\n",
       "    .dataframe tbody tr th:only-of-type {\n",
       "        vertical-align: middle;\n",
       "    }\n",
       "\n",
       "    .dataframe tbody tr th {\n",
       "        vertical-align: top;\n",
       "    }\n",
       "\n",
       "    .dataframe thead th {\n",
       "        text-align: right;\n",
       "    }\n",
       "</style>\n",
       "<table border=\"1\" class=\"dataframe\">\n",
       "  <thead>\n",
       "    <tr style=\"text-align: right;\">\n",
       "      <th></th>\n",
       "      <th>TruthParticles_Selected_daughterInfoT__pt</th>\n",
       "      <th>TruthParticles_Selected_daughterInfoT__phi</th>\n",
       "      <th>TruthParticles_Selected_daughterInfoT__eta</th>\n",
       "      <th>TruthParticles_Selected_daughterInfoT__pdgId</th>\n",
       "    </tr>\n",
       "  </thead>\n",
       "  <tbody>\n",
       "    <tr>\n",
       "      <th>0</th>\n",
       "      <td>((1123.1682, 3878.585, 958.6866))</td>\n",
       "      <td>((1.2170534, 1.3581188, 0.70865583))</td>\n",
       "      <td>((1.0610737, 0.8769237, 1.0839401))</td>\n",
       "      <td>((-321, 211, 211))</td>\n",
       "    </tr>\n",
       "    <tr>\n",
       "      <th>1</th>\n",
       "      <td>((6099.8413, 1293.4324, 2749.1514))</td>\n",
       "      <td>((2.6134217, 2.7200499, 2.921711))</td>\n",
       "      <td>((0.16281185, 0.01096963, -0.0618442))</td>\n",
       "      <td>((-321, 211, 211))</td>\n",
       "    </tr>\n",
       "    <tr>\n",
       "      <th>2</th>\n",
       "      <td>((6289.112, 6667.3516, 6242.084, 28.585157))</td>\n",
       "      <td>((-0.37195462, -0.4972521, -0.5173161, -0.4602...</td>\n",
       "      <td>((-1.6081908, -1.7318903, -1.6300088, -1.675798))</td>\n",
       "      <td>((-321, 211, 211, 22))</td>\n",
       "    </tr>\n",
       "    <tr>\n",
       "      <th>3</th>\n",
       "      <td>((9216.71, 35438.234, 17588.225))</td>\n",
       "      <td>((1.943759, 1.9455862, 1.9117515))</td>\n",
       "      <td>((1.9568142, 1.9821448, 1.9503908))</td>\n",
       "      <td>((-321, 211, 211))</td>\n",
       "    </tr>\n",
       "    <tr>\n",
       "      <th>4</th>\n",
       "      <td>((2002.057, 217.7519, 3713.5286))</td>\n",
       "      <td>((-2.5672243, -2.1763499, -2.424952))</td>\n",
       "      <td>((-1.141573, -2.3164506, -1.0353537))</td>\n",
       "      <td>((-321, 211, 211))</td>\n",
       "    </tr>\n",
       "    <tr>\n",
       "      <th>...</th>\n",
       "      <td>...</td>\n",
       "      <td>...</td>\n",
       "      <td>...</td>\n",
       "      <td>...</td>\n",
       "    </tr>\n",
       "    <tr>\n",
       "      <th>9995</th>\n",
       "      <td>((2151.0593, 1245.3898, 2046.0638))</td>\n",
       "      <td>((-2.5996447, -2.952008, -2.2018938))</td>\n",
       "      <td>((0.20800702, 0.43235645, 0.42277658))</td>\n",
       "      <td>((-321, 211, 211))</td>\n",
       "    </tr>\n",
       "    <tr>\n",
       "      <th>9996</th>\n",
       "      <td>((2736.7104, 1384.2468, 1293.7802))</td>\n",
       "      <td>((3.1202385, 2.5702753, -3.0097811))</td>\n",
       "      <td>((0.06700771, 0.12232215, -0.2964751))</td>\n",
       "      <td>((-321, 211, 211))</td>\n",
       "    </tr>\n",
       "    <tr>\n",
       "      <th>9997</th>\n",
       "      <td>((2112.475, 251.03328, 5257.3037))</td>\n",
       "      <td>((0.42087388, 0.8593871, 0.20681547))</td>\n",
       "      <td>((1.6961367, 1.1129706, 1.5997151))</td>\n",
       "      <td>((-321, 211, 211))</td>\n",
       "    </tr>\n",
       "    <tr>\n",
       "      <th>9998</th>\n",
       "      <td>((821.93463, 4196.02, 163.92838))</td>\n",
       "      <td>((-0.80155736, -0.6736053, -1.2575617))</td>\n",
       "      <td>((1.2259598, 1.0538431, 0.102970615))</td>\n",
       "      <td>((-321, 211, 211))</td>\n",
       "    </tr>\n",
       "    <tr>\n",
       "      <th>9999</th>\n",
       "      <td>((2173.9946, 1138.5417, 3459.9565))</td>\n",
       "      <td>((-1.3189881, -0.9496524, -1.5074568))</td>\n",
       "      <td>((-2.107082, -2.1715877, -1.8572204))</td>\n",
       "      <td>((-321, 211, 211))</td>\n",
       "    </tr>\n",
       "  </tbody>\n",
       "</table>\n",
       "<p>10000 rows × 4 columns</p>\n",
       "</div>"
      ],
      "text/plain": [
       "         TruthParticles_Selected_daughterInfoT__pt  \\\n",
       "0                ((1123.1682, 3878.585, 958.6866))   \n",
       "1              ((6099.8413, 1293.4324, 2749.1514))   \n",
       "2     ((6289.112, 6667.3516, 6242.084, 28.585157))   \n",
       "3                ((9216.71, 35438.234, 17588.225))   \n",
       "4                ((2002.057, 217.7519, 3713.5286))   \n",
       "...                                            ...   \n",
       "9995           ((2151.0593, 1245.3898, 2046.0638))   \n",
       "9996           ((2736.7104, 1384.2468, 1293.7802))   \n",
       "9997            ((2112.475, 251.03328, 5257.3037))   \n",
       "9998             ((821.93463, 4196.02, 163.92838))   \n",
       "9999           ((2173.9946, 1138.5417, 3459.9565))   \n",
       "\n",
       "             TruthParticles_Selected_daughterInfoT__phi  \\\n",
       "0                  ((1.2170534, 1.3581188, 0.70865583))   \n",
       "1                    ((2.6134217, 2.7200499, 2.921711))   \n",
       "2     ((-0.37195462, -0.4972521, -0.5173161, -0.4602...   \n",
       "3                    ((1.943759, 1.9455862, 1.9117515))   \n",
       "4                 ((-2.5672243, -2.1763499, -2.424952))   \n",
       "...                                                 ...   \n",
       "9995              ((-2.5996447, -2.952008, -2.2018938))   \n",
       "9996               ((3.1202385, 2.5702753, -3.0097811))   \n",
       "9997              ((0.42087388, 0.8593871, 0.20681547))   \n",
       "9998            ((-0.80155736, -0.6736053, -1.2575617))   \n",
       "9999             ((-1.3189881, -0.9496524, -1.5074568))   \n",
       "\n",
       "             TruthParticles_Selected_daughterInfoT__eta  \\\n",
       "0                   ((1.0610737, 0.8769237, 1.0839401))   \n",
       "1                ((0.16281185, 0.01096963, -0.0618442))   \n",
       "2     ((-1.6081908, -1.7318903, -1.6300088, -1.675798))   \n",
       "3                   ((1.9568142, 1.9821448, 1.9503908))   \n",
       "4                 ((-1.141573, -2.3164506, -1.0353537))   \n",
       "...                                                 ...   \n",
       "9995             ((0.20800702, 0.43235645, 0.42277658))   \n",
       "9996             ((0.06700771, 0.12232215, -0.2964751))   \n",
       "9997                ((1.6961367, 1.1129706, 1.5997151))   \n",
       "9998              ((1.2259598, 1.0538431, 0.102970615))   \n",
       "9999              ((-2.107082, -2.1715877, -1.8572204))   \n",
       "\n",
       "     TruthParticles_Selected_daughterInfoT__pdgId  \n",
       "0                              ((-321, 211, 211))  \n",
       "1                              ((-321, 211, 211))  \n",
       "2                          ((-321, 211, 211, 22))  \n",
       "3                              ((-321, 211, 211))  \n",
       "4                              ((-321, 211, 211))  \n",
       "...                                           ...  \n",
       "9995                           ((-321, 211, 211))  \n",
       "9996                           ((-321, 211, 211))  \n",
       "9997                           ((-321, 211, 211))  \n",
       "9998                           ((-321, 211, 211))  \n",
       "9999                           ((-321, 211, 211))  \n",
       "\n",
       "[10000 rows x 4 columns]"
      ]
     },
     "execution_count": 3,
     "metadata": {},
     "output_type": "execute_result"
    }
   ],
   "source": [
    "DMesons_Truthdf = show(0, TTree, ['TruthParticles_Selected_daughterInfoT__pt', 'TruthParticles_Selected_daughterInfoT__phi','TruthParticles_Selected_daughterInfoT__eta', 'TruthParticles_Selected_daughterInfoT__pdgId'], 10000)\n",
    "DMesons_Truthdf = remove_empty(DMesons_Truthdf)\n",
    "DMesons_Truthdf"
   ]
  },
  {
   "cell_type": "code",
   "execution_count": 4,
   "id": "ccadc372-20b0-4bcb-9528-eb5ec55dcdf7",
   "metadata": {},
   "outputs": [
    {
     "data": {
      "text/html": [
       "<div>\n",
       "<style scoped>\n",
       "    .dataframe tbody tr th:only-of-type {\n",
       "        vertical-align: middle;\n",
       "    }\n",
       "\n",
       "    .dataframe tbody tr th {\n",
       "        vertical-align: top;\n",
       "    }\n",
       "\n",
       "    .dataframe thead th {\n",
       "        text-align: right;\n",
       "    }\n",
       "</style>\n",
       "<table border=\"1\" class=\"dataframe\">\n",
       "  <thead>\n",
       "    <tr style=\"text-align: right;\">\n",
       "      <th></th>\n",
       "      <th>TruthParticles_Selected_daughterInfoT__pt</th>\n",
       "      <th>TruthParticles_Selected_daughterInfoT__phi</th>\n",
       "      <th>TruthParticles_Selected_daughterInfoT__eta</th>\n",
       "      <th>TruthParticles_Selected_daughterInfoT__pdgId</th>\n",
       "    </tr>\n",
       "  </thead>\n",
       "  <tbody>\n",
       "    <tr>\n",
       "      <th>0</th>\n",
       "      <td>([1.1231682300567627, 3.878584861755371, 0.958...</td>\n",
       "      <td>((1.2170534, 1.3581188, 0.70865583))</td>\n",
       "      <td>((1.0610737, 0.8769237, 1.0839401))</td>\n",
       "      <td>((-321, 211, 211))</td>\n",
       "    </tr>\n",
       "    <tr>\n",
       "      <th>1</th>\n",
       "      <td>([6.099841117858887, 1.293432354927063, 2.7491...</td>\n",
       "      <td>((2.6134217, 2.7200499, 2.921711))</td>\n",
       "      <td>((0.16281185, 0.01096963, -0.0618442))</td>\n",
       "      <td>((-321, 211, 211))</td>\n",
       "    </tr>\n",
       "    <tr>\n",
       "      <th>2</th>\n",
       "      <td>([6.289111614227295, 6.667351722717285, 6.2420...</td>\n",
       "      <td>((-0.37195462, -0.4972521, -0.5173161, -0.4602...</td>\n",
       "      <td>((-1.6081908, -1.7318903, -1.6300088, -1.675798))</td>\n",
       "      <td>((-321, 211, 211, 22))</td>\n",
       "    </tr>\n",
       "    <tr>\n",
       "      <th>3</th>\n",
       "      <td>([9.216710090637207, 35.438236236572266, 17.58...</td>\n",
       "      <td>((1.943759, 1.9455862, 1.9117515))</td>\n",
       "      <td>((1.9568142, 1.9821448, 1.9503908))</td>\n",
       "      <td>((-321, 211, 211))</td>\n",
       "    </tr>\n",
       "    <tr>\n",
       "      <th>4</th>\n",
       "      <td>([2.0020570755004883, 0.2177519053220749, 3.71...</td>\n",
       "      <td>((-2.5672243, -2.1763499, -2.424952))</td>\n",
       "      <td>((-1.141573, -2.3164506, -1.0353537))</td>\n",
       "      <td>((-321, 211, 211))</td>\n",
       "    </tr>\n",
       "    <tr>\n",
       "      <th>...</th>\n",
       "      <td>...</td>\n",
       "      <td>...</td>\n",
       "      <td>...</td>\n",
       "      <td>...</td>\n",
       "    </tr>\n",
       "    <tr>\n",
       "      <th>9995</th>\n",
       "      <td>([2.15105938911438, 1.2453898191452026, 2.0460...</td>\n",
       "      <td>((-2.5996447, -2.952008, -2.2018938))</td>\n",
       "      <td>((0.20800702, 0.43235645, 0.42277658))</td>\n",
       "      <td>((-321, 211, 211))</td>\n",
       "    </tr>\n",
       "    <tr>\n",
       "      <th>9996</th>\n",
       "      <td>([2.736710548400879, 1.384246826171875, 1.2937...</td>\n",
       "      <td>((3.1202385, 2.5702753, -3.0097811))</td>\n",
       "      <td>((0.06700771, 0.12232215, -0.2964751))</td>\n",
       "      <td>((-321, 211, 211))</td>\n",
       "    </tr>\n",
       "    <tr>\n",
       "      <th>9997</th>\n",
       "      <td>([2.1124751567840576, 0.2510332763195038, 5.25...</td>\n",
       "      <td>((0.42087388, 0.8593871, 0.20681547))</td>\n",
       "      <td>((1.6961367, 1.1129706, 1.5997151))</td>\n",
       "      <td>((-321, 211, 211))</td>\n",
       "    </tr>\n",
       "    <tr>\n",
       "      <th>9998</th>\n",
       "      <td>([0.8219346404075623, 4.196020126342773, 0.163...</td>\n",
       "      <td>((-0.80155736, -0.6736053, -1.2575617))</td>\n",
       "      <td>((1.2259598, 1.0538431, 0.102970615))</td>\n",
       "      <td>((-321, 211, 211))</td>\n",
       "    </tr>\n",
       "    <tr>\n",
       "      <th>9999</th>\n",
       "      <td>([2.173994541168213, 1.1385416984558105, 3.459...</td>\n",
       "      <td>((-1.3189881, -0.9496524, -1.5074568))</td>\n",
       "      <td>((-2.107082, -2.1715877, -1.8572204))</td>\n",
       "      <td>((-321, 211, 211))</td>\n",
       "    </tr>\n",
       "  </tbody>\n",
       "</table>\n",
       "<p>10000 rows × 4 columns</p>\n",
       "</div>"
      ],
      "text/plain": [
       "              TruthParticles_Selected_daughterInfoT__pt  \\\n",
       "0     ([1.1231682300567627, 3.878584861755371, 0.958...   \n",
       "1     ([6.099841117858887, 1.293432354927063, 2.7491...   \n",
       "2     ([6.289111614227295, 6.667351722717285, 6.2420...   \n",
       "3     ([9.216710090637207, 35.438236236572266, 17.58...   \n",
       "4     ([2.0020570755004883, 0.2177519053220749, 3.71...   \n",
       "...                                                 ...   \n",
       "9995  ([2.15105938911438, 1.2453898191452026, 2.0460...   \n",
       "9996  ([2.736710548400879, 1.384246826171875, 1.2937...   \n",
       "9997  ([2.1124751567840576, 0.2510332763195038, 5.25...   \n",
       "9998  ([0.8219346404075623, 4.196020126342773, 0.163...   \n",
       "9999  ([2.173994541168213, 1.1385416984558105, 3.459...   \n",
       "\n",
       "             TruthParticles_Selected_daughterInfoT__phi  \\\n",
       "0                  ((1.2170534, 1.3581188, 0.70865583))   \n",
       "1                    ((2.6134217, 2.7200499, 2.921711))   \n",
       "2     ((-0.37195462, -0.4972521, -0.5173161, -0.4602...   \n",
       "3                    ((1.943759, 1.9455862, 1.9117515))   \n",
       "4                 ((-2.5672243, -2.1763499, -2.424952))   \n",
       "...                                                 ...   \n",
       "9995              ((-2.5996447, -2.952008, -2.2018938))   \n",
       "9996               ((3.1202385, 2.5702753, -3.0097811))   \n",
       "9997              ((0.42087388, 0.8593871, 0.20681547))   \n",
       "9998            ((-0.80155736, -0.6736053, -1.2575617))   \n",
       "9999             ((-1.3189881, -0.9496524, -1.5074568))   \n",
       "\n",
       "             TruthParticles_Selected_daughterInfoT__eta  \\\n",
       "0                   ((1.0610737, 0.8769237, 1.0839401))   \n",
       "1                ((0.16281185, 0.01096963, -0.0618442))   \n",
       "2     ((-1.6081908, -1.7318903, -1.6300088, -1.675798))   \n",
       "3                   ((1.9568142, 1.9821448, 1.9503908))   \n",
       "4                 ((-1.141573, -2.3164506, -1.0353537))   \n",
       "...                                                 ...   \n",
       "9995             ((0.20800702, 0.43235645, 0.42277658))   \n",
       "9996             ((0.06700771, 0.12232215, -0.2964751))   \n",
       "9997                ((1.6961367, 1.1129706, 1.5997151))   \n",
       "9998              ((1.2259598, 1.0538431, 0.102970615))   \n",
       "9999              ((-2.107082, -2.1715877, -1.8572204))   \n",
       "\n",
       "     TruthParticles_Selected_daughterInfoT__pdgId  \n",
       "0                              ((-321, 211, 211))  \n",
       "1                              ((-321, 211, 211))  \n",
       "2                          ((-321, 211, 211, 22))  \n",
       "3                              ((-321, 211, 211))  \n",
       "4                              ((-321, 211, 211))  \n",
       "...                                           ...  \n",
       "9995                           ((-321, 211, 211))  \n",
       "9996                           ((-321, 211, 211))  \n",
       "9997                           ((-321, 211, 211))  \n",
       "9998                           ((-321, 211, 211))  \n",
       "9999                           ((-321, 211, 211))  \n",
       "\n",
       "[10000 rows x 4 columns]"
      ]
     },
     "execution_count": 4,
     "metadata": {},
     "output_type": "execute_result"
    }
   ],
   "source": [
    "DMesons_Truthdf[\"TruthParticles_Selected_daughterInfoT__pt\"] = DMesons_Truthdf[\"TruthParticles_Selected_daughterInfoT__pt\"].apply(divide_by_1000)\n",
    "DMesons_Truthdf"
   ]
  },
  {
   "cell_type": "markdown",
   "id": "409af6dd-4656-4ac9-8ecd-2d8c4f50eec6",
   "metadata": {},
   "source": [
    "Creating Dalitz plot for Monte Carlo $D^{+}\\rightarrow k^{-} \\pi^{+} \\pi^{+}$ and $\\Lambda_c^{+}\\rightarrow p k^{-} \\pi^{+}$, Using TLorentzVectors does it agree with CLEO (https://arxiv.org/pdf/0707.3060.pdf)>"
   ]
  },
  {
   "cell_type": "code",
   "execution_count": 5,
   "id": "d865f1bc-329e-4561-923f-e91544b544a8",
   "metadata": {},
   "outputs": [],
   "source": [
    "k_mass = 0.493677 #Gev/c^2\n",
    "pi_mass = 0.13957 #Gev/c^2\n",
    "p_mass = 0.938 #Gev/c^2\n",
    "\n",
    "def createTLorentzVectors(df):\n",
    "    TLorentzVectorList = []\n",
    "    for index, row in df.iterrows():\n",
    "        pts = row['TruthParticles_Selected_daughterInfoT__pt'][0]\n",
    "        etas = row['TruthParticles_Selected_daughterInfoT__eta'][0]\n",
    "        phis = row['TruthParticles_Selected_daughterInfoT__phi'][0]\n",
    "        pdgids = row['TruthParticles_Selected_daughterInfoT__pdgId'][0]\n",
    "\n",
    "        for pt, eta, phi, pdgid in zip(pts, etas, phis, pdgids):\n",
    "            if pdgid == 211:\n",
    "                m = pi_mass\n",
    "            elif pdgid == -321:\n",
    "                m = k_mass\n",
    "            elif pdgid == 2212:\n",
    "                m = p_mass\n",
    "            else:\n",
    "                continue\n",
    "\n",
    "            p = ROOT.TLorentzVector()\n",
    "            p.SetPtEtaPhiM(pt, eta, phi, m)\n",
    "            TLorentzVectorList.append(p)\n",
    "            \n",
    "    return TLorentzVectorList\n",
    "\n",
    "inv_mass_squared = lambda p1, p2: (p1 + p2).M2()"
   ]
  },
  {
   "cell_type": "code",
   "execution_count": 6,
   "id": "7f377e8a-2c39-4f88-9b04-e18dd12c17f2",
   "metadata": {},
   "outputs": [
    {
     "data": {
      "text/plain": [
       "(10000, 3)"
      ]
     },
     "execution_count": 6,
     "metadata": {},
     "output_type": "execute_result"
    }
   ],
   "source": [
    "Dplus_TLorentzVectorList = createTLorentzVectors(DMesons_Truthdf)\n",
    "reshaped_list = [Dplus_TLorentzVectorList[i:i+3] for i in range(0, len(Dplus_TLorentzVectorList), 3)]\n",
    "np.shape(reshaped_list)"
   ]
  },
  {
   "cell_type": "code",
   "execution_count": 7,
   "id": "6855507a-2592-416c-9c46-b08d8aded64f",
   "metadata": {},
   "outputs": [],
   "source": [
    "kpi_low = []\n",
    "kpi_high = []\n",
    "\n",
    "for sublist in reshaped_list:\n",
    "    kpi_one = inv_mass_squared(sublist[0], sublist[1])\n",
    "    kpi_two = inv_mass_squared(sublist[0], sublist[2])\n",
    "    if kpi_one > kpi_two:\n",
    "        kpi_high.append(kpi_one)\n",
    "        kpi_low.append(kpi_two)\n",
    "    else:\n",
    "        #kpi_one < kpi_kpi_two:\n",
    "        kpi_high.append(kpi_two)\n",
    "        kpi_low.append(kpi_one)"
   ]
  },
  {
   "cell_type": "code",
   "execution_count": 9,
   "id": "71004a30-2c8c-4c87-89ce-46d8c16bb746",
   "metadata": {},
   "outputs": [
    {
     "data": {
      "image/png": "[encoded data removed]",
      "text/plain": [
       "<IPython.core.display.Image object>"
      ]
     },
     "metadata": {},
     "output_type": "display_data"
    }
   ],
   "source": [
    "# Create a TGraph from the x and y arrays\n",
    "graph = createTGraph(np.array(kpi_low), np.array(kpi_high), title=r\"$D^{+} \\rightarrow K^{-}\\pi^{+}\\pi^{+}$\", xtitle=\"m^{2}(K#pi)_{low} [GeV^{2}]\", ytitle=\"m^{2}(K#pi)_{high} [GeV^{2}]\")\n",
    "\n",
    "# Draw the TGraph\n",
    "c = ROOT.TCanvas(\"c\", \"c\", 600, 600)\n",
    "graph.SetMarkerColor(1) # Black\n",
    "graph.SetMarkerStyle(1)\n",
    "graph.Draw(\"AP\")\n",
    "c.Draw()"
   ]
  },
  {
   "cell_type": "code",
   "execution_count": 10,
   "id": "e976280c-fb20-478c-a6ab-5389ee7bdb67",
   "metadata": {},
   "outputs": [
    {
     "data": {
      "image/png": "[encoded data removed]",
      "text/plain": [
       "<IPython.core.display.Image object>"
      ]
     },
     "metadata": {},
     "output_type": "display_data"
    }
   ],
   "source": [
    "nbinsx = 100\n",
    "xmin = np.min(kpi_low)\n",
    "xmax = np.max(kpi_low)\n",
    "\n",
    "nbinsy = 100\n",
    "ymin = np.min(kpi_high)\n",
    "ymax = np.max(kpi_high)\n",
    "\n",
    "hist = create_2dhistogram(kpi_low, kpi_high, r\"$D^{+} \\rightarrow K^{-}\\pi^{+}\\pi^{+}$\", \"m^{2}(K#pi)_{low} [GeV^{2}]\", \"m^{2}(K#pi)_{high} [GeV^{2}]'\", 100, np.min(kpi_low), np.max(kpi_low), 100, np.min(kpi_high), np.max(kpi_high))\n",
    "canvas = ROOT.TCanvas(\"canvas\", \"Canvas Title\", 600, 600)\n",
    "\n",
    "hist.SetOption(\"BOX\")\n",
    "hist.SetLineColor(ROOT.kBlack)\n",
    "hist.GetYaxis().SetRangeUser(0, 3)\n",
    "hist.GetXaxis().SetRangeUser(0, 3)\n",
    "hist.Draw()\n",
    "canvas.Draw()"
   ]
  },
  {
   "cell_type": "code",
   "execution_count": 16,
   "id": "ae9e0a0b-3e77-4af5-a506-61e0b9894db8",
   "metadata": {},
   "outputs": [
    {
     "data": {
      "text/plain": [
       "Text(0, 0.5, 'Counts')"
      ]
     },
     "execution_count": 16,
     "metadata": {},
     "output_type": "execute_result"
    },
    {
     "data": {
      "image/png": "[encoded data removed]",
      "text/plain": [
       "<Figure size 640x480 with 1 Axes>"
      ]
     },
     "metadata": {},
     "output_type": "display_data"
    }
   ],
   "source": [
    "k_pis = kpi_low\n",
    "\n",
    "for i in kpi_high:\n",
    "    k_pis.append(i)\n",
    "\n",
    "plt.hist(k_pis, bins = 150);\n",
    "plt.xlabel(r\"$m^{2}$ $(K^{-} \\pi^{+})$ $[GeV^{2}]$\")\n",
    "plt.ylabel(\"Counts\")"
   ]
  },
  {
   "cell_type": "markdown",
   "id": "41a73444-bf83-4b2d-bdee-36fa0ce018b1",
   "metadata": {},
   "source": [
    "-------------------------------------------------------------------------------- $\\lambda_C^+$ Analysis Starts here --------------------------------------------------------------------------------"
   ]
  },
  {
   "cell_type": "code",
   "execution_count": 17,
   "id": "8006a66c-3ced-46bb-a7a6-8140c15dd0ef",
   "metadata": {},
   "outputs": [
    {
     "data": {
      "text/html": [
       "<div>\n",
       "<style scoped>\n",
       "    .dataframe tbody tr th:only-of-type {\n",
       "        vertical-align: middle;\n",
       "    }\n",
       "\n",
       "    .dataframe tbody tr th {\n",
       "        vertical-align: top;\n",
       "    }\n",
       "\n",
       "    .dataframe thead th {\n",
       "        text-align: right;\n",
       "    }\n",
       "</style>\n",
       "<table border=\"1\" class=\"dataframe\">\n",
       "  <thead>\n",
       "    <tr style=\"text-align: right;\">\n",
       "      <th></th>\n",
       "      <th>TruthParticles_Selected_daughterInfoT__pt</th>\n",
       "      <th>TruthParticles_Selected_daughterInfoT__phi</th>\n",
       "      <th>TruthParticles_Selected_daughterInfoT__eta</th>\n",
       "      <th>TruthParticles_Selected_daughterInfoT__pdgId</th>\n",
       "    </tr>\n",
       "  </thead>\n",
       "  <tbody>\n",
       "    <tr>\n",
       "      <th>0</th>\n",
       "      <td>([6.130839824676514, 3.433704376220703, 6.1246...</td>\n",
       "      <td>((-2.106452, -2.2067764, -2.202212))</td>\n",
       "      <td>((-2.0240848, -2.0725062, -1.8902587))</td>\n",
       "      <td>((2212, -321, 211))</td>\n",
       "    </tr>\n",
       "    <tr>\n",
       "      <th>1</th>\n",
       "      <td>([3.8561272621154785, 0.2663457691669464, 3.64...</td>\n",
       "      <td>((2.2966359, 2.0602465, 1.9333525))</td>\n",
       "      <td>((-0.3594819, 0.124157935, -0.2871962))</td>\n",
       "      <td>((2212, 211, -321))</td>\n",
       "    </tr>\n",
       "    <tr>\n",
       "      <th>2</th>\n",
       "      <td>([2.729074001312256, 4.162532806396484, 0.5299...</td>\n",
       "      <td>((2.7226782, 2.510235, 2.51115))</td>\n",
       "      <td>((-0.1434682, 0.19480081, 0.26785102))</td>\n",
       "      <td>((2212, -321, 211))</td>\n",
       "    </tr>\n",
       "    <tr>\n",
       "      <th>3</th>\n",
       "      <td>([61.98374938964844, 28.00506591796875, 10.250...</td>\n",
       "      <td>((-2.6987386, -2.6988401, -2.6461754))</td>\n",
       "      <td>((-0.29596475, -0.28630117, -0.28976095))</td>\n",
       "      <td>((2212, -321, 211))</td>\n",
       "    </tr>\n",
       "    <tr>\n",
       "      <th>4</th>\n",
       "      <td>([7.744321346282959, 2.3987538814544678, 0.841...</td>\n",
       "      <td>((0.18166617, 0.054863453, 0.004921999))</td>\n",
       "      <td>((-0.20847009, -0.22605774, -0.47194183))</td>\n",
       "      <td>((2212, 211, -321))</td>\n",
       "    </tr>\n",
       "    <tr>\n",
       "      <th>...</th>\n",
       "      <td>...</td>\n",
       "      <td>...</td>\n",
       "      <td>...</td>\n",
       "      <td>...</td>\n",
       "    </tr>\n",
       "    <tr>\n",
       "      <th>9995</th>\n",
       "      <td>([2.5323121547698975, 0.9172168374061584, 2.03...</td>\n",
       "      <td>((-2.5774815, -2.6905293, -2.4432852))</td>\n",
       "      <td>((1.0106094, 0.86975276, 0.4058634))</td>\n",
       "      <td>((2212, 211, -321))</td>\n",
       "    </tr>\n",
       "    <tr>\n",
       "      <th>9996</th>\n",
       "      <td>([5.4393815994262695, 2.846998691558838, 3.596...</td>\n",
       "      <td>((1.097283, 1.2157772, 1.3903624))</td>\n",
       "      <td>((-2.1886082, -2.152903, -2.1724207))</td>\n",
       "      <td>((2212, -321, 211))</td>\n",
       "    </tr>\n",
       "    <tr>\n",
       "      <th>9997</th>\n",
       "      <td>([5.440489768981934, 1.408139944076538, 1.0911...</td>\n",
       "      <td>((-1.9652525, -1.9222608, -2.3743248))</td>\n",
       "      <td>((-0.26092234, -0.25988173, -0.64190143))</td>\n",
       "      <td>((2212, -321, 211))</td>\n",
       "    </tr>\n",
       "    <tr>\n",
       "      <th>9998</th>\n",
       "      <td>([7.5288848876953125, 3.180478572845459, 4.519...</td>\n",
       "      <td>((2.6085212, 2.565044, 2.5214121))</td>\n",
       "      <td>((-1.751375, -1.6975358, -1.9437438))</td>\n",
       "      <td>((2212, 211, -321))</td>\n",
       "    </tr>\n",
       "    <tr>\n",
       "      <th>9999</th>\n",
       "      <td>([5.589284896850586, 4.533123016357422, 1.3975...</td>\n",
       "      <td>((2.1126244, 1.871682, 1.8588245))</td>\n",
       "      <td>((-0.37155217, -0.3740094, -0.5871116))</td>\n",
       "      <td>((2212, -321, 211))</td>\n",
       "    </tr>\n",
       "  </tbody>\n",
       "</table>\n",
       "<p>10000 rows × 4 columns</p>\n",
       "</div>"
      ],
      "text/plain": [
       "              TruthParticles_Selected_daughterInfoT__pt  \\\n",
       "0     ([6.130839824676514, 3.433704376220703, 6.1246...   \n",
       "1     ([3.8561272621154785, 0.2663457691669464, 3.64...   \n",
       "2     ([2.729074001312256, 4.162532806396484, 0.5299...   \n",
       "3     ([61.98374938964844, 28.00506591796875, 10.250...   \n",
       "4     ([7.744321346282959, 2.3987538814544678, 0.841...   \n",
       "...                                                 ...   \n",
       "9995  ([2.5323121547698975, 0.9172168374061584, 2.03...   \n",
       "9996  ([5.4393815994262695, 2.846998691558838, 3.596...   \n",
       "9997  ([5.440489768981934, 1.408139944076538, 1.0911...   \n",
       "9998  ([7.5288848876953125, 3.180478572845459, 4.519...   \n",
       "9999  ([5.589284896850586, 4.533123016357422, 1.3975...   \n",
       "\n",
       "     TruthParticles_Selected_daughterInfoT__phi  \\\n",
       "0          ((-2.106452, -2.2067764, -2.202212))   \n",
       "1           ((2.2966359, 2.0602465, 1.9333525))   \n",
       "2              ((2.7226782, 2.510235, 2.51115))   \n",
       "3        ((-2.6987386, -2.6988401, -2.6461754))   \n",
       "4      ((0.18166617, 0.054863453, 0.004921999))   \n",
       "...                                         ...   \n",
       "9995     ((-2.5774815, -2.6905293, -2.4432852))   \n",
       "9996         ((1.097283, 1.2157772, 1.3903624))   \n",
       "9997     ((-1.9652525, -1.9222608, -2.3743248))   \n",
       "9998         ((2.6085212, 2.565044, 2.5214121))   \n",
       "9999         ((2.1126244, 1.871682, 1.8588245))   \n",
       "\n",
       "     TruthParticles_Selected_daughterInfoT__eta  \\\n",
       "0        ((-2.0240848, -2.0725062, -1.8902587))   \n",
       "1       ((-0.3594819, 0.124157935, -0.2871962))   \n",
       "2        ((-0.1434682, 0.19480081, 0.26785102))   \n",
       "3     ((-0.29596475, -0.28630117, -0.28976095))   \n",
       "4     ((-0.20847009, -0.22605774, -0.47194183))   \n",
       "...                                         ...   \n",
       "9995       ((1.0106094, 0.86975276, 0.4058634))   \n",
       "9996      ((-2.1886082, -2.152903, -2.1724207))   \n",
       "9997  ((-0.26092234, -0.25988173, -0.64190143))   \n",
       "9998      ((-1.751375, -1.6975358, -1.9437438))   \n",
       "9999    ((-0.37155217, -0.3740094, -0.5871116))   \n",
       "\n",
       "     TruthParticles_Selected_daughterInfoT__pdgId  \n",
       "0                             ((2212, -321, 211))  \n",
       "1                             ((2212, 211, -321))  \n",
       "2                             ((2212, -321, 211))  \n",
       "3                             ((2212, -321, 211))  \n",
       "4                             ((2212, 211, -321))  \n",
       "...                                           ...  \n",
       "9995                          ((2212, 211, -321))  \n",
       "9996                          ((2212, -321, 211))  \n",
       "9997                          ((2212, -321, 211))  \n",
       "9998                          ((2212, 211, -321))  \n",
       "9999                          ((2212, -321, 211))  \n",
       "\n",
       "[10000 rows x 4 columns]"
      ]
     },
     "execution_count": 17,
     "metadata": {},
     "output_type": "execute_result"
    }
   ],
   "source": [
    "TTree3 = process_ntuple(dir_path, files[1])\n",
    "\n",
    "lambda_tdf = show(0, TTree3, ['TruthParticles_Selected_daughterInfoT__pt', 'TruthParticles_Selected_daughterInfoT__phi','TruthParticles_Selected_daughterInfoT__eta', 'TruthParticles_Selected_daughterInfoT__pdgId'], 10000)\n",
    "lambda_tdf = remove_empty(lambda_tdf)\n",
    "\n",
    "lambda_tdf[\"TruthParticles_Selected_daughterInfoT__pt\"] = lambda_tdf[\"TruthParticles_Selected_daughterInfoT__pt\"].apply(divide_by_1000)\n",
    "\n",
    "lambda_tdf"
   ]
  },
  {
   "cell_type": "code",
   "execution_count": 18,
   "id": "9e74ab7b-4256-4f60-9b1a-cdfe44393140",
   "metadata": {},
   "outputs": [
    {
     "data": {
      "text/plain": [
       "(30000,)"
      ]
     },
     "execution_count": 18,
     "metadata": {},
     "output_type": "execute_result"
    }
   ],
   "source": [
    "lambda_TLorentzVectors = createTLorentzVectors(lambda_tdf)\n",
    "\n",
    "reshaped_list2 = [lambda_TLorentzVectors[i:i+3] for i in range(0, len(lambda_TLorentzVectors), 3)]\n",
    "np.shape(lambda_TLorentzVectors)"
   ]
  },
  {
   "cell_type": "code",
   "execution_count": 19,
   "id": "236b33fb-3836-4282-a8ea-6547c908f400",
   "metadata": {},
   "outputs": [],
   "source": [
    "pk_list = []\n",
    "kpi_list = []\n",
    "\n",
    "#find the ordering of the Loretnz Vectors\n",
    "\n",
    "p_LorentzVectors = []\n",
    "k_LorentzVectors = []\n",
    "pi_LorentzVectors = []\n",
    "for i in lambda_TLorentzVectors:\n",
    "    if round(i.M(), 3) == p_mass:\n",
    "        p_LorentzVectors.append(i)\n",
    "    elif round(i.M(), 6) == k_mass:\n",
    "        k_LorentzVectors.append(i)\n",
    "    elif round(i.M(), 4) == 0.1396:\n",
    "        pi_LorentzVectors.append(i)\n",
    "        \n",
    "for i in range(len(p_LorentzVectors)):\n",
    "    pk = inv_mass_squared(p_LorentzVectors[i], k_LorentzVectors[i])\n",
    "    kpi = inv_mass_squared(k_LorentzVectors[i], pi_LorentzVectors[i])\n",
    "    pk_list.append(pk)\n",
    "    kpi_list.append(kpi)"
   ]
  },
  {
   "cell_type": "code",
   "execution_count": 20,
   "id": "2fa50afc-16a1-43d6-af85-e09aa1968cd4",
   "metadata": {},
   "outputs": [],
   "source": [
    "#scatter_plot(kpi_list, pk_list, \"$\\Lambda_C^+$ Dalitz Plot\", r'$m^2(K^+\\pi^-)$ low', r'$m^2(pK^-)$ high', .3)"
   ]
  },
  {
   "cell_type": "code",
   "execution_count": 21,
   "id": "9a3c2e97-2fa5-4ca5-8e2e-8ee8bd22d07e",
   "metadata": {},
   "outputs": [
    {
     "name": "stderr",
     "output_type": "stream",
     "text": [
      "Warning in <TCanvas::Constructor>: Deleting canvas with same name: c\n",
      "Warning in <TROOT::Append>: Replacing existing TH1: hist (Potential memory leak).\n",
      "Warning in <TCanvas::Constructor>: Deleting canvas with same name: canvas\n"
     ]
    },
    {
     "data": {
      "image/png": "[encoded data removed]",
      "text/plain": [
       "<IPython.core.display.Image object>"
      ]
     },
     "metadata": {},
     "output_type": "display_data"
    },
    {
     "data": {
      "image/png": "[encoded data removed]",
      "text/plain": [
       "<IPython.core.display.Image object>"
      ]
     },
     "metadata": {},
     "output_type": "display_data"
    }
   ],
   "source": [
    "graph = createTGraph(np.array(kpi_list), np.array(pk_list), title=r\"$\\Lambda_C^{+} \\rightarrow p^{+}K^{-}\\pi^{+}$\", xtitle=\"m^{2}(K^{-}\\pi^{+}) [GeV^{2}]\", ytitle=\"m^{2}(p^{+}K^{-}) [GeV^{2}]\")\n",
    "\n",
    "# Draw the TGraph\n",
    "c = ROOT.TCanvas(\"c\", \"c\", 600, 600)\n",
    "graph.SetMarkerColor(1) # Black\n",
    "graph.SetMarkerStyle(1)\n",
    "graph.Draw(\"AP\")\n",
    "c.Draw()\n",
    "\n",
    "hist = create_2dhistogram(kpi_list, pk_list, r\"$\\Lambda_C^{+} \\rightarrow p^{+}K^{-}\\pi^{+}$\", \"m^{2}(K^{-}\\pi^{+}) [GeV^{2}]\", \"m^{2}(p^{+}K^{-}) [GeV^{2}]\", 100, np.min(kpi_list), np.max(kpi_list), 100, np.min(pk_list), np.max(pk_list))\n",
    "canvas = ROOT.TCanvas(\"canvas\", \"Canvas Title\", 600, 600)\n",
    "\n",
    "hist.SetOption(\"BOX\")\n",
    "hist.SetLineColor(ROOT.kBlack)\n",
    "hist.GetYaxis().SetRangeUser(0, 10)\n",
    "hist.GetXaxis().SetRangeUser(0, 10)\n",
    "hist.Draw()\n",
    "canvas.Draw()"
   ]
  },
  {
   "cell_type": "code",
   "execution_count": null,
   "id": "48b01b8b-3156-4fce-8d4b-1db8e98f6c1c",
   "metadata": {},
   "outputs": [],
   "source": []
  }
 ],
 "metadata": {
  "kernelspec": {
   "display_name": "cernROOT",
   "language": "python",
   "name": "cernroot"
  },
  "language_info": {
   "codemirror_mode": {
    "name": "ipython",
    "version": 3
   },
   "file_extension": ".py",
   "mimetype": "text/x-python",
   "name": "python",
   "nbconvert_exporter": "python",
   "pygments_lexer": "ipython3",
   "version": "3.11.0"
  }
 },
 "nbformat": 4,
 "nbformat_minor": 5
}
