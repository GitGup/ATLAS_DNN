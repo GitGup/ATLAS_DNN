{
 "cells": [
  {
   "cell_type": "code",
   "execution_count": 2,
   "id": "5e82155d-d642-4276-9754-8d54a1a4b3e8",
   "metadata": {},
   "outputs": [
    {
     "name": "stdout",
     "output_type": "stream",
     "text": [
      "Welcome to JupyROOT 6.18/00\n"
     ]
    }
   ],
   "source": [
    "import ROOT\n",
    "import numpy as np\n",
    "import pandas as pd"
   ]
  },
  {
   "cell_type": "code",
   "execution_count": 26,
   "id": "1bf7bc9d-ae98-41a1-9396-4ab71aca89eb",
   "metadata": {},
   "outputs": [],
   "source": [
    "def load_data(data):\n",
    "    df = pd.read_csv(data)\n",
    "\n",
    "    for col in df.columns:\n",
    "        df[col] = df[col].apply(lambda x: [float(i) for i in x.strip('[]').split(',')])\n",
    "    return df"
   ]
  },
  {
   "cell_type": "code",
   "execution_count": 29,
   "id": "821f8f39-b894-4437-9d5e-88d412d7b869",
   "metadata": {},
   "outputs": [],
   "source": [
    "df = load_data(\"data.csv\")"
   ]
  },
  {
   "cell_type": "code",
   "execution_count": 30,
   "id": "8c1cf61b-a49f-48b9-9a77-b48ec6fab594",
   "metadata": {},
   "outputs": [],
   "source": [
    "DMesons_pt = []\n",
    "for pt in df['DMesons_pt']:\n",
    "    DMesons_pt.extend(pt)"
   ]
  },
  {
   "cell_type": "code",
   "execution_count": 31,
   "id": "08ffbea0-664c-4376-96bf-c78013a9b7de",
   "metadata": {},
   "outputs": [
    {
     "data": {
      "image/png": "[encoded data removed]",
      "text/plain": [
       "<IPython.core.display.Image object>"
      ]
     },
     "metadata": {},
     "output_type": "display_data"
    }
   ],
   "source": [
    "#Example ROOT plot\n",
    "# data = np.random.normal(size=1000)\n",
    "\n",
    "# hist = ROOT.TH1F(\"hist\", \"Example histogram\", 50, -5, 5)\n",
    "\n",
    "# for x in data:\n",
    "#     hist.Fill(x)\n",
    "\n",
    "# canvas = ROOT.TCanvas(\"canvas\", \"Example histogram\", 800, 600)\n",
    "# hist.Draw()\n",
    "# canvas.Draw()\n",
    "\n",
    "nbins = 50\n",
    "xmin = np.min(df[\"DMesons_pt\"])[0]\n",
    "xmax = np.max(df[\"DMesons_pt\"])[0]\n",
    "\n",
    "hist = ROOT.TH1F(\"hist_pt\", \"DMesons_pt Histogram\", nbins, xmin, xmax)\n",
    "\n",
    "for i in range(len(df[\"DMesons_pt\"])):\n",
    "    pt = df[\"DMesons_pt\"][i]\n",
    "    for val in pt:\n",
    "        hist.Fill(val)\n",
    "\n",
    "# Draw the histogram\n",
    "c = ROOT.TCanvas(\"c\", \"c\", 800, 600)\n",
    "hist.Draw()\n",
    "c.Draw()"
   ]
  },
  {
   "cell_type": "code",
   "execution_count": 32,
   "id": "2e7fcd94-c891-4569-8646-7aa2bccbbbd7",
   "metadata": {},
   "outputs": [],
   "source": [
    "DMesonList = []\n",
    "\n",
    "for index, row in df.iterrows():\n",
    "    pt = row['DMesons_pt']\n",
    "    eta = row['DMesons_eta']\n",
    "    phi = row['DMesons_phi']\n",
    "    m = row['DMesons_m']\n",
    "    \n",
    "    #TLorentzVector object for the current row\n",
    "    p = ROOT.TLorentzVector()\n",
    "    p.SetPtEtaPhiM(df['DMesons_pt'][0][0], df['DMesons_eta'][0][0], df['DMesons_phi'][0][0], df['DMesons_m'][0][0])\n",
    "    \n",
    "    # for i in range(1, len(pt)):\n",
    "    #     p += ROOT.TLorentzVector().SetPtEtaPhiM(pt[i], eta[i], phi[i], m[i])\n",
    "    \n",
    "    DMesonList.append(p)\n"
   ]
  },
  {
   "cell_type": "code",
   "execution_count": 45,
   "id": "b446b732-7e32-4a7a-a2f0-23cc33e53239",
   "metadata": {},
   "outputs": [],
   "source": [
    "inv_mass_squared = lambda p1, p2: (p1 + p2).M2()\n",
    "\n",
    "TLorentzVectorsInvMass = []\n",
    "for i in range(len(DMesonList[:10000])):\n",
    "    p1 = DMesonList[i]\n",
    "    m2 = inv_mass_squared(p1, p1)\n",
    "    TLorentzVectorsInvMass.append(m2)\n"
   ]
  },
  {
   "cell_type": "code",
   "execution_count": 46,
   "id": "4fbc9bfe-40b6-416c-b616-92e7f8a7e126",
   "metadata": {},
   "outputs": [
    {
     "data": {
      "text/plain": [
       "array([ 3720.16186523,  3720.16186523,  3720.16186523,  3720.16186523,\n",
       "        3720.16186523,  3720.16186523,  3720.16186523,  3720.16186523,\n",
       "        3720.16186523,  3720.16186523])"
      ]
     },
     "execution_count": 46,
     "metadata": {},
     "output_type": "execute_result"
    }
   ],
   "source": [
    "np.sqrt(np.array(TLorentzVectorsInvMass[:10]))"
   ]
  },
  {
   "cell_type": "code",
   "execution_count": null,
   "id": "cfd18dd4-611e-4b14-9ff5-e21aeee52e73",
   "metadata": {},
   "outputs": [],
   "source": []
  }
 ],
 "metadata": {
  "kernelspec": {
   "display_name": "PyROOT - Python3",
   "language": "python",
   "name": "pyroot3"
  },
  "language_info": {
   "codemirror_mode": {
    "name": "ipython",
    "version": 3
   },
   "file_extension": ".py",
   "mimetype": "text/x-python",
   "name": "python",
   "nbconvert_exporter": "python",
   "pygments_lexer": "ipython3",
   "version": "3.6.8"
  }
 },
 "nbformat": 4,
 "nbformat_minor": 5
}
