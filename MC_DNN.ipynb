{
 "cells": [
  {
   "cell_type": "code",
   "execution_count": 1,
   "id": "31a7a761-3ae0-4c84-9f77-ec0c8ec1b6b7",
   "metadata": {},
   "outputs": [
    {
     "name": "stdout",
     "output_type": "stream",
     "text": [
      "Welcome to JupyROOT 6.28/00\n"
     ]
    },
    {
     "name": "stderr",
     "output_type": "stream",
     "text": [
      "2023-04-22 21:02:46.656922: I tensorflow/core/platform/cpu_feature_guard.cc:182] This TensorFlow binary is optimized to use available CPU instructions in performance-critical operations.\n",
      "To enable the following instructions: AVX2 FMA, in other operations, rebuild TensorFlow with the appropriate compiler flags.\n",
      "2023-04-22 21:02:47.361346: W tensorflow/compiler/tf2tensorrt/utils/py_utils.cc:38] TF-TRT Warning: Could not find TensorRT\n"
     ]
    }
   ],
   "source": [
    "from common import *\n",
    "from process_ntuples import *\n",
    "from process_df import *\n",
    "from plotting import *\n",
    "from cuts import apply_cuts, apply_pt_cut\n",
    "import matplotlib.pyplot as plt\n",
    "import pickle\n",
    "import time\n",
    "\n",
    "import tensorflow as tf\n",
    "from tensorflow.keras import Model\n",
    "from keras.models import Sequential\n",
    "from keras.layers import Dense, Dropout, Activation\n",
    "from keras import layers\n",
    "\n",
    "from sklearn.preprocessing import StandardScaler\n",
    "from sklearn.model_selection import train_test_split\n",
    "from sklearn.metrics import roc_curve\n",
    "\n",
    "from tensorflow.keras.callbacks import EarlyStopping\n",
    "\n",
    "#weights and biases imports\n",
    "import wandb\n",
    "from wandb.keras import WandbMetricsLogger, WandbModelCheckpoint, WandbCallback"
   ]
  },
  {
   "cell_type": "markdown",
   "id": "c874c9a6-beab-488b-8a31-9fe628c93d4e",
   "metadata": {},
   "source": [
    "$D^{+}$ : 411\n",
    "\n",
    "$\\Lambda_C^{+}$ : 4122\n",
    "\n",
    "Apply Cuts Fiducial Region cuts ($𝐷^{+}$ $𝑝_T$ > 8 GeV, |𝜂| < 2.2). ***See cuts.py on how the cuts are applied***"
   ]
  },
  {
   "cell_type": "code",
   "execution_count": 2,
   "id": "b01cad53-02f2-432b-aa7a-a88ae45eb0d2",
   "metadata": {},
   "outputs": [
    {
     "name": "stdout",
     "output_type": "stream",
     "text": [
      "[PhysicalDevice(name='/physical_device:GPU:0', device_type='GPU'), PhysicalDevice(name='/physical_device:GPU:1', device_type='GPU'), PhysicalDevice(name='/physical_device:GPU:2', device_type='GPU'), PhysicalDevice(name='/physical_device:GPU:3', device_type='GPU')]\n",
      "Num GPUs Available:  4\n"
     ]
    }
   ],
   "source": [
    "print(tf.config.list_physical_devices('GPU'))\n",
    "# Check if tensorflow is using GPU\n",
    "print(\"Num GPUs Available: \", len(tf.config.list_physical_devices('GPU')))"
   ]
  },
  {
   "cell_type": "code",
   "execution_count": 3,
   "id": "04c3b3b8-44f1-4c2e-b001-900d504b7e41",
   "metadata": {},
   "outputs": [
    {
     "name": "stdout",
     "output_type": "stream",
     "text": [
      "['CharmAnalysis.mc.ForcedDecay.Dplus.tree.root', 'CharmAnalysis.mc.ForcedDecay.LabmdaC.tree.root']\n"
     ]
    }
   ],
   "source": [
    "dir_path = \"/global/cfs/cdirs/atlas/gottino/Charm/Analysis/run_batch_gup/ntuples\"\n",
    "\n",
    "files = os.listdir(dir_path)\n",
    "\n",
    "DMesonsTTree = process_ntuple(dir_path, files[0])\n",
    "LambdaMesonsTTree = process_ntuple(dir_path, files[1])\n",
    "\n",
    "branches = [\"DMesons_pt\", \"DMesons_eta\", \"DMesons_m\", \"DMesons_fitOutput__Lxy\", \"DMesons_costhetastar\", \"DMesons_pdgId\", \n",
    "            \"DMesons_daughterInfo__pt\", \"DMesons_daughterInfo__eta\", \"DMesons_daughterInfo__phi\", \"DMesons_daughterInfo__pdgId\"]\n",
    "\n",
    "print(files)"
   ]
  },
  {
   "cell_type": "code",
   "execution_count": 4,
   "id": "93960a4e-eb59-4c90-8c87-7e50ad051eb5",
   "metadata": {},
   "outputs": [],
   "source": [
    "# DMesons_df = generate_df(DMesonsTTree, branches, 0)\n",
    "# DMesons_df = apply_cuts(DMesons_df)\n",
    "# DMesons_df"
   ]
  },
  {
   "cell_type": "code",
   "execution_count": 9,
   "id": "a288cb36-8db5-4e80-a86d-d89fdff2292c",
   "metadata": {},
   "outputs": [],
   "source": [
    "# Lambda_df = generate_df(LambdaMesonsTTree, branches, 0)\n",
    "# Lambda_df = apply_cuts(Lambda_df)\n",
    "# Lambda_df"
   ]
  },
  {
   "cell_type": "code",
   "execution_count": null,
   "id": "968b3e6a-1446-4210-826a-efe50d8aa2e3",
   "metadata": {},
   "outputs": [],
   "source": [
    "DMesons_df = load(\"DMesons_df\")\n",
    "Lambda_df = load(\"Lambda_df\")"
   ]
  },
  {
   "cell_type": "code",
   "execution_count": 7,
   "id": "366f6eec-ded2-4ca5-b5ed-51021373694d",
   "metadata": {},
   "outputs": [
    {
     "name": "stdout",
     "output_type": "stream",
     "text": [
      "Removed 817956 duplicate particles\n",
      "Removed 182504 duplicate particles\n"
     ]
    }
   ],
   "source": [
    "DMesons_df = remove_duplicates(DMesons_df)\n",
    "Lambda_df = remove_duplicates(Lambda_df)"
   ]
  },
  {
   "cell_type": "code",
   "execution_count": 8,
   "id": "25c9c9bd-be19-42c2-8cf4-a8fab44086b1",
   "metadata": {},
   "outputs": [],
   "source": [
    "save(DMesons_df, \"DMesons_df\")\n",
    "save(Lambda_df, \"Lambda_df\")"
   ]
  },
  {
   "cell_type": "code",
   "execution_count": 9,
   "id": "598eba32-1950-4807-980b-739a9ef1bdbf",
   "metadata": {},
   "outputs": [],
   "source": [
    "DMesons_df = DMesons_df.head(1000000)\n",
    "Lambda_df = Lambda_df.head(1000000)"
   ]
  },
  {
   "cell_type": "code",
   "execution_count": 13,
   "id": "d8c974d6-2036-43bc-b916-cbe342f23bf0",
   "metadata": {},
   "outputs": [],
   "source": [
    "#separates each particle of the event into it's own event in a new data frame (for training)\n",
    "def separate(df):\n",
    "    dfs = []\n",
    "    for index, row in df.iterrows():\n",
    "\n",
    "        #reco Ds\n",
    "        pts = row['DMesons_pt']\n",
    "        etas = row['DMesons_eta']\n",
    "        ms = row['DMesons_m']\n",
    "        lxys = row['DMesons_fitOutput__Lxy']\n",
    "        costhetastars = row['DMesons_costhetastar']\n",
    "        pdgids = row[\"DMesons_pdgId\"]\n",
    "\n",
    "        #reco Ds Daughter info\n",
    "        daughter_pts = row[\"DMesons_daughterInfo__pt\"]\n",
    "        daughter_etas = row[\"DMesons_daughterInfo__eta\"]\n",
    "        daughter_phis = row[\"DMesons_daughterInfo__phi\"]\n",
    "        daughter_pdgIds = row[\"DMesons_daughterInfo__pdgId\"]\n",
    "\n",
    "        d = {df.columns[0]: pts, df.columns[1]: etas, df.columns[2]: ms, df.columns[3]: lxys, \n",
    "             df.columns[4]: costhetastars, df.columns[5]: pdgids, \n",
    "\n",
    "             df.columns[6]: daughter_pts, df.columns[7]: daughter_etas, df.columns[8]: daughter_phis, \n",
    "             df.columns[9]: daughter_pdgIds}\n",
    "        df = pd.DataFrame(data=d)\n",
    "\n",
    "        dfs.append(df)\n",
    "\n",
    "    df = pd.concat(dfs)\n",
    "    df = df.reset_index(drop = True)\n",
    "    return df"
   ]
  },
  {
   "cell_type": "code",
   "execution_count": 14,
   "id": "48126885-61c7-4d28-ba50-687dbf27e749",
   "metadata": {},
   "outputs": [],
   "source": [
    "DMesons_df = separate(DMesons_df)\n",
    "Lambda_df = separate(Lambda_df)"
   ]
  },
  {
   "cell_type": "code",
   "execution_count": 21,
   "id": "30846c9b-8726-48ac-82ac-f93783f9146a",
   "metadata": {},
   "outputs": [],
   "source": [
    "# save(DMesons_df, \"DMesons_df_separated\")\n",
    "# save(Lambda_df, \"Lambda_df_separated\")"
   ]
  },
  {
   "cell_type": "code",
   "execution_count": 17,
   "id": "e78e8c1d-1db4-4504-b650-612b34e5b7db",
   "metadata": {},
   "outputs": [
    {
     "data": {
      "text/html": [
       "<div>\n",
       "<style scoped>\n",
       "    .dataframe tbody tr th:only-of-type {\n",
       "        vertical-align: middle;\n",
       "    }\n",
       "\n",
       "    .dataframe tbody tr th {\n",
       "        vertical-align: top;\n",
       "    }\n",
       "\n",
       "    .dataframe thead th {\n",
       "        text-align: right;\n",
       "    }\n",
       "</style>\n",
       "<table border=\"1\" class=\"dataframe\">\n",
       "  <thead>\n",
       "    <tr style=\"text-align: right;\">\n",
       "      <th></th>\n",
       "      <th>DMesons_pt</th>\n",
       "      <th>DMesons_eta</th>\n",
       "      <th>DMesons_m</th>\n",
       "      <th>DMesons_fitOutput__Lxy</th>\n",
       "      <th>DMesons_costhetastar</th>\n",
       "      <th>DMesons_pdgId</th>\n",
       "      <th>DMesons_daughterInfo__pt</th>\n",
       "      <th>DMesons_daughterInfo__eta</th>\n",
       "      <th>DMesons_daughterInfo__phi</th>\n",
       "      <th>DMesons_daughterInfo__pdgId</th>\n",
       "    </tr>\n",
       "  </thead>\n",
       "  <tbody>\n",
       "    <tr>\n",
       "      <th>0</th>\n",
       "      <td>10.047125</td>\n",
       "      <td>0.081824</td>\n",
       "      <td>1862.417603</td>\n",
       "      <td>2.339530</td>\n",
       "      <td>0.254870</td>\n",
       "      <td>411</td>\n",
       "      <td>[6.094892978668213, 1.3074619770050049, 2.7334...</td>\n",
       "      <td>(0.15998553, 0.011107716, -0.0614343)</td>\n",
       "      <td>(2.6128821, 2.7195172, 2.9228168)</td>\n",
       "      <td>(-321, 211, 211)</td>\n",
       "    </tr>\n",
       "    <tr>\n",
       "      <th>1</th>\n",
       "      <td>18.993742</td>\n",
       "      <td>-1.661963</td>\n",
       "      <td>1853.906250</td>\n",
       "      <td>1.918414</td>\n",
       "      <td>-0.367302</td>\n",
       "      <td>411</td>\n",
       "      <td>[6.457057952880859, 5.970093250274658, 6.63757...</td>\n",
       "      <td>(-1.608788, -1.6307458, -1.7315177)</td>\n",
       "      <td>(-0.371787, -0.5164238, -0.4971406)</td>\n",
       "      <td>(-321, 211, 211)</td>\n",
       "    </tr>\n",
       "    <tr>\n",
       "      <th>2</th>\n",
       "      <td>18.993742</td>\n",
       "      <td>-1.661963</td>\n",
       "      <td>2398.886963</td>\n",
       "      <td>1.918414</td>\n",
       "      <td>-0.065073</td>\n",
       "      <td>4122</td>\n",
       "      <td>[6.605627059936523, 6.457057952880859, 5.96782...</td>\n",
       "      <td>(-1.7326077, -1.608788, -1.6305238)</td>\n",
       "      <td>(-0.49662885, -0.371787, -0.5161313)</td>\n",
       "      <td>(2212, -321, 211)</td>\n",
       "    </tr>\n",
       "    <tr>\n",
       "      <th>3</th>\n",
       "      <td>10.118494</td>\n",
       "      <td>0.041659</td>\n",
       "      <td>1874.203125</td>\n",
       "      <td>2.890126</td>\n",
       "      <td>0.068331</td>\n",
       "      <td>411</td>\n",
       "      <td>[3.7944977283477783, 3.3083105087280273, 3.065...</td>\n",
       "      <td>(-0.073717244, 0.22605924, -0.017923404)</td>\n",
       "      <td>(0.753864, 0.6827104, 0.920779)</td>\n",
       "      <td>(-321, 211, 211)</td>\n",
       "    </tr>\n",
       "    <tr>\n",
       "      <th>4</th>\n",
       "      <td>10.118494</td>\n",
       "      <td>0.041659</td>\n",
       "      <td>2468.180664</td>\n",
       "      <td>2.890126</td>\n",
       "      <td>0.427697</td>\n",
       "      <td>4122</td>\n",
       "      <td>[3.3083105087280273, 3.7944977283477783, 3.065...</td>\n",
       "      <td>(0.22605924, -0.073717244, -0.017923404)</td>\n",
       "      <td>(0.6827104, 0.753864, 0.920779)</td>\n",
       "      <td>(2212, -321, 211)</td>\n",
       "    </tr>\n",
       "    <tr>\n",
       "      <th>...</th>\n",
       "      <td>...</td>\n",
       "      <td>...</td>\n",
       "      <td>...</td>\n",
       "      <td>...</td>\n",
       "      <td>...</td>\n",
       "      <td>...</td>\n",
       "      <td>...</td>\n",
       "      <td>...</td>\n",
       "      <td>...</td>\n",
       "      <td>...</td>\n",
       "    </tr>\n",
       "    <tr>\n",
       "      <th>12311805</th>\n",
       "      <td>14.818177</td>\n",
       "      <td>-2.147933</td>\n",
       "      <td>1836.099731</td>\n",
       "      <td>2.027027</td>\n",
       "      <td>-0.971258</td>\n",
       "      <td>411</td>\n",
       "      <td>[1.9173336029052734, 2.842648983001709, 9.9930...</td>\n",
       "      <td>(-2.113649, -2.2985442, -2.1073382)</td>\n",
       "      <td>(0.43151262, 0.49383813, 0.481693)</td>\n",
       "      <td>(-321, 211, 211)</td>\n",
       "    </tr>\n",
       "    <tr>\n",
       "      <th>12311806</th>\n",
       "      <td>14.818177</td>\n",
       "      <td>-2.147933</td>\n",
       "      <td>2165.724121</td>\n",
       "      <td>2.027027</td>\n",
       "      <td>-0.951718</td>\n",
       "      <td>4122</td>\n",
       "      <td>[10.060656547546387, 1.9173336029052734, 2.895...</td>\n",
       "      <td>(-2.1074958, -2.113649, -2.2997785)</td>\n",
       "      <td>(0.48089376, 0.43151262, 0.4876941)</td>\n",
       "      <td>(2212, -321, 211)</td>\n",
       "    </tr>\n",
       "    <tr>\n",
       "      <th>12311807</th>\n",
       "      <td>39.381430</td>\n",
       "      <td>1.550356</td>\n",
       "      <td>2210.866699</td>\n",
       "      <td>0.170655</td>\n",
       "      <td>-0.332907</td>\n",
       "      <td>4122</td>\n",
       "      <td>[24.071563720703125, 10.633554458618164, 4.659...</td>\n",
       "      <td>(1.5733823, 1.5007609, 1.538371)</td>\n",
       "      <td>(2.7796612, 2.7453563, 2.716648)</td>\n",
       "      <td>(2212, -321, 211)</td>\n",
       "    </tr>\n",
       "    <tr>\n",
       "      <th>12311808</th>\n",
       "      <td>11.423040</td>\n",
       "      <td>-0.485724</td>\n",
       "      <td>1854.315796</td>\n",
       "      <td>1.397025</td>\n",
       "      <td>0.976994</td>\n",
       "      <td>411</td>\n",
       "      <td>[5.934463024139404, 3.874907970428467, 1.68537...</td>\n",
       "      <td>(-0.47340268, -0.5774017, -0.2857665)</td>\n",
       "      <td>(2.4528677, 2.554509, 2.2073567)</td>\n",
       "      <td>(-321, 211, 211)</td>\n",
       "    </tr>\n",
       "    <tr>\n",
       "      <th>12311809</th>\n",
       "      <td>11.423040</td>\n",
       "      <td>-0.485724</td>\n",
       "      <td>2423.545654</td>\n",
       "      <td>1.397025</td>\n",
       "      <td>0.989556</td>\n",
       "      <td>4122</td>\n",
       "      <td>[3.874907970428467, 5.934463024139404, 1.68537...</td>\n",
       "      <td>(-0.5774017, -0.47340268, -0.2857665)</td>\n",
       "      <td>(2.554509, 2.4528677, 2.2073567)</td>\n",
       "      <td>(2212, -321, 211)</td>\n",
       "    </tr>\n",
       "  </tbody>\n",
       "</table>\n",
       "<p>12311810 rows × 10 columns</p>\n",
       "</div>"
      ],
      "text/plain": [
       "          DMesons_pt  DMesons_eta    DMesons_m  DMesons_fitOutput__Lxy  \\\n",
       "0          10.047125     0.081824  1862.417603                2.339530   \n",
       "1          18.993742    -1.661963  1853.906250                1.918414   \n",
       "2          18.993742    -1.661963  2398.886963                1.918414   \n",
       "3          10.118494     0.041659  1874.203125                2.890126   \n",
       "4          10.118494     0.041659  2468.180664                2.890126   \n",
       "...              ...          ...          ...                     ...   \n",
       "12311805   14.818177    -2.147933  1836.099731                2.027027   \n",
       "12311806   14.818177    -2.147933  2165.724121                2.027027   \n",
       "12311807   39.381430     1.550356  2210.866699                0.170655   \n",
       "12311808   11.423040    -0.485724  1854.315796                1.397025   \n",
       "12311809   11.423040    -0.485724  2423.545654                1.397025   \n",
       "\n",
       "          DMesons_costhetastar  DMesons_pdgId  \\\n",
       "0                     0.254870            411   \n",
       "1                    -0.367302            411   \n",
       "2                    -0.065073           4122   \n",
       "3                     0.068331            411   \n",
       "4                     0.427697           4122   \n",
       "...                        ...            ...   \n",
       "12311805             -0.971258            411   \n",
       "12311806             -0.951718           4122   \n",
       "12311807             -0.332907           4122   \n",
       "12311808              0.976994            411   \n",
       "12311809              0.989556           4122   \n",
       "\n",
       "                                   DMesons_daughterInfo__pt  \\\n",
       "0         [6.094892978668213, 1.3074619770050049, 2.7334...   \n",
       "1         [6.457057952880859, 5.970093250274658, 6.63757...   \n",
       "2         [6.605627059936523, 6.457057952880859, 5.96782...   \n",
       "3         [3.7944977283477783, 3.3083105087280273, 3.065...   \n",
       "4         [3.3083105087280273, 3.7944977283477783, 3.065...   \n",
       "...                                                     ...   \n",
       "12311805  [1.9173336029052734, 2.842648983001709, 9.9930...   \n",
       "12311806  [10.060656547546387, 1.9173336029052734, 2.895...   \n",
       "12311807  [24.071563720703125, 10.633554458618164, 4.659...   \n",
       "12311808  [5.934463024139404, 3.874907970428467, 1.68537...   \n",
       "12311809  [3.874907970428467, 5.934463024139404, 1.68537...   \n",
       "\n",
       "                         DMesons_daughterInfo__eta  \\\n",
       "0            (0.15998553, 0.011107716, -0.0614343)   \n",
       "1              (-1.608788, -1.6307458, -1.7315177)   \n",
       "2              (-1.7326077, -1.608788, -1.6305238)   \n",
       "3         (-0.073717244, 0.22605924, -0.017923404)   \n",
       "4         (0.22605924, -0.073717244, -0.017923404)   \n",
       "...                                            ...   \n",
       "12311805       (-2.113649, -2.2985442, -2.1073382)   \n",
       "12311806       (-2.1074958, -2.113649, -2.2997785)   \n",
       "12311807          (1.5733823, 1.5007609, 1.538371)   \n",
       "12311808     (-0.47340268, -0.5774017, -0.2857665)   \n",
       "12311809     (-0.5774017, -0.47340268, -0.2857665)   \n",
       "\n",
       "                     DMesons_daughterInfo__phi DMesons_daughterInfo__pdgId  \n",
       "0            (2.6128821, 2.7195172, 2.9228168)            (-321, 211, 211)  \n",
       "1          (-0.371787, -0.5164238, -0.4971406)            (-321, 211, 211)  \n",
       "2         (-0.49662885, -0.371787, -0.5161313)           (2212, -321, 211)  \n",
       "3              (0.753864, 0.6827104, 0.920779)            (-321, 211, 211)  \n",
       "4              (0.6827104, 0.753864, 0.920779)           (2212, -321, 211)  \n",
       "...                                        ...                         ...  \n",
       "12311805    (0.43151262, 0.49383813, 0.481693)            (-321, 211, 211)  \n",
       "12311806   (0.48089376, 0.43151262, 0.4876941)           (2212, -321, 211)  \n",
       "12311807      (2.7796612, 2.7453563, 2.716648)           (2212, -321, 211)  \n",
       "12311808      (2.4528677, 2.554509, 2.2073567)            (-321, 211, 211)  \n",
       "12311809      (2.554509, 2.4528677, 2.2073567)           (2212, -321, 211)  \n",
       "\n",
       "[12311810 rows x 10 columns]"
      ]
     },
     "execution_count": 17,
     "metadata": {},
     "output_type": "execute_result"
    }
   ],
   "source": [
    "DMesons_df"
   ]
  },
  {
   "cell_type": "code",
   "execution_count": 59,
   "id": "cb8981e7-9eec-4d65-b4e0-00aac573cae2",
   "metadata": {},
   "outputs": [
    {
     "data": {
      "text/plain": [
       "3"
      ]
     },
     "execution_count": 59,
     "metadata": {},
     "output_type": "execute_result"
    }
   ],
   "source": [
    "DPlus = [-321, 211, 211]\n",
    "LambdaC = [2212, -321, 211]\n",
    "\n",
    "remove_lambda = []\n",
    "\n",
    "count = 0\n",
    "for index, row in DMesons_df.iterrows():\n",
    "    if count == 50:\n",
    "        break\n",
    "    count+=1\n",
    "    \n",
    "    pts = row['DMesons_daughterInfo__pt']\n",
    "    etas = row['DMesons_daughterInfo__eta']\n",
    "    phis = row['DMesons_daughterInfo__phi']\n",
    "    pdgids = row[\"DMesons_daughterInfo__pdgId\"]\n",
    "    \n",
    "    #loop through until the first lambda encountered\n",
    "    for i in range(len(pdgids) - 1):\n",
    "        #if there are multiple lambda baryons\n",
    "        if len(pdgids) > 2:\n",
    "            #stop at the first lambda and keep the higher proton pt valued lambda\n",
    "            if list(pdgids[i]) == LambdaC:\n",
    "                l1_pt, l2_pt = pts[i][0], pts[i + 1][0]\n",
    "                if (l1_pt > l2_pt):\n",
    "                    #Lambda 1's proton has higher pt\n",
    "                    remove_lambda.append((index, i + 1))\n",
    "                elif (l1_pt < l2_pt):\n",
    "                    #Lambda 2's proton has higher pt!\n",
    "                    remove_lambda.append((index, i))\n",
    "                else:\n",
    "                    raise Exception(\"Error: Are the proton pt vaules equal?\")\n",
    "                    \n",
    "len(remove_lambda)"
   ]
  },
  {
   "cell_type": "code",
   "execution_count": 24,
   "id": "b7707166-22b5-4f12-8dab-4bcf29a62005",
   "metadata": {},
   "outputs": [],
   "source": [
    "#takes tuples of shape (2,) / (index, column)\n",
    "def remove_particles_from_df(df, tuple_list):\n",
    "    for tup in tuple_list:\n",
    "        index, column = tup\n",
    "        print(index, column)\n",
    "        \n",
    "        new_df = df.copy()\n",
    "        for i in range(len(DMesons_df.iloc[index, 0][column]) + 1):\n",
    "            #new_df[\"DMesons_daughterInfo__pt\"] = new_df[\"DMesons_daughterInfo__pt\"].apply(lambda x: print(x))\n",
    "            val = new_df.iloc[index, i][column]\n",
    "            print(val)\n",
    "    df = df.drop(index, axis = 0)\n",
    "    return df\n",
    "#df = remove_particles_from_df(DMesons_df, remove_lambda)\n",
    "\n",
    "pd.set_option('display.max_rows', 10)"
   ]
  },
  {
   "cell_type": "code",
   "execution_count": 19,
   "id": "36ae71dc-fcfb-423f-bd81-1888fb07837f",
   "metadata": {},
   "outputs": [
    {
     "data": {
      "text/plain": [
       "(6280052, 6017574)"
      ]
     },
     "execution_count": 19,
     "metadata": {},
     "output_type": "execute_result"
    }
   ],
   "source": [
    "def count(df):\n",
    "    D = 0\n",
    "    Lambda = 0\n",
    "    for pdgId in df[\"DMesons_pdgId\"]:\n",
    "        if pdgId == 411 or pdgId == 0:\n",
    "            D+=1\n",
    "        elif pdgId == 4122 or pdgId == 1:\n",
    "            Lambda+=1\n",
    "    return D, Lambda\n",
    "\n",
    "count(DMesons_df)"
   ]
  },
  {
   "cell_type": "code",
   "execution_count": 35,
   "id": "9dca7972-7adc-403b-be80-d3941955501d",
   "metadata": {},
   "outputs": [],
   "source": [
    "# Read\n",
    "Lambda_only_4122 = load(\"Lambda_df_daughter_only_4122\")\n",
    "DMesons_only_411 = load(\"DMesons_daughter_only_4122\")"
   ]
  },
  {
   "cell_type": "code",
   "execution_count": null,
   "id": "a8b8202e-d878-43fe-b55a-0eeed2795b60",
   "metadata": {},
   "outputs": [],
   "source": [
    "# DMesons_only_411['DMesons_pdgId'] = DMesons_only_411['DMesons_pdgId'].replace({4122: 411})\n",
    "\n",
    "# DMesons_only_411"
   ]
  },
  {
   "cell_type": "code",
   "execution_count": 40,
   "id": "caaeb6d0-c468-4abf-b50f-2795bb3eec0e",
   "metadata": {},
   "outputs": [],
   "source": [
    "# Lambda_only_4122 = Lambda_only_4122.head(400000)\n",
    "# DMesons_only_411 = DMesons_only_411.head(400000)\n",
    "\n",
    "combined_df = pd.concat([Lambda_only_4122, DMesons_only_411], axis=0)\n",
    "\n",
    "# Shuffle the rows of the combined data frame\n",
    "shuffled_df = combined_df.sample(frac=1).reset_index(drop=True)"
   ]
  },
  {
   "cell_type": "code",
   "execution_count": 136,
   "id": "847b8bdc-9fc2-4dd7-8b08-a9988cc73f4f",
   "metadata": {},
   "outputs": [
    {
     "data": {
      "text/html": [
       "<div>\n",
       "<style scoped>\n",
       "    .dataframe tbody tr th:only-of-type {\n",
       "        vertical-align: middle;\n",
       "    }\n",
       "\n",
       "    .dataframe tbody tr th {\n",
       "        vertical-align: top;\n",
       "    }\n",
       "\n",
       "    .dataframe thead th {\n",
       "        text-align: right;\n",
       "    }\n",
       "</style>\n",
       "<table border=\"1\" class=\"dataframe\">\n",
       "  <thead>\n",
       "    <tr style=\"text-align: right;\">\n",
       "      <th></th>\n",
       "      <th>DMesons_pt</th>\n",
       "      <th>DMesons_eta</th>\n",
       "      <th>DMesons_fitOutput__Lxy</th>\n",
       "      <th>DMesons_costhetastar</th>\n",
       "      <th>DMesons_pdgId</th>\n",
       "      <th>DMesons_daughterInfo__pt</th>\n",
       "      <th>DMesons_daughterInfo__eta</th>\n",
       "      <th>DMesons_daughterInfo__phi</th>\n",
       "      <th>DMesons_daughterInfo__pdgId</th>\n",
       "      <th>particle_type</th>\n",
       "      <th>inv_mass1</th>\n",
       "    </tr>\n",
       "  </thead>\n",
       "  <tbody>\n",
       "    <tr>\n",
       "      <th>0</th>\n",
       "      <td>24.527068</td>\n",
       "      <td>1.131899</td>\n",
       "      <td>0.811323</td>\n",
       "      <td>-0.966063</td>\n",
       "      <td>0</td>\n",
       "      <td>[11.868159294128418, 4.692102909088135, 7.9855...</td>\n",
       "      <td>(1.1646894, 1.1318113, 1.0789925)</td>\n",
       "      <td>(0.6169152, 0.57123685, 0.5109106)</td>\n",
       "      <td>(2212, -321, 211)</td>\n",
       "      <td>only_411</td>\n",
       "      <td>None</td>\n",
       "    </tr>\n",
       "    <tr>\n",
       "      <th>1</th>\n",
       "      <td>8.225824</td>\n",
       "      <td>-0.443289</td>\n",
       "      <td>0.298676</td>\n",
       "      <td>-0.108421</td>\n",
       "      <td>0</td>\n",
       "      <td>[3.4026901721954346, 2.4992988109588623, 2.399...</td>\n",
       "      <td>(-0.4605694, -0.2508572, -0.59451324)</td>\n",
       "      <td>(2.622584, 2.3633363, 2.326128)</td>\n",
       "      <td>(2212, -321, 211)</td>\n",
       "      <td>only_411</td>\n",
       "      <td>None</td>\n",
       "    </tr>\n",
       "    <tr>\n",
       "      <th>2</th>\n",
       "      <td>12.938731</td>\n",
       "      <td>1.060801</td>\n",
       "      <td>1.900389</td>\n",
       "      <td>0.784224</td>\n",
       "      <td>0</td>\n",
       "      <td>[7.267314434051514, 4.619868278503418, 1.07285...</td>\n",
       "      <td>(0.977554, 1.1012715, 1.3675625)</td>\n",
       "      <td>(-2.4181755, -2.3717563, -2.1982896)</td>\n",
       "      <td>(2212, -321, 211)</td>\n",
       "      <td>only_411</td>\n",
       "      <td>None</td>\n",
       "    </tr>\n",
       "    <tr>\n",
       "      <th>3</th>\n",
       "      <td>11.697609</td>\n",
       "      <td>-0.655718</td>\n",
       "      <td>2.204151</td>\n",
       "      <td>0.356227</td>\n",
       "      <td>0</td>\n",
       "      <td>[4.47972297668457, 5.667332649230957, 1.556354...</td>\n",
       "      <td>(-0.48620725, -0.7879102, -0.6172329)</td>\n",
       "      <td>(-2.858657, -2.898594, -2.9482126)</td>\n",
       "      <td>(2212, -321, 211)</td>\n",
       "      <td>only_411</td>\n",
       "      <td>None</td>\n",
       "    </tr>\n",
       "    <tr>\n",
       "      <th>4</th>\n",
       "      <td>55.838035</td>\n",
       "      <td>0.180121</td>\n",
       "      <td>17.340847</td>\n",
       "      <td>0.090482</td>\n",
       "      <td>0</td>\n",
       "      <td>[36.3106689453125, 17.45347785949707, 2.082934...</td>\n",
       "      <td>(0.18834986, 0.15486996, 0.24531575)</td>\n",
       "      <td>(-0.7377661, -0.7312852, -0.6350184)</td>\n",
       "      <td>(2212, -321, 211)</td>\n",
       "      <td>only_411</td>\n",
       "      <td>None</td>\n",
       "    </tr>\n",
       "    <tr>\n",
       "      <th>...</th>\n",
       "      <td>...</td>\n",
       "      <td>...</td>\n",
       "      <td>...</td>\n",
       "      <td>...</td>\n",
       "      <td>...</td>\n",
       "      <td>...</td>\n",
       "      <td>...</td>\n",
       "      <td>...</td>\n",
       "      <td>...</td>\n",
       "      <td>...</td>\n",
       "      <td>...</td>\n",
       "    </tr>\n",
       "    <tr>\n",
       "      <th>799995</th>\n",
       "      <td>15.516514</td>\n",
       "      <td>0.714063</td>\n",
       "      <td>2.826575</td>\n",
       "      <td>0.273049</td>\n",
       "      <td>0</td>\n",
       "      <td>[8.232580184936523, 6.693222522735596, 0.62542...</td>\n",
       "      <td>(0.7209104, 0.6642995, 1.0689352)</td>\n",
       "      <td>(-1.2051988, -1.0829825, -1.2942322)</td>\n",
       "      <td>(2212, -321, 211)</td>\n",
       "      <td>only_411</td>\n",
       "      <td>None</td>\n",
       "    </tr>\n",
       "    <tr>\n",
       "      <th>799996</th>\n",
       "      <td>9.094251</td>\n",
       "      <td>-1.335225</td>\n",
       "      <td>0.269657</td>\n",
       "      <td>-0.355618</td>\n",
       "      <td>1</td>\n",
       "      <td>[5.278110980987549, 2.019252061843872, 1.82516...</td>\n",
       "      <td>(-1.2534069, -1.2452421, -1.6080753)</td>\n",
       "      <td>(2.161675, 2.0766578, 2.3259208)</td>\n",
       "      <td>(2212, -321, 211)</td>\n",
       "      <td>only_4122</td>\n",
       "      <td>None</td>\n",
       "    </tr>\n",
       "    <tr>\n",
       "      <th>799997</th>\n",
       "      <td>9.131988</td>\n",
       "      <td>0.041091</td>\n",
       "      <td>0.329407</td>\n",
       "      <td>0.611082</td>\n",
       "      <td>1</td>\n",
       "      <td>[2.460777759552002, 4.995091915130615, 1.70874...</td>\n",
       "      <td>(0.12101391, -0.055287715, 0.20483322)</td>\n",
       "      <td>(0.3058112, 0.32780313, 0.10899325)</td>\n",
       "      <td>(2212, -321, 211)</td>\n",
       "      <td>only_4122</td>\n",
       "      <td>None</td>\n",
       "    </tr>\n",
       "    <tr>\n",
       "      <th>799998</th>\n",
       "      <td>8.865642</td>\n",
       "      <td>-0.804682</td>\n",
       "      <td>0.852494</td>\n",
       "      <td>0.555877</td>\n",
       "      <td>0</td>\n",
       "      <td>[3.251980781555176, 2.3899216651916504, 3.2291...</td>\n",
       "      <td>(-0.96728534, -0.8550701, -0.5743243)</td>\n",
       "      <td>(-2.970206, -3.087664, -3.0605102)</td>\n",
       "      <td>(2212, -321, 211)</td>\n",
       "      <td>only_411</td>\n",
       "      <td>None</td>\n",
       "    </tr>\n",
       "    <tr>\n",
       "      <th>799999</th>\n",
       "      <td>13.221308</td>\n",
       "      <td>-0.411279</td>\n",
       "      <td>1.745205</td>\n",
       "      <td>-0.202149</td>\n",
       "      <td>0</td>\n",
       "      <td>[5.940453052520752, 4.011683464050293, 3.36803...</td>\n",
       "      <td>(-0.38631043, -0.40255684, -0.4544321)</td>\n",
       "      <td>(2.7986705, 2.6043444, 2.912008)</td>\n",
       "      <td>(2212, -321, 211)</td>\n",
       "      <td>only_411</td>\n",
       "      <td>None</td>\n",
       "    </tr>\n",
       "  </tbody>\n",
       "</table>\n",
       "<p>800000 rows × 11 columns</p>\n",
       "</div>"
      ],
      "text/plain": [
       "        DMesons_pt  DMesons_eta  DMesons_fitOutput__Lxy  DMesons_costhetastar  \\\n",
       "0        24.527068     1.131899                0.811323             -0.966063   \n",
       "1         8.225824    -0.443289                0.298676             -0.108421   \n",
       "2        12.938731     1.060801                1.900389              0.784224   \n",
       "3        11.697609    -0.655718                2.204151              0.356227   \n",
       "4        55.838035     0.180121               17.340847              0.090482   \n",
       "...            ...          ...                     ...                   ...   \n",
       "799995   15.516514     0.714063                2.826575              0.273049   \n",
       "799996    9.094251    -1.335225                0.269657             -0.355618   \n",
       "799997    9.131988     0.041091                0.329407              0.611082   \n",
       "799998    8.865642    -0.804682                0.852494              0.555877   \n",
       "799999   13.221308    -0.411279                1.745205             -0.202149   \n",
       "\n",
       "        DMesons_pdgId                           DMesons_daughterInfo__pt  \\\n",
       "0                   0  [11.868159294128418, 4.692102909088135, 7.9855...   \n",
       "1                   0  [3.4026901721954346, 2.4992988109588623, 2.399...   \n",
       "2                   0  [7.267314434051514, 4.619868278503418, 1.07285...   \n",
       "3                   0  [4.47972297668457, 5.667332649230957, 1.556354...   \n",
       "4                   0  [36.3106689453125, 17.45347785949707, 2.082934...   \n",
       "...               ...                                                ...   \n",
       "799995              0  [8.232580184936523, 6.693222522735596, 0.62542...   \n",
       "799996              1  [5.278110980987549, 2.019252061843872, 1.82516...   \n",
       "799997              1  [2.460777759552002, 4.995091915130615, 1.70874...   \n",
       "799998              0  [3.251980781555176, 2.3899216651916504, 3.2291...   \n",
       "799999              0  [5.940453052520752, 4.011683464050293, 3.36803...   \n",
       "\n",
       "                     DMesons_daughterInfo__eta  \\\n",
       "0            (1.1646894, 1.1318113, 1.0789925)   \n",
       "1        (-0.4605694, -0.2508572, -0.59451324)   \n",
       "2             (0.977554, 1.1012715, 1.3675625)   \n",
       "3        (-0.48620725, -0.7879102, -0.6172329)   \n",
       "4         (0.18834986, 0.15486996, 0.24531575)   \n",
       "...                                        ...   \n",
       "799995       (0.7209104, 0.6642995, 1.0689352)   \n",
       "799996    (-1.2534069, -1.2452421, -1.6080753)   \n",
       "799997  (0.12101391, -0.055287715, 0.20483322)   \n",
       "799998   (-0.96728534, -0.8550701, -0.5743243)   \n",
       "799999  (-0.38631043, -0.40255684, -0.4544321)   \n",
       "\n",
       "                   DMesons_daughterInfo__phi DMesons_daughterInfo__pdgId  \\\n",
       "0         (0.6169152, 0.57123685, 0.5109106)           (2212, -321, 211)   \n",
       "1            (2.622584, 2.3633363, 2.326128)           (2212, -321, 211)   \n",
       "2       (-2.4181755, -2.3717563, -2.1982896)           (2212, -321, 211)   \n",
       "3         (-2.858657, -2.898594, -2.9482126)           (2212, -321, 211)   \n",
       "4       (-0.7377661, -0.7312852, -0.6350184)           (2212, -321, 211)   \n",
       "...                                      ...                         ...   \n",
       "799995  (-1.2051988, -1.0829825, -1.2942322)           (2212, -321, 211)   \n",
       "799996      (2.161675, 2.0766578, 2.3259208)           (2212, -321, 211)   \n",
       "799997   (0.3058112, 0.32780313, 0.10899325)           (2212, -321, 211)   \n",
       "799998    (-2.970206, -3.087664, -3.0605102)           (2212, -321, 211)   \n",
       "799999      (2.7986705, 2.6043444, 2.912008)           (2212, -321, 211)   \n",
       "\n",
       "       particle_type inv_mass1  \n",
       "0           only_411      None  \n",
       "1           only_411      None  \n",
       "2           only_411      None  \n",
       "3           only_411      None  \n",
       "4           only_411      None  \n",
       "...              ...       ...  \n",
       "799995      only_411      None  \n",
       "799996     only_4122      None  \n",
       "799997     only_4122      None  \n",
       "799998      only_411      None  \n",
       "799999      only_411      None  \n",
       "\n",
       "[800000 rows x 11 columns]"
      ]
     },
     "execution_count": 136,
     "metadata": {},
     "output_type": "execute_result"
    }
   ],
   "source": [
    "shuffled_df"
   ]
  },
  {
   "cell_type": "code",
   "execution_count": 145,
   "id": "5d571b3c-1e8d-4738-ad3b-5f84fc21c8d6",
   "metadata": {},
   "outputs": [],
   "source": [
    "shuffled_df_daughter = shuffled_df[[\"DMesons_daughterInfo__pt\", \"DMesons_daughterInfo__eta\", \"DMesons_daughterInfo__phi\", \"DMesons_daughterInfo__pdgId\", \"particle_type\"]]"
   ]
  },
  {
   "cell_type": "code",
   "execution_count": 293,
   "id": "6b4650f2-b916-41e9-abd8-8d450b2afe90",
   "metadata": {},
   "outputs": [],
   "source": [
    "#separate the daughter info\n",
    "daughter_pts = []\n",
    "daughter_etas = []\n",
    "daughter_phis = []\n",
    "\n",
    "for index, row in shuffled_df_daughter.iterrows():\n",
    "\n",
    "    pts = row['DMesons_daughterInfo__pt']\n",
    "    etas = row['DMesons_daughterInfo__eta']\n",
    "    phis = row['DMesons_daughterInfo__phi']\n",
    "    \n",
    "    for pt, eta, phi in zip(pts, etas, phis):\n",
    "        daughter_pts.append(pt)\n",
    "        daughter_etas.append(etas)\n",
    "        daughter_phis.append(phis)"
   ]
  },
  {
   "cell_type": "code",
   "execution_count": 294,
   "id": "1531eb3a-6d94-4bce-93c6-03789ffa8d97",
   "metadata": {},
   "outputs": [
    {
     "data": {
      "text/plain": [
       "2400000"
      ]
     },
     "execution_count": 294,
     "metadata": {},
     "output_type": "execute_result"
    }
   ],
   "source": [
    "len(daughter_pts)"
   ]
  },
  {
   "cell_type": "code",
   "execution_count": 300,
   "id": "0bb1799f-d0f0-4519-b828-7a9acdd8a3a5",
   "metadata": {},
   "outputs": [],
   "source": [
    "particle1_pt = []\n",
    "particle2_pt = []\n",
    "particle3_pt = []\n",
    "\n",
    "for i in range(0, len(daughter_pts), 3):\n",
    "    particle1_pt.append(daughter_pts[i])\n",
    "    particle2_pt.append(daughter_pts[i+1])\n",
    "    particle3_pt.append(daughter_pts[i+2])"
   ]
  },
  {
   "cell_type": "code",
   "execution_count": 263,
   "id": "f12b4fbb-186e-40a3-8195-a8f681ee4433",
   "metadata": {},
   "outputs": [
    {
     "name": "stdout",
     "output_type": "stream",
     "text": [
      "D\n",
      "(11.868159294128418,)\n",
      "(4.692102909088135,)\n",
      "(7.985586166381836,)\n"
     ]
    }
   ],
   "source": [
    "#this is for testing\n",
    "for index, row in shuffled_df.iterrows():\n",
    "    if index == 1:\n",
    "        break\n",
    "    pts = row['DMesons_daughterInfo__pt']\n",
    "    pdgids = row[\"DMesons_pdgId\"]\n",
    "    types = row[\"particle_type\"]\n",
    "    if pdgids == 0:\n",
    "        print(\"D\")\n",
    "    else:\n",
    "        print(\"Lambda\")\n",
    "    for pt in zip(pts):\n",
    "        print(pt)"
   ]
  },
  {
   "cell_type": "code",
   "execution_count": 199,
   "id": "cfc7e1cc-f72e-4256-9094-e49ff03d7a68",
   "metadata": {},
   "outputs": [],
   "source": [
    "k_mass = 0.493677 #Gev/c^2\n",
    "pi_mass = 0.13957 #Gev/c^2\n",
    "p_mass = 0.938 #Gev/c^2\n",
    "\n",
    "def createTLorentzVectors(df):\n",
    "    TLorentzVectorList = []\n",
    "    \n",
    "    for index, row in df.iterrows():\n",
    "        pts = row['DMesons_daughterInfo__pt']\n",
    "        etas = row['DMesons_daughterInfo__eta']\n",
    "        phis = row['DMesons_daughterInfo__phi']\n",
    "        pdgids = row['DMesons_daughterInfo__pdgId']\n",
    "        types = row[\"particle_type\"]\n",
    "        \n",
    "        def assign_mass():\n",
    "            if types == \"only_411\":\n",
    "                #assume proton is pion\n",
    "                return pi_mass\n",
    "            elif types == \"only_4122\":\n",
    "                #keep proton as proton\n",
    "                return p_mass\n",
    "            else:\n",
    "                return pi_mass\n",
    "            \n",
    "        for pt, eta, phi, pdgid in zip(pts, etas, phis, pdgids):\n",
    "            if pdgid == 211:\n",
    "                m = pi_mass\n",
    "            elif pdgid == -321:\n",
    "                m = k_mass\n",
    "            elif pdgid == 2212:\n",
    "                m = assign_mass()\n",
    "            else:\n",
    "                continue\n",
    "\n",
    "            p = ROOT.TLorentzVector()\n",
    "            p.SetPtEtaPhiM(pt, eta, phi, m)\n",
    "            TLorentzVectorList.append(p)\n",
    "\n",
    "    return TLorentzVectorList\n",
    "\n",
    "inv_mass_squared = lambda p1, p2: (p1 + p2).M2()"
   ]
  },
  {
   "cell_type": "code",
   "execution_count": 200,
   "id": "2c2417ab-3f97-491d-9027-c2225f043714",
   "metadata": {},
   "outputs": [],
   "source": [
    "LorentzVectors = createTLorentzVectors(shuffled_df_daughter)\n",
    "reshaped_list = [LorentzVectors[i:i+3] for i in range(0, len(LorentzVectors), 3)]\n",
    "np.shape(reshaped_list)"
   ]
  },
  {
   "cell_type": "code",
   "execution_count": 228,
   "id": "04b00123-93ee-4755-9fbf-d30802786806",
   "metadata": {},
   "outputs": [],
   "source": [
    "inv_combo1 = []\n",
    "inv_combo2 = []\n",
    "for sublist in reshaped_list:\n",
    "    inv_combo1.append(inv_mass_squared(sublist[0], sublist[1]))\n",
    "    inv_combo2.append(inv_mass_squared(sublist[1], sublist[2]))\n",
    "    \n",
    "shuffled_df['inv_mass1'] = inv_combo1\n",
    "shuffled_df['inv_mass2'] = inv_combo2"
   ]
  },
  {
   "cell_type": "code",
   "execution_count": 309,
   "id": "07fe547c-9f85-4224-a07b-35d21f6ea2d7",
   "metadata": {},
   "outputs": [
    {
     "data": {
      "text/html": [
       "<div>\n",
       "<style scoped>\n",
       "    .dataframe tbody tr th:only-of-type {\n",
       "        vertical-align: middle;\n",
       "    }\n",
       "\n",
       "    .dataframe tbody tr th {\n",
       "        vertical-align: top;\n",
       "    }\n",
       "\n",
       "    .dataframe thead th {\n",
       "        text-align: right;\n",
       "    }\n",
       "</style>\n",
       "<table border=\"1\" class=\"dataframe\">\n",
       "  <thead>\n",
       "    <tr style=\"text-align: right;\">\n",
       "      <th></th>\n",
       "      <th>DMesons_pt</th>\n",
       "      <th>DMesons_eta</th>\n",
       "      <th>DMesons_fitOutput__Lxy</th>\n",
       "      <th>DMesons_costhetastar</th>\n",
       "      <th>DMesons_pdgId</th>\n",
       "      <th>inv_mass1</th>\n",
       "      <th>inv_mass2</th>\n",
       "      <th>daughter_pt1</th>\n",
       "      <th>daughter_pt2</th>\n",
       "      <th>daughter_pt3</th>\n",
       "    </tr>\n",
       "  </thead>\n",
       "  <tbody>\n",
       "    <tr>\n",
       "      <th>0</th>\n",
       "      <td>24.527068</td>\n",
       "      <td>1.131899</td>\n",
       "      <td>0.811323</td>\n",
       "      <td>-0.966063</td>\n",
       "      <td>0</td>\n",
       "      <td>1.079725</td>\n",
       "      <td>0.913237</td>\n",
       "      <td>11.868159</td>\n",
       "      <td>4.692103</td>\n",
       "      <td>7.985586</td>\n",
       "    </tr>\n",
       "    <tr>\n",
       "      <th>1</th>\n",
       "      <td>8.225824</td>\n",
       "      <td>-0.443289</td>\n",
       "      <td>0.298676</td>\n",
       "      <td>-0.108421</td>\n",
       "      <td>0</td>\n",
       "      <td>1.573671</td>\n",
       "      <td>1.270641</td>\n",
       "      <td>3.402690</td>\n",
       "      <td>2.499299</td>\n",
       "      <td>2.399992</td>\n",
       "    </tr>\n",
       "    <tr>\n",
       "      <th>2</th>\n",
       "      <td>12.938731</td>\n",
       "      <td>1.060801</td>\n",
       "      <td>1.900389</td>\n",
       "      <td>0.784224</td>\n",
       "      <td>0</td>\n",
       "      <td>1.211604</td>\n",
       "      <td>0.903373</td>\n",
       "      <td>7.267314</td>\n",
       "      <td>4.619868</td>\n",
       "      <td>1.072857</td>\n",
       "    </tr>\n",
       "    <tr>\n",
       "      <th>3</th>\n",
       "      <td>11.697609</td>\n",
       "      <td>-0.655718</td>\n",
       "      <td>2.204151</td>\n",
       "      <td>0.356227</td>\n",
       "      <td>0</td>\n",
       "      <td>2.823970</td>\n",
       "      <td>0.681484</td>\n",
       "      <td>4.479723</td>\n",
       "      <td>5.667333</td>\n",
       "      <td>1.556354</td>\n",
       "    </tr>\n",
       "    <tr>\n",
       "      <th>4</th>\n",
       "      <td>55.838035</td>\n",
       "      <td>0.180121</td>\n",
       "      <td>17.340847</td>\n",
       "      <td>0.090482</td>\n",
       "      <td>0</td>\n",
       "      <td>1.519394</td>\n",
       "      <td>1.087278</td>\n",
       "      <td>36.310669</td>\n",
       "      <td>17.453478</td>\n",
       "      <td>2.082934</td>\n",
       "    </tr>\n",
       "    <tr>\n",
       "      <th>...</th>\n",
       "      <td>...</td>\n",
       "      <td>...</td>\n",
       "      <td>...</td>\n",
       "      <td>...</td>\n",
       "      <td>...</td>\n",
       "      <td>...</td>\n",
       "      <td>...</td>\n",
       "      <td>...</td>\n",
       "      <td>...</td>\n",
       "      <td>...</td>\n",
       "    </tr>\n",
       "    <tr>\n",
       "      <th>799995</th>\n",
       "      <td>15.516514</td>\n",
       "      <td>0.714063</td>\n",
       "      <td>2.826575</td>\n",
       "      <td>0.273049</td>\n",
       "      <td>0</td>\n",
       "      <td>1.587042</td>\n",
       "      <td>1.331171</td>\n",
       "      <td>8.232580</td>\n",
       "      <td>6.693223</td>\n",
       "      <td>0.625421</td>\n",
       "    </tr>\n",
       "    <tr>\n",
       "      <th>799996</th>\n",
       "      <td>9.094251</td>\n",
       "      <td>-1.335225</td>\n",
       "      <td>0.269657</td>\n",
       "      <td>-0.355618</td>\n",
       "      <td>1</td>\n",
       "      <td>2.176403</td>\n",
       "      <td>1.300135</td>\n",
       "      <td>5.278111</td>\n",
       "      <td>2.019252</td>\n",
       "      <td>1.825164</td>\n",
       "    </tr>\n",
       "    <tr>\n",
       "      <th>799997</th>\n",
       "      <td>9.131988</td>\n",
       "      <td>0.041091</td>\n",
       "      <td>0.329407</td>\n",
       "      <td>0.611082</td>\n",
       "      <td>1</td>\n",
       "      <td>3.357666</td>\n",
       "      <td>1.391840</td>\n",
       "      <td>2.460778</td>\n",
       "      <td>4.995092</td>\n",
       "      <td>1.708745</td>\n",
       "    </tr>\n",
       "    <tr>\n",
       "      <th>799998</th>\n",
       "      <td>8.865642</td>\n",
       "      <td>-0.804682</td>\n",
       "      <td>0.852494</td>\n",
       "      <td>0.555877</td>\n",
       "      <td>0</td>\n",
       "      <td>0.839232</td>\n",
       "      <td>1.174328</td>\n",
       "      <td>3.251981</td>\n",
       "      <td>2.389922</td>\n",
       "      <td>3.229151</td>\n",
       "    </tr>\n",
       "    <tr>\n",
       "      <th>799999</th>\n",
       "      <td>13.221308</td>\n",
       "      <td>-0.411279</td>\n",
       "      <td>1.745205</td>\n",
       "      <td>-0.202149</td>\n",
       "      <td>0</td>\n",
       "      <td>1.537456</td>\n",
       "      <td>1.799600</td>\n",
       "      <td>5.940453</td>\n",
       "      <td>4.011683</td>\n",
       "      <td>3.368034</td>\n",
       "    </tr>\n",
       "  </tbody>\n",
       "</table>\n",
       "<p>800000 rows × 10 columns</p>\n",
       "</div>"
      ],
      "text/plain": [
       "        DMesons_pt  DMesons_eta  DMesons_fitOutput__Lxy  DMesons_costhetastar  \\\n",
       "0        24.527068     1.131899                0.811323             -0.966063   \n",
       "1         8.225824    -0.443289                0.298676             -0.108421   \n",
       "2        12.938731     1.060801                1.900389              0.784224   \n",
       "3        11.697609    -0.655718                2.204151              0.356227   \n",
       "4        55.838035     0.180121               17.340847              0.090482   \n",
       "...            ...          ...                     ...                   ...   \n",
       "799995   15.516514     0.714063                2.826575              0.273049   \n",
       "799996    9.094251    -1.335225                0.269657             -0.355618   \n",
       "799997    9.131988     0.041091                0.329407              0.611082   \n",
       "799998    8.865642    -0.804682                0.852494              0.555877   \n",
       "799999   13.221308    -0.411279                1.745205             -0.202149   \n",
       "\n",
       "        DMesons_pdgId  inv_mass1  inv_mass2  daughter_pt1  daughter_pt2  \\\n",
       "0                   0   1.079725   0.913237     11.868159      4.692103   \n",
       "1                   0   1.573671   1.270641      3.402690      2.499299   \n",
       "2                   0   1.211604   0.903373      7.267314      4.619868   \n",
       "3                   0   2.823970   0.681484      4.479723      5.667333   \n",
       "4                   0   1.519394   1.087278     36.310669     17.453478   \n",
       "...               ...        ...        ...           ...           ...   \n",
       "799995              0   1.587042   1.331171      8.232580      6.693223   \n",
       "799996              1   2.176403   1.300135      5.278111      2.019252   \n",
       "799997              1   3.357666   1.391840      2.460778      4.995092   \n",
       "799998              0   0.839232   1.174328      3.251981      2.389922   \n",
       "799999              0   1.537456   1.799600      5.940453      4.011683   \n",
       "\n",
       "        daughter_pt3  \n",
       "0           7.985586  \n",
       "1           2.399992  \n",
       "2           1.072857  \n",
       "3           1.556354  \n",
       "4           2.082934  \n",
       "...              ...  \n",
       "799995      0.625421  \n",
       "799996      1.825164  \n",
       "799997      1.708745  \n",
       "799998      3.229151  \n",
       "799999      3.368034  \n",
       "\n",
       "[800000 rows x 10 columns]"
      ]
     },
     "execution_count": 309,
     "metadata": {},
     "output_type": "execute_result"
    }
   ],
   "source": [
    "invmass_ready_df = shuffled_df.drop(['DMesons_daughterInfo__pt', 'DMesons_daughterInfo__eta', \"DMesons_daughterInfo__phi\", \"DMesons_daughterInfo__pdgId\", \"particle_type\"], axis=1)\n",
    "invmass_ready_df[\"daughter_pt1\"] = particle1_pt\n",
    "invmass_ready_df[\"daughter_pt2\"] = particle2_pt\n",
    "invmass_ready_df[\"daughter_pt3\"] = particle3_pt\n",
    "# invmass_ready_df[\"daughter_etas\"] = daughter_etas\n",
    "# invmass_ready_df[\"daughter_phis\"] = daughter_phis\n",
    "invmass_ready_df"
   ]
  },
  {
   "cell_type": "code",
   "execution_count": 310,
   "id": "3025200b-2c94-4096-ab5a-33b38f70e1d3",
   "metadata": {},
   "outputs": [],
   "source": [
    "# create a new column 'particle_type' based on the pdgId column\n",
    "def func(x):\n",
    "    if x == 0:\n",
    "        return 'only_411'\n",
    "    elif x == 1:\n",
    "        return 'only_4122'\n",
    "\n",
    "invmass_ready_df['particle_type'] = invmass_ready_df['DMesons_pdgId'].apply(func)\n",
    "\n",
    "# separate the rows based on the new column\n",
    "only_411 = invmass_ready_df[invmass_ready_df['particle_type'] == 'only_411']\n",
    "only_4122 = invmass_ready_df[invmass_ready_df['particle_type'] == 'only_4122']\n",
    "\n",
    "new_df = invmass_ready_df[invmass_ready_df['particle_type'] != 'both']\n",
    "new_df = new_df.reset_index(drop=True)\n",
    "only_411 = only_411.reset_index(drop=True)\n",
    "only_4122 = only_4122.reset_index(drop=True)\n",
    "\n",
    "# new_df.loc[:, 'DMesons_pt'] = new_df['DMesons_pt'].apply(lambda x: float(x))\n",
    "# new_df.loc[:, 'DMesons_eta'] = new_df['DMesons_eta'].apply(lambda x: float(x))\n",
    "# #new_df.loc[:, 'DMesons_m'] = new_df['DMesons_m'].apply(lambda x: float(x))\n",
    "# new_df.loc[:, 'DMesons_fitOutput__Lxy'] = new_df['DMesons_fitOutput__Lxy'].apply(lambda x: float(x))\n",
    "# new_df.loc[:, 'DMesons_costhetastar'] = new_df['DMesons_costhetastar'].apply(lambda x: float(x))\n",
    "# new_df.loc[:, 'DMesons_pdgId'] = new_df['DMesons_pdgId'].apply(lambda x: int(x))\n",
    "# new_df = new_df.drop('particle_type', axis=1)"
   ]
  },
  {
   "cell_type": "code",
   "execution_count": 317,
   "id": "05c22bd3-5165-4e89-b919-ac3e7cd3b799",
   "metadata": {},
   "outputs": [
    {
     "data": {
      "text/html": [
       "<div>\n",
       "<style scoped>\n",
       "    .dataframe tbody tr th:only-of-type {\n",
       "        vertical-align: middle;\n",
       "    }\n",
       "\n",
       "    .dataframe tbody tr th {\n",
       "        vertical-align: top;\n",
       "    }\n",
       "\n",
       "    .dataframe thead th {\n",
       "        text-align: right;\n",
       "    }\n",
       "</style>\n",
       "<table border=\"1\" class=\"dataframe\">\n",
       "  <thead>\n",
       "    <tr style=\"text-align: right;\">\n",
       "      <th></th>\n",
       "      <th>DMesons_pt</th>\n",
       "      <th>DMesons_eta</th>\n",
       "      <th>DMesons_fitOutput__Lxy</th>\n",
       "      <th>DMesons_costhetastar</th>\n",
       "      <th>DMesons_pdgId</th>\n",
       "      <th>inv_mass1</th>\n",
       "      <th>inv_mass2</th>\n",
       "      <th>daughter_pt1</th>\n",
       "      <th>daughter_pt2</th>\n",
       "      <th>daughter_pt3</th>\n",
       "    </tr>\n",
       "  </thead>\n",
       "  <tbody>\n",
       "    <tr>\n",
       "      <th>0</th>\n",
       "      <td>24.527068</td>\n",
       "      <td>1.131899</td>\n",
       "      <td>0.811323</td>\n",
       "      <td>-0.966063</td>\n",
       "      <td>0</td>\n",
       "      <td>1.079725</td>\n",
       "      <td>0.913237</td>\n",
       "      <td>11.868159</td>\n",
       "      <td>4.692103</td>\n",
       "      <td>7.985586</td>\n",
       "    </tr>\n",
       "    <tr>\n",
       "      <th>1</th>\n",
       "      <td>8.225824</td>\n",
       "      <td>-0.443289</td>\n",
       "      <td>0.298676</td>\n",
       "      <td>-0.108421</td>\n",
       "      <td>0</td>\n",
       "      <td>1.573671</td>\n",
       "      <td>1.270641</td>\n",
       "      <td>3.402690</td>\n",
       "      <td>2.499299</td>\n",
       "      <td>2.399992</td>\n",
       "    </tr>\n",
       "    <tr>\n",
       "      <th>2</th>\n",
       "      <td>12.938731</td>\n",
       "      <td>1.060801</td>\n",
       "      <td>1.900389</td>\n",
       "      <td>0.784224</td>\n",
       "      <td>0</td>\n",
       "      <td>1.211604</td>\n",
       "      <td>0.903373</td>\n",
       "      <td>7.267314</td>\n",
       "      <td>4.619868</td>\n",
       "      <td>1.072857</td>\n",
       "    </tr>\n",
       "    <tr>\n",
       "      <th>3</th>\n",
       "      <td>11.697609</td>\n",
       "      <td>-0.655718</td>\n",
       "      <td>2.204151</td>\n",
       "      <td>0.356227</td>\n",
       "      <td>0</td>\n",
       "      <td>2.823970</td>\n",
       "      <td>0.681484</td>\n",
       "      <td>4.479723</td>\n",
       "      <td>5.667333</td>\n",
       "      <td>1.556354</td>\n",
       "    </tr>\n",
       "    <tr>\n",
       "      <th>4</th>\n",
       "      <td>55.838035</td>\n",
       "      <td>0.180121</td>\n",
       "      <td>17.340847</td>\n",
       "      <td>0.090482</td>\n",
       "      <td>0</td>\n",
       "      <td>1.519394</td>\n",
       "      <td>1.087278</td>\n",
       "      <td>36.310669</td>\n",
       "      <td>17.453478</td>\n",
       "      <td>2.082934</td>\n",
       "    </tr>\n",
       "    <tr>\n",
       "      <th>...</th>\n",
       "      <td>...</td>\n",
       "      <td>...</td>\n",
       "      <td>...</td>\n",
       "      <td>...</td>\n",
       "      <td>...</td>\n",
       "      <td>...</td>\n",
       "      <td>...</td>\n",
       "      <td>...</td>\n",
       "      <td>...</td>\n",
       "      <td>...</td>\n",
       "    </tr>\n",
       "    <tr>\n",
       "      <th>799995</th>\n",
       "      <td>15.516514</td>\n",
       "      <td>0.714063</td>\n",
       "      <td>2.826575</td>\n",
       "      <td>0.273049</td>\n",
       "      <td>0</td>\n",
       "      <td>1.587042</td>\n",
       "      <td>1.331171</td>\n",
       "      <td>8.232580</td>\n",
       "      <td>6.693223</td>\n",
       "      <td>0.625421</td>\n",
       "    </tr>\n",
       "    <tr>\n",
       "      <th>799996</th>\n",
       "      <td>9.094251</td>\n",
       "      <td>-1.335225</td>\n",
       "      <td>0.269657</td>\n",
       "      <td>-0.355618</td>\n",
       "      <td>1</td>\n",
       "      <td>2.176403</td>\n",
       "      <td>1.300135</td>\n",
       "      <td>5.278111</td>\n",
       "      <td>2.019252</td>\n",
       "      <td>1.825164</td>\n",
       "    </tr>\n",
       "    <tr>\n",
       "      <th>799997</th>\n",
       "      <td>9.131988</td>\n",
       "      <td>0.041091</td>\n",
       "      <td>0.329407</td>\n",
       "      <td>0.611082</td>\n",
       "      <td>1</td>\n",
       "      <td>3.357666</td>\n",
       "      <td>1.391840</td>\n",
       "      <td>2.460778</td>\n",
       "      <td>4.995092</td>\n",
       "      <td>1.708745</td>\n",
       "    </tr>\n",
       "    <tr>\n",
       "      <th>799998</th>\n",
       "      <td>8.865642</td>\n",
       "      <td>-0.804682</td>\n",
       "      <td>0.852494</td>\n",
       "      <td>0.555877</td>\n",
       "      <td>0</td>\n",
       "      <td>0.839232</td>\n",
       "      <td>1.174328</td>\n",
       "      <td>3.251981</td>\n",
       "      <td>2.389922</td>\n",
       "      <td>3.229151</td>\n",
       "    </tr>\n",
       "    <tr>\n",
       "      <th>799999</th>\n",
       "      <td>13.221308</td>\n",
       "      <td>-0.411279</td>\n",
       "      <td>1.745205</td>\n",
       "      <td>-0.202149</td>\n",
       "      <td>0</td>\n",
       "      <td>1.537456</td>\n",
       "      <td>1.799600</td>\n",
       "      <td>5.940453</td>\n",
       "      <td>4.011683</td>\n",
       "      <td>3.368034</td>\n",
       "    </tr>\n",
       "  </tbody>\n",
       "</table>\n",
       "<p>800000 rows × 10 columns</p>\n",
       "</div>"
      ],
      "text/plain": [
       "        DMesons_pt  DMesons_eta  DMesons_fitOutput__Lxy  DMesons_costhetastar  \\\n",
       "0        24.527068     1.131899                0.811323             -0.966063   \n",
       "1         8.225824    -0.443289                0.298676             -0.108421   \n",
       "2        12.938731     1.060801                1.900389              0.784224   \n",
       "3        11.697609    -0.655718                2.204151              0.356227   \n",
       "4        55.838035     0.180121               17.340847              0.090482   \n",
       "...            ...          ...                     ...                   ...   \n",
       "799995   15.516514     0.714063                2.826575              0.273049   \n",
       "799996    9.094251    -1.335225                0.269657             -0.355618   \n",
       "799997    9.131988     0.041091                0.329407              0.611082   \n",
       "799998    8.865642    -0.804682                0.852494              0.555877   \n",
       "799999   13.221308    -0.411279                1.745205             -0.202149   \n",
       "\n",
       "        DMesons_pdgId  inv_mass1  inv_mass2  daughter_pt1  daughter_pt2  \\\n",
       "0                   0   1.079725   0.913237     11.868159      4.692103   \n",
       "1                   0   1.573671   1.270641      3.402690      2.499299   \n",
       "2                   0   1.211604   0.903373      7.267314      4.619868   \n",
       "3                   0   2.823970   0.681484      4.479723      5.667333   \n",
       "4                   0   1.519394   1.087278     36.310669     17.453478   \n",
       "...               ...        ...        ...           ...           ...   \n",
       "799995              0   1.587042   1.331171      8.232580      6.693223   \n",
       "799996              1   2.176403   1.300135      5.278111      2.019252   \n",
       "799997              1   3.357666   1.391840      2.460778      4.995092   \n",
       "799998              0   0.839232   1.174328      3.251981      2.389922   \n",
       "799999              0   1.537456   1.799600      5.940453      4.011683   \n",
       "\n",
       "        daughter_pt3  \n",
       "0           7.985586  \n",
       "1           2.399992  \n",
       "2           1.072857  \n",
       "3           1.556354  \n",
       "4           2.082934  \n",
       "...              ...  \n",
       "799995      0.625421  \n",
       "799996      1.825164  \n",
       "799997      1.708745  \n",
       "799998      3.229151  \n",
       "799999      3.368034  \n",
       "\n",
       "[800000 rows x 10 columns]"
      ]
     },
     "execution_count": 317,
     "metadata": {},
     "output_type": "execute_result"
    }
   ],
   "source": [
    "new_df"
   ]
  },
  {
   "cell_type": "code",
   "execution_count": 316,
   "id": "696a8d9c-bcfa-4783-acfe-6c2b82724157",
   "metadata": {},
   "outputs": [],
   "source": [
    "only_411 = only_411.drop('particle_type', axis=1)\n",
    "only_4122 = only_4122.drop('particle_type', axis=1)\n",
    "new_df = new_df.drop(\"particle_type\", axis=1)\n",
    "\n",
    "# new_df = new_df.drop('DMesons_m', axis=1)\n",
    "# only_411 = only_411.drop('DMesons_m', axis=1)\n",
    "# only_4122 = only_4122.drop('DMesons_m', axis=1)"
   ]
  },
  {
   "cell_type": "code",
   "execution_count": 2,
   "id": "83f9240f-81c4-4d08-aa49-47cec590642f",
   "metadata": {},
   "outputs": [],
   "source": [
    "new_df = load(\"new_df_invmassdaughter_train\")\n",
    "only_411 = load(\"only_411_invmassdaughter_train\")\n",
    "only_4122 = load(\"only_4122_invmassdaughter_train\")"
   ]
  },
  {
   "cell_type": "code",
   "execution_count": 3,
   "id": "38d6fa12-d36d-445b-b647-5d33161b88a4",
   "metadata": {},
   "outputs": [],
   "source": [
    "#D and Lambda\n",
    "new_df['DMesons_pdgId'] = new_df['DMesons_pdgId'].replace({411: 0, 4122: 1})\n",
    "X_train, X_test, y_train, y_test = train_test_split(new_df[['DMesons_pt','DMesons_eta', 'DMesons_fitOutput__Lxy', 'DMesons_costhetastar', \"inv_mass1\", \"inv_mass2\", \"daughter_pt1\", \"daughter_pt2\", \"daughter_pt3\"]], new_df['DMesons_pdgId'], test_size=0.2, random_state=42)\n",
    "\n",
    "#only DMesons\n",
    "only_411['DMesons_pdgId'] = only_411['DMesons_pdgId'].replace({411: 0, 4122: 1})\n",
    "X_train1, X_test1, y_train1, y_test1 = train_test_split(only_411[['DMesons_pt','DMesons_eta', 'DMesons_fitOutput__Lxy', 'DMesons_costhetastar', \"inv_mass1\", \"inv_mass2\", \"daughter_pt1\", \"daughter_pt2\", \"daughter_pt3\"]], only_411['DMesons_pdgId'], test_size=0.2, random_state=42)\n",
    "\n",
    "#only Lambda\n",
    "only_4122['DMesons_pdgId'] = only_4122['DMesons_pdgId'].replace({411: 0, 4122: 1})\n",
    "X_train2, X_test2, y_train2, y_test2 = train_test_split(only_4122[['DMesons_pt','DMesons_eta', 'DMesons_fitOutput__Lxy', 'DMesons_costhetastar', \"inv_mass1\", \"inv_mass2\", \"daughter_pt1\", \"daughter_pt2\", \"daughter_pt3\"]], only_4122['DMesons_pdgId'], test_size=0.2, random_state=42)"
   ]
  },
  {
   "cell_type": "code",
   "execution_count": 4,
   "id": "c16f1337-d124-4531-b770-014fb6bca4d8",
   "metadata": {},
   "outputs": [
    {
     "name": "stdout",
     "output_type": "stream",
     "text": [
      "(640000, 9) (160000, 9)\n"
     ]
    },
    {
     "data": {
      "text/html": [
       "<div>\n",
       "<style scoped>\n",
       "    .dataframe tbody tr th:only-of-type {\n",
       "        vertical-align: middle;\n",
       "    }\n",
       "\n",
       "    .dataframe tbody tr th {\n",
       "        vertical-align: top;\n",
       "    }\n",
       "\n",
       "    .dataframe thead th {\n",
       "        text-align: right;\n",
       "    }\n",
       "</style>\n",
       "<table border=\"1\" class=\"dataframe\">\n",
       "  <thead>\n",
       "    <tr style=\"text-align: right;\">\n",
       "      <th></th>\n",
       "      <th>DMesons_pt</th>\n",
       "      <th>DMesons_eta</th>\n",
       "      <th>DMesons_fitOutput__Lxy</th>\n",
       "      <th>DMesons_costhetastar</th>\n",
       "      <th>inv_mass1</th>\n",
       "      <th>inv_mass2</th>\n",
       "      <th>daughter_pt1</th>\n",
       "      <th>daughter_pt2</th>\n",
       "      <th>daughter_pt3</th>\n",
       "    </tr>\n",
       "  </thead>\n",
       "  <tbody>\n",
       "    <tr>\n",
       "      <th>52811</th>\n",
       "      <td>37.341957</td>\n",
       "      <td>-0.528279</td>\n",
       "      <td>0.876727</td>\n",
       "      <td>-0.163480</td>\n",
       "      <td>4.518268</td>\n",
       "      <td>0.702809</td>\n",
       "      <td>21.327976</td>\n",
       "      <td>13.058212</td>\n",
       "      <td>2.985367</td>\n",
       "    </tr>\n",
       "    <tr>\n",
       "      <th>475516</th>\n",
       "      <td>10.641498</td>\n",
       "      <td>0.914045</td>\n",
       "      <td>1.398162</td>\n",
       "      <td>-0.883737</td>\n",
       "      <td>2.853040</td>\n",
       "      <td>0.601430</td>\n",
       "      <td>8.514012</td>\n",
       "      <td>1.105939</td>\n",
       "      <td>1.071738</td>\n",
       "    </tr>\n",
       "    <tr>\n",
       "      <th>122130</th>\n",
       "      <td>16.043410</td>\n",
       "      <td>1.799062</td>\n",
       "      <td>1.490950</td>\n",
       "      <td>0.041954</td>\n",
       "      <td>2.390576</td>\n",
       "      <td>0.721188</td>\n",
       "      <td>7.291071</td>\n",
       "      <td>5.717253</td>\n",
       "      <td>3.109725</td>\n",
       "    </tr>\n",
       "    <tr>\n",
       "      <th>701379</th>\n",
       "      <td>10.472263</td>\n",
       "      <td>1.742398</td>\n",
       "      <td>1.960363</td>\n",
       "      <td>0.656921</td>\n",
       "      <td>0.873924</td>\n",
       "      <td>1.177726</td>\n",
       "      <td>4.955917</td>\n",
       "      <td>3.317139</td>\n",
       "      <td>2.233912</td>\n",
       "    </tr>\n",
       "    <tr>\n",
       "      <th>672853</th>\n",
       "      <td>14.434020</td>\n",
       "      <td>0.478544</td>\n",
       "      <td>0.039826</td>\n",
       "      <td>-0.310774</td>\n",
       "      <td>3.532396</td>\n",
       "      <td>0.761318</td>\n",
       "      <td>8.966787</td>\n",
       "      <td>3.636620</td>\n",
       "      <td>1.890443</td>\n",
       "    </tr>\n",
       "    <tr>\n",
       "      <th>...</th>\n",
       "      <td>...</td>\n",
       "      <td>...</td>\n",
       "      <td>...</td>\n",
       "      <td>...</td>\n",
       "      <td>...</td>\n",
       "      <td>...</td>\n",
       "      <td>...</td>\n",
       "      <td>...</td>\n",
       "      <td>...</td>\n",
       "    </tr>\n",
       "    <tr>\n",
       "      <th>259178</th>\n",
       "      <td>24.471102</td>\n",
       "      <td>0.692326</td>\n",
       "      <td>16.075277</td>\n",
       "      <td>0.851681</td>\n",
       "      <td>0.851062</td>\n",
       "      <td>1.086836</td>\n",
       "      <td>13.109108</td>\n",
       "      <td>8.137378</td>\n",
       "      <td>3.266880</td>\n",
       "    </tr>\n",
       "    <tr>\n",
       "      <th>365838</th>\n",
       "      <td>15.827591</td>\n",
       "      <td>1.858487</td>\n",
       "      <td>0.805613</td>\n",
       "      <td>0.897850</td>\n",
       "      <td>1.239740</td>\n",
       "      <td>0.862968</td>\n",
       "      <td>6.595619</td>\n",
       "      <td>5.878557</td>\n",
       "      <td>3.362446</td>\n",
       "    </tr>\n",
       "    <tr>\n",
       "      <th>131932</th>\n",
       "      <td>14.238630</td>\n",
       "      <td>1.086133</td>\n",
       "      <td>0.024208</td>\n",
       "      <td>-0.168405</td>\n",
       "      <td>3.284802</td>\n",
       "      <td>0.578912</td>\n",
       "      <td>8.691536</td>\n",
       "      <td>3.300015</td>\n",
       "      <td>2.255589</td>\n",
       "    </tr>\n",
       "    <tr>\n",
       "      <th>671155</th>\n",
       "      <td>14.102196</td>\n",
       "      <td>-0.196168</td>\n",
       "      <td>1.214006</td>\n",
       "      <td>0.507912</td>\n",
       "      <td>2.005985</td>\n",
       "      <td>0.636198</td>\n",
       "      <td>4.648983</td>\n",
       "      <td>6.021185</td>\n",
       "      <td>3.440078</td>\n",
       "    </tr>\n",
       "    <tr>\n",
       "      <th>121958</th>\n",
       "      <td>45.304430</td>\n",
       "      <td>-1.518681</td>\n",
       "      <td>0.862908</td>\n",
       "      <td>-0.645753</td>\n",
       "      <td>3.008030</td>\n",
       "      <td>0.843056</td>\n",
       "      <td>32.947945</td>\n",
       "      <td>7.925369</td>\n",
       "      <td>4.479904</td>\n",
       "    </tr>\n",
       "  </tbody>\n",
       "</table>\n",
       "<p>640000 rows × 9 columns</p>\n",
       "</div>"
      ],
      "text/plain": [
       "        DMesons_pt  DMesons_eta  DMesons_fitOutput__Lxy  DMesons_costhetastar  \\\n",
       "52811    37.341957    -0.528279                0.876727             -0.163480   \n",
       "475516   10.641498     0.914045                1.398162             -0.883737   \n",
       "122130   16.043410     1.799062                1.490950              0.041954   \n",
       "701379   10.472263     1.742398                1.960363              0.656921   \n",
       "672853   14.434020     0.478544                0.039826             -0.310774   \n",
       "...            ...          ...                     ...                   ...   \n",
       "259178   24.471102     0.692326               16.075277              0.851681   \n",
       "365838   15.827591     1.858487                0.805613              0.897850   \n",
       "131932   14.238630     1.086133                0.024208             -0.168405   \n",
       "671155   14.102196    -0.196168                1.214006              0.507912   \n",
       "121958   45.304430    -1.518681                0.862908             -0.645753   \n",
       "\n",
       "        inv_mass1  inv_mass2  daughter_pt1  daughter_pt2  daughter_pt3  \n",
       "52811    4.518268   0.702809     21.327976     13.058212      2.985367  \n",
       "475516   2.853040   0.601430      8.514012      1.105939      1.071738  \n",
       "122130   2.390576   0.721188      7.291071      5.717253      3.109725  \n",
       "701379   0.873924   1.177726      4.955917      3.317139      2.233912  \n",
       "672853   3.532396   0.761318      8.966787      3.636620      1.890443  \n",
       "...           ...        ...           ...           ...           ...  \n",
       "259178   0.851062   1.086836     13.109108      8.137378      3.266880  \n",
       "365838   1.239740   0.862968      6.595619      5.878557      3.362446  \n",
       "131932   3.284802   0.578912      8.691536      3.300015      2.255589  \n",
       "671155   2.005985   0.636198      4.648983      6.021185      3.440078  \n",
       "121958   3.008030   0.843056     32.947945      7.925369      4.479904  \n",
       "\n",
       "[640000 rows x 9 columns]"
      ]
     },
     "execution_count": 4,
     "metadata": {},
     "output_type": "execute_result"
    }
   ],
   "source": [
    "print(np.shape(X_train), np.shape(X_test))\n",
    "\n",
    "X_train"
   ]
  },
  {
   "cell_type": "code",
   "execution_count": 322,
   "id": "debfcd42-f024-461a-bdc0-d5d699c99532",
   "metadata": {},
   "outputs": [
    {
     "data": {
      "image/png": "[encoded data removed]",
      "text/plain": [
       "<Figure size 640x480 with 1 Axes>"
      ]
     },
     "metadata": {},
     "output_type": "display_data"
    },
    {
     "data": {
      "image/png": "[encoded data removed]",
      "text/plain": [
       "<Figure size 640x480 with 1 Axes>"
      ]
     },
     "metadata": {},
     "output_type": "display_data"
    },
    {
     "data": {
      "image/png": "[encoded data removed]",
      "text/plain": [
       "<Figure size 640x480 with 1 Axes>"
      ]
     },
     "metadata": {},
     "output_type": "display_data"
    }
   ],
   "source": [
    "counts, bins, _ = plt.hist(X_train1[\"DMesons_pt\"], bins=100)\n",
    "counts2, bins2, _ = plt.hist(X_train2[\"DMesons_pt\"], bins=100)\n",
    "# Normalize the histogram using the formula\n",
    "density = counts / (sum(counts) * np.diff(bins))\n",
    "density2 = counts2 / (sum(counts2) * np.diff(bins2))\n",
    "\n",
    "# Plot the normalized histogram\n",
    "plt.clf()\n",
    "plt.bar(bins[:-1], density, width=np.diff(bins), align='edge', alpha=0.5)\n",
    "plt.bar(bins2[:-1], density2, width=np.diff(bins2), align='edge', alpha=0.5)\n",
    "plt.title(\"Signal vs Backround P_t (Normalized)\")\n",
    "plt.xlabel(\"Transverse Momentum (p_t) [MeV]\")\n",
    "plt.ylabel(\"Normalized Counts\")\n",
    "plt.show()\n",
    "\n",
    "counts, bins, _ = plt.hist(X_train1[\"DMesons_fitOutput__Lxy\"], bins=100)\n",
    "counts2, bins2, _ = plt.hist(X_train2[\"DMesons_fitOutput__Lxy\"], bins=100)\n",
    "# Normalize the histogram using the formula\n",
    "density = counts / (sum(counts) * np.diff(bins))\n",
    "density2 = counts2 / (sum(counts2) * np.diff(bins2))\n",
    "\n",
    "# Plot the normalized histogram\n",
    "plt.clf()\n",
    "plt.bar(bins[:-1], density, width=np.diff(bins), align='edge', alpha=0.5)\n",
    "plt.bar(bins2[:-1], density2, width=np.diff(bins2), align='edge', alpha=0.5)\n",
    "plt.title(\"Signal vs Backround Lxy (Normalized)\")\n",
    "plt.xlabel(\"Decay Length (L_xy) [mm]\")\n",
    "plt.ylabel(\"Normalized Counts\")\n",
    "plt.show()\n",
    "\n",
    "counts, bins, _ = plt.hist(X_train1[\"DMesons_costhetastar\"], bins=100)\n",
    "counts2, bins2, _ = plt.hist(X_train2[\"DMesons_costhetastar\"], bins=100)\n",
    "# Normalize the histogram using the formula\n",
    "density = counts / (sum(counts) * np.diff(bins))\n",
    "density2 = counts2 / (sum(counts2) * np.diff(bins2))\n",
    "\n",
    "# Plot the normalized histogram\n",
    "plt.clf()\n",
    "plt.bar(bins[:-1], density, width=np.diff(bins), align='edge', alpha=0.5)\n",
    "plt.bar(bins2[:-1], density2, width=np.diff(bins2), align='edge', alpha=0.5)\n",
    "plt.title(\"Signal vs Backround cosθ* (Normalized)\")\n",
    "plt.xlabel(\"Cosine of Helicity Angle (cosθ*)\")\n",
    "plt.ylabel(\"Normalized Counts\")\n",
    "plt.show()"
   ]
  },
  {
   "cell_type": "code",
   "execution_count": 361,
   "id": "3f01b6e2-bf7d-4bbb-85ac-995b9bb15aab",
   "metadata": {},
   "outputs": [
    {
     "data": {
      "image/png": "[encoded data removed]",
      "text/plain": [
       "<Figure size 640x480 with 1 Axes>"
      ]
     },
     "metadata": {},
     "output_type": "display_data"
    }
   ],
   "source": [
    "counts, bins, _ = plt.hist(X_train1[\"daughter_pt1\"], bins=100)\n",
    "counts2, bins2, _ = plt.hist(X_train2[\"daughter_pt1\"], bins=100)\n",
    "# Normalize the histogram using the formula\n",
    "density = counts / (sum(counts) * np.diff(bins))\n",
    "density2 = counts2 / (sum(counts2) * np.diff(bins2))\n",
    "\n",
    "# Plot the normalized histogram\n",
    "plt.clf()\n",
    "plt.bar(bins[:-1], density, width=np.diff(bins), align='edge', alpha=0.5)\n",
    "plt.bar(bins2[:-1], density2, width=np.diff(bins2), align='edge', alpha=0.5)\n",
    "plt.title(\"Signal vs Backround Daughter P_t (Normalized)\")\n",
    "plt.xlabel(\"Transverse Momentum (p_t) [MeV]\")\n",
    "plt.ylabel(\"Normalized Counts\")\n",
    "plt.show()"
   ]
  },
  {
   "cell_type": "code",
   "execution_count": 323,
   "id": "cb04599d-15bc-4588-8a9d-363a47647c1f",
   "metadata": {},
   "outputs": [
    {
     "data": {
      "image/png": "[encoded data removed]",
      "text/plain": [
       "<Figure size 640x480 with 1 Axes>"
      ]
     },
     "metadata": {},
     "output_type": "display_data"
    }
   ],
   "source": [
    "#counts, bins, _ = plt.hist(X_train1, bins=20)\n",
    "bins = np.linspace(-5, 5, 50)\n",
    "signal_counts, _ = np.histogram(X_train2, bins=bins, density=True)\n",
    "background_counts, _ = np.histogram(X_train1, bins=bins, density=True)\n",
    "\n",
    "# Plot the signal and background histograms on the same plot\n",
    "plt.bar(bins[:-1], signal_counts, width=np.diff(bins), alpha=0.5, label='Signal')\n",
    "plt.bar(bins[:-1], background_counts, width=np.diff(bins), alpha=0.5, label='Background')\n",
    "\n",
    "# Add axis labels and a legend\n",
    "plt.xlabel('Data')\n",
    "plt.ylabel('Normalized Counts')\n",
    "plt.title(\"Normalized Signal vs Background\")\n",
    "plt.legend()\n",
    "\n",
    "# Show the plot\n",
    "plt.show()"
   ]
  },
  {
   "cell_type": "code",
   "execution_count": 5,
   "id": "3797f144-19c6-43ca-afac-c9917f73fddd",
   "metadata": {},
   "outputs": [
    {
     "name": "stderr",
     "output_type": "stream",
     "text": [
      "Failed to detect the name of this notebook, you can set it manually with the WANDB_NOTEBOOK_NAME environment variable to enable code saving.\n",
      "\u001b[34m\u001b[1mwandb\u001b[0m: Currently logged in as: \u001b[33mgup-singh\u001b[0m (\u001b[33matlasdnn\u001b[0m). Use \u001b[1m`wandb login --relogin`\u001b[0m to force relogin\n"
     ]
    },
    {
     "data": {
      "text/html": [
       "wandb version 0.15.0 is available!  To upgrade, please run:\n",
       " $ pip install wandb --upgrade"
      ],
      "text/plain": [
       "<IPython.core.display.HTML object>"
      ]
     },
     "metadata": {},
     "output_type": "display_data"
    },
    {
     "data": {
      "text/html": [
       "Tracking run with wandb version 0.14.0"
      ],
      "text/plain": [
       "<IPython.core.display.HTML object>"
      ]
     },
     "metadata": {},
     "output_type": "display_data"
    },
    {
     "data": {
      "text/html": [
       "Run data is saved locally in <code>/global/u2/g/gupsingh/ATLAS_DNN/wandb/run-20230422_180917-3zfepqw8</code>"
      ],
      "text/plain": [
       "<IPython.core.display.HTML object>"
      ]
     },
     "metadata": {},
     "output_type": "display_data"
    },
    {
     "data": {
      "text/html": [
       "Syncing run <strong><a href='https://wandb.ai/atlasdnn/ATLAS_DNN/runs/3zfepqw8' target=\"_blank\">leafy-firebrand-57</a></strong> to <a href='https://wandb.ai/atlasdnn/ATLAS_DNN' target=\"_blank\">Weights & Biases</a> (<a href='https://wandb.me/run' target=\"_blank\">docs</a>)<br/>"
      ],
      "text/plain": [
       "<IPython.core.display.HTML object>"
      ]
     },
     "metadata": {},
     "output_type": "display_data"
    },
    {
     "data": {
      "text/html": [
       " View project at <a href='https://wandb.ai/atlasdnn/ATLAS_DNN' target=\"_blank\">https://wandb.ai/atlasdnn/ATLAS_DNN</a>"
      ],
      "text/plain": [
       "<IPython.core.display.HTML object>"
      ]
     },
     "metadata": {},
     "output_type": "display_data"
    },
    {
     "data": {
      "text/html": [
       " View run at <a href='https://wandb.ai/atlasdnn/ATLAS_DNN/runs/3zfepqw8' target=\"_blank\">https://wandb.ai/atlasdnn/ATLAS_DNN/runs/3zfepqw8</a>"
      ],
      "text/plain": [
       "<IPython.core.display.HTML object>"
      ]
     },
     "metadata": {},
     "output_type": "display_data"
    }
   ],
   "source": [
    "wandb.init(\n",
    "    # set the wandb project where this run will be logged\n",
    "    project=\"ATLAS_DNN\",\n",
    "\n",
    "    # track hyperparameters and run metadata with wandb.config\n",
    "    config={\n",
    "        \"layer_1\": 64,\n",
    "        \"activation_1\": \"relu\",\n",
    "        \"dropout_1\": 0.5,\n",
    "        \"layer_2\": 32,\n",
    "        \"activation_2\": \"relu\",\n",
    "        \"dropout_2\": 0.5,\n",
    "        \"output_layer\": 1,\n",
    "        \"output_activation\": \"sigmoid\",\n",
    "        \"optimizer\": \"adam\",\n",
    "        \"loss\": \"binary_crossentropy\",\n",
    "        \"metric\": \"accuracy\",\n",
    "        \"epoch\": 50,\n",
    "        \"batch_size\": 32\n",
    "    }\n",
    ")\n",
    "config = wandb.config"
   ]
  },
  {
   "cell_type": "code",
   "execution_count": 6,
   "id": "8691200c-24fe-4a5b-a4c4-29902c91a09e",
   "metadata": {},
   "outputs": [
    {
     "name": "stdout",
     "output_type": "stream",
     "text": [
      "Model: \"my_model\"\n",
      "_________________________________________________________________\n",
      " Layer (type)                Output Shape              Param #   \n",
      "=================================================================\n",
      " dense (Dense)               multiple                  640       \n",
      "                                                                 \n",
      " dropout (Dropout)           multiple                  0         \n",
      "                                                                 \n",
      " dense_1 (Dense)             multiple                  2080      \n",
      "                                                                 \n",
      " dropout_1 (Dropout)         multiple                  0         \n",
      "                                                                 \n",
      " dense_2 (Dense)             multiple                  33        \n",
      "                                                                 \n",
      "=================================================================\n",
      "Total params: 2,753\n",
      "Trainable params: 2,753\n",
      "Non-trainable params: 0\n",
      "_________________________________________________________________\n"
     ]
    },
    {
     "name": "stderr",
     "output_type": "stream",
     "text": [
      "2023-04-22 18:09:24.871976: I tensorflow/core/common_runtime/gpu/gpu_device.cc:1635] Created device /job:localhost/replica:0/task:0/device:GPU:0 with 38168 MB memory:  -> device: 0, name: NVIDIA A100-SXM4-40GB, pci bus id: 0000:03:00.0, compute capability: 8.0\n",
      "2023-04-22 18:09:24.873718: I tensorflow/core/common_runtime/gpu/gpu_device.cc:1635] Created device /job:localhost/replica:0/task:0/device:GPU:1 with 38168 MB memory:  -> device: 1, name: NVIDIA A100-SXM4-40GB, pci bus id: 0000:41:00.0, compute capability: 8.0\n",
      "2023-04-22 18:09:24.875223: I tensorflow/core/common_runtime/gpu/gpu_device.cc:1635] Created device /job:localhost/replica:0/task:0/device:GPU:2 with 38168 MB memory:  -> device: 2, name: NVIDIA A100-SXM4-40GB, pci bus id: 0000:82:00.0, compute capability: 8.0\n",
      "2023-04-22 18:09:24.876671: I tensorflow/core/common_runtime/gpu/gpu_device.cc:1635] Created device /job:localhost/replica:0/task:0/device:GPU:3 with 38168 MB memory:  -> device: 3, name: NVIDIA A100-SXM4-40GB, pci bus id: 0000:c1:00.0, compute capability: 8.0\n"
     ]
    }
   ],
   "source": [
    "# def get_config(self):\n",
    "#     return config\n",
    "\n",
    "class MyModel(Model):\n",
    "    def __init__(self):\n",
    "        super(MyModel, self).__init__()\n",
    "        config = wandb.config\n",
    "        self.dense1 = Dense(config.layer_1, activation=config.activation_1)\n",
    "        self.dropout1 = Dropout(config.dropout_1)\n",
    "        \n",
    "        self.dense2 = Dense(config.layer_2, activation = config.activation_2)\n",
    "        self.dropout2 = Dropout(config.dropout_2)\n",
    "        \n",
    "        self.dense3 = Dense(config.output_layer, activation=config.output_activation)\n",
    "        \n",
    "    def call(self, x):\n",
    "        x = self.dense1(x)\n",
    "        x = self.dropout1(x)\n",
    "        \n",
    "        x = self.dense2(x)\n",
    "        x = self.dropout2(x)\n",
    "        \n",
    "        x = self.dense3(x)\n",
    "        \n",
    "        return x\n",
    "    \n",
    "model = MyModel()\n",
    "model.build(input_shape=(None, X_train.shape[1]))\n",
    "model.summary()\n",
    "\n",
    "def custom_accuracy(y_true, y_pred): \n",
    "    \n",
    "    y_pred_binary = tf.cast(tf.round(y_pred), tf.int32)\n",
    "    y_true = tf.cast(y_true, tf.int32)\n",
    "    \n",
    "    correct_predictions = tf.equal(y_true, y_pred_binary)\n",
    "    accuracy = tf.reduce_mean(tf.cast(correct_predictions, tf.float32))\n",
    "    \n",
    "    return accuracy"
   ]
  },
  {
   "cell_type": "code",
   "execution_count": null,
   "id": "9f802f11-45c9-464e-9b90-e7e6deed7bba",
   "metadata": {},
   "outputs": [],
   "source": [
    "#Compile\n",
    "start_time = time.time()\n",
    "\n",
    "model.compile(optimizer=config.optimizer, loss=config.loss, metrics=[custom_accuracy])\n",
    "\n",
    "early_stop = EarlyStopping(monitor='val_loss', patience=3, verbose=1, mode='min')\n",
    "#Train\n",
    "with tf.device('/gpu:0'):\n",
    "    history = model.fit(X_train, y_train, epochs=config.epoch, batch_size=config.batch_size, validation_data=(X_test, y_test), callbacks=[early_stop, WandbCallback(), tf.keras.callbacks.History()])\n",
    "\n",
    "#Evaluate testing set\n",
    "loss = model.evaluate(X_test, y_test)\n",
    "print(\"Loss: {}\".format(loss))\n",
    "\n",
    "end_time = time.time()\n",
    "runtime = end_time - start_time\n",
    "print(\"Training runtime:\", runtime, \"seconds\")"
   ]
  },
  {
   "cell_type": "code",
   "execution_count": 346,
   "id": "c51c2995-8b37-451a-a2a6-e6b0eef781b7",
   "metadata": {},
   "outputs": [
    {
     "data": {
      "text/html": [
       "Waiting for W&B process to finish... <strong style=\"color:green\">(success).</strong>"
      ],
      "text/plain": [
       "<IPython.core.display.HTML object>"
      ]
     },
     "metadata": {},
     "output_type": "display_data"
    },
    {
     "data": {
      "text/html": [
       "<style>\n",
       "    table.wandb td:nth-child(1) { padding: 0 10px; text-align: left ; width: auto;} td:nth-child(2) {text-align: left ; width: 100%}\n",
       "    .wandb-row { display: flex; flex-direction: row; flex-wrap: wrap; justify-content: flex-start; width: 100% }\n",
       "    .wandb-col { display: flex; flex-direction: column; flex-basis: 100%; flex: 1; padding: 10px; }\n",
       "    </style>\n",
       "<div class=\"wandb-row\"><div class=\"wandb-col\"><h3>Run history:</h3><br/><table class=\"wandb\"><tr><td>custom_accuracy</td><td>▁▆▇▇▇▇▇█████████</td></tr><tr><td>epoch</td><td>▁▁▂▂▃▃▄▄▅▅▆▆▇▇██</td></tr><tr><td>loss</td><td>█▃▂▂▂▂▂▁▁▁▁▁▁▁▁▁</td></tr><tr><td>val_custom_accuracy</td><td>▂▅▁▇▆▆▆▇▆▇▇██▇▇▆</td></tr><tr><td>val_loss</td><td>█▅▇▃▃▃▄▂▄▄▁▂▁▁▂▃</td></tr></table><br/></div><div class=\"wandb-col\"><h3>Run summary:</h3><br/><table class=\"wandb\"><tr><td>best_epoch</td><td>12</td></tr><tr><td>best_val_loss</td><td>0.02634</td></tr><tr><td>custom_accuracy</td><td>0.98331</td></tr><tr><td>epoch</td><td>15</td></tr><tr><td>loss</td><td>0.04768</td></tr><tr><td>val_custom_accuracy</td><td>0.98723</td></tr><tr><td>val_loss</td><td>0.03111</td></tr></table><br/></div></div>"
      ],
      "text/plain": [
       "<IPython.core.display.HTML object>"
      ]
     },
     "metadata": {},
     "output_type": "display_data"
    },
    {
     "data": {
      "text/html": [
       " View run <strong style=\"color:#cdcd00\">wise-pyramid-54</strong> at: <a href='https://wandb.ai/atlasdnn/ATLAS_DNN/runs/ugm4x83y' target=\"_blank\">https://wandb.ai/atlasdnn/ATLAS_DNN/runs/ugm4x83y</a><br/>Synced 6 W&B file(s), 1 media file(s), 40 artifact file(s) and 0 other file(s)"
      ],
      "text/plain": [
       "<IPython.core.display.HTML object>"
      ]
     },
     "metadata": {},
     "output_type": "display_data"
    },
    {
     "data": {
      "text/html": [
       "Find logs at: <code>./wandb/run-20230422_014812-ugm4x83y/logs</code>"
      ],
      "text/plain": [
       "<IPython.core.display.HTML object>"
      ]
     },
     "metadata": {},
     "output_type": "display_data"
    }
   ],
   "source": [
    "wandb.finish()"
   ]
  },
  {
   "cell_type": "markdown",
   "id": "6762b384-00da-4be7-bdab-658c78b38bd8",
   "metadata": {},
   "source": [
    "------------------------------------------ Finished training, now analyze ------------------------------------------"
   ]
  },
  {
   "cell_type": "code",
   "execution_count": 347,
   "id": "e18b441c-207f-402e-8a4c-b1c8a7f86de0",
   "metadata": {},
   "outputs": [
    {
     "data": {
      "image/png": "[encoded data removed]",
      "text/plain": [
       "<Figure size 640x480 with 1 Axes>"
      ]
     },
     "metadata": {},
     "output_type": "display_data"
    }
   ],
   "source": [
    "# Plot the training and validation loss\n",
    "plt.plot(history.history['loss'])\n",
    "plt.plot(history.history['val_loss'])\n",
    "plt.title('Model Loss')\n",
    "plt.ylabel('Loss')\n",
    "plt.xlabel('Epoch')\n",
    "plt.legend(['Train', 'Validation'], loc='upper right')\n",
    "plt.show()"
   ]
  },
  {
   "cell_type": "code",
   "execution_count": 348,
   "id": "16ec2ba3-002e-489f-a0a4-a087894d71c2",
   "metadata": {},
   "outputs": [
    {
     "name": "stdout",
     "output_type": "stream",
     "text": [
      "5000/5000 [==============================] - 5s 1ms/step\n"
     ]
    },
    {
     "data": {
      "text/plain": [
       "array([[7.1088782e-25],\n",
       "       [1.0000000e+00],\n",
       "       [1.0000000e+00],\n",
       "       [9.9999988e-01],\n",
       "       [1.6372047e-19],\n",
       "       [9.9999988e-01],\n",
       "       [5.7209105e-25],\n",
       "       [9.9998599e-01],\n",
       "       [1.3263221e-11],\n",
       "       [5.5904919e-01]], dtype=float32)"
      ]
     },
     "execution_count": 348,
     "metadata": {},
     "output_type": "execute_result"
    }
   ],
   "source": [
    "predictions_both = model.predict(X_test)\n",
    "predictions_both[:10]"
   ]
  },
  {
   "cell_type": "code",
   "execution_count": 349,
   "id": "4a31e0ad-5770-42c8-a6b1-6f93a797adc6",
   "metadata": {},
   "outputs": [
    {
     "name": "stdout",
     "output_type": "stream",
     "text": [
      "2500/2500 [==============================] - 3s 1ms/step\n"
     ]
    },
    {
     "data": {
      "text/plain": [
       "array([[7.0275242e-08],\n",
       "       [7.6552309e-22],\n",
       "       [1.2576581e-16],\n",
       "       [4.6907729e-03],\n",
       "       [3.8948545e-32],\n",
       "       [4.5645117e-28],\n",
       "       [3.2628909e-02],\n",
       "       [2.9678710e-30],\n",
       "       [1.7343564e-11],\n",
       "       [1.5058629e-31]], dtype=float32)"
      ]
     },
     "execution_count": 349,
     "metadata": {},
     "output_type": "execute_result"
    }
   ],
   "source": [
    "predictions_background = model.predict(X_test1)\n",
    "predictions_background[:10]"
   ]
  },
  {
   "cell_type": "code",
   "execution_count": 350,
   "id": "691d943d-649d-46bc-8900-eee623a49f70",
   "metadata": {},
   "outputs": [
    {
     "name": "stdout",
     "output_type": "stream",
     "text": [
      "2500/2500 [==============================] - 3s 1ms/step\n"
     ]
    },
    {
     "data": {
      "text/plain": [
       "array([[1.        ],\n",
       "       [1.        ],\n",
       "       [0.9999999 ],\n",
       "       [0.9999999 ],\n",
       "       [0.9317227 ],\n",
       "       [0.99985236],\n",
       "       [0.9987786 ],\n",
       "       [0.99999905],\n",
       "       [0.9999999 ],\n",
       "       [0.9801107 ]], dtype=float32)"
      ]
     },
     "execution_count": 350,
     "metadata": {},
     "output_type": "execute_result"
    }
   ],
   "source": [
    "predictions_signal = model.predict(X_test2)\n",
    "predictions_signal[:10]"
   ]
  },
  {
   "cell_type": "code",
   "execution_count": 377,
   "id": "3a685fcf-1cd5-4478-b5ca-b1ee1f483e9e",
   "metadata": {},
   "outputs": [
    {
     "name": "stdout",
     "output_type": "stream",
     "text": [
      "Accuracy for Both: 98.72%\n",
      "Accuracy for Only Background: 98.18%\n",
      "Accuracy for Only Signal: 99.43%\n"
     ]
    }
   ],
   "source": [
    "#predict accuract given y_test and predictions from model\n",
    "def pred_accuracy(y_test, predictions):\n",
    "    D_count, Lambda_count = 0, 0\n",
    "\n",
    "    predictions_list = []\n",
    "    for pred in predictions:\n",
    "        #arbitrary cutoff of 0.5\n",
    "        if float(pred) > 0.5:\n",
    "            predictions_list.append(int(1))\n",
    "            Lambda_count+=1\n",
    "        elif float(pred) < 0.5:\n",
    "            predictions_list.append(int(0))\n",
    "            D_count+=1\n",
    "            \n",
    "    accuracy = np.mean(predictions_list == y_test)\n",
    "    \n",
    "    # print(\"$D^+$ Count: {}\".format(D_count))\n",
    "    # print(\"$\\Lambda_C^+ Count: {}\".format(Lambda_count))\n",
    "    \n",
    "    return accuracy\n",
    "\n",
    "accuracy_both = pred_accuracy(y_test, list(predictions_both))\n",
    "accuracy_background = pred_accuracy(y_test1, list(predictions_background))\n",
    "accuracy_signal = pred_accuracy(y_test2, list(predictions_signal))\n",
    "\n",
    "print(\"Accuracy for Both: {:.2%}\".format(accuracy_both))\n",
    "print(\"Accuracy for Only Background: {:.2%}\".format(accuracy_background))\n",
    "print(\"Accuracy for Only Signal: {:.2%}\".format(accuracy_signal))"
   ]
  },
  {
   "cell_type": "code",
   "execution_count": 381,
   "id": "4c231cdf-49c7-4f4d-864c-8f38d62c3847",
   "metadata": {},
   "outputs": [
    {
     "data": {
      "image/png": "[encoded data removed]",
      "text/plain": [
       "<Figure size 640x480 with 1 Axes>"
      ]
     },
     "metadata": {},
     "output_type": "display_data"
    }
   ],
   "source": [
    "hist = plt.hist(predictions_background, bins = 25, label = \"$D^{+}$ Predictions\", alpha=0.5)\n",
    "hist2 = plt.hist(predictions_signal, bins = 25, label = \"$\\Lambda_C^{+}$ Predictions\", alpha=0.5)\n",
    "plt.xlabel(\"score\")\n",
    "plt.ylabel(\"count\")\n",
    "plt.title(\"Predictions Count vs Score\")\n",
    "plt.legend()\n",
    "plt.show()"
   ]
  },
  {
   "cell_type": "code",
   "execution_count": 379,
   "id": "38f6bd93-a366-496a-9e5d-daea55ed8021",
   "metadata": {},
   "outputs": [
    {
     "data": {
      "image/png": "[encoded data removed]",
      "text/plain": [
       "<Figure size 640x480 with 1 Axes>"
      ]
     },
     "metadata": {},
     "output_type": "display_data"
    }
   ],
   "source": [
    "# Get true labels and predicted probabilities\n",
    "y_true = list(y_test)\n",
    "y_pred = predictions\n",
    "\n",
    "# Calculate TPR and FPR for different threshold values\n",
    "fpr, tpr, thresholds = roc_curve(y_true, y_pred)\n",
    "\n",
    "# Plot ROC curve\n",
    "plt.plot(fpr, tpr)\n",
    "plt.xlabel('False Positive Rate')\n",
    "plt.ylabel('True Positive Rate')\n",
    "plt.title('ROC Curve')\n",
    "plt.show()"
   ]
  },
  {
   "cell_type": "code",
   "execution_count": null,
   "id": "b4ad1a23-f36a-4b5a-aa02-92c6246d47d3",
   "metadata": {},
   "outputs": [],
   "source": []
  }
 ],
 "metadata": {
  "kernelspec": {
   "display_name": "cernROOT",
   "language": "python",
   "name": "cernroot"
  },
  "language_info": {
   "codemirror_mode": {
    "name": "ipython",
    "version": 3
   },
   "file_extension": ".py",
   "mimetype": "text/x-python",
   "name": "python",
   "nbconvert_exporter": "python",
   "pygments_lexer": "ipython3",
   "version": "3.11.0"
  }
 },
 "nbformat": 4,
 "nbformat_minor": 5
}
