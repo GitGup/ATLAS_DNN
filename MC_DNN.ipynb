{
 "cells": [
  {
   "cell_type": "code",
   "execution_count": 1,
   "id": "31a7a761-3ae0-4c84-9f77-ec0c8ec1b6b7",
   "metadata": {},
   "outputs": [
    {
     "name": "stdout",
     "output_type": "stream",
     "text": [
      "Welcome to JupyROOT 6.28/00\n"
     ]
    },
    {
     "name": "stderr",
     "output_type": "stream",
     "text": [
      "2023-04-26 22:44:18.570977: I tensorflow/core/platform/cpu_feature_guard.cc:182] This TensorFlow binary is optimized to use available CPU instructions in performance-critical operations.\n",
      "To enable the following instructions: AVX2 FMA, in other operations, rebuild TensorFlow with the appropriate compiler flags.\n",
      "2023-04-26 22:44:19.940795: W tensorflow/compiler/tf2tensorrt/utils/py_utils.cc:38] TF-TRT Warning: Could not find TensorRT\n"
     ]
    }
   ],
   "source": [
    "from common import *\n",
    "from process_ntuples import *\n",
    "from process_df import *\n",
    "from plotting import *\n",
    "from cuts import apply_cuts, apply_pt_cut\n",
    "import matplotlib.pyplot as plt\n",
    "import pickle\n",
    "import time\n",
    "\n",
    "import tensorflow as tf\n",
    "from tensorflow.keras import Model\n",
    "from keras.models import Sequential\n",
    "from keras.layers import Dense, Dropout, Activation\n",
    "from keras import layers\n",
    "\n",
    "from sklearn.preprocessing import StandardScaler\n",
    "from sklearn.model_selection import train_test_split\n",
    "from sklearn.metrics import roc_curve\n",
    "\n",
    "from tensorflow.keras.callbacks import EarlyStopping\n",
    "\n",
    "#weights and biases imports\n",
    "import wandb\n",
    "from wandb.keras import WandbMetricsLogger, WandbModelCheckpoint, WandbCallback"
   ]
  },
  {
   "cell_type": "markdown",
   "id": "c874c9a6-beab-488b-8a31-9fe628c93d4e",
   "metadata": {},
   "source": [
    "$D^{+}$ : 411\n",
    "\n",
    "$\\Lambda_C^{+}$ : 4122\n",
    "\n",
    "Apply Cuts Fiducial Region cuts ($𝐷^{+}$ $𝑝_T$ > 8 GeV, |𝜂| < 2.2). ***See cuts.py on how the cuts are applied***"
   ]
  },
  {
   "cell_type": "code",
   "execution_count": 2,
   "id": "b01cad53-02f2-432b-aa7a-a88ae45eb0d2",
   "metadata": {},
   "outputs": [
    {
     "name": "stdout",
     "output_type": "stream",
     "text": [
      "[]\n",
      "Num GPUs Available:  0\n"
     ]
    },
    {
     "name": "stderr",
     "output_type": "stream",
     "text": [
      "2023-04-26 20:14:27.175627: E tensorflow/compiler/xla/stream_executor/cuda/cuda_driver.cc:266] failed call to cuInit: CUDA_ERROR_NO_DEVICE: no CUDA-capable device is detected\n"
     ]
    }
   ],
   "source": [
    "print(tf.config.list_physical_devices('GPU'))\n",
    "# Check if tensorflow is using GPU\n",
    "print(\"Num GPUs Available: \", len(tf.config.list_physical_devices('GPU')))"
   ]
  },
  {
   "cell_type": "code",
   "execution_count": 218,
   "id": "04c3b3b8-44f1-4c2e-b001-900d504b7e41",
   "metadata": {},
   "outputs": [
    {
     "name": "stdout",
     "output_type": "stream",
     "text": [
      "['CharmAnalysis.mc.ForcedDecay.Dplus.tree.root', 'CharmAnalysis.mc.ForcedDecay.LabmdaC.tree.root']\n"
     ]
    }
   ],
   "source": [
    "dir_path = \"/global/cfs/cdirs/atlas/gottino/Charm/Analysis/run_batch_gup/ntuples\"\n",
    "\n",
    "files = os.listdir(dir_path)\n",
    "\n",
    "DMesonsTTree = process_ntuple(dir_path, files[0])\n",
    "LambdaMesonsTTree = process_ntuple(dir_path, files[1])\n",
    "\n",
    "branches = [\"DMesons_pt\", \"DMesons_eta\", \"DMesons_m\", \"DMesons_fitOutput__Lxy\", \"DMesons_costhetastar\", \"DMesons_pdgId\", \n",
    "            \"DMesons_daughterInfo__pt\", \"DMesons_daughterInfo__eta\", \"DMesons_daughterInfo__phi\", \"DMesons_daughterInfo__pdgId\",\n",
    "           \"DMesons_fitOutput__ImpactSignificance\"]\n",
    "\n",
    "print(files)"
   ]
  },
  {
   "cell_type": "code",
   "execution_count": 8,
   "id": "93960a4e-eb59-4c90-8c87-7e50ad051eb5",
   "metadata": {},
   "outputs": [
    {
     "data": {
      "text/html": [
       "<div>\n",
       "<style scoped>\n",
       "    .dataframe tbody tr th:only-of-type {\n",
       "        vertical-align: middle;\n",
       "    }\n",
       "\n",
       "    .dataframe tbody tr th {\n",
       "        vertical-align: top;\n",
       "    }\n",
       "\n",
       "    .dataframe thead th {\n",
       "        text-align: right;\n",
       "    }\n",
       "</style>\n",
       "<table border=\"1\" class=\"dataframe\">\n",
       "  <thead>\n",
       "    <tr style=\"text-align: right;\">\n",
       "      <th></th>\n",
       "      <th>DMesons_pt</th>\n",
       "      <th>DMesons_eta</th>\n",
       "      <th>DMesons_m</th>\n",
       "      <th>DMesons_fitOutput__Lxy</th>\n",
       "      <th>DMesons_costhetastar</th>\n",
       "      <th>DMesons_pdgId</th>\n",
       "      <th>DMesons_daughterInfo__pt</th>\n",
       "      <th>DMesons_daughterInfo__eta</th>\n",
       "      <th>DMesons_daughterInfo__phi</th>\n",
       "      <th>DMesons_daughterInfo__pdgId</th>\n",
       "      <th>DMesons_fitOutput__ImpactSignificance</th>\n",
       "    </tr>\n",
       "  </thead>\n",
       "  <tbody>\n",
       "    <tr>\n",
       "      <th>0</th>\n",
       "      <td>[10.047125]</td>\n",
       "      <td>[0.08182407170534134]</td>\n",
       "      <td>[1862.4176025390625]</td>\n",
       "      <td>[2.3395302295684814]</td>\n",
       "      <td>[0.25487038493156433]</td>\n",
       "      <td>[411]</td>\n",
       "      <td>[[6.094892978668213, 1.3074619770050049, 2.733...</td>\n",
       "      <td>[(0.15998553, 0.011107716, -0.0614343)]</td>\n",
       "      <td>[(2.6128821, 2.7195172, 2.9228168)]</td>\n",
       "      <td>[(-321, 211, 211)]</td>\n",
       "      <td>[0.5543845891952515]</td>\n",
       "    </tr>\n",
       "    <tr>\n",
       "      <th>1</th>\n",
       "      <td>[18.9937421875, 18.9937421875]</td>\n",
       "      <td>[-1.6619627475738525, -1.6619627475738525]</td>\n",
       "      <td>[1853.90625, 2398.886962890625]</td>\n",
       "      <td>[1.9184143543243408, 1.9184143543243408]</td>\n",
       "      <td>[-0.36730244755744934, -0.0650731548666954]</td>\n",
       "      <td>[411, 4122]</td>\n",
       "      <td>[[6.457057952880859, 5.970093250274658, 6.6375...</td>\n",
       "      <td>[(-1.608788, -1.6307458, -1.7315177), (-1.7326...</td>\n",
       "      <td>[(-0.371787, -0.5164238, -0.4971406), (-0.4966...</td>\n",
       "      <td>[(-321, 211, 211), (2212, -321, 211)]</td>\n",
       "      <td>[1.8095015287399292, 1.8095015287399292]</td>\n",
       "    </tr>\n",
       "    <tr>\n",
       "      <th>2</th>\n",
       "      <td>[10.118494140625, 10.118494140625]</td>\n",
       "      <td>[0.041659336537122726, 0.041659336537122726]</td>\n",
       "      <td>[1874.203125, 2468.1806640625]</td>\n",
       "      <td>[2.8901257514953613, 2.8901257514953613]</td>\n",
       "      <td>[0.06833142042160034, 0.4276972711086273]</td>\n",
       "      <td>[411, 4122]</td>\n",
       "      <td>[[3.7944977283477783, 3.3083105087280273, 3.06...</td>\n",
       "      <td>[(-0.073717244, 0.22605924, -0.017923404), (0....</td>\n",
       "      <td>[(0.753864, 0.6827104, 0.920779), (0.6827104, ...</td>\n",
       "      <td>[(-321, 211, 211), (2212, -321, 211)]</td>\n",
       "      <td>[2.292919158935547, 2.292919158935547]</td>\n",
       "    </tr>\n",
       "    <tr>\n",
       "      <th>3</th>\n",
       "      <td>[12.579470703125, 12.579470703125]</td>\n",
       "      <td>[-1.1025604009628296, -1.1025604009628296]</td>\n",
       "      <td>[1884.987060546875, 2220.384521484375]</td>\n",
       "      <td>[0.9249186515808105, 0.9249186515808105]</td>\n",
       "      <td>[-0.5603189468383789, -0.41332852840423584]</td>\n",
       "      <td>[411, 4122]</td>\n",
       "      <td>[[3.7815563678741455, 7.396467208862305, 1.412...</td>\n",
       "      <td>[(-0.9284433, -1.182188, -1.1012387), (-1.1821...</td>\n",
       "      <td>[(0.8518817, 0.7419038, 0.77916163), (0.741903...</td>\n",
       "      <td>[(-321, 211, 211), (2212, -321, 211)]</td>\n",
       "      <td>[0.7992758750915527, 0.7992758750915527]</td>\n",
       "    </tr>\n",
       "    <tr>\n",
       "      <th>4</th>\n",
       "      <td>[36.1288359375]</td>\n",
       "      <td>[0.6598162055015564]</td>\n",
       "      <td>[2235.69873046875]</td>\n",
       "      <td>[0.3584118187427521]</td>\n",
       "      <td>[0.19036155939102173]</td>\n",
       "      <td>[4122]</td>\n",
       "      <td>[[18.936317443847656, 15.39889907836914, 1.803...</td>\n",
       "      <td>[(0.69086045, 0.62282157, 0.63955635)]</td>\n",
       "      <td>[(0.857847, 0.81737196, 0.7582323)]</td>\n",
       "      <td>[(2212, -321, 211)]</td>\n",
       "      <td>[1.1388494968414307]</td>\n",
       "    </tr>\n",
       "    <tr>\n",
       "      <th>...</th>\n",
       "      <td>...</td>\n",
       "      <td>...</td>\n",
       "      <td>...</td>\n",
       "      <td>...</td>\n",
       "      <td>...</td>\n",
       "      <td>...</td>\n",
       "      <td>...</td>\n",
       "      <td>...</td>\n",
       "      <td>...</td>\n",
       "      <td>...</td>\n",
       "      <td>...</td>\n",
       "    </tr>\n",
       "    <tr>\n",
       "      <th>823353</th>\n",
       "      <td>[19.1050703125]</td>\n",
       "      <td>[1.6708742380142212]</td>\n",
       "      <td>[1802.5220947265625]</td>\n",
       "      <td>[0.5411524176597595]</td>\n",
       "      <td>[0.5503742098808289]</td>\n",
       "      <td>[411]</td>\n",
       "      <td>[[12.198583602905273, 2.20495867729187, 4.7119...</td>\n",
       "      <td>[(1.705293, 1.5110217, 1.6457342)]</td>\n",
       "      <td>[(2.8939261, 2.7120652, 2.8616462)]</td>\n",
       "      <td>[(-321, 211, 211)]</td>\n",
       "      <td>[2.8667211532592773]</td>\n",
       "    </tr>\n",
       "    <tr>\n",
       "      <th>823354</th>\n",
       "      <td>[35.5684921875, 35.5684921875]</td>\n",
       "      <td>[-1.688397765159607, -1.688397765159607]</td>\n",
       "      <td>[1844.779541015625, 2206.408203125]</td>\n",
       "      <td>[13.070379257202148, 13.070379257202148]</td>\n",
       "      <td>[-0.9140324592590332, -0.8278874754905701]</td>\n",
       "      <td>[411, 4122]</td>\n",
       "      <td>[[5.796909809112549, 20.56328582763672, 9.2475...</td>\n",
       "      <td>[(-1.6683935, -1.7061399, -1.6597538), (-1.706...</td>\n",
       "      <td>[(1.4682562, 1.4755678, 1.4053382), (1.4755678...</td>\n",
       "      <td>[(-321, 211, 211), (2212, -321, 211)]</td>\n",
       "      <td>[3.2546143531799316, 3.2546143531799316]</td>\n",
       "    </tr>\n",
       "    <tr>\n",
       "      <th>823355</th>\n",
       "      <td>[8.96414453125, 8.96414453125]</td>\n",
       "      <td>[-2.151238203048706, -2.151238203048706]</td>\n",
       "      <td>[1906.624267578125, 2233.773193359375]</td>\n",
       "      <td>[1.6992524862289429, 1.6992524862289429]</td>\n",
       "      <td>[0.1967991143465042, 0.495256245136261]</td>\n",
       "      <td>[411, 4122]</td>\n",
       "      <td>[[3.0222578048706055, 5.220008850097656, 0.736...</td>\n",
       "      <td>[(-2.0755956, -2.2418754, -1.6611706), (-2.241...</td>\n",
       "      <td>[(1.9180546, 1.8532572, 2.0587387), (1.8532572...</td>\n",
       "      <td>[(-321, 211, 211), (2212, -321, 211)]</td>\n",
       "      <td>[0.9604215025901794, 0.9604215025901794]</td>\n",
       "    </tr>\n",
       "    <tr>\n",
       "      <th>823356</th>\n",
       "      <td>[17.66424609375]</td>\n",
       "      <td>[-0.09207434207201004]</td>\n",
       "      <td>[1886.3043212890625]</td>\n",
       "      <td>[1.2944053411483765]</td>\n",
       "      <td>[0.28153401613235474]</td>\n",
       "      <td>[411]</td>\n",
       "      <td>[[9.11902904510498, 5.195584774017334, 3.37626...</td>\n",
       "      <td>[(-0.045325126, -0.065605104, -0.25413564)]</td>\n",
       "      <td>[(1.7839004, 1.9068127, 1.8262501)]</td>\n",
       "      <td>[(-321, 211, 211)]</td>\n",
       "      <td>[3.164067029953003]</td>\n",
       "    </tr>\n",
       "    <tr>\n",
       "      <th>823357</th>\n",
       "      <td>[12.5927138671875]</td>\n",
       "      <td>[1.7210376262664795]</td>\n",
       "      <td>[2289.2763671875]</td>\n",
       "      <td>[0.43392205238342285]</td>\n",
       "      <td>[0.714533269405365]</td>\n",
       "      <td>[4122]</td>\n",
       "      <td>[[5.864290237426758, 4.308999538421631, 2.4255...</td>\n",
       "      <td>[(1.8237559, 1.676771, 1.5124723)]</td>\n",
       "      <td>[(-2.946329, -2.910392, -2.8033228)]</td>\n",
       "      <td>[(2212, -321, 211)]</td>\n",
       "      <td>[2.4650354385375977]</td>\n",
       "    </tr>\n",
       "  </tbody>\n",
       "</table>\n",
       "<p>823358 rows × 11 columns</p>\n",
       "</div>"
      ],
      "text/plain": [
       "                                DMesons_pt  \\\n",
       "0                              [10.047125]   \n",
       "1           [18.9937421875, 18.9937421875]   \n",
       "2       [10.118494140625, 10.118494140625]   \n",
       "3       [12.579470703125, 12.579470703125]   \n",
       "4                          [36.1288359375]   \n",
       "...                                    ...   \n",
       "823353                     [19.1050703125]   \n",
       "823354      [35.5684921875, 35.5684921875]   \n",
       "823355      [8.96414453125, 8.96414453125]   \n",
       "823356                    [17.66424609375]   \n",
       "823357                  [12.5927138671875]   \n",
       "\n",
       "                                         DMesons_eta  \\\n",
       "0                              [0.08182407170534134]   \n",
       "1         [-1.6619627475738525, -1.6619627475738525]   \n",
       "2       [0.041659336537122726, 0.041659336537122726]   \n",
       "3         [-1.1025604009628296, -1.1025604009628296]   \n",
       "4                               [0.6598162055015564]   \n",
       "...                                              ...   \n",
       "823353                          [1.6708742380142212]   \n",
       "823354      [-1.688397765159607, -1.688397765159607]   \n",
       "823355      [-2.151238203048706, -2.151238203048706]   \n",
       "823356                        [-0.09207434207201004]   \n",
       "823357                          [1.7210376262664795]   \n",
       "\n",
       "                                     DMesons_m  \\\n",
       "0                         [1862.4176025390625]   \n",
       "1              [1853.90625, 2398.886962890625]   \n",
       "2               [1874.203125, 2468.1806640625]   \n",
       "3       [1884.987060546875, 2220.384521484375]   \n",
       "4                           [2235.69873046875]   \n",
       "...                                        ...   \n",
       "823353                    [1802.5220947265625]   \n",
       "823354     [1844.779541015625, 2206.408203125]   \n",
       "823355  [1906.624267578125, 2233.773193359375]   \n",
       "823356                    [1886.3043212890625]   \n",
       "823357                       [2289.2763671875]   \n",
       "\n",
       "                          DMesons_fitOutput__Lxy  \\\n",
       "0                           [2.3395302295684814]   \n",
       "1       [1.9184143543243408, 1.9184143543243408]   \n",
       "2       [2.8901257514953613, 2.8901257514953613]   \n",
       "3       [0.9249186515808105, 0.9249186515808105]   \n",
       "4                           [0.3584118187427521]   \n",
       "...                                          ...   \n",
       "823353                      [0.5411524176597595]   \n",
       "823354  [13.070379257202148, 13.070379257202148]   \n",
       "823355  [1.6992524862289429, 1.6992524862289429]   \n",
       "823356                      [1.2944053411483765]   \n",
       "823357                     [0.43392205238342285]   \n",
       "\n",
       "                               DMesons_costhetastar DMesons_pdgId  \\\n",
       "0                             [0.25487038493156433]         [411]   \n",
       "1       [-0.36730244755744934, -0.0650731548666954]   [411, 4122]   \n",
       "2         [0.06833142042160034, 0.4276972711086273]   [411, 4122]   \n",
       "3       [-0.5603189468383789, -0.41332852840423584]   [411, 4122]   \n",
       "4                             [0.19036155939102173]        [4122]   \n",
       "...                                             ...           ...   \n",
       "823353                         [0.5503742098808289]         [411]   \n",
       "823354   [-0.9140324592590332, -0.8278874754905701]   [411, 4122]   \n",
       "823355      [0.1967991143465042, 0.495256245136261]   [411, 4122]   \n",
       "823356                        [0.28153401613235474]         [411]   \n",
       "823357                          [0.714533269405365]        [4122]   \n",
       "\n",
       "                                 DMesons_daughterInfo__pt  \\\n",
       "0       [[6.094892978668213, 1.3074619770050049, 2.733...   \n",
       "1       [[6.457057952880859, 5.970093250274658, 6.6375...   \n",
       "2       [[3.7944977283477783, 3.3083105087280273, 3.06...   \n",
       "3       [[3.7815563678741455, 7.396467208862305, 1.412...   \n",
       "4       [[18.936317443847656, 15.39889907836914, 1.803...   \n",
       "...                                                   ...   \n",
       "823353  [[12.198583602905273, 2.20495867729187, 4.7119...   \n",
       "823354  [[5.796909809112549, 20.56328582763672, 9.2475...   \n",
       "823355  [[3.0222578048706055, 5.220008850097656, 0.736...   \n",
       "823356  [[9.11902904510498, 5.195584774017334, 3.37626...   \n",
       "823357  [[5.864290237426758, 4.308999538421631, 2.4255...   \n",
       "\n",
       "                                DMesons_daughterInfo__eta  \\\n",
       "0                 [(0.15998553, 0.011107716, -0.0614343)]   \n",
       "1       [(-1.608788, -1.6307458, -1.7315177), (-1.7326...   \n",
       "2       [(-0.073717244, 0.22605924, -0.017923404), (0....   \n",
       "3       [(-0.9284433, -1.182188, -1.1012387), (-1.1821...   \n",
       "4                  [(0.69086045, 0.62282157, 0.63955635)]   \n",
       "...                                                   ...   \n",
       "823353                 [(1.705293, 1.5110217, 1.6457342)]   \n",
       "823354  [(-1.6683935, -1.7061399, -1.6597538), (-1.706...   \n",
       "823355  [(-2.0755956, -2.2418754, -1.6611706), (-2.241...   \n",
       "823356        [(-0.045325126, -0.065605104, -0.25413564)]   \n",
       "823357                 [(1.8237559, 1.676771, 1.5124723)]   \n",
       "\n",
       "                                DMesons_daughterInfo__phi  \\\n",
       "0                     [(2.6128821, 2.7195172, 2.9228168)]   \n",
       "1       [(-0.371787, -0.5164238, -0.4971406), (-0.4966...   \n",
       "2       [(0.753864, 0.6827104, 0.920779), (0.6827104, ...   \n",
       "3       [(0.8518817, 0.7419038, 0.77916163), (0.741903...   \n",
       "4                     [(0.857847, 0.81737196, 0.7582323)]   \n",
       "...                                                   ...   \n",
       "823353                [(2.8939261, 2.7120652, 2.8616462)]   \n",
       "823354  [(1.4682562, 1.4755678, 1.4053382), (1.4755678...   \n",
       "823355  [(1.9180546, 1.8532572, 2.0587387), (1.8532572...   \n",
       "823356                [(1.7839004, 1.9068127, 1.8262501)]   \n",
       "823357               [(-2.946329, -2.910392, -2.8033228)]   \n",
       "\n",
       "                  DMesons_daughterInfo__pdgId  \\\n",
       "0                          [(-321, 211, 211)]   \n",
       "1       [(-321, 211, 211), (2212, -321, 211)]   \n",
       "2       [(-321, 211, 211), (2212, -321, 211)]   \n",
       "3       [(-321, 211, 211), (2212, -321, 211)]   \n",
       "4                         [(2212, -321, 211)]   \n",
       "...                                       ...   \n",
       "823353                     [(-321, 211, 211)]   \n",
       "823354  [(-321, 211, 211), (2212, -321, 211)]   \n",
       "823355  [(-321, 211, 211), (2212, -321, 211)]   \n",
       "823356                     [(-321, 211, 211)]   \n",
       "823357                    [(2212, -321, 211)]   \n",
       "\n",
       "           DMesons_fitOutput__ImpactSignificance  \n",
       "0                           [0.5543845891952515]  \n",
       "1       [1.8095015287399292, 1.8095015287399292]  \n",
       "2         [2.292919158935547, 2.292919158935547]  \n",
       "3       [0.7992758750915527, 0.7992758750915527]  \n",
       "4                           [1.1388494968414307]  \n",
       "...                                          ...  \n",
       "823353                      [2.8667211532592773]  \n",
       "823354  [3.2546143531799316, 3.2546143531799316]  \n",
       "823355  [0.9604215025901794, 0.9604215025901794]  \n",
       "823356                       [3.164067029953003]  \n",
       "823357                      [2.4650354385375977]  \n",
       "\n",
       "[823358 rows x 11 columns]"
      ]
     },
     "execution_count": 8,
     "metadata": {},
     "output_type": "execute_result"
    }
   ],
   "source": [
    "DMesons_df = generate_df(DMesonsTTree, branches, 2000000)\n",
    "DMesons_df = apply_cuts(DMesons_df)\n",
    "\n",
    "pd.set_option('display.max_rows', 10)\n",
    "DMesons_df"
   ]
  },
  {
   "cell_type": "code",
   "execution_count": 220,
   "id": "a288cb36-8db5-4e80-a86d-d89fdff2292c",
   "metadata": {},
   "outputs": [],
   "source": [
    "Lambda_df = generate_df(LambdaMesonsTTree, branches, 2000000)\n",
    "Lambda_df = apply_cuts(Lambda_df)\n",
    "\n",
    "pd.set_option('display.max_rows', 10)\n",
    "Lambda_df"
   ]
  },
  {
   "cell_type": "code",
   "execution_count": null,
   "id": "366f6eec-ded2-4ca5-b5ed-51021373694d",
   "metadata": {},
   "outputs": [
    {
     "name": "stdout",
     "output_type": "stream",
     "text": [
      "Removed 0 duplicate particles\n"
     ]
    }
   ],
   "source": [
    "#DMesons_df = remove_duplicates(DMesons_df)\n",
    "Lambda_df = remove_duplicates(Lambda_df)"
   ]
  },
  {
   "cell_type": "code",
   "execution_count": 11,
   "id": "25c9c9bd-be19-42c2-8cf4-a8fab44086b1",
   "metadata": {},
   "outputs": [],
   "source": [
    "save(DMesons_df, \"DMesons_df\")\n",
    "save(Lambda_df, \"Lambda_df\")"
   ]
  },
  {
   "cell_type": "code",
   "execution_count": 221,
   "id": "968b3e6a-1446-4210-826a-efe50d8aa2e3",
   "metadata": {},
   "outputs": [],
   "source": [
    "DMesons_df = load(\"DMesons_df\")\n",
    "Lambda_df = load(\"Lambda_df\")"
   ]
  },
  {
   "cell_type": "code",
   "execution_count": 222,
   "id": "598eba32-1950-4807-980b-739a9ef1bdbf",
   "metadata": {},
   "outputs": [],
   "source": [
    "DMesons_df = DMesons_df.head(500000)\n",
    "Lambda_df = Lambda_df.head(500000)"
   ]
  },
  {
   "cell_type": "code",
   "execution_count": 223,
   "id": "d8c974d6-2036-43bc-b916-cbe342f23bf0",
   "metadata": {},
   "outputs": [],
   "source": [
    "#separates each particle of the event into it's own event in a new data frame (for training)\n",
    "def separate(df):\n",
    "    dfs = []\n",
    "    for index, row in df.iterrows():\n",
    "\n",
    "        #reco Ds\n",
    "        pts = row['DMesons_pt']\n",
    "        etas = row['DMesons_eta']\n",
    "        ms = row['DMesons_m']\n",
    "        lxys = row['DMesons_fitOutput__Lxy']\n",
    "        costhetastars = row['DMesons_costhetastar']\n",
    "        impacts = row['DMesons_fitOutput__ImpactSignificance']\n",
    "        pdgids = row[\"DMesons_pdgId\"]\n",
    "\n",
    "        #reco Ds Daughter info\n",
    "        daughter_pts = row[\"DMesons_daughterInfo__pt\"]\n",
    "        daughter_etas = row[\"DMesons_daughterInfo__eta\"]\n",
    "        daughter_phis = row[\"DMesons_daughterInfo__phi\"]\n",
    "        daughter_pdgIds = row[\"DMesons_daughterInfo__pdgId\"]\n",
    "\n",
    "        d = {df.columns[0]: pts, df.columns[1]: etas, df.columns[2]: ms, df.columns[3]: lxys, \n",
    "             df.columns[4]: costhetastars, df.columns[5]: pdgids, \n",
    "\n",
    "             df.columns[6]: daughter_pts, df.columns[7]: daughter_etas, df.columns[8]: daughter_phis, \n",
    "             df.columns[9]: daughter_pdgIds, \n",
    "             \n",
    "             df.columns[10]: impacts}\n",
    "        \n",
    "        df = pd.DataFrame(data=d)\n",
    "\n",
    "        dfs.append(df)\n",
    "\n",
    "    df = pd.concat(dfs)\n",
    "    df = df.reset_index(drop = True)\n",
    "    return df"
   ]
  },
  {
   "cell_type": "code",
   "execution_count": null,
   "id": "48126885-61c7-4d28-ba50-687dbf27e749",
   "metadata": {},
   "outputs": [],
   "source": [
    "#DMesons_df = separate(DMesons_df)\n",
    "Lambda_df = separate(Lambda_df)"
   ]
  },
  {
   "cell_type": "code",
   "execution_count": 4,
   "id": "30846c9b-8726-48ac-82ac-f93783f9146a",
   "metadata": {},
   "outputs": [],
   "source": [
    "# save(DMesons_df, \"DMesons_df_separated\")\n",
    "# save(Lambda_df, \"Lambda_df_separated\")\n",
    "\n",
    "# DMesons_df = load(\"DMesons_df_separated\")\n",
    "# Lambda_df = load(\"Lambda_df_separated\")"
   ]
  },
  {
   "cell_type": "code",
   "execution_count": 59,
   "id": "cb8981e7-9eec-4d65-b4e0-00aac573cae2",
   "metadata": {},
   "outputs": [
    {
     "data": {
      "text/plain": [
       "3"
      ]
     },
     "execution_count": 59,
     "metadata": {},
     "output_type": "execute_result"
    }
   ],
   "source": [
    "DPlus = [-321, 211, 211]\n",
    "LambdaC = [2212, -321, 211]\n",
    "\n",
    "remove_lambda = []\n",
    "\n",
    "count = 0\n",
    "for index, row in DMesons_df.iterrows():\n",
    "    if count == 50:\n",
    "        break\n",
    "    count+=1\n",
    "    \n",
    "    pts = row['DMesons_daughterInfo__pt']\n",
    "    etas = row['DMesons_daughterInfo__eta']\n",
    "    phis = row['DMesons_daughterInfo__phi']\n",
    "    pdgids = row[\"DMesons_daughterInfo__pdgId\"]\n",
    "    \n",
    "    #loop through until the first lambda encountered\n",
    "    for i in range(len(pdgids) - 1):\n",
    "        #if there are multiple lambda baryons\n",
    "        if len(pdgids) > 2:\n",
    "            #stop at the first lambda and keep the higher proton pt valued lambda\n",
    "            if list(pdgids[i]) == LambdaC:\n",
    "                l1_pt, l2_pt = pts[i][0], pts[i + 1][0]\n",
    "                if (l1_pt > l2_pt):\n",
    "                    #Lambda 1's proton has higher pt\n",
    "                    remove_lambda.append((index, i + 1))\n",
    "                elif (l1_pt < l2_pt):\n",
    "                    #Lambda 2's proton has higher pt!\n",
    "                    remove_lambda.append((index, i))\n",
    "                else:\n",
    "                    raise Exception(\"Error: Are the proton pt vaules equal?\")\n",
    "\n",
    "len(remove_lambda)"
   ]
  },
  {
   "cell_type": "code",
   "execution_count": 24,
   "id": "b7707166-22b5-4f12-8dab-4bcf29a62005",
   "metadata": {},
   "outputs": [],
   "source": [
    "#takes tuples of shape (2,) / (index, column)\n",
    "def remove_particles_from_df(df, tuple_list):\n",
    "    for tup in tuple_list:\n",
    "        index, column = tup\n",
    "        print(index, column)\n",
    "        \n",
    "        new_df = df.copy()\n",
    "        for i in range(len(DMesons_df.iloc[index, 0][column]) + 1):\n",
    "            #new_df[\"DMesons_daughterInfo__pt\"] = new_df[\"DMesons_daughterInfo__pt\"].apply(lambda x: print(x))\n",
    "            val = new_df.iloc[index, i][column]\n",
    "            print(val)\n",
    "    df = df.drop(index, axis = 0)\n",
    "    return df\n",
    "#df = remove_particles_from_df(DMesons_df, remove_lambda)\n",
    "\n",
    "pd.set_option('display.max_rows', 10)"
   ]
  },
  {
   "cell_type": "code",
   "execution_count": 11,
   "id": "36ae71dc-fcfb-423f-bd81-1888fb07837f",
   "metadata": {},
   "outputs": [
    {
     "data": {
      "text/plain": [
       "(6280052, 6017574)"
      ]
     },
     "execution_count": 11,
     "metadata": {},
     "output_type": "execute_result"
    }
   ],
   "source": [
    "def count(df):\n",
    "    D = 0\n",
    "    Lambda = 0\n",
    "    for pdgId in df[\"DMesons_pdgId\"]:\n",
    "        if pdgId == 411 or pdgId == 0:\n",
    "            D+=1\n",
    "        elif pdgId == 4122 or pdgId == 1:\n",
    "            Lambda+=1\n",
    "    return D, Lambda\n",
    "\n",
    "count(DMesons_df)"
   ]
  },
  {
   "cell_type": "code",
   "execution_count": 55,
   "id": "d45d3ebf-5c79-4b0b-bb9c-bce5b5911ed6",
   "metadata": {},
   "outputs": [],
   "source": [
    "def func(x):\n",
    "    if x == 411:\n",
    "        return 'only_411'\n",
    "    elif x == 4122:\n",
    "        return 'only_4122'\n",
    "    # else:\n",
    "    #     return \"both\"\n",
    "\n",
    "DMesons_df['particle_type'] = DMesons_df['DMesons_pdgId'].apply(func)\n",
    "\n",
    "# separate the rows based on the new column\n",
    "only_411 = DMesons_df[DMesons_df['particle_type'] == 'only_411']\n",
    "only_4122 = DMesons_df[DMesons_df['particle_type'] == 'only_4122']\n",
    "#both = DMesons_df[DMesons_df['particle_type'] == 'both']\n",
    "\n",
    "#new_df = DMesons_df[DMesons_df['particle_type'] != 'both']\n",
    "# new_df = new_df.reset_index(drop=True)\n",
    "\n",
    "# new_df = new_df.drop('particle_type', axis=1)"
   ]
  },
  {
   "cell_type": "code",
   "execution_count": 56,
   "id": "3df0cf67-9ca2-4c65-8cee-ff11b96baeb2",
   "metadata": {},
   "outputs": [],
   "source": [
    "save(only_4122, \"DMesons_only_4122\")"
   ]
  },
  {
   "cell_type": "code",
   "execution_count": null,
   "id": "b35fa910-46f4-417b-8fec-6e8df201d162",
   "metadata": {},
   "outputs": [],
   "source": [
    "# create a new column 'particle_type' based on the pdgId column\n",
    "\n",
    "def func(x):\n",
    "    if x == 411:\n",
    "        return 'only_411'\n",
    "    elif x == 4122:\n",
    "        return 'only_4122'\n",
    "    # else:\n",
    "    #     return \"both\"\n",
    "\n",
    "Lambda_df['particle_type'] = Lambda_df['DMesons_pdgId'].apply(func)\n",
    "\n",
    "# separate the rows based on the new column\n",
    "only_411 = Lambda_df[Lambda_df['particle_type'] == 'only_411']\n",
    "only_4122 = Lambda_df[Lambda_df['particle_type'] == 'only_4122']\n",
    "#both = DMesons_df[DMesons_df['particle_type'] == 'both']\n",
    "\n",
    "# new_df = Lambda_df[Lambda_df['particle_type'] != 'both']\n",
    "# new_df = new_df.reset_index(drop=True)\n",
    "\n",
    "# new_df = new_df.drop('particle_type', axis=1)"
   ]
  },
  {
   "cell_type": "code",
   "execution_count": null,
   "id": "f4f1b30c-15a1-4e94-a6a1-54884981647a",
   "metadata": {},
   "outputs": [],
   "source": [
    "save(only_4122, \"Lambda_only_4122\")"
   ]
  },
  {
   "cell_type": "code",
   "execution_count": 231,
   "id": "9dca7972-7adc-403b-be80-d3941955501d",
   "metadata": {},
   "outputs": [],
   "source": [
    "# Read\n",
    "Lambda_only_4122 = load(\"Lambda_only_4122\")\n",
    "DMesons_only_4122 = load(\"Sherpa_DMesons_only_4122\")"
   ]
  },
  {
   "cell_type": "code",
   "execution_count": 234,
   "id": "9f975d25-333d-4a8c-8f1f-5b40289e1efb",
   "metadata": {},
   "outputs": [
    {
     "data": {
      "text/plain": [
       "690863"
      ]
     },
     "execution_count": 234,
     "metadata": {},
     "output_type": "execute_result"
    }
   ],
   "source": [
    "len(DMesons_only_4122)"
   ]
  },
  {
   "cell_type": "code",
   "execution_count": 235,
   "id": "97b5e5f1-1d58-448d-b4e5-56e77a5e68e8",
   "metadata": {},
   "outputs": [
    {
     "data": {
      "text/html": [
       "<div>\n",
       "<style scoped>\n",
       "    .dataframe tbody tr th:only-of-type {\n",
       "        vertical-align: middle;\n",
       "    }\n",
       "\n",
       "    .dataframe tbody tr th {\n",
       "        vertical-align: top;\n",
       "    }\n",
       "\n",
       "    .dataframe thead th {\n",
       "        text-align: right;\n",
       "    }\n",
       "</style>\n",
       "<table border=\"1\" class=\"dataframe\">\n",
       "  <thead>\n",
       "    <tr style=\"text-align: right;\">\n",
       "      <th></th>\n",
       "      <th>DMesons_pt</th>\n",
       "      <th>DMesons_eta</th>\n",
       "      <th>DMesons_m</th>\n",
       "      <th>DMesons_fitOutput__Lxy</th>\n",
       "      <th>DMesons_costhetastar</th>\n",
       "      <th>DMesons_pdgId</th>\n",
       "      <th>DMesons_daughterInfo__pt</th>\n",
       "      <th>DMesons_daughterInfo__eta</th>\n",
       "      <th>DMesons_daughterInfo__phi</th>\n",
       "      <th>DMesons_daughterInfo__pdgId</th>\n",
       "      <th>DMesons_fitOutput__ImpactSignificance</th>\n",
       "      <th>particle_type</th>\n",
       "    </tr>\n",
       "  </thead>\n",
       "  <tbody>\n",
       "    <tr>\n",
       "      <th>27</th>\n",
       "      <td>124.551781</td>\n",
       "      <td>0.616144</td>\n",
       "      <td>2252.343994</td>\n",
       "      <td>1.000073</td>\n",
       "      <td>0.309355</td>\n",
       "      <td>411</td>\n",
       "      <td>[45.35352325439453, 55.5874137878418, 23.73572...</td>\n",
       "      <td>(0.62828386, 0.6060324, 0.61673385)</td>\n",
       "      <td>(3.135228, 3.1389863, -3.1324918)</td>\n",
       "      <td>(2212, -321, 211)</td>\n",
       "      <td>1.687575</td>\n",
       "      <td>only_4122</td>\n",
       "    </tr>\n",
       "    <tr>\n",
       "      <th>28</th>\n",
       "      <td>52.491680</td>\n",
       "      <td>0.628072</td>\n",
       "      <td>2420.752197</td>\n",
       "      <td>9.001939</td>\n",
       "      <td>-0.999371</td>\n",
       "      <td>411</td>\n",
       "      <td>[45.325809478759766, 3.1020970344543457, 3.886...</td>\n",
       "      <td>(0.6306876, 0.61715966, 0.6021761)</td>\n",
       "      <td>(3.1351142, 3.1380522, -3.100118)</td>\n",
       "      <td>(2212, -321, 211)</td>\n",
       "      <td>4.709635</td>\n",
       "      <td>only_4122</td>\n",
       "    </tr>\n",
       "    <tr>\n",
       "      <th>29</th>\n",
       "      <td>51.824703</td>\n",
       "      <td>0.628606</td>\n",
       "      <td>2289.998535</td>\n",
       "      <td>0.752138</td>\n",
       "      <td>-0.955626</td>\n",
       "      <td>411</td>\n",
       "      <td>[45.20779800415039, 5.494213104248047, 1.12326...</td>\n",
       "      <td>(0.6285973, 0.60806257, 0.7257996)</td>\n",
       "      <td>(3.135263, 3.1376371, 3.0532124)</td>\n",
       "      <td>(2212, -321, 211)</td>\n",
       "      <td>0.082626</td>\n",
       "      <td>only_4122</td>\n",
       "    </tr>\n",
       "    <tr>\n",
       "      <th>30</th>\n",
       "      <td>74.569516</td>\n",
       "      <td>0.623304</td>\n",
       "      <td>2320.748779</td>\n",
       "      <td>0.825154</td>\n",
       "      <td>-0.988731</td>\n",
       "      <td>411</td>\n",
       "      <td>[45.4151725769043, 5.492096424102783, 23.73572...</td>\n",
       "      <td>(0.6285476, 0.6079869, 0.61673385)</td>\n",
       "      <td>(3.1352143, 3.1375391, -3.1324918)</td>\n",
       "      <td>(2212, -321, 211)</td>\n",
       "      <td>0.285478</td>\n",
       "      <td>only_4122</td>\n",
       "    </tr>\n",
       "    <tr>\n",
       "      <th>31</th>\n",
       "      <td>52.139363</td>\n",
       "      <td>0.628442</td>\n",
       "      <td>2114.455566</td>\n",
       "      <td>14.295114</td>\n",
       "      <td>-0.967880</td>\n",
       "      <td>411</td>\n",
       "      <td>[45.4952392578125, 5.527915000915527, 1.113548...</td>\n",
       "      <td>(0.6305013, 0.60626864, 0.66872984)</td>\n",
       "      <td>(3.1350088, 3.1403995, -3.1118574)</td>\n",
       "      <td>(2212, -321, 211)</td>\n",
       "      <td>4.459208</td>\n",
       "      <td>only_4122</td>\n",
       "    </tr>\n",
       "    <tr>\n",
       "      <th>...</th>\n",
       "      <td>...</td>\n",
       "      <td>...</td>\n",
       "      <td>...</td>\n",
       "      <td>...</td>\n",
       "      <td>...</td>\n",
       "      <td>...</td>\n",
       "      <td>...</td>\n",
       "      <td>...</td>\n",
       "      <td>...</td>\n",
       "      <td>...</td>\n",
       "      <td>...</td>\n",
       "      <td>...</td>\n",
       "    </tr>\n",
       "    <tr>\n",
       "      <th>769898</th>\n",
       "      <td>15.015752</td>\n",
       "      <td>-1.621316</td>\n",
       "      <td>2128.959717</td>\n",
       "      <td>1.055468</td>\n",
       "      <td>-0.955383</td>\n",
       "      <td>411</td>\n",
       "      <td>[10.978409767150879, 1.5513936281204224, 2.492...</td>\n",
       "      <td>(-1.6365633, -1.4952528, -1.6247052)</td>\n",
       "      <td>(-0.16868365, -0.11923864, -0.22785482)</td>\n",
       "      <td>(-2212, 321, -211)</td>\n",
       "      <td>4.102871</td>\n",
       "      <td>only_4122</td>\n",
       "    </tr>\n",
       "    <tr>\n",
       "      <th>769899</th>\n",
       "      <td>13.776949</td>\n",
       "      <td>-1.625336</td>\n",
       "      <td>2419.603516</td>\n",
       "      <td>0.624960</td>\n",
       "      <td>-0.933207</td>\n",
       "      <td>411</td>\n",
       "      <td>[11.055854797363281, 1.5394558906555176, 1.245...</td>\n",
       "      <td>(-1.6374356, -1.5005118, -1.6150558)</td>\n",
       "      <td>(-0.1682525, -0.11801015, 0.16930138)</td>\n",
       "      <td>(-2212, 321, -211)</td>\n",
       "      <td>1.601410</td>\n",
       "      <td>only_4122</td>\n",
       "    </tr>\n",
       "    <tr>\n",
       "      <th>769900</th>\n",
       "      <td>16.353774</td>\n",
       "      <td>-1.603238</td>\n",
       "      <td>2288.062256</td>\n",
       "      <td>3.461010</td>\n",
       "      <td>-0.961579</td>\n",
       "      <td>411</td>\n",
       "      <td>[11.229562759399414, 1.516668438911438, 3.6428...</td>\n",
       "      <td>(-1.6382093, -1.4983779, -1.5304362)</td>\n",
       "      <td>(-0.16720171, -0.11406519, -0.21755505)</td>\n",
       "      <td>(-2212, 321, -211)</td>\n",
       "      <td>2.295237</td>\n",
       "      <td>only_4122</td>\n",
       "    </tr>\n",
       "    <tr>\n",
       "      <th>769901</th>\n",
       "      <td>14.328731</td>\n",
       "      <td>-1.612592</td>\n",
       "      <td>2169.589355</td>\n",
       "      <td>1.799214</td>\n",
       "      <td>-0.948991</td>\n",
       "      <td>411</td>\n",
       "      <td>[11.196073532104492, 1.5245026350021362, 1.622...</td>\n",
       "      <td>(-1.6378483, -1.4999491, -1.5262128)</td>\n",
       "      <td>(-0.16747509, -0.1153605, -0.27906275)</td>\n",
       "      <td>(-2212, 321, -211)</td>\n",
       "      <td>2.297870</td>\n",
       "      <td>only_4122</td>\n",
       "    </tr>\n",
       "    <tr>\n",
       "      <th>769902</th>\n",
       "      <td>14.065355</td>\n",
       "      <td>-1.633094</td>\n",
       "      <td>2102.506592</td>\n",
       "      <td>0.549362</td>\n",
       "      <td>-0.948024</td>\n",
       "      <td>411</td>\n",
       "      <td>[11.079790115356445, 1.539320945739746, 1.4517...</td>\n",
       "      <td>(-1.6372538, -1.4996318, -1.7259958)</td>\n",
       "      <td>(-0.16815245, -0.11772938, -0.16957189)</td>\n",
       "      <td>(-2212, 321, -211)</td>\n",
       "      <td>0.899409</td>\n",
       "      <td>only_4122</td>\n",
       "    </tr>\n",
       "  </tbody>\n",
       "</table>\n",
       "<p>690863 rows × 12 columns</p>\n",
       "</div>"
      ],
      "text/plain": [
       "        DMesons_pt  DMesons_eta    DMesons_m  DMesons_fitOutput__Lxy  \\\n",
       "27      124.551781     0.616144  2252.343994                1.000073   \n",
       "28       52.491680     0.628072  2420.752197                9.001939   \n",
       "29       51.824703     0.628606  2289.998535                0.752138   \n",
       "30       74.569516     0.623304  2320.748779                0.825154   \n",
       "31       52.139363     0.628442  2114.455566               14.295114   \n",
       "...            ...          ...          ...                     ...   \n",
       "769898   15.015752    -1.621316  2128.959717                1.055468   \n",
       "769899   13.776949    -1.625336  2419.603516                0.624960   \n",
       "769900   16.353774    -1.603238  2288.062256                3.461010   \n",
       "769901   14.328731    -1.612592  2169.589355                1.799214   \n",
       "769902   14.065355    -1.633094  2102.506592                0.549362   \n",
       "\n",
       "        DMesons_costhetastar  DMesons_pdgId  \\\n",
       "27                  0.309355            411   \n",
       "28                 -0.999371            411   \n",
       "29                 -0.955626            411   \n",
       "30                 -0.988731            411   \n",
       "31                 -0.967880            411   \n",
       "...                      ...            ...   \n",
       "769898             -0.955383            411   \n",
       "769899             -0.933207            411   \n",
       "769900             -0.961579            411   \n",
       "769901             -0.948991            411   \n",
       "769902             -0.948024            411   \n",
       "\n",
       "                                 DMesons_daughterInfo__pt  \\\n",
       "27      [45.35352325439453, 55.5874137878418, 23.73572...   \n",
       "28      [45.325809478759766, 3.1020970344543457, 3.886...   \n",
       "29      [45.20779800415039, 5.494213104248047, 1.12326...   \n",
       "30      [45.4151725769043, 5.492096424102783, 23.73572...   \n",
       "31      [45.4952392578125, 5.527915000915527, 1.113548...   \n",
       "...                                                   ...   \n",
       "769898  [10.978409767150879, 1.5513936281204224, 2.492...   \n",
       "769899  [11.055854797363281, 1.5394558906555176, 1.245...   \n",
       "769900  [11.229562759399414, 1.516668438911438, 3.6428...   \n",
       "769901  [11.196073532104492, 1.5245026350021362, 1.622...   \n",
       "769902  [11.079790115356445, 1.539320945739746, 1.4517...   \n",
       "\n",
       "                   DMesons_daughterInfo__eta  \\\n",
       "27       (0.62828386, 0.6060324, 0.61673385)   \n",
       "28        (0.6306876, 0.61715966, 0.6021761)   \n",
       "29        (0.6285973, 0.60806257, 0.7257996)   \n",
       "30        (0.6285476, 0.6079869, 0.61673385)   \n",
       "31       (0.6305013, 0.60626864, 0.66872984)   \n",
       "...                                      ...   \n",
       "769898  (-1.6365633, -1.4952528, -1.6247052)   \n",
       "769899  (-1.6374356, -1.5005118, -1.6150558)   \n",
       "769900  (-1.6382093, -1.4983779, -1.5304362)   \n",
       "769901  (-1.6378483, -1.4999491, -1.5262128)   \n",
       "769902  (-1.6372538, -1.4996318, -1.7259958)   \n",
       "\n",
       "                      DMesons_daughterInfo__phi DMesons_daughterInfo__pdgId  \\\n",
       "27            (3.135228, 3.1389863, -3.1324918)           (2212, -321, 211)   \n",
       "28            (3.1351142, 3.1380522, -3.100118)           (2212, -321, 211)   \n",
       "29             (3.135263, 3.1376371, 3.0532124)           (2212, -321, 211)   \n",
       "30           (3.1352143, 3.1375391, -3.1324918)           (2212, -321, 211)   \n",
       "31           (3.1350088, 3.1403995, -3.1118574)           (2212, -321, 211)   \n",
       "...                                         ...                         ...   \n",
       "769898  (-0.16868365, -0.11923864, -0.22785482)          (-2212, 321, -211)   \n",
       "769899    (-0.1682525, -0.11801015, 0.16930138)          (-2212, 321, -211)   \n",
       "769900  (-0.16720171, -0.11406519, -0.21755505)          (-2212, 321, -211)   \n",
       "769901   (-0.16747509, -0.1153605, -0.27906275)          (-2212, 321, -211)   \n",
       "769902  (-0.16815245, -0.11772938, -0.16957189)          (-2212, 321, -211)   \n",
       "\n",
       "        DMesons_fitOutput__ImpactSignificance particle_type  \n",
       "27                                   1.687575     only_4122  \n",
       "28                                   4.709635     only_4122  \n",
       "29                                   0.082626     only_4122  \n",
       "30                                   0.285478     only_4122  \n",
       "31                                   4.459208     only_4122  \n",
       "...                                       ...           ...  \n",
       "769898                               4.102871     only_4122  \n",
       "769899                               1.601410     only_4122  \n",
       "769900                               2.295237     only_4122  \n",
       "769901                               2.297870     only_4122  \n",
       "769902                               0.899409     only_4122  \n",
       "\n",
       "[690863 rows x 12 columns]"
      ]
     },
     "execution_count": 235,
     "metadata": {},
     "output_type": "execute_result"
    }
   ],
   "source": [
    "DMesons_only_4122['DMesons_pdgId'] = DMesons_only_4122['DMesons_pdgId'].replace({4122: 411})\n",
    "\n",
    "DMesons_only_4122"
   ]
  },
  {
   "cell_type": "code",
   "execution_count": 236,
   "id": "caaeb6d0-c468-4abf-b50f-2795bb3eec0e",
   "metadata": {},
   "outputs": [],
   "source": [
    "Lambda_only_4122 = Lambda_only_4122.head(500000)\n",
    "DMesons_only_4122 = DMesons_only_4122.head(500000)\n",
    "DMesons_only_4122 = DMesons_only_4122.reset_index(drop=True)\n",
    "\n",
    "combined_df = pd.concat([Lambda_only_4122, DMesons_only_4122], axis=0)\n",
    "\n",
    "# Shuffle the rows of the combined data frame\n",
    "shuffled_df = combined_df.sample(frac=1).reset_index(drop=True)"
   ]
  },
  {
   "cell_type": "code",
   "execution_count": 237,
   "id": "847b8bdc-9fc2-4dd7-8b08-a9988cc73f4f",
   "metadata": {},
   "outputs": [
    {
     "data": {
      "text/html": [
       "<div>\n",
       "<style scoped>\n",
       "    .dataframe tbody tr th:only-of-type {\n",
       "        vertical-align: middle;\n",
       "    }\n",
       "\n",
       "    .dataframe tbody tr th {\n",
       "        vertical-align: top;\n",
       "    }\n",
       "\n",
       "    .dataframe thead th {\n",
       "        text-align: right;\n",
       "    }\n",
       "</style>\n",
       "<table border=\"1\" class=\"dataframe\">\n",
       "  <thead>\n",
       "    <tr style=\"text-align: right;\">\n",
       "      <th></th>\n",
       "      <th>DMesons_pt</th>\n",
       "      <th>DMesons_eta</th>\n",
       "      <th>DMesons_m</th>\n",
       "      <th>DMesons_fitOutput__Lxy</th>\n",
       "      <th>DMesons_costhetastar</th>\n",
       "      <th>DMesons_pdgId</th>\n",
       "      <th>DMesons_daughterInfo__pt</th>\n",
       "      <th>DMesons_daughterInfo__eta</th>\n",
       "      <th>DMesons_daughterInfo__phi</th>\n",
       "      <th>DMesons_daughterInfo__pdgId</th>\n",
       "      <th>DMesons_fitOutput__ImpactSignificance</th>\n",
       "      <th>particle_type</th>\n",
       "    </tr>\n",
       "  </thead>\n",
       "  <tbody>\n",
       "    <tr>\n",
       "      <th>0</th>\n",
       "      <td>14.551307</td>\n",
       "      <td>-0.503012</td>\n",
       "      <td>2211.277832</td>\n",
       "      <td>0.105686</td>\n",
       "      <td>-0.462903</td>\n",
       "      <td>411</td>\n",
       "      <td>[11.170928001403809, 2.831317901611328, 0.6029...</td>\n",
       "      <td>(-0.4977727, -0.55253094, -0.31940895)</td>\n",
       "      <td>(0.45178226, 0.5159005, 0.88359225)</td>\n",
       "      <td>(2212, -321, 211)</td>\n",
       "      <td>1.598548</td>\n",
       "      <td>only_4122</td>\n",
       "    </tr>\n",
       "    <tr>\n",
       "      <th>1</th>\n",
       "      <td>10.616373</td>\n",
       "      <td>-1.239521</td>\n",
       "      <td>2226.512207</td>\n",
       "      <td>0.547223</td>\n",
       "      <td>0.957469</td>\n",
       "      <td>411</td>\n",
       "      <td>[3.040483236312866, 6.920453071594238, 0.66697...</td>\n",
       "      <td>(-1.2389119, -1.2671988, -0.891992)</td>\n",
       "      <td>(2.288972, 2.2705233, 2.100124)</td>\n",
       "      <td>(2212, -321, 211)</td>\n",
       "      <td>2.001802</td>\n",
       "      <td>only_4122</td>\n",
       "    </tr>\n",
       "    <tr>\n",
       "      <th>2</th>\n",
       "      <td>8.041471</td>\n",
       "      <td>0.740541</td>\n",
       "      <td>2292.695068</td>\n",
       "      <td>0.648762</td>\n",
       "      <td>-0.224572</td>\n",
       "      <td>4122</td>\n",
       "      <td>[4.130668640136719, 2.183924913406372, 1.80589...</td>\n",
       "      <td>(0.61786264, 0.9393891, 0.7249763)</td>\n",
       "      <td>(-2.7951388, -3.0525513, -2.6634498)</td>\n",
       "      <td>(2212, -321, 211)</td>\n",
       "      <td>0.782303</td>\n",
       "      <td>only_4122</td>\n",
       "    </tr>\n",
       "    <tr>\n",
       "      <th>3</th>\n",
       "      <td>14.505914</td>\n",
       "      <td>1.700047</td>\n",
       "      <td>2277.017822</td>\n",
       "      <td>0.415693</td>\n",
       "      <td>0.281155</td>\n",
       "      <td>4122</td>\n",
       "      <td>[5.195446968078613, 7.804042816162109, 1.53329...</td>\n",
       "      <td>(1.7886169, 1.6211084, 1.7547115)</td>\n",
       "      <td>(-0.67071944, -0.5331284, -0.63166416)</td>\n",
       "      <td>(2212, -321, 211)</td>\n",
       "      <td>1.275064</td>\n",
       "      <td>only_4122</td>\n",
       "    </tr>\n",
       "    <tr>\n",
       "      <th>4</th>\n",
       "      <td>9.190323</td>\n",
       "      <td>0.948899</td>\n",
       "      <td>2467.892822</td>\n",
       "      <td>0.088807</td>\n",
       "      <td>-0.964863</td>\n",
       "      <td>411</td>\n",
       "      <td>[5.592108726501465, 0.7378090620040894, 2.8988...</td>\n",
       "      <td>(1.0165381, 0.6699291, 0.87115043)</td>\n",
       "      <td>(0.7204874, 0.5911911, 0.61206007)</td>\n",
       "      <td>(-2212, 321, -211)</td>\n",
       "      <td>2.443815</td>\n",
       "      <td>only_4122</td>\n",
       "    </tr>\n",
       "    <tr>\n",
       "      <th>...</th>\n",
       "      <td>...</td>\n",
       "      <td>...</td>\n",
       "      <td>...</td>\n",
       "      <td>...</td>\n",
       "      <td>...</td>\n",
       "      <td>...</td>\n",
       "      <td>...</td>\n",
       "      <td>...</td>\n",
       "      <td>...</td>\n",
       "      <td>...</td>\n",
       "      <td>...</td>\n",
       "      <td>...</td>\n",
       "    </tr>\n",
       "    <tr>\n",
       "      <th>999995</th>\n",
       "      <td>32.272094</td>\n",
       "      <td>-0.041371</td>\n",
       "      <td>2258.133057</td>\n",
       "      <td>0.269147</td>\n",
       "      <td>-0.166023</td>\n",
       "      <td>4122</td>\n",
       "      <td>[19.53499984741211, 10.94820785522461, 1.82099...</td>\n",
       "      <td>(-0.059171885, -0.013583427, -0.018911816)</td>\n",
       "      <td>(-2.877898, -2.9645057, -2.8272035)</td>\n",
       "      <td>(2212, -321, 211)</td>\n",
       "      <td>2.293643</td>\n",
       "      <td>only_4122</td>\n",
       "    </tr>\n",
       "    <tr>\n",
       "      <th>999996</th>\n",
       "      <td>49.044613</td>\n",
       "      <td>-1.551618</td>\n",
       "      <td>2302.039551</td>\n",
       "      <td>0.211826</td>\n",
       "      <td>0.901419</td>\n",
       "      <td>411</td>\n",
       "      <td>[10.073150634765625, 30.05179214477539, 8.9344...</td>\n",
       "      <td>(-1.5475895, -1.54694, -1.5712011)</td>\n",
       "      <td>(1.316317, 1.3007066, 1.3279157)</td>\n",
       "      <td>(-2212, 321, -211)</td>\n",
       "      <td>0.641638</td>\n",
       "      <td>only_4122</td>\n",
       "    </tr>\n",
       "    <tr>\n",
       "      <th>999997</th>\n",
       "      <td>15.512543</td>\n",
       "      <td>-0.002953</td>\n",
       "      <td>2162.263672</td>\n",
       "      <td>0.298673</td>\n",
       "      <td>-0.881231</td>\n",
       "      <td>411</td>\n",
       "      <td>[12.885456085205078, 2.0564074516296387, 0.600...</td>\n",
       "      <td>(0.013616143, -0.08536845, -0.07438314)</td>\n",
       "      <td>(0.5507237, 0.59127384, 0.8937046)</td>\n",
       "      <td>(2212, -321, 211)</td>\n",
       "      <td>0.989076</td>\n",
       "      <td>only_4122</td>\n",
       "    </tr>\n",
       "    <tr>\n",
       "      <th>999998</th>\n",
       "      <td>9.649199</td>\n",
       "      <td>0.248185</td>\n",
       "      <td>2028.827759</td>\n",
       "      <td>0.154665</td>\n",
       "      <td>0.676143</td>\n",
       "      <td>411</td>\n",
       "      <td>[3.514936923980713, 5.062290668487549, 1.09335...</td>\n",
       "      <td>(0.21267407, 0.22728372, 0.44851756)</td>\n",
       "      <td>(-1.1488833, -1.3185775, -1.2333149)</td>\n",
       "      <td>(-2212, 321, -211)</td>\n",
       "      <td>0.318123</td>\n",
       "      <td>only_4122</td>\n",
       "    </tr>\n",
       "    <tr>\n",
       "      <th>999999</th>\n",
       "      <td>14.298828</td>\n",
       "      <td>-1.090514</td>\n",
       "      <td>2314.598877</td>\n",
       "      <td>0.456881</td>\n",
       "      <td>0.277941</td>\n",
       "      <td>4122</td>\n",
       "      <td>[6.239779472351074, 6.213461399078369, 1.86070...</td>\n",
       "      <td>(-1.0250965, -1.1906968, -0.94060713)</td>\n",
       "      <td>(0.63234746, 0.58737457, 0.7656743)</td>\n",
       "      <td>(2212, -321, 211)</td>\n",
       "      <td>3.227090</td>\n",
       "      <td>only_4122</td>\n",
       "    </tr>\n",
       "  </tbody>\n",
       "</table>\n",
       "<p>1000000 rows × 12 columns</p>\n",
       "</div>"
      ],
      "text/plain": [
       "        DMesons_pt  DMesons_eta    DMesons_m  DMesons_fitOutput__Lxy  \\\n",
       "0        14.551307    -0.503012  2211.277832                0.105686   \n",
       "1        10.616373    -1.239521  2226.512207                0.547223   \n",
       "2         8.041471     0.740541  2292.695068                0.648762   \n",
       "3        14.505914     1.700047  2277.017822                0.415693   \n",
       "4         9.190323     0.948899  2467.892822                0.088807   \n",
       "...            ...          ...          ...                     ...   \n",
       "999995   32.272094    -0.041371  2258.133057                0.269147   \n",
       "999996   49.044613    -1.551618  2302.039551                0.211826   \n",
       "999997   15.512543    -0.002953  2162.263672                0.298673   \n",
       "999998    9.649199     0.248185  2028.827759                0.154665   \n",
       "999999   14.298828    -1.090514  2314.598877                0.456881   \n",
       "\n",
       "        DMesons_costhetastar  DMesons_pdgId  \\\n",
       "0                  -0.462903            411   \n",
       "1                   0.957469            411   \n",
       "2                  -0.224572           4122   \n",
       "3                   0.281155           4122   \n",
       "4                  -0.964863            411   \n",
       "...                      ...            ...   \n",
       "999995             -0.166023           4122   \n",
       "999996              0.901419            411   \n",
       "999997             -0.881231            411   \n",
       "999998              0.676143            411   \n",
       "999999              0.277941           4122   \n",
       "\n",
       "                                 DMesons_daughterInfo__pt  \\\n",
       "0       [11.170928001403809, 2.831317901611328, 0.6029...   \n",
       "1       [3.040483236312866, 6.920453071594238, 0.66697...   \n",
       "2       [4.130668640136719, 2.183924913406372, 1.80589...   \n",
       "3       [5.195446968078613, 7.804042816162109, 1.53329...   \n",
       "4       [5.592108726501465, 0.7378090620040894, 2.8988...   \n",
       "...                                                   ...   \n",
       "999995  [19.53499984741211, 10.94820785522461, 1.82099...   \n",
       "999996  [10.073150634765625, 30.05179214477539, 8.9344...   \n",
       "999997  [12.885456085205078, 2.0564074516296387, 0.600...   \n",
       "999998  [3.514936923980713, 5.062290668487549, 1.09335...   \n",
       "999999  [6.239779472351074, 6.213461399078369, 1.86070...   \n",
       "\n",
       "                         DMesons_daughterInfo__eta  \\\n",
       "0           (-0.4977727, -0.55253094, -0.31940895)   \n",
       "1              (-1.2389119, -1.2671988, -0.891992)   \n",
       "2               (0.61786264, 0.9393891, 0.7249763)   \n",
       "3                (1.7886169, 1.6211084, 1.7547115)   \n",
       "4               (1.0165381, 0.6699291, 0.87115043)   \n",
       "...                                            ...   \n",
       "999995  (-0.059171885, -0.013583427, -0.018911816)   \n",
       "999996          (-1.5475895, -1.54694, -1.5712011)   \n",
       "999997     (0.013616143, -0.08536845, -0.07438314)   \n",
       "999998        (0.21267407, 0.22728372, 0.44851756)   \n",
       "999999       (-1.0250965, -1.1906968, -0.94060713)   \n",
       "\n",
       "                     DMesons_daughterInfo__phi DMesons_daughterInfo__pdgId  \\\n",
       "0          (0.45178226, 0.5159005, 0.88359225)           (2212, -321, 211)   \n",
       "1              (2.288972, 2.2705233, 2.100124)           (2212, -321, 211)   \n",
       "2         (-2.7951388, -3.0525513, -2.6634498)           (2212, -321, 211)   \n",
       "3       (-0.67071944, -0.5331284, -0.63166416)           (2212, -321, 211)   \n",
       "4           (0.7204874, 0.5911911, 0.61206007)          (-2212, 321, -211)   \n",
       "...                                        ...                         ...   \n",
       "999995     (-2.877898, -2.9645057, -2.8272035)           (2212, -321, 211)   \n",
       "999996        (1.316317, 1.3007066, 1.3279157)          (-2212, 321, -211)   \n",
       "999997      (0.5507237, 0.59127384, 0.8937046)           (2212, -321, 211)   \n",
       "999998    (-1.1488833, -1.3185775, -1.2333149)          (-2212, 321, -211)   \n",
       "999999     (0.63234746, 0.58737457, 0.7656743)           (2212, -321, 211)   \n",
       "\n",
       "        DMesons_fitOutput__ImpactSignificance particle_type  \n",
       "0                                    1.598548     only_4122  \n",
       "1                                    2.001802     only_4122  \n",
       "2                                    0.782303     only_4122  \n",
       "3                                    1.275064     only_4122  \n",
       "4                                    2.443815     only_4122  \n",
       "...                                       ...           ...  \n",
       "999995                               2.293643     only_4122  \n",
       "999996                               0.641638     only_4122  \n",
       "999997                               0.989076     only_4122  \n",
       "999998                               0.318123     only_4122  \n",
       "999999                               3.227090     only_4122  \n",
       "\n",
       "[1000000 rows x 12 columns]"
      ]
     },
     "execution_count": 237,
     "metadata": {},
     "output_type": "execute_result"
    }
   ],
   "source": [
    "shuffled_df"
   ]
  },
  {
   "cell_type": "code",
   "execution_count": 238,
   "id": "7cc8e2e4-3788-42bb-832e-edba0c890794",
   "metadata": {},
   "outputs": [],
   "source": [
    "shuffled_df['DMesons_daughterInfo__pdgId'] = [(2212, -321, 211)] * len(shuffled_df)"
   ]
  },
  {
   "cell_type": "code",
   "execution_count": 239,
   "id": "4b148c07-654e-4724-86fe-fd3a1a0b2580",
   "metadata": {},
   "outputs": [],
   "source": [
    "shuffled_df[\"DMesons_daughterInfo__eta\"] = shuffled_df[\"DMesons_daughterInfo__eta\"].apply(list)\n",
    "shuffled_df[\"DMesons_daughterInfo__phi\"] = shuffled_df[\"DMesons_daughterInfo__phi\"].apply(list)"
   ]
  },
  {
   "cell_type": "code",
   "execution_count": null,
   "id": "5d571b3c-1e8d-4738-ad3b-5f84fc21c8d6",
   "metadata": {},
   "outputs": [],
   "source": [
    "#shuffled_df_daughter = shuffled_df[[\"DMesons_daughterInfo__pt\", \"DMesons_daughterInfo__eta\", \"DMesons_daughterInfo__phi\", \"DMesons_daughterInfo__pdgId\", \"particle_type\"]]"
   ]
  },
  {
   "cell_type": "code",
   "execution_count": 240,
   "id": "6b4650f2-b916-41e9-abd8-8d450b2afe90",
   "metadata": {},
   "outputs": [],
   "source": [
    "#separate the daughter info\n",
    "daughter_pts = []\n",
    "daughter_etas = []\n",
    "daughter_phis = []\n",
    "\n",
    "for index, row in shuffled_df.iterrows():\n",
    "\n",
    "    pts = row['DMesons_daughterInfo__pt']\n",
    "    etas = row['DMesons_daughterInfo__eta']\n",
    "    phis = row['DMesons_daughterInfo__phi']\n",
    "    \n",
    "    for pt, eta, phi in zip(pts, etas, phis):\n",
    "        daughter_pts.append(pt)\n",
    "        daughter_etas.append(eta)\n",
    "        daughter_phis.append(phi)"
   ]
  },
  {
   "cell_type": "code",
   "execution_count": 241,
   "id": "0bb1799f-d0f0-4519-b828-7a9acdd8a3a5",
   "metadata": {
    "tags": []
   },
   "outputs": [],
   "source": [
    "#particle1 is proton, or pion in D+ hyp\n",
    "#particle2 is kaon\n",
    "#particle3 is pion\n",
    "\n",
    "particle1_pt = []\n",
    "particle2_pt = []\n",
    "particle3_pt = []\n",
    "\n",
    "particle1_eta = []\n",
    "particle2_eta = []\n",
    "particle3_eta = []\n",
    "\n",
    "particle1_phi = []\n",
    "particle2_phi = []\n",
    "particle3_phi = []\n",
    "\n",
    "for i in range(0, len(daughter_pts), 3):\n",
    "    #daughter_pt\n",
    "    particle1_pt.append(daughter_pts[i])\n",
    "    particle2_pt.append(daughter_pts[i+1])\n",
    "    particle3_pt.append(daughter_pts[i+2])\n",
    "    \n",
    "    #daughter_eta\n",
    "    particle1_eta.append(daughter_etas[i])\n",
    "    particle2_eta.append(daughter_etas[i+1])\n",
    "    particle3_eta.append(daughter_etas[i+2])\n",
    "    \n",
    "    #daughter_phi\n",
    "    particle1_phi.append(daughter_phis[i])\n",
    "    particle2_phi.append(daughter_phis[i+1])\n",
    "    particle3_phi.append(daughter_phis[i+2])"
   ]
  },
  {
   "cell_type": "code",
   "execution_count": null,
   "id": "9fbba64f-7e10-48c8-a82d-64406f1d373d",
   "metadata": {},
   "outputs": [],
   "source": [
    "#D+ hypothesis\n",
    "#inv_mass1 is pk assuming proton is pion for all candidates\n",
    "#inv_mass2 is kpi\n",
    "#inv_mass3 pipi (assuming p is pi)\n",
    "\n",
    "#pions\n",
    "#inv_mass4 is pion pion (first pion was proton) (second pion was kaon)\n",
    "#inv_mass5 is pion pion (first pion was kaon) (second is still pion)\n",
    "#inv_mass6 is pion pion (first pion was proton) (second is still pion)\n",
    "\n",
    "#Lambda Hypothesis\n",
    "#inv_mass7 is pk assuming proton is proton\n",
    "#inv_mass8 is kpi\n",
    "#inv_mass9 ppi"
   ]
  },
  {
   "cell_type": "code",
   "execution_count": 258,
   "id": "cfc7e1cc-f72e-4256-9094-e49ff03d7a68",
   "metadata": {},
   "outputs": [],
   "source": [
    "k_mass = 0.493677 #Gev/c^2\n",
    "pi_mass = 0.13957 #Gev/c^2\n",
    "p_mass = 0.938 #Gev/c^2\n",
    "\n",
    "def createTLorentzVectors(df):\n",
    "    TLorentzVectorList = []\n",
    "    \n",
    "    for index, row in df.iterrows():\n",
    "        pts = row['DMesons_daughterInfo__pt']\n",
    "        etas = row['DMesons_daughterInfo__eta']\n",
    "        phis = row['DMesons_daughterInfo__phi']\n",
    "        pdgids = row['DMesons_daughterInfo__pdgId']\n",
    "        types = row[\"particle_type\"]\n",
    "        \n",
    "        def assign_mass():\n",
    "            if types == \"only_411\" or \"only_4122\":\n",
    "                #D+ Hypothesis: assume proton is pion for \n",
    "                #Lambda Hypothesis: keep proton as proton\n",
    "                return p_mass\n",
    "            else:\n",
    "                raise Exception(\"Are there more particle types?\")\n",
    "            \n",
    "        for pt, eta, phi, pdgid in zip(pts, etas, phis, pdgids):\n",
    "            if pdgid == 211:\n",
    "                m = pi_mass\n",
    "            elif pdgid == -321:\n",
    "                m = k_mass\n",
    "            elif pdgid == 2212:\n",
    "                m = assign_mass()\n",
    "            else:\n",
    "                continue\n",
    "\n",
    "            p = ROOT.TLorentzVector()\n",
    "            p.SetPtEtaPhiM(pt, eta, phi, m)\n",
    "            TLorentzVectorList.append(p)\n",
    "\n",
    "    return TLorentzVectorList\n",
    "\n",
    "inv_mass_squared = lambda p1, p2: (p1 + p2).M2()"
   ]
  },
  {
   "cell_type": "code",
   "execution_count": 259,
   "id": "2c2417ab-3f97-491d-9027-c2225f043714",
   "metadata": {},
   "outputs": [
    {
     "data": {
      "text/plain": [
       "(1000000, 3)"
      ]
     },
     "execution_count": 259,
     "metadata": {},
     "output_type": "execute_result"
    }
   ],
   "source": [
    "LorentzVectors = createTLorentzVectors(shuffled_df)\n",
    "reshaped_list = [LorentzVectors[i:i+3] for i in range(0, len(LorentzVectors), 3)]\n",
    "np.shape(reshaped_list)"
   ]
  },
  {
   "cell_type": "code",
   "execution_count": 262,
   "id": "04b00123-93ee-4755-9fbf-d30802786806",
   "metadata": {},
   "outputs": [],
   "source": [
    "pk_list = []\n",
    "kpi_list = []\n",
    "ppi_list = []\n",
    "\n",
    "#find the ordering of the Loretnz Vectors\n",
    "\n",
    "#Lambda Hypothesis\n",
    "p_LorentzVectors = []\n",
    "k_LorentzVectors = []\n",
    "pi_LorentzVectors = []\n",
    "for i in LorentzVectors:\n",
    "    if round(i.M(), 3) == p_mass:\n",
    "        p_LorentzVectors.append(i)\n",
    "    elif round(i.M(), 6) == k_mass:\n",
    "        k_LorentzVectors.append(i)\n",
    "    elif round(i.M(), 4) == 0.1396:\n",
    "        pi_LorentzVectors.append(i)\n",
    "\n",
    "#D+ Hypothesis\n",
    "# p_LorentzVectors = []\n",
    "# k_LorentzVectors = []\n",
    "# pi_LorentzVectors = []\n",
    "# for sublist in reshaped_list:\n",
    "#     for i in range(len(sublist)):\n",
    "#         if round(sublist[i].M(), 4) == 0.1396 and i == 0:\n",
    "#             p_LorentzVectors.append(sublist[0])\n",
    "#         elif round(sublist[i].M(), 4) == 0.4937 and i == 1:\n",
    "#             k_LorentzVectors.append(sublist[1])\n",
    "#         elif round(sublist[i].M(), 4) == 0.1396 and i == 2:\n",
    "#             pi_LorentzVectors.append(sublist[2])"
   ]
  },
  {
   "cell_type": "code",
   "execution_count": 263,
   "id": "16a21089-0516-4912-ac7a-594bbc26f7c6",
   "metadata": {},
   "outputs": [],
   "source": [
    "for i in range(len(p_LorentzVectors)):\n",
    "    pk = inv_mass_squared(p_LorentzVectors[i], k_LorentzVectors[i])\n",
    "    kpi = inv_mass_squared(k_LorentzVectors[i], pi_LorentzVectors[i])\n",
    "    ppi = inv_mass_squared(p_LorentzVectors[i], pi_LorentzVectors[i])\n",
    "    pk_list.append(pk)\n",
    "    kpi_list.append(kpi)\n",
    "    ppi_list.append(ppi)"
   ]
  },
  {
   "cell_type": "code",
   "execution_count": 197,
   "id": "401af43f-0cb5-4b44-9a7b-4e28d1d1adcd",
   "metadata": {},
   "outputs": [],
   "source": [
    "#Lambda\n",
    "# for i in range(len(p_LorentzVectors)):\n",
    "#     ppi = inv_mass_squared(p_LorentzVectors[i], pi_LorentzVectors[i])\n",
    "#     ppi_list.append(ppi)"
   ]
  },
  {
   "cell_type": "code",
   "execution_count": 190,
   "id": "c276ccfb-b4f5-4786-b03c-042f172d7b8b",
   "metadata": {},
   "outputs": [],
   "source": [
    "#D\n",
    "# for i in range(len(p_LorentzVectors)):\n",
    "#     pipi = inv_mass_squared(p_LorentzVectors[i], pi_LorentzVectors[i])\n",
    "#     pipi_list.append(pipi)"
   ]
  },
  {
   "cell_type": "code",
   "execution_count": 264,
   "id": "907c1bc7-1ca4-438f-93a3-fb4b41edaa7e",
   "metadata": {},
   "outputs": [],
   "source": [
    "#D+ hypothesis\n",
    "#inv_mass1 is pk assuming proton is pion for all candidates\n",
    "#inv_mass2 is kpi\n",
    "#inv_mass3 pipi (assuming p is pi)\n",
    "\n",
    "#pions\n",
    "#inv_mass4 is pion pion (first pion was proton) (second pion was kaon)\n",
    "#inv_mass5 is pion pion (first pion was kaon) (second is still pion)\n",
    "#inv_mass6 is pion pion (first pion was proton) (second is still pion)\n",
    "\n",
    "#Lambda Hypothesis\n",
    "#inv_mass7 is pk assuming proton is proton\n",
    "#inv_mass8 is kpi\n",
    "#inv_mass9 ppi\n",
    "\n",
    "shuffled_df['inv_mass7'] = pk_list\n",
    "shuffled_df['inv_mass8'] = kpi_list\n",
    "shuffled_df['inv_mass9'] = ppi_list"
   ]
  },
  {
   "cell_type": "code",
   "execution_count": 265,
   "id": "ff8e7e50-1449-45bc-b524-bc42606c7764",
   "metadata": {},
   "outputs": [
    {
     "data": {
      "text/html": [
       "<div>\n",
       "<style scoped>\n",
       "    .dataframe tbody tr th:only-of-type {\n",
       "        vertical-align: middle;\n",
       "    }\n",
       "\n",
       "    .dataframe tbody tr th {\n",
       "        vertical-align: top;\n",
       "    }\n",
       "\n",
       "    .dataframe thead th {\n",
       "        text-align: right;\n",
       "    }\n",
       "</style>\n",
       "<table border=\"1\" class=\"dataframe\">\n",
       "  <thead>\n",
       "    <tr style=\"text-align: right;\">\n",
       "      <th></th>\n",
       "      <th>DMesons_pt</th>\n",
       "      <th>DMesons_eta</th>\n",
       "      <th>DMesons_m</th>\n",
       "      <th>DMesons_fitOutput__Lxy</th>\n",
       "      <th>DMesons_costhetastar</th>\n",
       "      <th>DMesons_pdgId</th>\n",
       "      <th>DMesons_daughterInfo__pt</th>\n",
       "      <th>DMesons_daughterInfo__eta</th>\n",
       "      <th>DMesons_daughterInfo__phi</th>\n",
       "      <th>DMesons_daughterInfo__pdgId</th>\n",
       "      <th>...</th>\n",
       "      <th>particle_type</th>\n",
       "      <th>inv_mass1</th>\n",
       "      <th>inv_mass2</th>\n",
       "      <th>inv_mass3</th>\n",
       "      <th>inv_mass4</th>\n",
       "      <th>inv_mass5</th>\n",
       "      <th>inv_mass6</th>\n",
       "      <th>inv_mass7</th>\n",
       "      <th>inv_mass8</th>\n",
       "      <th>inv_mass9</th>\n",
       "    </tr>\n",
       "  </thead>\n",
       "  <tbody>\n",
       "    <tr>\n",
       "      <th>0</th>\n",
       "      <td>14.551307</td>\n",
       "      <td>-0.503012</td>\n",
       "      <td>2211.277832</td>\n",
       "      <td>0.105686</td>\n",
       "      <td>-0.462903</td>\n",
       "      <td>411</td>\n",
       "      <td>[11.170928001403809, 2.831317901611328, 0.6029...</td>\n",
       "      <td>[-0.4977727, -0.55253094, -0.31940895]</td>\n",
       "      <td>[0.45178226, 0.5159005, 0.88359225]</td>\n",
       "      <td>(2212, -321, 211)</td>\n",
       "      <td>...</td>\n",
       "      <td>only_4122</td>\n",
       "      <td>1.424463</td>\n",
       "      <td>0.732076</td>\n",
       "      <td>1.873404</td>\n",
       "      <td>0.343701</td>\n",
       "      <td>0.463657</td>\n",
       "      <td>1.873404</td>\n",
       "      <td>2.510926</td>\n",
       "      <td>0.732076</td>\n",
       "      <td>2.778089</td>\n",
       "    </tr>\n",
       "    <tr>\n",
       "      <th>1</th>\n",
       "      <td>10.616373</td>\n",
       "      <td>-1.239521</td>\n",
       "      <td>2226.512207</td>\n",
       "      <td>0.547223</td>\n",
       "      <td>0.957469</td>\n",
       "      <td>411</td>\n",
       "      <td>[3.040483236312866, 6.920453071594238, 0.66697...</td>\n",
       "      <td>[-1.2389119, -1.2671988, -0.891992]</td>\n",
       "      <td>[2.288972, 2.2705233, 2.100124]</td>\n",
       "      <td>(2212, -321, 211)</td>\n",
       "      <td>...</td>\n",
       "      <td>only_4122</td>\n",
       "      <td>0.437135</td>\n",
       "      <td>1.342377</td>\n",
       "      <td>0.476848</td>\n",
       "      <td>0.116725</td>\n",
       "      <td>1.101903</td>\n",
       "      <td>0.476848</td>\n",
       "      <td>3.291010</td>\n",
       "      <td>1.342377</td>\n",
       "      <td>1.481510</td>\n",
       "    </tr>\n",
       "    <tr>\n",
       "      <th>2</th>\n",
       "      <td>8.041471</td>\n",
       "      <td>0.740541</td>\n",
       "      <td>2292.695068</td>\n",
       "      <td>0.648762</td>\n",
       "      <td>-0.224572</td>\n",
       "      <td>4122</td>\n",
       "      <td>[4.130668640136719, 2.183924913406372, 1.80589...</td>\n",
       "      <td>[0.61786264, 0.9393891, 0.7249763]</td>\n",
       "      <td>[-2.7951388, -3.0525513, -2.6634498]</td>\n",
       "      <td>(2212, -321, 211)</td>\n",
       "      <td>...</td>\n",
       "      <td>only_4122</td>\n",
       "      <td>2.183149</td>\n",
       "      <td>1.235540</td>\n",
       "      <td>0.304696</td>\n",
       "      <td>1.616657</td>\n",
       "      <td>0.851758</td>\n",
       "      <td>0.304696</td>\n",
       "      <td>3.605317</td>\n",
       "      <td>1.235540</td>\n",
       "      <td>1.562662</td>\n",
       "    </tr>\n",
       "    <tr>\n",
       "      <th>3</th>\n",
       "      <td>14.505914</td>\n",
       "      <td>1.700047</td>\n",
       "      <td>2277.017822</td>\n",
       "      <td>0.415693</td>\n",
       "      <td>0.281155</td>\n",
       "      <td>4122</td>\n",
       "      <td>[5.195446968078613, 7.804042816162109, 1.53329...</td>\n",
       "      <td>[1.7886169, 1.6211084, 1.7547115]</td>\n",
       "      <td>[-0.67071944, -0.5331284, -0.63166416]</td>\n",
       "      <td>(2212, -321, 211)</td>\n",
       "      <td>...</td>\n",
       "      <td>only_4122</td>\n",
       "      <td>2.384678</td>\n",
       "      <td>0.734953</td>\n",
       "      <td>0.133974</td>\n",
       "      <td>1.985845</td>\n",
       "      <td>0.460789</td>\n",
       "      <td>0.133974</td>\n",
       "      <td>4.349245</td>\n",
       "      <td>0.734953</td>\n",
       "      <td>1.240154</td>\n",
       "    </tr>\n",
       "    <tr>\n",
       "      <th>4</th>\n",
       "      <td>9.190323</td>\n",
       "      <td>0.948899</td>\n",
       "      <td>2467.892822</td>\n",
       "      <td>0.088807</td>\n",
       "      <td>-0.964863</td>\n",
       "      <td>411</td>\n",
       "      <td>[5.592108726501465, 0.7378090620040894, 2.8988...</td>\n",
       "      <td>[1.0165381, 0.6699291, 0.87115043]</td>\n",
       "      <td>[0.7204874, 0.5911911, 0.61206007]</td>\n",
       "      <td>(2212, -321, 211)</td>\n",
       "      <td>...</td>\n",
       "      <td>only_4122</td>\n",
       "      <td>3.025494</td>\n",
       "      <td>1.376170</td>\n",
       "      <td>0.623499</td>\n",
       "      <td>0.796600</td>\n",
       "      <td>0.217839</td>\n",
       "      <td>0.623499</td>\n",
       "      <td>3.987457</td>\n",
       "      <td>1.376170</td>\n",
       "      <td>1.883637</td>\n",
       "    </tr>\n",
       "    <tr>\n",
       "      <th>...</th>\n",
       "      <td>...</td>\n",
       "      <td>...</td>\n",
       "      <td>...</td>\n",
       "      <td>...</td>\n",
       "      <td>...</td>\n",
       "      <td>...</td>\n",
       "      <td>...</td>\n",
       "      <td>...</td>\n",
       "      <td>...</td>\n",
       "      <td>...</td>\n",
       "      <td>...</td>\n",
       "      <td>...</td>\n",
       "      <td>...</td>\n",
       "      <td>...</td>\n",
       "      <td>...</td>\n",
       "      <td>...</td>\n",
       "      <td>...</td>\n",
       "      <td>...</td>\n",
       "      <td>...</td>\n",
       "      <td>...</td>\n",
       "      <td>...</td>\n",
       "    </tr>\n",
       "    <tr>\n",
       "      <th>999995</th>\n",
       "      <td>32.272094</td>\n",
       "      <td>-0.041371</td>\n",
       "      <td>2258.133057</td>\n",
       "      <td>0.269147</td>\n",
       "      <td>-0.166023</td>\n",
       "      <td>4122</td>\n",
       "      <td>[19.53499984741211, 10.94820785522461, 1.82099...</td>\n",
       "      <td>[-0.059171885, -0.013583427, -0.018911816]</td>\n",
       "      <td>[-2.877898, -2.9645057, -2.8272035]</td>\n",
       "      <td>(2212, -321, 211)</td>\n",
       "      <td>...</td>\n",
       "      <td>only_4122</td>\n",
       "      <td>2.757283</td>\n",
       "      <td>0.796590</td>\n",
       "      <td>0.398840</td>\n",
       "      <td>2.132483</td>\n",
       "      <td>0.534964</td>\n",
       "      <td>0.398840</td>\n",
       "      <td>4.099238</td>\n",
       "      <td>0.796590</td>\n",
       "      <td>1.339467</td>\n",
       "    </tr>\n",
       "    <tr>\n",
       "      <th>999996</th>\n",
       "      <td>49.044613</td>\n",
       "      <td>-1.551618</td>\n",
       "      <td>2302.039551</td>\n",
       "      <td>0.211826</td>\n",
       "      <td>0.901419</td>\n",
       "      <td>411</td>\n",
       "      <td>[10.073150634765625, 30.05179214477539, 8.9344...</td>\n",
       "      <td>[-1.5475895, -1.54694, -1.5712011]</td>\n",
       "      <td>[1.316317, 1.3007066, 1.3279157]</td>\n",
       "      <td>(2212, -321, 211)</td>\n",
       "      <td>...</td>\n",
       "      <td>only_4122</td>\n",
       "      <td>0.476911</td>\n",
       "      <td>0.758174</td>\n",
       "      <td>0.140392</td>\n",
       "      <td>0.177466</td>\n",
       "      <td>0.465773</td>\n",
       "      <td>0.140392</td>\n",
       "      <td>3.901641</td>\n",
       "      <td>0.758174</td>\n",
       "      <td>1.780263</td>\n",
       "    </tr>\n",
       "    <tr>\n",
       "      <th>999997</th>\n",
       "      <td>15.512543</td>\n",
       "      <td>-0.002953</td>\n",
       "      <td>2162.263672</td>\n",
       "      <td>0.298673</td>\n",
       "      <td>-0.881231</td>\n",
       "      <td>411</td>\n",
       "      <td>[12.885456085205078, 2.0564074516296387, 0.600...</td>\n",
       "      <td>[0.013616143, -0.08536845, -0.07438314]</td>\n",
       "      <td>[0.5507237, 0.59127384, 0.8937046]</td>\n",
       "      <td>(2212, -321, 211)</td>\n",
       "      <td>...</td>\n",
       "      <td>only_4122</td>\n",
       "      <td>2.070365</td>\n",
       "      <td>0.513330</td>\n",
       "      <td>1.412748</td>\n",
       "      <td>0.466976</td>\n",
       "      <td>0.222930</td>\n",
       "      <td>1.412748</td>\n",
       "      <td>3.072219</td>\n",
       "      <td>0.513330</td>\n",
       "      <td>2.314334</td>\n",
       "    </tr>\n",
       "    <tr>\n",
       "      <th>999998</th>\n",
       "      <td>9.649199</td>\n",
       "      <td>0.248185</td>\n",
       "      <td>2028.827759</td>\n",
       "      <td>0.154665</td>\n",
       "      <td>0.676143</td>\n",
       "      <td>411</td>\n",
       "      <td>[3.514936923980713, 5.062290668487549, 1.09335...</td>\n",
       "      <td>[0.21267407, 0.22728372, 0.44851756]</td>\n",
       "      <td>[-1.1488833, -1.3185775, -1.2333149]</td>\n",
       "      <td>(2212, -321, 211)</td>\n",
       "      <td>...</td>\n",
       "      <td>only_4122</td>\n",
       "      <td>0.974722</td>\n",
       "      <td>0.715890</td>\n",
       "      <td>0.345574</td>\n",
       "      <td>0.595541</td>\n",
       "      <td>0.439397</td>\n",
       "      <td>0.345574</td>\n",
       "      <td>3.062715</td>\n",
       "      <td>0.715890</td>\n",
       "      <td>1.491429</td>\n",
       "    </tr>\n",
       "    <tr>\n",
       "      <th>999999</th>\n",
       "      <td>14.298828</td>\n",
       "      <td>-1.090514</td>\n",
       "      <td>2314.598877</td>\n",
       "      <td>0.456881</td>\n",
       "      <td>0.277941</td>\n",
       "      <td>4122</td>\n",
       "      <td>[6.239779472351074, 6.213461399078369, 1.86070...</td>\n",
       "      <td>[-1.0250965, -1.1906968, -0.94060713]</td>\n",
       "      <td>[0.63234746, 0.58737457, 0.7656743]</td>\n",
       "      <td>(2212, -321, 211)</td>\n",
       "      <td>...</td>\n",
       "      <td>only_4122</td>\n",
       "      <td>1.643614</td>\n",
       "      <td>1.495795</td>\n",
       "      <td>0.403005</td>\n",
       "      <td>1.222302</td>\n",
       "      <td>1.216351</td>\n",
       "      <td>0.403005</td>\n",
       "      <td>3.481188</td>\n",
       "      <td>1.495795</td>\n",
       "      <td>1.503845</td>\n",
       "    </tr>\n",
       "  </tbody>\n",
       "</table>\n",
       "<p>1000000 rows × 21 columns</p>\n",
       "</div>"
      ],
      "text/plain": [
       "        DMesons_pt  DMesons_eta    DMesons_m  DMesons_fitOutput__Lxy  \\\n",
       "0        14.551307    -0.503012  2211.277832                0.105686   \n",
       "1        10.616373    -1.239521  2226.512207                0.547223   \n",
       "2         8.041471     0.740541  2292.695068                0.648762   \n",
       "3        14.505914     1.700047  2277.017822                0.415693   \n",
       "4         9.190323     0.948899  2467.892822                0.088807   \n",
       "...            ...          ...          ...                     ...   \n",
       "999995   32.272094    -0.041371  2258.133057                0.269147   \n",
       "999996   49.044613    -1.551618  2302.039551                0.211826   \n",
       "999997   15.512543    -0.002953  2162.263672                0.298673   \n",
       "999998    9.649199     0.248185  2028.827759                0.154665   \n",
       "999999   14.298828    -1.090514  2314.598877                0.456881   \n",
       "\n",
       "        DMesons_costhetastar  DMesons_pdgId  \\\n",
       "0                  -0.462903            411   \n",
       "1                   0.957469            411   \n",
       "2                  -0.224572           4122   \n",
       "3                   0.281155           4122   \n",
       "4                  -0.964863            411   \n",
       "...                      ...            ...   \n",
       "999995             -0.166023           4122   \n",
       "999996              0.901419            411   \n",
       "999997             -0.881231            411   \n",
       "999998              0.676143            411   \n",
       "999999              0.277941           4122   \n",
       "\n",
       "                                 DMesons_daughterInfo__pt  \\\n",
       "0       [11.170928001403809, 2.831317901611328, 0.6029...   \n",
       "1       [3.040483236312866, 6.920453071594238, 0.66697...   \n",
       "2       [4.130668640136719, 2.183924913406372, 1.80589...   \n",
       "3       [5.195446968078613, 7.804042816162109, 1.53329...   \n",
       "4       [5.592108726501465, 0.7378090620040894, 2.8988...   \n",
       "...                                                   ...   \n",
       "999995  [19.53499984741211, 10.94820785522461, 1.82099...   \n",
       "999996  [10.073150634765625, 30.05179214477539, 8.9344...   \n",
       "999997  [12.885456085205078, 2.0564074516296387, 0.600...   \n",
       "999998  [3.514936923980713, 5.062290668487549, 1.09335...   \n",
       "999999  [6.239779472351074, 6.213461399078369, 1.86070...   \n",
       "\n",
       "                         DMesons_daughterInfo__eta  \\\n",
       "0           [-0.4977727, -0.55253094, -0.31940895]   \n",
       "1              [-1.2389119, -1.2671988, -0.891992]   \n",
       "2               [0.61786264, 0.9393891, 0.7249763]   \n",
       "3                [1.7886169, 1.6211084, 1.7547115]   \n",
       "4               [1.0165381, 0.6699291, 0.87115043]   \n",
       "...                                            ...   \n",
       "999995  [-0.059171885, -0.013583427, -0.018911816]   \n",
       "999996          [-1.5475895, -1.54694, -1.5712011]   \n",
       "999997     [0.013616143, -0.08536845, -0.07438314]   \n",
       "999998        [0.21267407, 0.22728372, 0.44851756]   \n",
       "999999       [-1.0250965, -1.1906968, -0.94060713]   \n",
       "\n",
       "                     DMesons_daughterInfo__phi DMesons_daughterInfo__pdgId  \\\n",
       "0          [0.45178226, 0.5159005, 0.88359225]           (2212, -321, 211)   \n",
       "1              [2.288972, 2.2705233, 2.100124]           (2212, -321, 211)   \n",
       "2         [-2.7951388, -3.0525513, -2.6634498]           (2212, -321, 211)   \n",
       "3       [-0.67071944, -0.5331284, -0.63166416]           (2212, -321, 211)   \n",
       "4           [0.7204874, 0.5911911, 0.61206007]           (2212, -321, 211)   \n",
       "...                                        ...                         ...   \n",
       "999995     [-2.877898, -2.9645057, -2.8272035]           (2212, -321, 211)   \n",
       "999996        [1.316317, 1.3007066, 1.3279157]           (2212, -321, 211)   \n",
       "999997      [0.5507237, 0.59127384, 0.8937046]           (2212, -321, 211)   \n",
       "999998    [-1.1488833, -1.3185775, -1.2333149]           (2212, -321, 211)   \n",
       "999999     [0.63234746, 0.58737457, 0.7656743]           (2212, -321, 211)   \n",
       "\n",
       "        ...  particle_type inv_mass1  inv_mass2  inv_mass3  inv_mass4  \\\n",
       "0       ...      only_4122  1.424463   0.732076   1.873404   0.343701   \n",
       "1       ...      only_4122  0.437135   1.342377   0.476848   0.116725   \n",
       "2       ...      only_4122  2.183149   1.235540   0.304696   1.616657   \n",
       "3       ...      only_4122  2.384678   0.734953   0.133974   1.985845   \n",
       "4       ...      only_4122  3.025494   1.376170   0.623499   0.796600   \n",
       "...     ...            ...       ...        ...        ...        ...   \n",
       "999995  ...      only_4122  2.757283   0.796590   0.398840   2.132483   \n",
       "999996  ...      only_4122  0.476911   0.758174   0.140392   0.177466   \n",
       "999997  ...      only_4122  2.070365   0.513330   1.412748   0.466976   \n",
       "999998  ...      only_4122  0.974722   0.715890   0.345574   0.595541   \n",
       "999999  ...      only_4122  1.643614   1.495795   0.403005   1.222302   \n",
       "\n",
       "        inv_mass5  inv_mass6  inv_mass7  inv_mass8  inv_mass9  \n",
       "0        0.463657   1.873404   2.510926   0.732076   2.778089  \n",
       "1        1.101903   0.476848   3.291010   1.342377   1.481510  \n",
       "2        0.851758   0.304696   3.605317   1.235540   1.562662  \n",
       "3        0.460789   0.133974   4.349245   0.734953   1.240154  \n",
       "4        0.217839   0.623499   3.987457   1.376170   1.883637  \n",
       "...           ...        ...        ...        ...        ...  \n",
       "999995   0.534964   0.398840   4.099238   0.796590   1.339467  \n",
       "999996   0.465773   0.140392   3.901641   0.758174   1.780263  \n",
       "999997   0.222930   1.412748   3.072219   0.513330   2.314334  \n",
       "999998   0.439397   0.345574   3.062715   0.715890   1.491429  \n",
       "999999   1.216351   0.403005   3.481188   1.495795   1.503845  \n",
       "\n",
       "[1000000 rows x 21 columns]"
      ]
     },
     "execution_count": 265,
     "metadata": {},
     "output_type": "execute_result"
    }
   ],
   "source": [
    "shuffled_df"
   ]
  },
  {
   "cell_type": "code",
   "execution_count": 266,
   "id": "07fe547c-9f85-4224-a07b-35d21f6ea2d7",
   "metadata": {},
   "outputs": [
    {
     "data": {
      "text/html": [
       "<div>\n",
       "<style scoped>\n",
       "    .dataframe tbody tr th:only-of-type {\n",
       "        vertical-align: middle;\n",
       "    }\n",
       "\n",
       "    .dataframe tbody tr th {\n",
       "        vertical-align: top;\n",
       "    }\n",
       "\n",
       "    .dataframe thead th {\n",
       "        text-align: right;\n",
       "    }\n",
       "</style>\n",
       "<table border=\"1\" class=\"dataframe\">\n",
       "  <thead>\n",
       "    <tr style=\"text-align: right;\">\n",
       "      <th></th>\n",
       "      <th>DMesons_pt</th>\n",
       "      <th>DMesons_eta</th>\n",
       "      <th>DMesons_m</th>\n",
       "      <th>DMesons_fitOutput__Lxy</th>\n",
       "      <th>DMesons_costhetastar</th>\n",
       "      <th>DMesons_pdgId</th>\n",
       "      <th>DMesons_fitOutput__ImpactSignificance</th>\n",
       "      <th>inv_mass1</th>\n",
       "      <th>inv_mass2</th>\n",
       "      <th>inv_mass3</th>\n",
       "      <th>...</th>\n",
       "      <th>inv_mass9</th>\n",
       "      <th>daughter_pt1</th>\n",
       "      <th>daughter_pt2</th>\n",
       "      <th>daughter_pt3</th>\n",
       "      <th>daughter_eta1</th>\n",
       "      <th>daughter_eta2</th>\n",
       "      <th>daughter_eta3</th>\n",
       "      <th>daughter_phi1</th>\n",
       "      <th>daughter_phi2</th>\n",
       "      <th>daughter_phi3</th>\n",
       "    </tr>\n",
       "  </thead>\n",
       "  <tbody>\n",
       "    <tr>\n",
       "      <th>0</th>\n",
       "      <td>14.551307</td>\n",
       "      <td>-0.503012</td>\n",
       "      <td>2211.277832</td>\n",
       "      <td>0.105686</td>\n",
       "      <td>-0.462903</td>\n",
       "      <td>411</td>\n",
       "      <td>1.598548</td>\n",
       "      <td>1.424463</td>\n",
       "      <td>0.732076</td>\n",
       "      <td>1.873404</td>\n",
       "      <td>...</td>\n",
       "      <td>2.778089</td>\n",
       "      <td>11.170928</td>\n",
       "      <td>2.831318</td>\n",
       "      <td>0.602950</td>\n",
       "      <td>-0.497773</td>\n",
       "      <td>-0.552531</td>\n",
       "      <td>-0.319409</td>\n",
       "      <td>0.451782</td>\n",
       "      <td>0.515900</td>\n",
       "      <td>0.883592</td>\n",
       "    </tr>\n",
       "    <tr>\n",
       "      <th>1</th>\n",
       "      <td>10.616373</td>\n",
       "      <td>-1.239521</td>\n",
       "      <td>2226.512207</td>\n",
       "      <td>0.547223</td>\n",
       "      <td>0.957469</td>\n",
       "      <td>411</td>\n",
       "      <td>2.001802</td>\n",
       "      <td>0.437135</td>\n",
       "      <td>1.342377</td>\n",
       "      <td>0.476848</td>\n",
       "      <td>...</td>\n",
       "      <td>1.481510</td>\n",
       "      <td>3.040483</td>\n",
       "      <td>6.920453</td>\n",
       "      <td>0.666974</td>\n",
       "      <td>-1.238912</td>\n",
       "      <td>-1.267199</td>\n",
       "      <td>-0.891992</td>\n",
       "      <td>2.288972</td>\n",
       "      <td>2.270523</td>\n",
       "      <td>2.100124</td>\n",
       "    </tr>\n",
       "    <tr>\n",
       "      <th>2</th>\n",
       "      <td>8.041471</td>\n",
       "      <td>0.740541</td>\n",
       "      <td>2292.695068</td>\n",
       "      <td>0.648762</td>\n",
       "      <td>-0.224572</td>\n",
       "      <td>4122</td>\n",
       "      <td>0.782303</td>\n",
       "      <td>2.183149</td>\n",
       "      <td>1.235540</td>\n",
       "      <td>0.304696</td>\n",
       "      <td>...</td>\n",
       "      <td>1.562662</td>\n",
       "      <td>4.130669</td>\n",
       "      <td>2.183925</td>\n",
       "      <td>1.805893</td>\n",
       "      <td>0.617863</td>\n",
       "      <td>0.939389</td>\n",
       "      <td>0.724976</td>\n",
       "      <td>-2.795139</td>\n",
       "      <td>-3.052551</td>\n",
       "      <td>-2.663450</td>\n",
       "    </tr>\n",
       "    <tr>\n",
       "      <th>3</th>\n",
       "      <td>14.505914</td>\n",
       "      <td>1.700047</td>\n",
       "      <td>2277.017822</td>\n",
       "      <td>0.415693</td>\n",
       "      <td>0.281155</td>\n",
       "      <td>4122</td>\n",
       "      <td>1.275064</td>\n",
       "      <td>2.384678</td>\n",
       "      <td>0.734953</td>\n",
       "      <td>0.133974</td>\n",
       "      <td>...</td>\n",
       "      <td>1.240154</td>\n",
       "      <td>5.195447</td>\n",
       "      <td>7.804043</td>\n",
       "      <td>1.533298</td>\n",
       "      <td>1.788617</td>\n",
       "      <td>1.621108</td>\n",
       "      <td>1.754712</td>\n",
       "      <td>-0.670719</td>\n",
       "      <td>-0.533128</td>\n",
       "      <td>-0.631664</td>\n",
       "    </tr>\n",
       "    <tr>\n",
       "      <th>4</th>\n",
       "      <td>9.190323</td>\n",
       "      <td>0.948899</td>\n",
       "      <td>2467.892822</td>\n",
       "      <td>0.088807</td>\n",
       "      <td>-0.964863</td>\n",
       "      <td>411</td>\n",
       "      <td>2.443815</td>\n",
       "      <td>3.025494</td>\n",
       "      <td>1.376170</td>\n",
       "      <td>0.623499</td>\n",
       "      <td>...</td>\n",
       "      <td>1.883637</td>\n",
       "      <td>5.592109</td>\n",
       "      <td>0.737809</td>\n",
       "      <td>2.898830</td>\n",
       "      <td>1.016538</td>\n",
       "      <td>0.669929</td>\n",
       "      <td>0.871150</td>\n",
       "      <td>0.720487</td>\n",
       "      <td>0.591191</td>\n",
       "      <td>0.612060</td>\n",
       "    </tr>\n",
       "    <tr>\n",
       "      <th>...</th>\n",
       "      <td>...</td>\n",
       "      <td>...</td>\n",
       "      <td>...</td>\n",
       "      <td>...</td>\n",
       "      <td>...</td>\n",
       "      <td>...</td>\n",
       "      <td>...</td>\n",
       "      <td>...</td>\n",
       "      <td>...</td>\n",
       "      <td>...</td>\n",
       "      <td>...</td>\n",
       "      <td>...</td>\n",
       "      <td>...</td>\n",
       "      <td>...</td>\n",
       "      <td>...</td>\n",
       "      <td>...</td>\n",
       "      <td>...</td>\n",
       "      <td>...</td>\n",
       "      <td>...</td>\n",
       "      <td>...</td>\n",
       "      <td>...</td>\n",
       "    </tr>\n",
       "    <tr>\n",
       "      <th>999995</th>\n",
       "      <td>32.272094</td>\n",
       "      <td>-0.041371</td>\n",
       "      <td>2258.133057</td>\n",
       "      <td>0.269147</td>\n",
       "      <td>-0.166023</td>\n",
       "      <td>4122</td>\n",
       "      <td>2.293643</td>\n",
       "      <td>2.757283</td>\n",
       "      <td>0.796590</td>\n",
       "      <td>0.398840</td>\n",
       "      <td>...</td>\n",
       "      <td>1.339467</td>\n",
       "      <td>19.535000</td>\n",
       "      <td>10.948208</td>\n",
       "      <td>1.820998</td>\n",
       "      <td>-0.059172</td>\n",
       "      <td>-0.013583</td>\n",
       "      <td>-0.018912</td>\n",
       "      <td>-2.877898</td>\n",
       "      <td>-2.964506</td>\n",
       "      <td>-2.827204</td>\n",
       "    </tr>\n",
       "    <tr>\n",
       "      <th>999996</th>\n",
       "      <td>49.044613</td>\n",
       "      <td>-1.551618</td>\n",
       "      <td>2302.039551</td>\n",
       "      <td>0.211826</td>\n",
       "      <td>0.901419</td>\n",
       "      <td>411</td>\n",
       "      <td>0.641638</td>\n",
       "      <td>0.476911</td>\n",
       "      <td>0.758174</td>\n",
       "      <td>0.140392</td>\n",
       "      <td>...</td>\n",
       "      <td>1.780263</td>\n",
       "      <td>10.073151</td>\n",
       "      <td>30.051792</td>\n",
       "      <td>8.934455</td>\n",
       "      <td>-1.547590</td>\n",
       "      <td>-1.546940</td>\n",
       "      <td>-1.571201</td>\n",
       "      <td>1.316317</td>\n",
       "      <td>1.300707</td>\n",
       "      <td>1.327916</td>\n",
       "    </tr>\n",
       "    <tr>\n",
       "      <th>999997</th>\n",
       "      <td>15.512543</td>\n",
       "      <td>-0.002953</td>\n",
       "      <td>2162.263672</td>\n",
       "      <td>0.298673</td>\n",
       "      <td>-0.881231</td>\n",
       "      <td>411</td>\n",
       "      <td>0.989076</td>\n",
       "      <td>2.070365</td>\n",
       "      <td>0.513330</td>\n",
       "      <td>1.412748</td>\n",
       "      <td>...</td>\n",
       "      <td>2.314334</td>\n",
       "      <td>12.885456</td>\n",
       "      <td>2.056407</td>\n",
       "      <td>0.600632</td>\n",
       "      <td>0.013616</td>\n",
       "      <td>-0.085368</td>\n",
       "      <td>-0.074383</td>\n",
       "      <td>0.550724</td>\n",
       "      <td>0.591274</td>\n",
       "      <td>0.893705</td>\n",
       "    </tr>\n",
       "    <tr>\n",
       "      <th>999998</th>\n",
       "      <td>9.649199</td>\n",
       "      <td>0.248185</td>\n",
       "      <td>2028.827759</td>\n",
       "      <td>0.154665</td>\n",
       "      <td>0.676143</td>\n",
       "      <td>411</td>\n",
       "      <td>0.318123</td>\n",
       "      <td>0.974722</td>\n",
       "      <td>0.715890</td>\n",
       "      <td>0.345574</td>\n",
       "      <td>...</td>\n",
       "      <td>1.491429</td>\n",
       "      <td>3.514937</td>\n",
       "      <td>5.062291</td>\n",
       "      <td>1.093358</td>\n",
       "      <td>0.212674</td>\n",
       "      <td>0.227284</td>\n",
       "      <td>0.448518</td>\n",
       "      <td>-1.148883</td>\n",
       "      <td>-1.318578</td>\n",
       "      <td>-1.233315</td>\n",
       "    </tr>\n",
       "    <tr>\n",
       "      <th>999999</th>\n",
       "      <td>14.298828</td>\n",
       "      <td>-1.090514</td>\n",
       "      <td>2314.598877</td>\n",
       "      <td>0.456881</td>\n",
       "      <td>0.277941</td>\n",
       "      <td>4122</td>\n",
       "      <td>3.227090</td>\n",
       "      <td>1.643614</td>\n",
       "      <td>1.495795</td>\n",
       "      <td>0.403005</td>\n",
       "      <td>...</td>\n",
       "      <td>1.503845</td>\n",
       "      <td>6.239779</td>\n",
       "      <td>6.213461</td>\n",
       "      <td>1.860710</td>\n",
       "      <td>-1.025097</td>\n",
       "      <td>-1.190697</td>\n",
       "      <td>-0.940607</td>\n",
       "      <td>0.632347</td>\n",
       "      <td>0.587375</td>\n",
       "      <td>0.765674</td>\n",
       "    </tr>\n",
       "  </tbody>\n",
       "</table>\n",
       "<p>1000000 rows × 25 columns</p>\n",
       "</div>"
      ],
      "text/plain": [
       "        DMesons_pt  DMesons_eta    DMesons_m  DMesons_fitOutput__Lxy  \\\n",
       "0        14.551307    -0.503012  2211.277832                0.105686   \n",
       "1        10.616373    -1.239521  2226.512207                0.547223   \n",
       "2         8.041471     0.740541  2292.695068                0.648762   \n",
       "3        14.505914     1.700047  2277.017822                0.415693   \n",
       "4         9.190323     0.948899  2467.892822                0.088807   \n",
       "...            ...          ...          ...                     ...   \n",
       "999995   32.272094    -0.041371  2258.133057                0.269147   \n",
       "999996   49.044613    -1.551618  2302.039551                0.211826   \n",
       "999997   15.512543    -0.002953  2162.263672                0.298673   \n",
       "999998    9.649199     0.248185  2028.827759                0.154665   \n",
       "999999   14.298828    -1.090514  2314.598877                0.456881   \n",
       "\n",
       "        DMesons_costhetastar  DMesons_pdgId  \\\n",
       "0                  -0.462903            411   \n",
       "1                   0.957469            411   \n",
       "2                  -0.224572           4122   \n",
       "3                   0.281155           4122   \n",
       "4                  -0.964863            411   \n",
       "...                      ...            ...   \n",
       "999995             -0.166023           4122   \n",
       "999996              0.901419            411   \n",
       "999997             -0.881231            411   \n",
       "999998              0.676143            411   \n",
       "999999              0.277941           4122   \n",
       "\n",
       "        DMesons_fitOutput__ImpactSignificance  inv_mass1  inv_mass2  \\\n",
       "0                                    1.598548   1.424463   0.732076   \n",
       "1                                    2.001802   0.437135   1.342377   \n",
       "2                                    0.782303   2.183149   1.235540   \n",
       "3                                    1.275064   2.384678   0.734953   \n",
       "4                                    2.443815   3.025494   1.376170   \n",
       "...                                       ...        ...        ...   \n",
       "999995                               2.293643   2.757283   0.796590   \n",
       "999996                               0.641638   0.476911   0.758174   \n",
       "999997                               0.989076   2.070365   0.513330   \n",
       "999998                               0.318123   0.974722   0.715890   \n",
       "999999                               3.227090   1.643614   1.495795   \n",
       "\n",
       "        inv_mass3  ...  inv_mass9  daughter_pt1  daughter_pt2  daughter_pt3  \\\n",
       "0        1.873404  ...   2.778089     11.170928      2.831318      0.602950   \n",
       "1        0.476848  ...   1.481510      3.040483      6.920453      0.666974   \n",
       "2        0.304696  ...   1.562662      4.130669      2.183925      1.805893   \n",
       "3        0.133974  ...   1.240154      5.195447      7.804043      1.533298   \n",
       "4        0.623499  ...   1.883637      5.592109      0.737809      2.898830   \n",
       "...           ...  ...        ...           ...           ...           ...   \n",
       "999995   0.398840  ...   1.339467     19.535000     10.948208      1.820998   \n",
       "999996   0.140392  ...   1.780263     10.073151     30.051792      8.934455   \n",
       "999997   1.412748  ...   2.314334     12.885456      2.056407      0.600632   \n",
       "999998   0.345574  ...   1.491429      3.514937      5.062291      1.093358   \n",
       "999999   0.403005  ...   1.503845      6.239779      6.213461      1.860710   \n",
       "\n",
       "        daughter_eta1  daughter_eta2  daughter_eta3  daughter_phi1  \\\n",
       "0           -0.497773      -0.552531      -0.319409       0.451782   \n",
       "1           -1.238912      -1.267199      -0.891992       2.288972   \n",
       "2            0.617863       0.939389       0.724976      -2.795139   \n",
       "3            1.788617       1.621108       1.754712      -0.670719   \n",
       "4            1.016538       0.669929       0.871150       0.720487   \n",
       "...               ...            ...            ...            ...   \n",
       "999995      -0.059172      -0.013583      -0.018912      -2.877898   \n",
       "999996      -1.547590      -1.546940      -1.571201       1.316317   \n",
       "999997       0.013616      -0.085368      -0.074383       0.550724   \n",
       "999998       0.212674       0.227284       0.448518      -1.148883   \n",
       "999999      -1.025097      -1.190697      -0.940607       0.632347   \n",
       "\n",
       "        daughter_phi2  daughter_phi3  \n",
       "0            0.515900       0.883592  \n",
       "1            2.270523       2.100124  \n",
       "2           -3.052551      -2.663450  \n",
       "3           -0.533128      -0.631664  \n",
       "4            0.591191       0.612060  \n",
       "...               ...            ...  \n",
       "999995      -2.964506      -2.827204  \n",
       "999996       1.300707       1.327916  \n",
       "999997       0.591274       0.893705  \n",
       "999998      -1.318578      -1.233315  \n",
       "999999       0.587375       0.765674  \n",
       "\n",
       "[1000000 rows x 25 columns]"
      ]
     },
     "execution_count": 266,
     "metadata": {},
     "output_type": "execute_result"
    }
   ],
   "source": [
    "invmass_ready_df = shuffled_df.drop(['DMesons_daughterInfo__pt', 'DMesons_daughterInfo__eta', \"DMesons_daughterInfo__phi\", \"DMesons_daughterInfo__pdgId\", \"particle_type\"], axis=1)\n",
    "invmass_ready_df[\"daughter_pt1\"] = particle1_pt\n",
    "invmass_ready_df[\"daughter_pt2\"] = particle2_pt\n",
    "invmass_ready_df[\"daughter_pt3\"] = particle3_pt\n",
    "invmass_ready_df[\"daughter_eta1\"] = particle1_eta\n",
    "invmass_ready_df[\"daughter_eta2\"] = particle2_eta\n",
    "invmass_ready_df[\"daughter_eta3\"] = particle3_eta\n",
    "invmass_ready_df[\"daughter_phi1\"] = particle1_phi\n",
    "invmass_ready_df[\"daughter_phi2\"] = particle2_phi\n",
    "invmass_ready_df[\"daughter_phi3\"] = particle3_phi\n",
    "invmass_ready_df"
   ]
  },
  {
   "cell_type": "code",
   "execution_count": 267,
   "id": "274a0123-9a1b-4b9d-877b-4c5e2deca10b",
   "metadata": {},
   "outputs": [],
   "source": [
    "save(invmass_ready_df, \"Sherpa_invmass_ready_df\")"
   ]
  },
  {
   "cell_type": "code",
   "execution_count": 268,
   "id": "3025200b-2c94-4096-ab5a-33b38f70e1d3",
   "metadata": {},
   "outputs": [],
   "source": [
    "# create a new column 'particle_type' based on the pdgId column\n",
    "def func(x):\n",
    "    if x == 0 or x == 411:\n",
    "        return 'only_411'\n",
    "    elif x == 1 or x == 4122:\n",
    "        return 'only_4122'\n",
    "\n",
    "invmass_ready_df['particle_type'] = invmass_ready_df['DMesons_pdgId'].apply(func)\n",
    "\n",
    "# separate the rows based on the new column\n",
    "only_411 = invmass_ready_df[invmass_ready_df['particle_type'] == 'only_411']\n",
    "only_4122 = invmass_ready_df[invmass_ready_df['particle_type'] == 'only_4122']\n",
    "\n",
    "new_df = invmass_ready_df[invmass_ready_df['particle_type'] != 'both']\n",
    "# new_df = new_df.reset_index(drop=True)\n",
    "# only_411 = only_411.reset_index(drop=True)\n",
    "# only_4122 = only_4122.reset_index(drop=True)\n",
    "\n",
    "# new_df = new_df.drop('particle_type', axis=1)"
   ]
  },
  {
   "cell_type": "code",
   "execution_count": 269,
   "id": "696a8d9c-bcfa-4783-acfe-6c2b82724157",
   "metadata": {},
   "outputs": [],
   "source": [
    "only_411 = only_411.drop('particle_type', axis=1)\n",
    "only_4122 = only_4122.drop('particle_type', axis=1)\n",
    "new_df = new_df.drop(\"particle_type\", axis=1)\n",
    "\n",
    "new_df = new_df.drop('DMesons_m', axis=1)\n",
    "only_411 = only_411.drop('DMesons_m', axis=1)\n",
    "only_4122 = only_4122.drop('DMesons_m', axis=1)"
   ]
  },
  {
   "cell_type": "code",
   "execution_count": 270,
   "id": "dda49273-5dd3-4493-9bd9-c9a3a55f2224",
   "metadata": {},
   "outputs": [
    {
     "data": {
      "text/html": [
       "<div>\n",
       "<style scoped>\n",
       "    .dataframe tbody tr th:only-of-type {\n",
       "        vertical-align: middle;\n",
       "    }\n",
       "\n",
       "    .dataframe tbody tr th {\n",
       "        vertical-align: top;\n",
       "    }\n",
       "\n",
       "    .dataframe thead th {\n",
       "        text-align: right;\n",
       "    }\n",
       "</style>\n",
       "<table border=\"1\" class=\"dataframe\">\n",
       "  <thead>\n",
       "    <tr style=\"text-align: right;\">\n",
       "      <th></th>\n",
       "      <th>DMesons_pt</th>\n",
       "      <th>DMesons_eta</th>\n",
       "      <th>DMesons_fitOutput__Lxy</th>\n",
       "      <th>DMesons_costhetastar</th>\n",
       "      <th>DMesons_pdgId</th>\n",
       "      <th>DMesons_fitOutput__ImpactSignificance</th>\n",
       "      <th>inv_mass1</th>\n",
       "      <th>inv_mass2</th>\n",
       "      <th>inv_mass3</th>\n",
       "      <th>inv_mass4</th>\n",
       "      <th>...</th>\n",
       "      <th>inv_mass9</th>\n",
       "      <th>daughter_pt1</th>\n",
       "      <th>daughter_pt2</th>\n",
       "      <th>daughter_pt3</th>\n",
       "      <th>daughter_eta1</th>\n",
       "      <th>daughter_eta2</th>\n",
       "      <th>daughter_eta3</th>\n",
       "      <th>daughter_phi1</th>\n",
       "      <th>daughter_phi2</th>\n",
       "      <th>daughter_phi3</th>\n",
       "    </tr>\n",
       "  </thead>\n",
       "  <tbody>\n",
       "    <tr>\n",
       "      <th>0</th>\n",
       "      <td>14.551307</td>\n",
       "      <td>-0.503012</td>\n",
       "      <td>0.105686</td>\n",
       "      <td>-0.462903</td>\n",
       "      <td>411</td>\n",
       "      <td>1.598548</td>\n",
       "      <td>1.424463</td>\n",
       "      <td>0.732076</td>\n",
       "      <td>1.873404</td>\n",
       "      <td>0.343701</td>\n",
       "      <td>...</td>\n",
       "      <td>2.778089</td>\n",
       "      <td>11.170928</td>\n",
       "      <td>2.831318</td>\n",
       "      <td>0.602950</td>\n",
       "      <td>-0.497773</td>\n",
       "      <td>-0.552531</td>\n",
       "      <td>-0.319409</td>\n",
       "      <td>0.451782</td>\n",
       "      <td>0.515900</td>\n",
       "      <td>0.883592</td>\n",
       "    </tr>\n",
       "    <tr>\n",
       "      <th>1</th>\n",
       "      <td>10.616373</td>\n",
       "      <td>-1.239521</td>\n",
       "      <td>0.547223</td>\n",
       "      <td>0.957469</td>\n",
       "      <td>411</td>\n",
       "      <td>2.001802</td>\n",
       "      <td>0.437135</td>\n",
       "      <td>1.342377</td>\n",
       "      <td>0.476848</td>\n",
       "      <td>0.116725</td>\n",
       "      <td>...</td>\n",
       "      <td>1.481510</td>\n",
       "      <td>3.040483</td>\n",
       "      <td>6.920453</td>\n",
       "      <td>0.666974</td>\n",
       "      <td>-1.238912</td>\n",
       "      <td>-1.267199</td>\n",
       "      <td>-0.891992</td>\n",
       "      <td>2.288972</td>\n",
       "      <td>2.270523</td>\n",
       "      <td>2.100124</td>\n",
       "    </tr>\n",
       "    <tr>\n",
       "      <th>2</th>\n",
       "      <td>8.041471</td>\n",
       "      <td>0.740541</td>\n",
       "      <td>0.648762</td>\n",
       "      <td>-0.224572</td>\n",
       "      <td>4122</td>\n",
       "      <td>0.782303</td>\n",
       "      <td>2.183149</td>\n",
       "      <td>1.235540</td>\n",
       "      <td>0.304696</td>\n",
       "      <td>1.616657</td>\n",
       "      <td>...</td>\n",
       "      <td>1.562662</td>\n",
       "      <td>4.130669</td>\n",
       "      <td>2.183925</td>\n",
       "      <td>1.805893</td>\n",
       "      <td>0.617863</td>\n",
       "      <td>0.939389</td>\n",
       "      <td>0.724976</td>\n",
       "      <td>-2.795139</td>\n",
       "      <td>-3.052551</td>\n",
       "      <td>-2.663450</td>\n",
       "    </tr>\n",
       "    <tr>\n",
       "      <th>3</th>\n",
       "      <td>14.505914</td>\n",
       "      <td>1.700047</td>\n",
       "      <td>0.415693</td>\n",
       "      <td>0.281155</td>\n",
       "      <td>4122</td>\n",
       "      <td>1.275064</td>\n",
       "      <td>2.384678</td>\n",
       "      <td>0.734953</td>\n",
       "      <td>0.133974</td>\n",
       "      <td>1.985845</td>\n",
       "      <td>...</td>\n",
       "      <td>1.240154</td>\n",
       "      <td>5.195447</td>\n",
       "      <td>7.804043</td>\n",
       "      <td>1.533298</td>\n",
       "      <td>1.788617</td>\n",
       "      <td>1.621108</td>\n",
       "      <td>1.754712</td>\n",
       "      <td>-0.670719</td>\n",
       "      <td>-0.533128</td>\n",
       "      <td>-0.631664</td>\n",
       "    </tr>\n",
       "    <tr>\n",
       "      <th>4</th>\n",
       "      <td>9.190323</td>\n",
       "      <td>0.948899</td>\n",
       "      <td>0.088807</td>\n",
       "      <td>-0.964863</td>\n",
       "      <td>411</td>\n",
       "      <td>2.443815</td>\n",
       "      <td>3.025494</td>\n",
       "      <td>1.376170</td>\n",
       "      <td>0.623499</td>\n",
       "      <td>0.796600</td>\n",
       "      <td>...</td>\n",
       "      <td>1.883637</td>\n",
       "      <td>5.592109</td>\n",
       "      <td>0.737809</td>\n",
       "      <td>2.898830</td>\n",
       "      <td>1.016538</td>\n",
       "      <td>0.669929</td>\n",
       "      <td>0.871150</td>\n",
       "      <td>0.720487</td>\n",
       "      <td>0.591191</td>\n",
       "      <td>0.612060</td>\n",
       "    </tr>\n",
       "    <tr>\n",
       "      <th>...</th>\n",
       "      <td>...</td>\n",
       "      <td>...</td>\n",
       "      <td>...</td>\n",
       "      <td>...</td>\n",
       "      <td>...</td>\n",
       "      <td>...</td>\n",
       "      <td>...</td>\n",
       "      <td>...</td>\n",
       "      <td>...</td>\n",
       "      <td>...</td>\n",
       "      <td>...</td>\n",
       "      <td>...</td>\n",
       "      <td>...</td>\n",
       "      <td>...</td>\n",
       "      <td>...</td>\n",
       "      <td>...</td>\n",
       "      <td>...</td>\n",
       "      <td>...</td>\n",
       "      <td>...</td>\n",
       "      <td>...</td>\n",
       "      <td>...</td>\n",
       "    </tr>\n",
       "    <tr>\n",
       "      <th>999995</th>\n",
       "      <td>32.272094</td>\n",
       "      <td>-0.041371</td>\n",
       "      <td>0.269147</td>\n",
       "      <td>-0.166023</td>\n",
       "      <td>4122</td>\n",
       "      <td>2.293643</td>\n",
       "      <td>2.757283</td>\n",
       "      <td>0.796590</td>\n",
       "      <td>0.398840</td>\n",
       "      <td>2.132483</td>\n",
       "      <td>...</td>\n",
       "      <td>1.339467</td>\n",
       "      <td>19.535000</td>\n",
       "      <td>10.948208</td>\n",
       "      <td>1.820998</td>\n",
       "      <td>-0.059172</td>\n",
       "      <td>-0.013583</td>\n",
       "      <td>-0.018912</td>\n",
       "      <td>-2.877898</td>\n",
       "      <td>-2.964506</td>\n",
       "      <td>-2.827204</td>\n",
       "    </tr>\n",
       "    <tr>\n",
       "      <th>999996</th>\n",
       "      <td>49.044613</td>\n",
       "      <td>-1.551618</td>\n",
       "      <td>0.211826</td>\n",
       "      <td>0.901419</td>\n",
       "      <td>411</td>\n",
       "      <td>0.641638</td>\n",
       "      <td>0.476911</td>\n",
       "      <td>0.758174</td>\n",
       "      <td>0.140392</td>\n",
       "      <td>0.177466</td>\n",
       "      <td>...</td>\n",
       "      <td>1.780263</td>\n",
       "      <td>10.073151</td>\n",
       "      <td>30.051792</td>\n",
       "      <td>8.934455</td>\n",
       "      <td>-1.547590</td>\n",
       "      <td>-1.546940</td>\n",
       "      <td>-1.571201</td>\n",
       "      <td>1.316317</td>\n",
       "      <td>1.300707</td>\n",
       "      <td>1.327916</td>\n",
       "    </tr>\n",
       "    <tr>\n",
       "      <th>999997</th>\n",
       "      <td>15.512543</td>\n",
       "      <td>-0.002953</td>\n",
       "      <td>0.298673</td>\n",
       "      <td>-0.881231</td>\n",
       "      <td>411</td>\n",
       "      <td>0.989076</td>\n",
       "      <td>2.070365</td>\n",
       "      <td>0.513330</td>\n",
       "      <td>1.412748</td>\n",
       "      <td>0.466976</td>\n",
       "      <td>...</td>\n",
       "      <td>2.314334</td>\n",
       "      <td>12.885456</td>\n",
       "      <td>2.056407</td>\n",
       "      <td>0.600632</td>\n",
       "      <td>0.013616</td>\n",
       "      <td>-0.085368</td>\n",
       "      <td>-0.074383</td>\n",
       "      <td>0.550724</td>\n",
       "      <td>0.591274</td>\n",
       "      <td>0.893705</td>\n",
       "    </tr>\n",
       "    <tr>\n",
       "      <th>999998</th>\n",
       "      <td>9.649199</td>\n",
       "      <td>0.248185</td>\n",
       "      <td>0.154665</td>\n",
       "      <td>0.676143</td>\n",
       "      <td>411</td>\n",
       "      <td>0.318123</td>\n",
       "      <td>0.974722</td>\n",
       "      <td>0.715890</td>\n",
       "      <td>0.345574</td>\n",
       "      <td>0.595541</td>\n",
       "      <td>...</td>\n",
       "      <td>1.491429</td>\n",
       "      <td>3.514937</td>\n",
       "      <td>5.062291</td>\n",
       "      <td>1.093358</td>\n",
       "      <td>0.212674</td>\n",
       "      <td>0.227284</td>\n",
       "      <td>0.448518</td>\n",
       "      <td>-1.148883</td>\n",
       "      <td>-1.318578</td>\n",
       "      <td>-1.233315</td>\n",
       "    </tr>\n",
       "    <tr>\n",
       "      <th>999999</th>\n",
       "      <td>14.298828</td>\n",
       "      <td>-1.090514</td>\n",
       "      <td>0.456881</td>\n",
       "      <td>0.277941</td>\n",
       "      <td>4122</td>\n",
       "      <td>3.227090</td>\n",
       "      <td>1.643614</td>\n",
       "      <td>1.495795</td>\n",
       "      <td>0.403005</td>\n",
       "      <td>1.222302</td>\n",
       "      <td>...</td>\n",
       "      <td>1.503845</td>\n",
       "      <td>6.239779</td>\n",
       "      <td>6.213461</td>\n",
       "      <td>1.860710</td>\n",
       "      <td>-1.025097</td>\n",
       "      <td>-1.190697</td>\n",
       "      <td>-0.940607</td>\n",
       "      <td>0.632347</td>\n",
       "      <td>0.587375</td>\n",
       "      <td>0.765674</td>\n",
       "    </tr>\n",
       "  </tbody>\n",
       "</table>\n",
       "<p>1000000 rows × 24 columns</p>\n",
       "</div>"
      ],
      "text/plain": [
       "        DMesons_pt  DMesons_eta  DMesons_fitOutput__Lxy  DMesons_costhetastar  \\\n",
       "0        14.551307    -0.503012                0.105686             -0.462903   \n",
       "1        10.616373    -1.239521                0.547223              0.957469   \n",
       "2         8.041471     0.740541                0.648762             -0.224572   \n",
       "3        14.505914     1.700047                0.415693              0.281155   \n",
       "4         9.190323     0.948899                0.088807             -0.964863   \n",
       "...            ...          ...                     ...                   ...   \n",
       "999995   32.272094    -0.041371                0.269147             -0.166023   \n",
       "999996   49.044613    -1.551618                0.211826              0.901419   \n",
       "999997   15.512543    -0.002953                0.298673             -0.881231   \n",
       "999998    9.649199     0.248185                0.154665              0.676143   \n",
       "999999   14.298828    -1.090514                0.456881              0.277941   \n",
       "\n",
       "        DMesons_pdgId  DMesons_fitOutput__ImpactSignificance  inv_mass1  \\\n",
       "0                 411                               1.598548   1.424463   \n",
       "1                 411                               2.001802   0.437135   \n",
       "2                4122                               0.782303   2.183149   \n",
       "3                4122                               1.275064   2.384678   \n",
       "4                 411                               2.443815   3.025494   \n",
       "...               ...                                    ...        ...   \n",
       "999995           4122                               2.293643   2.757283   \n",
       "999996            411                               0.641638   0.476911   \n",
       "999997            411                               0.989076   2.070365   \n",
       "999998            411                               0.318123   0.974722   \n",
       "999999           4122                               3.227090   1.643614   \n",
       "\n",
       "        inv_mass2  inv_mass3  inv_mass4  ...  inv_mass9  daughter_pt1  \\\n",
       "0        0.732076   1.873404   0.343701  ...   2.778089     11.170928   \n",
       "1        1.342377   0.476848   0.116725  ...   1.481510      3.040483   \n",
       "2        1.235540   0.304696   1.616657  ...   1.562662      4.130669   \n",
       "3        0.734953   0.133974   1.985845  ...   1.240154      5.195447   \n",
       "4        1.376170   0.623499   0.796600  ...   1.883637      5.592109   \n",
       "...           ...        ...        ...  ...        ...           ...   \n",
       "999995   0.796590   0.398840   2.132483  ...   1.339467     19.535000   \n",
       "999996   0.758174   0.140392   0.177466  ...   1.780263     10.073151   \n",
       "999997   0.513330   1.412748   0.466976  ...   2.314334     12.885456   \n",
       "999998   0.715890   0.345574   0.595541  ...   1.491429      3.514937   \n",
       "999999   1.495795   0.403005   1.222302  ...   1.503845      6.239779   \n",
       "\n",
       "        daughter_pt2  daughter_pt3  daughter_eta1  daughter_eta2  \\\n",
       "0           2.831318      0.602950      -0.497773      -0.552531   \n",
       "1           6.920453      0.666974      -1.238912      -1.267199   \n",
       "2           2.183925      1.805893       0.617863       0.939389   \n",
       "3           7.804043      1.533298       1.788617       1.621108   \n",
       "4           0.737809      2.898830       1.016538       0.669929   \n",
       "...              ...           ...            ...            ...   \n",
       "999995     10.948208      1.820998      -0.059172      -0.013583   \n",
       "999996     30.051792      8.934455      -1.547590      -1.546940   \n",
       "999997      2.056407      0.600632       0.013616      -0.085368   \n",
       "999998      5.062291      1.093358       0.212674       0.227284   \n",
       "999999      6.213461      1.860710      -1.025097      -1.190697   \n",
       "\n",
       "        daughter_eta3  daughter_phi1  daughter_phi2  daughter_phi3  \n",
       "0           -0.319409       0.451782       0.515900       0.883592  \n",
       "1           -0.891992       2.288972       2.270523       2.100124  \n",
       "2            0.724976      -2.795139      -3.052551      -2.663450  \n",
       "3            1.754712      -0.670719      -0.533128      -0.631664  \n",
       "4            0.871150       0.720487       0.591191       0.612060  \n",
       "...               ...            ...            ...            ...  \n",
       "999995      -0.018912      -2.877898      -2.964506      -2.827204  \n",
       "999996      -1.571201       1.316317       1.300707       1.327916  \n",
       "999997      -0.074383       0.550724       0.591274       0.893705  \n",
       "999998       0.448518      -1.148883      -1.318578      -1.233315  \n",
       "999999      -0.940607       0.632347       0.587375       0.765674  \n",
       "\n",
       "[1000000 rows x 24 columns]"
      ]
     },
     "execution_count": 270,
     "metadata": {},
     "output_type": "execute_result"
    }
   ],
   "source": [
    "new_df"
   ]
  },
  {
   "cell_type": "code",
   "execution_count": 271,
   "id": "36801eba-f89d-45e9-a814-58591333f141",
   "metadata": {},
   "outputs": [],
   "source": [
    "save(new_df, \"Sherpa_new_df_invmassdaughter_train\")\n",
    "save(only_411, \"Sherpa_only_411_invmassdaughter_train\")\n",
    "save(only_4122, \"Sherpa_only_4122_invmassdaughter_train\")"
   ]
  },
  {
   "cell_type": "code",
   "execution_count": 3,
   "id": "83f9240f-81c4-4d08-aa49-47cec590642f",
   "metadata": {},
   "outputs": [],
   "source": [
    "new_df = load(\"new_df_invmassdaughter_train\")\n",
    "only_411 = load(\"only_411_invmassdaughter_train\")\n",
    "only_4122 = load(\"only_4122_invmassdaughter_train\")"
   ]
  },
  {
   "cell_type": "code",
   "execution_count": 272,
   "id": "38d6fa12-d36d-445b-b647-5d33161b88a4",
   "metadata": {},
   "outputs": [],
   "source": [
    "training_columns = get_columns(new_df)\n",
    "training_columns.remove('DMesons_pdgId')\n",
    "#D and Lambda\n",
    "new_df['DMesons_pdgId'] = new_df['DMesons_pdgId'].replace({411: 0, 4122: 1})\n",
    "X_train, X_test, y_train, y_test = train_test_split(new_df[training_columns], new_df['DMesons_pdgId'], test_size=0.2, random_state=42)\n",
    "\n",
    "#only DMesons\n",
    "only_411['DMesons_pdgId'] = only_411['DMesons_pdgId'].replace({411: 0, 4122: 1})\n",
    "X_train1, X_test1, y_train1, y_test1 = train_test_split(only_411[training_columns], only_411['DMesons_pdgId'], test_size=0.2, random_state=42)\n",
    "\n",
    "#only Lambda\n",
    "only_4122['DMesons_pdgId'] = only_4122['DMesons_pdgId'].replace({411: 0, 4122: 1})\n",
    "X_train2, X_test2, y_train2, y_test2 = train_test_split(only_4122[training_columns], only_4122['DMesons_pdgId'], test_size=0.2, random_state=42)"
   ]
  },
  {
   "cell_type": "code",
   "execution_count": 273,
   "id": "2d64a75d-6dfe-4703-b8de-395e4a0d38f4",
   "metadata": {},
   "outputs": [
    {
     "data": {
      "image/png": "[encoded data removed]",
      "text/plain": [
       "<Figure size 640x480 with 1 Axes>"
      ]
     },
     "metadata": {},
     "output_type": "display_data"
    },
    {
     "data": {
      "image/png": "[encoded data removed]",
      "text/plain": [
       "<Figure size 640x480 with 1 Axes>"
      ]
     },
     "metadata": {},
     "output_type": "display_data"
    },
    {
     "data": {
      "image/png": "[encoded data removed]",
      "text/plain": [
       "<Figure size 640x480 with 1 Axes>"
      ]
     },
     "metadata": {},
     "output_type": "display_data"
    },
    {
     "data": {
      "image/png": "[encoded data removed]",
      "text/plain": [
       "<Figure size 640x480 with 1 Axes>"
      ]
     },
     "metadata": {},
     "output_type": "display_data"
    },
    {
     "data": {
      "image/png": "[encoded data removed]",
      "text/plain": [
       "<Figure size 640x480 with 1 Axes>"
      ]
     },
     "metadata": {},
     "output_type": "display_data"
    },
    {
     "data": {
      "image/png": "[encoded data removed]",
      "text/plain": [
       "<Figure size 640x480 with 1 Axes>"
      ]
     },
     "metadata": {},
     "output_type": "display_data"
    },
    {
     "data": {
      "image/png": "[encoded data removed]",
      "text/plain": [
       "<Figure size 640x480 with 1 Axes>"
      ]
     },
     "metadata": {},
     "output_type": "display_data"
    },
    {
     "data": {
      "image/png": "[encoded data removed]",
      "text/plain": [
       "<Figure size 640x480 with 1 Axes>"
      ]
     },
     "metadata": {},
     "output_type": "display_data"
    },
    {
     "data": {
      "image/png": "[encoded data removed]",
      "text/plain": [
       "<Figure size 640x480 with 1 Axes>"
      ]
     },
     "metadata": {},
     "output_type": "display_data"
    },
    {
     "data": {
      "image/png": "[encoded data removed]",
      "text/plain": [
       "<Figure size 640x480 with 1 Axes>"
      ]
     },
     "metadata": {},
     "output_type": "display_data"
    }
   ],
   "source": [
    "#(X_train1[column], X[train2], title, xlabel)\n",
    "\n",
    "data_list = [(X_train1[\"inv_mass1\"], X_train2[\"inv_mass1\"], \"Histogram of $m^2(pK^{-} -> \\pi^{+}K)$ ($D^{+}$ Hypothesis)\", \"$m^2(pK^{-}) [GeV^{2}]$\"),\n",
    "             (X_train1[\"inv_mass2\"], X_train2[\"inv_mass2\"], \"Histogram of $m^2(k^{-}\\pi^{+})$ ($D^{+}$ Hypothesis)\", \"$m^2 k^{-}\\pi [GeV]^2$\"),\n",
    "             (X_train1[\"inv_mass3\"], X_train2[\"inv_mass3\"], \"Histogram of $m^2(p\\pi^{+})$ ($D^{+}$ Hypothesis)\", \"$m^2(pK^{-}) [GeV^{2}]$\"),\n",
    "             (X_train1[\"inv_mass7\"], X_train2[\"inv_mass7\"], \"Histogram of $m^2(pK^{-})$ ($\\Lambda_C{+}$ Hypothesis) 7\", \"$m^2(pK^{-}) [GeV^{2}]$\"),\n",
    "             (X_train1[\"inv_mass9\"], X_train2[\"inv_mass9\"], \"Histogram of $m^2(p\\pi^{+})$) 9\", \"$m^2(p\\pi^{+}) [GeV^{2}]$\"),\n",
    "             (X_train1[\"inv_mass4\"], X_train2[\"inv_mass4\"], \"Histogram of $m^2(k^{-}\\pi^{+})$ ($\\Lambda_C^{+}$ Hypothesis)\", \"$m^2 k^{-}\\pi [GeV]^2$\"),\n",
    "             (X_train1[\"DMesons_pt\"], X_train2[\"DMesons_pt\"], \"Signal vs Backround P_t (Normalized)\", \"Transverse Momentum (p_t) [GeV]\"),\n",
    "             (X_train1[\"DMesons_fitOutput__Lxy\"], X_train2[\"DMesons_fitOutput__Lxy\"], \"Signal vs Backround $L_{xy}$ (Normalized)\", \"Decay Length (L_xy) [mm]\"),\n",
    "             (X_train1[\"DMesons_costhetastar\"], X_train2[\"DMesons_costhetastar\"], \"Signal vs Backround cosθ* (Normalized)\", \"Cosine of Helicity Angle (cosθ*)\"),\n",
    "             (X_train1[\"DMesons_fitOutput__ImpactSignificance\"], X_train2[\"DMesons_fitOutput__ImpactSignificance\"], \"Signal vs Backround DMesons ImpactSignificance (Normalized)\", \"DMesons_fitOutput__ImpactSignificance\")\n",
    "            ]\n",
    "\n",
    "def plot_normalized_histograms(data_list, bins):\n",
    "    for data1, data2, title, xlabel in data_list:\n",
    "        hist_normalized(data1, data2, bins)\n",
    "        plt.title(title)\n",
    "        plt.xlabel(xlabel)\n",
    "        plt.ylabel(\"Normalized Counts\")\n",
    "        plt.legend()\n",
    "        plt.show()\n",
    "\n",
    "plot_normalized_histograms(data_list, 100)"
   ]
  },
  {
   "cell_type": "code",
   "execution_count": 275,
   "id": "7a8366f4-506f-4091-8852-449f5fb05c97",
   "metadata": {},
   "outputs": [
    {
     "data": {
      "image/png": "[encoded data removed]",
      "text/plain": [
       "<Figure size 640x480 with 1 Axes>"
      ]
     },
     "metadata": {},
     "output_type": "display_data"
    }
   ],
   "source": [
    "hist_normalized(X_train1[\"DMesons_fitOutput__ImpactSignificance\"], X_train2[\"DMesons_fitOutput__ImpactSignificance\"], 10000)\n",
    "plt.title(\"Signal vs Backround ImpactSignificance (Normalized)\")\n",
    "plt.xlabel(\"DMesons_fitOutput__ImpactSignificance\")\n",
    "plt.xlim(0, 20)\n",
    "plt.ylabel(\"Normalized Counts\")\n",
    "plt.legend()\n",
    "plt.show()\n"
   ]
  },
  {
   "cell_type": "code",
   "execution_count": 278,
   "id": "308cc119-b761-466c-8bdf-243e344ab399",
   "metadata": {},
   "outputs": [
    {
     "data": {
      "image/png": "[encoded data removed]",
      "text/plain": [
       "<Figure size 640x480 with 1 Axes>"
      ]
     },
     "metadata": {},
     "output_type": "display_data"
    }
   ],
   "source": [
    "counts, bins, _ = plt.hist(X_train1[\"DMesons_fitOutput__ImpactSignificance\"], bins=10000)\n",
    "counts2, bins2, _ = plt.hist(X_train2[\"DMesons_fitOutput__ImpactSignificance\"], bins=10000)\n",
    "# Normalize the histogram using the formula\n",
    "density = counts / (sum(counts) * np.diff(bins))\n",
    "density2 = counts2 / (sum(counts2) * np.diff(bins2))\n",
    "\n",
    "# Plot the normalized histogram\n",
    "plt.clf()\n",
    "plt.bar(bins[:-1], density, width=np.diff(bins), align='edge', alpha=0.5, label = \"Sherpa Background\")\n",
    "plt.bar(bins2[:-1], density2, width=np.diff(bins2), align='edge', alpha=0.5, label = \"$\\Lambda_C^{+}$ Signal\")\n",
    "plt.title(\"Signal vs Backround ImpactSignificance (Normalized)\")\n",
    "plt.xlabel(\"DMesons_fitOutput__ImpactSignificance\")\n",
    "plt.xlim(0, 20)\n",
    "plt.ylabel(\"Normalized Counts\")\n",
    "plt.legend()\n",
    "plt.show()"
   ]
  },
  {
   "cell_type": "code",
   "execution_count": 279,
   "id": "cb04599d-15bc-4588-8a9d-363a47647c1f",
   "metadata": {},
   "outputs": [
    {
     "data": {
      "image/png": "[encoded data removed]",
      "text/plain": [
       "<Figure size 640x480 with 1 Axes>"
      ]
     },
     "metadata": {},
     "output_type": "display_data"
    }
   ],
   "source": [
    "#counts, bins, _ = plt.hist(X_train1, bins=20)\n",
    "bins = np.linspace(-5, 5, 100)\n",
    "signal_counts, _ = np.histogram(X_train2, bins=bins, density=True)\n",
    "background_counts, _ = np.histogram(X_train1, bins=bins, density=True)\n",
    "\n",
    "# Plot the signal and background histograms on the same plot\n",
    "plt.bar(bins[:-1], signal_counts, width=np.diff(bins), alpha=0.5, label='Signal')\n",
    "plt.bar(bins[:-1], background_counts, width=np.diff(bins), alpha=0.5, label='Background')\n",
    "\n",
    "# Add axis labels and a legend\n",
    "plt.xlabel('Data')\n",
    "plt.ylabel('Normalized Counts')\n",
    "plt.title(\"Normalized Signal vs Background\")\n",
    "plt.legend()\n",
    "\n",
    "# Show the plot\n",
    "plt.show()"
   ]
  },
  {
   "cell_type": "code",
   "execution_count": 280,
   "id": "3797f144-19c6-43ca-afac-c9917f73fddd",
   "metadata": {},
   "outputs": [
    {
     "data": {
      "text/html": [
       "wandb version 0.15.0 is available!  To upgrade, please run:\n",
       " $ pip install wandb --upgrade"
      ],
      "text/plain": [
       "<IPython.core.display.HTML object>"
      ]
     },
     "metadata": {},
     "output_type": "display_data"
    },
    {
     "data": {
      "text/html": [
       "Tracking run with wandb version 0.14.0"
      ],
      "text/plain": [
       "<IPython.core.display.HTML object>"
      ]
     },
     "metadata": {},
     "output_type": "display_data"
    },
    {
     "data": {
      "text/html": [
       "Run data is saved locally in <code>/global/u2/g/gupsingh/ATLAS_DNN/wandb/run-20230427_170756-77u7r39b</code>"
      ],
      "text/plain": [
       "<IPython.core.display.HTML object>"
      ]
     },
     "metadata": {},
     "output_type": "display_data"
    },
    {
     "data": {
      "text/html": [
       "Syncing run <strong><a href='https://wandb.ai/atlasdnn/ATLAS_DNN/runs/77u7r39b' target=\"_blank\">playful-jazz-78</a></strong> to <a href='https://wandb.ai/atlasdnn/ATLAS_DNN' target=\"_blank\">Weights & Biases</a> (<a href='https://wandb.me/run' target=\"_blank\">docs</a>)<br/>"
      ],
      "text/plain": [
       "<IPython.core.display.HTML object>"
      ]
     },
     "metadata": {},
     "output_type": "display_data"
    },
    {
     "data": {
      "text/html": [
       " View project at <a href='https://wandb.ai/atlasdnn/ATLAS_DNN' target=\"_blank\">https://wandb.ai/atlasdnn/ATLAS_DNN</a>"
      ],
      "text/plain": [
       "<IPython.core.display.HTML object>"
      ]
     },
     "metadata": {},
     "output_type": "display_data"
    },
    {
     "data": {
      "text/html": [
       " View run at <a href='https://wandb.ai/atlasdnn/ATLAS_DNN/runs/77u7r39b' target=\"_blank\">https://wandb.ai/atlasdnn/ATLAS_DNN/runs/77u7r39b</a>"
      ],
      "text/plain": [
       "<IPython.core.display.HTML object>"
      ]
     },
     "metadata": {},
     "output_type": "display_data"
    }
   ],
   "source": [
    "wandb.init(\n",
    "    # set the wandb project where this run will be logged\n",
    "    project=\"ATLAS_DNN\",\n",
    "\n",
    "    # track hyperparameters and run metadata with wandb.config\n",
    "    config={\n",
    "        \"layer_1\": 128,\n",
    "        \"activation_1\": \"relu\",\n",
    "        \"dropout_1\": 0.5,\n",
    "        \"layer_2\": 64,\n",
    "        \"activation_2\": \"relu\",\n",
    "        \"dropout_2\": 0.5,\n",
    "        \"output_layer\": 1,\n",
    "        \"output_activation\": \"sigmoid\",\n",
    "        \"optimizer\": \"adam\",\n",
    "        \"loss\": \"binary_crossentropy\",\n",
    "        \"metric\": \"accuracy\",\n",
    "        \"epoch\": 25,\n",
    "        \"batch_size\": 32\n",
    "    }\n",
    ")\n",
    "config = wandb.config"
   ]
  },
  {
   "cell_type": "code",
   "execution_count": 281,
   "id": "8691200c-24fe-4a5b-a4c4-29902c91a09e",
   "metadata": {},
   "outputs": [
    {
     "name": "stdout",
     "output_type": "stream",
     "text": [
      "Model: \"my_model_3\"\n",
      "_________________________________________________________________\n",
      " Layer (type)                Output Shape              Param #   \n",
      "=================================================================\n",
      " dense_6 (Dense)             multiple                  3072      \n",
      "                                                                 \n",
      " dropout_4 (Dropout)         multiple                  0         \n",
      "                                                                 \n",
      " dense_7 (Dense)             multiple                  8256      \n",
      "                                                                 \n",
      " dropout_5 (Dropout)         multiple                  0         \n",
      "                                                                 \n",
      " dense_8 (Dense)             multiple                  65        \n",
      "                                                                 \n",
      "=================================================================\n",
      "Total params: 11,393\n",
      "Trainable params: 11,393\n",
      "Non-trainable params: 0\n",
      "_________________________________________________________________\n"
     ]
    }
   ],
   "source": [
    "# def get_config(self):\n",
    "#     return config\n",
    "\n",
    "class MyModel(Model):\n",
    "    def __init__(self):\n",
    "        super(MyModel, self).__init__()\n",
    "        config = wandb.config\n",
    "        self.dense1 = Dense(config.layer_1, activation=config.activation_1)\n",
    "        self.dropout1 = Dropout(config.dropout_1)\n",
    "        \n",
    "        self.dense2 = Dense(config.layer_2, activation = config.activation_2)\n",
    "        self.dropout2 = Dropout(config.dropout_2)\n",
    "        \n",
    "        self.dense3 = Dense(config.output_layer, activation=config.output_activation)\n",
    "        \n",
    "    def call(self, x):\n",
    "        x = self.dense1(x)\n",
    "        x = self.dropout1(x)\n",
    "        \n",
    "        x = self.dense2(x)\n",
    "        x = self.dropout2(x)\n",
    "        \n",
    "        x = self.dense3(x)\n",
    "        \n",
    "        return x\n",
    "    \n",
    "model = MyModel()\n",
    "model.build(input_shape=(None, X_train.shape[1]))\n",
    "model.summary()\n",
    "\n",
    "def custom_accuracy(y_true, y_pred): \n",
    "    \n",
    "    y_pred_binary = tf.cast(tf.round(y_pred), tf.int32)\n",
    "    y_true = tf.cast(y_true, tf.int32)\n",
    "    \n",
    "    correct_predictions = tf.equal(y_true, y_pred_binary)\n",
    "    accuracy = tf.reduce_mean(tf.cast(correct_predictions, tf.float32))\n",
    "    \n",
    "    return accuracy"
   ]
  },
  {
   "cell_type": "code",
   "execution_count": 282,
   "id": "9f802f11-45c9-464e-9b90-e7e6deed7bba",
   "metadata": {},
   "outputs": [
    {
     "name": "stdout",
     "output_type": "stream",
     "text": [
      "Epoch 1/25\n",
      "    1/25000 [..............................] - ETA: 5:53:16 - loss: 1.0335 - custom_accuracy: 0.5000WARNING:tensorflow:Callback method `on_train_batch_end` is slow compared to the batch time (batch time: 0.0015s vs `on_train_batch_end` time: 0.0028s). Check your callbacks.\n"
     ]
    },
    {
     "name": "stderr",
     "output_type": "stream",
     "text": [
      "WARNING:tensorflow:Callback method `on_train_batch_end` is slow compared to the batch time (batch time: 0.0015s vs `on_train_batch_end` time: 0.0028s). Check your callbacks.\n"
     ]
    },
    {
     "name": "stdout",
     "output_type": "stream",
     "text": [
      "24976/25000 [============================>.] - ETA: 0s - loss: 0.5766 - custom_accuracy: 0.7029"
     ]
    },
    {
     "name": "stderr",
     "output_type": "stream",
     "text": [
      "\u001b[34m\u001b[1mwandb\u001b[0m: \u001b[32m\u001b[41mERROR\u001b[0m Can't save model in the h5py format. The model will be saved as as an W&B Artifact in the 'tf' format.\n",
      "WARNING:absl:Found untraced functions such as _update_step_xla while saving (showing 1 of 1). These functions will not be directly callable after loading.\n"
     ]
    },
    {
     "name": "stdout",
     "output_type": "stream",
     "text": [
      "INFO:tensorflow:Assets written to: /global/u2/g/gupsingh/ATLAS_DNN/wandb/run-20230427_170756-77u7r39b/files/model-best/assets\n"
     ]
    },
    {
     "name": "stderr",
     "output_type": "stream",
     "text": [
      "INFO:tensorflow:Assets written to: /global/u2/g/gupsingh/ATLAS_DNN/wandb/run-20230427_170756-77u7r39b/files/model-best/assets\n",
      "\u001b[34m\u001b[1mwandb\u001b[0m: Adding directory to artifact (/global/u2/g/gupsingh/ATLAS_DNN/wandb/run-20230427_170756-77u7r39b/files/model-best)... Done. 0.0s\n"
     ]
    },
    {
     "name": "stdout",
     "output_type": "stream",
     "text": [
      "25000/25000 [==============================] - 47s 2ms/step - loss: 0.5766 - custom_accuracy: 0.7029 - val_loss: 0.5106 - val_custom_accuracy: 0.7542\n",
      "Epoch 2/25\n",
      "24974/25000 [============================>.] - ETA: 0s - loss: 0.5209 - custom_accuracy: 0.7486"
     ]
    },
    {
     "name": "stderr",
     "output_type": "stream",
     "text": [
      "\u001b[34m\u001b[1mwandb\u001b[0m: \u001b[32m\u001b[41mERROR\u001b[0m Can't save model in the h5py format. The model will be saved as as an W&B Artifact in the 'tf' format.\n",
      "WARNING:absl:Found untraced functions such as _update_step_xla while saving (showing 1 of 1). These functions will not be directly callable after loading.\n"
     ]
    },
    {
     "name": "stdout",
     "output_type": "stream",
     "text": [
      "INFO:tensorflow:Assets written to: /global/u2/g/gupsingh/ATLAS_DNN/wandb/run-20230427_170756-77u7r39b/files/model-best/assets\n"
     ]
    },
    {
     "name": "stderr",
     "output_type": "stream",
     "text": [
      "INFO:tensorflow:Assets written to: /global/u2/g/gupsingh/ATLAS_DNN/wandb/run-20230427_170756-77u7r39b/files/model-best/assets\n",
      "\u001b[34m\u001b[1mwandb\u001b[0m: Adding directory to artifact (/global/u2/g/gupsingh/ATLAS_DNN/wandb/run-20230427_170756-77u7r39b/files/model-best)... Done. 0.0s\n"
     ]
    },
    {
     "name": "stdout",
     "output_type": "stream",
     "text": [
      "25000/25000 [==============================] - 47s 2ms/step - loss: 0.5208 - custom_accuracy: 0.7486 - val_loss: 0.4563 - val_custom_accuracy: 0.7944\n",
      "Epoch 3/25\n",
      "24997/25000 [============================>.] - ETA: 0s - loss: 0.4917 - custom_accuracy: 0.7690"
     ]
    },
    {
     "name": "stderr",
     "output_type": "stream",
     "text": [
      "\u001b[34m\u001b[1mwandb\u001b[0m: \u001b[32m\u001b[41mERROR\u001b[0m Can't save model in the h5py format. The model will be saved as as an W&B Artifact in the 'tf' format.\n",
      "WARNING:absl:Found untraced functions such as _update_step_xla while saving (showing 1 of 1). These functions will not be directly callable after loading.\n"
     ]
    },
    {
     "name": "stdout",
     "output_type": "stream",
     "text": [
      "INFO:tensorflow:Assets written to: /global/u2/g/gupsingh/ATLAS_DNN/wandb/run-20230427_170756-77u7r39b/files/model-best/assets\n"
     ]
    },
    {
     "name": "stderr",
     "output_type": "stream",
     "text": [
      "INFO:tensorflow:Assets written to: /global/u2/g/gupsingh/ATLAS_DNN/wandb/run-20230427_170756-77u7r39b/files/model-best/assets\n",
      "\u001b[34m\u001b[1mwandb\u001b[0m: Adding directory to artifact (/global/u2/g/gupsingh/ATLAS_DNN/wandb/run-20230427_170756-77u7r39b/files/model-best)... Done. 0.0s\n"
     ]
    },
    {
     "name": "stdout",
     "output_type": "stream",
     "text": [
      "25000/25000 [==============================] - 47s 2ms/step - loss: 0.4917 - custom_accuracy: 0.7690 - val_loss: 0.4423 - val_custom_accuracy: 0.8006\n",
      "Epoch 4/25\n",
      "24979/25000 [============================>.] - ETA: 0s - loss: 0.4776 - custom_accuracy: 0.7776"
     ]
    },
    {
     "name": "stderr",
     "output_type": "stream",
     "text": [
      "\u001b[34m\u001b[1mwandb\u001b[0m: \u001b[32m\u001b[41mERROR\u001b[0m Can't save model in the h5py format. The model will be saved as as an W&B Artifact in the 'tf' format.\n",
      "WARNING:absl:Found untraced functions such as _update_step_xla while saving (showing 1 of 1). These functions will not be directly callable after loading.\n"
     ]
    },
    {
     "name": "stdout",
     "output_type": "stream",
     "text": [
      "INFO:tensorflow:Assets written to: /global/u2/g/gupsingh/ATLAS_DNN/wandb/run-20230427_170756-77u7r39b/files/model-best/assets\n"
     ]
    },
    {
     "name": "stderr",
     "output_type": "stream",
     "text": [
      "INFO:tensorflow:Assets written to: /global/u2/g/gupsingh/ATLAS_DNN/wandb/run-20230427_170756-77u7r39b/files/model-best/assets\n",
      "\u001b[34m\u001b[1mwandb\u001b[0m: Adding directory to artifact (/global/u2/g/gupsingh/ATLAS_DNN/wandb/run-20230427_170756-77u7r39b/files/model-best)... Done. 0.0s\n"
     ]
    },
    {
     "name": "stdout",
     "output_type": "stream",
     "text": [
      "25000/25000 [==============================] - 47s 2ms/step - loss: 0.4776 - custom_accuracy: 0.7776 - val_loss: 0.4218 - val_custom_accuracy: 0.8144\n",
      "Epoch 5/25\n",
      "24994/25000 [============================>.] - ETA: 0s - loss: 0.4661 - custom_accuracy: 0.7839"
     ]
    },
    {
     "name": "stderr",
     "output_type": "stream",
     "text": [
      "\u001b[34m\u001b[1mwandb\u001b[0m: \u001b[32m\u001b[41mERROR\u001b[0m Can't save model in the h5py format. The model will be saved as as an W&B Artifact in the 'tf' format.\n",
      "WARNING:absl:Found untraced functions such as _update_step_xla while saving (showing 1 of 1). These functions will not be directly callable after loading.\n"
     ]
    },
    {
     "name": "stdout",
     "output_type": "stream",
     "text": [
      "INFO:tensorflow:Assets written to: /global/u2/g/gupsingh/ATLAS_DNN/wandb/run-20230427_170756-77u7r39b/files/model-best/assets\n"
     ]
    },
    {
     "name": "stderr",
     "output_type": "stream",
     "text": [
      "INFO:tensorflow:Assets written to: /global/u2/g/gupsingh/ATLAS_DNN/wandb/run-20230427_170756-77u7r39b/files/model-best/assets\n",
      "\u001b[34m\u001b[1mwandb\u001b[0m: Adding directory to artifact (/global/u2/g/gupsingh/ATLAS_DNN/wandb/run-20230427_170756-77u7r39b/files/model-best)... Done. 0.0s\n"
     ]
    },
    {
     "name": "stdout",
     "output_type": "stream",
     "text": [
      "25000/25000 [==============================] - 46s 2ms/step - loss: 0.4661 - custom_accuracy: 0.7839 - val_loss: 0.4120 - val_custom_accuracy: 0.8193\n",
      "Epoch 6/25\n",
      "24984/25000 [============================>.] - ETA: 0s - loss: 0.4582 - custom_accuracy: 0.7892"
     ]
    },
    {
     "name": "stderr",
     "output_type": "stream",
     "text": [
      "\u001b[34m\u001b[1mwandb\u001b[0m: \u001b[32m\u001b[41mERROR\u001b[0m Can't save model in the h5py format. The model will be saved as as an W&B Artifact in the 'tf' format.\n",
      "WARNING:absl:Found untraced functions such as _update_step_xla while saving (showing 1 of 1). These functions will not be directly callable after loading.\n"
     ]
    },
    {
     "name": "stdout",
     "output_type": "stream",
     "text": [
      "INFO:tensorflow:Assets written to: /global/u2/g/gupsingh/ATLAS_DNN/wandb/run-20230427_170756-77u7r39b/files/model-best/assets\n"
     ]
    },
    {
     "name": "stderr",
     "output_type": "stream",
     "text": [
      "INFO:tensorflow:Assets written to: /global/u2/g/gupsingh/ATLAS_DNN/wandb/run-20230427_170756-77u7r39b/files/model-best/assets\n",
      "\u001b[34m\u001b[1mwandb\u001b[0m: Adding directory to artifact (/global/u2/g/gupsingh/ATLAS_DNN/wandb/run-20230427_170756-77u7r39b/files/model-best)... Done. 0.0s\n"
     ]
    },
    {
     "name": "stdout",
     "output_type": "stream",
     "text": [
      "25000/25000 [==============================] - 46s 2ms/step - loss: 0.4582 - custom_accuracy: 0.7892 - val_loss: 0.4030 - val_custom_accuracy: 0.8259\n",
      "Epoch 7/25\n",
      "25000/25000 [==============================] - 46s 2ms/step - loss: 0.4511 - custom_accuracy: 0.7935 - val_loss: 0.4058 - val_custom_accuracy: 0.8227\n",
      "Epoch 8/25\n",
      "25000/25000 [==============================] - ETA: 0s - loss: 0.4456 - custom_accuracy: 0.7965"
     ]
    },
    {
     "name": "stderr",
     "output_type": "stream",
     "text": [
      "\u001b[34m\u001b[1mwandb\u001b[0m: \u001b[32m\u001b[41mERROR\u001b[0m Can't save model in the h5py format. The model will be saved as as an W&B Artifact in the 'tf' format.\n",
      "WARNING:absl:Found untraced functions such as _update_step_xla while saving (showing 1 of 1). These functions will not be directly callable after loading.\n"
     ]
    },
    {
     "name": "stdout",
     "output_type": "stream",
     "text": [
      "INFO:tensorflow:Assets written to: /global/u2/g/gupsingh/ATLAS_DNN/wandb/run-20230427_170756-77u7r39b/files/model-best/assets\n"
     ]
    },
    {
     "name": "stderr",
     "output_type": "stream",
     "text": [
      "INFO:tensorflow:Assets written to: /global/u2/g/gupsingh/ATLAS_DNN/wandb/run-20230427_170756-77u7r39b/files/model-best/assets\n",
      "\u001b[34m\u001b[1mwandb\u001b[0m: Adding directory to artifact (/global/u2/g/gupsingh/ATLAS_DNN/wandb/run-20230427_170756-77u7r39b/files/model-best)... Done. 0.0s\n"
     ]
    },
    {
     "name": "stdout",
     "output_type": "stream",
     "text": [
      "25000/25000 [==============================] - 46s 2ms/step - loss: 0.4456 - custom_accuracy: 0.7965 - val_loss: 0.3896 - val_custom_accuracy: 0.8317\n",
      "Epoch 9/25\n",
      "24980/25000 [============================>.] - ETA: 0s - loss: 0.4395 - custom_accuracy: 0.8006"
     ]
    },
    {
     "name": "stderr",
     "output_type": "stream",
     "text": [
      "\u001b[34m\u001b[1mwandb\u001b[0m: \u001b[32m\u001b[41mERROR\u001b[0m Can't save model in the h5py format. The model will be saved as as an W&B Artifact in the 'tf' format.\n",
      "WARNING:absl:Found untraced functions such as _update_step_xla while saving (showing 1 of 1). These functions will not be directly callable after loading.\n"
     ]
    },
    {
     "name": "stdout",
     "output_type": "stream",
     "text": [
      "INFO:tensorflow:Assets written to: /global/u2/g/gupsingh/ATLAS_DNN/wandb/run-20230427_170756-77u7r39b/files/model-best/assets\n"
     ]
    },
    {
     "name": "stderr",
     "output_type": "stream",
     "text": [
      "INFO:tensorflow:Assets written to: /global/u2/g/gupsingh/ATLAS_DNN/wandb/run-20230427_170756-77u7r39b/files/model-best/assets\n",
      "\u001b[34m\u001b[1mwandb\u001b[0m: Adding directory to artifact (/global/u2/g/gupsingh/ATLAS_DNN/wandb/run-20230427_170756-77u7r39b/files/model-best)... Done. 0.0s\n"
     ]
    },
    {
     "name": "stdout",
     "output_type": "stream",
     "text": [
      "25000/25000 [==============================] - 47s 2ms/step - loss: 0.4395 - custom_accuracy: 0.8006 - val_loss: 0.3863 - val_custom_accuracy: 0.8348\n",
      "Epoch 10/25\n",
      "24983/25000 [============================>.] - ETA: 0s - loss: 0.4364 - custom_accuracy: 0.8022"
     ]
    },
    {
     "name": "stderr",
     "output_type": "stream",
     "text": [
      "\u001b[34m\u001b[1mwandb\u001b[0m: \u001b[32m\u001b[41mERROR\u001b[0m Can't save model in the h5py format. The model will be saved as as an W&B Artifact in the 'tf' format.\n",
      "WARNING:absl:Found untraced functions such as _update_step_xla while saving (showing 1 of 1). These functions will not be directly callable after loading.\n"
     ]
    },
    {
     "name": "stdout",
     "output_type": "stream",
     "text": [
      "INFO:tensorflow:Assets written to: /global/u2/g/gupsingh/ATLAS_DNN/wandb/run-20230427_170756-77u7r39b/files/model-best/assets\n"
     ]
    },
    {
     "name": "stderr",
     "output_type": "stream",
     "text": [
      "INFO:tensorflow:Assets written to: /global/u2/g/gupsingh/ATLAS_DNN/wandb/run-20230427_170756-77u7r39b/files/model-best/assets\n",
      "\u001b[34m\u001b[1mwandb\u001b[0m: Adding directory to artifact (/global/u2/g/gupsingh/ATLAS_DNN/wandb/run-20230427_170756-77u7r39b/files/model-best)... Done. 0.0s\n"
     ]
    },
    {
     "name": "stdout",
     "output_type": "stream",
     "text": [
      "25000/25000 [==============================] - 46s 2ms/step - loss: 0.4364 - custom_accuracy: 0.8022 - val_loss: 0.3826 - val_custom_accuracy: 0.8335\n",
      "Epoch 11/25\n",
      "24991/25000 [============================>.] - ETA: 0s - loss: 0.4320 - custom_accuracy: 0.8046"
     ]
    },
    {
     "name": "stderr",
     "output_type": "stream",
     "text": [
      "\u001b[34m\u001b[1mwandb\u001b[0m: \u001b[32m\u001b[41mERROR\u001b[0m Can't save model in the h5py format. The model will be saved as as an W&B Artifact in the 'tf' format.\n",
      "WARNING:absl:Found untraced functions such as _update_step_xla while saving (showing 1 of 1). These functions will not be directly callable after loading.\n"
     ]
    },
    {
     "name": "stdout",
     "output_type": "stream",
     "text": [
      "INFO:tensorflow:Assets written to: /global/u2/g/gupsingh/ATLAS_DNN/wandb/run-20230427_170756-77u7r39b/files/model-best/assets\n"
     ]
    },
    {
     "name": "stderr",
     "output_type": "stream",
     "text": [
      "INFO:tensorflow:Assets written to: /global/u2/g/gupsingh/ATLAS_DNN/wandb/run-20230427_170756-77u7r39b/files/model-best/assets\n",
      "\u001b[34m\u001b[1mwandb\u001b[0m: Adding directory to artifact (/global/u2/g/gupsingh/ATLAS_DNN/wandb/run-20230427_170756-77u7r39b/files/model-best)... Done. 0.0s\n"
     ]
    },
    {
     "name": "stdout",
     "output_type": "stream",
     "text": [
      "25000/25000 [==============================] - 45s 2ms/step - loss: 0.4320 - custom_accuracy: 0.8046 - val_loss: 0.3745 - val_custom_accuracy: 0.8395\n",
      "Epoch 12/25\n",
      "25000/25000 [==============================] - 45s 2ms/step - loss: 0.4290 - custom_accuracy: 0.8066 - val_loss: 0.3750 - val_custom_accuracy: 0.8376\n",
      "Epoch 13/25\n",
      "24994/25000 [============================>.] - ETA: 0s - loss: 0.4251 - custom_accuracy: 0.8087"
     ]
    },
    {
     "name": "stderr",
     "output_type": "stream",
     "text": [
      "\u001b[34m\u001b[1mwandb\u001b[0m: \u001b[32m\u001b[41mERROR\u001b[0m Can't save model in the h5py format. The model will be saved as as an W&B Artifact in the 'tf' format.\n",
      "WARNING:absl:Found untraced functions such as _update_step_xla while saving (showing 1 of 1). These functions will not be directly callable after loading.\n"
     ]
    },
    {
     "name": "stdout",
     "output_type": "stream",
     "text": [
      "INFO:tensorflow:Assets written to: /global/u2/g/gupsingh/ATLAS_DNN/wandb/run-20230427_170756-77u7r39b/files/model-best/assets\n"
     ]
    },
    {
     "name": "stderr",
     "output_type": "stream",
     "text": [
      "INFO:tensorflow:Assets written to: /global/u2/g/gupsingh/ATLAS_DNN/wandb/run-20230427_170756-77u7r39b/files/model-best/assets\n",
      "\u001b[34m\u001b[1mwandb\u001b[0m: Adding directory to artifact (/global/u2/g/gupsingh/ATLAS_DNN/wandb/run-20230427_170756-77u7r39b/files/model-best)... Done. 0.0s\n"
     ]
    },
    {
     "name": "stdout",
     "output_type": "stream",
     "text": [
      "25000/25000 [==============================] - 46s 2ms/step - loss: 0.4251 - custom_accuracy: 0.8087 - val_loss: 0.3696 - val_custom_accuracy: 0.8408\n",
      "Epoch 14/25\n",
      "24988/25000 [============================>.] - ETA: 0s - loss: 0.4209 - custom_accuracy: 0.8112"
     ]
    },
    {
     "name": "stderr",
     "output_type": "stream",
     "text": [
      "\u001b[34m\u001b[1mwandb\u001b[0m: \u001b[32m\u001b[41mERROR\u001b[0m Can't save model in the h5py format. The model will be saved as as an W&B Artifact in the 'tf' format.\n",
      "WARNING:absl:Found untraced functions such as _update_step_xla while saving (showing 1 of 1). These functions will not be directly callable after loading.\n"
     ]
    },
    {
     "name": "stdout",
     "output_type": "stream",
     "text": [
      "INFO:tensorflow:Assets written to: /global/u2/g/gupsingh/ATLAS_DNN/wandb/run-20230427_170756-77u7r39b/files/model-best/assets\n"
     ]
    },
    {
     "name": "stderr",
     "output_type": "stream",
     "text": [
      "INFO:tensorflow:Assets written to: /global/u2/g/gupsingh/ATLAS_DNN/wandb/run-20230427_170756-77u7r39b/files/model-best/assets\n",
      "\u001b[34m\u001b[1mwandb\u001b[0m: Adding directory to artifact (/global/u2/g/gupsingh/ATLAS_DNN/wandb/run-20230427_170756-77u7r39b/files/model-best)... Done. 0.0s\n"
     ]
    },
    {
     "name": "stdout",
     "output_type": "stream",
     "text": [
      "25000/25000 [==============================] - 47s 2ms/step - loss: 0.4209 - custom_accuracy: 0.8112 - val_loss: 0.3679 - val_custom_accuracy: 0.8390\n",
      "Epoch 15/25\n",
      "24991/25000 [============================>.] - ETA: 0s - loss: 0.4182 - custom_accuracy: 0.8127"
     ]
    },
    {
     "name": "stderr",
     "output_type": "stream",
     "text": [
      "\u001b[34m\u001b[1mwandb\u001b[0m: \u001b[32m\u001b[41mERROR\u001b[0m Can't save model in the h5py format. The model will be saved as as an W&B Artifact in the 'tf' format.\n",
      "WARNING:absl:Found untraced functions such as _update_step_xla while saving (showing 1 of 1). These functions will not be directly callable after loading.\n"
     ]
    },
    {
     "name": "stdout",
     "output_type": "stream",
     "text": [
      "INFO:tensorflow:Assets written to: /global/u2/g/gupsingh/ATLAS_DNN/wandb/run-20230427_170756-77u7r39b/files/model-best/assets\n"
     ]
    },
    {
     "name": "stderr",
     "output_type": "stream",
     "text": [
      "INFO:tensorflow:Assets written to: /global/u2/g/gupsingh/ATLAS_DNN/wandb/run-20230427_170756-77u7r39b/files/model-best/assets\n",
      "\u001b[34m\u001b[1mwandb\u001b[0m: Adding directory to artifact (/global/u2/g/gupsingh/ATLAS_DNN/wandb/run-20230427_170756-77u7r39b/files/model-best)... Done. 0.0s\n"
     ]
    },
    {
     "name": "stdout",
     "output_type": "stream",
     "text": [
      "25000/25000 [==============================] - 46s 2ms/step - loss: 0.4182 - custom_accuracy: 0.8127 - val_loss: 0.3602 - val_custom_accuracy: 0.8486\n",
      "Epoch 16/25\n",
      "25000/25000 [==============================] - 46s 2ms/step - loss: 0.4150 - custom_accuracy: 0.8147 - val_loss: 0.3626 - val_custom_accuracy: 0.8450\n",
      "Epoch 17/25\n",
      "24996/25000 [============================>.] - ETA: 0s - loss: 0.4130 - custom_accuracy: 0.8161"
     ]
    },
    {
     "name": "stderr",
     "output_type": "stream",
     "text": [
      "\u001b[34m\u001b[1mwandb\u001b[0m: \u001b[32m\u001b[41mERROR\u001b[0m Can't save model in the h5py format. The model will be saved as as an W&B Artifact in the 'tf' format.\n",
      "WARNING:absl:Found untraced functions such as _update_step_xla while saving (showing 1 of 1). These functions will not be directly callable after loading.\n"
     ]
    },
    {
     "name": "stdout",
     "output_type": "stream",
     "text": [
      "INFO:tensorflow:Assets written to: /global/u2/g/gupsingh/ATLAS_DNN/wandb/run-20230427_170756-77u7r39b/files/model-best/assets\n"
     ]
    },
    {
     "name": "stderr",
     "output_type": "stream",
     "text": [
      "INFO:tensorflow:Assets written to: /global/u2/g/gupsingh/ATLAS_DNN/wandb/run-20230427_170756-77u7r39b/files/model-best/assets\n",
      "\u001b[34m\u001b[1mwandb\u001b[0m: Adding directory to artifact (/global/u2/g/gupsingh/ATLAS_DNN/wandb/run-20230427_170756-77u7r39b/files/model-best)... Done. 0.0s\n"
     ]
    },
    {
     "name": "stdout",
     "output_type": "stream",
     "text": [
      "25000/25000 [==============================] - 46s 2ms/step - loss: 0.4130 - custom_accuracy: 0.8161 - val_loss: 0.3590 - val_custom_accuracy: 0.8451\n",
      "Epoch 18/25\n",
      "24982/25000 [============================>.] - ETA: 0s - loss: 0.4117 - custom_accuracy: 0.8173"
     ]
    },
    {
     "name": "stderr",
     "output_type": "stream",
     "text": [
      "\u001b[34m\u001b[1mwandb\u001b[0m: \u001b[32m\u001b[41mERROR\u001b[0m Can't save model in the h5py format. The model will be saved as as an W&B Artifact in the 'tf' format.\n",
      "WARNING:absl:Found untraced functions such as _update_step_xla while saving (showing 1 of 1). These functions will not be directly callable after loading.\n"
     ]
    },
    {
     "name": "stdout",
     "output_type": "stream",
     "text": [
      "INFO:tensorflow:Assets written to: /global/u2/g/gupsingh/ATLAS_DNN/wandb/run-20230427_170756-77u7r39b/files/model-best/assets\n"
     ]
    },
    {
     "name": "stderr",
     "output_type": "stream",
     "text": [
      "INFO:tensorflow:Assets written to: /global/u2/g/gupsingh/ATLAS_DNN/wandb/run-20230427_170756-77u7r39b/files/model-best/assets\n",
      "\u001b[34m\u001b[1mwandb\u001b[0m: Adding directory to artifact (/global/u2/g/gupsingh/ATLAS_DNN/wandb/run-20230427_170756-77u7r39b/files/model-best)... Done. 0.0s\n"
     ]
    },
    {
     "name": "stdout",
     "output_type": "stream",
     "text": [
      "25000/25000 [==============================] - 46s 2ms/step - loss: 0.4117 - custom_accuracy: 0.8173 - val_loss: 0.3511 - val_custom_accuracy: 0.8501\n",
      "Epoch 19/25\n",
      "24980/25000 [============================>.] - ETA: 0s - loss: 0.4101 - custom_accuracy: 0.8182"
     ]
    },
    {
     "name": "stderr",
     "output_type": "stream",
     "text": [
      "\u001b[34m\u001b[1mwandb\u001b[0m: \u001b[32m\u001b[41mERROR\u001b[0m Can't save model in the h5py format. The model will be saved as as an W&B Artifact in the 'tf' format.\n",
      "WARNING:absl:Found untraced functions such as _update_step_xla while saving (showing 1 of 1). These functions will not be directly callable after loading.\n"
     ]
    },
    {
     "name": "stdout",
     "output_type": "stream",
     "text": [
      "INFO:tensorflow:Assets written to: /global/u2/g/gupsingh/ATLAS_DNN/wandb/run-20230427_170756-77u7r39b/files/model-best/assets\n"
     ]
    },
    {
     "name": "stderr",
     "output_type": "stream",
     "text": [
      "INFO:tensorflow:Assets written to: /global/u2/g/gupsingh/ATLAS_DNN/wandb/run-20230427_170756-77u7r39b/files/model-best/assets\n",
      "\u001b[34m\u001b[1mwandb\u001b[0m: Adding directory to artifact (/global/u2/g/gupsingh/ATLAS_DNN/wandb/run-20230427_170756-77u7r39b/files/model-best)... Done. 0.0s\n"
     ]
    },
    {
     "name": "stdout",
     "output_type": "stream",
     "text": [
      "25000/25000 [==============================] - 45s 2ms/step - loss: 0.4101 - custom_accuracy: 0.8182 - val_loss: 0.3499 - val_custom_accuracy: 0.8511\n",
      "Epoch 20/25\n",
      "25000/25000 [==============================] - 45s 2ms/step - loss: 0.4080 - custom_accuracy: 0.8195 - val_loss: 0.3509 - val_custom_accuracy: 0.8502\n",
      "Epoch 21/25\n",
      "25000/25000 [==============================] - 44s 2ms/step - loss: 0.4067 - custom_accuracy: 0.8200 - val_loss: 0.3586 - val_custom_accuracy: 0.8459\n",
      "Epoch 22/25\n",
      "24994/25000 [============================>.] - ETA: 0s - loss: 0.4059 - custom_accuracy: 0.8212"
     ]
    },
    {
     "name": "stderr",
     "output_type": "stream",
     "text": [
      "\u001b[34m\u001b[1mwandb\u001b[0m: \u001b[32m\u001b[41mERROR\u001b[0m Can't save model in the h5py format. The model will be saved as as an W&B Artifact in the 'tf' format.\n",
      "WARNING:absl:Found untraced functions such as _update_step_xla while saving (showing 1 of 1). These functions will not be directly callable after loading.\n"
     ]
    },
    {
     "name": "stdout",
     "output_type": "stream",
     "text": [
      "INFO:tensorflow:Assets written to: /global/u2/g/gupsingh/ATLAS_DNN/wandb/run-20230427_170756-77u7r39b/files/model-best/assets\n"
     ]
    },
    {
     "name": "stderr",
     "output_type": "stream",
     "text": [
      "INFO:tensorflow:Assets written to: /global/u2/g/gupsingh/ATLAS_DNN/wandb/run-20230427_170756-77u7r39b/files/model-best/assets\n",
      "\u001b[34m\u001b[1mwandb\u001b[0m: Adding directory to artifact (/global/u2/g/gupsingh/ATLAS_DNN/wandb/run-20230427_170756-77u7r39b/files/model-best)... Done. 0.0s\n"
     ]
    },
    {
     "name": "stdout",
     "output_type": "stream",
     "text": [
      "25000/25000 [==============================] - 46s 2ms/step - loss: 0.4059 - custom_accuracy: 0.8212 - val_loss: 0.3475 - val_custom_accuracy: 0.8512\n",
      "Epoch 23/25\n",
      "25000/25000 [==============================] - 45s 2ms/step - loss: 0.4036 - custom_accuracy: 0.8219 - val_loss: 0.3486 - val_custom_accuracy: 0.8571\n",
      "Epoch 24/25\n",
      "24967/25000 [============================>.] - ETA: 0s - loss: 0.4016 - custom_accuracy: 0.8232"
     ]
    },
    {
     "name": "stderr",
     "output_type": "stream",
     "text": [
      "\u001b[34m\u001b[1mwandb\u001b[0m: \u001b[32m\u001b[41mERROR\u001b[0m Can't save model in the h5py format. The model will be saved as as an W&B Artifact in the 'tf' format.\n",
      "WARNING:absl:Found untraced functions such as _update_step_xla while saving (showing 1 of 1). These functions will not be directly callable after loading.\n"
     ]
    },
    {
     "name": "stdout",
     "output_type": "stream",
     "text": [
      "INFO:tensorflow:Assets written to: /global/u2/g/gupsingh/ATLAS_DNN/wandb/run-20230427_170756-77u7r39b/files/model-best/assets\n"
     ]
    },
    {
     "name": "stderr",
     "output_type": "stream",
     "text": [
      "INFO:tensorflow:Assets written to: /global/u2/g/gupsingh/ATLAS_DNN/wandb/run-20230427_170756-77u7r39b/files/model-best/assets\n",
      "\u001b[34m\u001b[1mwandb\u001b[0m: Adding directory to artifact (/global/u2/g/gupsingh/ATLAS_DNN/wandb/run-20230427_170756-77u7r39b/files/model-best)... Done. 0.0s\n"
     ]
    },
    {
     "name": "stdout",
     "output_type": "stream",
     "text": [
      "25000/25000 [==============================] - 46s 2ms/step - loss: 0.4016 - custom_accuracy: 0.8232 - val_loss: 0.3458 - val_custom_accuracy: 0.8514\n",
      "Epoch 25/25\n",
      "24999/25000 [============================>.] - ETA: 0s - loss: 0.4017 - custom_accuracy: 0.8227"
     ]
    },
    {
     "name": "stderr",
     "output_type": "stream",
     "text": [
      "\u001b[34m\u001b[1mwandb\u001b[0m: \u001b[32m\u001b[41mERROR\u001b[0m Can't save model in the h5py format. The model will be saved as as an W&B Artifact in the 'tf' format.\n",
      "WARNING:absl:Found untraced functions such as _update_step_xla while saving (showing 1 of 1). These functions will not be directly callable after loading.\n"
     ]
    },
    {
     "name": "stdout",
     "output_type": "stream",
     "text": [
      "INFO:tensorflow:Assets written to: /global/u2/g/gupsingh/ATLAS_DNN/wandb/run-20230427_170756-77u7r39b/files/model-best/assets\n"
     ]
    },
    {
     "name": "stderr",
     "output_type": "stream",
     "text": [
      "INFO:tensorflow:Assets written to: /global/u2/g/gupsingh/ATLAS_DNN/wandb/run-20230427_170756-77u7r39b/files/model-best/assets\n",
      "\u001b[34m\u001b[1mwandb\u001b[0m: Adding directory to artifact (/global/u2/g/gupsingh/ATLAS_DNN/wandb/run-20230427_170756-77u7r39b/files/model-best)... Done. 0.0s\n"
     ]
    },
    {
     "name": "stdout",
     "output_type": "stream",
     "text": [
      "25000/25000 [==============================] - 46s 2ms/step - loss: 0.4017 - custom_accuracy: 0.8227 - val_loss: 0.3413 - val_custom_accuracy: 0.8540\n",
      "6250/6250 [==============================] - 7s 1ms/step - loss: 0.3413 - custom_accuracy: 0.8540\n",
      "Loss: [0.3412659764289856, 0.8540250062942505]\n",
      "Training runtime: 1157.8718285560608 seconds\n"
     ]
    },
    {
     "name": "stderr",
     "output_type": "stream",
     "text": [
      "2023-04-27 17:08:53.170481: I tensorflow/core/common_runtime/executor.cc:1197] [/device:CPU:0] (DEBUG INFO) Executor start aborting (this does not indicate an error and you can ignore this message): INVALID_ARGUMENT: You must feed a value for placeholder tensor 'inputs' with dtype float and shape [?,128]\n",
      "\t [[{{node inputs}}]]\n",
      "2023-04-27 17:08:53.184681: I tensorflow/core/common_runtime/executor.cc:1197] [/device:CPU:0] (DEBUG INFO) Executor start aborting (this does not indicate an error and you can ignore this message): INVALID_ARGUMENT: You must feed a value for placeholder tensor 'inputs' with dtype float and shape [?,64]\n",
      "\t [[{{node inputs}}]]\n",
      "2023-04-27 17:08:53.343940: I tensorflow/core/common_runtime/executor.cc:1197] [/device:CPU:0] (DEBUG INFO) Executor start aborting (this does not indicate an error and you can ignore this message): INVALID_ARGUMENT: You must feed a value for placeholder tensor 'inputs' with dtype float and shape [?,128]\n",
      "\t [[{{node inputs}}]]\n",
      "2023-04-27 17:08:53.376913: I tensorflow/core/common_runtime/executor.cc:1197] [/device:CPU:0] (DEBUG INFO) Executor start aborting (this does not indicate an error and you can ignore this message): INVALID_ARGUMENT: You must feed a value for placeholder tensor 'inputs' with dtype float and shape [?,64]\n",
      "\t [[{{node inputs}}]]\n",
      "2023-04-27 17:09:39.916942: I tensorflow/core/common_runtime/executor.cc:1197] [/device:CPU:0] (DEBUG INFO) Executor start aborting (this does not indicate an error and you can ignore this message): INVALID_ARGUMENT: You must feed a value for placeholder tensor 'inputs' with dtype float and shape [?,128]\n",
      "\t [[{{node inputs}}]]\n",
      "2023-04-27 17:09:39.931287: I tensorflow/core/common_runtime/executor.cc:1197] [/device:CPU:0] (DEBUG INFO) Executor start aborting (this does not indicate an error and you can ignore this message): INVALID_ARGUMENT: You must feed a value for placeholder tensor 'inputs' with dtype float and shape [?,64]\n",
      "\t [[{{node inputs}}]]\n",
      "2023-04-27 17:09:40.069747: I tensorflow/core/common_runtime/executor.cc:1197] [/device:CPU:0] (DEBUG INFO) Executor start aborting (this does not indicate an error and you can ignore this message): INVALID_ARGUMENT: You must feed a value for placeholder tensor 'inputs' with dtype float and shape [?,128]\n",
      "\t [[{{node inputs}}]]\n",
      "2023-04-27 17:09:40.102566: I tensorflow/core/common_runtime/executor.cc:1197] [/device:CPU:0] (DEBUG INFO) Executor start aborting (this does not indicate an error and you can ignore this message): INVALID_ARGUMENT: You must feed a value for placeholder tensor 'inputs' with dtype float and shape [?,64]\n",
      "\t [[{{node inputs}}]]\n",
      "2023-04-27 17:10:27.162819: I tensorflow/core/common_runtime/executor.cc:1197] [/device:CPU:0] (DEBUG INFO) Executor start aborting (this does not indicate an error and you can ignore this message): INVALID_ARGUMENT: You must feed a value for placeholder tensor 'inputs' with dtype float and shape [?,128]\n",
      "\t [[{{node inputs}}]]\n",
      "2023-04-27 17:10:27.176533: I tensorflow/core/common_runtime/executor.cc:1197] [/device:CPU:0] (DEBUG INFO) Executor start aborting (this does not indicate an error and you can ignore this message): INVALID_ARGUMENT: You must feed a value for placeholder tensor 'inputs' with dtype float and shape [?,64]\n",
      "\t [[{{node inputs}}]]\n",
      "2023-04-27 17:10:27.328256: I tensorflow/core/common_runtime/executor.cc:1197] [/device:CPU:0] (DEBUG INFO) Executor start aborting (this does not indicate an error and you can ignore this message): INVALID_ARGUMENT: You must feed a value for placeholder tensor 'inputs' with dtype float and shape [?,128]\n",
      "\t [[{{node inputs}}]]\n",
      "2023-04-27 17:10:27.365654: I tensorflow/core/common_runtime/executor.cc:1197] [/device:CPU:0] (DEBUG INFO) Executor start aborting (this does not indicate an error and you can ignore this message): INVALID_ARGUMENT: You must feed a value for placeholder tensor 'inputs' with dtype float and shape [?,64]\n",
      "\t [[{{node inputs}}]]\n",
      "2023-04-27 17:11:13.808703: I tensorflow/core/common_runtime/executor.cc:1197] [/device:CPU:0] (DEBUG INFO) Executor start aborting (this does not indicate an error and you can ignore this message): INVALID_ARGUMENT: You must feed a value for placeholder tensor 'inputs' with dtype float and shape [?,128]\n",
      "\t [[{{node inputs}}]]\n",
      "2023-04-27 17:11:13.824522: I tensorflow/core/common_runtime/executor.cc:1197] [/device:CPU:0] (DEBUG INFO) Executor start aborting (this does not indicate an error and you can ignore this message): INVALID_ARGUMENT: You must feed a value for placeholder tensor 'inputs' with dtype float and shape [?,64]\n",
      "\t [[{{node inputs}}]]\n",
      "2023-04-27 17:11:13.983761: I tensorflow/core/common_runtime/executor.cc:1197] [/device:CPU:0] (DEBUG INFO) Executor start aborting (this does not indicate an error and you can ignore this message): INVALID_ARGUMENT: You must feed a value for placeholder tensor 'inputs' with dtype float and shape [?,128]\n",
      "\t [[{{node inputs}}]]\n",
      "2023-04-27 17:11:14.019219: I tensorflow/core/common_runtime/executor.cc:1197] [/device:CPU:0] (DEBUG INFO) Executor start aborting (this does not indicate an error and you can ignore this message): INVALID_ARGUMENT: You must feed a value for placeholder tensor 'inputs' with dtype float and shape [?,64]\n",
      "\t [[{{node inputs}}]]\n",
      "2023-04-27 17:12:00.232500: I tensorflow/core/common_runtime/executor.cc:1197] [/device:CPU:0] (DEBUG INFO) Executor start aborting (this does not indicate an error and you can ignore this message): INVALID_ARGUMENT: You must feed a value for placeholder tensor 'inputs' with dtype float and shape [?,128]\n",
      "\t [[{{node inputs}}]]\n",
      "2023-04-27 17:12:00.252875: I tensorflow/core/common_runtime/executor.cc:1197] [/device:CPU:0] (DEBUG INFO) Executor start aborting (this does not indicate an error and you can ignore this message): INVALID_ARGUMENT: You must feed a value for placeholder tensor 'inputs' with dtype float and shape [?,64]\n",
      "\t [[{{node inputs}}]]\n",
      "2023-04-27 17:12:00.399520: I tensorflow/core/common_runtime/executor.cc:1197] [/device:CPU:0] (DEBUG INFO) Executor start aborting (this does not indicate an error and you can ignore this message): INVALID_ARGUMENT: You must feed a value for placeholder tensor 'inputs' with dtype float and shape [?,128]\n",
      "\t [[{{node inputs}}]]\n",
      "2023-04-27 17:12:00.433950: I tensorflow/core/common_runtime/executor.cc:1197] [/device:CPU:0] (DEBUG INFO) Executor start aborting (this does not indicate an error and you can ignore this message): INVALID_ARGUMENT: You must feed a value for placeholder tensor 'inputs' with dtype float and shape [?,64]\n",
      "\t [[{{node inputs}}]]\n",
      "2023-04-27 17:12:46.737963: I tensorflow/core/common_runtime/executor.cc:1197] [/device:CPU:0] (DEBUG INFO) Executor start aborting (this does not indicate an error and you can ignore this message): INVALID_ARGUMENT: You must feed a value for placeholder tensor 'inputs' with dtype float and shape [?,128]\n",
      "\t [[{{node inputs}}]]\n",
      "2023-04-27 17:12:46.751458: I tensorflow/core/common_runtime/executor.cc:1197] [/device:CPU:0] (DEBUG INFO) Executor start aborting (this does not indicate an error and you can ignore this message): INVALID_ARGUMENT: You must feed a value for placeholder tensor 'inputs' with dtype float and shape [?,64]\n",
      "\t [[{{node inputs}}]]\n",
      "2023-04-27 17:12:46.892905: I tensorflow/core/common_runtime/executor.cc:1197] [/device:CPU:0] (DEBUG INFO) Executor start aborting (this does not indicate an error and you can ignore this message): INVALID_ARGUMENT: You must feed a value for placeholder tensor 'inputs' with dtype float and shape [?,128]\n",
      "\t [[{{node inputs}}]]\n",
      "2023-04-27 17:12:46.935636: I tensorflow/core/common_runtime/executor.cc:1197] [/device:CPU:0] (DEBUG INFO) Executor start aborting (this does not indicate an error and you can ignore this message): INVALID_ARGUMENT: You must feed a value for placeholder tensor 'inputs' with dtype float and shape [?,64]\n",
      "\t [[{{node inputs}}]]\n",
      "2023-04-27 17:14:18.903031: I tensorflow/core/common_runtime/executor.cc:1197] [/device:CPU:0] (DEBUG INFO) Executor start aborting (this does not indicate an error and you can ignore this message): INVALID_ARGUMENT: You must feed a value for placeholder tensor 'inputs' with dtype float and shape [?,128]\n",
      "\t [[{{node inputs}}]]\n",
      "2023-04-27 17:14:18.918702: I tensorflow/core/common_runtime/executor.cc:1197] [/device:CPU:0] (DEBUG INFO) Executor start aborting (this does not indicate an error and you can ignore this message): INVALID_ARGUMENT: You must feed a value for placeholder tensor 'inputs' with dtype float and shape [?,64]\n",
      "\t [[{{node inputs}}]]\n",
      "2023-04-27 17:14:19.068978: I tensorflow/core/common_runtime/executor.cc:1197] [/device:CPU:0] (DEBUG INFO) Executor start aborting (this does not indicate an error and you can ignore this message): INVALID_ARGUMENT: You must feed a value for placeholder tensor 'inputs' with dtype float and shape [?,128]\n",
      "\t [[{{node inputs}}]]\n",
      "2023-04-27 17:14:19.103069: I tensorflow/core/common_runtime/executor.cc:1197] [/device:CPU:0] (DEBUG INFO) Executor start aborting (this does not indicate an error and you can ignore this message): INVALID_ARGUMENT: You must feed a value for placeholder tensor 'inputs' with dtype float and shape [?,64]\n",
      "\t [[{{node inputs}}]]\n",
      "2023-04-27 17:15:05.580729: I tensorflow/core/common_runtime/executor.cc:1197] [/device:CPU:0] (DEBUG INFO) Executor start aborting (this does not indicate an error and you can ignore this message): INVALID_ARGUMENT: You must feed a value for placeholder tensor 'inputs' with dtype float and shape [?,128]\n",
      "\t [[{{node inputs}}]]\n",
      "2023-04-27 17:15:05.594204: I tensorflow/core/common_runtime/executor.cc:1197] [/device:CPU:0] (DEBUG INFO) Executor start aborting (this does not indicate an error and you can ignore this message): INVALID_ARGUMENT: You must feed a value for placeholder tensor 'inputs' with dtype float and shape [?,64]\n",
      "\t [[{{node inputs}}]]\n",
      "2023-04-27 17:15:05.748607: I tensorflow/core/common_runtime/executor.cc:1197] [/device:CPU:0] (DEBUG INFO) Executor start aborting (this does not indicate an error and you can ignore this message): INVALID_ARGUMENT: You must feed a value for placeholder tensor 'inputs' with dtype float and shape [?,128]\n",
      "\t [[{{node inputs}}]]\n",
      "2023-04-27 17:15:05.780622: I tensorflow/core/common_runtime/executor.cc:1197] [/device:CPU:0] (DEBUG INFO) Executor start aborting (this does not indicate an error and you can ignore this message): INVALID_ARGUMENT: You must feed a value for placeholder tensor 'inputs' with dtype float and shape [?,64]\n",
      "\t [[{{node inputs}}]]\n",
      "2023-04-27 17:15:51.806271: I tensorflow/core/common_runtime/executor.cc:1197] [/device:CPU:0] (DEBUG INFO) Executor start aborting (this does not indicate an error and you can ignore this message): INVALID_ARGUMENT: You must feed a value for placeholder tensor 'inputs' with dtype float and shape [?,128]\n",
      "\t [[{{node inputs}}]]\n",
      "2023-04-27 17:15:51.820051: I tensorflow/core/common_runtime/executor.cc:1197] [/device:CPU:0] (DEBUG INFO) Executor start aborting (this does not indicate an error and you can ignore this message): INVALID_ARGUMENT: You must feed a value for placeholder tensor 'inputs' with dtype float and shape [?,64]\n",
      "\t [[{{node inputs}}]]\n",
      "2023-04-27 17:15:51.964932: I tensorflow/core/common_runtime/executor.cc:1197] [/device:CPU:0] (DEBUG INFO) Executor start aborting (this does not indicate an error and you can ignore this message): INVALID_ARGUMENT: You must feed a value for placeholder tensor 'inputs' with dtype float and shape [?,128]\n",
      "\t [[{{node inputs}}]]\n",
      "2023-04-27 17:15:51.996939: I tensorflow/core/common_runtime/executor.cc:1197] [/device:CPU:0] (DEBUG INFO) Executor start aborting (this does not indicate an error and you can ignore this message): INVALID_ARGUMENT: You must feed a value for placeholder tensor 'inputs' with dtype float and shape [?,64]\n",
      "\t [[{{node inputs}}]]\n",
      "2023-04-27 17:16:36.860230: I tensorflow/core/common_runtime/executor.cc:1197] [/device:CPU:0] (DEBUG INFO) Executor start aborting (this does not indicate an error and you can ignore this message): INVALID_ARGUMENT: You must feed a value for placeholder tensor 'inputs' with dtype float and shape [?,128]\n",
      "\t [[{{node inputs}}]]\n",
      "2023-04-27 17:16:36.874142: I tensorflow/core/common_runtime/executor.cc:1197] [/device:CPU:0] (DEBUG INFO) Executor start aborting (this does not indicate an error and you can ignore this message): INVALID_ARGUMENT: You must feed a value for placeholder tensor 'inputs' with dtype float and shape [?,64]\n",
      "\t [[{{node inputs}}]]\n",
      "2023-04-27 17:16:37.011901: I tensorflow/core/common_runtime/executor.cc:1197] [/device:CPU:0] (DEBUG INFO) Executor start aborting (this does not indicate an error and you can ignore this message): INVALID_ARGUMENT: You must feed a value for placeholder tensor 'inputs' with dtype float and shape [?,128]\n",
      "\t [[{{node inputs}}]]\n",
      "2023-04-27 17:16:37.043183: I tensorflow/core/common_runtime/executor.cc:1197] [/device:CPU:0] (DEBUG INFO) Executor start aborting (this does not indicate an error and you can ignore this message): INVALID_ARGUMENT: You must feed a value for placeholder tensor 'inputs' with dtype float and shape [?,64]\n",
      "\t [[{{node inputs}}]]\n",
      "2023-04-27 17:18:07.357089: I tensorflow/core/common_runtime/executor.cc:1197] [/device:CPU:0] (DEBUG INFO) Executor start aborting (this does not indicate an error and you can ignore this message): INVALID_ARGUMENT: You must feed a value for placeholder tensor 'inputs' with dtype float and shape [?,128]\n",
      "\t [[{{node inputs}}]]\n",
      "2023-04-27 17:18:07.371785: I tensorflow/core/common_runtime/executor.cc:1197] [/device:CPU:0] (DEBUG INFO) Executor start aborting (this does not indicate an error and you can ignore this message): INVALID_ARGUMENT: You must feed a value for placeholder tensor 'inputs' with dtype float and shape [?,64]\n",
      "\t [[{{node inputs}}]]\n",
      "2023-04-27 17:18:07.517296: I tensorflow/core/common_runtime/executor.cc:1197] [/device:CPU:0] (DEBUG INFO) Executor start aborting (this does not indicate an error and you can ignore this message): INVALID_ARGUMENT: You must feed a value for placeholder tensor 'inputs' with dtype float and shape [?,128]\n",
      "\t [[{{node inputs}}]]\n",
      "2023-04-27 17:18:07.551778: I tensorflow/core/common_runtime/executor.cc:1197] [/device:CPU:0] (DEBUG INFO) Executor start aborting (this does not indicate an error and you can ignore this message): INVALID_ARGUMENT: You must feed a value for placeholder tensor 'inputs' with dtype float and shape [?,64]\n",
      "\t [[{{node inputs}}]]\n",
      "2023-04-27 17:18:54.084216: I tensorflow/core/common_runtime/executor.cc:1197] [/device:CPU:0] (DEBUG INFO) Executor start aborting (this does not indicate an error and you can ignore this message): INVALID_ARGUMENT: You must feed a value for placeholder tensor 'inputs' with dtype float and shape [?,128]\n",
      "\t [[{{node inputs}}]]\n",
      "2023-04-27 17:18:54.107348: I tensorflow/core/common_runtime/executor.cc:1197] [/device:CPU:0] (DEBUG INFO) Executor start aborting (this does not indicate an error and you can ignore this message): INVALID_ARGUMENT: You must feed a value for placeholder tensor 'inputs' with dtype float and shape [?,64]\n",
      "\t [[{{node inputs}}]]\n",
      "2023-04-27 17:18:54.276789: I tensorflow/core/common_runtime/executor.cc:1197] [/device:CPU:0] (DEBUG INFO) Executor start aborting (this does not indicate an error and you can ignore this message): INVALID_ARGUMENT: You must feed a value for placeholder tensor 'inputs' with dtype float and shape [?,128]\n",
      "\t [[{{node inputs}}]]\n",
      "2023-04-27 17:18:54.309251: I tensorflow/core/common_runtime/executor.cc:1197] [/device:CPU:0] (DEBUG INFO) Executor start aborting (this does not indicate an error and you can ignore this message): INVALID_ARGUMENT: You must feed a value for placeholder tensor 'inputs' with dtype float and shape [?,64]\n",
      "\t [[{{node inputs}}]]\n",
      "2023-04-27 17:19:40.500204: I tensorflow/core/common_runtime/executor.cc:1197] [/device:CPU:0] (DEBUG INFO) Executor start aborting (this does not indicate an error and you can ignore this message): INVALID_ARGUMENT: You must feed a value for placeholder tensor 'inputs' with dtype float and shape [?,128]\n",
      "\t [[{{node inputs}}]]\n",
      "2023-04-27 17:19:40.514027: I tensorflow/core/common_runtime/executor.cc:1197] [/device:CPU:0] (DEBUG INFO) Executor start aborting (this does not indicate an error and you can ignore this message): INVALID_ARGUMENT: You must feed a value for placeholder tensor 'inputs' with dtype float and shape [?,64]\n",
      "\t [[{{node inputs}}]]\n",
      "2023-04-27 17:19:40.654096: I tensorflow/core/common_runtime/executor.cc:1197] [/device:CPU:0] (DEBUG INFO) Executor start aborting (this does not indicate an error and you can ignore this message): INVALID_ARGUMENT: You must feed a value for placeholder tensor 'inputs' with dtype float and shape [?,128]\n",
      "\t [[{{node inputs}}]]\n",
      "2023-04-27 17:19:40.686954: I tensorflow/core/common_runtime/executor.cc:1197] [/device:CPU:0] (DEBUG INFO) Executor start aborting (this does not indicate an error and you can ignore this message): INVALID_ARGUMENT: You must feed a value for placeholder tensor 'inputs' with dtype float and shape [?,64]\n",
      "\t [[{{node inputs}}]]\n",
      "2023-04-27 17:21:12.824266: I tensorflow/core/common_runtime/executor.cc:1197] [/device:CPU:0] (DEBUG INFO) Executor start aborting (this does not indicate an error and you can ignore this message): INVALID_ARGUMENT: You must feed a value for placeholder tensor 'inputs' with dtype float and shape [?,128]\n",
      "\t [[{{node inputs}}]]\n",
      "2023-04-27 17:21:12.839168: I tensorflow/core/common_runtime/executor.cc:1197] [/device:CPU:0] (DEBUG INFO) Executor start aborting (this does not indicate an error and you can ignore this message): INVALID_ARGUMENT: You must feed a value for placeholder tensor 'inputs' with dtype float and shape [?,64]\n",
      "\t [[{{node inputs}}]]\n",
      "2023-04-27 17:21:12.985115: I tensorflow/core/common_runtime/executor.cc:1197] [/device:CPU:0] (DEBUG INFO) Executor start aborting (this does not indicate an error and you can ignore this message): INVALID_ARGUMENT: You must feed a value for placeholder tensor 'inputs' with dtype float and shape [?,128]\n",
      "\t [[{{node inputs}}]]\n",
      "2023-04-27 17:21:13.018575: I tensorflow/core/common_runtime/executor.cc:1197] [/device:CPU:0] (DEBUG INFO) Executor start aborting (this does not indicate an error and you can ignore this message): INVALID_ARGUMENT: You must feed a value for placeholder tensor 'inputs' with dtype float and shape [?,64]\n",
      "\t [[{{node inputs}}]]\n",
      "2023-04-27 17:21:58.862817: I tensorflow/core/common_runtime/executor.cc:1197] [/device:CPU:0] (DEBUG INFO) Executor start aborting (this does not indicate an error and you can ignore this message): INVALID_ARGUMENT: You must feed a value for placeholder tensor 'inputs' with dtype float and shape [?,128]\n",
      "\t [[{{node inputs}}]]\n",
      "2023-04-27 17:21:58.876328: I tensorflow/core/common_runtime/executor.cc:1197] [/device:CPU:0] (DEBUG INFO) Executor start aborting (this does not indicate an error and you can ignore this message): INVALID_ARGUMENT: You must feed a value for placeholder tensor 'inputs' with dtype float and shape [?,64]\n",
      "\t [[{{node inputs}}]]\n",
      "2023-04-27 17:21:59.011701: I tensorflow/core/common_runtime/executor.cc:1197] [/device:CPU:0] (DEBUG INFO) Executor start aborting (this does not indicate an error and you can ignore this message): INVALID_ARGUMENT: You must feed a value for placeholder tensor 'inputs' with dtype float and shape [?,128]\n",
      "\t [[{{node inputs}}]]\n",
      "2023-04-27 17:21:59.042772: I tensorflow/core/common_runtime/executor.cc:1197] [/device:CPU:0] (DEBUG INFO) Executor start aborting (this does not indicate an error and you can ignore this message): INVALID_ARGUMENT: You must feed a value for placeholder tensor 'inputs' with dtype float and shape [?,64]\n",
      "\t [[{{node inputs}}]]\n",
      "2023-04-27 17:22:43.953346: I tensorflow/core/common_runtime/executor.cc:1197] [/device:CPU:0] (DEBUG INFO) Executor start aborting (this does not indicate an error and you can ignore this message): INVALID_ARGUMENT: You must feed a value for placeholder tensor 'inputs' with dtype float and shape [?,128]\n",
      "\t [[{{node inputs}}]]\n",
      "2023-04-27 17:22:43.966588: I tensorflow/core/common_runtime/executor.cc:1197] [/device:CPU:0] (DEBUG INFO) Executor start aborting (this does not indicate an error and you can ignore this message): INVALID_ARGUMENT: You must feed a value for placeholder tensor 'inputs' with dtype float and shape [?,64]\n",
      "\t [[{{node inputs}}]]\n",
      "2023-04-27 17:22:44.101689: I tensorflow/core/common_runtime/executor.cc:1197] [/device:CPU:0] (DEBUG INFO) Executor start aborting (this does not indicate an error and you can ignore this message): INVALID_ARGUMENT: You must feed a value for placeholder tensor 'inputs' with dtype float and shape [?,128]\n",
      "\t [[{{node inputs}}]]\n",
      "2023-04-27 17:22:44.135632: I tensorflow/core/common_runtime/executor.cc:1197] [/device:CPU:0] (DEBUG INFO) Executor start aborting (this does not indicate an error and you can ignore this message): INVALID_ARGUMENT: You must feed a value for placeholder tensor 'inputs' with dtype float and shape [?,64]\n",
      "\t [[{{node inputs}}]]\n",
      "2023-04-27 17:24:58.916417: I tensorflow/core/common_runtime/executor.cc:1197] [/device:CPU:0] (DEBUG INFO) Executor start aborting (this does not indicate an error and you can ignore this message): INVALID_ARGUMENT: You must feed a value for placeholder tensor 'inputs' with dtype float and shape [?,128]\n",
      "\t [[{{node inputs}}]]\n",
      "2023-04-27 17:24:58.930700: I tensorflow/core/common_runtime/executor.cc:1197] [/device:CPU:0] (DEBUG INFO) Executor start aborting (this does not indicate an error and you can ignore this message): INVALID_ARGUMENT: You must feed a value for placeholder tensor 'inputs' with dtype float and shape [?,64]\n",
      "\t [[{{node inputs}}]]\n",
      "2023-04-27 17:24:59.066609: I tensorflow/core/common_runtime/executor.cc:1197] [/device:CPU:0] (DEBUG INFO) Executor start aborting (this does not indicate an error and you can ignore this message): INVALID_ARGUMENT: You must feed a value for placeholder tensor 'inputs' with dtype float and shape [?,128]\n",
      "\t [[{{node inputs}}]]\n",
      "2023-04-27 17:24:59.098107: I tensorflow/core/common_runtime/executor.cc:1197] [/device:CPU:0] (DEBUG INFO) Executor start aborting (this does not indicate an error and you can ignore this message): INVALID_ARGUMENT: You must feed a value for placeholder tensor 'inputs' with dtype float and shape [?,64]\n",
      "\t [[{{node inputs}}]]\n",
      "2023-04-27 17:26:29.473344: I tensorflow/core/common_runtime/executor.cc:1197] [/device:CPU:0] (DEBUG INFO) Executor start aborting (this does not indicate an error and you can ignore this message): INVALID_ARGUMENT: You must feed a value for placeholder tensor 'inputs' with dtype float and shape [?,128]\n",
      "\t [[{{node inputs}}]]\n",
      "2023-04-27 17:26:29.487033: I tensorflow/core/common_runtime/executor.cc:1197] [/device:CPU:0] (DEBUG INFO) Executor start aborting (this does not indicate an error and you can ignore this message): INVALID_ARGUMENT: You must feed a value for placeholder tensor 'inputs' with dtype float and shape [?,64]\n",
      "\t [[{{node inputs}}]]\n",
      "2023-04-27 17:26:29.628176: I tensorflow/core/common_runtime/executor.cc:1197] [/device:CPU:0] (DEBUG INFO) Executor start aborting (this does not indicate an error and you can ignore this message): INVALID_ARGUMENT: You must feed a value for placeholder tensor 'inputs' with dtype float and shape [?,128]\n",
      "\t [[{{node inputs}}]]\n",
      "2023-04-27 17:26:29.662546: I tensorflow/core/common_runtime/executor.cc:1197] [/device:CPU:0] (DEBUG INFO) Executor start aborting (this does not indicate an error and you can ignore this message): INVALID_ARGUMENT: You must feed a value for placeholder tensor 'inputs' with dtype float and shape [?,64]\n",
      "\t [[{{node inputs}}]]\n",
      "2023-04-27 17:27:15.847931: I tensorflow/core/common_runtime/executor.cc:1197] [/device:CPU:0] (DEBUG INFO) Executor start aborting (this does not indicate an error and you can ignore this message): INVALID_ARGUMENT: You must feed a value for placeholder tensor 'inputs' with dtype float and shape [?,128]\n",
      "\t [[{{node inputs}}]]\n",
      "2023-04-27 17:27:15.862011: I tensorflow/core/common_runtime/executor.cc:1197] [/device:CPU:0] (DEBUG INFO) Executor start aborting (this does not indicate an error and you can ignore this message): INVALID_ARGUMENT: You must feed a value for placeholder tensor 'inputs' with dtype float and shape [?,64]\n",
      "\t [[{{node inputs}}]]\n",
      "2023-04-27 17:27:16.001387: I tensorflow/core/common_runtime/executor.cc:1197] [/device:CPU:0] (DEBUG INFO) Executor start aborting (this does not indicate an error and you can ignore this message): INVALID_ARGUMENT: You must feed a value for placeholder tensor 'inputs' with dtype float and shape [?,128]\n",
      "\t [[{{node inputs}}]]\n",
      "2023-04-27 17:27:16.032252: I tensorflow/core/common_runtime/executor.cc:1197] [/device:CPU:0] (DEBUG INFO) Executor start aborting (this does not indicate an error and you can ignore this message): INVALID_ARGUMENT: You must feed a value for placeholder tensor 'inputs' with dtype float and shape [?,64]\n",
      "\t [[{{node inputs}}]]\n"
     ]
    }
   ],
   "source": [
    "#Compile\n",
    "start_time = time.time()\n",
    "\n",
    "model.compile(optimizer=config.optimizer, loss=config.loss, metrics=[custom_accuracy])\n",
    "\n",
    "early_stop = EarlyStopping(monitor='val_loss', patience=3, verbose=1, mode='min')\n",
    "#Train\n",
    "with tf.device('/gpu:0'):\n",
    "    history = model.fit(X_train, y_train, epochs=config.epoch, batch_size=config.batch_size, validation_data=(X_test, y_test), callbacks=[early_stop, WandbCallback(), tf.keras.callbacks.History()])\n",
    "\n",
    "#Evaluate testing set\n",
    "loss = model.evaluate(X_test, y_test)\n",
    "print(\"Loss: {}\".format(loss))\n",
    "\n",
    "end_time = time.time()\n",
    "runtime = end_time - start_time\n",
    "print(\"Training runtime:\", runtime, \"seconds\")"
   ]
  },
  {
   "cell_type": "code",
   "execution_count": 283,
   "id": "c51c2995-8b37-451a-a2a6-e6b0eef781b7",
   "metadata": {},
   "outputs": [
    {
     "data": {
      "text/html": [
       "Waiting for W&B process to finish... <strong style=\"color:green\">(success).</strong>"
      ],
      "text/plain": [
       "<IPython.core.display.HTML object>"
      ]
     },
     "metadata": {},
     "output_type": "display_data"
    },
    {
     "data": {
      "text/html": [
       "<style>\n",
       "    table.wandb td:nth-child(1) { padding: 0 10px; text-align: left ; width: auto;} td:nth-child(2) {text-align: left ; width: 100%}\n",
       "    .wandb-row { display: flex; flex-direction: row; flex-wrap: wrap; justify-content: flex-start; width: 100% }\n",
       "    .wandb-col { display: flex; flex-direction: column; flex-basis: 100%; flex: 1; padding: 10px; }\n",
       "    </style>\n",
       "<div class=\"wandb-row\"><div class=\"wandb-col\"><h3>Run history:</h3><br/><table class=\"wandb\"><tr><td>custom_accuracy</td><td>▁▄▅▅▆▆▆▆▇▇▇▇▇▇▇██████████</td></tr><tr><td>epoch</td><td>▁▁▂▂▂▂▃▃▃▄▄▄▅▅▅▅▆▆▆▇▇▇▇██</td></tr><tr><td>loss</td><td>█▆▅▄▄▃▃▃▃▂▂▂▂▂▂▂▁▁▁▁▁▁▁▁▁</td></tr><tr><td>val_custom_accuracy</td><td>▁▄▄▅▅▆▆▆▆▆▇▇▇▇▇▇▇███▇████</td></tr><tr><td>val_loss</td><td>█▆▅▄▄▄▄▃▃▃▂▂▂▂▂▂▂▁▁▁▂▁▁▁▁</td></tr></table><br/></div><div class=\"wandb-col\"><h3>Run summary:</h3><br/><table class=\"wandb\"><tr><td>best_epoch</td><td>24</td></tr><tr><td>best_val_loss</td><td>0.34127</td></tr><tr><td>custom_accuracy</td><td>0.82272</td></tr><tr><td>epoch</td><td>24</td></tr><tr><td>loss</td><td>0.4017</td></tr><tr><td>val_custom_accuracy</td><td>0.85403</td></tr><tr><td>val_loss</td><td>0.34127</td></tr></table><br/></div></div>"
      ],
      "text/plain": [
       "<IPython.core.display.HTML object>"
      ]
     },
     "metadata": {},
     "output_type": "display_data"
    },
    {
     "data": {
      "text/html": [
       " View run <strong style=\"color:#cdcd00\">playful-jazz-78</strong> at: <a href='https://wandb.ai/atlasdnn/ATLAS_DNN/runs/77u7r39b' target=\"_blank\">https://wandb.ai/atlasdnn/ATLAS_DNN/runs/77u7r39b</a><br/>Synced 6 W&B file(s), 1 media file(s), 95 artifact file(s) and 0 other file(s)"
      ],
      "text/plain": [
       "<IPython.core.display.HTML object>"
      ]
     },
     "metadata": {},
     "output_type": "display_data"
    },
    {
     "data": {
      "text/html": [
       "Find logs at: <code>./wandb/run-20230427_170756-77u7r39b/logs</code>"
      ],
      "text/plain": [
       "<IPython.core.display.HTML object>"
      ]
     },
     "metadata": {},
     "output_type": "display_data"
    }
   ],
   "source": [
    "wandb.finish()"
   ]
  },
  {
   "cell_type": "markdown",
   "id": "6762b384-00da-4be7-bdab-658c78b38bd8",
   "metadata": {},
   "source": [
    "------------------------------------------ Finished training, now analyze ------------------------------------------"
   ]
  },
  {
   "cell_type": "code",
   "execution_count": 284,
   "id": "e18b441c-207f-402e-8a4c-b1c8a7f86de0",
   "metadata": {},
   "outputs": [
    {
     "data": {
      "image/png": "[encoded data removed]",
      "text/plain": [
       "<Figure size 640x480 with 1 Axes>"
      ]
     },
     "metadata": {},
     "output_type": "display_data"
    }
   ],
   "source": [
    "# Plot the training and validation loss\n",
    "plt.plot(history.history['loss'])\n",
    "plt.plot(history.history['val_loss'])\n",
    "plt.title('Model Loss')\n",
    "plt.ylabel('Loss')\n",
    "plt.xlabel('Epoch')\n",
    "plt.legend(['Train', 'Validation'], loc='upper right')\n",
    "plt.show()"
   ]
  },
  {
   "cell_type": "code",
   "execution_count": 285,
   "id": "16ec2ba3-002e-489f-a0a4-a087894d71c2",
   "metadata": {},
   "outputs": [
    {
     "name": "stdout",
     "output_type": "stream",
     "text": [
      "6250/6250 [==============================] - 6s 964us/step\n"
     ]
    },
    {
     "data": {
      "text/plain": [
       "array([[0.00173835],\n",
       "       [0.00362891],\n",
       "       [0.0246193 ],\n",
       "       [0.9784463 ],\n",
       "       [0.01063717],\n",
       "       [0.15633316],\n",
       "       [0.6692846 ],\n",
       "       [0.41299647],\n",
       "       [0.74787474],\n",
       "       [0.00531195]], dtype=float32)"
      ]
     },
     "execution_count": 285,
     "metadata": {},
     "output_type": "execute_result"
    }
   ],
   "source": [
    "predictions_both = model.predict(X_test)\n",
    "predictions_both[:10]"
   ]
  },
  {
   "cell_type": "code",
   "execution_count": 286,
   "id": "4a31e0ad-5770-42c8-a6b1-6f93a797adc6",
   "metadata": {},
   "outputs": [
    {
     "name": "stdout",
     "output_type": "stream",
     "text": [
      "3125/3125 [==============================] - 3s 1ms/step\n"
     ]
    },
    {
     "data": {
      "text/plain": [
       "array([[3.2837226e-04],\n",
       "       [1.2637942e-01],\n",
       "       [6.4923931e-03],\n",
       "       [5.7289350e-01],\n",
       "       [3.1557295e-01],\n",
       "       [1.1272545e-02],\n",
       "       [9.0458943e-03],\n",
       "       [8.2009263e-02],\n",
       "       [3.5525608e-01],\n",
       "       [6.6538662e-01]], dtype=float32)"
      ]
     },
     "execution_count": 286,
     "metadata": {},
     "output_type": "execute_result"
    }
   ],
   "source": [
    "predictions_background = model.predict(X_test1)\n",
    "predictions_background[:10]"
   ]
  },
  {
   "cell_type": "code",
   "execution_count": 287,
   "id": "691d943d-649d-46bc-8900-eee623a49f70",
   "metadata": {},
   "outputs": [
    {
     "name": "stdout",
     "output_type": "stream",
     "text": [
      "3125/3125 [==============================] - 3s 996us/step\n"
     ]
    },
    {
     "data": {
      "text/plain": [
       "array([[0.9699503 ],\n",
       "       [0.9773169 ],\n",
       "       [0.6201592 ],\n",
       "       [0.2692205 ],\n",
       "       [0.54557365],\n",
       "       [0.94977605],\n",
       "       [0.2354034 ],\n",
       "       [0.4191316 ],\n",
       "       [0.93737394],\n",
       "       [0.89900285]], dtype=float32)"
      ]
     },
     "execution_count": 287,
     "metadata": {},
     "output_type": "execute_result"
    }
   ],
   "source": [
    "predictions_signal = model.predict(X_test2)\n",
    "predictions_signal[:10]"
   ]
  },
  {
   "cell_type": "code",
   "execution_count": 288,
   "id": "3a685fcf-1cd5-4478-b5ca-b1ee1f483e9e",
   "metadata": {},
   "outputs": [
    {
     "name": "stdout",
     "output_type": "stream",
     "text": [
      "Accuracy for Both: 85.40%\n",
      "Accuracy for Only Background: 81.57%\n",
      "Accuracy for Only Signal: 89.11%\n"
     ]
    }
   ],
   "source": [
    "#predict accuract given y_test and predictions from model\n",
    "def pred_accuracy(y_test, predictions):\n",
    "    D_count, Lambda_count = 0, 0\n",
    "\n",
    "    predictions_list = []\n",
    "    for pred in predictions:\n",
    "        #arbitrary cutoff of 0.5\n",
    "        if float(pred) > 0.5:\n",
    "            predictions_list.append(int(1))\n",
    "            Lambda_count+=1\n",
    "        elif float(pred) < 0.5:\n",
    "            predictions_list.append(int(0))\n",
    "            D_count+=1\n",
    "            \n",
    "    accuracy = np.mean(predictions_list == y_test)\n",
    "    return accuracy\n",
    "\n",
    "accuracy_both = pred_accuracy(y_test, list(predictions_both))\n",
    "accuracy_background = pred_accuracy(y_test1, list(predictions_background))\n",
    "accuracy_signal = pred_accuracy(y_test2, list(predictions_signal))\n",
    "\n",
    "print(\"Accuracy for Both: {:.2%}\".format(accuracy_both))\n",
    "print(\"Accuracy for Only Background: {:.2%}\".format(accuracy_background))\n",
    "print(\"Accuracy for Only Signal: {:.2%}\".format(accuracy_signal))"
   ]
  },
  {
   "cell_type": "code",
   "execution_count": 291,
   "id": "4c231cdf-49c7-4f4d-864c-8f38d62c3847",
   "metadata": {},
   "outputs": [
    {
     "data": {
      "image/png": "[encoded data removed]",
      "text/plain": [
       "<Figure size 640x480 with 1 Axes>"
      ]
     },
     "metadata": {},
     "output_type": "display_data"
    }
   ],
   "source": [
    "hist = plt.hist(predictions_background, bins = 50, label = \"$D^{+}$ Predictions\", alpha=0.5)\n",
    "hist2 = plt.hist(predictions_signal, bins = 50, label = \"$\\Lambda_C^{+}$ Predictions\", alpha=0.5)\n",
    "plt.xlabel(\"score\")\n",
    "plt.ylabel(\"count\")\n",
    "plt.title(\"Predictions Count vs Score (Sherpa & $\\Lambda$ Hypothesis with all Daughter Info)\")\n",
    "plt.legend()\n",
    "plt.show()"
   ]
  },
  {
   "cell_type": "code",
   "execution_count": 290,
   "id": "38f6bd93-a366-496a-9e5d-daea55ed8021",
   "metadata": {},
   "outputs": [
    {
     "data": {
      "image/png": "[encoded data removed]",
      "text/plain": [
       "<Figure size 640x480 with 1 Axes>"
      ]
     },
     "metadata": {},
     "output_type": "display_data"
    }
   ],
   "source": [
    "# Get true labels and predicted probabilities\n",
    "y_true = list(y_test)\n",
    "y_pred = predictions_both\n",
    "\n",
    "# Calculate TPR and FPR for different threshold values\n",
    "fpr, tpr, thresholds = roc_curve(y_true, y_pred)\n",
    "\n",
    "# Plot ROC curve\n",
    "plt.plot(fpr, tpr, label = \"{} Variables\".format(len(training_columns)))\n",
    "plt.xlabel('False Positive Rate')\n",
    "plt.ylabel('True Positive Rate')\n",
    "plt.legend()\n",
    "plt.title('ROC Curve')\n",
    "plt.show()"
   ]
  },
  {
   "cell_type": "code",
   "execution_count": null,
   "id": "b4ad1a23-f36a-4b5a-aa02-92c6246d47d3",
   "metadata": {},
   "outputs": [],
   "source": []
  }
 ],
 "metadata": {
  "kernelspec": {
   "display_name": "cernROOT",
   "language": "python",
   "name": "cernroot"
  },
  "language_info": {
   "codemirror_mode": {
    "name": "ipython",
    "version": 3
   },
   "file_extension": ".py",
   "mimetype": "text/x-python",
   "name": "python",
   "nbconvert_exporter": "python",
   "pygments_lexer": "ipython3",
   "version": "3.11.0"
  }
 },
 "nbformat": 4,
 "nbformat_minor": 5
}
