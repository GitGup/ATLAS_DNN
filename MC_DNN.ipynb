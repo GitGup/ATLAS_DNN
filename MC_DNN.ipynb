{
 "cells": [
  {
   "cell_type": "code",
   "execution_count": 61,
   "id": "31a7a761-3ae0-4c84-9f77-ec0c8ec1b6b7",
   "metadata": {},
   "outputs": [],
   "source": [
    "from common import *\n",
    "from process_ntuples import *\n",
    "from process_df import *\n",
    "from plotting import *\n",
    "from cuts import apply_cuts, apply_pt_cut\n",
    "import matplotlib.pyplot as plt\n",
    "import pickle\n",
    "\n",
    "import tensorflow as tf\n",
    "from tensorflow.keras import Model\n",
    "from keras.models import Sequential\n",
    "from keras.layers import Dense, Dropout, Activation\n",
    "from keras import layers\n",
    "\n",
    "from sklearn.preprocessing import StandardScaler\n",
    "from sklearn.model_selection import train_test_split\n",
    "\n",
    "from tensorflow.keras.callbacks import EarlyStopping\n",
    "\n",
    "#weights and biases imports\n",
    "import wandb\n",
    "from wandb.keras import WandbMetricsLogger, WandbModelCheckpoint, WandbCallback"
   ]
  },
  {
   "cell_type": "code",
   "execution_count": 14,
   "id": "b01cad53-02f2-432b-aa7a-a88ae45eb0d2",
   "metadata": {},
   "outputs": [
    {
     "name": "stdout",
     "output_type": "stream",
     "text": [
      "[]\n"
     ]
    }
   ],
   "source": [
    "print(tf.config.list_physical_devices('GPU'))\n",
    "# import os\n",
    "# os.environ['TF_CUDNN_VERSION'] = '8.1.0'\n"
   ]
  },
  {
   "cell_type": "code",
   "execution_count": 31,
   "id": "04c3b3b8-44f1-4c2e-b001-900d504b7e41",
   "metadata": {},
   "outputs": [
    {
     "data": {
      "text/plain": [
       "['CharmAnalysis.mc.ForcedDecay.Dplus.tree.root',\n",
       " 'CharmAnalysis.mc.ForcedDecay.LabmdaC.tree.root']"
      ]
     },
     "execution_count": 31,
     "metadata": {},
     "output_type": "execute_result"
    }
   ],
   "source": [
    "dir_path = \"/global/cfs/cdirs/atlas/gottino/Charm/Analysis/run_batch_gup/ntuples\"\n",
    "\n",
    "files = os.listdir(dir_path)\n",
    "TTree = process_ntuple(dir_path, files[0])\n",
    "files"
   ]
  },
  {
   "cell_type": "markdown",
   "id": "c874c9a6-beab-488b-8a31-9fe628c93d4e",
   "metadata": {},
   "source": [
    "$D^{+}$ : 411\n",
    "\n",
    "$\\Lambda_C^{+}$ : 4122"
   ]
  },
  {
   "cell_type": "markdown",
   "id": "ddf679fc-9661-4fce-96eb-e9cea2569a0c",
   "metadata": {},
   "source": [
    "Apply Cuts Fiducial Region cuts ($𝐷^{+}$ $𝑝_T$ > 8 GeV, |𝜂| < 2.2). ***See cuts.py on how the cuts are applied***"
   ]
  },
  {
   "cell_type": "code",
   "execution_count": 7,
   "id": "79674b36-224a-4896-baaa-41b280866a53",
   "metadata": {},
   "outputs": [
    {
     "data": {
      "text/html": [
       "<div>\n",
       "<style scoped>\n",
       "    .dataframe tbody tr th:only-of-type {\n",
       "        vertical-align: middle;\n",
       "    }\n",
       "\n",
       "    .dataframe tbody tr th {\n",
       "        vertical-align: top;\n",
       "    }\n",
       "\n",
       "    .dataframe thead th {\n",
       "        text-align: right;\n",
       "    }\n",
       "</style>\n",
       "<table border=\"1\" class=\"dataframe\">\n",
       "  <thead>\n",
       "    <tr style=\"text-align: right;\">\n",
       "      <th></th>\n",
       "      <th>DMesons_pt</th>\n",
       "      <th>DMesons_eta</th>\n",
       "      <th>DMesons_m</th>\n",
       "      <th>DMesons_fitOutput__Lxy</th>\n",
       "      <th>DMesons_costhetastar</th>\n",
       "      <th>DMesons_pdgId</th>\n",
       "    </tr>\n",
       "  </thead>\n",
       "  <tbody>\n",
       "    <tr>\n",
       "      <th>0</th>\n",
       "      <td>[10.047125]</td>\n",
       "      <td>[0.08182407170534134]</td>\n",
       "      <td>[1862.4176025390625]</td>\n",
       "      <td>[2.3395302295684814]</td>\n",
       "      <td>[0.25487038493156433]</td>\n",
       "      <td>[411]</td>\n",
       "    </tr>\n",
       "    <tr>\n",
       "      <th>1</th>\n",
       "      <td>[18.9937421875, 18.9937421875]</td>\n",
       "      <td>[-1.6619627475738525, -1.6619627475738525]</td>\n",
       "      <td>[1853.90625, 2398.886962890625]</td>\n",
       "      <td>[1.9184143543243408, 1.9184143543243408]</td>\n",
       "      <td>[-0.36730244755744934, -0.0650731548666954]</td>\n",
       "      <td>[411, 4122]</td>\n",
       "    </tr>\n",
       "    <tr>\n",
       "      <th>2</th>\n",
       "      <td>[10.118494140625, 10.118494140625]</td>\n",
       "      <td>[0.041659336537122726, 0.041659336537122726]</td>\n",
       "      <td>[1874.203125, 2468.1806640625]</td>\n",
       "      <td>[2.8901257514953613, 2.8901257514953613]</td>\n",
       "      <td>[0.06833142042160034, 0.4276972711086273]</td>\n",
       "      <td>[411, 4122]</td>\n",
       "    </tr>\n",
       "    <tr>\n",
       "      <th>3</th>\n",
       "      <td>[12.579470703125, 12.579470703125]</td>\n",
       "      <td>[-1.1025604009628296, -1.1025604009628296]</td>\n",
       "      <td>[1884.987060546875, 2220.384521484375]</td>\n",
       "      <td>[0.9249186515808105, 0.9249186515808105]</td>\n",
       "      <td>[-0.5603189468383789, -0.41332852840423584]</td>\n",
       "      <td>[411, 4122]</td>\n",
       "    </tr>\n",
       "    <tr>\n",
       "      <th>4</th>\n",
       "      <td>[36.1288359375]</td>\n",
       "      <td>[0.6598162055015564]</td>\n",
       "      <td>[2235.69873046875]</td>\n",
       "      <td>[0.3584118187427521]</td>\n",
       "      <td>[0.19036155939102173]</td>\n",
       "      <td>[4122]</td>\n",
       "    </tr>\n",
       "    <tr>\n",
       "      <th>...</th>\n",
       "      <td>...</td>\n",
       "      <td>...</td>\n",
       "      <td>...</td>\n",
       "      <td>...</td>\n",
       "      <td>...</td>\n",
       "      <td>...</td>\n",
       "    </tr>\n",
       "    <tr>\n",
       "      <th>8235046</th>\n",
       "      <td>[17.96]</td>\n",
       "      <td>[-0.6264557838439941]</td>\n",
       "      <td>[1865.6043701171875]</td>\n",
       "      <td>[5.87862491607666]</td>\n",
       "      <td>[0.45278045535087585]</td>\n",
       "      <td>[411]</td>\n",
       "    </tr>\n",
       "    <tr>\n",
       "      <th>8235047</th>\n",
       "      <td>[62.91061328125, 62.91061328125]</td>\n",
       "      <td>[0.2775037884712219, 0.2775037884712219]</td>\n",
       "      <td>[1847.262451171875, 2131.1259765625]</td>\n",
       "      <td>[11.870012283325195, 11.870012283325195]</td>\n",
       "      <td>[-0.9544855356216431, -0.9355815052986145]</td>\n",
       "      <td>[411, 4122]</td>\n",
       "    </tr>\n",
       "    <tr>\n",
       "      <th>8235048</th>\n",
       "      <td>[14.8181767578125, 14.8181767578125]</td>\n",
       "      <td>[-2.1479332447052, -2.1479332447052]</td>\n",
       "      <td>[1836.0997314453125, 2165.72412109375]</td>\n",
       "      <td>[2.027026653289795, 2.027026653289795]</td>\n",
       "      <td>[-0.9712575674057007, -0.9517184495925903]</td>\n",
       "      <td>[411, 4122]</td>\n",
       "    </tr>\n",
       "    <tr>\n",
       "      <th>8235049</th>\n",
       "      <td>[39.3814296875]</td>\n",
       "      <td>[1.5503557920455933]</td>\n",
       "      <td>[2210.86669921875]</td>\n",
       "      <td>[0.17065481841564178]</td>\n",
       "      <td>[-0.332907497882843]</td>\n",
       "      <td>[4122]</td>\n",
       "    </tr>\n",
       "    <tr>\n",
       "      <th>8235050</th>\n",
       "      <td>[11.4230400390625, 11.4230400390625]</td>\n",
       "      <td>[-0.4857237637042999, -0.4857237637042999]</td>\n",
       "      <td>[1854.3157958984375, 2423.545654296875]</td>\n",
       "      <td>[1.3970249891281128, 1.3970249891281128]</td>\n",
       "      <td>[0.97699373960495, 0.9895557165145874]</td>\n",
       "      <td>[411, 4122]</td>\n",
       "    </tr>\n",
       "  </tbody>\n",
       "</table>\n",
       "<p>8235051 rows × 6 columns</p>\n",
       "</div>"
      ],
      "text/plain": [
       "                                   DMesons_pt  \\\n",
       "0                                 [10.047125]   \n",
       "1              [18.9937421875, 18.9937421875]   \n",
       "2          [10.118494140625, 10.118494140625]   \n",
       "3          [12.579470703125, 12.579470703125]   \n",
       "4                             [36.1288359375]   \n",
       "...                                       ...   \n",
       "8235046                               [17.96]   \n",
       "8235047      [62.91061328125, 62.91061328125]   \n",
       "8235048  [14.8181767578125, 14.8181767578125]   \n",
       "8235049                       [39.3814296875]   \n",
       "8235050  [11.4230400390625, 11.4230400390625]   \n",
       "\n",
       "                                          DMesons_eta  \\\n",
       "0                               [0.08182407170534134]   \n",
       "1          [-1.6619627475738525, -1.6619627475738525]   \n",
       "2        [0.041659336537122726, 0.041659336537122726]   \n",
       "3          [-1.1025604009628296, -1.1025604009628296]   \n",
       "4                                [0.6598162055015564]   \n",
       "...                                               ...   \n",
       "8235046                         [-0.6264557838439941]   \n",
       "8235047      [0.2775037884712219, 0.2775037884712219]   \n",
       "8235048          [-2.1479332447052, -2.1479332447052]   \n",
       "8235049                          [1.5503557920455933]   \n",
       "8235050    [-0.4857237637042999, -0.4857237637042999]   \n",
       "\n",
       "                                       DMesons_m  \\\n",
       "0                           [1862.4176025390625]   \n",
       "1                [1853.90625, 2398.886962890625]   \n",
       "2                 [1874.203125, 2468.1806640625]   \n",
       "3         [1884.987060546875, 2220.384521484375]   \n",
       "4                             [2235.69873046875]   \n",
       "...                                          ...   \n",
       "8235046                     [1865.6043701171875]   \n",
       "8235047     [1847.262451171875, 2131.1259765625]   \n",
       "8235048   [1836.0997314453125, 2165.72412109375]   \n",
       "8235049                       [2210.86669921875]   \n",
       "8235050  [1854.3157958984375, 2423.545654296875]   \n",
       "\n",
       "                           DMesons_fitOutput__Lxy  \\\n",
       "0                            [2.3395302295684814]   \n",
       "1        [1.9184143543243408, 1.9184143543243408]   \n",
       "2        [2.8901257514953613, 2.8901257514953613]   \n",
       "3        [0.9249186515808105, 0.9249186515808105]   \n",
       "4                            [0.3584118187427521]   \n",
       "...                                           ...   \n",
       "8235046                        [5.87862491607666]   \n",
       "8235047  [11.870012283325195, 11.870012283325195]   \n",
       "8235048    [2.027026653289795, 2.027026653289795]   \n",
       "8235049                     [0.17065481841564178]   \n",
       "8235050  [1.3970249891281128, 1.3970249891281128]   \n",
       "\n",
       "                                DMesons_costhetastar DMesons_pdgId  \n",
       "0                              [0.25487038493156433]         [411]  \n",
       "1        [-0.36730244755744934, -0.0650731548666954]   [411, 4122]  \n",
       "2          [0.06833142042160034, 0.4276972711086273]   [411, 4122]  \n",
       "3        [-0.5603189468383789, -0.41332852840423584]   [411, 4122]  \n",
       "4                              [0.19036155939102173]        [4122]  \n",
       "...                                              ...           ...  \n",
       "8235046                        [0.45278045535087585]         [411]  \n",
       "8235047   [-0.9544855356216431, -0.9355815052986145]   [411, 4122]  \n",
       "8235048   [-0.9712575674057007, -0.9517184495925903]   [411, 4122]  \n",
       "8235049                         [-0.332907497882843]        [4122]  \n",
       "8235050       [0.97699373960495, 0.9895557165145874]   [411, 4122]  \n",
       "\n",
       "[8235051 rows x 6 columns]"
      ]
     },
     "execution_count": 7,
     "metadata": {},
     "output_type": "execute_result"
    }
   ],
   "source": [
    "DMesons_df = show(0, TTree, [\"DMesons_pt\",\"DMesons_eta\", \"DMesons_m\", \"DMesons_fitOutput__Lxy\", \"DMesons_costhetastar\", \"DMesons_pdgId\"], 20000000)\n",
    "DMesons_df = remove_empty(DMesons_df)\n",
    "\n",
    "DMesons_df[\"DMesons_pt\"] = DMesons_df[\"DMesons_pt\"].apply(divide_by_1000)\n",
    "for col in DMesons_df.columns:\n",
    "    DMesons_df[col] = DMesons_df[col].apply(list)\n",
    "    \n",
    "DMesons_df = apply_cuts(DMesons_df)\n",
    "pd.set_option('display.max_rows', 10)\n",
    "DMesons_df"
   ]
  },
  {
   "cell_type": "code",
   "execution_count": 60,
   "id": "a82dd47b-90cf-4a38-a174-d5d3b85daf52",
   "metadata": {},
   "outputs": [],
   "source": [
    "#save to disk\n",
    "# with open('DMesons_df.pickle', 'wb') as f:\n",
    "#     pickle.dump(DMesons_df, f)\n"
   ]
  },
  {
   "cell_type": "code",
   "execution_count": 4,
   "id": "a2af6551-7395-4d23-b2c0-9988d92d8ba2",
   "metadata": {},
   "outputs": [],
   "source": [
    "#open\n",
    "with open('DMesons_df.pickle', 'rb') as f:\n",
    "    DMesons_df = pickle.load(f)\n"
   ]
  },
  {
   "cell_type": "code",
   "execution_count": 5,
   "id": "260f9ebf-f9e1-462b-8010-0209295abaf9",
   "metadata": {},
   "outputs": [
    {
     "data": {
      "text/html": [
       "<div>\n",
       "<style scoped>\n",
       "    .dataframe tbody tr th:only-of-type {\n",
       "        vertical-align: middle;\n",
       "    }\n",
       "\n",
       "    .dataframe tbody tr th {\n",
       "        vertical-align: top;\n",
       "    }\n",
       "\n",
       "    .dataframe thead th {\n",
       "        text-align: right;\n",
       "    }\n",
       "</style>\n",
       "<table border=\"1\" class=\"dataframe\">\n",
       "  <thead>\n",
       "    <tr style=\"text-align: right;\">\n",
       "      <th></th>\n",
       "      <th>DMesons_pt</th>\n",
       "      <th>DMesons_eta</th>\n",
       "      <th>DMesons_m</th>\n",
       "      <th>DMesons_fitOutput__Lxy</th>\n",
       "      <th>DMesons_costhetastar</th>\n",
       "      <th>DMesons_pdgId</th>\n",
       "      <th>particle_type</th>\n",
       "    </tr>\n",
       "  </thead>\n",
       "  <tbody>\n",
       "    <tr>\n",
       "      <th>0</th>\n",
       "      <td>[10.047125]</td>\n",
       "      <td>[0.08182407170534134]</td>\n",
       "      <td>[1862.4176025390625]</td>\n",
       "      <td>[2.3395302295684814]</td>\n",
       "      <td>[0.25487038493156433]</td>\n",
       "      <td>[411]</td>\n",
       "      <td>only_411</td>\n",
       "    </tr>\n",
       "    <tr>\n",
       "      <th>1</th>\n",
       "      <td>[18.9937421875, 18.9937421875]</td>\n",
       "      <td>[-1.6619627475738525, -1.6619627475738525]</td>\n",
       "      <td>[1853.90625, 2398.886962890625]</td>\n",
       "      <td>[1.9184143543243408, 1.9184143543243408]</td>\n",
       "      <td>[-0.36730244755744934, -0.0650731548666954]</td>\n",
       "      <td>[411, 4122]</td>\n",
       "      <td>both</td>\n",
       "    </tr>\n",
       "    <tr>\n",
       "      <th>2</th>\n",
       "      <td>[10.118494140625, 10.118494140625]</td>\n",
       "      <td>[0.041659336537122726, 0.041659336537122726]</td>\n",
       "      <td>[1874.203125, 2468.1806640625]</td>\n",
       "      <td>[2.8901257514953613, 2.8901257514953613]</td>\n",
       "      <td>[0.06833142042160034, 0.4276972711086273]</td>\n",
       "      <td>[411, 4122]</td>\n",
       "      <td>both</td>\n",
       "    </tr>\n",
       "    <tr>\n",
       "      <th>3</th>\n",
       "      <td>[12.579470703125, 12.579470703125]</td>\n",
       "      <td>[-1.1025604009628296, -1.1025604009628296]</td>\n",
       "      <td>[1884.987060546875, 2220.384521484375]</td>\n",
       "      <td>[0.9249186515808105, 0.9249186515808105]</td>\n",
       "      <td>[-0.5603189468383789, -0.41332852840423584]</td>\n",
       "      <td>[411, 4122]</td>\n",
       "      <td>both</td>\n",
       "    </tr>\n",
       "    <tr>\n",
       "      <th>4</th>\n",
       "      <td>[36.1288359375]</td>\n",
       "      <td>[0.6598162055015564]</td>\n",
       "      <td>[2235.69873046875]</td>\n",
       "      <td>[0.3584118187427521]</td>\n",
       "      <td>[0.19036155939102173]</td>\n",
       "      <td>[4122]</td>\n",
       "      <td>only_4122</td>\n",
       "    </tr>\n",
       "    <tr>\n",
       "      <th>...</th>\n",
       "      <td>...</td>\n",
       "      <td>...</td>\n",
       "      <td>...</td>\n",
       "      <td>...</td>\n",
       "      <td>...</td>\n",
       "      <td>...</td>\n",
       "      <td>...</td>\n",
       "    </tr>\n",
       "    <tr>\n",
       "      <th>8235046</th>\n",
       "      <td>[17.96]</td>\n",
       "      <td>[-0.6264557838439941]</td>\n",
       "      <td>[1865.6043701171875]</td>\n",
       "      <td>[5.87862491607666]</td>\n",
       "      <td>[0.45278045535087585]</td>\n",
       "      <td>[411]</td>\n",
       "      <td>only_411</td>\n",
       "    </tr>\n",
       "    <tr>\n",
       "      <th>8235047</th>\n",
       "      <td>[62.91061328125, 62.91061328125]</td>\n",
       "      <td>[0.2775037884712219, 0.2775037884712219]</td>\n",
       "      <td>[1847.262451171875, 2131.1259765625]</td>\n",
       "      <td>[11.870012283325195, 11.870012283325195]</td>\n",
       "      <td>[-0.9544855356216431, -0.9355815052986145]</td>\n",
       "      <td>[411, 4122]</td>\n",
       "      <td>both</td>\n",
       "    </tr>\n",
       "    <tr>\n",
       "      <th>8235048</th>\n",
       "      <td>[14.8181767578125, 14.8181767578125]</td>\n",
       "      <td>[-2.1479332447052, -2.1479332447052]</td>\n",
       "      <td>[1836.0997314453125, 2165.72412109375]</td>\n",
       "      <td>[2.027026653289795, 2.027026653289795]</td>\n",
       "      <td>[-0.9712575674057007, -0.9517184495925903]</td>\n",
       "      <td>[411, 4122]</td>\n",
       "      <td>both</td>\n",
       "    </tr>\n",
       "    <tr>\n",
       "      <th>8235049</th>\n",
       "      <td>[39.3814296875]</td>\n",
       "      <td>[1.5503557920455933]</td>\n",
       "      <td>[2210.86669921875]</td>\n",
       "      <td>[0.17065481841564178]</td>\n",
       "      <td>[-0.332907497882843]</td>\n",
       "      <td>[4122]</td>\n",
       "      <td>only_4122</td>\n",
       "    </tr>\n",
       "    <tr>\n",
       "      <th>8235050</th>\n",
       "      <td>[11.4230400390625, 11.4230400390625]</td>\n",
       "      <td>[-0.4857237637042999, -0.4857237637042999]</td>\n",
       "      <td>[1854.3157958984375, 2423.545654296875]</td>\n",
       "      <td>[1.3970249891281128, 1.3970249891281128]</td>\n",
       "      <td>[0.97699373960495, 0.9895557165145874]</td>\n",
       "      <td>[411, 4122]</td>\n",
       "      <td>both</td>\n",
       "    </tr>\n",
       "  </tbody>\n",
       "</table>\n",
       "<p>8235051 rows × 7 columns</p>\n",
       "</div>"
      ],
      "text/plain": [
       "                                   DMesons_pt  \\\n",
       "0                                 [10.047125]   \n",
       "1              [18.9937421875, 18.9937421875]   \n",
       "2          [10.118494140625, 10.118494140625]   \n",
       "3          [12.579470703125, 12.579470703125]   \n",
       "4                             [36.1288359375]   \n",
       "...                                       ...   \n",
       "8235046                               [17.96]   \n",
       "8235047      [62.91061328125, 62.91061328125]   \n",
       "8235048  [14.8181767578125, 14.8181767578125]   \n",
       "8235049                       [39.3814296875]   \n",
       "8235050  [11.4230400390625, 11.4230400390625]   \n",
       "\n",
       "                                          DMesons_eta  \\\n",
       "0                               [0.08182407170534134]   \n",
       "1          [-1.6619627475738525, -1.6619627475738525]   \n",
       "2        [0.041659336537122726, 0.041659336537122726]   \n",
       "3          [-1.1025604009628296, -1.1025604009628296]   \n",
       "4                                [0.6598162055015564]   \n",
       "...                                               ...   \n",
       "8235046                         [-0.6264557838439941]   \n",
       "8235047      [0.2775037884712219, 0.2775037884712219]   \n",
       "8235048          [-2.1479332447052, -2.1479332447052]   \n",
       "8235049                          [1.5503557920455933]   \n",
       "8235050    [-0.4857237637042999, -0.4857237637042999]   \n",
       "\n",
       "                                       DMesons_m  \\\n",
       "0                           [1862.4176025390625]   \n",
       "1                [1853.90625, 2398.886962890625]   \n",
       "2                 [1874.203125, 2468.1806640625]   \n",
       "3         [1884.987060546875, 2220.384521484375]   \n",
       "4                             [2235.69873046875]   \n",
       "...                                          ...   \n",
       "8235046                     [1865.6043701171875]   \n",
       "8235047     [1847.262451171875, 2131.1259765625]   \n",
       "8235048   [1836.0997314453125, 2165.72412109375]   \n",
       "8235049                       [2210.86669921875]   \n",
       "8235050  [1854.3157958984375, 2423.545654296875]   \n",
       "\n",
       "                           DMesons_fitOutput__Lxy  \\\n",
       "0                            [2.3395302295684814]   \n",
       "1        [1.9184143543243408, 1.9184143543243408]   \n",
       "2        [2.8901257514953613, 2.8901257514953613]   \n",
       "3        [0.9249186515808105, 0.9249186515808105]   \n",
       "4                            [0.3584118187427521]   \n",
       "...                                           ...   \n",
       "8235046                        [5.87862491607666]   \n",
       "8235047  [11.870012283325195, 11.870012283325195]   \n",
       "8235048    [2.027026653289795, 2.027026653289795]   \n",
       "8235049                     [0.17065481841564178]   \n",
       "8235050  [1.3970249891281128, 1.3970249891281128]   \n",
       "\n",
       "                                DMesons_costhetastar DMesons_pdgId  \\\n",
       "0                              [0.25487038493156433]         [411]   \n",
       "1        [-0.36730244755744934, -0.0650731548666954]   [411, 4122]   \n",
       "2          [0.06833142042160034, 0.4276972711086273]   [411, 4122]   \n",
       "3        [-0.5603189468383789, -0.41332852840423584]   [411, 4122]   \n",
       "4                              [0.19036155939102173]        [4122]   \n",
       "...                                              ...           ...   \n",
       "8235046                        [0.45278045535087585]         [411]   \n",
       "8235047   [-0.9544855356216431, -0.9355815052986145]   [411, 4122]   \n",
       "8235048   [-0.9712575674057007, -0.9517184495925903]   [411, 4122]   \n",
       "8235049                         [-0.332907497882843]        [4122]   \n",
       "8235050       [0.97699373960495, 0.9895557165145874]   [411, 4122]   \n",
       "\n",
       "        particle_type  \n",
       "0            only_411  \n",
       "1                both  \n",
       "2                both  \n",
       "3                both  \n",
       "4           only_4122  \n",
       "...               ...  \n",
       "8235046      only_411  \n",
       "8235047          both  \n",
       "8235048          both  \n",
       "8235049     only_4122  \n",
       "8235050          both  \n",
       "\n",
       "[8235051 rows x 7 columns]"
      ]
     },
     "execution_count": 5,
     "metadata": {},
     "output_type": "execute_result"
    }
   ],
   "source": [
    "DMesons_df"
   ]
  },
  {
   "cell_type": "code",
   "execution_count": 58,
   "id": "fd30aaf7-cbb0-4040-be51-c8897ad849f8",
   "metadata": {},
   "outputs": [],
   "source": [
    "DMesons_df2 = show(0, TTree, [\"DMesons_daughterInfo__pt\", \"DMesons_daughterInfo__eta\", \"DMesons_daughterInfo__phi\", \"DMesons_daughterInfo__pdgId\"], 100)\n",
    "DMesons_df2 = remove_empty(DMesons_df2)"
   ]
  },
  {
   "cell_type": "code",
   "execution_count": 59,
   "id": "cb8981e7-9eec-4d65-b4e0-00aac573cae2",
   "metadata": {},
   "outputs": [
    {
     "data": {
      "text/plain": [
       "3"
      ]
     },
     "execution_count": 59,
     "metadata": {},
     "output_type": "execute_result"
    }
   ],
   "source": [
    "DPlus = [-321, 211, 211]\n",
    "LambdaC = [2212, -321, 211]\n",
    "\n",
    "remove_lambda = []\n",
    "\n",
    "count = 0\n",
    "for index, row in DMesons_df2.iterrows():\n",
    "    if count == 50:\n",
    "        break\n",
    "    count+=1\n",
    "    \n",
    "    pts = row['DMesons_daughterInfo__pt']\n",
    "    etas = row['DMesons_daughterInfo__eta']\n",
    "    phis = row['DMesons_daughterInfo__phi']\n",
    "    pdgids = row[\"DMesons_daughterInfo__pdgId\"]\n",
    "    \n",
    "    #loop through until the first lambda encountered\n",
    "    for i in range(len(pdgids) - 1):\n",
    "        #if there are multiple lambda baryons\n",
    "        if len(pdgids) > 2:\n",
    "            #stop at the first lambda and keep the higher proton pt valued lambda\n",
    "            if list(pdgids[i]) == LambdaC:\n",
    "                l1_pt, l2_pt = pts[i][0], pts[i + 1][0]\n",
    "                if (l1_pt > l2_pt):\n",
    "                    #Lambda 1's proton has higher pt\n",
    "                    remove_lambda.append((index, i + 1))\n",
    "                elif (l1_pt < l2_pt):\n",
    "                    #Lambda 2's proton has higher pt!\n",
    "                    remove_lambda.append((index, i))\n",
    "                else:\n",
    "                    raise Exception(\"Error: Are the proton pt vaules equal?\")\n",
    "                    \n",
    "len(remove_lambda)"
   ]
  },
  {
   "cell_type": "code",
   "execution_count": 24,
   "id": "b7707166-22b5-4f12-8dab-4bcf29a62005",
   "metadata": {},
   "outputs": [],
   "source": [
    "#takes tuples of shape (2,) / (index, column)\n",
    "def remove_particles_from_df(df, tuple_list):\n",
    "    for tup in tuple_list:\n",
    "        index, column = tup\n",
    "        print(index, column)\n",
    "        \n",
    "        new_df = df.copy()\n",
    "        for i in range(len(DMesons_df.iloc[index, 0][column]) + 1):\n",
    "            #new_df[\"DMesons_daughterInfo__pt\"] = new_df[\"DMesons_daughterInfo__pt\"].apply(lambda x: print(x))\n",
    "            val = new_df.iloc[index, i][column]\n",
    "            print(val)\n",
    "    df = df.drop(index, axis = 0)\n",
    "    return df\n",
    "#df = remove_particles_from_df(DMesons_df, remove_lambda)\n",
    "\n",
    "#for now just remove the rows\n",
    "indices = [i for i, x in enumerate(DMesons_df2[DMesons_df2.columns[0]]) if len(x) > 2]\n",
    "DMesons_df2 = DMesons_df2.drop(indices)\n",
    "DMesons_df2 = DMesons_df2.reset_index(drop=True)\n",
    "DMesons_df2[\"DMesons_daughterInfo__pt\"] = DMesons_df2[\"DMesons_daughterInfo__pt\"].apply(divide_by_1000)\n",
    "DMesons_df2\n",
    "\n",
    "pd.set_option('display.max_rows', 10)\n",
    "# pd.set_option('display.max_columns', None)\n",
    "\n",
    "# print(\"-----------------\")\n",
    "# print(DMesons_df.iloc[32, 0][2])\n",
    "# print(DMesons_df.iloc[32, 1][2])\n",
    "# print(DMesons_df.iloc[32, 2][2])\n",
    "# print(DMesons_df.iloc[32, 3][2])"
   ]
  },
  {
   "cell_type": "code",
   "execution_count": 5,
   "id": "4f0ce083-7006-4ea6-aea4-332e607fa37b",
   "metadata": {},
   "outputs": [
    {
     "name": "stderr",
     "output_type": "stream",
     "text": [
      "/tmp/ipykernel_30552/2689228095.py:13: DeprecationWarning: In a future version, `df.iloc[:, i] = newvals` will attempt to set the values inplace instead of always setting a new array. To retain the old behavior, use either `df[df.columns[i]] = newvals` or, if columns are non-unique, `df.isetitem(i, newvals)`\n",
      "  new_df.loc[:, 'DMesons_pt'] = new_df['DMesons_pt'].apply(lambda x: float(x[0]))\n",
      "/tmp/ipykernel_30552/2689228095.py:14: DeprecationWarning: In a future version, `df.iloc[:, i] = newvals` will attempt to set the values inplace instead of always setting a new array. To retain the old behavior, use either `df[df.columns[i]] = newvals` or, if columns are non-unique, `df.isetitem(i, newvals)`\n",
      "  new_df.loc[:, 'DMesons_eta'] = new_df['DMesons_eta'].apply(lambda x: float(x[0]))\n",
      "/tmp/ipykernel_30552/2689228095.py:15: DeprecationWarning: In a future version, `df.iloc[:, i] = newvals` will attempt to set the values inplace instead of always setting a new array. To retain the old behavior, use either `df[df.columns[i]] = newvals` or, if columns are non-unique, `df.isetitem(i, newvals)`\n",
      "  new_df.loc[:, 'DMesons_m'] = new_df['DMesons_m'].apply(lambda x: float(x[0]))\n",
      "/tmp/ipykernel_30552/2689228095.py:16: DeprecationWarning: In a future version, `df.iloc[:, i] = newvals` will attempt to set the values inplace instead of always setting a new array. To retain the old behavior, use either `df[df.columns[i]] = newvals` or, if columns are non-unique, `df.isetitem(i, newvals)`\n",
      "  new_df.loc[:, 'DMesons_fitOutput__Lxy'] = new_df['DMesons_fitOutput__Lxy'].apply(lambda x: float(x[0]))\n",
      "/tmp/ipykernel_30552/2689228095.py:17: DeprecationWarning: In a future version, `df.iloc[:, i] = newvals` will attempt to set the values inplace instead of always setting a new array. To retain the old behavior, use either `df[df.columns[i]] = newvals` or, if columns are non-unique, `df.isetitem(i, newvals)`\n",
      "  new_df.loc[:, 'DMesons_costhetastar'] = new_df['DMesons_costhetastar'].apply(lambda x: float(x[0]))\n",
      "/tmp/ipykernel_30552/2689228095.py:18: DeprecationWarning: In a future version, `df.iloc[:, i] = newvals` will attempt to set the values inplace instead of always setting a new array. To retain the old behavior, use either `df[df.columns[i]] = newvals` or, if columns are non-unique, `df.isetitem(i, newvals)`\n",
      "  new_df.loc[:, 'DMesons_pdgId'] = new_df['DMesons_pdgId'].apply(lambda x: int(x[0]))\n"
     ]
    },
    {
     "data": {
      "text/html": [
       "<div>\n",
       "<style scoped>\n",
       "    .dataframe tbody tr th:only-of-type {\n",
       "        vertical-align: middle;\n",
       "    }\n",
       "\n",
       "    .dataframe tbody tr th {\n",
       "        vertical-align: top;\n",
       "    }\n",
       "\n",
       "    .dataframe thead th {\n",
       "        text-align: right;\n",
       "    }\n",
       "</style>\n",
       "<table border=\"1\" class=\"dataframe\">\n",
       "  <thead>\n",
       "    <tr style=\"text-align: right;\">\n",
       "      <th></th>\n",
       "      <th>DMesons_pt</th>\n",
       "      <th>DMesons_eta</th>\n",
       "      <th>DMesons_m</th>\n",
       "      <th>DMesons_fitOutput__Lxy</th>\n",
       "      <th>DMesons_costhetastar</th>\n",
       "      <th>DMesons_pdgId</th>\n",
       "    </tr>\n",
       "  </thead>\n",
       "  <tbody>\n",
       "    <tr>\n",
       "      <th>0</th>\n",
       "      <td>10.047125</td>\n",
       "      <td>0.081824</td>\n",
       "      <td>1862.417603</td>\n",
       "      <td>2.339530</td>\n",
       "      <td>0.254870</td>\n",
       "      <td>411</td>\n",
       "    </tr>\n",
       "    <tr>\n",
       "      <th>1</th>\n",
       "      <td>36.128836</td>\n",
       "      <td>0.659816</td>\n",
       "      <td>2235.698730</td>\n",
       "      <td>0.358412</td>\n",
       "      <td>0.190362</td>\n",
       "      <td>4122</td>\n",
       "    </tr>\n",
       "    <tr>\n",
       "      <th>2</th>\n",
       "      <td>14.835231</td>\n",
       "      <td>-0.928085</td>\n",
       "      <td>1867.131470</td>\n",
       "      <td>2.899070</td>\n",
       "      <td>0.684572</td>\n",
       "      <td>411</td>\n",
       "    </tr>\n",
       "    <tr>\n",
       "      <th>3</th>\n",
       "      <td>8.800141</td>\n",
       "      <td>-1.486876</td>\n",
       "      <td>2174.800781</td>\n",
       "      <td>0.246351</td>\n",
       "      <td>-0.737246</td>\n",
       "      <td>4122</td>\n",
       "    </tr>\n",
       "    <tr>\n",
       "      <th>4</th>\n",
       "      <td>30.092365</td>\n",
       "      <td>0.434246</td>\n",
       "      <td>2306.049072</td>\n",
       "      <td>7.426617</td>\n",
       "      <td>-0.937342</td>\n",
       "      <td>4122</td>\n",
       "    </tr>\n",
       "    <tr>\n",
       "      <th>...</th>\n",
       "      <td>...</td>\n",
       "      <td>...</td>\n",
       "      <td>...</td>\n",
       "      <td>...</td>\n",
       "      <td>...</td>\n",
       "      <td>...</td>\n",
       "    </tr>\n",
       "    <tr>\n",
       "      <th>2515990</th>\n",
       "      <td>24.477744</td>\n",
       "      <td>-0.272090</td>\n",
       "      <td>1882.772461</td>\n",
       "      <td>3.593372</td>\n",
       "      <td>0.539289</td>\n",
       "      <td>411</td>\n",
       "    </tr>\n",
       "    <tr>\n",
       "      <th>2515991</th>\n",
       "      <td>14.971446</td>\n",
       "      <td>-1.956944</td>\n",
       "      <td>1835.712280</td>\n",
       "      <td>2.374407</td>\n",
       "      <td>0.863583</td>\n",
       "      <td>411</td>\n",
       "    </tr>\n",
       "    <tr>\n",
       "      <th>2515992</th>\n",
       "      <td>12.734207</td>\n",
       "      <td>-0.039695</td>\n",
       "      <td>1867.319092</td>\n",
       "      <td>5.151422</td>\n",
       "      <td>0.461929</td>\n",
       "      <td>411</td>\n",
       "    </tr>\n",
       "    <tr>\n",
       "      <th>2515993</th>\n",
       "      <td>17.960000</td>\n",
       "      <td>-0.626456</td>\n",
       "      <td>1865.604370</td>\n",
       "      <td>5.878625</td>\n",
       "      <td>0.452780</td>\n",
       "      <td>411</td>\n",
       "    </tr>\n",
       "    <tr>\n",
       "      <th>2515994</th>\n",
       "      <td>39.381430</td>\n",
       "      <td>1.550356</td>\n",
       "      <td>2210.866699</td>\n",
       "      <td>0.170655</td>\n",
       "      <td>-0.332907</td>\n",
       "      <td>4122</td>\n",
       "    </tr>\n",
       "  </tbody>\n",
       "</table>\n",
       "<p>2515995 rows × 6 columns</p>\n",
       "</div>"
      ],
      "text/plain": [
       "         DMesons_pt  DMesons_eta    DMesons_m  DMesons_fitOutput__Lxy  \\\n",
       "0         10.047125     0.081824  1862.417603                2.339530   \n",
       "1         36.128836     0.659816  2235.698730                0.358412   \n",
       "2         14.835231    -0.928085  1867.131470                2.899070   \n",
       "3          8.800141    -1.486876  2174.800781                0.246351   \n",
       "4         30.092365     0.434246  2306.049072                7.426617   \n",
       "...             ...          ...          ...                     ...   \n",
       "2515990   24.477744    -0.272090  1882.772461                3.593372   \n",
       "2515991   14.971446    -1.956944  1835.712280                2.374407   \n",
       "2515992   12.734207    -0.039695  1867.319092                5.151422   \n",
       "2515993   17.960000    -0.626456  1865.604370                5.878625   \n",
       "2515994   39.381430     1.550356  2210.866699                0.170655   \n",
       "\n",
       "         DMesons_costhetastar  DMesons_pdgId  \n",
       "0                    0.254870            411  \n",
       "1                    0.190362           4122  \n",
       "2                    0.684572            411  \n",
       "3                   -0.737246           4122  \n",
       "4                   -0.937342           4122  \n",
       "...                       ...            ...  \n",
       "2515990              0.539289            411  \n",
       "2515991              0.863583            411  \n",
       "2515992              0.461929            411  \n",
       "2515993              0.452780            411  \n",
       "2515994             -0.332907           4122  \n",
       "\n",
       "[2515995 rows x 6 columns]"
      ]
     },
     "execution_count": 5,
     "metadata": {},
     "output_type": "execute_result"
    }
   ],
   "source": [
    "# create a new column 'particle_type' based on the pdgId column\n",
    "func = lambda x: 'only_411' if x == [411] else ('only_4122' if x == [4122] else 'both')\n",
    "DMesons_df['particle_type'] = DMesons_df['DMesons_pdgId'].apply(func)\n",
    "\n",
    "# separate the rows based on the new column\n",
    "only_411 = DMesons_df[DMesons_df['particle_type'] == 'only_411']\n",
    "only_4122 = DMesons_df[DMesons_df['particle_type'] == 'only_4122']\n",
    "both = DMesons_df[DMesons_df['particle_type'] == 'both']\n",
    "\n",
    "new_df = DMesons_df[DMesons_df['particle_type'] != 'both']\n",
    "new_df = new_df.reset_index(drop=True)\n",
    "\n",
    "new_df.loc[:, 'DMesons_pt'] = new_df['DMesons_pt'].apply(lambda x: float(x[0]))\n",
    "new_df.loc[:, 'DMesons_eta'] = new_df['DMesons_eta'].apply(lambda x: float(x[0]))\n",
    "new_df.loc[:, 'DMesons_m'] = new_df['DMesons_m'].apply(lambda x: float(x[0]))\n",
    "new_df.loc[:, 'DMesons_fitOutput__Lxy'] = new_df['DMesons_fitOutput__Lxy'].apply(lambda x: float(x[0]))\n",
    "new_df.loc[:, 'DMesons_costhetastar'] = new_df['DMesons_costhetastar'].apply(lambda x: float(x[0]))\n",
    "new_df.loc[:, 'DMesons_pdgId'] = new_df['DMesons_pdgId'].apply(lambda x: int(x[0]))\n",
    "new_df = new_df.drop('particle_type', axis=1)\n",
    "new_df"
   ]
  },
  {
   "cell_type": "code",
   "execution_count": 6,
   "id": "f65320d5-2bb2-4d77-a9ba-88a397e7b528",
   "metadata": {},
   "outputs": [
    {
     "name": "stdout",
     "output_type": "stream",
     "text": [
      "1566666 949329\n"
     ]
    }
   ],
   "source": [
    "D = 0\n",
    "Lambda = 0\n",
    "for pdgId in new_df[\"DMesons_pdgId\"]:\n",
    "    if pdgId == 411:\n",
    "        D+=1\n",
    "    elif pdgId == 4122:\n",
    "        Lambda+=1\n",
    "print(D, Lambda)"
   ]
  },
  {
   "cell_type": "code",
   "execution_count": 7,
   "id": "b3f33e82-58e3-4420-81af-d4b5118760dc",
   "metadata": {},
   "outputs": [
    {
     "name": "stderr",
     "output_type": "stream",
     "text": [
      "/tmp/ipykernel_30552/3838657620.py:2: DeprecationWarning: In a future version, `df.iloc[:, i] = newvals` will attempt to set the values inplace instead of always setting a new array. To retain the old behavior, use either `df[df.columns[i]] = newvals` or, if columns are non-unique, `df.isetitem(i, newvals)`\n",
      "  only_411.loc[:, 'DMesons_pt'] = only_411['DMesons_pt'].apply(lambda x: float(x[0]))\n",
      "/tmp/ipykernel_30552/3838657620.py:3: DeprecationWarning: In a future version, `df.iloc[:, i] = newvals` will attempt to set the values inplace instead of always setting a new array. To retain the old behavior, use either `df[df.columns[i]] = newvals` or, if columns are non-unique, `df.isetitem(i, newvals)`\n",
      "  only_411.loc[:, 'DMesons_eta'] = only_411['DMesons_eta'].apply(lambda x: float(x[0]))\n",
      "/tmp/ipykernel_30552/3838657620.py:4: DeprecationWarning: In a future version, `df.iloc[:, i] = newvals` will attempt to set the values inplace instead of always setting a new array. To retain the old behavior, use either `df[df.columns[i]] = newvals` or, if columns are non-unique, `df.isetitem(i, newvals)`\n",
      "  only_411.loc[:, 'DMesons_m'] = only_411['DMesons_m'].apply(lambda x: float(x[0]))\n",
      "/tmp/ipykernel_30552/3838657620.py:5: DeprecationWarning: In a future version, `df.iloc[:, i] = newvals` will attempt to set the values inplace instead of always setting a new array. To retain the old behavior, use either `df[df.columns[i]] = newvals` or, if columns are non-unique, `df.isetitem(i, newvals)`\n",
      "  only_411.loc[:, 'DMesons_fitOutput__Lxy'] = only_411['DMesons_fitOutput__Lxy'].apply(lambda x: float(x[0]))\n",
      "/tmp/ipykernel_30552/3838657620.py:6: DeprecationWarning: In a future version, `df.iloc[:, i] = newvals` will attempt to set the values inplace instead of always setting a new array. To retain the old behavior, use either `df[df.columns[i]] = newvals` or, if columns are non-unique, `df.isetitem(i, newvals)`\n",
      "  only_411.loc[:, 'DMesons_costhetastar'] = only_411['DMesons_costhetastar'].apply(lambda x: float(x[0]))\n",
      "/tmp/ipykernel_30552/3838657620.py:7: DeprecationWarning: In a future version, `df.iloc[:, i] = newvals` will attempt to set the values inplace instead of always setting a new array. To retain the old behavior, use either `df[df.columns[i]] = newvals` or, if columns are non-unique, `df.isetitem(i, newvals)`\n",
      "  only_411.loc[:, 'DMesons_pdgId'] = only_411['DMesons_pdgId'].apply(lambda x: int(x[0]))\n",
      "/tmp/ipykernel_30552/3838657620.py:11: DeprecationWarning: In a future version, `df.iloc[:, i] = newvals` will attempt to set the values inplace instead of always setting a new array. To retain the old behavior, use either `df[df.columns[i]] = newvals` or, if columns are non-unique, `df.isetitem(i, newvals)`\n",
      "  only_4122.loc[:, 'DMesons_pt'] = only_4122['DMesons_pt'].apply(lambda x: float(x[0]))\n",
      "/tmp/ipykernel_30552/3838657620.py:12: DeprecationWarning: In a future version, `df.iloc[:, i] = newvals` will attempt to set the values inplace instead of always setting a new array. To retain the old behavior, use either `df[df.columns[i]] = newvals` or, if columns are non-unique, `df.isetitem(i, newvals)`\n",
      "  only_4122.loc[:, 'DMesons_eta'] = only_4122['DMesons_eta'].apply(lambda x: float(x[0]))\n",
      "/tmp/ipykernel_30552/3838657620.py:13: DeprecationWarning: In a future version, `df.iloc[:, i] = newvals` will attempt to set the values inplace instead of always setting a new array. To retain the old behavior, use either `df[df.columns[i]] = newvals` or, if columns are non-unique, `df.isetitem(i, newvals)`\n",
      "  only_4122.loc[:, 'DMesons_m'] = only_4122['DMesons_m'].apply(lambda x: float(x[0]))\n",
      "/tmp/ipykernel_30552/3838657620.py:14: DeprecationWarning: In a future version, `df.iloc[:, i] = newvals` will attempt to set the values inplace instead of always setting a new array. To retain the old behavior, use either `df[df.columns[i]] = newvals` or, if columns are non-unique, `df.isetitem(i, newvals)`\n",
      "  only_4122.loc[:, 'DMesons_fitOutput__Lxy'] = only_4122['DMesons_fitOutput__Lxy'].apply(lambda x: float(x[0]))\n",
      "/tmp/ipykernel_30552/3838657620.py:15: DeprecationWarning: In a future version, `df.iloc[:, i] = newvals` will attempt to set the values inplace instead of always setting a new array. To retain the old behavior, use either `df[df.columns[i]] = newvals` or, if columns are non-unique, `df.isetitem(i, newvals)`\n",
      "  only_4122.loc[:, 'DMesons_costhetastar'] = only_4122['DMesons_costhetastar'].apply(lambda x: float(x[0]))\n",
      "/tmp/ipykernel_30552/3838657620.py:16: DeprecationWarning: In a future version, `df.iloc[:, i] = newvals` will attempt to set the values inplace instead of always setting a new array. To retain the old behavior, use either `df[df.columns[i]] = newvals` or, if columns are non-unique, `df.isetitem(i, newvals)`\n",
      "  only_4122.loc[:, 'DMesons_pdgId'] = only_4122['DMesons_pdgId'].apply(lambda x: int(x[0]))\n"
     ]
    },
    {
     "data": {
      "text/html": [
       "<div>\n",
       "<style scoped>\n",
       "    .dataframe tbody tr th:only-of-type {\n",
       "        vertical-align: middle;\n",
       "    }\n",
       "\n",
       "    .dataframe tbody tr th {\n",
       "        vertical-align: top;\n",
       "    }\n",
       "\n",
       "    .dataframe thead th {\n",
       "        text-align: right;\n",
       "    }\n",
       "</style>\n",
       "<table border=\"1\" class=\"dataframe\">\n",
       "  <thead>\n",
       "    <tr style=\"text-align: right;\">\n",
       "      <th></th>\n",
       "      <th>DMesons_pt</th>\n",
       "      <th>DMesons_eta</th>\n",
       "      <th>DMesons_fitOutput__Lxy</th>\n",
       "      <th>DMesons_costhetastar</th>\n",
       "      <th>DMesons_pdgId</th>\n",
       "    </tr>\n",
       "  </thead>\n",
       "  <tbody>\n",
       "    <tr>\n",
       "      <th>0</th>\n",
       "      <td>10.047125</td>\n",
       "      <td>0.081824</td>\n",
       "      <td>2.339530</td>\n",
       "      <td>0.254870</td>\n",
       "      <td>411</td>\n",
       "    </tr>\n",
       "    <tr>\n",
       "      <th>1</th>\n",
       "      <td>14.835231</td>\n",
       "      <td>-0.928085</td>\n",
       "      <td>2.899070</td>\n",
       "      <td>0.684572</td>\n",
       "      <td>411</td>\n",
       "    </tr>\n",
       "    <tr>\n",
       "      <th>2</th>\n",
       "      <td>9.691489</td>\n",
       "      <td>1.568715</td>\n",
       "      <td>1.241371</td>\n",
       "      <td>0.439036</td>\n",
       "      <td>411</td>\n",
       "    </tr>\n",
       "    <tr>\n",
       "      <th>3</th>\n",
       "      <td>28.525160</td>\n",
       "      <td>-1.046752</td>\n",
       "      <td>1.982312</td>\n",
       "      <td>0.528804</td>\n",
       "      <td>411</td>\n",
       "    </tr>\n",
       "    <tr>\n",
       "      <th>4</th>\n",
       "      <td>40.980965</td>\n",
       "      <td>-2.036715</td>\n",
       "      <td>4.664388</td>\n",
       "      <td>0.302332</td>\n",
       "      <td>411</td>\n",
       "    </tr>\n",
       "    <tr>\n",
       "      <th>...</th>\n",
       "      <td>...</td>\n",
       "      <td>...</td>\n",
       "      <td>...</td>\n",
       "      <td>...</td>\n",
       "      <td>...</td>\n",
       "    </tr>\n",
       "    <tr>\n",
       "      <th>1566661</th>\n",
       "      <td>23.254861</td>\n",
       "      <td>-0.435785</td>\n",
       "      <td>1.341532</td>\n",
       "      <td>0.385443</td>\n",
       "      <td>411</td>\n",
       "    </tr>\n",
       "    <tr>\n",
       "      <th>1566662</th>\n",
       "      <td>24.477744</td>\n",
       "      <td>-0.272090</td>\n",
       "      <td>3.593372</td>\n",
       "      <td>0.539289</td>\n",
       "      <td>411</td>\n",
       "    </tr>\n",
       "    <tr>\n",
       "      <th>1566663</th>\n",
       "      <td>14.971446</td>\n",
       "      <td>-1.956944</td>\n",
       "      <td>2.374407</td>\n",
       "      <td>0.863583</td>\n",
       "      <td>411</td>\n",
       "    </tr>\n",
       "    <tr>\n",
       "      <th>1566664</th>\n",
       "      <td>12.734207</td>\n",
       "      <td>-0.039695</td>\n",
       "      <td>5.151422</td>\n",
       "      <td>0.461929</td>\n",
       "      <td>411</td>\n",
       "    </tr>\n",
       "    <tr>\n",
       "      <th>1566665</th>\n",
       "      <td>17.960000</td>\n",
       "      <td>-0.626456</td>\n",
       "      <td>5.878625</td>\n",
       "      <td>0.452780</td>\n",
       "      <td>411</td>\n",
       "    </tr>\n",
       "  </tbody>\n",
       "</table>\n",
       "<p>1566666 rows × 5 columns</p>\n",
       "</div>"
      ],
      "text/plain": [
       "         DMesons_pt  DMesons_eta  DMesons_fitOutput__Lxy  \\\n",
       "0         10.047125     0.081824                2.339530   \n",
       "1         14.835231    -0.928085                2.899070   \n",
       "2          9.691489     1.568715                1.241371   \n",
       "3         28.525160    -1.046752                1.982312   \n",
       "4         40.980965    -2.036715                4.664388   \n",
       "...             ...          ...                     ...   \n",
       "1566661   23.254861    -0.435785                1.341532   \n",
       "1566662   24.477744    -0.272090                3.593372   \n",
       "1566663   14.971446    -1.956944                2.374407   \n",
       "1566664   12.734207    -0.039695                5.151422   \n",
       "1566665   17.960000    -0.626456                5.878625   \n",
       "\n",
       "         DMesons_costhetastar  DMesons_pdgId  \n",
       "0                    0.254870            411  \n",
       "1                    0.684572            411  \n",
       "2                    0.439036            411  \n",
       "3                    0.528804            411  \n",
       "4                    0.302332            411  \n",
       "...                       ...            ...  \n",
       "1566661              0.385443            411  \n",
       "1566662              0.539289            411  \n",
       "1566663              0.863583            411  \n",
       "1566664              0.461929            411  \n",
       "1566665              0.452780            411  \n",
       "\n",
       "[1566666 rows x 5 columns]"
      ]
     },
     "execution_count": 7,
     "metadata": {},
     "output_type": "execute_result"
    }
   ],
   "source": [
    "only_411 = only_411.reset_index(drop=True)\n",
    "only_411.loc[:, 'DMesons_pt'] = only_411['DMesons_pt'].apply(lambda x: float(x[0]))\n",
    "only_411.loc[:, 'DMesons_eta'] = only_411['DMesons_eta'].apply(lambda x: float(x[0]))\n",
    "only_411.loc[:, 'DMesons_m'] = only_411['DMesons_m'].apply(lambda x: float(x[0]))\n",
    "only_411.loc[:, 'DMesons_fitOutput__Lxy'] = only_411['DMesons_fitOutput__Lxy'].apply(lambda x: float(x[0]))\n",
    "only_411.loc[:, 'DMesons_costhetastar'] = only_411['DMesons_costhetastar'].apply(lambda x: float(x[0]))\n",
    "only_411.loc[:, 'DMesons_pdgId'] = only_411['DMesons_pdgId'].apply(lambda x: int(x[0]))\n",
    "only_411 = only_411.drop('particle_type', axis=1)\n",
    "\n",
    "only_4122 = only_4122.reset_index(drop=True)\n",
    "only_4122.loc[:, 'DMesons_pt'] = only_4122['DMesons_pt'].apply(lambda x: float(x[0]))\n",
    "only_4122.loc[:, 'DMesons_eta'] = only_4122['DMesons_eta'].apply(lambda x: float(x[0]))\n",
    "only_4122.loc[:, 'DMesons_m'] = only_4122['DMesons_m'].apply(lambda x: float(x[0]))\n",
    "only_4122.loc[:, 'DMesons_fitOutput__Lxy'] = only_4122['DMesons_fitOutput__Lxy'].apply(lambda x: float(x[0]))\n",
    "only_4122.loc[:, 'DMesons_costhetastar'] = only_4122['DMesons_costhetastar'].apply(lambda x: float(x[0]))\n",
    "only_4122.loc[:, 'DMesons_pdgId'] = only_4122['DMesons_pdgId'].apply(lambda x: int(x[0]))\n",
    "only_4122 = only_4122.drop('particle_type', axis=1)\n",
    "\n",
    "new_df = new_df.drop('DMesons_m', axis=1)\n",
    "only_411 = only_411.drop('DMesons_m', axis=1)\n",
    "only_4122 = only_4122.drop('DMesons_m', axis=1)\n",
    "\n",
    "only_411"
   ]
  },
  {
   "cell_type": "code",
   "execution_count": 8,
   "id": "38d6fa12-d36d-445b-b647-5d33161b88a4",
   "metadata": {},
   "outputs": [],
   "source": [
    "#D and Lambda\n",
    "new_df['DMesons_pdgId'] = new_df['DMesons_pdgId'].replace({411: 0, 4122: 1})\n",
    "X_train, X_test, y_train, y_test = train_test_split(new_df[['DMesons_pt','DMesons_eta', 'DMesons_fitOutput__Lxy', 'DMesons_costhetastar']], new_df['DMesons_pdgId'], test_size=0.2, random_state=42)\n",
    "\n",
    "#only DMesons\n",
    "only_411['DMesons_pdgId'] = only_411['DMesons_pdgId'].replace({411: 0, 4122: 1})\n",
    "X_train1, X_test1, y_train1, y_test1 = train_test_split(only_411[['DMesons_pt', 'DMesons_eta', 'DMesons_fitOutput__Lxy', 'DMesons_costhetastar']], only_411['DMesons_pdgId'], test_size=0.2, random_state=42)\n",
    "\n",
    "#only Lambda\n",
    "only_4122['DMesons_pdgId'] = only_4122['DMesons_pdgId'].replace({411: 0, 4122: 1})\n",
    "X_train2, X_test2, y_train2, y_test2 = train_test_split(only_4122[['DMesons_pt', 'DMesons_eta', 'DMesons_fitOutput__Lxy', 'DMesons_costhetastar']], only_4122['DMesons_pdgId'], test_size=0.2, random_state=42)"
   ]
  },
  {
   "cell_type": "code",
   "execution_count": 9,
   "id": "c16f1337-d124-4531-b770-014fb6bca4d8",
   "metadata": {},
   "outputs": [
    {
     "name": "stdout",
     "output_type": "stream",
     "text": [
      "(2012796, 4) (503199, 4)\n"
     ]
    },
    {
     "data": {
      "text/html": [
       "<div>\n",
       "<style scoped>\n",
       "    .dataframe tbody tr th:only-of-type {\n",
       "        vertical-align: middle;\n",
       "    }\n",
       "\n",
       "    .dataframe tbody tr th {\n",
       "        vertical-align: top;\n",
       "    }\n",
       "\n",
       "    .dataframe thead th {\n",
       "        text-align: right;\n",
       "    }\n",
       "</style>\n",
       "<table border=\"1\" class=\"dataframe\">\n",
       "  <thead>\n",
       "    <tr style=\"text-align: right;\">\n",
       "      <th></th>\n",
       "      <th>DMesons_pt</th>\n",
       "      <th>DMesons_eta</th>\n",
       "      <th>DMesons_fitOutput__Lxy</th>\n",
       "      <th>DMesons_costhetastar</th>\n",
       "    </tr>\n",
       "  </thead>\n",
       "  <tbody>\n",
       "    <tr>\n",
       "      <th>1770788</th>\n",
       "      <td>9.837925</td>\n",
       "      <td>-0.805652</td>\n",
       "      <td>1.641304</td>\n",
       "      <td>0.970467</td>\n",
       "    </tr>\n",
       "    <tr>\n",
       "      <th>2233641</th>\n",
       "      <td>13.181294</td>\n",
       "      <td>-0.669969</td>\n",
       "      <td>0.592829</td>\n",
       "      <td>0.848776</td>\n",
       "    </tr>\n",
       "    <tr>\n",
       "      <th>1882175</th>\n",
       "      <td>31.453314</td>\n",
       "      <td>1.931551</td>\n",
       "      <td>0.475234</td>\n",
       "      <td>0.088490</td>\n",
       "    </tr>\n",
       "    <tr>\n",
       "      <th>77176</th>\n",
       "      <td>9.108838</td>\n",
       "      <td>1.001920</td>\n",
       "      <td>1.919612</td>\n",
       "      <td>0.283070</td>\n",
       "    </tr>\n",
       "    <tr>\n",
       "      <th>2042686</th>\n",
       "      <td>11.343927</td>\n",
       "      <td>-0.151999</td>\n",
       "      <td>1.514526</td>\n",
       "      <td>0.846359</td>\n",
       "    </tr>\n",
       "    <tr>\n",
       "      <th>...</th>\n",
       "      <td>...</td>\n",
       "      <td>...</td>\n",
       "      <td>...</td>\n",
       "      <td>...</td>\n",
       "    </tr>\n",
       "    <tr>\n",
       "      <th>110268</th>\n",
       "      <td>9.626153</td>\n",
       "      <td>0.591553</td>\n",
       "      <td>0.014535</td>\n",
       "      <td>-0.180268</td>\n",
       "    </tr>\n",
       "    <tr>\n",
       "      <th>1692743</th>\n",
       "      <td>19.623363</td>\n",
       "      <td>0.220184</td>\n",
       "      <td>1.021144</td>\n",
       "      <td>0.526883</td>\n",
       "    </tr>\n",
       "    <tr>\n",
       "      <th>2356330</th>\n",
       "      <td>51.873598</td>\n",
       "      <td>0.269165</td>\n",
       "      <td>13.006821</td>\n",
       "      <td>0.966141</td>\n",
       "    </tr>\n",
       "    <tr>\n",
       "      <th>2229084</th>\n",
       "      <td>15.061853</td>\n",
       "      <td>-0.676069</td>\n",
       "      <td>2.240869</td>\n",
       "      <td>0.664589</td>\n",
       "    </tr>\n",
       "    <tr>\n",
       "      <th>2219110</th>\n",
       "      <td>30.089119</td>\n",
       "      <td>-0.746541</td>\n",
       "      <td>0.202633</td>\n",
       "      <td>-0.973898</td>\n",
       "    </tr>\n",
       "  </tbody>\n",
       "</table>\n",
       "<p>2012796 rows × 4 columns</p>\n",
       "</div>"
      ],
      "text/plain": [
       "         DMesons_pt  DMesons_eta  DMesons_fitOutput__Lxy  DMesons_costhetastar\n",
       "1770788    9.837925    -0.805652                1.641304              0.970467\n",
       "2233641   13.181294    -0.669969                0.592829              0.848776\n",
       "1882175   31.453314     1.931551                0.475234              0.088490\n",
       "77176      9.108838     1.001920                1.919612              0.283070\n",
       "2042686   11.343927    -0.151999                1.514526              0.846359\n",
       "...             ...          ...                     ...                   ...\n",
       "110268     9.626153     0.591553                0.014535             -0.180268\n",
       "1692743   19.623363     0.220184                1.021144              0.526883\n",
       "2356330   51.873598     0.269165               13.006821              0.966141\n",
       "2229084   15.061853    -0.676069                2.240869              0.664589\n",
       "2219110   30.089119    -0.746541                0.202633             -0.973898\n",
       "\n",
       "[2012796 rows x 4 columns]"
      ]
     },
     "execution_count": 9,
     "metadata": {},
     "output_type": "execute_result"
    }
   ],
   "source": [
    "print(np.shape(X_train), np.shape(X_test))\n",
    "\n",
    "X_train"
   ]
  },
  {
   "cell_type": "code",
   "execution_count": 13,
   "id": "fcf54a43-c422-43cf-840a-28e0b1d96c4c",
   "metadata": {},
   "outputs": [],
   "source": [
    "# Write to disk\n",
    "# with open('DMesons_ready.pickle', 'wb') as f:\n",
    "#     pickle.dump(new_df, f)\n",
    "\n",
    "# with open('only_411.pickle', 'wb') as f:\n",
    "#     pickle.dump(only_411, f)\n",
    "    \n",
    "# with open('only_4122.pickle', 'wb') as f:\n",
    "#     pickle.dump(only_4122, f)"
   ]
  },
  {
   "cell_type": "code",
   "execution_count": 68,
   "id": "fad4cd8c-8021-40e9-9d53-23cb5913cda5",
   "metadata": {},
   "outputs": [],
   "source": [
    "# Read\n",
    "with open('pickled/DMesons_ready.pickle', 'rb') as f:\n",
    "    DMesons_ready = pickle.load(f)\n",
    "\n",
    "with open('pickled/only_411.pickle', 'rb') as f:\n",
    "    only_411 = pickle.load(f)\n",
    "    \n",
    "with open('pickled/only_4122.pickle', 'rb') as f:\n",
    "    only_4122 = pickle.load(f)"
   ]
  },
  {
   "cell_type": "code",
   "execution_count": 13,
   "id": "b4f81a2c-2193-403b-81bf-ca83822dc278",
   "metadata": {},
   "outputs": [],
   "source": [
    "# plt.figure()\n",
    "# plt.title(\"Pt)\"\n",
    "# hists = plt.hist(X_train1[\"DMesons_pt\"], bins = 100, label = \"background\")\n",
    "# hists = plt.hist(X_train2[\"DMesons_pt\"], bins = 100, label = \"signal\")\n",
    "# plt.legend()\n",
    "# plt.show()\n",
    "\n",
    "# plt.figure()\n",
    "# plt.title(\"Lxy)\"\n",
    "# hists1 = plt.hist(X_train1[\"DMesons_fitOutput__Lxy\"], bins = 100, label = \"background\")\n",
    "# hists1 = plt.hist(X_train2[\"DMesons_fitOutput__Lxy\"], bins = 100, label = \"signal\")\n",
    "# plt.legend()\n",
    "# plt.show()\n",
    "\n",
    "# plt.figure()\n",
    "# plt.title(\"costhetastar\")\n",
    "# hists2 = plt.hist(X_train1[\"DMesons_costhetastar\"], bins = 100, label = \"background\")\n",
    "# hists2 = plt.hist(X_train2[\"DMesons_costhetastar\"], bins = 100, label = \"signal\")\n",
    "# plt.legend()\n",
    "# plt.show()"
   ]
  },
  {
   "cell_type": "code",
   "execution_count": 77,
   "id": "3797f144-19c6-43ca-afac-c9917f73fddd",
   "metadata": {},
   "outputs": [
    {
     "data": {
      "text/html": [
       "Finishing last run (ID:gzpuva6j) before initializing another..."
      ],
      "text/plain": [
       "<IPython.core.display.HTML object>"
      ]
     },
     "metadata": {},
     "output_type": "display_data"
    },
    {
     "data": {
      "text/html": [
       "Waiting for W&B process to finish... <strong style=\"color:green\">(success).</strong>"
      ],
      "text/plain": [
       "<IPython.core.display.HTML object>"
      ]
     },
     "metadata": {},
     "output_type": "display_data"
    },
    {
     "data": {
      "text/html": [
       "<style>\n",
       "    table.wandb td:nth-child(1) { padding: 0 10px; text-align: left ; width: auto;} td:nth-child(2) {text-align: left ; width: 100%}\n",
       "    .wandb-row { display: flex; flex-direction: row; flex-wrap: wrap; justify-content: flex-start; width: 100% }\n",
       "    .wandb-col { display: flex; flex-direction: column; flex-basis: 100%; flex: 1; padding: 10px; }\n",
       "    </style>\n",
       "<div class=\"wandb-row\"><div class=\"wandb-col\"><h3>Run history:</h3><br/><table class=\"wandb\"><tr><td>epoch</td><td>▁▂▃▅▆▇█</td></tr><tr><td>loss</td><td>█▂▂▂▁▁▁</td></tr><tr><td>val_loss</td><td>▆█▇▄▁▃▄</td></tr></table><br/></div><div class=\"wandb-col\"><h3>Run summary:</h3><br/><table class=\"wandb\"><tr><td>best_epoch</td><td>4</td></tr><tr><td>best_val_loss</td><td>0.16152</td></tr><tr><td>epoch</td><td>6</td></tr><tr><td>loss</td><td>0.17664</td></tr><tr><td>val_loss</td><td>0.16496</td></tr></table><br/></div></div>"
      ],
      "text/plain": [
       "<IPython.core.display.HTML object>"
      ]
     },
     "metadata": {},
     "output_type": "display_data"
    },
    {
     "data": {
      "text/html": [
       " View run <strong style=\"color:#cdcd00\">xindi-holosuite-17</strong> at: <a href='https://wandb.ai/atlasdnn/ATLAS_DNN/runs/gzpuva6j' target=\"_blank\">https://wandb.ai/atlasdnn/ATLAS_DNN/runs/gzpuva6j</a><br/>Synced 6 W&B file(s), 1 media file(s), 15 artifact file(s) and 0 other file(s)"
      ],
      "text/plain": [
       "<IPython.core.display.HTML object>"
      ]
     },
     "metadata": {},
     "output_type": "display_data"
    },
    {
     "data": {
      "text/html": [
       "Find logs at: <code>./wandb/run-20230405_175951-gzpuva6j/logs</code>"
      ],
      "text/plain": [
       "<IPython.core.display.HTML object>"
      ]
     },
     "metadata": {},
     "output_type": "display_data"
    },
    {
     "data": {
      "text/html": [
       "Successfully finished last run (ID:gzpuva6j). Initializing new run:<br/>"
      ],
      "text/plain": [
       "<IPython.core.display.HTML object>"
      ]
     },
     "metadata": {},
     "output_type": "display_data"
    },
    {
     "data": {
      "text/html": [
       "wandb version 0.14.1 is available!  To upgrade, please run:\n",
       " $ pip install wandb --upgrade"
      ],
      "text/plain": [
       "<IPython.core.display.HTML object>"
      ]
     },
     "metadata": {},
     "output_type": "display_data"
    },
    {
     "data": {
      "text/html": [
       "Tracking run with wandb version 0.14.0"
      ],
      "text/plain": [
       "<IPython.core.display.HTML object>"
      ]
     },
     "metadata": {},
     "output_type": "display_data"
    },
    {
     "data": {
      "text/html": [
       "Run data is saved locally in <code>/global/u2/g/gupsingh/ATLAS_DNN/wandb/run-20230405_190835-0bz4n2ac</code>"
      ],
      "text/plain": [
       "<IPython.core.display.HTML object>"
      ]
     },
     "metadata": {},
     "output_type": "display_data"
    },
    {
     "data": {
      "text/html": [
       "Syncing run <strong><a href='https://wandb.ai/atlasdnn/ATLAS_DNN/runs/0bz4n2ac' target=\"_blank\">changeling-dominion-18</a></strong> to <a href='https://wandb.ai/atlasdnn/ATLAS_DNN' target=\"_blank\">Weights & Biases</a> (<a href='https://wandb.me/run' target=\"_blank\">docs</a>)<br/>"
      ],
      "text/plain": [
       "<IPython.core.display.HTML object>"
      ]
     },
     "metadata": {},
     "output_type": "display_data"
    },
    {
     "data": {
      "text/html": [
       " View project at <a href='https://wandb.ai/atlasdnn/ATLAS_DNN' target=\"_blank\">https://wandb.ai/atlasdnn/ATLAS_DNN</a>"
      ],
      "text/plain": [
       "<IPython.core.display.HTML object>"
      ]
     },
     "metadata": {},
     "output_type": "display_data"
    },
    {
     "data": {
      "text/html": [
       " View run at <a href='https://wandb.ai/atlasdnn/ATLAS_DNN/runs/0bz4n2ac' target=\"_blank\">https://wandb.ai/atlasdnn/ATLAS_DNN/runs/0bz4n2ac</a>"
      ],
      "text/plain": [
       "<IPython.core.display.HTML object>"
      ]
     },
     "metadata": {},
     "output_type": "display_data"
    }
   ],
   "source": [
    "wandb.init(\n",
    "    # set the wandb project where this run will be logged\n",
    "    project=\"ATLAS_DNN\",\n",
    "\n",
    "    # track hyperparameters and run metadata with wandb.config\n",
    "    config={\n",
    "        \"layer_1\": 64,\n",
    "        \"activation_1\": \"relu\",\n",
    "        \"dropout\": 0.5,\n",
    "        \"layer_2\": 32,\n",
    "        \"activation_2\": \"relu\",\n",
    "        \"dropout\": 0.5,\n",
    "        \"output_layer\": 1,\n",
    "        \"output_activation\": \"sigmoid\",\n",
    "        \"optimizer\": \"adam\",\n",
    "        \"loss\": \"binary_crossentropy\",\n",
    "        \"metric\": \"accuracy\",\n",
    "        \"epoch\": 50,\n",
    "        \"batch_size\": 32\n",
    "    }\n",
    ")\n",
    "\n",
    "config = wandb.config"
   ]
  },
  {
   "cell_type": "code",
   "execution_count": 78,
   "id": "8691200c-24fe-4a5b-a4c4-29902c91a09e",
   "metadata": {},
   "outputs": [
    {
     "name": "stdout",
     "output_type": "stream",
     "text": [
      "Model: \"my_model_3\"\n",
      "_________________________________________________________________\n",
      " Layer (type)                Output Shape              Param #   \n",
      "=================================================================\n",
      " dense_18 (Dense)            multiple                  320       \n",
      "                                                                 \n",
      " dropout_12 (Dropout)        multiple                  0         \n",
      "                                                                 \n",
      " dense_19 (Dense)            multiple                  2080      \n",
      "                                                                 \n",
      " dropout_13 (Dropout)        multiple                  0         \n",
      "                                                                 \n",
      " dense_20 (Dense)            multiple                  33        \n",
      "                                                                 \n",
      "=================================================================\n",
      "Total params: 2,433\n",
      "Trainable params: 2,433\n",
      "Non-trainable params: 0\n",
      "_________________________________________________________________\n"
     ]
    }
   ],
   "source": [
    "# #model\n",
    "# model = Sequential([\n",
    "#     Dense(3, activation='relu', input_shape=(X_train.shape[1],)),\n",
    "#     Dropout(0.5),\n",
    "#     Dense(2, activation='relu'),\n",
    "#     Dropout(0.5),\n",
    "#     Dense(1, activation='sigmoid')\n",
    "# ])\n",
    "\n",
    "# model.summary()\n",
    "\n",
    "class MyModel(Model):\n",
    "    def __init__(self):\n",
    "        super(MyModel, self).__init__()\n",
    "        \n",
    "        self.dense1 = Dense(64, activation='relu')\n",
    "        self.dropout1 = Dropout(0.5)\n",
    "        \n",
    "        self.dense2 = Dense(32, activation='relu')\n",
    "        self.dropout2 = Dropout(0.5)\n",
    "        \n",
    "        self.dense3 = Dense(1, activation='sigmoid')\n",
    "        \n",
    "    def call(self, x):\n",
    "        x = self.dense1(x)\n",
    "        x = self.dropout1(x)\n",
    "        \n",
    "        x = self.dense2(x)\n",
    "        x = self.dropout2(x)\n",
    "        \n",
    "        x = self.dense3(x)\n",
    "        \n",
    "        return x\n",
    "    \n",
    "model = MyModel()\n",
    "model.build(input_shape=(None, X_train.shape[1]))\n",
    "model.summary()\n"
   ]
  },
  {
   "cell_type": "code",
   "execution_count": 79,
   "id": "9f802f11-45c9-464e-9b90-e7e6deed7bba",
   "metadata": {},
   "outputs": [
    {
     "name": "stdout",
     "output_type": "stream",
     "text": [
      "Epoch 1/50\n",
      "62899/62900 [============================>.] - ETA: 0s - loss: 0.1933"
     ]
    },
    {
     "name": "stderr",
     "output_type": "stream",
     "text": [
      "\u001b[34m\u001b[1mwandb\u001b[0m: \u001b[32m\u001b[41mERROR\u001b[0m Can't save model in the h5py format. The model will be saved as as an W&B Artifact in the 'tf' format.\n",
      "WARNING:absl:Found untraced functions such as _update_step_xla while saving (showing 1 of 1). These functions will not be directly callable after loading.\n"
     ]
    },
    {
     "name": "stdout",
     "output_type": "stream",
     "text": [
      "INFO:tensorflow:Assets written to: /global/u2/g/gupsingh/ATLAS_DNN/wandb/run-20230405_190835-0bz4n2ac/files/model-best/assets\n"
     ]
    },
    {
     "name": "stderr",
     "output_type": "stream",
     "text": [
      "INFO:tensorflow:Assets written to: /global/u2/g/gupsingh/ATLAS_DNN/wandb/run-20230405_190835-0bz4n2ac/files/model-best/assets\n",
      "\u001b[34m\u001b[1mwandb\u001b[0m: Adding directory to artifact (/global/u2/g/gupsingh/ATLAS_DNN/wandb/run-20230405_190835-0bz4n2ac/files/model-best)... Done. 0.0s\n"
     ]
    },
    {
     "name": "stdout",
     "output_type": "stream",
     "text": [
      "62900/62900 [==============================] - 106s 2ms/step - loss: 0.1933 - val_loss: 0.1619\n",
      "Epoch 2/50\n",
      "62867/62900 [============================>.] - ETA: 0s - loss: 0.1713"
     ]
    },
    {
     "name": "stderr",
     "output_type": "stream",
     "text": [
      "\u001b[34m\u001b[1mwandb\u001b[0m: \u001b[32m\u001b[41mERROR\u001b[0m Can't save model in the h5py format. The model will be saved as as an W&B Artifact in the 'tf' format.\n",
      "WARNING:absl:Found untraced functions such as _update_step_xla while saving (showing 1 of 1). These functions will not be directly callable after loading.\n"
     ]
    },
    {
     "name": "stdout",
     "output_type": "stream",
     "text": [
      "INFO:tensorflow:Assets written to: /global/u2/g/gupsingh/ATLAS_DNN/wandb/run-20230405_190835-0bz4n2ac/files/model-best/assets\n"
     ]
    },
    {
     "name": "stderr",
     "output_type": "stream",
     "text": [
      "INFO:tensorflow:Assets written to: /global/u2/g/gupsingh/ATLAS_DNN/wandb/run-20230405_190835-0bz4n2ac/files/model-best/assets\n",
      "\u001b[34m\u001b[1mwandb\u001b[0m: Adding directory to artifact (/global/u2/g/gupsingh/ATLAS_DNN/wandb/run-20230405_190835-0bz4n2ac/files/model-best)... Done. 0.0s\n"
     ]
    },
    {
     "name": "stdout",
     "output_type": "stream",
     "text": [
      "62900/62900 [==============================] - 106s 2ms/step - loss: 0.1713 - val_loss: 0.1589\n",
      "Epoch 3/50\n",
      "62900/62900 [==============================] - 105s 2ms/step - loss: 0.1690 - val_loss: 0.1601\n",
      "Epoch 4/50\n",
      "62900/62900 [==============================] - 105s 2ms/step - loss: 0.1677 - val_loss: 0.1596\n",
      "Epoch 5/50\n",
      "62900/62900 [==============================] - 104s 2ms/step - loss: 0.1664 - val_loss: 0.1592\n",
      "Epoch 5: early stopping\n",
      "15725/15725 [==============================] - 17s 1ms/step - loss: 0.1592\n",
      "Loss: 0.15923777222633362\n"
     ]
    },
    {
     "name": "stderr",
     "output_type": "stream",
     "text": [
      "2023-04-05 19:14:29.498789: I tensorflow/core/common_runtime/executor.cc:1197] [/device:CPU:0] (DEBUG INFO) Executor start aborting (this does not indicate an error and you can ignore this message): INVALID_ARGUMENT: You must feed a value for placeholder tensor 'inputs' with dtype float and shape [?,64]\n",
      "\t [[{{node inputs}}]]\n",
      "2023-04-05 19:14:29.512023: I tensorflow/core/common_runtime/executor.cc:1197] [/device:CPU:0] (DEBUG INFO) Executor start aborting (this does not indicate an error and you can ignore this message): INVALID_ARGUMENT: You must feed a value for placeholder tensor 'inputs' with dtype float and shape [?,32]\n",
      "\t [[{{node inputs}}]]\n",
      "2023-04-05 19:14:29.651355: I tensorflow/core/common_runtime/executor.cc:1197] [/device:CPU:0] (DEBUG INFO) Executor start aborting (this does not indicate an error and you can ignore this message): INVALID_ARGUMENT: You must feed a value for placeholder tensor 'inputs' with dtype float and shape [?,64]\n",
      "\t [[{{node inputs}}]]\n",
      "2023-04-05 19:14:29.683141: I tensorflow/core/common_runtime/executor.cc:1197] [/device:CPU:0] (DEBUG INFO) Executor start aborting (this does not indicate an error and you can ignore this message): INVALID_ARGUMENT: You must feed a value for placeholder tensor 'inputs' with dtype float and shape [?,32]\n",
      "\t [[{{node inputs}}]]\n",
      "2023-04-05 19:16:15.424983: I tensorflow/core/common_runtime/executor.cc:1197] [/device:CPU:0] (DEBUG INFO) Executor start aborting (this does not indicate an error and you can ignore this message): INVALID_ARGUMENT: You must feed a value for placeholder tensor 'inputs' with dtype float and shape [?,64]\n",
      "\t [[{{node inputs}}]]\n",
      "2023-04-05 19:16:15.438758: I tensorflow/core/common_runtime/executor.cc:1197] [/device:CPU:0] (DEBUG INFO) Executor start aborting (this does not indicate an error and you can ignore this message): INVALID_ARGUMENT: You must feed a value for placeholder tensor 'inputs' with dtype float and shape [?,32]\n",
      "\t [[{{node inputs}}]]\n",
      "2023-04-05 19:16:15.578608: I tensorflow/core/common_runtime/executor.cc:1197] [/device:CPU:0] (DEBUG INFO) Executor start aborting (this does not indicate an error and you can ignore this message): INVALID_ARGUMENT: You must feed a value for placeholder tensor 'inputs' with dtype float and shape [?,64]\n",
      "\t [[{{node inputs}}]]\n",
      "2023-04-05 19:16:15.612674: I tensorflow/core/common_runtime/executor.cc:1197] [/device:CPU:0] (DEBUG INFO) Executor start aborting (this does not indicate an error and you can ignore this message): INVALID_ARGUMENT: You must feed a value for placeholder tensor 'inputs' with dtype float and shape [?,32]\n",
      "\t [[{{node inputs}}]]\n"
     ]
    }
   ],
   "source": [
    "#Compile\n",
    "model.compile(optimizer='adam', loss='binary_crossentropy')\n",
    "\n",
    "early_stop = EarlyStopping(monitor='val_loss', patience=3, verbose=1, mode='min')\n",
    "# checkpoint = ModelCheckpoint('model.h5', monitor='val_loss', save_best_only=True, verbose=1)\n",
    "# tensorboard = TensorBoard(log_dir='./logs', histogram_freq=0, write_graph=True, write_images=False)\n",
    "#Train\n",
    "history = model.fit(X_train, y_train, epochs=50, batch_size=32, validation_data=(X_test, y_test), callbacks=[early_stop, WandbCallback(), tf.keras.callbacks.History()])\n",
    "\n",
    "#Evaluate testing set\n",
    "loss = model.evaluate(X_test, y_test)\n",
    "print(\"Loss: {}\".format(loss))"
   ]
  },
  {
   "cell_type": "code",
   "execution_count": 80,
   "id": "c51c2995-8b37-451a-a2a6-e6b0eef781b7",
   "metadata": {},
   "outputs": [
    {
     "data": {
      "text/html": [
       "Waiting for W&B process to finish... <strong style=\"color:green\">(success).</strong>"
      ],
      "text/plain": [
       "<IPython.core.display.HTML object>"
      ]
     },
     "metadata": {},
     "output_type": "display_data"
    },
    {
     "data": {
      "text/html": [
       "<style>\n",
       "    table.wandb td:nth-child(1) { padding: 0 10px; text-align: left ; width: auto;} td:nth-child(2) {text-align: left ; width: 100%}\n",
       "    .wandb-row { display: flex; flex-direction: row; flex-wrap: wrap; justify-content: flex-start; width: 100% }\n",
       "    .wandb-col { display: flex; flex-direction: column; flex-basis: 100%; flex: 1; padding: 10px; }\n",
       "    </style>\n",
       "<div class=\"wandb-row\"><div class=\"wandb-col\"><h3>Run history:</h3><br/><table class=\"wandb\"><tr><td>epoch</td><td>▁▃▅▆█</td></tr><tr><td>loss</td><td>█▂▂▁▁</td></tr><tr><td>val_loss</td><td>█▁▄▃▂</td></tr></table><br/></div><div class=\"wandb-col\"><h3>Run summary:</h3><br/><table class=\"wandb\"><tr><td>best_epoch</td><td>1</td></tr><tr><td>best_val_loss</td><td>0.15888</td></tr><tr><td>epoch</td><td>4</td></tr><tr><td>loss</td><td>0.16641</td></tr><tr><td>val_loss</td><td>0.15924</td></tr></table><br/></div></div>"
      ],
      "text/plain": [
       "<IPython.core.display.HTML object>"
      ]
     },
     "metadata": {},
     "output_type": "display_data"
    },
    {
     "data": {
      "text/html": [
       " View run <strong style=\"color:#cdcd00\">changeling-dominion-18</strong> at: <a href='https://wandb.ai/atlasdnn/ATLAS_DNN/runs/0bz4n2ac' target=\"_blank\">https://wandb.ai/atlasdnn/ATLAS_DNN/runs/0bz4n2ac</a><br/>Synced 6 W&B file(s), 1 media file(s), 10 artifact file(s) and 0 other file(s)"
      ],
      "text/plain": [
       "<IPython.core.display.HTML object>"
      ]
     },
     "metadata": {},
     "output_type": "display_data"
    },
    {
     "data": {
      "text/html": [
       "Find logs at: <code>./wandb/run-20230405_190835-0bz4n2ac/logs</code>"
      ],
      "text/plain": [
       "<IPython.core.display.HTML object>"
      ]
     },
     "metadata": {},
     "output_type": "display_data"
    }
   ],
   "source": [
    "wandb.finish()"
   ]
  },
  {
   "cell_type": "markdown",
   "id": "6762b384-00da-4be7-bdab-658c78b38bd8",
   "metadata": {},
   "source": [
    "------------------------------------------ Finished training, now analyze ------------------------------------------"
   ]
  },
  {
   "cell_type": "code",
   "execution_count": 81,
   "id": "e18b441c-207f-402e-8a4c-b1c8a7f86de0",
   "metadata": {},
   "outputs": [
    {
     "data": {
      "image/png": "[encoded data removed]",
      "text/plain": [
       "<Figure size 640x480 with 1 Axes>"
      ]
     },
     "metadata": {},
     "output_type": "display_data"
    }
   ],
   "source": [
    "# Plot the training and validation loss\n",
    "plt.plot(history.history['loss'])\n",
    "plt.plot(history.history['val_loss'])\n",
    "plt.title('Model Loss')\n",
    "plt.ylabel('Loss')\n",
    "plt.xlabel('Epoch')\n",
    "plt.legend(['Train', 'Validation'], loc='upper right')\n",
    "plt.show()"
   ]
  },
  {
   "cell_type": "code",
   "execution_count": 82,
   "id": "16ec2ba3-002e-489f-a0a4-a087894d71c2",
   "metadata": {},
   "outputs": [
    {
     "name": "stdout",
     "output_type": "stream",
     "text": [
      "15725/15725 [==============================] - 15s 936us/step\n"
     ]
    },
    {
     "data": {
      "text/plain": [
       "array([[1.        ],\n",
       "       [0.93646634],\n",
       "       [1.        ],\n",
       "       [0.04256065],\n",
       "       [1.        ],\n",
       "       [0.08875079],\n",
       "       [0.08767112],\n",
       "       [0.09558577],\n",
       "       [0.17404631],\n",
       "       [1.        ]], dtype=float32)"
      ]
     },
     "execution_count": 82,
     "metadata": {},
     "output_type": "execute_result"
    }
   ],
   "source": [
    "predictions = model.predict(X_test)\n",
    "predictions[:10]"
   ]
  },
  {
   "cell_type": "code",
   "execution_count": 83,
   "id": "4a31e0ad-5770-42c8-a6b1-6f93a797adc6",
   "metadata": {},
   "outputs": [
    {
     "name": "stdout",
     "output_type": "stream",
     "text": [
      "9792/9792 [==============================] - 10s 976us/step\n"
     ]
    },
    {
     "data": {
      "text/plain": [
       "array([[0.04406937],\n",
       "       [0.0841182 ],\n",
       "       [0.04256065],\n",
       "       [0.04256065],\n",
       "       [0.04256065],\n",
       "       [0.0428603 ],\n",
       "       [0.04256065],\n",
       "       [0.04256065],\n",
       "       [0.04840473],\n",
       "       [0.08463758]], dtype=float32)"
      ]
     },
     "execution_count": 83,
     "metadata": {},
     "output_type": "execute_result"
    }
   ],
   "source": [
    "predictions1 = model.predict(X_test1)\n",
    "predictions1[:10]"
   ]
  },
  {
   "cell_type": "code",
   "execution_count": 84,
   "id": "691d943d-649d-46bc-8900-eee623a49f70",
   "metadata": {},
   "outputs": [
    {
     "name": "stdout",
     "output_type": "stream",
     "text": [
      "5934/5934 [==============================] - 6s 938us/step\n"
     ]
    },
    {
     "data": {
      "text/plain": [
       "array([[1.        ],\n",
       "       [1.        ],\n",
       "       [0.39854553],\n",
       "       [1.        ],\n",
       "       [0.987347  ],\n",
       "       [1.        ],\n",
       "       [1.        ],\n",
       "       [1.        ],\n",
       "       [1.        ],\n",
       "       [1.        ]], dtype=float32)"
      ]
     },
     "execution_count": 84,
     "metadata": {},
     "output_type": "execute_result"
    }
   ],
   "source": [
    "predictions2 = model.predict(X_test2)\n",
    "predictions2[:10]"
   ]
  },
  {
   "cell_type": "code",
   "execution_count": 85,
   "id": "209542a2-f19f-468c-b9b3-f98196ceefc0",
   "metadata": {},
   "outputs": [
    {
     "name": "stdout",
     "output_type": "stream",
     "text": [
      "$D^+$ Count: 337801\n",
      "$\\Lambda_C^+ Count: 165398\n",
      "Unknown Particle Count: 0\n"
     ]
    },
    {
     "data": {
      "text/plain": [
       "(503199, 1)"
      ]
     },
     "execution_count": 85,
     "metadata": {},
     "output_type": "execute_result"
    }
   ],
   "source": [
    "predictions_list = []\n",
    "D_count = 0\n",
    "Lambda_count = 0\n",
    "unclear = 0\n",
    "for pred in predictions:\n",
    "    if float(pred) > 0.5:\n",
    "        predictions_list.append(int(1))\n",
    "        Lambda_count+=1\n",
    "    elif float(pred) < 0.5:\n",
    "        predictions_list.append(int(0))\n",
    "        D_count+=1\n",
    "    else:\n",
    "        unclear+=1\n",
    "        \n",
    "print(\"$D^+$ Count: {}\".format(D_count))\n",
    "print(\"$\\Lambda_C^+ Count: {}\".format(Lambda_count))\n",
    "print(\"Unknown Particle Count: {}\".format(unclear))\n",
    "np.shape(predictions)"
   ]
  },
  {
   "cell_type": "code",
   "execution_count": 86,
   "id": "a429e301-ba3c-487c-bd73-448fad907dc1",
   "metadata": {},
   "outputs": [
    {
     "name": "stdout",
     "output_type": "stream",
     "text": [
      "Accuracy: 95.10%\n"
     ]
    },
    {
     "data": {
      "text/plain": [
       "1389563    1\n",
       "1338077    0\n",
       "1768909    1\n",
       "1668714    0\n",
       "46030      1\n",
       "          ..\n",
       "818454     1\n",
       "1789196    0\n",
       "1318873    1\n",
       "1487220    1\n",
       "2315328    0\n",
       "Name: DMesons_pdgId, Length: 503199, dtype: int64"
      ]
     },
     "execution_count": 86,
     "metadata": {},
     "output_type": "execute_result"
    }
   ],
   "source": [
    "accuracy = np.mean(predictions_list == y_test)\n",
    "print(\"Accuracy: {:.2%}\".format(accuracy))\n",
    "\n",
    "y_test"
   ]
  },
  {
   "cell_type": "code",
   "execution_count": 87,
   "id": "4c231cdf-49c7-4f4d-864c-8f38d62c3847",
   "metadata": {},
   "outputs": [
    {
     "data": {
      "image/png": "[encoded data removed]",
      "text/plain": [
       "<Figure size 640x480 with 1 Axes>"
      ]
     },
     "metadata": {},
     "output_type": "display_data"
    }
   ],
   "source": [
    "hist = plt.hist(predictions1, bins = 25, label = \"$D^{+}$ Predictions\")\n",
    "hist2 = plt.hist(predictions2, bins = 25, label = \"$\\Lambda_C^{+}$ Predictions\")\n",
    "plt.xlabel(\"score\")\n",
    "plt.ylabel(\"count\")\n",
    "plt.legend()\n",
    "plt.show()"
   ]
  },
  {
   "cell_type": "code",
   "execution_count": 88,
   "id": "38f6bd93-a366-496a-9e5d-daea55ed8021",
   "metadata": {},
   "outputs": [
    {
     "data": {
      "image/png": "[encoded data removed]",
      "text/plain": [
       "<Figure size 640x480 with 1 Axes>"
      ]
     },
     "metadata": {},
     "output_type": "display_data"
    }
   ],
   "source": [
    "from sklearn.metrics import roc_curve\n",
    "\n",
    "# Get true labels and predicted probabilities\n",
    "y_true = y_test\n",
    "y_pred = predictions_list\n",
    "\n",
    "# Calculate TPR and FPR for different threshold values\n",
    "fpr, tpr, thresholds = roc_curve(y_true, y_pred)\n",
    "\n",
    "# Plot ROC curve\n",
    "plt.plot(fpr, tpr)\n",
    "plt.xlabel('False Positive Rate')\n",
    "plt.ylabel('True Positive Rate')\n",
    "plt.title('ROC Curve')\n",
    "plt.show()\n"
   ]
  },
  {
   "cell_type": "code",
   "execution_count": null,
   "id": "f439bc12-384a-466e-af63-8ca144412f64",
   "metadata": {},
   "outputs": [],
   "source": []
  }
 ],
 "metadata": {
  "kernelspec": {
   "display_name": "cernROOT",
   "language": "python",
   "name": "cernroot"
  },
  "language_info": {
   "codemirror_mode": {
    "name": "ipython",
    "version": 3
   },
   "file_extension": ".py",
   "mimetype": "text/x-python",
   "name": "python",
   "nbconvert_exporter": "python",
   "pygments_lexer": "ipython3",
   "version": "3.11.0"
  }
 },
 "nbformat": 4,
 "nbformat_minor": 5
}
