{
 "cells": [
  {
   "cell_type": "code",
   "execution_count": 22,
   "id": "31a7a761-3ae0-4c84-9f77-ec0c8ec1b6b7",
   "metadata": {},
   "outputs": [],
   "source": [
    "from common import *\n",
    "from process_ntuples import *\n",
    "from process_df import *\n",
    "from cuts import apply_cuts, apply_pt_cut\n",
    "\n",
    "import tensorflow as tf\n",
    "from keras.models import Sequential\n",
    "from keras.layers import Dense, Dropout, Activation\n",
    "from keras import layers\n",
    "\n",
    "from sklearn.preprocessing import StandardScaler\n",
    "from sklearn.model_selection import train_test_split\n",
    "\n",
    "from tensorflow.keras.callbacks import EarlyStopping\n",
    "\n",
    "#weights and biases imports\n",
    "import wandb\n",
    "from wandb.keras import WandbMetricsLogger, WandbModelCheckpoint, WandbCallback\n",
    "\n",
    "import random\n",
    "import numpy as np\n",
    "import tensorflow as tf"
   ]
  },
  {
   "cell_type": "code",
   "execution_count": 5,
   "id": "04c3b3b8-44f1-4c2e-b001-900d504b7e41",
   "metadata": {},
   "outputs": [
    {
     "data": {
      "text/plain": [
       "['CharmAnalysis.mc.ForcedDecay.Dplus.tree.root',\n",
       " 'CharmAnalysis.mc.ForcedDecay.LabmdaC.tree.root']"
      ]
     },
     "execution_count": 5,
     "metadata": {},
     "output_type": "execute_result"
    }
   ],
   "source": [
    "dir_path = \"/global/cfs/cdirs/atlas/gottino/Charm/Analysis/run_batch_gup/ntuples\"\n",
    "\n",
    "files = os.listdir(dir_path)\n",
    "TTree = process_ntuple(dir_path, files[0])\n",
    "files"
   ]
  },
  {
   "cell_type": "markdown",
   "id": "c874c9a6-beab-488b-8a31-9fe628c93d4e",
   "metadata": {},
   "source": [
    "$D^{+}$ : 411\n",
    "\n",
    "$\\Lambda_C^{+}$ : 4122"
   ]
  },
  {
   "cell_type": "markdown",
   "id": "ddf679fc-9661-4fce-96eb-e9cea2569a0c",
   "metadata": {},
   "source": [
    "Apply Cuts Fiducial Region cuts ($𝐷^{+}$ $𝑝_T$ > 8 GeV, |𝜂| < 2.2). ***See cuts.py on how the cuts are applied***"
   ]
  },
  {
   "cell_type": "code",
   "execution_count": null,
   "id": "79674b36-224a-4896-baaa-41b280866a53",
   "metadata": {},
   "outputs": [
    {
     "data": {
      "text/html": [
       "<div>\n",
       "<style scoped>\n",
       "    .dataframe tbody tr th:only-of-type {\n",
       "        vertical-align: middle;\n",
       "    }\n",
       "\n",
       "    .dataframe tbody tr th {\n",
       "        vertical-align: top;\n",
       "    }\n",
       "\n",
       "    .dataframe thead th {\n",
       "        text-align: right;\n",
       "    }\n",
       "</style>\n",
       "<table border=\"1\" class=\"dataframe\">\n",
       "  <thead>\n",
       "    <tr style=\"text-align: right;\">\n",
       "      <th></th>\n",
       "      <th>DMesons_pt</th>\n",
       "      <th>DMesons_fitOutput__Lxy</th>\n",
       "      <th>DMesons_costhetastar</th>\n",
       "      <th>DMesons_pdgId</th>\n",
       "    </tr>\n",
       "  </thead>\n",
       "  <tbody>\n",
       "    <tr>\n",
       "      <th>0</th>\n",
       "      <td>[10.047125]</td>\n",
       "      <td>[2.3395302295684814]</td>\n",
       "      <td>[0.25487038493156433]</td>\n",
       "      <td>[411]</td>\n",
       "    </tr>\n",
       "    <tr>\n",
       "      <th>1</th>\n",
       "      <td>[18.9937421875, 18.9937421875]</td>\n",
       "      <td>[1.9184143543243408, 1.9184143543243408]</td>\n",
       "      <td>[-0.36730244755744934, -0.0650731548666954]</td>\n",
       "      <td>[411, 4122]</td>\n",
       "    </tr>\n",
       "    <tr>\n",
       "      <th>2</th>\n",
       "      <td>[10.118494140625, 10.118494140625]</td>\n",
       "      <td>[2.8901257514953613, 2.8901257514953613]</td>\n",
       "      <td>[0.06833142042160034, 0.4276972711086273]</td>\n",
       "      <td>[411, 4122]</td>\n",
       "    </tr>\n",
       "    <tr>\n",
       "      <th>3</th>\n",
       "      <td>[12.579470703125, 12.579470703125]</td>\n",
       "      <td>[0.9249186515808105, 0.9249186515808105]</td>\n",
       "      <td>[-0.5603189468383789, -0.41332852840423584]</td>\n",
       "      <td>[411, 4122]</td>\n",
       "    </tr>\n",
       "    <tr>\n",
       "      <th>4</th>\n",
       "      <td>[36.1288359375]</td>\n",
       "      <td>[0.3584118187427521]</td>\n",
       "      <td>[0.19036155939102173]</td>\n",
       "      <td>[4122]</td>\n",
       "    </tr>\n",
       "    <tr>\n",
       "      <th>...</th>\n",
       "      <td>...</td>\n",
       "      <td>...</td>\n",
       "      <td>...</td>\n",
       "      <td>...</td>\n",
       "    </tr>\n",
       "    <tr>\n",
       "      <th>8234903</th>\n",
       "      <td>[17.96]</td>\n",
       "      <td>[5.87862491607666]</td>\n",
       "      <td>[0.45278045535087585]</td>\n",
       "      <td>[411]</td>\n",
       "    </tr>\n",
       "    <tr>\n",
       "      <th>8234904</th>\n",
       "      <td>[62.91061328125, 62.91061328125]</td>\n",
       "      <td>[11.870012283325195, 11.870012283325195]</td>\n",
       "      <td>[-0.9544855356216431, -0.9355815052986145]</td>\n",
       "      <td>[411, 4122]</td>\n",
       "    </tr>\n",
       "    <tr>\n",
       "      <th>8234905</th>\n",
       "      <td>[14.8181767578125, 14.8181767578125]</td>\n",
       "      <td>[2.027026653289795, 2.027026653289795]</td>\n",
       "      <td>[-0.9712575674057007, -0.9517184495925903]</td>\n",
       "      <td>[411, 4122]</td>\n",
       "    </tr>\n",
       "    <tr>\n",
       "      <th>8234906</th>\n",
       "      <td>[39.3814296875]</td>\n",
       "      <td>[0.17065481841564178]</td>\n",
       "      <td>[-0.332907497882843]</td>\n",
       "      <td>[4122]</td>\n",
       "    </tr>\n",
       "    <tr>\n",
       "      <th>8234907</th>\n",
       "      <td>[11.4230400390625, 11.4230400390625]</td>\n",
       "      <td>[1.3970249891281128, 1.3970249891281128]</td>\n",
       "      <td>[0.97699373960495, 0.9895557165145874]</td>\n",
       "      <td>[411, 4122]</td>\n",
       "    </tr>\n",
       "  </tbody>\n",
       "</table>\n",
       "<p>8234908 rows × 4 columns</p>\n",
       "</div>"
      ],
      "text/plain": [
       "                                   DMesons_pt  \\\n",
       "0                                 [10.047125]   \n",
       "1              [18.9937421875, 18.9937421875]   \n",
       "2          [10.118494140625, 10.118494140625]   \n",
       "3          [12.579470703125, 12.579470703125]   \n",
       "4                             [36.1288359375]   \n",
       "...                                       ...   \n",
       "8234903                               [17.96]   \n",
       "8234904      [62.91061328125, 62.91061328125]   \n",
       "8234905  [14.8181767578125, 14.8181767578125]   \n",
       "8234906                       [39.3814296875]   \n",
       "8234907  [11.4230400390625, 11.4230400390625]   \n",
       "\n",
       "                           DMesons_fitOutput__Lxy  \\\n",
       "0                            [2.3395302295684814]   \n",
       "1        [1.9184143543243408, 1.9184143543243408]   \n",
       "2        [2.8901257514953613, 2.8901257514953613]   \n",
       "3        [0.9249186515808105, 0.9249186515808105]   \n",
       "4                            [0.3584118187427521]   \n",
       "...                                           ...   \n",
       "8234903                        [5.87862491607666]   \n",
       "8234904  [11.870012283325195, 11.870012283325195]   \n",
       "8234905    [2.027026653289795, 2.027026653289795]   \n",
       "8234906                     [0.17065481841564178]   \n",
       "8234907  [1.3970249891281128, 1.3970249891281128]   \n",
       "\n",
       "                                DMesons_costhetastar DMesons_pdgId  \n",
       "0                              [0.25487038493156433]         [411]  \n",
       "1        [-0.36730244755744934, -0.0650731548666954]   [411, 4122]  \n",
       "2          [0.06833142042160034, 0.4276972711086273]   [411, 4122]  \n",
       "3        [-0.5603189468383789, -0.41332852840423584]   [411, 4122]  \n",
       "4                              [0.19036155939102173]        [4122]  \n",
       "...                                              ...           ...  \n",
       "8234903                        [0.45278045535087585]         [411]  \n",
       "8234904   [-0.9544855356216431, -0.9355815052986145]   [411, 4122]  \n",
       "8234905   [-0.9712575674057007, -0.9517184495925903]   [411, 4122]  \n",
       "8234906                         [-0.332907497882843]        [4122]  \n",
       "8234907       [0.97699373960495, 0.9895557165145874]   [411, 4122]  \n",
       "\n",
       "[8234908 rows x 4 columns]"
      ]
     },
     "execution_count": 6,
     "metadata": {},
     "output_type": "execute_result"
    }
   ],
   "source": [
    "DMesons_df = show(0, TTree, [\"DMesons_pt\", \"DMesons_fitOutput__Lxy\", \"DMesons_costhetastar\", \"DMesons_pdgId\"], 20000000)\n",
    "DMesons_df = remove_empty(DMesons_df)\n",
    "\n",
    "DMesons_df[\"DMesons_pt\"] = DMesons_df[\"DMesons_pt\"].apply(divide_by_1000)\n",
    "for col in DMesons_df.columns:\n",
    "    DMesons_df[col] = DMesons_df[col].apply(list)\n",
    "    \n",
    "DMesons_df = apply_pt_cut(DMesons_df)\n",
    "pd.set_option('display.max_rows', 10)\n",
    "DMesons_df"
   ]
  },
  {
   "cell_type": "code",
   "execution_count": 7,
   "id": "fd30aaf7-cbb0-4040-be51-c8897ad849f8",
   "metadata": {},
   "outputs": [],
   "source": [
    "DMesons_df2 = show(0, TTree, [\"DMesons_daughterInfo__pt\", \"DMesons_daughterInfo__eta\", \"DMesons_daughterInfo__phi\", \"DMesons_daughterInfo__pdgId\"], 100)\n",
    "DMesons_df2 = remove_empty(DMesons_df2)"
   ]
  },
  {
   "cell_type": "code",
   "execution_count": 9,
   "id": "cb8981e7-9eec-4d65-b4e0-00aac573cae2",
   "metadata": {},
   "outputs": [
    {
     "data": {
      "text/plain": [
       "3"
      ]
     },
     "execution_count": 9,
     "metadata": {},
     "output_type": "execute_result"
    }
   ],
   "source": [
    "DPlus = [-321, 211, 211]\n",
    "LambdaC = [2212, -321, 211]\n",
    "\n",
    "remove_lambda = []\n",
    "\n",
    "count = 0\n",
    "for index, row in DMesons_df2.iterrows():\n",
    "    if count == 50:\n",
    "        break\n",
    "    count+=1\n",
    "    \n",
    "    pts = row['DMesons_daughterInfo__pt']\n",
    "    etas = row['DMesons_daughterInfo__eta']\n",
    "    phis = row['DMesons_daughterInfo__phi']\n",
    "    pdgids = row[\"DMesons_daughterInfo__pdgId\"]\n",
    "    \n",
    "    #loop through until the first lambda encountered\n",
    "    for i in range(len(pdgids) - 1):\n",
    "        #if there are multiple lambda baryons\n",
    "        if len(pdgids) > 2:\n",
    "            #stop at the first lambda and keep the higher proton pt valued lambda\n",
    "            if list(pdgids[i]) == LambdaC:\n",
    "                l1_pt, l2_pt = pts[i][0], pts[i + 1][0]\n",
    "                if (l1_pt > l2_pt):\n",
    "                    #Lambda 1's proton has higher pt\n",
    "                    remove_lambda.append((index, i + 1))\n",
    "                elif (l1_pt < l2_pt):\n",
    "                    #Lambda 2's proton has higher pt!\n",
    "                    remove_lambda.append((index, i))\n",
    "                else:\n",
    "                    raise Exception(\"Error: Are the proton pt vaules equal?\")\n",
    "                    \n",
    "len(remove_lambda)"
   ]
  },
  {
   "cell_type": "code",
   "execution_count": 24,
   "id": "b7707166-22b5-4f12-8dab-4bcf29a62005",
   "metadata": {},
   "outputs": [],
   "source": [
    "#takes tuples of shape (2,) / (index, column)\n",
    "def remove_particles_from_df(df, tuple_list):\n",
    "    for tup in tuple_list:\n",
    "        index, column = tup\n",
    "        print(index, column)\n",
    "        \n",
    "        new_df = df.copy()\n",
    "        for i in range(len(DMesons_df.iloc[index, 0][column]) + 1):\n",
    "            #new_df[\"DMesons_daughterInfo__pt\"] = new_df[\"DMesons_daughterInfo__pt\"].apply(lambda x: print(x))\n",
    "            val = new_df.iloc[index, i][column]\n",
    "            print(val)\n",
    "    df = df.drop(index, axis = 0)\n",
    "    return df\n",
    "#df = remove_particles_from_df(DMesons_df, remove_lambda)\n",
    "\n",
    "#for now just remove the rows\n",
    "indices = [i for i, x in enumerate(DMesons_df2[DMesons_df2.columns[0]]) if len(x) > 2]\n",
    "DMesons_df2 = DMesons_df2.drop(indices)\n",
    "DMesons_df2 = DMesons_df2.reset_index(drop=True)\n",
    "DMesons_df2[\"DMesons_daughterInfo__pt\"] = DMesons_df2[\"DMesons_daughterInfo__pt\"].apply(divide_by_1000)\n",
    "DMesons_df2\n",
    "\n",
    "pd.set_option('display.max_rows', 10)\n",
    "# pd.set_option('display.max_columns', None)\n",
    "\n",
    "# print(\"-----------------\")\n",
    "# print(DMesons_df.iloc[32, 0][2])\n",
    "# print(DMesons_df.iloc[32, 1][2])\n",
    "# print(DMesons_df.iloc[32, 2][2])\n",
    "# print(DMesons_df.iloc[32, 3][2])"
   ]
  },
  {
   "cell_type": "code",
   "execution_count": 10,
   "id": "4f0ce083-7006-4ea6-aea4-332e607fa37b",
   "metadata": {},
   "outputs": [
    {
     "name": "stderr",
     "output_type": "stream",
     "text": [
      "/tmp/ipykernel_4188/230995059.py:12: DeprecationWarning: In a future version, `df.iloc[:, i] = newvals` will attempt to set the values inplace instead of always setting a new array. To retain the old behavior, use either `df[df.columns[i]] = newvals` or, if columns are non-unique, `df.isetitem(i, newvals)`\n",
      "  new_df.loc[:, 'DMesons_pt'] = new_df['DMesons_pt'].apply(lambda x: float(x[0]))\n",
      "/tmp/ipykernel_4188/230995059.py:13: DeprecationWarning: In a future version, `df.iloc[:, i] = newvals` will attempt to set the values inplace instead of always setting a new array. To retain the old behavior, use either `df[df.columns[i]] = newvals` or, if columns are non-unique, `df.isetitem(i, newvals)`\n",
      "  new_df.loc[:, 'DMesons_fitOutput__Lxy'] = new_df['DMesons_fitOutput__Lxy'].apply(lambda x: float(x[0]))\n",
      "/tmp/ipykernel_4188/230995059.py:14: DeprecationWarning: In a future version, `df.iloc[:, i] = newvals` will attempt to set the values inplace instead of always setting a new array. To retain the old behavior, use either `df[df.columns[i]] = newvals` or, if columns are non-unique, `df.isetitem(i, newvals)`\n",
      "  new_df.loc[:, 'DMesons_costhetastar'] = new_df['DMesons_costhetastar'].apply(lambda x: float(x[0]))\n",
      "/tmp/ipykernel_4188/230995059.py:15: DeprecationWarning: In a future version, `df.iloc[:, i] = newvals` will attempt to set the values inplace instead of always setting a new array. To retain the old behavior, use either `df[df.columns[i]] = newvals` or, if columns are non-unique, `df.isetitem(i, newvals)`\n",
      "  new_df.loc[:, 'DMesons_pdgId'] = new_df['DMesons_pdgId'].apply(lambda x: int(x[0]))\n"
     ]
    },
    {
     "data": {
      "text/html": [
       "<div>\n",
       "<style scoped>\n",
       "    .dataframe tbody tr th:only-of-type {\n",
       "        vertical-align: middle;\n",
       "    }\n",
       "\n",
       "    .dataframe tbody tr th {\n",
       "        vertical-align: top;\n",
       "    }\n",
       "\n",
       "    .dataframe thead th {\n",
       "        text-align: right;\n",
       "    }\n",
       "</style>\n",
       "<table border=\"1\" class=\"dataframe\">\n",
       "  <thead>\n",
       "    <tr style=\"text-align: right;\">\n",
       "      <th></th>\n",
       "      <th>DMesons_pt</th>\n",
       "      <th>DMesons_fitOutput__Lxy</th>\n",
       "      <th>DMesons_costhetastar</th>\n",
       "      <th>DMesons_pdgId</th>\n",
       "    </tr>\n",
       "  </thead>\n",
       "  <tbody>\n",
       "    <tr>\n",
       "      <th>0</th>\n",
       "      <td>10.047125</td>\n",
       "      <td>2.339530</td>\n",
       "      <td>0.254870</td>\n",
       "      <td>411</td>\n",
       "    </tr>\n",
       "    <tr>\n",
       "      <th>1</th>\n",
       "      <td>36.128836</td>\n",
       "      <td>0.358412</td>\n",
       "      <td>0.190362</td>\n",
       "      <td>4122</td>\n",
       "    </tr>\n",
       "    <tr>\n",
       "      <th>2</th>\n",
       "      <td>14.835231</td>\n",
       "      <td>2.899070</td>\n",
       "      <td>0.684572</td>\n",
       "      <td>411</td>\n",
       "    </tr>\n",
       "    <tr>\n",
       "      <th>3</th>\n",
       "      <td>8.800141</td>\n",
       "      <td>0.246351</td>\n",
       "      <td>-0.737246</td>\n",
       "      <td>4122</td>\n",
       "    </tr>\n",
       "    <tr>\n",
       "      <th>4</th>\n",
       "      <td>30.092365</td>\n",
       "      <td>7.426617</td>\n",
       "      <td>-0.937342</td>\n",
       "      <td>4122</td>\n",
       "    </tr>\n",
       "    <tr>\n",
       "      <th>...</th>\n",
       "      <td>...</td>\n",
       "      <td>...</td>\n",
       "      <td>...</td>\n",
       "      <td>...</td>\n",
       "    </tr>\n",
       "    <tr>\n",
       "      <th>2516358</th>\n",
       "      <td>24.477744</td>\n",
       "      <td>3.593372</td>\n",
       "      <td>0.539289</td>\n",
       "      <td>411</td>\n",
       "    </tr>\n",
       "    <tr>\n",
       "      <th>2516359</th>\n",
       "      <td>14.971446</td>\n",
       "      <td>2.374407</td>\n",
       "      <td>0.863583</td>\n",
       "      <td>411</td>\n",
       "    </tr>\n",
       "    <tr>\n",
       "      <th>2516360</th>\n",
       "      <td>12.734207</td>\n",
       "      <td>5.151422</td>\n",
       "      <td>0.461929</td>\n",
       "      <td>411</td>\n",
       "    </tr>\n",
       "    <tr>\n",
       "      <th>2516361</th>\n",
       "      <td>17.960000</td>\n",
       "      <td>5.878625</td>\n",
       "      <td>0.452780</td>\n",
       "      <td>411</td>\n",
       "    </tr>\n",
       "    <tr>\n",
       "      <th>2516362</th>\n",
       "      <td>39.381430</td>\n",
       "      <td>0.170655</td>\n",
       "      <td>-0.332907</td>\n",
       "      <td>4122</td>\n",
       "    </tr>\n",
       "  </tbody>\n",
       "</table>\n",
       "<p>2516363 rows × 4 columns</p>\n",
       "</div>"
      ],
      "text/plain": [
       "         DMesons_pt  DMesons_fitOutput__Lxy  DMesons_costhetastar  \\\n",
       "0         10.047125                2.339530              0.254870   \n",
       "1         36.128836                0.358412              0.190362   \n",
       "2         14.835231                2.899070              0.684572   \n",
       "3          8.800141                0.246351             -0.737246   \n",
       "4         30.092365                7.426617             -0.937342   \n",
       "...             ...                     ...                   ...   \n",
       "2516358   24.477744                3.593372              0.539289   \n",
       "2516359   14.971446                2.374407              0.863583   \n",
       "2516360   12.734207                5.151422              0.461929   \n",
       "2516361   17.960000                5.878625              0.452780   \n",
       "2516362   39.381430                0.170655             -0.332907   \n",
       "\n",
       "         DMesons_pdgId  \n",
       "0                  411  \n",
       "1                 4122  \n",
       "2                  411  \n",
       "3                 4122  \n",
       "4                 4122  \n",
       "...                ...  \n",
       "2516358            411  \n",
       "2516359            411  \n",
       "2516360            411  \n",
       "2516361            411  \n",
       "2516362           4122  \n",
       "\n",
       "[2516363 rows x 4 columns]"
      ]
     },
     "execution_count": 10,
     "metadata": {},
     "output_type": "execute_result"
    }
   ],
   "source": [
    "# create a new column 'particle_type' based on the pdgId column\n",
    "func = lambda x: 'only_411' if x == [411] else ('only_4122' if x == [4122] else 'both')\n",
    "DMesons_df['particle_type'] = DMesons_df['DMesons_pdgId'].apply(func)\n",
    "\n",
    "# separate the rows based on the new column\n",
    "# only_411 = DMesons_df[DMesons_df['particle_type'] == 'only_411']\n",
    "# only_4122 = DMesons_df[DMesons_df['particle_type'] == 'only_4122']\n",
    "# both = DMesons_df[DMesons_df['particle_type'] == 'both']\n",
    "\n",
    "new_df = DMesons_df[DMesons_df['particle_type'] != 'both']\n",
    "new_df = new_df.reset_index(drop=True)\n",
    "new_df.loc[:, 'DMesons_pt'] = new_df['DMesons_pt'].apply(lambda x: float(x[0]))\n",
    "new_df.loc[:, 'DMesons_fitOutput__Lxy'] = new_df['DMesons_fitOutput__Lxy'].apply(lambda x: float(x[0]))\n",
    "new_df.loc[:, 'DMesons_costhetastar'] = new_df['DMesons_costhetastar'].apply(lambda x: float(x[0]))\n",
    "new_df.loc[:, 'DMesons_pdgId'] = new_df['DMesons_pdgId'].apply(lambda x: int(x[0]))\n",
    "new_df = new_df.drop('particle_type', axis=1)\n",
    "new_df"
   ]
  },
  {
   "cell_type": "code",
   "execution_count": 11,
   "id": "f65320d5-2bb2-4d77-a9ba-88a397e7b528",
   "metadata": {},
   "outputs": [
    {
     "name": "stdout",
     "output_type": "stream",
     "text": [
      "1566841 949522\n"
     ]
    }
   ],
   "source": [
    "D = 0\n",
    "Lambda = 0\n",
    "for pdgId in new_df[\"DMesons_pdgId\"]:\n",
    "    if pdgId == 411:\n",
    "        D+=1\n",
    "    elif pdgId == 4122:\n",
    "        Lambda+=1\n",
    "print(D, Lambda)"
   ]
  },
  {
   "cell_type": "code",
   "execution_count": 13,
   "id": "38d6fa12-d36d-445b-b647-5d33161b88a4",
   "metadata": {},
   "outputs": [
    {
     "name": "stderr",
     "output_type": "stream",
     "text": [
      "/tmp/ipykernel_4188/3547295190.py:2: DeprecationWarning: In a future version, `df.iloc[:, i] = newvals` will attempt to set the values inplace instead of always setting a new array. To retain the old behavior, use either `df[df.columns[i]] = newvals` or, if columns are non-unique, `df.isetitem(i, newvals)`\n",
      "  df_norm.loc[:, 'DMesons_pdgId'] = df_norm['DMesons_pdgId'].apply(lambda x: int(x))\n"
     ]
    }
   ],
   "source": [
    "df_norm = (new_df - new_df.min()) / (new_df.max() - new_df.min())\n",
    "df_norm.loc[:, 'DMesons_pdgId'] = df_norm['DMesons_pdgId'].apply(lambda x: int(x))\n",
    "df_norm\n",
    "\n",
    "X_train, X_test, y_train, y_test = train_test_split(new_df[['DMesons_pt', 'DMesons_fitOutput__Lxy', 'DMesons_costhetastar']], df_norm['DMesons_pdgId'], test_size=0.2, random_state=42)"
   ]
  },
  {
   "cell_type": "code",
   "execution_count": 14,
   "id": "c16f1337-d124-4531-b770-014fb6bca4d8",
   "metadata": {},
   "outputs": [
    {
     "data": {
      "text/html": [
       "<div>\n",
       "<style scoped>\n",
       "    .dataframe tbody tr th:only-of-type {\n",
       "        vertical-align: middle;\n",
       "    }\n",
       "\n",
       "    .dataframe tbody tr th {\n",
       "        vertical-align: top;\n",
       "    }\n",
       "\n",
       "    .dataframe thead th {\n",
       "        text-align: right;\n",
       "    }\n",
       "</style>\n",
       "<table border=\"1\" class=\"dataframe\">\n",
       "  <thead>\n",
       "    <tr style=\"text-align: right;\">\n",
       "      <th></th>\n",
       "      <th>DMesons_pt</th>\n",
       "      <th>DMesons_fitOutput__Lxy</th>\n",
       "      <th>DMesons_costhetastar</th>\n",
       "    </tr>\n",
       "  </thead>\n",
       "  <tbody>\n",
       "    <tr>\n",
       "      <th>1393567</th>\n",
       "      <td>8.998823</td>\n",
       "      <td>0.415244</td>\n",
       "      <td>-0.676589</td>\n",
       "    </tr>\n",
       "    <tr>\n",
       "      <th>247341</th>\n",
       "      <td>16.169950</td>\n",
       "      <td>0.432640</td>\n",
       "      <td>0.822002</td>\n",
       "    </tr>\n",
       "    <tr>\n",
       "      <th>1720792</th>\n",
       "      <td>23.583254</td>\n",
       "      <td>1.711358</td>\n",
       "      <td>0.509549</td>\n",
       "    </tr>\n",
       "    <tr>\n",
       "      <th>235015</th>\n",
       "      <td>31.431924</td>\n",
       "      <td>1.232870</td>\n",
       "      <td>0.380954</td>\n",
       "    </tr>\n",
       "    <tr>\n",
       "      <th>1760004</th>\n",
       "      <td>24.270182</td>\n",
       "      <td>3.152954</td>\n",
       "      <td>0.582256</td>\n",
       "    </tr>\n",
       "    <tr>\n",
       "      <th>...</th>\n",
       "      <td>...</td>\n",
       "      <td>...</td>\n",
       "      <td>...</td>\n",
       "    </tr>\n",
       "    <tr>\n",
       "      <th>110268</th>\n",
       "      <td>10.439533</td>\n",
       "      <td>2.331200</td>\n",
       "      <td>0.816670</td>\n",
       "    </tr>\n",
       "    <tr>\n",
       "      <th>1692743</th>\n",
       "      <td>11.541045</td>\n",
       "      <td>3.062604</td>\n",
       "      <td>0.980448</td>\n",
       "    </tr>\n",
       "    <tr>\n",
       "      <th>2356330</th>\n",
       "      <td>8.304547</td>\n",
       "      <td>0.295519</td>\n",
       "      <td>0.010769</td>\n",
       "    </tr>\n",
       "    <tr>\n",
       "      <th>2229084</th>\n",
       "      <td>23.810479</td>\n",
       "      <td>4.198989</td>\n",
       "      <td>0.724207</td>\n",
       "    </tr>\n",
       "    <tr>\n",
       "      <th>2219110</th>\n",
       "      <td>13.598386</td>\n",
       "      <td>2.151978</td>\n",
       "      <td>0.454602</td>\n",
       "    </tr>\n",
       "  </tbody>\n",
       "</table>\n",
       "<p>2013090 rows × 3 columns</p>\n",
       "</div>"
      ],
      "text/plain": [
       "         DMesons_pt  DMesons_fitOutput__Lxy  DMesons_costhetastar\n",
       "1393567    8.998823                0.415244             -0.676589\n",
       "247341    16.169950                0.432640              0.822002\n",
       "1720792   23.583254                1.711358              0.509549\n",
       "235015    31.431924                1.232870              0.380954\n",
       "1760004   24.270182                3.152954              0.582256\n",
       "...             ...                     ...                   ...\n",
       "110268    10.439533                2.331200              0.816670\n",
       "1692743   11.541045                3.062604              0.980448\n",
       "2356330    8.304547                0.295519              0.010769\n",
       "2229084   23.810479                4.198989              0.724207\n",
       "2219110   13.598386                2.151978              0.454602\n",
       "\n",
       "[2013090 rows x 3 columns]"
      ]
     },
     "execution_count": 14,
     "metadata": {},
     "output_type": "execute_result"
    }
   ],
   "source": [
    "X_train"
   ]
  },
  {
   "cell_type": "code",
   "execution_count": 23,
   "id": "3c103214-dd47-497f-b0e3-6236b7d34080",
   "metadata": {},
   "outputs": [],
   "source": [
    "# only_411 = DMesons_df[DMesons_df['DMesons_pdgId'].apply(lambda x: x == [411])]\n",
    "# only_4122 = DMesons_df[DMesons_df['DMesons_pdgId'].apply(lambda x: x == [4122])]\n",
    "# both = DMesons_df[DMesons_df['DMesons_pdgId'].apply(lambda x: len(x) == 2)]"
   ]
  },
  {
   "cell_type": "code",
   "execution_count": 19,
   "id": "3797f144-19c6-43ca-afac-c9917f73fddd",
   "metadata": {},
   "outputs": [
    {
     "data": {
      "text/html": [
       "Finishing last run (ID:kk51euj3) before initializing another..."
      ],
      "text/plain": [
       "<IPython.core.display.HTML object>"
      ]
     },
     "metadata": {},
     "output_type": "display_data"
    },
    {
     "data": {
      "text/html": [
       "Waiting for W&B process to finish... <strong style=\"color:green\">(success).</strong>"
      ],
      "text/plain": [
       "<IPython.core.display.HTML object>"
      ]
     },
     "metadata": {},
     "output_type": "display_data"
    },
    {
     "data": {
      "text/html": [
       " View run <strong style=\"color:#cdcd00\">glorious-field-1</strong> at: <a href='https://wandb.ai/atlasdnn/ATLAS_DNN/runs/kk51euj3' target=\"_blank\">https://wandb.ai/atlasdnn/ATLAS_DNN/runs/kk51euj3</a><br/>Synced 5 W&B file(s), 0 media file(s), 0 artifact file(s) and 0 other file(s)"
      ],
      "text/plain": [
       "<IPython.core.display.HTML object>"
      ]
     },
     "metadata": {},
     "output_type": "display_data"
    },
    {
     "data": {
      "text/html": [
       "Find logs at: <code>./wandb/run-20230403_022742-kk51euj3/logs</code>"
      ],
      "text/plain": [
       "<IPython.core.display.HTML object>"
      ]
     },
     "metadata": {},
     "output_type": "display_data"
    },
    {
     "data": {
      "text/html": [
       "Successfully finished last run (ID:kk51euj3). Initializing new run:<br/>"
      ],
      "text/plain": [
       "<IPython.core.display.HTML object>"
      ]
     },
     "metadata": {},
     "output_type": "display_data"
    },
    {
     "data": {
      "text/html": [
       "Tracking run with wandb version 0.14.0"
      ],
      "text/plain": [
       "<IPython.core.display.HTML object>"
      ]
     },
     "metadata": {},
     "output_type": "display_data"
    },
    {
     "data": {
      "text/html": [
       "Run data is saved locally in <code>/global/u2/g/gupsingh/ATLAS_DNN/wandb/run-20230403_023046-gvsm5bl2</code>"
      ],
      "text/plain": [
       "<IPython.core.display.HTML object>"
      ]
     },
     "metadata": {},
     "output_type": "display_data"
    },
    {
     "data": {
      "text/html": [
       "Syncing run <strong><a href='https://wandb.ai/atlasdnn/ATLAS_DNN/runs/gvsm5bl2' target=\"_blank\">quiet-serenity-2</a></strong> to <a href='https://wandb.ai/atlasdnn/ATLAS_DNN' target=\"_blank\">Weights & Biases</a> (<a href='https://wandb.me/run' target=\"_blank\">docs</a>)<br/>"
      ],
      "text/plain": [
       "<IPython.core.display.HTML object>"
      ]
     },
     "metadata": {},
     "output_type": "display_data"
    },
    {
     "data": {
      "text/html": [
       " View project at <a href='https://wandb.ai/atlasdnn/ATLAS_DNN' target=\"_blank\">https://wandb.ai/atlasdnn/ATLAS_DNN</a>"
      ],
      "text/plain": [
       "<IPython.core.display.HTML object>"
      ]
     },
     "metadata": {},
     "output_type": "display_data"
    },
    {
     "data": {
      "text/html": [
       " View run at <a href='https://wandb.ai/atlasdnn/ATLAS_DNN/runs/gvsm5bl2' target=\"_blank\">https://wandb.ai/atlasdnn/ATLAS_DNN/runs/gvsm5bl2</a>"
      ],
      "text/plain": [
       "<IPython.core.display.HTML object>"
      ]
     },
     "metadata": {},
     "output_type": "display_data"
    }
   ],
   "source": [
    "wandb.init(\n",
    "    # set the wandb project where this run will be logged\n",
    "    project=\"ATLAS_DNN\",\n",
    "\n",
    "    # track hyperparameters and run metadata with wandb.config\n",
    "    config={\n",
    "        \"layer_1\": 64,\n",
    "        \"activation_1\": \"relu\",\n",
    "        \"dropout\": 0.5,\n",
    "        \"layer_2\": 32,\n",
    "        \"activation_2\": \"relu\",\n",
    "        \"dropout\": 0.5,\n",
    "        \"output_layer\": 1,\n",
    "        \"output_activation\": \"sigmoid\",\n",
    "        \"optimizer\": \"adam\",\n",
    "        \"loss\": \"binary_crossentropy\",\n",
    "        \"metric\": \"accuracy\",\n",
    "        \"epoch\": 50,\n",
    "        \"batch_size\": 32\n",
    "    }\n",
    ")\n",
    "\n",
    "config = wandb.config"
   ]
  },
  {
   "cell_type": "code",
   "execution_count": 20,
   "id": "8691200c-24fe-4a5b-a4c4-29902c91a09e",
   "metadata": {},
   "outputs": [],
   "source": [
    "#model\n",
    "model = Sequential([\n",
    "    Dense(64, activation='relu', input_shape=(X_train.shape[1],)),\n",
    "    Dropout(0.5),\n",
    "    Dense(32, activation='relu'),\n",
    "    Dropout(0.5),\n",
    "    Dense(1, activation='sigmoid')\n",
    "])"
   ]
  },
  {
   "cell_type": "code",
   "execution_count": 23,
   "id": "9f802f11-45c9-464e-9b90-e7e6deed7bba",
   "metadata": {},
   "outputs": [
    {
     "name": "stderr",
     "output_type": "stream",
     "text": [
      "\u001b[34m\u001b[1mwandb\u001b[0m: \u001b[33mWARNING\u001b[0m The save_model argument by default saves the model in the HDF5 format that cannot save custom objects like subclassed models and custom layers. This behavior will be deprecated in a future release in favor of the SavedModel format. Meanwhile, the HDF5 model is saved as W&B files and the SavedModel as W&B Artifacts.\n"
     ]
    },
    {
     "name": "stdout",
     "output_type": "stream",
     "text": [
      "Epoch 1/50\n",
      "62882/62910 [============================>.] - ETA: 0s - loss: 0.1949"
     ]
    },
    {
     "name": "stderr",
     "output_type": "stream",
     "text": [
      "2023-04-03 02:40:11.930598: I tensorflow/core/common_runtime/executor.cc:1197] [/device:CPU:0] (DEBUG INFO) Executor start aborting (this does not indicate an error and you can ignore this message): INVALID_ARGUMENT: You must feed a value for placeholder tensor 'inputs' with dtype float and shape [?,64]\n",
      "\t [[{{node inputs}}]]\n",
      "2023-04-03 02:40:11.946263: I tensorflow/core/common_runtime/executor.cc:1197] [/device:CPU:0] (DEBUG INFO) Executor start aborting (this does not indicate an error and you can ignore this message): INVALID_ARGUMENT: You must feed a value for placeholder tensor 'inputs' with dtype float and shape [?,32]\n",
      "\t [[{{node inputs}}]]\n",
      "2023-04-03 02:40:12.116731: I tensorflow/core/common_runtime/executor.cc:1197] [/device:CPU:0] (DEBUG INFO) Executor start aborting (this does not indicate an error and you can ignore this message): INVALID_ARGUMENT: You must feed a value for placeholder tensor 'inputs' with dtype float and shape [?,64]\n",
      "\t [[{{node inputs}}]]\n",
      "2023-04-03 02:40:12.149696: I tensorflow/core/common_runtime/executor.cc:1197] [/device:CPU:0] (DEBUG INFO) Executor start aborting (this does not indicate an error and you can ignore this message): INVALID_ARGUMENT: You must feed a value for placeholder tensor 'inputs' with dtype float and shape [?,32]\n",
      "\t [[{{node inputs}}]]\n",
      "WARNING:absl:Found untraced functions such as _update_step_xla while saving (showing 1 of 1). These functions will not be directly callable after loading.\n"
     ]
    },
    {
     "name": "stdout",
     "output_type": "stream",
     "text": [
      "INFO:tensorflow:Assets written to: /global/u2/g/gupsingh/ATLAS_DNN/wandb/run-20230403_023046-gvsm5bl2/files/model-best/assets\n"
     ]
    },
    {
     "name": "stderr",
     "output_type": "stream",
     "text": [
      "INFO:tensorflow:Assets written to: /global/u2/g/gupsingh/ATLAS_DNN/wandb/run-20230403_023046-gvsm5bl2/files/model-best/assets\n",
      "\u001b[34m\u001b[1mwandb\u001b[0m: Adding directory to artifact (/global/u2/g/gupsingh/ATLAS_DNN/wandb/run-20230403_023046-gvsm5bl2/files/model-best)... Done. 0.1s\n"
     ]
    },
    {
     "name": "stdout",
     "output_type": "stream",
     "text": [
      "62910/62910 [==============================] - 103s 2ms/step - loss: 0.1949 - val_loss: 0.1627\n",
      "Epoch 2/50\n",
      "62910/62910 [==============================] - 101s 2ms/step - loss: 0.1716 - val_loss: 0.1638\n",
      "Epoch 3/50\n",
      "62910/62910 [==============================] - 101s 2ms/step - loss: 0.1694 - val_loss: 0.1636\n",
      "Epoch 4/50\n",
      "62899/62910 [============================>.] - ETA: 0s - loss: 0.1680"
     ]
    },
    {
     "name": "stderr",
     "output_type": "stream",
     "text": [
      "2023-04-03 02:45:16.501415: I tensorflow/core/common_runtime/executor.cc:1197] [/device:CPU:0] (DEBUG INFO) Executor start aborting (this does not indicate an error and you can ignore this message): INVALID_ARGUMENT: You must feed a value for placeholder tensor 'inputs' with dtype float and shape [?,64]\n",
      "\t [[{{node inputs}}]]\n",
      "2023-04-03 02:45:16.514422: I tensorflow/core/common_runtime/executor.cc:1197] [/device:CPU:0] (DEBUG INFO) Executor start aborting (this does not indicate an error and you can ignore this message): INVALID_ARGUMENT: You must feed a value for placeholder tensor 'inputs' with dtype float and shape [?,32]\n",
      "\t [[{{node inputs}}]]\n",
      "2023-04-03 02:45:16.646987: I tensorflow/core/common_runtime/executor.cc:1197] [/device:CPU:0] (DEBUG INFO) Executor start aborting (this does not indicate an error and you can ignore this message): INVALID_ARGUMENT: You must feed a value for placeholder tensor 'inputs' with dtype float and shape [?,64]\n",
      "\t [[{{node inputs}}]]\n",
      "2023-04-03 02:45:16.676326: I tensorflow/core/common_runtime/executor.cc:1197] [/device:CPU:0] (DEBUG INFO) Executor start aborting (this does not indicate an error and you can ignore this message): INVALID_ARGUMENT: You must feed a value for placeholder tensor 'inputs' with dtype float and shape [?,32]\n",
      "\t [[{{node inputs}}]]\n",
      "WARNING:absl:Found untraced functions such as _update_step_xla while saving (showing 1 of 1). These functions will not be directly callable after loading.\n"
     ]
    },
    {
     "name": "stdout",
     "output_type": "stream",
     "text": [
      "INFO:tensorflow:Assets written to: /global/u2/g/gupsingh/ATLAS_DNN/wandb/run-20230403_023046-gvsm5bl2/files/model-best/assets\n"
     ]
    },
    {
     "name": "stderr",
     "output_type": "stream",
     "text": [
      "INFO:tensorflow:Assets written to: /global/u2/g/gupsingh/ATLAS_DNN/wandb/run-20230403_023046-gvsm5bl2/files/model-best/assets\n",
      "\u001b[34m\u001b[1mwandb\u001b[0m: Adding directory to artifact (/global/u2/g/gupsingh/ATLAS_DNN/wandb/run-20230403_023046-gvsm5bl2/files/model-best)... Done. 0.0s\n"
     ]
    },
    {
     "name": "stdout",
     "output_type": "stream",
     "text": [
      "62910/62910 [==============================] - 102s 2ms/step - loss: 0.1680 - val_loss: 0.1565\n",
      "Epoch 5/50\n",
      "62910/62910 [==============================] - 101s 2ms/step - loss: 0.1668 - val_loss: 0.1594\n",
      "Epoch 6/50\n",
      "62910/62910 [==============================] - 101s 2ms/step - loss: 0.1667 - val_loss: 0.1621\n",
      "Epoch 7/50\n",
      "62910/62910 [==============================] - 104s 2ms/step - loss: 0.1660 - val_loss: 0.1601\n",
      "Epoch 7: early stopping\n",
      "15728/15728 [==============================] - 17s 1ms/step - loss: 0.1601\n",
      "Loss: 0.16012655198574066\n"
     ]
    }
   ],
   "source": [
    "#Compile\n",
    "model.compile(optimizer='adam', loss='binary_crossentropy')\n",
    "\n",
    "early_stop = EarlyStopping(monitor='val_loss', patience=3, verbose=1, mode='min')\n",
    "# checkpoint = ModelCheckpoint('model.h5', monitor='val_loss', save_best_only=True, verbose=1)\n",
    "# tensorboard = TensorBoard(log_dir='./logs', histogram_freq=0, write_graph=True, write_images=False)\n",
    "#Train\n",
    "history = model.fit(X_train, y_train, epochs=50, batch_size=32, validation_data=(X_test, y_test), callbacks=[early_stop, WandbCallback(), tf.keras.callbacks.History()])\n",
    "\n",
    "#Evaluate testing set\n",
    "loss = model.evaluate(X_test, y_test)\n",
    "print(\"Loss: {}\".format(loss))"
   ]
  },
  {
   "cell_type": "code",
   "execution_count": 24,
   "id": "c51c2995-8b37-451a-a2a6-e6b0eef781b7",
   "metadata": {},
   "outputs": [
    {
     "data": {
      "text/html": [
       "Waiting for W&B process to finish... <strong style=\"color:green\">(success).</strong>"
      ],
      "text/plain": [
       "<IPython.core.display.HTML object>"
      ]
     },
     "metadata": {},
     "output_type": "display_data"
    },
    {
     "data": {
      "text/html": [
       "<style>\n",
       "    table.wandb td:nth-child(1) { padding: 0 10px; text-align: left ; width: auto;} td:nth-child(2) {text-align: left ; width: 100%}\n",
       "    .wandb-row { display: flex; flex-direction: row; flex-wrap: wrap; justify-content: flex-start; width: 100% }\n",
       "    .wandb-col { display: flex; flex-direction: column; flex-basis: 100%; flex: 1; padding: 10px; }\n",
       "    </style>\n",
       "<div class=\"wandb-row\"><div class=\"wandb-col\"><h3>Run history:</h3><br/><table class=\"wandb\"><tr><td>epoch</td><td>▁▂▃▅▆▇█</td></tr><tr><td>loss</td><td>█▂▂▁▁▁▁</td></tr><tr><td>val_loss</td><td>▇██▁▄▆▄</td></tr></table><br/></div><div class=\"wandb-col\"><h3>Run summary:</h3><br/><table class=\"wandb\"><tr><td>best_epoch</td><td>3</td></tr><tr><td>best_val_loss</td><td>0.1565</td></tr><tr><td>epoch</td><td>6</td></tr><tr><td>loss</td><td>0.16596</td></tr><tr><td>val_loss</td><td>0.16013</td></tr></table><br/></div></div>"
      ],
      "text/plain": [
       "<IPython.core.display.HTML object>"
      ]
     },
     "metadata": {},
     "output_type": "display_data"
    },
    {
     "data": {
      "text/html": [
       " View run <strong style=\"color:#cdcd00\">quiet-serenity-2</strong> at: <a href='https://wandb.ai/atlasdnn/ATLAS_DNN/runs/gvsm5bl2' target=\"_blank\">https://wandb.ai/atlasdnn/ATLAS_DNN/runs/gvsm5bl2</a><br/>Synced 6 W&B file(s), 1 media file(s), 10 artifact file(s) and 1 other file(s)"
      ],
      "text/plain": [
       "<IPython.core.display.HTML object>"
      ]
     },
     "metadata": {},
     "output_type": "display_data"
    },
    {
     "data": {
      "text/html": [
       "Find logs at: <code>./wandb/run-20230403_023046-gvsm5bl2/logs</code>"
      ],
      "text/plain": [
       "<IPython.core.display.HTML object>"
      ]
     },
     "metadata": {},
     "output_type": "display_data"
    },
    {
     "name": "stdout",
     "output_type": "stream",
     "text": [
      "15728/15728 [==============================] - 15s 952us/step\n"
     ]
    },
    {
     "data": {
      "text/plain": [
       "array([[0.04383187],\n",
       "       [1.        ],\n",
       "       [0.04932335],\n",
       "       ...,\n",
       "       [1.        ],\n",
       "       [0.04383187],\n",
       "       [0.04383187]], dtype=float32)"
      ]
     },
     "execution_count": 24,
     "metadata": {},
     "output_type": "execute_result"
    }
   ],
   "source": [
    "wandb.finish()\n",
    "predictions = model.predict(X_test)\n",
    "predictions"
   ]
  },
  {
   "cell_type": "code",
   "execution_count": 1,
   "id": "44cfc7e2-1326-4d04-af9b-fa3fbd178eee",
   "metadata": {},
   "outputs": [
    {
     "ename": "NameError",
     "evalue": "name 'predictions' is not defined",
     "output_type": "error",
     "traceback": [
      "\u001b[0;31m---------------------------------------------------------------------------\u001b[0m",
      "\u001b[0;31mNameError\u001b[0m                                 Traceback (most recent call last)",
      "Cell \u001b[0;32mIn[1], line 5\u001b[0m\n\u001b[1;32m      3\u001b[0m Lambda_count \u001b[38;5;241m=\u001b[39m \u001b[38;5;241m0\u001b[39m\n\u001b[1;32m      4\u001b[0m unclear \u001b[38;5;241m=\u001b[39m \u001b[38;5;241m0\u001b[39m\n\u001b[0;32m----> 5\u001b[0m \u001b[38;5;28;01mfor\u001b[39;00m pred \u001b[38;5;129;01min\u001b[39;00m \u001b[43mpredictions\u001b[49m:\n\u001b[1;32m      6\u001b[0m     \u001b[38;5;28;01mif\u001b[39;00m \u001b[38;5;28mfloat\u001b[39m(pred) \u001b[38;5;241m>\u001b[39m \u001b[38;5;241m0.9\u001b[39m:\n\u001b[1;32m      7\u001b[0m         predictions_list\u001b[38;5;241m.\u001b[39mappend(\u001b[38;5;28mint\u001b[39m(\u001b[38;5;241m1\u001b[39m))\n",
      "\u001b[0;31mNameError\u001b[0m: name 'predictions' is not defined"
     ]
    }
   ],
   "source": [
    "predictions_list = []\n",
    "D_count = 0\n",
    "Lambda_count = 0\n",
    "unclear = 0\n",
    "for pred in predictions:\n",
    "    if float(pred) > 0.9:\n",
    "        predictions_list.append(int(1))\n",
    "        Lambda_count+=1\n",
    "    elif float(pred) < 0.9:\n",
    "        predictions_list.append(int(0))\n",
    "        D_count+=1\n",
    "    else:\n",
    "        unclear+=1\n",
    "        \n",
    "print(\"$D^+$ Count: {}\".format(D_count))\n",
    "print(\"$\\Lambda_C^+ Count: {}\".format(Lambda_count))\n",
    "print(\"Unknown Particle Count: {}\".format(unclear))\n",
    "np.shape(predictions)"
   ]
  },
  {
   "cell_type": "code",
   "execution_count": 32,
   "id": "e25d26bc-6f5b-4158-ac03-4540de1f17b7",
   "metadata": {},
   "outputs": [
    {
     "name": "stdout",
     "output_type": "stream",
     "text": [
      "[[0.04383187]\n",
      " [1.        ]\n",
      " [0.04932335]\n",
      " [0.04383187]\n",
      " [1.        ]\n",
      " [0.04383187]\n",
      " [0.04383187]\n",
      " [0.0538348 ]\n",
      " [0.04383187]\n",
      " [0.04383187]]\n"
     ]
    }
   ],
   "source": [
    "print(predictions[:10])"
   ]
  },
  {
   "cell_type": "code",
   "execution_count": null,
   "id": "f756fe13-a9d2-4571-829f-29ae8009b746",
   "metadata": {},
   "outputs": [],
   "source": [
    "accuracy = np.mean(np.round(predictions) == y_test)\n",
    "print(\"Accuracy: {:.2%}\".format(accuracy))"
   ]
  },
  {
   "cell_type": "code",
   "execution_count": null,
   "id": "e18b441c-207f-402e-8a4c-b1c8a7f86de0",
   "metadata": {},
   "outputs": [],
   "source": []
  }
 ],
 "metadata": {
  "kernelspec": {
   "display_name": "cernROOT",
   "language": "python",
   "name": "cernroot"
  },
  "language_info": {
   "codemirror_mode": {
    "name": "ipython",
    "version": 3
   },
   "file_extension": ".py",
   "mimetype": "text/x-python",
   "name": "python",
   "nbconvert_exporter": "python",
   "pygments_lexer": "ipython3",
   "version": "3.11.0"
  }
 },
 "nbformat": 4,
 "nbformat_minor": 5
}
