{
 "cells": [
  {
   "cell_type": "code",
   "execution_count": 1,
   "id": "04a2efcc-6026-480e-a7b5-7ede89c81881",
   "metadata": {},
   "outputs": [
    {
     "name": "stdout",
     "output_type": "stream",
     "text": [
      "Welcome to JupyROOT 6.28/00\n"
     ]
    }
   ],
   "source": [
    "import ROOT"
   ]
  },
  {
   "cell_type": "code",
   "execution_count": 2,
   "id": "9d7f7404-fb05-4851-8bf5-ead5e2dbce6b",
   "metadata": {},
   "outputs": [],
   "source": [
    "import uproot\n",
    "import numpy as np\n",
    "import pandas as pd\n",
    "import awkward as ak\n",
    "import os\n",
    "import matplotlib.pyplot as plt"
   ]
  },
  {
   "cell_type": "markdown",
   "id": "c519a7c0-3c31-4688-bbcd-029ee237ff69",
   "metadata": {},
   "source": [
    "This part of the code is for processing ntuples into pandas data frames with a list of branches and batch size, specifically below is the Monte Carlo simulation for $D^{+}\\rightarrow k^{-} \\pi^{+} \\pi^{+}$ and $\\lambda_c^{+}\\rightarrow p k^{-} \\pi^{+}$"
   ]
  },
  {
   "cell_type": "code",
   "execution_count": 3,
   "id": "56d9a6bd-ea49-4751-b70a-ec3be850babc",
   "metadata": {},
   "outputs": [
    {
     "data": {
      "text/plain": [
       "['CharmAnalysis.mc.ForcedDecay.Dplus.tree.root',\n",
       " 'CharmAnalysis.mc.ForcedDecay.LabmdaC.tree.root']"
      ]
     },
     "execution_count": 3,
     "metadata": {},
     "output_type": "execute_result"
    }
   ],
   "source": [
    "dir_path = \"/global/cfs/cdirs/atlas/gottino/Charm/Analysis/run_batch_gup/ntuples\"\n",
    "\n",
    "files = os.listdir(dir_path)\n",
    "files"
   ]
  },
  {
   "cell_type": "code",
   "execution_count": 4,
   "id": "74d8351c-9034-4699-9c6e-d0446068db3b",
   "metadata": {},
   "outputs": [],
   "source": [
    "#processes ntunples given directory: returns trees \n",
    "def process_ntuple(ntuple):\n",
    "    file = uproot.open(dir_path + \"/\" + ntuple)\n",
    "    tree = file[\"CharmAnalysis;1\"]\n",
    "    return tree\n",
    "\n",
    "#takes event #, list of branches, and batch size: returns tuple of branches with data\n",
    "def show(event, TTree, branches, batch_size):\n",
    "    #if we want the entire data set set batch size = 0\n",
    "    if batch_size == 0:\n",
    "        batch_size = TTree.num_entries\n",
    "\n",
    "    #iterates through TTree as generator functiona and yields batches of data\n",
    "    current_event = 0\n",
    "    for array in TTree.iterate(branches, step_size = batch_size, library = \"pd\"):\n",
    "        arrays = array[branches]\n",
    "        if current_event == event:\n",
    "            break\n",
    "        current_event+=1\n",
    "    return arrays"
   ]
  },
  {
   "cell_type": "code",
   "execution_count": 5,
   "id": "d2a9c9f8-5bec-4c51-9b8d-7332c2f6f611",
   "metadata": {},
   "outputs": [
    {
     "data": {
      "text/plain": [
       "'CharmAnalysis'"
      ]
     },
     "execution_count": 5,
     "metadata": {},
     "output_type": "execute_result"
    }
   ],
   "source": [
    "TTree = process_ntuple(files[0])\n",
    "TTree.name"
   ]
  },
  {
   "cell_type": "code",
   "execution_count": 6,
   "id": "855c3bbc-4e44-4550-95db-b56c2a2d0b4a",
   "metadata": {},
   "outputs": [
    {
     "data": {
      "text/html": [
       "<div>\n",
       "<style scoped>\n",
       "    .dataframe tbody tr th:only-of-type {\n",
       "        vertical-align: middle;\n",
       "    }\n",
       "\n",
       "    .dataframe tbody tr th {\n",
       "        vertical-align: top;\n",
       "    }\n",
       "\n",
       "    .dataframe thead th {\n",
       "        text-align: right;\n",
       "    }\n",
       "</style>\n",
       "<table border=\"1\" class=\"dataframe\">\n",
       "  <thead>\n",
       "    <tr style=\"text-align: right;\">\n",
       "      <th></th>\n",
       "      <th>DMesons_pt</th>\n",
       "      <th>DMesons_m</th>\n",
       "      <th>DMesons_eta</th>\n",
       "      <th>DMesons_phi</th>\n",
       "    </tr>\n",
       "  </thead>\n",
       "  <tbody>\n",
       "    <tr>\n",
       "      <th>0</th>\n",
       "      <td>[5735.74853515625, 5735.74853515625]</td>\n",
       "      <td>[1860.0809326171875, 2207.808349609375]</td>\n",
       "      <td>[0.9682132005691528, 0.9682132005691528]</td>\n",
       "      <td>[1.2285282611846924, 1.2285282611846924]</td>\n",
       "    </tr>\n",
       "    <tr>\n",
       "      <th>1</th>\n",
       "      <td>[10047.125]</td>\n",
       "      <td>[1862.4176025390625]</td>\n",
       "      <td>[0.08182407170534134]</td>\n",
       "      <td>[2.709681510925293]</td>\n",
       "    </tr>\n",
       "    <tr>\n",
       "      <th>2</th>\n",
       "      <td>[18993.7421875, 18993.7421875]</td>\n",
       "      <td>[1853.90625, 2398.886962890625]</td>\n",
       "      <td>[-1.6619627475738525, -1.6619627475738525]</td>\n",
       "      <td>[-0.46051180362701416, -0.46051180362701416]</td>\n",
       "    </tr>\n",
       "    <tr>\n",
       "      <th>3</th>\n",
       "      <td>[10118.494140625, 10118.494140625]</td>\n",
       "      <td>[1874.203125, 2468.1806640625]</td>\n",
       "      <td>[0.041659336537122726, 0.041659336537122726]</td>\n",
       "      <td>[0.780849277973175, 0.780849277973175]</td>\n",
       "    </tr>\n",
       "    <tr>\n",
       "      <th>4</th>\n",
       "      <td>[12579.470703125, 12579.470703125]</td>\n",
       "      <td>[1884.987060546875, 2220.384521484375]</td>\n",
       "      <td>[-1.1025604009628296, -1.1025604009628296]</td>\n",
       "      <td>[0.7788794040679932, 0.7788794040679932]</td>\n",
       "    </tr>\n",
       "    <tr>\n",
       "      <th>...</th>\n",
       "      <td>...</td>\n",
       "      <td>...</td>\n",
       "      <td>...</td>\n",
       "      <td>...</td>\n",
       "    </tr>\n",
       "    <tr>\n",
       "      <th>556</th>\n",
       "      <td>[5451.50732421875, 5451.50732421875]</td>\n",
       "      <td>[1849.396240234375, 2459.749755859375]</td>\n",
       "      <td>[-0.064152292907238, -0.064152292907238]</td>\n",
       "      <td>[2.395824909210205, 2.395824909210205]</td>\n",
       "    </tr>\n",
       "    <tr>\n",
       "      <th>557</th>\n",
       "      <td>[30662.75, 30662.75, 30662.75]</td>\n",
       "      <td>[1872.678955078125, 2392.157470703125, 2270.92...</td>\n",
       "      <td>[1.7234350442886353, 1.7234350442886353, 1.723...</td>\n",
       "      <td>[-0.5089108347892761, -0.5089108347892761, -0....</td>\n",
       "    </tr>\n",
       "    <tr>\n",
       "      <th>558</th>\n",
       "      <td>[11592.576171875, 11592.576171875]</td>\n",
       "      <td>[1850.5804443359375, 2294.733642578125]</td>\n",
       "      <td>[-0.22858543694019318, -0.22858543694019318]</td>\n",
       "      <td>[0.2433209866285324, 0.2433209866285324]</td>\n",
       "    </tr>\n",
       "    <tr>\n",
       "      <th>559</th>\n",
       "      <td>[9751.6259765625]</td>\n",
       "      <td>[2263.62890625]</td>\n",
       "      <td>[-0.15377356112003326]</td>\n",
       "      <td>[-1.8734217882156372]</td>\n",
       "    </tr>\n",
       "    <tr>\n",
       "      <th>560</th>\n",
       "      <td>[23302.40625, 23302.40625]</td>\n",
       "      <td>[1910.8150634765625, 2211.935546875]</td>\n",
       "      <td>[1.089045524597168, 1.089045524597168]</td>\n",
       "      <td>[-2.7747840881347656, -2.7747840881347656]</td>\n",
       "    </tr>\n",
       "  </tbody>\n",
       "</table>\n",
       "<p>561 rows × 4 columns</p>\n",
       "</div>"
      ],
      "text/plain": [
       "                               DMesons_pt  \\\n",
       "0    [5735.74853515625, 5735.74853515625]   \n",
       "1                             [10047.125]   \n",
       "2          [18993.7421875, 18993.7421875]   \n",
       "3      [10118.494140625, 10118.494140625]   \n",
       "4      [12579.470703125, 12579.470703125]   \n",
       "..                                    ...   \n",
       "556  [5451.50732421875, 5451.50732421875]   \n",
       "557        [30662.75, 30662.75, 30662.75]   \n",
       "558    [11592.576171875, 11592.576171875]   \n",
       "559                     [9751.6259765625]   \n",
       "560            [23302.40625, 23302.40625]   \n",
       "\n",
       "                                             DMesons_m  \\\n",
       "0              [1860.0809326171875, 2207.808349609375]   \n",
       "1                                 [1862.4176025390625]   \n",
       "2                      [1853.90625, 2398.886962890625]   \n",
       "3                       [1874.203125, 2468.1806640625]   \n",
       "4               [1884.987060546875, 2220.384521484375]   \n",
       "..                                                 ...   \n",
       "556             [1849.396240234375, 2459.749755859375]   \n",
       "557  [1872.678955078125, 2392.157470703125, 2270.92...   \n",
       "558            [1850.5804443359375, 2294.733642578125]   \n",
       "559                                    [2263.62890625]   \n",
       "560               [1910.8150634765625, 2211.935546875]   \n",
       "\n",
       "                                           DMesons_eta  \\\n",
       "0             [0.9682132005691528, 0.9682132005691528]   \n",
       "1                                [0.08182407170534134]   \n",
       "2           [-1.6619627475738525, -1.6619627475738525]   \n",
       "3         [0.041659336537122726, 0.041659336537122726]   \n",
       "4           [-1.1025604009628296, -1.1025604009628296]   \n",
       "..                                                 ...   \n",
       "556           [-0.064152292907238, -0.064152292907238]   \n",
       "557  [1.7234350442886353, 1.7234350442886353, 1.723...   \n",
       "558       [-0.22858543694019318, -0.22858543694019318]   \n",
       "559                             [-0.15377356112003326]   \n",
       "560             [1.089045524597168, 1.089045524597168]   \n",
       "\n",
       "                                           DMesons_phi  \n",
       "0             [1.2285282611846924, 1.2285282611846924]  \n",
       "1                                  [2.709681510925293]  \n",
       "2         [-0.46051180362701416, -0.46051180362701416]  \n",
       "3               [0.780849277973175, 0.780849277973175]  \n",
       "4             [0.7788794040679932, 0.7788794040679932]  \n",
       "..                                                 ...  \n",
       "556             [2.395824909210205, 2.395824909210205]  \n",
       "557  [-0.5089108347892761, -0.5089108347892761, -0....  \n",
       "558           [0.2433209866285324, 0.2433209866285324]  \n",
       "559                              [-1.8734217882156372]  \n",
       "560         [-2.7747840881347656, -2.7747840881347656]  \n",
       "\n",
       "[561 rows x 4 columns]"
      ]
     },
     "execution_count": 6,
     "metadata": {},
     "output_type": "execute_result"
    }
   ],
   "source": [
    "df = show(0, TTree, [\"DMesons_pt\", \"DMesons_m\", \"DMesons_eta\", \"DMesons_phi\"], 1000)\n",
    "\n",
    "#drop empty rows\n",
    "empty_indices = [i for i, x in enumerate(df['DMesons_pt']) if len(x) == 0]\n",
    "df = df.drop(empty_indices)\n",
    "df = df.reset_index(drop=True)\n",
    "df"
   ]
  },
  {
   "cell_type": "code",
   "execution_count": 7,
   "id": "3683f221-d51c-4043-8762-bb7cb4dda99f",
   "metadata": {},
   "outputs": [
    {
     "data": {
      "text/html": [
       "<div>\n",
       "<style scoped>\n",
       "    .dataframe tbody tr th:only-of-type {\n",
       "        vertical-align: middle;\n",
       "    }\n",
       "\n",
       "    .dataframe tbody tr th {\n",
       "        vertical-align: top;\n",
       "    }\n",
       "\n",
       "    .dataframe thead th {\n",
       "        text-align: right;\n",
       "    }\n",
       "</style>\n",
       "<table border=\"1\" class=\"dataframe\">\n",
       "  <thead>\n",
       "    <tr style=\"text-align: right;\">\n",
       "      <th></th>\n",
       "      <th>TruthParticles_Selected_daughterInfoT__pt</th>\n",
       "      <th>TruthParticles_Selected_daughterInfoT__phi</th>\n",
       "      <th>TruthParticles_Selected_daughterInfoT__eta</th>\n",
       "      <th>TruthParticles_Selected_daughterInfoT__pdgId</th>\n",
       "    </tr>\n",
       "  </thead>\n",
       "  <tbody>\n",
       "    <tr>\n",
       "      <th>0</th>\n",
       "      <td>((1123.1682, 3878.585, 958.6866))</td>\n",
       "      <td>((1.2170534, 1.3581188, 0.70865583))</td>\n",
       "      <td>((1.0610737, 0.8769237, 1.0839401))</td>\n",
       "      <td>((-321, 211, 211))</td>\n",
       "    </tr>\n",
       "    <tr>\n",
       "      <th>1</th>\n",
       "      <td>((6099.8413, 1293.4324, 2749.1514))</td>\n",
       "      <td>((2.6134217, 2.7200499, 2.921711))</td>\n",
       "      <td>((0.16281185, 0.01096963, -0.0618442))</td>\n",
       "      <td>((-321, 211, 211))</td>\n",
       "    </tr>\n",
       "    <tr>\n",
       "      <th>2</th>\n",
       "      <td>((6289.112, 6667.3516, 6242.084, 28.585157))</td>\n",
       "      <td>((-0.37195462, -0.4972521, -0.5173161, -0.4602...</td>\n",
       "      <td>((-1.6081908, -1.7318903, -1.6300088, -1.675798))</td>\n",
       "      <td>((-321, 211, 211, 22))</td>\n",
       "    </tr>\n",
       "    <tr>\n",
       "      <th>3</th>\n",
       "      <td>((9216.71, 35438.234, 17588.225))</td>\n",
       "      <td>((1.943759, 1.9455862, 1.9117515))</td>\n",
       "      <td>((1.9568142, 1.9821448, 1.9503908))</td>\n",
       "      <td>((-321, 211, 211))</td>\n",
       "    </tr>\n",
       "    <tr>\n",
       "      <th>4</th>\n",
       "      <td>((2002.057, 217.7519, 3713.5286))</td>\n",
       "      <td>((-2.5672243, -2.1763499, -2.424952))</td>\n",
       "      <td>((-1.141573, -2.3164506, -1.0353537))</td>\n",
       "      <td>((-321, 211, 211))</td>\n",
       "    </tr>\n",
       "    <tr>\n",
       "      <th>...</th>\n",
       "      <td>...</td>\n",
       "      <td>...</td>\n",
       "      <td>...</td>\n",
       "      <td>...</td>\n",
       "    </tr>\n",
       "    <tr>\n",
       "      <th>95</th>\n",
       "      <td>((17283.592, 11127.83, 2269.0156))</td>\n",
       "      <td>((-1.2229255, -1.1584013, -1.2499286))</td>\n",
       "      <td>((1.0530417, 0.96933776, 1.0846719))</td>\n",
       "      <td>((-321, 211, 211))</td>\n",
       "    </tr>\n",
       "    <tr>\n",
       "      <th>96</th>\n",
       "      <td>((2717.658, 2378.877, 3322.9329))</td>\n",
       "      <td>((1.999257, 1.7257324, 2.1980765))</td>\n",
       "      <td>((-0.9154043, -0.8531621, -0.92165047))</td>\n",
       "      <td>((-321, 211, 211))</td>\n",
       "    </tr>\n",
       "    <tr>\n",
       "      <th>97</th>\n",
       "      <td>((4168.7734, 4860.371, 5686.8403))</td>\n",
       "      <td>((1.6158586, 1.8247527, 1.7706314))</td>\n",
       "      <td>((1.2174535, 1.3751649, 1.3461574))</td>\n",
       "      <td>((-321, 211, 211))</td>\n",
       "    </tr>\n",
       "    <tr>\n",
       "      <th>98</th>\n",
       "      <td>((2238.6755, 2704.6172, 1943.9313, 0.03954884))</td>\n",
       "      <td>((-0.99995846, -1.284502, -1.5321594, -1.16269...</td>\n",
       "      <td>((0.8392169, 0.56356186, 0.6247644, 0.7225411))</td>\n",
       "      <td>((-321, 211, 211, 22))</td>\n",
       "    </tr>\n",
       "    <tr>\n",
       "      <th>99</th>\n",
       "      <td>((2117.3499, 3322.9875, 1840.0812, 18.818924))</td>\n",
       "      <td>((-2.358169, -2.3722708, -2.3669577, -2.5784354))</td>\n",
       "      <td>((0.26826814, 0.55325913, 0.036961123, 0.83582...</td>\n",
       "      <td>((-321, 211, 211, 22))</td>\n",
       "    </tr>\n",
       "  </tbody>\n",
       "</table>\n",
       "<p>100 rows × 4 columns</p>\n",
       "</div>"
      ],
      "text/plain": [
       "          TruthParticles_Selected_daughterInfoT__pt  \\\n",
       "0                 ((1123.1682, 3878.585, 958.6866))   \n",
       "1               ((6099.8413, 1293.4324, 2749.1514))   \n",
       "2      ((6289.112, 6667.3516, 6242.084, 28.585157))   \n",
       "3                 ((9216.71, 35438.234, 17588.225))   \n",
       "4                 ((2002.057, 217.7519, 3713.5286))   \n",
       "..                                              ...   \n",
       "95               ((17283.592, 11127.83, 2269.0156))   \n",
       "96                ((2717.658, 2378.877, 3322.9329))   \n",
       "97               ((4168.7734, 4860.371, 5686.8403))   \n",
       "98  ((2238.6755, 2704.6172, 1943.9313, 0.03954884))   \n",
       "99   ((2117.3499, 3322.9875, 1840.0812, 18.818924))   \n",
       "\n",
       "           TruthParticles_Selected_daughterInfoT__phi  \\\n",
       "0                ((1.2170534, 1.3581188, 0.70865583))   \n",
       "1                  ((2.6134217, 2.7200499, 2.921711))   \n",
       "2   ((-0.37195462, -0.4972521, -0.5173161, -0.4602...   \n",
       "3                  ((1.943759, 1.9455862, 1.9117515))   \n",
       "4               ((-2.5672243, -2.1763499, -2.424952))   \n",
       "..                                                ...   \n",
       "95             ((-1.2229255, -1.1584013, -1.2499286))   \n",
       "96                 ((1.999257, 1.7257324, 2.1980765))   \n",
       "97                ((1.6158586, 1.8247527, 1.7706314))   \n",
       "98  ((-0.99995846, -1.284502, -1.5321594, -1.16269...   \n",
       "99  ((-2.358169, -2.3722708, -2.3669577, -2.5784354))   \n",
       "\n",
       "           TruthParticles_Selected_daughterInfoT__eta  \\\n",
       "0                 ((1.0610737, 0.8769237, 1.0839401))   \n",
       "1              ((0.16281185, 0.01096963, -0.0618442))   \n",
       "2   ((-1.6081908, -1.7318903, -1.6300088, -1.675798))   \n",
       "3                 ((1.9568142, 1.9821448, 1.9503908))   \n",
       "4               ((-1.141573, -2.3164506, -1.0353537))   \n",
       "..                                                ...   \n",
       "95               ((1.0530417, 0.96933776, 1.0846719))   \n",
       "96            ((-0.9154043, -0.8531621, -0.92165047))   \n",
       "97                ((1.2174535, 1.3751649, 1.3461574))   \n",
       "98    ((0.8392169, 0.56356186, 0.6247644, 0.7225411))   \n",
       "99  ((0.26826814, 0.55325913, 0.036961123, 0.83582...   \n",
       "\n",
       "   TruthParticles_Selected_daughterInfoT__pdgId  \n",
       "0                            ((-321, 211, 211))  \n",
       "1                            ((-321, 211, 211))  \n",
       "2                        ((-321, 211, 211, 22))  \n",
       "3                            ((-321, 211, 211))  \n",
       "4                            ((-321, 211, 211))  \n",
       "..                                          ...  \n",
       "95                           ((-321, 211, 211))  \n",
       "96                           ((-321, 211, 211))  \n",
       "97                           ((-321, 211, 211))  \n",
       "98                       ((-321, 211, 211, 22))  \n",
       "99                       ((-321, 211, 211, 22))  \n",
       "\n",
       "[100 rows x 4 columns]"
      ]
     },
     "execution_count": 7,
     "metadata": {},
     "output_type": "execute_result"
    }
   ],
   "source": [
    "TTree2 = process_ntuple(files[0])\n",
    "\n",
    "\n",
    "df2 = show(0, TTree2, ['TruthParticles_Selected_daughterInfoT__pt', 'TruthParticles_Selected_daughterInfoT__phi','TruthParticles_Selected_daughterInfoT__eta', 'TruthParticles_Selected_daughterInfoT__pdgId'], 100)\n",
    "empty_indices2 = [i for i, x in enumerate(df2['TruthParticles_Selected_daughterInfoT__pt']) if len(x) == 0]\n",
    "df2 = df2.drop(empty_indices2)\n",
    "df2 = df2.reset_index(drop=True)\n",
    "df2"
   ]
  },
  {
   "cell_type": "markdown",
   "id": "0f109e2a-5ed0-4429-b7df-ac7eace80362",
   "metadata": {},
   "source": [
    "This section is for ROOT plotting and analysis"
   ]
  },
  {
   "cell_type": "code",
   "execution_count": 8,
   "id": "c579c230-0095-455e-a788-57f112f2368b",
   "metadata": {},
   "outputs": [
    {
     "data": {
      "image/png": "[encoded data removed]",
      "text/plain": [
       "<IPython.core.display.Image object>"
      ]
     },
     "metadata": {},
     "output_type": "display_data"
    }
   ],
   "source": [
    "DMesons_pt = []\n",
    "for pt in df['DMesons_pt']:\n",
    "    DMesons_pt.extend(pt)\n",
    "\n",
    "nbins = 50\n",
    "xmin = np.min(df[\"DMesons_pt\"])\n",
    "xmax = np.max(df[\"DMesons_pt\"])\n",
    "\n",
    "hist = ROOT.TH1F(\"hist_pt\", \"DMesons_pt Histogram\", nbins, xmin, xmax)\n",
    "\n",
    "for i in range(len(df[\"DMesons_pt\"])):\n",
    "    pt = df[\"DMesons_pt\"][i]\n",
    "    for val in pt:\n",
    "        hist.Fill(val)\n",
    "\n",
    "# Draw the histogram\n",
    "c = ROOT.TCanvas(\"c\", \"c\", 800, 600)\n",
    "hist.Draw()\n",
    "c.Draw()"
   ]
  },
  {
   "cell_type": "markdown",
   "id": "409af6dd-4656-4ac9-8ecd-2d8c4f50eec6",
   "metadata": {},
   "source": [
    "Creating Dalitz plot for Monte Carlo $D^{+}\\rightarrow k^{-} \\pi^{+} \\pi^{+}$ and $\\lambda_c^{+}\\rightarrow p k^{-} \\pi^{+}$, Using TLorentzVectors does it agree with CLEO (https://arxiv.org/pdf/0707.3060.pdf)>"
   ]
  },
  {
   "cell_type": "code",
   "execution_count": 10,
   "id": "d865f1bc-329e-4561-923f-e91544b544a8",
   "metadata": {},
   "outputs": [
    {
     "name": "stdout",
     "output_type": "stream",
     "text": [
      "Skipping 2\n",
      "Skipping 6\n",
      "Skipping 31\n",
      "Skipping 33\n",
      "Skipping 34\n",
      "Skipping 42\n",
      "Skipping 45\n",
      "Skipping 47\n",
      "Skipping 68\n",
      "Skipping 82\n",
      "Skipping 89\n",
      "Skipping 89\n",
      "Skipping 91\n",
      "Skipping 98\n",
      "Skipping 99\n"
     ]
    }
   ],
   "source": [
    "k_mass = 0.493677 \n",
    "pi_mass = 0.13957061 \n",
    "\n",
    "TLorentzVectorList = []\n",
    "for index, row in df2.iterrows():\n",
    "    pts = row['TruthParticles_Selected_daughterInfoT__pt'][0]\n",
    "    etas = row['TruthParticles_Selected_daughterInfoT__eta'][0]\n",
    "    phis = row['TruthParticles_Selected_daughterInfoT__phi'][0]\n",
    "    pdgids = row['TruthParticles_Selected_daughterInfoT__pdgId'][0]\n",
    "\n",
    "    # Loop over the values and create the TLorentz vectors\n",
    "    for pt, eta, phi, pdgid in zip(pts, etas, phis, pdgids):\n",
    "        if pdgid == 211:\n",
    "            m = pi_mass\n",
    "        elif pdgid == -321:\n",
    "            m = k_mass\n",
    "        else:\n",
    "            print(\"Skipping {}\".format(index))\n",
    "            continue\n",
    "\n",
    "        # Create the TLorentz vector\n",
    "        p = ROOT.TLorentzVector()\n",
    "        p.SetPtEtaPhiM(pt, eta, phi, m)\n",
    "        TLorentzVectorList.append(p)\n",
    "        \n",
    "    #print(f\"Event {index}: {len(TLorentzVectorList)} particles\")\n"
   ]
  },
  {
   "cell_type": "code",
   "execution_count": 11,
   "id": "c683f33a-da95-4ed6-bad0-dffc13812de5",
   "metadata": {},
   "outputs": [
    {
     "name": "stdout",
     "output_type": "stream",
     "text": [
      "(300,)\n"
     ]
    }
   ],
   "source": [
    "print(np.shape(TLorentzVectorList))"
   ]
  },
  {
   "cell_type": "code",
   "execution_count": 12,
   "id": "6855507a-2592-416c-9c46-b08d8aded64f",
   "metadata": {},
   "outputs": [],
   "source": [
    "inv_mass_squared = lambda p1, p2: (p1 + p2).M2()\n",
    "\n",
    "TLorentzVectorsInvMass = []\n",
    "for i in range(len(TLorentzVectorList)):\n",
    "    p1 = TLorentzVectorList[i]    \n",
    "    M2 = inv_mass_squared(p1, p1)\n",
    "    TLorentzVectorsInvMass.append(M2)"
   ]
  },
  {
   "cell_type": "code",
   "execution_count": 20,
   "id": "4c5b64f5-4493-49a6-864f-06e6dc71d48b",
   "metadata": {},
   "outputs": [
    {
     "name": "stdout",
     "output_type": "stream",
     "text": [
      "300\n"
     ]
    }
   ],
   "source": [
    "print(len(TLorentzVectorsInvMass))"
   ]
  },
  {
   "cell_type": "code",
   "execution_count": null,
   "id": "2d204225-8986-4d4f-a36e-376b4e8ef08e",
   "metadata": {},
   "outputs": [],
   "source": []
  }
 ],
 "metadata": {
  "kernelspec": {
   "display_name": "cernROOT",
   "language": "python",
   "name": "cernroot"
  },
  "language_info": {
   "codemirror_mode": {
    "name": "ipython",
    "version": 3
   },
   "file_extension": ".py",
   "mimetype": "text/x-python",
   "name": "python",
   "nbconvert_exporter": "python",
   "pygments_lexer": "ipython3",
   "version": "3.11.0"
  }
 },
 "nbformat": 4,
 "nbformat_minor": 5
}
