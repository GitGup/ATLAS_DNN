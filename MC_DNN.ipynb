{
 "cells": [
  {
   "cell_type": "code",
   "execution_count": 10,
   "id": "31a7a761-3ae0-4c84-9f77-ec0c8ec1b6b7",
   "metadata": {},
   "outputs": [],
   "source": [
    "import numpy as np\n",
    "import pandas as pd\n",
    "import tensorflow as tf\n",
    "from keras.models import Sequential\n",
    "from keras.layers import Dense, Activation\n",
    "from keras import layers\n",
    "import os\n",
    "\n",
    "from process_ntuples import *"
   ]
  },
  {
   "cell_type": "code",
   "execution_count": 11,
   "id": "04c3b3b8-44f1-4c2e-b001-900d504b7e41",
   "metadata": {},
   "outputs": [
    {
     "data": {
      "text/plain": [
       "['CharmAnalysis.mc.ForcedDecay.Dplus.tree.root',\n",
       " 'CharmAnalysis.mc.ForcedDecay.LabmdaC.tree.root']"
      ]
     },
     "execution_count": 11,
     "metadata": {},
     "output_type": "execute_result"
    }
   ],
   "source": [
    "dir_path = \"/global/cfs/cdirs/atlas/gottino/Charm/Analysis/run_batch_gup/ntuples\"\n",
    "\n",
    "files = os.listdir(dir_path)\n",
    "files"
   ]
  },
  {
   "cell_type": "code",
   "execution_count": 12,
   "id": "4cd8c4d4-08df-474e-8492-ed3e336e86a2",
   "metadata": {},
   "outputs": [
    {
     "data": {
      "text/plain": [
       "'CharmAnalysis'"
      ]
     },
     "execution_count": 12,
     "metadata": {},
     "output_type": "execute_result"
    }
   ],
   "source": [
    "TTree = process_ntuple(dir_path, files[0])\n",
    "TTree.name"
   ]
  },
  {
   "cell_type": "code",
   "execution_count": 109,
   "id": "5425dbf8-02ff-4498-a6c4-1f60ebafcc9c",
   "metadata": {},
   "outputs": [
    {
     "data": {
      "text/html": [
       "<div>\n",
       "<style scoped>\n",
       "    .dataframe tbody tr th:only-of-type {\n",
       "        vertical-align: middle;\n",
       "    }\n",
       "\n",
       "    .dataframe tbody tr th {\n",
       "        vertical-align: top;\n",
       "    }\n",
       "\n",
       "    .dataframe thead th {\n",
       "        text-align: right;\n",
       "    }\n",
       "</style>\n",
       "<table border=\"1\" class=\"dataframe\">\n",
       "  <thead>\n",
       "    <tr style=\"text-align: right;\">\n",
       "      <th></th>\n",
       "      <th>DMesons_daughterInfo__pt</th>\n",
       "      <th>DMesons_daughterInfo__eta</th>\n",
       "      <th>DMesons_daughterInfo__phi</th>\n",
       "      <th>DMesons_daughterInfo__pdgId</th>\n",
       "    </tr>\n",
       "  </thead>\n",
       "  <tbody>\n",
       "    <tr>\n",
       "      <th>0</th>\n",
       "      <td>((1118.3367, 3805.8997, 971.6052), (3805.8997,...</td>\n",
       "      <td>((1.0579262, 0.8759657, 1.0816675), (0.8759657...</td>\n",
       "      <td>((1.2175969, 1.3583351, 0.71336174), (1.358335...</td>\n",
       "      <td>((-321, 211, 211), (2212, -321, 211))</td>\n",
       "    </tr>\n",
       "    <tr>\n",
       "      <th>1</th>\n",
       "      <td>((6094.893, 1307.462, 2733.4648))</td>\n",
       "      <td>((0.15998553, 0.011107716, -0.0614343))</td>\n",
       "      <td>((2.6128821, 2.7195172, 2.9228168))</td>\n",
       "      <td>((-321, 211, 211))</td>\n",
       "    </tr>\n",
       "    <tr>\n",
       "      <th>2</th>\n",
       "      <td>((6457.058, 5970.0933, 6637.575), (6605.627, 6...</td>\n",
       "      <td>((-1.608788, -1.6307458, -1.7315177), (-1.7326...</td>\n",
       "      <td>((-0.371787, -0.5164238, -0.4971406), (-0.4966...</td>\n",
       "      <td>((-321, 211, 211), (2212, -321, 211))</td>\n",
       "    </tr>\n",
       "    <tr>\n",
       "      <th>3</th>\n",
       "      <td>((3794.4978, 3308.3105, 3065.4814), (3308.3105...</td>\n",
       "      <td>((-0.073717244, 0.22605924, -0.017923404), (0....</td>\n",
       "      <td>((0.753864, 0.6827104, 0.920779), (0.6827104, ...</td>\n",
       "      <td>((-321, 211, 211), (2212, -321, 211))</td>\n",
       "    </tr>\n",
       "    <tr>\n",
       "      <th>4</th>\n",
       "      <td>((3781.5564, 7396.4673, 1412.3259), (7396.4673...</td>\n",
       "      <td>((-0.9284433, -1.182188, -1.1012387), (-1.1821...</td>\n",
       "      <td>((0.8518817, 0.7419038, 0.77916163), (0.741903...</td>\n",
       "      <td>((-321, 211, 211), (2212, -321, 211))</td>\n",
       "    </tr>\n",
       "    <tr>\n",
       "      <th>...</th>\n",
       "      <td>...</td>\n",
       "      <td>...</td>\n",
       "      <td>...</td>\n",
       "      <td>...</td>\n",
       "    </tr>\n",
       "    <tr>\n",
       "      <th>556</th>\n",
       "      <td>((2248.0342, 1560.9309, 1777.5198), (1776.7628...</td>\n",
       "      <td>((-0.27776414, -0.030297821, 0.18143338), (0.1...</td>\n",
       "      <td>((2.6425247, 2.1114702, 2.3337889), (2.3332653...</td>\n",
       "      <td>((-321, 211, 211), (2212, -321, 211))</td>\n",
       "    </tr>\n",
       "    <tr>\n",
       "      <th>557</th>\n",
       "      <td>((2843.811, 12120.83, 15722.865), (12120.83, 2...</td>\n",
       "      <td>((1.6837795, 1.7058395, 1.7437785), (1.7058395...</td>\n",
       "      <td>((-0.5526616, -0.51433957, -0.4968482), (-0.51...</td>\n",
       "      <td>((-321, 211, 211), (2212, -321, 211), (2212, -...</td>\n",
       "    </tr>\n",
       "    <tr>\n",
       "      <th>558</th>\n",
       "      <td>((5232.3657, 5543.935, 850.05676), (5543.935, ...</td>\n",
       "      <td>((-0.24407308, -0.15124202, -0.6015392), (-0.1...</td>\n",
       "      <td>((0.29564288, 0.23316427, -0.011730594), (0.23...</td>\n",
       "      <td>((-321, 211, 211), (2212, -321, 211))</td>\n",
       "    </tr>\n",
       "    <tr>\n",
       "      <th>559</th>\n",
       "      <td>((5233.4795, 1644.8683, 2888.8506))</td>\n",
       "      <td>((-0.20566566, 0.1395557, -0.22413868))</td>\n",
       "      <td>((-1.8748832, -1.9805108, -1.8100455))</td>\n",
       "      <td>((2212, -321, 211))</td>\n",
       "    </tr>\n",
       "    <tr>\n",
       "      <th>560</th>\n",
       "      <td>((6198.6924, 16160.542, 985.5274), (16160.542,...</td>\n",
       "      <td>((1.0706667, 1.0903192, 1.1485869), (1.0903192...</td>\n",
       "      <td>((-2.7126276, -2.7828696, -3.0341187), (-2.782...</td>\n",
       "      <td>((-321, 211, 211), (2212, -321, 211))</td>\n",
       "    </tr>\n",
       "  </tbody>\n",
       "</table>\n",
       "<p>561 rows × 4 columns</p>\n",
       "</div>"
      ],
      "text/plain": [
       "                              DMesons_daughterInfo__pt  \\\n",
       "0    ((1118.3367, 3805.8997, 971.6052), (3805.8997,...   \n",
       "1                    ((6094.893, 1307.462, 2733.4648))   \n",
       "2    ((6457.058, 5970.0933, 6637.575), (6605.627, 6...   \n",
       "3    ((3794.4978, 3308.3105, 3065.4814), (3308.3105...   \n",
       "4    ((3781.5564, 7396.4673, 1412.3259), (7396.4673...   \n",
       "..                                                 ...   \n",
       "556  ((2248.0342, 1560.9309, 1777.5198), (1776.7628...   \n",
       "557  ((2843.811, 12120.83, 15722.865), (12120.83, 2...   \n",
       "558  ((5232.3657, 5543.935, 850.05676), (5543.935, ...   \n",
       "559                ((5233.4795, 1644.8683, 2888.8506))   \n",
       "560  ((6198.6924, 16160.542, 985.5274), (16160.542,...   \n",
       "\n",
       "                             DMesons_daughterInfo__eta  \\\n",
       "0    ((1.0579262, 0.8759657, 1.0816675), (0.8759657...   \n",
       "1              ((0.15998553, 0.011107716, -0.0614343))   \n",
       "2    ((-1.608788, -1.6307458, -1.7315177), (-1.7326...   \n",
       "3    ((-0.073717244, 0.22605924, -0.017923404), (0....   \n",
       "4    ((-0.9284433, -1.182188, -1.1012387), (-1.1821...   \n",
       "..                                                 ...   \n",
       "556  ((-0.27776414, -0.030297821, 0.18143338), (0.1...   \n",
       "557  ((1.6837795, 1.7058395, 1.7437785), (1.7058395...   \n",
       "558  ((-0.24407308, -0.15124202, -0.6015392), (-0.1...   \n",
       "559            ((-0.20566566, 0.1395557, -0.22413868))   \n",
       "560  ((1.0706667, 1.0903192, 1.1485869), (1.0903192...   \n",
       "\n",
       "                             DMesons_daughterInfo__phi  \\\n",
       "0    ((1.2175969, 1.3583351, 0.71336174), (1.358335...   \n",
       "1                  ((2.6128821, 2.7195172, 2.9228168))   \n",
       "2    ((-0.371787, -0.5164238, -0.4971406), (-0.4966...   \n",
       "3    ((0.753864, 0.6827104, 0.920779), (0.6827104, ...   \n",
       "4    ((0.8518817, 0.7419038, 0.77916163), (0.741903...   \n",
       "..                                                 ...   \n",
       "556  ((2.6425247, 2.1114702, 2.3337889), (2.3332653...   \n",
       "557  ((-0.5526616, -0.51433957, -0.4968482), (-0.51...   \n",
       "558  ((0.29564288, 0.23316427, -0.011730594), (0.23...   \n",
       "559             ((-1.8748832, -1.9805108, -1.8100455))   \n",
       "560  ((-2.7126276, -2.7828696, -3.0341187), (-2.782...   \n",
       "\n",
       "                           DMesons_daughterInfo__pdgId  \n",
       "0                ((-321, 211, 211), (2212, -321, 211))  \n",
       "1                                   ((-321, 211, 211))  \n",
       "2                ((-321, 211, 211), (2212, -321, 211))  \n",
       "3                ((-321, 211, 211), (2212, -321, 211))  \n",
       "4                ((-321, 211, 211), (2212, -321, 211))  \n",
       "..                                                 ...  \n",
       "556              ((-321, 211, 211), (2212, -321, 211))  \n",
       "557  ((-321, 211, 211), (2212, -321, 211), (2212, -...  \n",
       "558              ((-321, 211, 211), (2212, -321, 211))  \n",
       "559                                ((2212, -321, 211))  \n",
       "560              ((-321, 211, 211), (2212, -321, 211))  \n",
       "\n",
       "[561 rows x 4 columns]"
      ]
     },
     "execution_count": 109,
     "metadata": {},
     "output_type": "execute_result"
    }
   ],
   "source": [
    "DMesons_df = show(0, TTree, [\"DMesons_daughterInfo__pt\", \"DMesons_daughterInfo__eta\", \"DMesons_daughterInfo__phi\", \"DMesons_daughterInfo__pdgId\"], 1000)\n",
    "DMesons_df = remove_empty(DMesons_df)\n",
    "DMesons_df"
   ]
  },
  {
   "cell_type": "code",
   "execution_count": 126,
   "id": "aa732799-149f-4d7c-bf43-4d760bfc9749",
   "metadata": {},
   "outputs": [
    {
     "name": "stdout",
     "output_type": "stream",
     "text": [
      "[[-321, 211, 211], [2212, -321, 211]]\n",
      "[[-321, 211, 211]]\n",
      "[[-321, 211, 211], [2212, -321, 211]]\n",
      "[[-321, 211, 211], [2212, -321, 211]]\n",
      "[[-321, 211, 211], [2212, -321, 211]]\n"
     ]
    }
   ],
   "source": [
    "tuple_list = DMesons_df.to_records(index=False).tolist()\n",
    "\n",
    "for i in range(len(tuple_list)):\n",
    "    if i == 5:\n",
    "        break\n",
    "    for j in range(len(tuple_list[i])):\n",
    "        if j == 3:\n",
    "            print(tuple_list[i][j])"
   ]
  },
  {
   "cell_type": "code",
   "execution_count": 176,
   "id": "cb8981e7-9eec-4d65-b4e0-00aac573cae2",
   "metadata": {},
   "outputs": [
    {
     "name": "stdout",
     "output_type": "stream",
     "text": [
      "32 2\n",
      "46 1\n",
      "48 1\n",
      "66 2\n",
      "70 1\n",
      "72 1\n",
      "77 2\n",
      "84 1\n",
      "88 2\n",
      "94 1\n"
     ]
    }
   ],
   "source": [
    "DPlus = [-321, 211, 211]\n",
    "LambdaC = [2212, -321, 211]\n",
    "\n",
    "count = 0\n",
    "\n",
    "remove_lambda = []\n",
    "\n",
    "for index, row in DMesons_df.iterrows():\n",
    "    if count == 500:\n",
    "        break\n",
    "    count+=1\n",
    "    \n",
    "    pts = row['DMesons_daughterInfo__pt']\n",
    "    etas = row['DMesons_daughterInfo__eta']\n",
    "    phis = row['DMesons_daughterInfo__phi']\n",
    "    pdgids = row[\"DMesons_daughterInfo__pdgId\"]\n",
    "    \n",
    "    #loop through until the first lambda encountered\n",
    "    for i in range(len(pdgids) - 1):\n",
    "        #if there are multiple lambda baryons\n",
    "        if len(pdgids) > 2:\n",
    "            #print(np.shape(pdgids))\n",
    "            #stop at the first lambda and keep the higher proton pt valued lambda\n",
    "            if list(pdgids[i]) == LambdaC:\n",
    "                l1_pt, l2_pt = pts[i][0], pts[i + 1][0]\n",
    "                if (l1_pt > l2_pt):\n",
    "                    #Lambda 1's proton has higher pt\n",
    "                    remove_lambda.append((index, i + 1))\n",
    "                elif (l1_pt < l2_pt):\n",
    "                    #Lambda 2's proton has higher pt!\n",
    "                    remove_lambda.append((index, i))\n",
    "                else:\n",
    "                    raise Exception(\"Error: Are the proton pts equal?\")\n",
    "\n",
    "#takes tuples of shape (2,) / (index, column)\n",
    "def remove_particles_from_df(tuple_list):\n",
    "    for tup in tuple_list:\n",
    "        index, column = tup\n",
    "        print(index, column)\n",
    "\n",
    "remove_particles_from_df(remove_lambda[:10])"
   ]
  },
  {
   "cell_type": "code",
   "execution_count": 81,
   "id": "372ff6a0-f693-435f-8f8d-1f790a5e5177",
   "metadata": {},
   "outputs": [
    {
     "name": "stdout",
     "output_type": "stream",
     "text": [
      "Model: \"sequential\"\n",
      "_________________________________________________________________\n",
      " Layer (type)                Output Shape              Param #   \n",
      "=================================================================\n",
      " dense (Dense)               (None, 6)                 144       \n",
      "                                                                 \n",
      " dense_1 (Dense)             (None, 1)                 7         \n",
      "                                                                 \n",
      "=================================================================\n",
      "Total params: 151\n",
      "Trainable params: 151\n",
      "Non-trainable params: 0\n",
      "_________________________________________________________________\n"
     ]
    },
    {
     "name": "stderr",
     "output_type": "stream",
     "text": [
      "2023-03-30 21:13:34.071910: E tensorflow/compiler/xla/stream_executor/cuda/cuda_driver.cc:267] failed call to cuInit: CUDA_ERROR_NO_DEVICE: no CUDA-capable device is detected\n",
      "2023-03-30 21:13:34.072000: I tensorflow/compiler/xla/stream_executor/cuda/cuda_diagnostics.cc:156] kernel driver does not appear to be running on this host (cori13): /proc/driver/nvidia/version does not exist\n",
      "2023-03-30 21:13:34.078976: I tensorflow/core/platform/cpu_feature_guard.cc:193] This TensorFlow binary is optimized with oneAPI Deep Neural Network Library (oneDNN) to use the following CPU instructions in performance-critical operations:  AVX2 FMA\n",
      "To enable them in other operations, rebuild TensorFlow with the appropriate compiler flags.\n"
     ]
    }
   ],
   "source": [
    "model = Sequential()\n",
    "model.add(tf.keras.Input(shape = (23)))\n",
    "model.add(Dense(6, activation = \"relu\"))\n",
    "model.add(Dense(1, activation = \"relu\"))\n",
    "\n",
    "loss=tf.keras.losses.MeanSquaredError()\n",
    "model.compile(loss= loss, optimizer= tf.keras.optimizers.Adam(learning_rate = 0.01))\n",
    "\n",
    "model.summary()"
   ]
  },
  {
   "cell_type": "code",
   "execution_count": null,
   "id": "ae33c9dd-0a8d-4e60-861a-51f98fb0b8b5",
   "metadata": {},
   "outputs": [],
   "source": []
  }
 ],
 "metadata": {
  "kernelspec": {
   "display_name": "NERSC Python",
   "language": "python",
   "name": "python3"
  },
  "language_info": {
   "codemirror_mode": {
    "name": "ipython",
    "version": 3
   },
   "file_extension": ".py",
   "mimetype": "text/x-python",
   "name": "python",
   "nbconvert_exporter": "python",
   "pygments_lexer": "ipython3",
   "version": "3.9.7"
  }
 },
 "nbformat": 4,
 "nbformat_minor": 5
}
