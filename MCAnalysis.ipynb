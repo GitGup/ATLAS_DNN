{
 "cells": [
  {
   "cell_type": "code",
   "execution_count": 1,
   "id": "04a2efcc-6026-480e-a7b5-7ede89c81881",
   "metadata": {},
   "outputs": [
    {
     "name": "stdout",
     "output_type": "stream",
     "text": [
      "Welcome to JupyROOT 6.28/00\n"
     ]
    }
   ],
   "source": [
    "import ROOT"
   ]
  },
  {
   "cell_type": "code",
   "execution_count": 5,
   "id": "9d7f7404-fb05-4851-8bf5-ead5e2dbce6b",
   "metadata": {},
   "outputs": [],
   "source": [
    "import uproot\n",
    "import numpy as np\n",
    "import pandas as pd\n",
    "import awkward as ak\n",
    "import os"
   ]
  },
  {
   "cell_type": "code",
   "execution_count": 6,
   "id": "56d9a6bd-ea49-4751-b70a-ec3be850babc",
   "metadata": {},
   "outputs": [
    {
     "data": {
      "text/plain": [
       "['CharmAnalysis.mc.ForcedDecay.Dplus.tree.root',\n",
       " 'CharmAnalysis.mc.ForcedDecay.LabmdaC.tree.root']"
      ]
     },
     "execution_count": 6,
     "metadata": {},
     "output_type": "execute_result"
    }
   ],
   "source": [
    "dir_path = \"/global/cfs/cdirs/atlas/gottino/Charm/Analysis/run_batch_gup/ntuples\"\n",
    "\n",
    "files = os.listdir(dir_path)\n",
    "files"
   ]
  },
  {
   "cell_type": "code",
   "execution_count": 9,
   "id": "74d8351c-9034-4699-9c6e-d0446068db3b",
   "metadata": {},
   "outputs": [],
   "source": [
    "#processes ntunples given directory: returns trees \n",
    "def process_ntuple(ntuple):\n",
    "    file = uproot.open(dir_path + \"/\" + ntuple)\n",
    "    tree = file[\"CharmAnalysis;1\"]\n",
    "    return tree\n",
    "\n",
    "#takes event #, list of branches, and batch size: returns tuple of branches with data\n",
    "def show(event, TTree, branches, batch_size):\n",
    "    #if we want the entire data set set batch size = 0\n",
    "    if batch_size == 0:\n",
    "        batch_size = TTree.num_entries\n",
    "\n",
    "    #iterates through TTree as generator functiona and yields batches of data\n",
    "    current_event = 0\n",
    "    for array in TTree.iterate(branches, step_size = batch_size, library = \"pd\"):\n",
    "        arrays = array[branches]\n",
    "        if current_event == event:\n",
    "            break\n",
    "        current_event+=1\n",
    "    return arrays"
   ]
  },
  {
   "cell_type": "code",
   "execution_count": 10,
   "id": "d2a9c9f8-5bec-4c51-9b8d-7332c2f6f611",
   "metadata": {},
   "outputs": [
    {
     "data": {
      "text/plain": [
       "'CharmAnalysis'"
      ]
     },
     "execution_count": 10,
     "metadata": {},
     "output_type": "execute_result"
    }
   ],
   "source": [
    "TTree = process_ntuple(files[0])\n",
    "TTree.name"
   ]
  },
  {
   "cell_type": "code",
   "execution_count": 23,
   "id": "855c3bbc-4e44-4550-95db-b56c2a2d0b4a",
   "metadata": {},
   "outputs": [
    {
     "data": {
      "text/html": [
       "<div>\n",
       "<style scoped>\n",
       "    .dataframe tbody tr th:only-of-type {\n",
       "        vertical-align: middle;\n",
       "    }\n",
       "\n",
       "    .dataframe tbody tr th {\n",
       "        vertical-align: top;\n",
       "    }\n",
       "\n",
       "    .dataframe thead th {\n",
       "        text-align: right;\n",
       "    }\n",
       "</style>\n",
       "<table border=\"1\" class=\"dataframe\">\n",
       "  <thead>\n",
       "    <tr style=\"text-align: right;\">\n",
       "      <th></th>\n",
       "      <th>DMesons_pt</th>\n",
       "      <th>DMesons_m</th>\n",
       "      <th>DMesons_eta</th>\n",
       "      <th>DMesons_phi</th>\n",
       "    </tr>\n",
       "  </thead>\n",
       "  <tbody>\n",
       "    <tr>\n",
       "      <th>0</th>\n",
       "      <td>[5735.74853515625, 5735.74853515625]</td>\n",
       "      <td>[1860.0809326171875, 2207.808349609375]</td>\n",
       "      <td>[0.9682132005691528, 0.9682132005691528]</td>\n",
       "      <td>[1.2285282611846924, 1.2285282611846924]</td>\n",
       "    </tr>\n",
       "    <tr>\n",
       "      <th>1</th>\n",
       "      <td>[10047.125]</td>\n",
       "      <td>[1862.4176025390625]</td>\n",
       "      <td>[0.08182407170534134]</td>\n",
       "      <td>[2.709681510925293]</td>\n",
       "    </tr>\n",
       "    <tr>\n",
       "      <th>2</th>\n",
       "      <td>[18993.7421875, 18993.7421875]</td>\n",
       "      <td>[1853.90625, 2398.886962890625]</td>\n",
       "      <td>[-1.6619627475738525, -1.6619627475738525]</td>\n",
       "      <td>[-0.46051180362701416, -0.46051180362701416]</td>\n",
       "    </tr>\n",
       "    <tr>\n",
       "      <th>3</th>\n",
       "      <td>[10118.494140625, 10118.494140625]</td>\n",
       "      <td>[1874.203125, 2468.1806640625]</td>\n",
       "      <td>[0.041659336537122726, 0.041659336537122726]</td>\n",
       "      <td>[0.780849277973175, 0.780849277973175]</td>\n",
       "    </tr>\n",
       "    <tr>\n",
       "      <th>4</th>\n",
       "      <td>[12579.470703125, 12579.470703125]</td>\n",
       "      <td>[1884.987060546875, 2220.384521484375]</td>\n",
       "      <td>[-1.1025604009628296, -1.1025604009628296]</td>\n",
       "      <td>[0.7788794040679932, 0.7788794040679932]</td>\n",
       "    </tr>\n",
       "    <tr>\n",
       "      <th>...</th>\n",
       "      <td>...</td>\n",
       "      <td>...</td>\n",
       "      <td>...</td>\n",
       "      <td>...</td>\n",
       "    </tr>\n",
       "    <tr>\n",
       "      <th>556</th>\n",
       "      <td>[5451.50732421875, 5451.50732421875]</td>\n",
       "      <td>[1849.396240234375, 2459.749755859375]</td>\n",
       "      <td>[-0.064152292907238, -0.064152292907238]</td>\n",
       "      <td>[2.395824909210205, 2.395824909210205]</td>\n",
       "    </tr>\n",
       "    <tr>\n",
       "      <th>557</th>\n",
       "      <td>[30662.75, 30662.75, 30662.75]</td>\n",
       "      <td>[1872.678955078125, 2392.157470703125, 2270.92...</td>\n",
       "      <td>[1.7234350442886353, 1.7234350442886353, 1.723...</td>\n",
       "      <td>[-0.5089108347892761, -0.5089108347892761, -0....</td>\n",
       "    </tr>\n",
       "    <tr>\n",
       "      <th>558</th>\n",
       "      <td>[11592.576171875, 11592.576171875]</td>\n",
       "      <td>[1850.5804443359375, 2294.733642578125]</td>\n",
       "      <td>[-0.22858543694019318, -0.22858543694019318]</td>\n",
       "      <td>[0.2433209866285324, 0.2433209866285324]</td>\n",
       "    </tr>\n",
       "    <tr>\n",
       "      <th>559</th>\n",
       "      <td>[9751.6259765625]</td>\n",
       "      <td>[2263.62890625]</td>\n",
       "      <td>[-0.15377356112003326]</td>\n",
       "      <td>[-1.8734217882156372]</td>\n",
       "    </tr>\n",
       "    <tr>\n",
       "      <th>560</th>\n",
       "      <td>[23302.40625, 23302.40625]</td>\n",
       "      <td>[1910.8150634765625, 2211.935546875]</td>\n",
       "      <td>[1.089045524597168, 1.089045524597168]</td>\n",
       "      <td>[-2.7747840881347656, -2.7747840881347656]</td>\n",
       "    </tr>\n",
       "  </tbody>\n",
       "</table>\n",
       "<p>561 rows × 4 columns</p>\n",
       "</div>"
      ],
      "text/plain": [
       "                               DMesons_pt  \\\n",
       "0    [5735.74853515625, 5735.74853515625]   \n",
       "1                             [10047.125]   \n",
       "2          [18993.7421875, 18993.7421875]   \n",
       "3      [10118.494140625, 10118.494140625]   \n",
       "4      [12579.470703125, 12579.470703125]   \n",
       "..                                    ...   \n",
       "556  [5451.50732421875, 5451.50732421875]   \n",
       "557        [30662.75, 30662.75, 30662.75]   \n",
       "558    [11592.576171875, 11592.576171875]   \n",
       "559                     [9751.6259765625]   \n",
       "560            [23302.40625, 23302.40625]   \n",
       "\n",
       "                                             DMesons_m  \\\n",
       "0              [1860.0809326171875, 2207.808349609375]   \n",
       "1                                 [1862.4176025390625]   \n",
       "2                      [1853.90625, 2398.886962890625]   \n",
       "3                       [1874.203125, 2468.1806640625]   \n",
       "4               [1884.987060546875, 2220.384521484375]   \n",
       "..                                                 ...   \n",
       "556             [1849.396240234375, 2459.749755859375]   \n",
       "557  [1872.678955078125, 2392.157470703125, 2270.92...   \n",
       "558            [1850.5804443359375, 2294.733642578125]   \n",
       "559                                    [2263.62890625]   \n",
       "560               [1910.8150634765625, 2211.935546875]   \n",
       "\n",
       "                                           DMesons_eta  \\\n",
       "0             [0.9682132005691528, 0.9682132005691528]   \n",
       "1                                [0.08182407170534134]   \n",
       "2           [-1.6619627475738525, -1.6619627475738525]   \n",
       "3         [0.041659336537122726, 0.041659336537122726]   \n",
       "4           [-1.1025604009628296, -1.1025604009628296]   \n",
       "..                                                 ...   \n",
       "556           [-0.064152292907238, -0.064152292907238]   \n",
       "557  [1.7234350442886353, 1.7234350442886353, 1.723...   \n",
       "558       [-0.22858543694019318, -0.22858543694019318]   \n",
       "559                             [-0.15377356112003326]   \n",
       "560             [1.089045524597168, 1.089045524597168]   \n",
       "\n",
       "                                           DMesons_phi  \n",
       "0             [1.2285282611846924, 1.2285282611846924]  \n",
       "1                                  [2.709681510925293]  \n",
       "2         [-0.46051180362701416, -0.46051180362701416]  \n",
       "3               [0.780849277973175, 0.780849277973175]  \n",
       "4             [0.7788794040679932, 0.7788794040679932]  \n",
       "..                                                 ...  \n",
       "556             [2.395824909210205, 2.395824909210205]  \n",
       "557  [-0.5089108347892761, -0.5089108347892761, -0....  \n",
       "558           [0.2433209866285324, 0.2433209866285324]  \n",
       "559                              [-1.8734217882156372]  \n",
       "560         [-2.7747840881347656, -2.7747840881347656]  \n",
       "\n",
       "[561 rows x 4 columns]"
      ]
     },
     "execution_count": 23,
     "metadata": {},
     "output_type": "execute_result"
    }
   ],
   "source": [
    "df = show(0, TTree, [\"DMesons_pt\", \"DMesons_m\", \"DMesons_eta\", \"DMesons_phi\"], 1000)\n",
    "\n",
    "#drop empty rows\n",
    "empty_indices = [i for i, x in enumerate(df['DMesons_pt']) if len(x) == 0]\n",
    "df = df.drop(empty_indices)\n",
    "df = df.reset_index(drop=True)\n",
    "df"
   ]
  },
  {
   "cell_type": "code",
   "execution_count": 24,
   "id": "3683f221-d51c-4043-8762-bb7cb4dda99f",
   "metadata": {},
   "outputs": [
    {
     "data": {
      "text/html": [
       "<div>\n",
       "<style scoped>\n",
       "    .dataframe tbody tr th:only-of-type {\n",
       "        vertical-align: middle;\n",
       "    }\n",
       "\n",
       "    .dataframe tbody tr th {\n",
       "        vertical-align: top;\n",
       "    }\n",
       "\n",
       "    .dataframe thead th {\n",
       "        text-align: right;\n",
       "    }\n",
       "</style>\n",
       "<table border=\"1\" class=\"dataframe\">\n",
       "  <thead>\n",
       "    <tr style=\"text-align: right;\">\n",
       "      <th></th>\n",
       "      <th>DMesons_fitOutput__Charge</th>\n",
       "      <th>DMesons_fitOutput__Lxy</th>\n",
       "      <th>DMesons_daughterInfo__pdgId</th>\n",
       "    </tr>\n",
       "  </thead>\n",
       "  <tbody>\n",
       "    <tr>\n",
       "      <th>0</th>\n",
       "      <td>[1, 1]</td>\n",
       "      <td>[3.940532684326172, 3.940532684326172]</td>\n",
       "      <td>((-321, 211, 211), (2212, -321, 211))</td>\n",
       "    </tr>\n",
       "    <tr>\n",
       "      <th>1</th>\n",
       "      <td>[1]</td>\n",
       "      <td>[2.3395302295684814]</td>\n",
       "      <td>((-321, 211, 211))</td>\n",
       "    </tr>\n",
       "    <tr>\n",
       "      <th>2</th>\n",
       "      <td>[1, 1]</td>\n",
       "      <td>[1.9184143543243408, 1.9184143543243408]</td>\n",
       "      <td>((-321, 211, 211), (2212, -321, 211))</td>\n",
       "    </tr>\n",
       "    <tr>\n",
       "      <th>3</th>\n",
       "      <td>[1, 1]</td>\n",
       "      <td>[2.8901257514953613, 2.8901257514953613]</td>\n",
       "      <td>((-321, 211, 211), (2212, -321, 211))</td>\n",
       "    </tr>\n",
       "    <tr>\n",
       "      <th>4</th>\n",
       "      <td>[1, 1]</td>\n",
       "      <td>[0.9249186515808105, 0.9249186515808105]</td>\n",
       "      <td>((-321, 211, 211), (2212, -321, 211))</td>\n",
       "    </tr>\n",
       "    <tr>\n",
       "      <th>...</th>\n",
       "      <td>...</td>\n",
       "      <td>...</td>\n",
       "      <td>...</td>\n",
       "    </tr>\n",
       "    <tr>\n",
       "      <th>60</th>\n",
       "      <td>[1, 1]</td>\n",
       "      <td>[0.9720778465270996, 0.9720778465270996]</td>\n",
       "      <td>((-321, 211, 211), (2212, -321, 211))</td>\n",
       "    </tr>\n",
       "    <tr>\n",
       "      <th>61</th>\n",
       "      <td>[1]</td>\n",
       "      <td>[0.21821393072605133]</td>\n",
       "      <td>((2212, -321, 211))</td>\n",
       "    </tr>\n",
       "    <tr>\n",
       "      <th>62</th>\n",
       "      <td>[1, 1]</td>\n",
       "      <td>[14.670319557189941, 14.670319557189941]</td>\n",
       "      <td>((-321, 211, 211), (2212, -321, 211))</td>\n",
       "    </tr>\n",
       "    <tr>\n",
       "      <th>63</th>\n",
       "      <td>[1]</td>\n",
       "      <td>[0.3555510938167572]</td>\n",
       "      <td>((2212, -321, 211))</td>\n",
       "    </tr>\n",
       "    <tr>\n",
       "      <th>64</th>\n",
       "      <td>[1, 1]</td>\n",
       "      <td>[0.518668532371521, 0.518668532371521]</td>\n",
       "      <td>((-321, 211, 211), (2212, -321, 211))</td>\n",
       "    </tr>\n",
       "  </tbody>\n",
       "</table>\n",
       "<p>65 rows × 3 columns</p>\n",
       "</div>"
      ],
      "text/plain": [
       "   DMesons_fitOutput__Charge                    DMesons_fitOutput__Lxy  \\\n",
       "0                     [1, 1]    [3.940532684326172, 3.940532684326172]   \n",
       "1                        [1]                      [2.3395302295684814]   \n",
       "2                     [1, 1]  [1.9184143543243408, 1.9184143543243408]   \n",
       "3                     [1, 1]  [2.8901257514953613, 2.8901257514953613]   \n",
       "4                     [1, 1]  [0.9249186515808105, 0.9249186515808105]   \n",
       "..                       ...                                       ...   \n",
       "60                    [1, 1]  [0.9720778465270996, 0.9720778465270996]   \n",
       "61                       [1]                     [0.21821393072605133]   \n",
       "62                    [1, 1]  [14.670319557189941, 14.670319557189941]   \n",
       "63                       [1]                      [0.3555510938167572]   \n",
       "64                    [1, 1]    [0.518668532371521, 0.518668532371521]   \n",
       "\n",
       "              DMesons_daughterInfo__pdgId  \n",
       "0   ((-321, 211, 211), (2212, -321, 211))  \n",
       "1                      ((-321, 211, 211))  \n",
       "2   ((-321, 211, 211), (2212, -321, 211))  \n",
       "3   ((-321, 211, 211), (2212, -321, 211))  \n",
       "4   ((-321, 211, 211), (2212, -321, 211))  \n",
       "..                                    ...  \n",
       "60  ((-321, 211, 211), (2212, -321, 211))  \n",
       "61                    ((2212, -321, 211))  \n",
       "62  ((-321, 211, 211), (2212, -321, 211))  \n",
       "63                    ((2212, -321, 211))  \n",
       "64  ((-321, 211, 211), (2212, -321, 211))  \n",
       "\n",
       "[65 rows x 3 columns]"
      ]
     },
     "execution_count": 24,
     "metadata": {},
     "output_type": "execute_result"
    }
   ],
   "source": [
    "TTree2 = process_ntuple(files[0])\n",
    "\n",
    "\n",
    "df2 = show(0, TTree2, ['DMesons_fitOutput__Charge', 'DMesons_fitOutput__Lxy','DMesons_daughterInfo__pdgId'], 100)\n",
    "empty_indices2 = [i for i, x in enumerate(df2['DMesons_fitOutput__Charge']) if len(x) == 0]\n",
    "df2 = df2.drop(empty_indices2)\n",
    "df2 = df2.reset_index(drop=True)\n",
    "df2"
   ]
  },
  {
   "cell_type": "code",
   "execution_count": 14,
   "id": "c579c230-0095-455e-a788-57f112f2368b",
   "metadata": {},
   "outputs": [
    {
     "data": {
      "image/png": "[encoded data removed]",
      "text/plain": [
       "<IPython.core.display.Image object>"
      ]
     },
     "metadata": {},
     "output_type": "display_data"
    }
   ],
   "source": [
    "DMesons_pt = []\n",
    "for pt in df['DMesons_pt']:\n",
    "    DMesons_pt.extend(pt)\n",
    "\n",
    "nbins = 50\n",
    "xmin = np.min(df[\"DMesons_pt\"])[0]\n",
    "xmax = np.max(df[\"DMesons_pt\"])[0]\n",
    "\n",
    "hist = ROOT.TH1F(\"hist_pt\", \"DMesons_pt Histogram\", nbins, xmin, xmax)\n",
    "\n",
    "for i in range(len(df[\"DMesons_pt\"])):\n",
    "    pt = df[\"DMesons_pt\"][i]\n",
    "    for val in pt:\n",
    "        hist.Fill(val)\n",
    "\n",
    "# Draw the histogram\n",
    "c = ROOT.TCanvas(\"c\", \"c\", 800, 600)\n",
    "hist.Draw()\n",
    "c.Draw()"
   ]
  },
  {
   "cell_type": "code",
   "execution_count": 20,
   "id": "d865f1bc-329e-4561-923f-e91544b544a8",
   "metadata": {},
   "outputs": [],
   "source": [
    "DMesonList = []\n",
    "\n",
    "for index, row in df.iterrows():\n",
    "    pt = row['DMesons_pt']\n",
    "    eta = row['DMesons_eta']\n",
    "    phi = row['DMesons_phi']\n",
    "    m = row['DMesons_m']\n",
    "    \n",
    "    #TLorentzVector object for the current row\n",
    "    p = ROOT.TLorentzVector()\n",
    "    p.SetPtEtaPhiM(df['DMesons_pt'][0][0], df['DMesons_eta'][0][0], df['DMesons_phi'][0][0], df['DMesons_m'][0][0])\n",
    "    \n",
    "    # for i in range(1, len(pt)):\n",
    "    #     p += ROOT.TLorentzVector().SetPtEtaPhiM(pt[i], eta[i], phi[i], m[i])\n",
    "    \n",
    "    DMesonList.append(p)"
   ]
  },
  {
   "cell_type": "code",
   "execution_count": 21,
   "id": "6855507a-2592-416c-9c46-b08d8aded64f",
   "metadata": {},
   "outputs": [],
   "source": [
    "inv_mass_squared = lambda p1, p2: (p1 + p2).M2()\n",
    "\n",
    "TLorentzVectorsInvMass = []\n",
    "for i in range(len(DMesonList[:10000])):\n",
    "    p1 = DMesonList[i]\n",
    "    m2 = inv_mass_squared(p1, p1)\n",
    "    TLorentzVectorsInvMass.append(m2)"
   ]
  },
  {
   "cell_type": "code",
   "execution_count": 22,
   "id": "c164b6a1-fa57-4aae-af6e-0f31babdb1ee",
   "metadata": {},
   "outputs": [
    {
     "data": {
      "text/plain": [
       "array([3720.16186523, 3720.16186523, 3720.16186523, 3720.16186523,\n",
       "       3720.16186523, 3720.16186523, 3720.16186523, 3720.16186523,\n",
       "       3720.16186523, 3720.16186523])"
      ]
     },
     "execution_count": 22,
     "metadata": {},
     "output_type": "execute_result"
    }
   ],
   "source": [
    "np.sqrt(np.array(TLorentzVectorsInvMass[:10]))"
   ]
  },
  {
   "cell_type": "code",
   "execution_count": null,
   "id": "41ed4c54-d97c-44a0-915c-734885e03add",
   "metadata": {},
   "outputs": [],
   "source": []
  }
 ],
 "metadata": {
  "kernelspec": {
   "display_name": "cernROOT",
   "language": "python",
   "name": "cernroot"
  },
  "language_info": {
   "codemirror_mode": {
    "name": "ipython",
    "version": 3
   },
   "file_extension": ".py",
   "mimetype": "text/x-python",
   "name": "python",
   "nbconvert_exporter": "python",
   "pygments_lexer": "ipython3",
   "version": "3.11.0"
  }
 },
 "nbformat": 4,
 "nbformat_minor": 5
}
