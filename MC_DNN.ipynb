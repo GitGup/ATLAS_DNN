{
 "cells": [
  {
   "cell_type": "code",
   "execution_count": 87,
   "id": "31a7a761-3ae0-4c84-9f77-ec0c8ec1b6b7",
   "metadata": {},
   "outputs": [
    {
     "name": "stdout",
     "output_type": "stream",
     "text": [
      "Welcome to JupyROOT 6.28/00\n"
     ]
    }
   ],
   "source": [
    "from common import *\n",
    "from process_ntuples import *\n",
    "from process_df import *\n",
    "from plotting import *\n",
    "from cuts import apply_cuts, apply_pt_cut\n",
    "import matplotlib.pyplot as plt\n",
    "\n",
    "import tensorflow as tf\n",
    "from keras.models import Sequential\n",
    "from keras.layers import Dense, Dropout, Activation\n",
    "from keras import layers\n",
    "\n",
    "from sklearn.preprocessing import StandardScaler\n",
    "from sklearn.model_selection import train_test_split\n",
    "\n",
    "from tensorflow.keras.callbacks import EarlyStopping\n",
    "\n",
    "#weights and biases imports\n",
    "import wandb\n",
    "from wandb.keras import WandbMetricsLogger, WandbModelCheckpoint, WandbCallback\n",
    "\n",
    "import random\n",
    "import numpy as np\n",
    "import tensorflow as tf"
   ]
  },
  {
   "cell_type": "code",
   "execution_count": 19,
   "id": "04c3b3b8-44f1-4c2e-b001-900d504b7e41",
   "metadata": {},
   "outputs": [
    {
     "data": {
      "text/plain": [
       "['CharmAnalysis.mc.ForcedDecay.Dplus.tree.root',\n",
       " 'CharmAnalysis.mc.ForcedDecay.LabmdaC.tree.root']"
      ]
     },
     "execution_count": 19,
     "metadata": {},
     "output_type": "execute_result"
    }
   ],
   "source": [
    "dir_path = \"/global/cfs/cdirs/atlas/gottino/Charm/Analysis/run_batch_gup/ntuples\"\n",
    "\n",
    "files = os.listdir(dir_path)\n",
    "TTree = process_ntuple(dir_path, files[0])\n",
    "files"
   ]
  },
  {
   "cell_type": "markdown",
   "id": "c874c9a6-beab-488b-8a31-9fe628c93d4e",
   "metadata": {},
   "source": [
    "$D^{+}$ : 411\n",
    "\n",
    "$\\Lambda_C^{+}$ : 4122"
   ]
  },
  {
   "cell_type": "markdown",
   "id": "ddf679fc-9661-4fce-96eb-e9cea2569a0c",
   "metadata": {},
   "source": [
    "Apply Cuts Fiducial Region cuts ($𝐷^{+}$ $𝑝_T$ > 8 GeV, |𝜂| < 2.2). ***See cuts.py on how the cuts are applied***"
   ]
  },
  {
   "cell_type": "code",
   "execution_count": 219,
   "id": "79674b36-224a-4896-baaa-41b280866a53",
   "metadata": {},
   "outputs": [
    {
     "data": {
      "text/html": [
       "<div>\n",
       "<style scoped>\n",
       "    .dataframe tbody tr th:only-of-type {\n",
       "        vertical-align: middle;\n",
       "    }\n",
       "\n",
       "    .dataframe tbody tr th {\n",
       "        vertical-align: top;\n",
       "    }\n",
       "\n",
       "    .dataframe thead th {\n",
       "        text-align: right;\n",
       "    }\n",
       "</style>\n",
       "<table border=\"1\" class=\"dataframe\">\n",
       "  <thead>\n",
       "    <tr style=\"text-align: right;\">\n",
       "      <th></th>\n",
       "      <th>DMesons_pt</th>\n",
       "      <th>DMesons_eta</th>\n",
       "      <th>DMesons_m</th>\n",
       "      <th>DMesons_fitOutput__Lxy</th>\n",
       "      <th>DMesons_costhetastar</th>\n",
       "      <th>DMesons_pdgId</th>\n",
       "    </tr>\n",
       "  </thead>\n",
       "  <tbody>\n",
       "    <tr>\n",
       "      <th>0</th>\n",
       "      <td>(10.047125)</td>\n",
       "      <td>[0.08182407170534134]</td>\n",
       "      <td>[1862.4176025390625]</td>\n",
       "      <td>[2.3395302295684814]</td>\n",
       "      <td>[0.25487038493156433]</td>\n",
       "      <td>[411]</td>\n",
       "    </tr>\n",
       "    <tr>\n",
       "      <th>1</th>\n",
       "      <td>(18.9937421875, 18.9937421875)</td>\n",
       "      <td>[-1.6619627475738525, -1.6619627475738525]</td>\n",
       "      <td>[1853.90625, 2398.886962890625]</td>\n",
       "      <td>[1.9184143543243408, 1.9184143543243408]</td>\n",
       "      <td>[-0.36730244755744934, -0.0650731548666954]</td>\n",
       "      <td>[411, 4122]</td>\n",
       "    </tr>\n",
       "    <tr>\n",
       "      <th>2</th>\n",
       "      <td>(10.118494140625, 10.118494140625)</td>\n",
       "      <td>[0.041659336537122726, 0.041659336537122726]</td>\n",
       "      <td>[1874.203125, 2468.1806640625]</td>\n",
       "      <td>[2.8901257514953613, 2.8901257514953613]</td>\n",
       "      <td>[0.06833142042160034, 0.4276972711086273]</td>\n",
       "      <td>[411, 4122]</td>\n",
       "    </tr>\n",
       "    <tr>\n",
       "      <th>3</th>\n",
       "      <td>(12.579470703125, 12.579470703125)</td>\n",
       "      <td>[-1.1025604009628296, -1.1025604009628296]</td>\n",
       "      <td>[1884.987060546875, 2220.384521484375]</td>\n",
       "      <td>[0.9249186515808105, 0.9249186515808105]</td>\n",
       "      <td>[-0.5603189468383789, -0.41332852840423584]</td>\n",
       "      <td>[411, 4122]</td>\n",
       "    </tr>\n",
       "    <tr>\n",
       "      <th>4</th>\n",
       "      <td>(36.1288359375)</td>\n",
       "      <td>[0.6598162055015564]</td>\n",
       "      <td>[2235.69873046875]</td>\n",
       "      <td>[0.3584118187427521]</td>\n",
       "      <td>[0.19036155939102173]</td>\n",
       "      <td>[4122]</td>\n",
       "    </tr>\n",
       "    <tr>\n",
       "      <th>...</th>\n",
       "      <td>...</td>\n",
       "      <td>...</td>\n",
       "      <td>...</td>\n",
       "      <td>...</td>\n",
       "      <td>...</td>\n",
       "      <td>...</td>\n",
       "    </tr>\n",
       "    <tr>\n",
       "      <th>8333</th>\n",
       "      <td>(14.0556298828125, 14.0556298828125, 14.055629...</td>\n",
       "      <td>[-0.2029181867837906, -0.2029181867837906, -0....</td>\n",
       "      <td>[1877.5616455078125, 2437.9541015625, 2371.815...</td>\n",
       "      <td>[3.2642693519592285, 3.2642693519592285, 3.264...</td>\n",
       "      <td>[-0.45191243290901184, 0.016617078334093094, -...</td>\n",
       "      <td>[411, 4122, 4122]</td>\n",
       "    </tr>\n",
       "    <tr>\n",
       "      <th>8334</th>\n",
       "      <td>(8.5570830078125)</td>\n",
       "      <td>[-1.1406751871109009]</td>\n",
       "      <td>[2365.51904296875]</td>\n",
       "      <td>[0.11108941584825516]</td>\n",
       "      <td>[0.7960365414619446]</td>\n",
       "      <td>[4122]</td>\n",
       "    </tr>\n",
       "    <tr>\n",
       "      <th>8335</th>\n",
       "      <td>(31.940462890625)</td>\n",
       "      <td>[-2.006657361984253]</td>\n",
       "      <td>[2077.287109375]</td>\n",
       "      <td>[0.10074585676193237]</td>\n",
       "      <td>[0.6881166696548462]</td>\n",
       "      <td>[4122]</td>\n",
       "    </tr>\n",
       "    <tr>\n",
       "      <th>8336</th>\n",
       "      <td>(35.01245703125, 35.01245703125)</td>\n",
       "      <td>[0.14026063680648804, 0.14026063680648804]</td>\n",
       "      <td>[1858.9073486328125, 2130.3583984375]</td>\n",
       "      <td>[1.3225394487380981, 1.3225394487380981]</td>\n",
       "      <td>[-0.9133811593055725, -0.8799314498901367]</td>\n",
       "      <td>[411, 4122]</td>\n",
       "    </tr>\n",
       "    <tr>\n",
       "      <th>8337</th>\n",
       "      <td>(12.206798828125, 12.206798828125)</td>\n",
       "      <td>[1.3441436290740967, 1.3441436290740967]</td>\n",
       "      <td>[1848.3248291015625, 2283.203369140625]</td>\n",
       "      <td>[5.6657915115356445, 5.6657915115356445]</td>\n",
       "      <td>[0.1733388751745224, 0.5165019035339355]</td>\n",
       "      <td>[411, 4122]</td>\n",
       "    </tr>\n",
       "  </tbody>\n",
       "</table>\n",
       "<p>8338 rows × 6 columns</p>\n",
       "</div>"
      ],
      "text/plain": [
       "                                             DMesons_pt  \\\n",
       "0                                           (10.047125)   \n",
       "1                        (18.9937421875, 18.9937421875)   \n",
       "2                    (10.118494140625, 10.118494140625)   \n",
       "3                    (12.579470703125, 12.579470703125)   \n",
       "4                                       (36.1288359375)   \n",
       "...                                                 ...   \n",
       "8333  (14.0556298828125, 14.0556298828125, 14.055629...   \n",
       "8334                                  (8.5570830078125)   \n",
       "8335                                  (31.940462890625)   \n",
       "8336                   (35.01245703125, 35.01245703125)   \n",
       "8337                 (12.206798828125, 12.206798828125)   \n",
       "\n",
       "                                            DMesons_eta  \\\n",
       "0                                 [0.08182407170534134]   \n",
       "1            [-1.6619627475738525, -1.6619627475738525]   \n",
       "2          [0.041659336537122726, 0.041659336537122726]   \n",
       "3            [-1.1025604009628296, -1.1025604009628296]   \n",
       "4                                  [0.6598162055015564]   \n",
       "...                                                 ...   \n",
       "8333  [-0.2029181867837906, -0.2029181867837906, -0....   \n",
       "8334                              [-1.1406751871109009]   \n",
       "8335                               [-2.006657361984253]   \n",
       "8336         [0.14026063680648804, 0.14026063680648804]   \n",
       "8337           [1.3441436290740967, 1.3441436290740967]   \n",
       "\n",
       "                                              DMesons_m  \\\n",
       "0                                  [1862.4176025390625]   \n",
       "1                       [1853.90625, 2398.886962890625]   \n",
       "2                        [1874.203125, 2468.1806640625]   \n",
       "3                [1884.987060546875, 2220.384521484375]   \n",
       "4                                    [2235.69873046875]   \n",
       "...                                                 ...   \n",
       "8333  [1877.5616455078125, 2437.9541015625, 2371.815...   \n",
       "8334                                 [2365.51904296875]   \n",
       "8335                                   [2077.287109375]   \n",
       "8336              [1858.9073486328125, 2130.3583984375]   \n",
       "8337            [1848.3248291015625, 2283.203369140625]   \n",
       "\n",
       "                                 DMesons_fitOutput__Lxy  \\\n",
       "0                                  [2.3395302295684814]   \n",
       "1              [1.9184143543243408, 1.9184143543243408]   \n",
       "2              [2.8901257514953613, 2.8901257514953613]   \n",
       "3              [0.9249186515808105, 0.9249186515808105]   \n",
       "4                                  [0.3584118187427521]   \n",
       "...                                                 ...   \n",
       "8333  [3.2642693519592285, 3.2642693519592285, 3.264...   \n",
       "8334                              [0.11108941584825516]   \n",
       "8335                              [0.10074585676193237]   \n",
       "8336           [1.3225394487380981, 1.3225394487380981]   \n",
       "8337           [5.6657915115356445, 5.6657915115356445]   \n",
       "\n",
       "                                   DMesons_costhetastar      DMesons_pdgId  \n",
       "0                                 [0.25487038493156433]              [411]  \n",
       "1           [-0.36730244755744934, -0.0650731548666954]        [411, 4122]  \n",
       "2             [0.06833142042160034, 0.4276972711086273]        [411, 4122]  \n",
       "3           [-0.5603189468383789, -0.41332852840423584]        [411, 4122]  \n",
       "4                                 [0.19036155939102173]             [4122]  \n",
       "...                                                 ...                ...  \n",
       "8333  [-0.45191243290901184, 0.016617078334093094, -...  [411, 4122, 4122]  \n",
       "8334                               [0.7960365414619446]             [4122]  \n",
       "8335                               [0.6881166696548462]             [4122]  \n",
       "8336         [-0.9133811593055725, -0.8799314498901367]        [411, 4122]  \n",
       "8337           [0.1733388751745224, 0.5165019035339355]        [411, 4122]  \n",
       "\n",
       "[8338 rows x 6 columns]"
      ]
     },
     "execution_count": 220,
     "metadata": {},
     "output_type": "execute_result"
    }
   ],
   "source": [
    "DMesons_df = show(0, TTree, [\"DMesons_pt\",\"DMesons_eta\", \"DMesons_m\", \"DMesons_fitOutput__Lxy\", \"DMesons_costhetastar\", \"DMesons_pdgId\"], 20000)\n",
    "DMesons_df = remove_empty(DMesons_df)\n",
    "\n",
    "DMesons_df[\"DMesons_pt\"] = DMesons_df[\"DMesons_pt\"].apply(divide_by_1000)\n",
    "for col in DMesons_df.columns:\n",
    "    DMesons_df[col] = DMesons_df[col].apply(list)\n",
    "    \n",
    "DMesons_df = apply_cuts(DMesons_df)\n",
    "pd.set_option('display.max_rows', 10)\n",
    "DMesons_df"
   ]
  },
  {
   "cell_type": "code",
   "execution_count": 7,
   "id": "fd30aaf7-cbb0-4040-be51-c8897ad849f8",
   "metadata": {},
   "outputs": [],
   "source": [
    "DMesons_df2 = show(0, TTree, [\"DMesons_daughterInfo__pt\", \"DMesons_daughterInfo__eta\", \"DMesons_daughterInfo__phi\", \"DMesons_daughterInfo__pdgId\"], 100)\n",
    "DMesons_df2 = remove_empty(DMesons_df2)"
   ]
  },
  {
   "cell_type": "code",
   "execution_count": 9,
   "id": "cb8981e7-9eec-4d65-b4e0-00aac573cae2",
   "metadata": {},
   "outputs": [
    {
     "data": {
      "text/plain": [
       "3"
      ]
     },
     "execution_count": 9,
     "metadata": {},
     "output_type": "execute_result"
    }
   ],
   "source": [
    "DPlus = [-321, 211, 211]\n",
    "LambdaC = [2212, -321, 211]\n",
    "\n",
    "remove_lambda = []\n",
    "\n",
    "count = 0\n",
    "for index, row in DMesons_df2.iterrows():\n",
    "    if count == 50:\n",
    "        break\n",
    "    count+=1\n",
    "    \n",
    "    pts = row['DMesons_daughterInfo__pt']\n",
    "    etas = row['DMesons_daughterInfo__eta']\n",
    "    phis = row['DMesons_daughterInfo__phi']\n",
    "    pdgids = row[\"DMesons_daughterInfo__pdgId\"]\n",
    "    \n",
    "    #loop through until the first lambda encountered\n",
    "    for i in range(len(pdgids) - 1):\n",
    "        #if there are multiple lambda baryons\n",
    "        if len(pdgids) > 2:\n",
    "            #stop at the first lambda and keep the higher proton pt valued lambda\n",
    "            if list(pdgids[i]) == LambdaC:\n",
    "                l1_pt, l2_pt = pts[i][0], pts[i + 1][0]\n",
    "                if (l1_pt > l2_pt):\n",
    "                    #Lambda 1's proton has higher pt\n",
    "                    remove_lambda.append((index, i + 1))\n",
    "                elif (l1_pt < l2_pt):\n",
    "                    #Lambda 2's proton has higher pt!\n",
    "                    remove_lambda.append((index, i))\n",
    "                else:\n",
    "                    raise Exception(\"Error: Are the proton pt vaules equal?\")\n",
    "                    \n",
    "len(remove_lambda)"
   ]
  },
  {
   "cell_type": "code",
   "execution_count": 24,
   "id": "b7707166-22b5-4f12-8dab-4bcf29a62005",
   "metadata": {},
   "outputs": [],
   "source": [
    "#takes tuples of shape (2,) / (index, column)\n",
    "def remove_particles_from_df(df, tuple_list):\n",
    "    for tup in tuple_list:\n",
    "        index, column = tup\n",
    "        print(index, column)\n",
    "        \n",
    "        new_df = df.copy()\n",
    "        for i in range(len(DMesons_df.iloc[index, 0][column]) + 1):\n",
    "            #new_df[\"DMesons_daughterInfo__pt\"] = new_df[\"DMesons_daughterInfo__pt\"].apply(lambda x: print(x))\n",
    "            val = new_df.iloc[index, i][column]\n",
    "            print(val)\n",
    "    df = df.drop(index, axis = 0)\n",
    "    return df\n",
    "#df = remove_particles_from_df(DMesons_df, remove_lambda)\n",
    "\n",
    "#for now just remove the rows\n",
    "indices = [i for i, x in enumerate(DMesons_df2[DMesons_df2.columns[0]]) if len(x) > 2]\n",
    "DMesons_df2 = DMesons_df2.drop(indices)\n",
    "DMesons_df2 = DMesons_df2.reset_index(drop=True)\n",
    "DMesons_df2[\"DMesons_daughterInfo__pt\"] = DMesons_df2[\"DMesons_daughterInfo__pt\"].apply(divide_by_1000)\n",
    "DMesons_df2\n",
    "\n",
    "pd.set_option('display.max_rows', 10)\n",
    "# pd.set_option('display.max_columns', None)\n",
    "\n",
    "# print(\"-----------------\")\n",
    "# print(DMesons_df.iloc[32, 0][2])\n",
    "# print(DMesons_df.iloc[32, 1][2])\n",
    "# print(DMesons_df.iloc[32, 2][2])\n",
    "# print(DMesons_df.iloc[32, 3][2])"
   ]
  },
  {
   "cell_type": "code",
   "execution_count": 183,
   "id": "4f0ce083-7006-4ea6-aea4-332e607fa37b",
   "metadata": {},
   "outputs": [
    {
     "data": {
      "text/html": [
       "<div>\n",
       "<style scoped>\n",
       "    .dataframe tbody tr th:only-of-type {\n",
       "        vertical-align: middle;\n",
       "    }\n",
       "\n",
       "    .dataframe tbody tr th {\n",
       "        vertical-align: top;\n",
       "    }\n",
       "\n",
       "    .dataframe thead th {\n",
       "        text-align: right;\n",
       "    }\n",
       "</style>\n",
       "<table border=\"1\" class=\"dataframe\">\n",
       "  <thead>\n",
       "    <tr style=\"text-align: right;\">\n",
       "      <th></th>\n",
       "      <th>DMesons_pt</th>\n",
       "      <th>DMesons_fitOutput__Lxy</th>\n",
       "      <th>DMesons_costhetastar</th>\n",
       "      <th>DMesons_pdgId</th>\n",
       "    </tr>\n",
       "  </thead>\n",
       "  <tbody>\n",
       "    <tr>\n",
       "      <th>0</th>\n",
       "      <td>10.047125</td>\n",
       "      <td>2.339530</td>\n",
       "      <td>0.254870</td>\n",
       "      <td>411</td>\n",
       "    </tr>\n",
       "    <tr>\n",
       "      <th>1</th>\n",
       "      <td>36.128836</td>\n",
       "      <td>0.358412</td>\n",
       "      <td>0.190362</td>\n",
       "      <td>4122</td>\n",
       "    </tr>\n",
       "    <tr>\n",
       "      <th>2</th>\n",
       "      <td>14.835231</td>\n",
       "      <td>2.899070</td>\n",
       "      <td>0.684572</td>\n",
       "      <td>411</td>\n",
       "    </tr>\n",
       "    <tr>\n",
       "      <th>3</th>\n",
       "      <td>8.800141</td>\n",
       "      <td>0.246351</td>\n",
       "      <td>-0.737246</td>\n",
       "      <td>4122</td>\n",
       "    </tr>\n",
       "    <tr>\n",
       "      <th>4</th>\n",
       "      <td>30.092365</td>\n",
       "      <td>7.426617</td>\n",
       "      <td>-0.937342</td>\n",
       "      <td>4122</td>\n",
       "    </tr>\n",
       "    <tr>\n",
       "      <th>...</th>\n",
       "      <td>...</td>\n",
       "      <td>...</td>\n",
       "      <td>...</td>\n",
       "      <td>...</td>\n",
       "    </tr>\n",
       "    <tr>\n",
       "      <th>2516358</th>\n",
       "      <td>24.477744</td>\n",
       "      <td>3.593372</td>\n",
       "      <td>0.539289</td>\n",
       "      <td>411</td>\n",
       "    </tr>\n",
       "    <tr>\n",
       "      <th>2516359</th>\n",
       "      <td>14.971446</td>\n",
       "      <td>2.374407</td>\n",
       "      <td>0.863583</td>\n",
       "      <td>411</td>\n",
       "    </tr>\n",
       "    <tr>\n",
       "      <th>2516360</th>\n",
       "      <td>12.734207</td>\n",
       "      <td>5.151422</td>\n",
       "      <td>0.461929</td>\n",
       "      <td>411</td>\n",
       "    </tr>\n",
       "    <tr>\n",
       "      <th>2516361</th>\n",
       "      <td>17.960000</td>\n",
       "      <td>5.878625</td>\n",
       "      <td>0.452780</td>\n",
       "      <td>411</td>\n",
       "    </tr>\n",
       "    <tr>\n",
       "      <th>2516362</th>\n",
       "      <td>39.381430</td>\n",
       "      <td>0.170655</td>\n",
       "      <td>-0.332907</td>\n",
       "      <td>4122</td>\n",
       "    </tr>\n",
       "  </tbody>\n",
       "</table>\n",
       "<p>2516363 rows × 4 columns</p>\n",
       "</div>"
      ],
      "text/plain": [
       "         DMesons_pt  DMesons_fitOutput__Lxy  DMesons_costhetastar  \\\n",
       "0         10.047125                2.339530              0.254870   \n",
       "1         36.128836                0.358412              0.190362   \n",
       "2         14.835231                2.899070              0.684572   \n",
       "3          8.800141                0.246351             -0.737246   \n",
       "4         30.092365                7.426617             -0.937342   \n",
       "...             ...                     ...                   ...   \n",
       "2516358   24.477744                3.593372              0.539289   \n",
       "2516359   14.971446                2.374407              0.863583   \n",
       "2516360   12.734207                5.151422              0.461929   \n",
       "2516361   17.960000                5.878625              0.452780   \n",
       "2516362   39.381430                0.170655             -0.332907   \n",
       "\n",
       "         DMesons_pdgId  \n",
       "0                  411  \n",
       "1                 4122  \n",
       "2                  411  \n",
       "3                 4122  \n",
       "4                 4122  \n",
       "...                ...  \n",
       "2516358            411  \n",
       "2516359            411  \n",
       "2516360            411  \n",
       "2516361            411  \n",
       "2516362           4122  \n",
       "\n",
       "[2516363 rows x 4 columns]"
      ]
     },
     "execution_count": 183,
     "metadata": {},
     "output_type": "execute_result"
    }
   ],
   "source": [
    "# create a new column 'particle_type' based on the pdgId column\n",
    "func = lambda x: 'only_411' if x == [411] else ('only_4122' if x == [4122] else 'both')\n",
    "DMesons_df['particle_type'] = DMesons_df['DMesons_pdgId'].apply(func)\n",
    "\n",
    "# separate the rows based on the new column\n",
    "only_411 = DMesons_df[DMesons_df['particle_type'] == 'only_411']\n",
    "only_4122 = DMesons_df[DMesons_df['particle_type'] == 'only_4122']\n",
    "both = DMesons_df[DMesons_df['particle_type'] == 'both']\n",
    "\n",
    "new_df = DMesons_df[DMesons_df['particle_type'] != 'both']\n",
    "new_df = new_df.reset_index(drop=True)\n",
    "new_df.loc[:, 'DMesons_pt'] = new_df['DMesons_pt'].apply(lambda x: float(x[0]))\n",
    "new_df.loc[:, 'DMesons_fitOutput__Lxy'] = new_df['DMesons_fitOutput__Lxy'].apply(lambda x: float(x[0]))\n",
    "new_df.loc[:, 'DMesons_costhetastar'] = new_df['DMesons_costhetastar'].apply(lambda x: float(x[0]))\n",
    "new_df.loc[:, 'DMesons_pdgId'] = new_df['DMesons_pdgId'].apply(lambda x: int(x[0]))\n",
    "new_df = new_df.drop('particle_type', axis=1)\n",
    "new_df"
   ]
  },
  {
   "cell_type": "code",
   "execution_count": 7,
   "id": "f65320d5-2bb2-4d77-a9ba-88a397e7b528",
   "metadata": {},
   "outputs": [
    {
     "name": "stdout",
     "output_type": "stream",
     "text": [
      "1566841 949522\n"
     ]
    }
   ],
   "source": [
    "D = 0\n",
    "Lambda = 0\n",
    "for pdgId in new_df[\"DMesons_pdgId\"]:\n",
    "    if pdgId == 411:\n",
    "        D+=1\n",
    "    elif pdgId == 4122:\n",
    "        Lambda+=1\n",
    "print(D, Lambda)"
   ]
  },
  {
   "cell_type": "code",
   "execution_count": 195,
   "id": "b3f33e82-58e3-4420-81af-d4b5118760dc",
   "metadata": {},
   "outputs": [
    {
     "data": {
      "text/html": [
       "<div>\n",
       "<style scoped>\n",
       "    .dataframe tbody tr th:only-of-type {\n",
       "        vertical-align: middle;\n",
       "    }\n",
       "\n",
       "    .dataframe tbody tr th {\n",
       "        vertical-align: top;\n",
       "    }\n",
       "\n",
       "    .dataframe thead th {\n",
       "        text-align: right;\n",
       "    }\n",
       "</style>\n",
       "<table border=\"1\" class=\"dataframe\">\n",
       "  <thead>\n",
       "    <tr style=\"text-align: right;\">\n",
       "      <th></th>\n",
       "      <th>DMesons_pt</th>\n",
       "      <th>DMesons_fitOutput__Lxy</th>\n",
       "      <th>DMesons_costhetastar</th>\n",
       "      <th>DMesons_pdgId</th>\n",
       "    </tr>\n",
       "  </thead>\n",
       "  <tbody>\n",
       "    <tr>\n",
       "      <th>0</th>\n",
       "      <td>10.047125</td>\n",
       "      <td>2.339530</td>\n",
       "      <td>0.254870</td>\n",
       "      <td>411</td>\n",
       "    </tr>\n",
       "    <tr>\n",
       "      <th>1</th>\n",
       "      <td>14.835231</td>\n",
       "      <td>2.899070</td>\n",
       "      <td>0.684572</td>\n",
       "      <td>411</td>\n",
       "    </tr>\n",
       "    <tr>\n",
       "      <th>2</th>\n",
       "      <td>9.691489</td>\n",
       "      <td>1.241371</td>\n",
       "      <td>0.439036</td>\n",
       "      <td>411</td>\n",
       "    </tr>\n",
       "    <tr>\n",
       "      <th>3</th>\n",
       "      <td>28.525160</td>\n",
       "      <td>1.982312</td>\n",
       "      <td>0.528804</td>\n",
       "      <td>411</td>\n",
       "    </tr>\n",
       "    <tr>\n",
       "      <th>4</th>\n",
       "      <td>40.980965</td>\n",
       "      <td>4.664388</td>\n",
       "      <td>0.302332</td>\n",
       "      <td>411</td>\n",
       "    </tr>\n",
       "    <tr>\n",
       "      <th>...</th>\n",
       "      <td>...</td>\n",
       "      <td>...</td>\n",
       "      <td>...</td>\n",
       "      <td>...</td>\n",
       "    </tr>\n",
       "    <tr>\n",
       "      <th>1566836</th>\n",
       "      <td>23.254861</td>\n",
       "      <td>1.341532</td>\n",
       "      <td>0.385443</td>\n",
       "      <td>411</td>\n",
       "    </tr>\n",
       "    <tr>\n",
       "      <th>1566837</th>\n",
       "      <td>24.477744</td>\n",
       "      <td>3.593372</td>\n",
       "      <td>0.539289</td>\n",
       "      <td>411</td>\n",
       "    </tr>\n",
       "    <tr>\n",
       "      <th>1566838</th>\n",
       "      <td>14.971446</td>\n",
       "      <td>2.374407</td>\n",
       "      <td>0.863583</td>\n",
       "      <td>411</td>\n",
       "    </tr>\n",
       "    <tr>\n",
       "      <th>1566839</th>\n",
       "      <td>12.734207</td>\n",
       "      <td>5.151422</td>\n",
       "      <td>0.461929</td>\n",
       "      <td>411</td>\n",
       "    </tr>\n",
       "    <tr>\n",
       "      <th>1566840</th>\n",
       "      <td>17.960000</td>\n",
       "      <td>5.878625</td>\n",
       "      <td>0.452780</td>\n",
       "      <td>411</td>\n",
       "    </tr>\n",
       "  </tbody>\n",
       "</table>\n",
       "<p>1566841 rows × 4 columns</p>\n",
       "</div>"
      ],
      "text/plain": [
       "         DMesons_pt  DMesons_fitOutput__Lxy  DMesons_costhetastar  \\\n",
       "0         10.047125                2.339530              0.254870   \n",
       "1         14.835231                2.899070              0.684572   \n",
       "2          9.691489                1.241371              0.439036   \n",
       "3         28.525160                1.982312              0.528804   \n",
       "4         40.980965                4.664388              0.302332   \n",
       "...             ...                     ...                   ...   \n",
       "1566836   23.254861                1.341532              0.385443   \n",
       "1566837   24.477744                3.593372              0.539289   \n",
       "1566838   14.971446                2.374407              0.863583   \n",
       "1566839   12.734207                5.151422              0.461929   \n",
       "1566840   17.960000                5.878625              0.452780   \n",
       "\n",
       "         DMesons_pdgId  \n",
       "0                  411  \n",
       "1                  411  \n",
       "2                  411  \n",
       "3                  411  \n",
       "4                  411  \n",
       "...                ...  \n",
       "1566836            411  \n",
       "1566837            411  \n",
       "1566838            411  \n",
       "1566839            411  \n",
       "1566840            411  \n",
       "\n",
       "[1566841 rows x 4 columns]"
      ]
     },
     "execution_count": 195,
     "metadata": {},
     "output_type": "execute_result"
    }
   ],
   "source": [
    "only_411 = only_411.reset_index(drop=True)\n",
    "only_411.loc[:, 'DMesons_pt'] = only_411['DMesons_pt'].apply(lambda x: float(x[0]))\n",
    "only_411.loc[:, 'DMesons_fitOutput__Lxy'] = only_411['DMesons_fitOutput__Lxy'].apply(lambda x: float(x[0]))\n",
    "only_411.loc[:, 'DMesons_costhetastar'] = only_411['DMesons_costhetastar'].apply(lambda x: float(x[0]))\n",
    "only_411.loc[:, 'DMesons_pdgId'] = only_411['DMesons_pdgId'].apply(lambda x: int(x[0]))\n",
    "only_411 = only_411.drop('particle_type', axis=1)\n",
    "\n",
    "only_4122 = only_4122.reset_index(drop=True)\n",
    "only_4122.loc[:, 'DMesons_pt'] = only_4122['DMesons_pt'].apply(lambda x: float(x[0]))\n",
    "only_4122.loc[:, 'DMesons_fitOutput__Lxy'] = only_4122['DMesons_fitOutput__Lxy'].apply(lambda x: float(x[0]))\n",
    "only_4122.loc[:, 'DMesons_costhetastar'] = only_4122['DMesons_costhetastar'].apply(lambda x: float(x[0]))\n",
    "only_4122.loc[:, 'DMesons_pdgId'] = only_4122['DMesons_pdgId'].apply(lambda x: int(x[0]))\n",
    "only_4122 = only_4122.drop('particle_type', axis=1)\n",
    "\n",
    "only_411"
   ]
  },
  {
   "cell_type": "code",
   "execution_count": 177,
   "id": "8f34068c-29b5-4645-9f04-54282d4c381f",
   "metadata": {},
   "outputs": [
    {
     "data": {
      "image/png": "[encoded data removed]",
      "text/plain": [
       "<Figure size 640x480 with 1 Axes>"
      ]
     },
     "metadata": {},
     "output_type": "display_data"
    },
    {
     "data": {
      "image/png": "[encoded data removed]",
      "text/plain": [
       "<Figure size 640x480 with 1 Axes>"
      ]
     },
     "metadata": {},
     "output_type": "display_data"
    },
    {
     "data": {
      "image/png": "[encoded data removed]",
      "text/plain": [
       "<Figure size 640x480 with 1 Axes>"
      ]
     },
     "metadata": {},
     "output_type": "display_data"
    }
   ],
   "source": [
    "plt.figure()\n",
    "hists = plt.hist(X_train1[\"DMesons_pt\"], bins = 100, label = \"background\")\n",
    "hists = plt.hist(X_train2[\"DMesons_pt\"], bins = 100, label = \"signal\")\n",
    "plt.legend()\n",
    "plt.show()\n",
    "\n",
    "plt.figure()\n",
    "hists1 = plt.hist(X_train1[\"DMesons_fitOutput__Lxy\"], bins = 100, label = \"background\")\n",
    "hists1 = plt.hist(X_train2[\"DMesons_fitOutput__Lxy\"], bins = 100, label = \"signal\")\n",
    "plt.legend()\n",
    "plt.show()\n",
    "\n",
    "plt.figure()\n",
    "hists2 = plt.hist(X_train1[\"DMesons_costhetastar\"], bins = 100, label = \"background\")\n",
    "hists2 = plt.hist(X_train2[\"DMesons_costhetastar\"], bins = 100, label = \"signal\")\n",
    "plt.legend()\n",
    "plt.show()"
   ]
  },
  {
   "cell_type": "code",
   "execution_count": 196,
   "id": "38d6fa12-d36d-445b-b647-5d33161b88a4",
   "metadata": {},
   "outputs": [],
   "source": [
    "#D and Lambda\n",
    "new_df['DMesons_pdgId'] = new_df['DMesons_pdgId'].replace({411: 0, 4122: 1})\n",
    "X_train, X_test, y_train, y_test = train_test_split(new_df[['DMesons_pt', 'DMesons_fitOutput__Lxy', 'DMesons_costhetastar']], new_df['DMesons_pdgId'], test_size=0.2, random_state=42)\n",
    "\n",
    "#only DMesons\n",
    "only_411['DMesons_pdgId'] = only_411['DMesons_pdgId'].replace({411: 0, 4122: 1})\n",
    "X_train1, X_test1, y_train1, y_test1 = train_test_split(only_411[['DMesons_pt', 'DMesons_fitOutput__Lxy', 'DMesons_costhetastar']], only_411['DMesons_pdgId'], test_size=0.2, random_state=42)\n",
    "\n",
    "#only Lambda\n",
    "only_4122['DMesons_pdgId'] = only_4122['DMesons_pdgId'].replace({411: 0, 4122: 1})\n",
    "X_train2, X_test2, y_train2, y_test2 = train_test_split(only_4122[['DMesons_pt', 'DMesons_fitOutput__Lxy', 'DMesons_costhetastar']], only_4122['DMesons_pdgId'], test_size=0.2, random_state=42)"
   ]
  },
  {
   "cell_type": "code",
   "execution_count": 197,
   "id": "c16f1337-d124-4531-b770-014fb6bca4d8",
   "metadata": {},
   "outputs": [
    {
     "name": "stdout",
     "output_type": "stream",
     "text": [
      "(2013090, 3) (503273, 3)\n"
     ]
    },
    {
     "data": {
      "text/html": [
       "<div>\n",
       "<style scoped>\n",
       "    .dataframe tbody tr th:only-of-type {\n",
       "        vertical-align: middle;\n",
       "    }\n",
       "\n",
       "    .dataframe tbody tr th {\n",
       "        vertical-align: top;\n",
       "    }\n",
       "\n",
       "    .dataframe thead th {\n",
       "        text-align: right;\n",
       "    }\n",
       "</style>\n",
       "<table border=\"1\" class=\"dataframe\">\n",
       "  <thead>\n",
       "    <tr style=\"text-align: right;\">\n",
       "      <th></th>\n",
       "      <th>DMesons_pt</th>\n",
       "      <th>DMesons_fitOutput__Lxy</th>\n",
       "      <th>DMesons_costhetastar</th>\n",
       "    </tr>\n",
       "  </thead>\n",
       "  <tbody>\n",
       "    <tr>\n",
       "      <th>1393567</th>\n",
       "      <td>8.998823</td>\n",
       "      <td>0.415244</td>\n",
       "      <td>-0.676589</td>\n",
       "    </tr>\n",
       "    <tr>\n",
       "      <th>247341</th>\n",
       "      <td>16.169950</td>\n",
       "      <td>0.432640</td>\n",
       "      <td>0.822002</td>\n",
       "    </tr>\n",
       "    <tr>\n",
       "      <th>1720792</th>\n",
       "      <td>23.583254</td>\n",
       "      <td>1.711358</td>\n",
       "      <td>0.509549</td>\n",
       "    </tr>\n",
       "    <tr>\n",
       "      <th>235015</th>\n",
       "      <td>31.431924</td>\n",
       "      <td>1.232870</td>\n",
       "      <td>0.380954</td>\n",
       "    </tr>\n",
       "    <tr>\n",
       "      <th>1760004</th>\n",
       "      <td>24.270182</td>\n",
       "      <td>3.152954</td>\n",
       "      <td>0.582256</td>\n",
       "    </tr>\n",
       "    <tr>\n",
       "      <th>...</th>\n",
       "      <td>...</td>\n",
       "      <td>...</td>\n",
       "      <td>...</td>\n",
       "    </tr>\n",
       "    <tr>\n",
       "      <th>110268</th>\n",
       "      <td>10.439533</td>\n",
       "      <td>2.331200</td>\n",
       "      <td>0.816670</td>\n",
       "    </tr>\n",
       "    <tr>\n",
       "      <th>1692743</th>\n",
       "      <td>11.541045</td>\n",
       "      <td>3.062604</td>\n",
       "      <td>0.980448</td>\n",
       "    </tr>\n",
       "    <tr>\n",
       "      <th>2356330</th>\n",
       "      <td>8.304547</td>\n",
       "      <td>0.295519</td>\n",
       "      <td>0.010769</td>\n",
       "    </tr>\n",
       "    <tr>\n",
       "      <th>2229084</th>\n",
       "      <td>23.810479</td>\n",
       "      <td>4.198989</td>\n",
       "      <td>0.724207</td>\n",
       "    </tr>\n",
       "    <tr>\n",
       "      <th>2219110</th>\n",
       "      <td>13.598386</td>\n",
       "      <td>2.151978</td>\n",
       "      <td>0.454602</td>\n",
       "    </tr>\n",
       "  </tbody>\n",
       "</table>\n",
       "<p>2013090 rows × 3 columns</p>\n",
       "</div>"
      ],
      "text/plain": [
       "         DMesons_pt  DMesons_fitOutput__Lxy  DMesons_costhetastar\n",
       "1393567    8.998823                0.415244             -0.676589\n",
       "247341    16.169950                0.432640              0.822002\n",
       "1720792   23.583254                1.711358              0.509549\n",
       "235015    31.431924                1.232870              0.380954\n",
       "1760004   24.270182                3.152954              0.582256\n",
       "...             ...                     ...                   ...\n",
       "110268    10.439533                2.331200              0.816670\n",
       "1692743   11.541045                3.062604              0.980448\n",
       "2356330    8.304547                0.295519              0.010769\n",
       "2229084   23.810479                4.198989              0.724207\n",
       "2219110   13.598386                2.151978              0.454602\n",
       "\n",
       "[2013090 rows x 3 columns]"
      ]
     },
     "execution_count": 197,
     "metadata": {},
     "output_type": "execute_result"
    }
   ],
   "source": [
    "print(np.shape(X_train), np.shape(X_test))\n",
    "X_train"
   ]
  },
  {
   "cell_type": "code",
   "execution_count": 10,
   "id": "3797f144-19c6-43ca-afac-c9917f73fddd",
   "metadata": {},
   "outputs": [
    {
     "name": "stderr",
     "output_type": "stream",
     "text": [
      "Failed to detect the name of this notebook, you can set it manually with the WANDB_NOTEBOOK_NAME environment variable to enable code saving.\n",
      "\u001b[34m\u001b[1mwandb\u001b[0m: Currently logged in as: \u001b[33mgup-singh\u001b[0m (\u001b[33matlasdnn\u001b[0m). Use \u001b[1m`wandb login --relogin`\u001b[0m to force relogin\n"
     ]
    },
    {
     "data": {
      "text/html": [
       "Tracking run with wandb version 0.14.0"
      ],
      "text/plain": [
       "<IPython.core.display.HTML object>"
      ]
     },
     "metadata": {},
     "output_type": "display_data"
    },
    {
     "data": {
      "text/html": [
       "Run data is saved locally in <code>/global/u2/g/gupsingh/ATLAS_DNN/wandb/run-20230403_031718-2kpbxqux</code>"
      ],
      "text/plain": [
       "<IPython.core.display.HTML object>"
      ]
     },
     "metadata": {},
     "output_type": "display_data"
    },
    {
     "data": {
      "text/html": [
       "Syncing run <strong><a href='https://wandb.ai/atlasdnn/ATLAS_DNN/runs/2kpbxqux' target=\"_blank\">frosty-lion-3</a></strong> to <a href='https://wandb.ai/atlasdnn/ATLAS_DNN' target=\"_blank\">Weights & Biases</a> (<a href='https://wandb.me/run' target=\"_blank\">docs</a>)<br/>"
      ],
      "text/plain": [
       "<IPython.core.display.HTML object>"
      ]
     },
     "metadata": {},
     "output_type": "display_data"
    },
    {
     "data": {
      "text/html": [
       " View project at <a href='https://wandb.ai/atlasdnn/ATLAS_DNN' target=\"_blank\">https://wandb.ai/atlasdnn/ATLAS_DNN</a>"
      ],
      "text/plain": [
       "<IPython.core.display.HTML object>"
      ]
     },
     "metadata": {},
     "output_type": "display_data"
    },
    {
     "data": {
      "text/html": [
       " View run at <a href='https://wandb.ai/atlasdnn/ATLAS_DNN/runs/2kpbxqux' target=\"_blank\">https://wandb.ai/atlasdnn/ATLAS_DNN/runs/2kpbxqux</a>"
      ],
      "text/plain": [
       "<IPython.core.display.HTML object>"
      ]
     },
     "metadata": {},
     "output_type": "display_data"
    }
   ],
   "source": [
    "wandb.init(\n",
    "    # set the wandb project where this run will be logged\n",
    "    project=\"ATLAS_DNN\",\n",
    "\n",
    "    # track hyperparameters and run metadata with wandb.config\n",
    "    config={\n",
    "        \"layer_1\": 64,\n",
    "        \"activation_1\": \"relu\",\n",
    "        \"dropout\": 0.5,\n",
    "        \"layer_2\": 32,\n",
    "        \"activation_2\": \"relu\",\n",
    "        \"dropout\": 0.5,\n",
    "        \"output_layer\": 1,\n",
    "        \"output_activation\": \"sigmoid\",\n",
    "        \"optimizer\": \"adam\",\n",
    "        \"loss\": \"binary_crossentropy\",\n",
    "        \"metric\": \"accuracy\",\n",
    "        \"epoch\": 50,\n",
    "        \"batch_size\": 32\n",
    "    }\n",
    ")\n",
    "\n",
    "config = wandb.config"
   ]
  },
  {
   "cell_type": "code",
   "execution_count": 11,
   "id": "8691200c-24fe-4a5b-a4c4-29902c91a09e",
   "metadata": {},
   "outputs": [
    {
     "name": "stderr",
     "output_type": "stream",
     "text": [
      "2023-04-03 03:17:28.703939: E tensorflow/compiler/xla/stream_executor/cuda/cuda_driver.cc:266] failed call to cuInit: CUDA_ERROR_NO_DEVICE: no CUDA-capable device is detected\n"
     ]
    }
   ],
   "source": [
    "#model\n",
    "model = Sequential([\n",
    "    Dense(64, activation='relu', input_shape=(X_train.shape[1],)),\n",
    "    Dropout(0.5),\n",
    "    Dense(32, activation='relu'),\n",
    "    Dropout(0.5),\n",
    "    Dense(1, activation='sigmoid')\n",
    "])"
   ]
  },
  {
   "cell_type": "code",
   "execution_count": 12,
   "id": "9f802f11-45c9-464e-9b90-e7e6deed7bba",
   "metadata": {},
   "outputs": [
    {
     "name": "stderr",
     "output_type": "stream",
     "text": [
      "\u001b[34m\u001b[1mwandb\u001b[0m: \u001b[33mWARNING\u001b[0m The save_model argument by default saves the model in the HDF5 format that cannot save custom objects like subclassed models and custom layers. This behavior will be deprecated in a future release in favor of the SavedModel format. Meanwhile, the HDF5 model is saved as W&B files and the SavedModel as W&B Artifacts.\n"
     ]
    },
    {
     "name": "stdout",
     "output_type": "stream",
     "text": [
      "Epoch 1/50\n",
      "62884/62910 [============================>.] - ETA: 0s - loss: 0.1921"
     ]
    },
    {
     "name": "stderr",
     "output_type": "stream",
     "text": [
      "2023-04-03 03:19:12.764078: I tensorflow/core/common_runtime/executor.cc:1197] [/device:CPU:0] (DEBUG INFO) Executor start aborting (this does not indicate an error and you can ignore this message): INVALID_ARGUMENT: You must feed a value for placeholder tensor 'inputs' with dtype float and shape [?,64]\n",
      "\t [[{{node inputs}}]]\n",
      "2023-04-03 03:19:12.777788: I tensorflow/core/common_runtime/executor.cc:1197] [/device:CPU:0] (DEBUG INFO) Executor start aborting (this does not indicate an error and you can ignore this message): INVALID_ARGUMENT: You must feed a value for placeholder tensor 'inputs' with dtype float and shape [?,32]\n",
      "\t [[{{node inputs}}]]\n",
      "2023-04-03 03:19:12.938020: I tensorflow/core/common_runtime/executor.cc:1197] [/device:CPU:0] (DEBUG INFO) Executor start aborting (this does not indicate an error and you can ignore this message): INVALID_ARGUMENT: You must feed a value for placeholder tensor 'inputs' with dtype float and shape [?,64]\n",
      "\t [[{{node inputs}}]]\n",
      "2023-04-03 03:19:12.968186: I tensorflow/core/common_runtime/executor.cc:1197] [/device:CPU:0] (DEBUG INFO) Executor start aborting (this does not indicate an error and you can ignore this message): INVALID_ARGUMENT: You must feed a value for placeholder tensor 'inputs' with dtype float and shape [?,32]\n",
      "\t [[{{node inputs}}]]\n",
      "WARNING:absl:Found untraced functions such as _update_step_xla while saving (showing 1 of 1). These functions will not be directly callable after loading.\n"
     ]
    },
    {
     "name": "stdout",
     "output_type": "stream",
     "text": [
      "INFO:tensorflow:Assets written to: /global/u2/g/gupsingh/ATLAS_DNN/wandb/run-20230403_031718-2kpbxqux/files/model-best/assets\n"
     ]
    },
    {
     "name": "stderr",
     "output_type": "stream",
     "text": [
      "INFO:tensorflow:Assets written to: /global/u2/g/gupsingh/ATLAS_DNN/wandb/run-20230403_031718-2kpbxqux/files/model-best/assets\n",
      "\u001b[34m\u001b[1mwandb\u001b[0m: Adding directory to artifact (/global/u2/g/gupsingh/ATLAS_DNN/wandb/run-20230403_031718-2kpbxqux/files/model-best)... Done. 0.0s\n"
     ]
    },
    {
     "name": "stdout",
     "output_type": "stream",
     "text": [
      "62910/62910 [==============================] - 104s 2ms/step - loss: 0.1921 - val_loss: 0.1786\n",
      "Epoch 2/50\n",
      "62895/62910 [============================>.] - ETA: 0s - loss: 0.1728"
     ]
    },
    {
     "name": "stderr",
     "output_type": "stream",
     "text": [
      "2023-04-03 03:20:55.543626: I tensorflow/core/common_runtime/executor.cc:1197] [/device:CPU:0] (DEBUG INFO) Executor start aborting (this does not indicate an error and you can ignore this message): INVALID_ARGUMENT: You must feed a value for placeholder tensor 'inputs' with dtype float and shape [?,64]\n",
      "\t [[{{node inputs}}]]\n",
      "2023-04-03 03:20:55.557426: I tensorflow/core/common_runtime/executor.cc:1197] [/device:CPU:0] (DEBUG INFO) Executor start aborting (this does not indicate an error and you can ignore this message): INVALID_ARGUMENT: You must feed a value for placeholder tensor 'inputs' with dtype float and shape [?,32]\n",
      "\t [[{{node inputs}}]]\n",
      "2023-04-03 03:20:55.697334: I tensorflow/core/common_runtime/executor.cc:1197] [/device:CPU:0] (DEBUG INFO) Executor start aborting (this does not indicate an error and you can ignore this message): INVALID_ARGUMENT: You must feed a value for placeholder tensor 'inputs' with dtype float and shape [?,64]\n",
      "\t [[{{node inputs}}]]\n",
      "2023-04-03 03:20:55.730165: I tensorflow/core/common_runtime/executor.cc:1197] [/device:CPU:0] (DEBUG INFO) Executor start aborting (this does not indicate an error and you can ignore this message): INVALID_ARGUMENT: You must feed a value for placeholder tensor 'inputs' with dtype float and shape [?,32]\n",
      "\t [[{{node inputs}}]]\n",
      "WARNING:absl:Found untraced functions such as _update_step_xla while saving (showing 1 of 1). These functions will not be directly callable after loading.\n"
     ]
    },
    {
     "name": "stdout",
     "output_type": "stream",
     "text": [
      "INFO:tensorflow:Assets written to: /global/u2/g/gupsingh/ATLAS_DNN/wandb/run-20230403_031718-2kpbxqux/files/model-best/assets\n"
     ]
    },
    {
     "name": "stderr",
     "output_type": "stream",
     "text": [
      "INFO:tensorflow:Assets written to: /global/u2/g/gupsingh/ATLAS_DNN/wandb/run-20230403_031718-2kpbxqux/files/model-best/assets\n",
      "\u001b[34m\u001b[1mwandb\u001b[0m: Adding directory to artifact (/global/u2/g/gupsingh/ATLAS_DNN/wandb/run-20230403_031718-2kpbxqux/files/model-best)... Done. 0.0s\n"
     ]
    },
    {
     "name": "stdout",
     "output_type": "stream",
     "text": [
      "62910/62910 [==============================] - 103s 2ms/step - loss: 0.1728 - val_loss: 0.1610\n",
      "Epoch 3/50\n",
      "62892/62910 [============================>.] - ETA: 0s - loss: 0.1708"
     ]
    },
    {
     "name": "stderr",
     "output_type": "stream",
     "text": [
      "2023-04-03 03:22:38.425957: I tensorflow/core/common_runtime/executor.cc:1197] [/device:CPU:0] (DEBUG INFO) Executor start aborting (this does not indicate an error and you can ignore this message): INVALID_ARGUMENT: You must feed a value for placeholder tensor 'inputs' with dtype float and shape [?,64]\n",
      "\t [[{{node inputs}}]]\n",
      "2023-04-03 03:22:38.438608: I tensorflow/core/common_runtime/executor.cc:1197] [/device:CPU:0] (DEBUG INFO) Executor start aborting (this does not indicate an error and you can ignore this message): INVALID_ARGUMENT: You must feed a value for placeholder tensor 'inputs' with dtype float and shape [?,32]\n",
      "\t [[{{node inputs}}]]\n",
      "2023-04-03 03:22:38.570191: I tensorflow/core/common_runtime/executor.cc:1197] [/device:CPU:0] (DEBUG INFO) Executor start aborting (this does not indicate an error and you can ignore this message): INVALID_ARGUMENT: You must feed a value for placeholder tensor 'inputs' with dtype float and shape [?,64]\n",
      "\t [[{{node inputs}}]]\n",
      "2023-04-03 03:22:38.599351: I tensorflow/core/common_runtime/executor.cc:1197] [/device:CPU:0] (DEBUG INFO) Executor start aborting (this does not indicate an error and you can ignore this message): INVALID_ARGUMENT: You must feed a value for placeholder tensor 'inputs' with dtype float and shape [?,32]\n",
      "\t [[{{node inputs}}]]\n",
      "WARNING:absl:Found untraced functions such as _update_step_xla while saving (showing 1 of 1). These functions will not be directly callable after loading.\n"
     ]
    },
    {
     "name": "stdout",
     "output_type": "stream",
     "text": [
      "INFO:tensorflow:Assets written to: /global/u2/g/gupsingh/ATLAS_DNN/wandb/run-20230403_031718-2kpbxqux/files/model-best/assets\n"
     ]
    },
    {
     "name": "stderr",
     "output_type": "stream",
     "text": [
      "INFO:tensorflow:Assets written to: /global/u2/g/gupsingh/ATLAS_DNN/wandb/run-20230403_031718-2kpbxqux/files/model-best/assets\n",
      "\u001b[34m\u001b[1mwandb\u001b[0m: Adding directory to artifact (/global/u2/g/gupsingh/ATLAS_DNN/wandb/run-20230403_031718-2kpbxqux/files/model-best)... Done. 0.0s\n"
     ]
    },
    {
     "name": "stdout",
     "output_type": "stream",
     "text": [
      "62910/62910 [==============================] - 103s 2ms/step - loss: 0.1708 - val_loss: 0.1585\n",
      "Epoch 4/50\n",
      "62910/62910 [==============================] - 102s 2ms/step - loss: 0.1692 - val_loss: 0.1587\n",
      "Epoch 5/50\n",
      "62902/62910 [============================>.] - ETA: 0s - loss: 0.1686"
     ]
    },
    {
     "name": "stderr",
     "output_type": "stream",
     "text": [
      "2023-04-03 03:26:03.595767: I tensorflow/core/common_runtime/executor.cc:1197] [/device:CPU:0] (DEBUG INFO) Executor start aborting (this does not indicate an error and you can ignore this message): INVALID_ARGUMENT: You must feed a value for placeholder tensor 'inputs' with dtype float and shape [?,64]\n",
      "\t [[{{node inputs}}]]\n",
      "2023-04-03 03:26:03.610066: I tensorflow/core/common_runtime/executor.cc:1197] [/device:CPU:0] (DEBUG INFO) Executor start aborting (this does not indicate an error and you can ignore this message): INVALID_ARGUMENT: You must feed a value for placeholder tensor 'inputs' with dtype float and shape [?,32]\n",
      "\t [[{{node inputs}}]]\n",
      "2023-04-03 03:26:03.744649: I tensorflow/core/common_runtime/executor.cc:1197] [/device:CPU:0] (DEBUG INFO) Executor start aborting (this does not indicate an error and you can ignore this message): INVALID_ARGUMENT: You must feed a value for placeholder tensor 'inputs' with dtype float and shape [?,64]\n",
      "\t [[{{node inputs}}]]\n",
      "2023-04-03 03:26:03.775287: I tensorflow/core/common_runtime/executor.cc:1197] [/device:CPU:0] (DEBUG INFO) Executor start aborting (this does not indicate an error and you can ignore this message): INVALID_ARGUMENT: You must feed a value for placeholder tensor 'inputs' with dtype float and shape [?,32]\n",
      "\t [[{{node inputs}}]]\n",
      "WARNING:absl:Found untraced functions such as _update_step_xla while saving (showing 1 of 1). These functions will not be directly callable after loading.\n"
     ]
    },
    {
     "name": "stdout",
     "output_type": "stream",
     "text": [
      "INFO:tensorflow:Assets written to: /global/u2/g/gupsingh/ATLAS_DNN/wandb/run-20230403_031718-2kpbxqux/files/model-best/assets\n"
     ]
    },
    {
     "name": "stderr",
     "output_type": "stream",
     "text": [
      "INFO:tensorflow:Assets written to: /global/u2/g/gupsingh/ATLAS_DNN/wandb/run-20230403_031718-2kpbxqux/files/model-best/assets\n",
      "\u001b[34m\u001b[1mwandb\u001b[0m: Adding directory to artifact (/global/u2/g/gupsingh/ATLAS_DNN/wandb/run-20230403_031718-2kpbxqux/files/model-best)... Done. 0.0s\n"
     ]
    },
    {
     "name": "stdout",
     "output_type": "stream",
     "text": [
      "62910/62910 [==============================] - 103s 2ms/step - loss: 0.1686 - val_loss: 0.1572\n",
      "Epoch 6/50\n",
      "62910/62910 [==============================] - 103s 2ms/step - loss: 0.1676 - val_loss: 0.1590\n",
      "Epoch 7/50\n",
      "62910/62910 [==============================] - 102s 2ms/step - loss: 0.1669 - val_loss: 0.1579\n",
      "Epoch 8/50\n",
      "62910/62910 [==============================] - 102s 2ms/step - loss: 0.1669 - val_loss: 0.1593\n",
      "Epoch 8: early stopping\n",
      "15728/15728 [==============================] - 17s 1ms/step - loss: 0.1593\n",
      "Loss: 0.15926548838615417\n"
     ]
    }
   ],
   "source": [
    "#Compile\n",
    "model.compile(optimizer='adam', loss='binary_crossentropy')\n",
    "\n",
    "early_stop = EarlyStopping(monitor='val_loss', patience=3, verbose=1, mode='min')\n",
    "# checkpoint = ModelCheckpoint('model.h5', monitor='val_loss', save_best_only=True, verbose=1)\n",
    "# tensorboard = TensorBoard(log_dir='./logs', histogram_freq=0, write_graph=True, write_images=False)\n",
    "#Train\n",
    "history = model.fit(X_train, y_train, epochs=50, batch_size=32, validation_data=(X_test, y_test), callbacks=[early_stop, WandbCallback(), tf.keras.callbacks.History()])\n",
    "\n",
    "#Evaluate testing set\n",
    "loss = model.evaluate(X_test, y_test)\n",
    "print(\"Loss: {}\".format(loss))\n",
    "\n",
    "#supress the errors\n",
    "logging.getLogger('tensorflow').setLevel(logging.ERROR)"
   ]
  },
  {
   "cell_type": "code",
   "execution_count": 13,
   "id": "c51c2995-8b37-451a-a2a6-e6b0eef781b7",
   "metadata": {},
   "outputs": [
    {
     "data": {
      "text/html": [
       "Waiting for W&B process to finish... <strong style=\"color:green\">(success).</strong>"
      ],
      "text/plain": [
       "<IPython.core.display.HTML object>"
      ]
     },
     "metadata": {},
     "output_type": "display_data"
    },
    {
     "data": {
      "text/html": [
       "<style>\n",
       "    table.wandb td:nth-child(1) { padding: 0 10px; text-align: left ; width: auto;} td:nth-child(2) {text-align: left ; width: 100%}\n",
       "    .wandb-row { display: flex; flex-direction: row; flex-wrap: wrap; justify-content: flex-start; width: 100% }\n",
       "    .wandb-col { display: flex; flex-direction: column; flex-basis: 100%; flex: 1; padding: 10px; }\n",
       "    </style>\n",
       "<div class=\"wandb-row\"><div class=\"wandb-col\"><h3>Run history:</h3><br/><table class=\"wandb\"><tr><td>epoch</td><td>▁▂▃▄▅▆▇█</td></tr><tr><td>loss</td><td>█▃▂▂▁▁▁▁</td></tr><tr><td>val_loss</td><td>█▂▁▁▁▂▁▂</td></tr></table><br/></div><div class=\"wandb-col\"><h3>Run summary:</h3><br/><table class=\"wandb\"><tr><td>best_epoch</td><td>4</td></tr><tr><td>best_val_loss</td><td>0.15724</td></tr><tr><td>epoch</td><td>7</td></tr><tr><td>loss</td><td>0.16695</td></tr><tr><td>val_loss</td><td>0.15927</td></tr></table><br/></div></div>"
      ],
      "text/plain": [
       "<IPython.core.display.HTML object>"
      ]
     },
     "metadata": {},
     "output_type": "display_data"
    },
    {
     "data": {
      "text/html": [
       " View run <strong style=\"color:#cdcd00\">frosty-lion-3</strong> at: <a href='https://wandb.ai/atlasdnn/ATLAS_DNN/runs/2kpbxqux' target=\"_blank\">https://wandb.ai/atlasdnn/ATLAS_DNN/runs/2kpbxqux</a><br/>Synced 6 W&B file(s), 1 media file(s), 20 artifact file(s) and 1 other file(s)"
      ],
      "text/plain": [
       "<IPython.core.display.HTML object>"
      ]
     },
     "metadata": {},
     "output_type": "display_data"
    },
    {
     "data": {
      "text/html": [
       "Find logs at: <code>./wandb/run-20230403_031718-2kpbxqux/logs</code>"
      ],
      "text/plain": [
       "<IPython.core.display.HTML object>"
      ]
     },
     "metadata": {},
     "output_type": "display_data"
    },
    {
     "name": "stdout",
     "output_type": "stream",
     "text": [
      "15728/15728 [==============================] - 14s 908us/step\n"
     ]
    },
    {
     "data": {
      "text/plain": [
       "array([[0.0488631 ],\n",
       "       [1.        ],\n",
       "       [0.06186907],\n",
       "       ...,\n",
       "       [1.        ],\n",
       "       [0.05209024],\n",
       "       [0.0488631 ]], dtype=float32)"
      ]
     },
     "execution_count": 13,
     "metadata": {},
     "output_type": "execute_result"
    }
   ],
   "source": [
    "wandb.finish()"
   ]
  },
  {
   "cell_type": "code",
   "execution_count": 16,
   "id": "e18b441c-207f-402e-8a4c-b1c8a7f86de0",
   "metadata": {},
   "outputs": [
    {
     "data": {
      "image/png": "[encoded data removed]",
      "text/plain": [
       "<Figure size 640x480 with 1 Axes>"
      ]
     },
     "metadata": {},
     "output_type": "display_data"
    }
   ],
   "source": [
    "# Plot the training and validation loss\n",
    "plt.plot(history.history['loss'])\n",
    "plt.plot(history.history['val_loss'])\n",
    "plt.title('Model Loss')\n",
    "plt.ylabel('Loss')\n",
    "plt.xlabel('Epoch')\n",
    "plt.legend(['Train', 'Validation'], loc='upper right')\n",
    "plt.show()"
   ]
  },
  {
   "cell_type": "code",
   "execution_count": 207,
   "id": "16ec2ba3-002e-489f-a0a4-a087894d71c2",
   "metadata": {},
   "outputs": [
    {
     "name": "stdout",
     "output_type": "stream",
     "text": [
      "15728/15728 [==============================] - 16s 1ms/step\n"
     ]
    },
    {
     "data": {
      "text/plain": [
       "array([[0.0488631 ],\n",
       "       [1.        ],\n",
       "       [0.06186907],\n",
       "       ...,\n",
       "       [1.        ],\n",
       "       [0.05209024],\n",
       "       [0.0488631 ]], dtype=float32)"
      ]
     },
     "execution_count": 207,
     "metadata": {},
     "output_type": "execute_result"
    }
   ],
   "source": [
    "predictions = model.predict(X_test)\n",
    "predictions[:10]"
   ]
  },
  {
   "cell_type": "code",
   "execution_count": 201,
   "id": "4a31e0ad-5770-42c8-a6b1-6f93a797adc6",
   "metadata": {},
   "outputs": [
    {
     "name": "stdout",
     "output_type": "stream",
     "text": [
      "9793/9793 [==============================] - 10s 992us/step\n"
     ]
    },
    {
     "data": {
      "text/plain": [
       "array([[0.0488631 ],\n",
       "       [0.17408939],\n",
       "       [0.0488631 ],\n",
       "       [0.0488631 ],\n",
       "       [0.0488631 ],\n",
       "       [0.0488631 ],\n",
       "       [0.0488631 ],\n",
       "       [0.0488631 ],\n",
       "       [0.0488631 ],\n",
       "       [0.0488631 ]], dtype=float32)"
      ]
     },
     "execution_count": 201,
     "metadata": {},
     "output_type": "execute_result"
    }
   ],
   "source": [
    "predictions1 = model.predict(X_test1)\n",
    "predictions1[:10]"
   ]
  },
  {
   "cell_type": "code",
   "execution_count": 202,
   "id": "691d943d-649d-46bc-8900-eee623a49f70",
   "metadata": {},
   "outputs": [
    {
     "name": "stdout",
     "output_type": "stream",
     "text": [
      "5935/5935 [==============================] - 6s 999us/step\n"
     ]
    },
    {
     "data": {
      "text/plain": [
       "array([[1.        ],\n",
       "       [1.        ],\n",
       "       [1.        ],\n",
       "       [1.        ],\n",
       "       [1.        ],\n",
       "       [1.        ],\n",
       "       [0.96699846],\n",
       "       [1.        ],\n",
       "       [1.        ],\n",
       "       [1.        ]], dtype=float32)"
      ]
     },
     "execution_count": 202,
     "metadata": {},
     "output_type": "execute_result"
    }
   ],
   "source": [
    "predictions2 = model.predict(X_test2)\n",
    "predictions2[:10]"
   ]
  },
  {
   "cell_type": "code",
   "execution_count": 216,
   "id": "209542a2-f19f-468c-b9b3-f98196ceefc0",
   "metadata": {},
   "outputs": [
    {
     "name": "stdout",
     "output_type": "stream",
     "text": [
      "$D^+$ Count: 23994\n",
      "$\\Lambda_C^+ Count: 165911\n",
      "Unknown Particle Count: 0\n"
     ]
    },
    {
     "data": {
      "text/plain": [
       "(189905, 1)"
      ]
     },
     "execution_count": 216,
     "metadata": {},
     "output_type": "execute_result"
    }
   ],
   "source": [
    "predictions_list = []\n",
    "D_count = 0\n",
    "Lambda_count = 0\n",
    "unclear = 0\n",
    "for pred in predictions2:\n",
    "    if float(pred) > 0.5:\n",
    "        predictions_list.append(int(1))\n",
    "        Lambda_count+=1\n",
    "    elif float(pred) < 0.5:\n",
    "        predictions_list.append(int(0))\n",
    "        D_count+=1\n",
    "    else:\n",
    "        unclear+=1\n",
    "        \n",
    "print(\"$D^+$ Count: {}\".format(D_count))\n",
    "print(\"$\\Lambda_C^+ Count: {}\".format(Lambda_count))\n",
    "print(\"Unknown Particle Count: {}\".format(unclear))\n",
    "np.shape(predictions2)"
   ]
  },
  {
   "cell_type": "code",
   "execution_count": 218,
   "id": "a429e301-ba3c-487c-bd73-448fad907dc1",
   "metadata": {},
   "outputs": [
    {
     "name": "stdout",
     "output_type": "stream",
     "text": [
      "Accuracy: 87.37%\n"
     ]
    },
    {
     "data": {
      "text/plain": [
       "275826    1\n",
       "76199     1\n",
       "437361    1\n",
       "740449    1\n",
       "500489    1\n",
       "         ..\n",
       "583454    1\n",
       "363819    1\n",
       "689529    1\n",
       "507183    1\n",
       "143338    1\n",
       "Name: DMesons_pdgId, Length: 189905, dtype: int64"
      ]
     },
     "execution_count": 218,
     "metadata": {},
     "output_type": "execute_result"
    }
   ],
   "source": [
    "accuracy = np.mean(predictions_list == y_test2)\n",
    "print(\"Accuracy: {:.2%}\".format(accuracy))\n",
    "\n",
    "y_test2D"
   ]
  },
  {
   "cell_type": "code",
   "execution_count": 82,
   "id": "4c231cdf-49c7-4f4d-864c-8f38d62c3847",
   "metadata": {},
   "outputs": [
    {
     "data": {
      "image/png": "[encoded data removed]",
      "text/plain": [
       "<Figure size 640x480 with 1 Axes>"
      ]
     },
     "metadata": {},
     "output_type": "display_data"
    }
   ],
   "source": [
    "#arrays = np.concatenate((predictions1, predictions2))\n",
    "hist = plt.hist(predictions1, bins = 50, label = \"$D^{+}$ Predictions\")\n",
    "hist2 = plt.hist(predictions2, bins = 50, label = \"$\\Lambda_C^{+}$ Predictions\")\n",
    "plt.xlabel(\"score\")\n",
    "plt.ylabel(\"count\")\n",
    "plt.legend()\n",
    "plt.show()"
   ]
  },
  {
   "cell_type": "code",
   "execution_count": null,
   "id": "38f6bd93-a366-496a-9e5d-daea55ed8021",
   "metadata": {},
   "outputs": [],
   "source": []
  }
 ],
 "metadata": {
  "kernelspec": {
   "display_name": "cernROOT",
   "language": "python",
   "name": "cernroot"
  },
  "language_info": {
   "codemirror_mode": {
    "name": "ipython",
    "version": 3
   },
   "file_extension": ".py",
   "mimetype": "text/x-python",
   "name": "python",
   "nbconvert_exporter": "python",
   "pygments_lexer": "ipython3",
   "version": "3.11.0"
  }
 },
 "nbformat": 4,
 "nbformat_minor": 5
}
