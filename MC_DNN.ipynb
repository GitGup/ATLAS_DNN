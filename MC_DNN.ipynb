{
 "cells": [
  {
   "cell_type": "code",
   "execution_count": 1,
   "id": "31a7a761-3ae0-4c84-9f77-ec0c8ec1b6b7",
   "metadata": {},
   "outputs": [
    {
     "name": "stdout",
     "output_type": "stream",
     "text": [
      "Welcome to JupyROOT 6.28/00\n"
     ]
    },
    {
     "name": "stderr",
     "output_type": "stream",
     "text": [
      "2023-04-24 00:58:43.147222: I tensorflow/core/platform/cpu_feature_guard.cc:182] This TensorFlow binary is optimized to use available CPU instructions in performance-critical operations.\n",
      "To enable the following instructions: AVX2 FMA, in other operations, rebuild TensorFlow with the appropriate compiler flags.\n",
      "2023-04-24 00:58:45.279728: W tensorflow/compiler/tf2tensorrt/utils/py_utils.cc:38] TF-TRT Warning: Could not find TensorRT\n"
     ]
    }
   ],
   "source": [
    "from common import *\n",
    "from process_ntuples import *\n",
    "from process_df import *\n",
    "from plotting import *\n",
    "from cuts import apply_cuts, apply_pt_cut\n",
    "import matplotlib.pyplot as plt\n",
    "import pickle\n",
    "import time\n",
    "\n",
    "import tensorflow as tf\n",
    "from tensorflow.keras import Model\n",
    "from keras.models import Sequential\n",
    "from keras.layers import Dense, Dropout, Activation\n",
    "from keras import layers\n",
    "\n",
    "from sklearn.preprocessing import StandardScaler\n",
    "from sklearn.model_selection import train_test_split\n",
    "from sklearn.metrics import roc_curve\n",
    "\n",
    "from tensorflow.keras.callbacks import EarlyStopping\n",
    "\n",
    "#weights and biases imports\n",
    "import wandb\n",
    "from wandb.keras import WandbMetricsLogger, WandbModelCheckpoint, WandbCallback"
   ]
  },
  {
   "cell_type": "markdown",
   "id": "c874c9a6-beab-488b-8a31-9fe628c93d4e",
   "metadata": {},
   "source": [
    "$D^{+}$ : 411\n",
    "\n",
    "$\\Lambda_C^{+}$ : 4122\n",
    "\n",
    "Apply Cuts Fiducial Region cuts ($𝐷^{+}$ $𝑝_T$ > 8 GeV, |𝜂| < 2.2). ***See cuts.py on how the cuts are applied***"
   ]
  },
  {
   "cell_type": "code",
   "execution_count": 2,
   "id": "b01cad53-02f2-432b-aa7a-a88ae45eb0d2",
   "metadata": {},
   "outputs": [
    {
     "name": "stdout",
     "output_type": "stream",
     "text": [
      "[PhysicalDevice(name='/physical_device:GPU:0', device_type='GPU'), PhysicalDevice(name='/physical_device:GPU:1', device_type='GPU'), PhysicalDevice(name='/physical_device:GPU:2', device_type='GPU'), PhysicalDevice(name='/physical_device:GPU:3', device_type='GPU')]\n",
      "Num GPUs Available:  4\n"
     ]
    }
   ],
   "source": [
    "print(tf.config.list_physical_devices('GPU'))\n",
    "# Check if tensorflow is using GPU\n",
    "print(\"Num GPUs Available: \", len(tf.config.list_physical_devices('GPU')))"
   ]
  },
  {
   "cell_type": "code",
   "execution_count": 3,
   "id": "04c3b3b8-44f1-4c2e-b001-900d504b7e41",
   "metadata": {},
   "outputs": [
    {
     "name": "stdout",
     "output_type": "stream",
     "text": [
      "['CharmAnalysis.mc.ForcedDecay.Dplus.tree.root', 'CharmAnalysis.mc.ForcedDecay.LabmdaC.tree.root']\n"
     ]
    }
   ],
   "source": [
    "dir_path = \"/global/cfs/cdirs/atlas/gottino/Charm/Analysis/run_batch_gup/ntuples\"\n",
    "\n",
    "files = os.listdir(dir_path)\n",
    "\n",
    "DMesonsTTree = process_ntuple(dir_path, files[0])\n",
    "LambdaMesonsTTree = process_ntuple(dir_path, files[1])\n",
    "\n",
    "branches = [\"DMesons_pt\", \"DMesons_eta\", \"DMesons_m\", \"DMesons_fitOutput__Lxy\", \"DMesons_costhetastar\", \"DMesons_pdgId\", \n",
    "            \"DMesons_daughterInfo__pt\", \"DMesons_daughterInfo__eta\", \"DMesons_daughterInfo__phi\", \"DMesons_daughterInfo__pdgId\"]\n",
    "\n",
    "print(files)"
   ]
  },
  {
   "cell_type": "code",
   "execution_count": 4,
   "id": "93960a4e-eb59-4c90-8c87-7e50ad051eb5",
   "metadata": {},
   "outputs": [],
   "source": [
    "# DMesons_df = generate_df(DMesonsTTree, branches, 2000000)\n",
    "# DMesons_df = apply_cuts(DMesons_df)\n",
    "# DMesons_df"
   ]
  },
  {
   "cell_type": "code",
   "execution_count": 5,
   "id": "a288cb36-8db5-4e80-a86d-d89fdff2292c",
   "metadata": {},
   "outputs": [],
   "source": [
    "# Lambda_df = generate_df(LambdaMesonsTTree, branches, 2000000)\n",
    "# Lambda_df = apply_cuts(Lambda_df)\n",
    "# Lambda_df"
   ]
  },
  {
   "cell_type": "code",
   "execution_count": 8,
   "id": "366f6eec-ded2-4ca5-b5ed-51021373694d",
   "metadata": {},
   "outputs": [
    {
     "name": "stdout",
     "output_type": "stream",
     "text": [
      "Removed 81475 duplicate particles\n",
      "Removed 34651 duplicate particles\n"
     ]
    }
   ],
   "source": [
    "DMesons_df = remove_duplicates(DMesons_df)\n",
    "Lambda_df = remove_duplicates(Lambda_df)"
   ]
  },
  {
   "cell_type": "code",
   "execution_count": 9,
   "id": "25c9c9bd-be19-42c2-8cf4-a8fab44086b1",
   "metadata": {},
   "outputs": [],
   "source": [
    "save(DMesons_df, \"DMesons_df\")\n",
    "save(Lambda_df, \"Lambda_df\")"
   ]
  },
  {
   "cell_type": "code",
   "execution_count": 6,
   "id": "968b3e6a-1446-4210-826a-efe50d8aa2e3",
   "metadata": {},
   "outputs": [],
   "source": [
    "DMesons_df = load(\"DMesons_df\")\n",
    "Lambda_df = load(\"Lambda_df\")"
   ]
  },
  {
   "cell_type": "code",
   "execution_count": 7,
   "id": "598eba32-1950-4807-980b-739a9ef1bdbf",
   "metadata": {},
   "outputs": [],
   "source": [
    "DMesons_df = DMesons_df.head(500000)\n",
    "Lambda_df = Lambda_df.head(500000)"
   ]
  },
  {
   "cell_type": "code",
   "execution_count": 8,
   "id": "d8c974d6-2036-43bc-b916-cbe342f23bf0",
   "metadata": {},
   "outputs": [],
   "source": [
    "#separates each particle of the event into it's own event in a new data frame (for training)\n",
    "def separate(df):\n",
    "    dfs = []\n",
    "    for index, row in df.iterrows():\n",
    "\n",
    "        #reco Ds\n",
    "        pts = row['DMesons_pt']\n",
    "        etas = row['DMesons_eta']\n",
    "        ms = row['DMesons_m']\n",
    "        lxys = row['DMesons_fitOutput__Lxy']\n",
    "        costhetastars = row['DMesons_costhetastar']\n",
    "        pdgids = row[\"DMesons_pdgId\"]\n",
    "\n",
    "        #reco Ds Daughter info\n",
    "        daughter_pts = row[\"DMesons_daughterInfo__pt\"]\n",
    "        daughter_etas = row[\"DMesons_daughterInfo__eta\"]\n",
    "        daughter_phis = row[\"DMesons_daughterInfo__phi\"]\n",
    "        daughter_pdgIds = row[\"DMesons_daughterInfo__pdgId\"]\n",
    "\n",
    "        d = {df.columns[0]: pts, df.columns[1]: etas, df.columns[2]: ms, df.columns[3]: lxys, \n",
    "             df.columns[4]: costhetastars, df.columns[5]: pdgids, \n",
    "\n",
    "             df.columns[6]: daughter_pts, df.columns[7]: daughter_etas, df.columns[8]: daughter_phis, \n",
    "             df.columns[9]: daughter_pdgIds}\n",
    "        df = pd.DataFrame(data=d)\n",
    "\n",
    "        dfs.append(df)\n",
    "\n",
    "    df = pd.concat(dfs)\n",
    "    df = df.reset_index(drop = True)\n",
    "    return df"
   ]
  },
  {
   "cell_type": "code",
   "execution_count": 10,
   "id": "48126885-61c7-4d28-ba50-687dbf27e749",
   "metadata": {},
   "outputs": [],
   "source": [
    "# DMesons_df = separate(DMesons_df)\n",
    "# Lambda_df = separate(Lambda_df)"
   ]
  },
  {
   "cell_type": "code",
   "execution_count": 4,
   "id": "30846c9b-8726-48ac-82ac-f93783f9146a",
   "metadata": {},
   "outputs": [],
   "source": [
    "# save(DMesons_df, \"DMesons_df_separated\")\n",
    "# save(Lambda_df, \"Lambda_df_separated\")\n",
    "\n",
    "DMesons_df = load(\"DMesons_df_separated\")\n",
    "Lambda_df = load(\"Lambda_df_separated\")"
   ]
  },
  {
   "cell_type": "code",
   "execution_count": 59,
   "id": "cb8981e7-9eec-4d65-b4e0-00aac573cae2",
   "metadata": {},
   "outputs": [
    {
     "data": {
      "text/plain": [
       "3"
      ]
     },
     "execution_count": 59,
     "metadata": {},
     "output_type": "execute_result"
    }
   ],
   "source": [
    "DPlus = [-321, 211, 211]\n",
    "LambdaC = [2212, -321, 211]\n",
    "\n",
    "remove_lambda = []\n",
    "\n",
    "count = 0\n",
    "for index, row in DMesons_df.iterrows():\n",
    "    if count == 50:\n",
    "        break\n",
    "    count+=1\n",
    "    \n",
    "    pts = row['DMesons_daughterInfo__pt']\n",
    "    etas = row['DMesons_daughterInfo__eta']\n",
    "    phis = row['DMesons_daughterInfo__phi']\n",
    "    pdgids = row[\"DMesons_daughterInfo__pdgId\"]\n",
    "    \n",
    "    #loop through until the first lambda encountered\n",
    "    for i in range(len(pdgids) - 1):\n",
    "        #if there are multiple lambda baryons\n",
    "        if len(pdgids) > 2:\n",
    "            #stop at the first lambda and keep the higher proton pt valued lambda\n",
    "            if list(pdgids[i]) == LambdaC:\n",
    "                l1_pt, l2_pt = pts[i][0], pts[i + 1][0]\n",
    "                if (l1_pt > l2_pt):\n",
    "                    #Lambda 1's proton has higher pt\n",
    "                    remove_lambda.append((index, i + 1))\n",
    "                elif (l1_pt < l2_pt):\n",
    "                    #Lambda 2's proton has higher pt!\n",
    "                    remove_lambda.append((index, i))\n",
    "                else:\n",
    "                    raise Exception(\"Error: Are the proton pt vaules equal?\")\n",
    "                    \n",
    "len(remove_lambda)"
   ]
  },
  {
   "cell_type": "code",
   "execution_count": 24,
   "id": "b7707166-22b5-4f12-8dab-4bcf29a62005",
   "metadata": {},
   "outputs": [],
   "source": [
    "#takes tuples of shape (2,) / (index, column)\n",
    "def remove_particles_from_df(df, tuple_list):\n",
    "    for tup in tuple_list:\n",
    "        index, column = tup\n",
    "        print(index, column)\n",
    "        \n",
    "        new_df = df.copy()\n",
    "        for i in range(len(DMesons_df.iloc[index, 0][column]) + 1):\n",
    "            #new_df[\"DMesons_daughterInfo__pt\"] = new_df[\"DMesons_daughterInfo__pt\"].apply(lambda x: print(x))\n",
    "            val = new_df.iloc[index, i][column]\n",
    "            print(val)\n",
    "    df = df.drop(index, axis = 0)\n",
    "    return df\n",
    "#df = remove_particles_from_df(DMesons_df, remove_lambda)\n",
    "\n",
    "pd.set_option('display.max_rows', 10)"
   ]
  },
  {
   "cell_type": "code",
   "execution_count": 11,
   "id": "36ae71dc-fcfb-423f-bd81-1888fb07837f",
   "metadata": {},
   "outputs": [
    {
     "data": {
      "text/plain": [
       "(6280052, 6017574)"
      ]
     },
     "execution_count": 11,
     "metadata": {},
     "output_type": "execute_result"
    }
   ],
   "source": [
    "def count(df):\n",
    "    D = 0\n",
    "    Lambda = 0\n",
    "    for pdgId in df[\"DMesons_pdgId\"]:\n",
    "        if pdgId == 411 or pdgId == 0:\n",
    "            D+=1\n",
    "        elif pdgId == 4122 or pdgId == 1:\n",
    "            Lambda+=1\n",
    "    return D, Lambda\n",
    "\n",
    "count(DMesons_df)"
   ]
  },
  {
   "cell_type": "code",
   "execution_count": 17,
   "id": "d45d3ebf-5c79-4b0b-bb9c-bce5b5911ed6",
   "metadata": {},
   "outputs": [],
   "source": [
    "def func(x):\n",
    "    if x == 411:\n",
    "        return 'only_411'\n",
    "    elif x == 4122:\n",
    "        return 'only_4122'\n",
    "    else:\n",
    "        return \"both\"\n",
    "\n",
    "DMesons_df['particle_type'] = DMesons_df['DMesons_pdgId'].apply(func)\n",
    "\n",
    "# separate the rows based on the new column\n",
    "only_411 = DMesons_df[DMesons_df['particle_type'] == 'only_411']\n",
    "only_4122 = DMesons_df[DMesons_df['particle_type'] == 'only_4122']\n",
    "#both = DMesons_df[DMesons_df['particle_type'] == 'both']\n",
    "\n",
    "new_df = DMesons_df[DMesons_df['particle_type'] != 'both']\n",
    "new_df = new_df.reset_index(drop=True)\n",
    "\n",
    "new_df = new_df.drop('particle_type', axis=1)"
   ]
  },
  {
   "cell_type": "code",
   "execution_count": 18,
   "id": "3df0cf67-9ca2-4c65-8cee-ff11b96baeb2",
   "metadata": {},
   "outputs": [],
   "source": [
    "save(only_4122, \"DMesons_only_4122\")"
   ]
  },
  {
   "cell_type": "code",
   "execution_count": 13,
   "id": "b35fa910-46f4-417b-8fec-6e8df201d162",
   "metadata": {},
   "outputs": [],
   "source": [
    "# create a new column 'particle_type' based on the pdgId column\n",
    "\n",
    "def func(x):\n",
    "    if x == 411:\n",
    "        return 'only_411'\n",
    "    elif x == 4122:\n",
    "        return 'only_4122'\n",
    "    else:\n",
    "        return \"both\"\n",
    "\n",
    "Lambda_df['particle_type'] = Lambda_df['DMesons_pdgId'].apply(func)\n",
    "\n",
    "# separate the rows based on the new column\n",
    "only_411 = Lambda_df[Lambda_df['particle_type'] == 'only_411']\n",
    "only_4122 = Lambda_df[Lambda_df['particle_type'] == 'only_4122']\n",
    "#both = DMesons_df[DMesons_df['particle_type'] == 'both']\n",
    "\n",
    "new_df = Lambda_df[Lambda_df['particle_type'] != 'both']\n",
    "new_df = new_df.reset_index(drop=True)\n",
    "\n",
    "new_df = new_df.drop('particle_type', axis=1)"
   ]
  },
  {
   "cell_type": "code",
   "execution_count": 16,
   "id": "f4f1b30c-15a1-4e94-a6a1-54884981647a",
   "metadata": {},
   "outputs": [],
   "source": [
    "save(only_4122, \"Lambda_only_4122\")"
   ]
  },
  {
   "cell_type": "code",
   "execution_count": 11,
   "id": "9dca7972-7adc-403b-be80-d3941955501d",
   "metadata": {},
   "outputs": [],
   "source": [
    "# Read\n",
    "Lambda_only_4122 = load(\"Lambda_only_4122\")\n",
    "DMesons_only_4122 = load(\"DMesons_only_4122\")"
   ]
  },
  {
   "cell_type": "code",
   "execution_count": 12,
   "id": "97b5e5f1-1d58-448d-b4e5-56e77a5e68e8",
   "metadata": {},
   "outputs": [
    {
     "data": {
      "text/html": [
       "<div>\n",
       "<style scoped>\n",
       "    .dataframe tbody tr th:only-of-type {\n",
       "        vertical-align: middle;\n",
       "    }\n",
       "\n",
       "    .dataframe tbody tr th {\n",
       "        vertical-align: top;\n",
       "    }\n",
       "\n",
       "    .dataframe thead th {\n",
       "        text-align: right;\n",
       "    }\n",
       "</style>\n",
       "<table border=\"1\" class=\"dataframe\">\n",
       "  <thead>\n",
       "    <tr style=\"text-align: right;\">\n",
       "      <th></th>\n",
       "      <th>DMesons_pt</th>\n",
       "      <th>DMesons_eta</th>\n",
       "      <th>DMesons_m</th>\n",
       "      <th>DMesons_fitOutput__Lxy</th>\n",
       "      <th>DMesons_costhetastar</th>\n",
       "      <th>DMesons_pdgId</th>\n",
       "      <th>DMesons_daughterInfo__pt</th>\n",
       "      <th>DMesons_daughterInfo__eta</th>\n",
       "      <th>DMesons_daughterInfo__phi</th>\n",
       "      <th>DMesons_daughterInfo__pdgId</th>\n",
       "      <th>particle_type</th>\n",
       "    </tr>\n",
       "  </thead>\n",
       "  <tbody>\n",
       "    <tr>\n",
       "      <th>2</th>\n",
       "      <td>18.993742</td>\n",
       "      <td>-1.661963</td>\n",
       "      <td>2398.886963</td>\n",
       "      <td>1.918414</td>\n",
       "      <td>-0.065073</td>\n",
       "      <td>411</td>\n",
       "      <td>[6.605627059936523, 6.457057952880859, 5.96782...</td>\n",
       "      <td>(-1.7326077, -1.608788, -1.6305238)</td>\n",
       "      <td>(-0.49662885, -0.371787, -0.5161313)</td>\n",
       "      <td>(2212, -321, 211)</td>\n",
       "      <td>only_4122</td>\n",
       "    </tr>\n",
       "    <tr>\n",
       "      <th>4</th>\n",
       "      <td>10.118494</td>\n",
       "      <td>0.041659</td>\n",
       "      <td>2468.180664</td>\n",
       "      <td>2.890126</td>\n",
       "      <td>0.427697</td>\n",
       "      <td>411</td>\n",
       "      <td>[3.3083105087280273, 3.7944977283477783, 3.065...</td>\n",
       "      <td>(0.22605924, -0.073717244, -0.017923404)</td>\n",
       "      <td>(0.6827104, 0.753864, 0.920779)</td>\n",
       "      <td>(2212, -321, 211)</td>\n",
       "      <td>only_4122</td>\n",
       "    </tr>\n",
       "    <tr>\n",
       "      <th>6</th>\n",
       "      <td>12.579471</td>\n",
       "      <td>-1.102560</td>\n",
       "      <td>2220.384521</td>\n",
       "      <td>0.924919</td>\n",
       "      <td>-0.413329</td>\n",
       "      <td>411</td>\n",
       "      <td>[7.396467208862305, 3.7815563678741455, 1.4123...</td>\n",
       "      <td>(-1.182188, -0.9284433, -1.1012387)</td>\n",
       "      <td>(0.7419038, 0.8518817, 0.77916163)</td>\n",
       "      <td>(2212, -321, 211)</td>\n",
       "      <td>only_4122</td>\n",
       "    </tr>\n",
       "    <tr>\n",
       "      <th>7</th>\n",
       "      <td>36.128836</td>\n",
       "      <td>0.659816</td>\n",
       "      <td>2235.698730</td>\n",
       "      <td>0.358412</td>\n",
       "      <td>0.190362</td>\n",
       "      <td>411</td>\n",
       "      <td>[18.936317443847656, 15.39889907836914, 1.8038...</td>\n",
       "      <td>(0.69086045, 0.62282157, 0.63955635)</td>\n",
       "      <td>(0.857847, 0.81737196, 0.7582323)</td>\n",
       "      <td>(2212, -321, 211)</td>\n",
       "      <td>only_4122</td>\n",
       "    </tr>\n",
       "    <tr>\n",
       "      <th>9</th>\n",
       "      <td>15.020291</td>\n",
       "      <td>-0.034316</td>\n",
       "      <td>2239.309326</td>\n",
       "      <td>1.028398</td>\n",
       "      <td>0.067321</td>\n",
       "      <td>411</td>\n",
       "      <td>[8.733827590942383, 4.532932281494141, 1.78765...</td>\n",
       "      <td>(0.01380682, -0.04224944, -0.24547637)</td>\n",
       "      <td>(2.2951803, 2.1494887, 2.202617)</td>\n",
       "      <td>(2212, -321, 211)</td>\n",
       "      <td>only_4122</td>\n",
       "    </tr>\n",
       "    <tr>\n",
       "      <th>...</th>\n",
       "      <td>...</td>\n",
       "      <td>...</td>\n",
       "      <td>...</td>\n",
       "      <td>...</td>\n",
       "      <td>...</td>\n",
       "      <td>...</td>\n",
       "      <td>...</td>\n",
       "      <td>...</td>\n",
       "      <td>...</td>\n",
       "      <td>...</td>\n",
       "      <td>...</td>\n",
       "    </tr>\n",
       "    <tr>\n",
       "      <th>829417</th>\n",
       "      <td>18.804258</td>\n",
       "      <td>0.885162</td>\n",
       "      <td>2189.650146</td>\n",
       "      <td>7.739953</td>\n",
       "      <td>-0.889773</td>\n",
       "      <td>411</td>\n",
       "      <td>[12.417222023010254, 2.854801654815674, 3.5459...</td>\n",
       "      <td>(0.9136081, 0.91393214, 0.7531416)</td>\n",
       "      <td>(1.6027179, 1.6470815, 1.6886618)</td>\n",
       "      <td>(2212, -321, 211)</td>\n",
       "      <td>only_4122</td>\n",
       "    </tr>\n",
       "    <tr>\n",
       "      <th>829419</th>\n",
       "      <td>17.901893</td>\n",
       "      <td>-0.774406</td>\n",
       "      <td>2254.505371</td>\n",
       "      <td>5.573455</td>\n",
       "      <td>0.345450</td>\n",
       "      <td>411</td>\n",
       "      <td>[10.548990249633789, 4.042133808135986, 3.3070...</td>\n",
       "      <td>(-0.71441394, -0.78476083, -0.939658)</td>\n",
       "      <td>(1.8309624, 1.8176006, 1.7980983)</td>\n",
       "      <td>(2212, -321, 211)</td>\n",
       "      <td>only_4122</td>\n",
       "    </tr>\n",
       "    <tr>\n",
       "      <th>829421</th>\n",
       "      <td>13.787465</td>\n",
       "      <td>0.994835</td>\n",
       "      <td>2403.642334</td>\n",
       "      <td>9.813573</td>\n",
       "      <td>0.585470</td>\n",
       "      <td>411</td>\n",
       "      <td>[5.433959007263184, 5.768528938293457, 2.64782...</td>\n",
       "      <td>(0.9409741, 0.9637201, 1.1431166)</td>\n",
       "      <td>(1.0212605, 0.8464486, 0.807192)</td>\n",
       "      <td>(2212, -321, 211)</td>\n",
       "      <td>only_4122</td>\n",
       "    </tr>\n",
       "    <tr>\n",
       "      <th>829423</th>\n",
       "      <td>21.512328</td>\n",
       "      <td>-0.477626</td>\n",
       "      <td>2418.774170</td>\n",
       "      <td>1.613223</td>\n",
       "      <td>0.734164</td>\n",
       "      <td>411</td>\n",
       "      <td>[8.097429275512695, 9.11487102508545, 4.309597...</td>\n",
       "      <td>(-0.40710476, -0.47758043, -0.60352147)</td>\n",
       "      <td>(0.27852488, 0.3333423, 0.26191172)</td>\n",
       "      <td>(2212, -321, 211)</td>\n",
       "      <td>only_4122</td>\n",
       "    </tr>\n",
       "    <tr>\n",
       "      <th>829425</th>\n",
       "      <td>9.427722</td>\n",
       "      <td>1.734173</td>\n",
       "      <td>2342.118896</td>\n",
       "      <td>1.760408</td>\n",
       "      <td>-0.097448</td>\n",
       "      <td>411</td>\n",
       "      <td>[3.8596949577331543, 3.752755641937256, 1.8354...</td>\n",
       "      <td>(1.769131, 1.5513004, 1.9624878)</td>\n",
       "      <td>(0.76271695, 0.91999924, 0.8372387)</td>\n",
       "      <td>(2212, -321, 211)</td>\n",
       "      <td>only_4122</td>\n",
       "    </tr>\n",
       "  </tbody>\n",
       "</table>\n",
       "<p>405590 rows × 11 columns</p>\n",
       "</div>"
      ],
      "text/plain": [
       "        DMesons_pt  DMesons_eta    DMesons_m  DMesons_fitOutput__Lxy  \\\n",
       "2        18.993742    -1.661963  2398.886963                1.918414   \n",
       "4        10.118494     0.041659  2468.180664                2.890126   \n",
       "6        12.579471    -1.102560  2220.384521                0.924919   \n",
       "7        36.128836     0.659816  2235.698730                0.358412   \n",
       "9        15.020291    -0.034316  2239.309326                1.028398   \n",
       "...            ...          ...          ...                     ...   \n",
       "829417   18.804258     0.885162  2189.650146                7.739953   \n",
       "829419   17.901893    -0.774406  2254.505371                5.573455   \n",
       "829421   13.787465     0.994835  2403.642334                9.813573   \n",
       "829423   21.512328    -0.477626  2418.774170                1.613223   \n",
       "829425    9.427722     1.734173  2342.118896                1.760408   \n",
       "\n",
       "        DMesons_costhetastar  DMesons_pdgId  \\\n",
       "2                  -0.065073            411   \n",
       "4                   0.427697            411   \n",
       "6                  -0.413329            411   \n",
       "7                   0.190362            411   \n",
       "9                   0.067321            411   \n",
       "...                      ...            ...   \n",
       "829417             -0.889773            411   \n",
       "829419              0.345450            411   \n",
       "829421              0.585470            411   \n",
       "829423              0.734164            411   \n",
       "829425             -0.097448            411   \n",
       "\n",
       "                                 DMesons_daughterInfo__pt  \\\n",
       "2       [6.605627059936523, 6.457057952880859, 5.96782...   \n",
       "4       [3.3083105087280273, 3.7944977283477783, 3.065...   \n",
       "6       [7.396467208862305, 3.7815563678741455, 1.4123...   \n",
       "7       [18.936317443847656, 15.39889907836914, 1.8038...   \n",
       "9       [8.733827590942383, 4.532932281494141, 1.78765...   \n",
       "...                                                   ...   \n",
       "829417  [12.417222023010254, 2.854801654815674, 3.5459...   \n",
       "829419  [10.548990249633789, 4.042133808135986, 3.3070...   \n",
       "829421  [5.433959007263184, 5.768528938293457, 2.64782...   \n",
       "829423  [8.097429275512695, 9.11487102508545, 4.309597...   \n",
       "829425  [3.8596949577331543, 3.752755641937256, 1.8354...   \n",
       "\n",
       "                       DMesons_daughterInfo__eta  \\\n",
       "2            (-1.7326077, -1.608788, -1.6305238)   \n",
       "4       (0.22605924, -0.073717244, -0.017923404)   \n",
       "6            (-1.182188, -0.9284433, -1.1012387)   \n",
       "7           (0.69086045, 0.62282157, 0.63955635)   \n",
       "9         (0.01380682, -0.04224944, -0.24547637)   \n",
       "...                                          ...   \n",
       "829417        (0.9136081, 0.91393214, 0.7531416)   \n",
       "829419     (-0.71441394, -0.78476083, -0.939658)   \n",
       "829421         (0.9409741, 0.9637201, 1.1431166)   \n",
       "829423   (-0.40710476, -0.47758043, -0.60352147)   \n",
       "829425          (1.769131, 1.5513004, 1.9624878)   \n",
       "\n",
       "                   DMesons_daughterInfo__phi DMesons_daughterInfo__pdgId  \\\n",
       "2       (-0.49662885, -0.371787, -0.5161313)           (2212, -321, 211)   \n",
       "4            (0.6827104, 0.753864, 0.920779)           (2212, -321, 211)   \n",
       "6         (0.7419038, 0.8518817, 0.77916163)           (2212, -321, 211)   \n",
       "7          (0.857847, 0.81737196, 0.7582323)           (2212, -321, 211)   \n",
       "9           (2.2951803, 2.1494887, 2.202617)           (2212, -321, 211)   \n",
       "...                                      ...                         ...   \n",
       "829417     (1.6027179, 1.6470815, 1.6886618)           (2212, -321, 211)   \n",
       "829419     (1.8309624, 1.8176006, 1.7980983)           (2212, -321, 211)   \n",
       "829421      (1.0212605, 0.8464486, 0.807192)           (2212, -321, 211)   \n",
       "829423   (0.27852488, 0.3333423, 0.26191172)           (2212, -321, 211)   \n",
       "829425   (0.76271695, 0.91999924, 0.8372387)           (2212, -321, 211)   \n",
       "\n",
       "       particle_type  \n",
       "2          only_4122  \n",
       "4          only_4122  \n",
       "6          only_4122  \n",
       "7          only_4122  \n",
       "9          only_4122  \n",
       "...              ...  \n",
       "829417     only_4122  \n",
       "829419     only_4122  \n",
       "829421     only_4122  \n",
       "829423     only_4122  \n",
       "829425     only_4122  \n",
       "\n",
       "[405590 rows x 11 columns]"
      ]
     },
     "execution_count": 12,
     "metadata": {},
     "output_type": "execute_result"
    }
   ],
   "source": [
    "DMesons_only_4122['DMesons_pdgId'] = DMesons_only_4122['DMesons_pdgId'].replace({4122: 411})\n",
    "\n",
    "DMesons_only_4122"
   ]
  },
  {
   "cell_type": "code",
   "execution_count": 13,
   "id": "caaeb6d0-c468-4abf-b50f-2795bb3eec0e",
   "metadata": {},
   "outputs": [],
   "source": [
    "# Lambda_only_4122 = Lambda_only_4122.head(400000)\n",
    "# DMesons_only_411 = DMesons_only_411.head(400000)\n",
    "\n",
    "combined_df = pd.concat([Lambda_only_4122, DMesons_only_4122], axis=0)\n",
    "\n",
    "# Shuffle the rows of the combined data frame\n",
    "shuffled_df = combined_df.sample(frac=1).reset_index(drop=True)"
   ]
  },
  {
   "cell_type": "code",
   "execution_count": 226,
   "id": "847b8bdc-9fc2-4dd7-8b08-a9988cc73f4f",
   "metadata": {},
   "outputs": [
    {
     "data": {
      "text/html": [
       "<div>\n",
       "<style scoped>\n",
       "    .dataframe tbody tr th:only-of-type {\n",
       "        vertical-align: middle;\n",
       "    }\n",
       "\n",
       "    .dataframe tbody tr th {\n",
       "        vertical-align: top;\n",
       "    }\n",
       "\n",
       "    .dataframe thead th {\n",
       "        text-align: right;\n",
       "    }\n",
       "</style>\n",
       "<table border=\"1\" class=\"dataframe\">\n",
       "  <thead>\n",
       "    <tr style=\"text-align: right;\">\n",
       "      <th></th>\n",
       "      <th>DMesons_pt</th>\n",
       "      <th>DMesons_eta</th>\n",
       "      <th>DMesons_m</th>\n",
       "      <th>DMesons_fitOutput__Lxy</th>\n",
       "      <th>DMesons_costhetastar</th>\n",
       "      <th>DMesons_pdgId</th>\n",
       "      <th>DMesons_daughterInfo__pt</th>\n",
       "      <th>DMesons_daughterInfo__eta</th>\n",
       "      <th>DMesons_daughterInfo__phi</th>\n",
       "      <th>DMesons_daughterInfo__pdgId</th>\n",
       "      <th>particle_type</th>\n",
       "      <th>inv_mass1</th>\n",
       "      <th>inv_mass2</th>\n",
       "      <th>inv_mass3</th>\n",
       "      <th>inv_mass4</th>\n",
       "    </tr>\n",
       "  </thead>\n",
       "  <tbody>\n",
       "    <tr>\n",
       "      <th>0</th>\n",
       "      <td>14.495960</td>\n",
       "      <td>2.068161</td>\n",
       "      <td>2269.677734</td>\n",
       "      <td>0.426400</td>\n",
       "      <td>0.224030</td>\n",
       "      <td>4122</td>\n",
       "      <td>[4.866639137268066, 6.233001232147217, 3.47417...</td>\n",
       "      <td>[2.0698483, 2.0432634, 2.092864]</td>\n",
       "      <td>[1.9282836, 1.7965089, 2.0228438]</td>\n",
       "      <td>(2212, -321, 211)</td>\n",
       "      <td>only_4122</td>\n",
       "      <td>1.030158</td>\n",
       "      <td>1.596893</td>\n",
       "      <td>2.964043</td>\n",
       "      <td>1.596893</td>\n",
       "    </tr>\n",
       "    <tr>\n",
       "      <th>1</th>\n",
       "      <td>18.392408</td>\n",
       "      <td>0.198644</td>\n",
       "      <td>2284.827148</td>\n",
       "      <td>0.858600</td>\n",
       "      <td>0.781461</td>\n",
       "      <td>4122</td>\n",
       "      <td>[4.016572952270508, 9.644989013671875, 4.74016...</td>\n",
       "      <td>[0.18772173, 0.23252325, 0.13839939]</td>\n",
       "      <td>[-3.0759099, -3.023404, -3.035216]</td>\n",
       "      <td>(2212, -321, 211)</td>\n",
       "      <td>only_4122</td>\n",
       "      <td>0.595496</td>\n",
       "      <td>0.832936</td>\n",
       "      <td>3.516314</td>\n",
       "      <td>0.832936</td>\n",
       "    </tr>\n",
       "    <tr>\n",
       "      <th>2</th>\n",
       "      <td>41.166922</td>\n",
       "      <td>0.868607</td>\n",
       "      <td>2296.675781</td>\n",
       "      <td>0.059236</td>\n",
       "      <td>0.323120</td>\n",
       "      <td>4122</td>\n",
       "      <td>[19.729450225830078, 19.46175193786621, 1.9885...</td>\n",
       "      <td>[0.83127713, 0.9002127, 0.9180538]</td>\n",
       "      <td>[0.3816241, 0.3565681, 0.40370935]</td>\n",
       "      <td>(2212, -321, 211)</td>\n",
       "      <td>only_4122</td>\n",
       "      <td>2.585226</td>\n",
       "      <td>0.574857</td>\n",
       "      <td>4.336044</td>\n",
       "      <td>0.574857</td>\n",
       "    </tr>\n",
       "    <tr>\n",
       "      <th>3</th>\n",
       "      <td>19.850971</td>\n",
       "      <td>-0.014880</td>\n",
       "      <td>2269.079834</td>\n",
       "      <td>0.658014</td>\n",
       "      <td>-0.368115</td>\n",
       "      <td>4122</td>\n",
       "      <td>[14.824045181274414, 4.195254325866699, 0.8567...</td>\n",
       "      <td>[0.010287268, -0.052050386, -0.26542997]</td>\n",
       "      <td>[1.8478316, 1.7669779, 2.0197604]</td>\n",
       "      <td>(2212, -321, 211)</td>\n",
       "      <td>only_4122</td>\n",
       "      <td>1.773955</td>\n",
       "      <td>0.799523</td>\n",
       "      <td>2.879549</td>\n",
       "      <td>0.799523</td>\n",
       "    </tr>\n",
       "    <tr>\n",
       "      <th>4</th>\n",
       "      <td>12.071737</td>\n",
       "      <td>0.849297</td>\n",
       "      <td>2289.308105</td>\n",
       "      <td>0.051149</td>\n",
       "      <td>0.822036</td>\n",
       "      <td>4122</td>\n",
       "      <td>[6.8638224601745605, 4.265861511230469, 1.0305...</td>\n",
       "      <td>[0.792443, 0.88804525, 0.9915146]</td>\n",
       "      <td>[-0.8532753, -0.8090768, -0.40661362]</td>\n",
       "      <td>(2212, -321, 211)</td>\n",
       "      <td>only_4122</td>\n",
       "      <td>0.967829</td>\n",
       "      <td>1.151076</td>\n",
       "      <td>2.399489</td>\n",
       "      <td>1.151076</td>\n",
       "    </tr>\n",
       "    <tr>\n",
       "      <th>...</th>\n",
       "      <td>...</td>\n",
       "      <td>...</td>\n",
       "      <td>...</td>\n",
       "      <td>...</td>\n",
       "      <td>...</td>\n",
       "      <td>...</td>\n",
       "      <td>...</td>\n",
       "      <td>...</td>\n",
       "      <td>...</td>\n",
       "      <td>...</td>\n",
       "      <td>...</td>\n",
       "      <td>...</td>\n",
       "      <td>...</td>\n",
       "      <td>...</td>\n",
       "      <td>...</td>\n",
       "    </tr>\n",
       "    <tr>\n",
       "      <th>999808</th>\n",
       "      <td>37.423441</td>\n",
       "      <td>-1.755403</td>\n",
       "      <td>2103.914551</td>\n",
       "      <td>3.889393</td>\n",
       "      <td>-0.270817</td>\n",
       "      <td>411</td>\n",
       "      <td>[25.422626495361328, 10.21939468383789, 1.7935...</td>\n",
       "      <td>[-1.7678546, -1.7212219, -1.7604791]</td>\n",
       "      <td>[2.118341, 2.0711646, 2.0092993]</td>\n",
       "      <td>(2212, -321, 211)</td>\n",
       "      <td>only_4122</td>\n",
       "      <td>2.047315</td>\n",
       "      <td>0.512923</td>\n",
       "      <td>3.238719</td>\n",
       "      <td>0.512923</td>\n",
       "    </tr>\n",
       "    <tr>\n",
       "      <th>999809</th>\n",
       "      <td>24.682957</td>\n",
       "      <td>1.321535</td>\n",
       "      <td>2430.404297</td>\n",
       "      <td>0.469334</td>\n",
       "      <td>-0.183932</td>\n",
       "      <td>411</td>\n",
       "      <td>[8.431061744689941, 6.834738731384277, 9.43543...</td>\n",
       "      <td>[1.3345634, 1.3238475, 1.3034419]</td>\n",
       "      <td>[-1.4396629, -1.2819511, -1.3711286]</td>\n",
       "      <td>(2212, -321, 211)</td>\n",
       "      <td>only_4122</td>\n",
       "      <td>2.019141</td>\n",
       "      <td>1.147396</td>\n",
       "      <td>3.570420</td>\n",
       "      <td>1.147396</td>\n",
       "    </tr>\n",
       "    <tr>\n",
       "      <th>999810</th>\n",
       "      <td>51.712094</td>\n",
       "      <td>0.617304</td>\n",
       "      <td>2207.007080</td>\n",
       "      <td>10.334098</td>\n",
       "      <td>-0.728289</td>\n",
       "      <td>411</td>\n",
       "      <td>[30.39325523376465, 8.018707275390625, 13.2916...</td>\n",
       "      <td>[0.6144363, 0.6319005, 0.61490214]</td>\n",
       "      <td>[0.059602182, 0.112402424, 0.108593486]</td>\n",
       "      <td>(2212, -321, 211)</td>\n",
       "      <td>only_4122</td>\n",
       "      <td>1.936293</td>\n",
       "      <td>0.707354</td>\n",
       "      <td>3.026112</td>\n",
       "      <td>0.707354</td>\n",
       "    </tr>\n",
       "    <tr>\n",
       "      <th>999811</th>\n",
       "      <td>27.987713</td>\n",
       "      <td>0.353341</td>\n",
       "      <td>2286.011230</td>\n",
       "      <td>0.589687</td>\n",
       "      <td>-0.963699</td>\n",
       "      <td>4122</td>\n",
       "      <td>[18.832998275756836, 2.31501841545105, 6.85884...</td>\n",
       "      <td>[0.35977262, 0.31118584, 0.34897467]</td>\n",
       "      <td>[0.7476053, 0.8326355, 0.80383223]</td>\n",
       "      <td>(2212, -321, 211)</td>\n",
       "      <td>only_4122</td>\n",
       "      <td>2.677253</td>\n",
       "      <td>1.029093</td>\n",
       "      <td>3.643798</td>\n",
       "      <td>1.029093</td>\n",
       "    </tr>\n",
       "    <tr>\n",
       "      <th>999812</th>\n",
       "      <td>8.600531</td>\n",
       "      <td>0.125775</td>\n",
       "      <td>2458.471680</td>\n",
       "      <td>0.332153</td>\n",
       "      <td>0.951666</td>\n",
       "      <td>411</td>\n",
       "      <td>[2.8826839923858643, 3.4918477535247803, 2.350...</td>\n",
       "      <td>[0.19751894, 0.15225875, -0.007442468]</td>\n",
       "      <td>[2.2676222, 2.5025377, 2.7119882]</td>\n",
       "      <td>(2212, -321, 211)</td>\n",
       "      <td>only_4122</td>\n",
       "      <td>1.062187</td>\n",
       "      <td>1.022503</td>\n",
       "      <td>2.940771</td>\n",
       "      <td>1.022503</td>\n",
       "    </tr>\n",
       "  </tbody>\n",
       "</table>\n",
       "<p>999813 rows × 15 columns</p>\n",
       "</div>"
      ],
      "text/plain": [
       "        DMesons_pt  DMesons_eta    DMesons_m  DMesons_fitOutput__Lxy  \\\n",
       "0        14.495960     2.068161  2269.677734                0.426400   \n",
       "1        18.392408     0.198644  2284.827148                0.858600   \n",
       "2        41.166922     0.868607  2296.675781                0.059236   \n",
       "3        19.850971    -0.014880  2269.079834                0.658014   \n",
       "4        12.071737     0.849297  2289.308105                0.051149   \n",
       "...            ...          ...          ...                     ...   \n",
       "999808   37.423441    -1.755403  2103.914551                3.889393   \n",
       "999809   24.682957     1.321535  2430.404297                0.469334   \n",
       "999810   51.712094     0.617304  2207.007080               10.334098   \n",
       "999811   27.987713     0.353341  2286.011230                0.589687   \n",
       "999812    8.600531     0.125775  2458.471680                0.332153   \n",
       "\n",
       "        DMesons_costhetastar  DMesons_pdgId  \\\n",
       "0                   0.224030           4122   \n",
       "1                   0.781461           4122   \n",
       "2                   0.323120           4122   \n",
       "3                  -0.368115           4122   \n",
       "4                   0.822036           4122   \n",
       "...                      ...            ...   \n",
       "999808             -0.270817            411   \n",
       "999809             -0.183932            411   \n",
       "999810             -0.728289            411   \n",
       "999811             -0.963699           4122   \n",
       "999812              0.951666            411   \n",
       "\n",
       "                                 DMesons_daughterInfo__pt  \\\n",
       "0       [4.866639137268066, 6.233001232147217, 3.47417...   \n",
       "1       [4.016572952270508, 9.644989013671875, 4.74016...   \n",
       "2       [19.729450225830078, 19.46175193786621, 1.9885...   \n",
       "3       [14.824045181274414, 4.195254325866699, 0.8567...   \n",
       "4       [6.8638224601745605, 4.265861511230469, 1.0305...   \n",
       "...                                                   ...   \n",
       "999808  [25.422626495361328, 10.21939468383789, 1.7935...   \n",
       "999809  [8.431061744689941, 6.834738731384277, 9.43543...   \n",
       "999810  [30.39325523376465, 8.018707275390625, 13.2916...   \n",
       "999811  [18.832998275756836, 2.31501841545105, 6.85884...   \n",
       "999812  [2.8826839923858643, 3.4918477535247803, 2.350...   \n",
       "\n",
       "                       DMesons_daughterInfo__eta  \\\n",
       "0               [2.0698483, 2.0432634, 2.092864]   \n",
       "1           [0.18772173, 0.23252325, 0.13839939]   \n",
       "2             [0.83127713, 0.9002127, 0.9180538]   \n",
       "3       [0.010287268, -0.052050386, -0.26542997]   \n",
       "4              [0.792443, 0.88804525, 0.9915146]   \n",
       "...                                          ...   \n",
       "999808      [-1.7678546, -1.7212219, -1.7604791]   \n",
       "999809         [1.3345634, 1.3238475, 1.3034419]   \n",
       "999810        [0.6144363, 0.6319005, 0.61490214]   \n",
       "999811      [0.35977262, 0.31118584, 0.34897467]   \n",
       "999812    [0.19751894, 0.15225875, -0.007442468]   \n",
       "\n",
       "                      DMesons_daughterInfo__phi DMesons_daughterInfo__pdgId  \\\n",
       "0             [1.9282836, 1.7965089, 2.0228438]           (2212, -321, 211)   \n",
       "1            [-3.0759099, -3.023404, -3.035216]           (2212, -321, 211)   \n",
       "2            [0.3816241, 0.3565681, 0.40370935]           (2212, -321, 211)   \n",
       "3             [1.8478316, 1.7669779, 2.0197604]           (2212, -321, 211)   \n",
       "4         [-0.8532753, -0.8090768, -0.40661362]           (2212, -321, 211)   \n",
       "...                                         ...                         ...   \n",
       "999808         [2.118341, 2.0711646, 2.0092993]           (2212, -321, 211)   \n",
       "999809     [-1.4396629, -1.2819511, -1.3711286]           (2212, -321, 211)   \n",
       "999810  [0.059602182, 0.112402424, 0.108593486]           (2212, -321, 211)   \n",
       "999811       [0.7476053, 0.8326355, 0.80383223]           (2212, -321, 211)   \n",
       "999812        [2.2676222, 2.5025377, 2.7119882]           (2212, -321, 211)   \n",
       "\n",
       "       particle_type  inv_mass1  inv_mass2  inv_mass3  inv_mass4  \n",
       "0          only_4122   1.030158   1.596893   2.964043   1.596893  \n",
       "1          only_4122   0.595496   0.832936   3.516314   0.832936  \n",
       "2          only_4122   2.585226   0.574857   4.336044   0.574857  \n",
       "3          only_4122   1.773955   0.799523   2.879549   0.799523  \n",
       "4          only_4122   0.967829   1.151076   2.399489   1.151076  \n",
       "...              ...        ...        ...        ...        ...  \n",
       "999808     only_4122   2.047315   0.512923   3.238719   0.512923  \n",
       "999809     only_4122   2.019141   1.147396   3.570420   1.147396  \n",
       "999810     only_4122   1.936293   0.707354   3.026112   0.707354  \n",
       "999811     only_4122   2.677253   1.029093   3.643798   1.029093  \n",
       "999812     only_4122   1.062187   1.022503   2.940771   1.022503  \n",
       "\n",
       "[999813 rows x 15 columns]"
      ]
     },
     "execution_count": 226,
     "metadata": {},
     "output_type": "execute_result"
    }
   ],
   "source": [
    "shuffled_df"
   ]
  },
  {
   "cell_type": "code",
   "execution_count": 221,
   "id": "4b148c07-654e-4724-86fe-fd3a1a0b2580",
   "metadata": {},
   "outputs": [],
   "source": [
    "shuffled_df[\"DMesons_daughterInfo__eta\"] = shuffled_df[\"DMesons_daughterInfo__eta\"].apply(list)\n",
    "shuffled_df[\"DMesons_daughterInfo__phi\"] = shuffled_df[\"DMesons_daughterInfo__phi\"].apply(list)"
   ]
  },
  {
   "cell_type": "code",
   "execution_count": 222,
   "id": "5d571b3c-1e8d-4738-ad3b-5f84fc21c8d6",
   "metadata": {},
   "outputs": [],
   "source": [
    "shuffled_df_daughter = shuffled_df[[\"DMesons_daughterInfo__pt\", \"DMesons_daughterInfo__eta\", \"DMesons_daughterInfo__phi\", \"DMesons_daughterInfo__pdgId\", \"particle_type\"]]"
   ]
  },
  {
   "cell_type": "code",
   "execution_count": 235,
   "id": "6b4650f2-b916-41e9-abd8-8d450b2afe90",
   "metadata": {},
   "outputs": [],
   "source": [
    "#separate the daughter info\n",
    "daughter_pts = []\n",
    "daughter_etas = []\n",
    "daughter_phis = []\n",
    "\n",
    "for index, row in shuffled_df_daughter.iterrows():\n",
    "\n",
    "    pts = row['DMesons_daughterInfo__pt']\n",
    "    etas = row['DMesons_daughterInfo__eta']\n",
    "    phis = row['DMesons_daughterInfo__phi']\n",
    "    \n",
    "    for pt, eta, phi in zip(pts, etas, phis):\n",
    "        daughter_pts.append(pt)\n",
    "        daughter_etas.append(eta)\n",
    "        daughter_phis.append(phi)"
   ]
  },
  {
   "cell_type": "code",
   "execution_count": 236,
   "id": "0bb1799f-d0f0-4519-b828-7a9acdd8a3a5",
   "metadata": {},
   "outputs": [],
   "source": [
    "#particle1 is proton, or pion in D+ hyp\n",
    "#particle2 is kaon\n",
    "#particle3 is pion\n",
    "\n",
    "particle1_pt = []\n",
    "particle2_pt = []\n",
    "particle3_pt = []\n",
    "\n",
    "particle1_eta = []\n",
    "particle2_eta = []\n",
    "particle3_eta = []\n",
    "\n",
    "particle1_phi = []\n",
    "particle2_phi = []\n",
    "particle3_phi = []\n",
    "\n",
    "for i in range(0, len(daughter_pts), 3):\n",
    "    #daughter_pt\n",
    "    particle1_pt.append(daughter_pts[i])\n",
    "    particle2_pt.append(daughter_pts[i+1])\n",
    "    particle3_pt.append(daughter_pts[i+2])\n",
    "    \n",
    "    #daughter_eta\n",
    "    particle1_eta.append(daughter_etas[i])\n",
    "    particle2_eta.append(daughter_etas[i+1])\n",
    "    particle3_eta.append(daughter_etas[i+2])\n",
    "    \n",
    "    #daughter_phi\n",
    "    particle1_phi.append(daughter_phis[i])\n",
    "    particle2_phi.append(daughter_phis[i+1])\n",
    "    particle3_phi.append(daughter_phis[i+2])"
   ]
  },
  {
   "cell_type": "code",
   "execution_count": 134,
   "id": "cfc7e1cc-f72e-4256-9094-e49ff03d7a68",
   "metadata": {},
   "outputs": [],
   "source": [
    "k_mass = 0.493677 #Gev/c^2\n",
    "pi_mass = 0.13957 #Gev/c^2\n",
    "p_mass = 0.938 #Gev/c^2\n",
    "\n",
    "def createTLorentzVectors(df):\n",
    "    TLorentzVectorList = []\n",
    "    \n",
    "    for index, row in df.iterrows():\n",
    "        pts = row['DMesons_daughterInfo__pt']\n",
    "        etas = row['DMesons_daughterInfo__eta']\n",
    "        phis = row['DMesons_daughterInfo__phi']\n",
    "        pdgids = row['DMesons_daughterInfo__pdgId']\n",
    "        types = row[\"particle_type\"]\n",
    "        \n",
    "        def assign_mass():\n",
    "            if types == \"only_411\" or \"only_4122\":\n",
    "                #assume proton is pion\n",
    "                return p_mass\n",
    "            elif types == \"only_4122\":\n",
    "                #keep proton as proton\n",
    "                return p_mass\n",
    "            else:\n",
    "                return pi_mass\n",
    "            \n",
    "        for pt, eta, phi, pdgid in zip(pts, etas, phis, pdgids):\n",
    "            if pdgid == 211:\n",
    "                m = pi_mass\n",
    "            elif pdgid == -321:\n",
    "                m = k_mass\n",
    "            elif pdgid == 2212:\n",
    "                m = assign_mass()\n",
    "            else:\n",
    "                continue\n",
    "\n",
    "            p = ROOT.TLorentzVector()\n",
    "            p.SetPtEtaPhiM(pt, eta, phi, m)\n",
    "            TLorentzVectorList.append(p)\n",
    "\n",
    "    return TLorentzVectorList\n",
    "\n",
    "inv_mass_squared = lambda p1, p2: (p1 + p2).M2()"
   ]
  },
  {
   "cell_type": "code",
   "execution_count": 135,
   "id": "2c2417ab-3f97-491d-9027-c2225f043714",
   "metadata": {},
   "outputs": [
    {
     "data": {
      "text/plain": [
       "(999813, 3)"
      ]
     },
     "execution_count": 135,
     "metadata": {},
     "output_type": "execute_result"
    }
   ],
   "source": [
    "LorentzVectors = createTLorentzVectors(shuffled_df_daughter)\n",
    "reshaped_list = [LorentzVectors[i:i+3] for i in range(0, len(LorentzVectors), 3)]\n",
    "np.shape(reshaped_list)"
   ]
  },
  {
   "cell_type": "code",
   "execution_count": 137,
   "id": "04b00123-93ee-4755-9fbf-d30802786806",
   "metadata": {},
   "outputs": [],
   "source": [
    "pk_list = []\n",
    "kpi_list = []\n",
    "\n",
    "#find the ordering of the Loretnz Vectors\n",
    "\n",
    "#Lambda Hypothesis\n",
    "p_LorentzVectors = []\n",
    "k_LorentzVectors = []\n",
    "pi_LorentzVectors = []\n",
    "for i in LorentzVectors:\n",
    "    if round(i.M(), 3) == p_mass:\n",
    "        p_LorentzVectors.append(i)\n",
    "    elif round(i.M(), 6) == k_mass:\n",
    "        k_LorentzVectors.append(i)\n",
    "    elif round(i.M(), 4) == 0.1396:\n",
    "        pi_LorentzVectors.append(i)\n",
    "        \n",
    "for i in range(len(p_LorentzVectors)):\n",
    "    pk = inv_mass_squared(p_LorentzVectors[i], k_LorentzVectors[i])\n",
    "    kpi = inv_mass_squared(k_LorentzVectors[i], pi_LorentzVectors[i])\n",
    "    pk_list.append(pk)\n",
    "    kpi_list.append(kpi)\n",
    "\n",
    "\n",
    "#D+ Hypothesis\n",
    "# p_LorentzVectors = []\n",
    "# k_LorentzVectors = []\n",
    "# pi_LorentzVectors = []\n",
    "# for sublist in reshaped_list:\n",
    "#     for i in range(len(sublist)):\n",
    "#         if round(sublist[i].M(), 4) == 0.1396 and i == 0:\n",
    "#             p_LorentzVectors.append(sublist[0])\n",
    "#         elif round(sublist[i].M(), 4) == 0.4937:\n",
    "#             k_LorentzVectors.append(sublist[1])\n",
    "#         elif round(sublist[i].M(), 4) == 0.1396 and i == 2:\n",
    "#             pi_LorentzVectors.append(sublist[2])"
   ]
  },
  {
   "cell_type": "code",
   "execution_count": 140,
   "id": "0f0a047b-8316-4ab6-ad5f-58e8b788dd7f",
   "metadata": {},
   "outputs": [
    {
     "data": {
      "text/plain": [
       "999813"
      ]
     },
     "execution_count": 140,
     "metadata": {},
     "output_type": "execute_result"
    }
   ],
   "source": [
    "len(p_LorentzVectors)"
   ]
  },
  {
   "cell_type": "code",
   "execution_count": 108,
   "id": "16a21089-0516-4912-ac7a-594bbc26f7c6",
   "metadata": {},
   "outputs": [],
   "source": [
    "# for i in range(len(p_LorentzVectors)):\n",
    "#     pk = inv_mass_squared(p_LorentzVectors[i], k_LorentzVectors[i])\n",
    "#     kpi = inv_mass_squared(k_LorentzVectors[i], pi_LorentzVectors[i])\n",
    "#     pk_list.append(pk)\n",
    "#     kpi_list.append(kpi)"
   ]
  },
  {
   "cell_type": "code",
   "execution_count": 138,
   "id": "907c1bc7-1ca4-438f-93a3-fb4b41edaa7e",
   "metadata": {},
   "outputs": [],
   "source": [
    "#D+ hypothesis\n",
    "#inv_mass1 is pk assuming proton is pion for all candidates\n",
    "#inv_mass2 is kpi\n",
    "shuffled_df['inv_mass3'] = pk_list\n",
    "shuffled_df['inv_mass4'] = kpi_list"
   ]
  },
  {
   "cell_type": "code",
   "execution_count": 237,
   "id": "07fe547c-9f85-4224-a07b-35d21f6ea2d7",
   "metadata": {},
   "outputs": [
    {
     "data": {
      "text/html": [
       "<div>\n",
       "<style scoped>\n",
       "    .dataframe tbody tr th:only-of-type {\n",
       "        vertical-align: middle;\n",
       "    }\n",
       "\n",
       "    .dataframe tbody tr th {\n",
       "        vertical-align: top;\n",
       "    }\n",
       "\n",
       "    .dataframe thead th {\n",
       "        text-align: right;\n",
       "    }\n",
       "</style>\n",
       "<table border=\"1\" class=\"dataframe\">\n",
       "  <thead>\n",
       "    <tr style=\"text-align: right;\">\n",
       "      <th></th>\n",
       "      <th>DMesons_pt</th>\n",
       "      <th>DMesons_eta</th>\n",
       "      <th>DMesons_m</th>\n",
       "      <th>DMesons_fitOutput__Lxy</th>\n",
       "      <th>DMesons_costhetastar</th>\n",
       "      <th>DMesons_pdgId</th>\n",
       "      <th>inv_mass1</th>\n",
       "      <th>inv_mass2</th>\n",
       "      <th>inv_mass3</th>\n",
       "      <th>inv_mass4</th>\n",
       "      <th>daughter_pt1</th>\n",
       "      <th>daughter_pt2</th>\n",
       "      <th>daughter_pt3</th>\n",
       "      <th>daughter_eta1</th>\n",
       "      <th>daughter_eta2</th>\n",
       "      <th>daughter_eta3</th>\n",
       "      <th>daughter_phi1</th>\n",
       "      <th>daughter_phi2</th>\n",
       "      <th>daughter_phi3</th>\n",
       "    </tr>\n",
       "  </thead>\n",
       "  <tbody>\n",
       "    <tr>\n",
       "      <th>0</th>\n",
       "      <td>14.495960</td>\n",
       "      <td>2.068161</td>\n",
       "      <td>2269.677734</td>\n",
       "      <td>0.426400</td>\n",
       "      <td>0.224030</td>\n",
       "      <td>4122</td>\n",
       "      <td>1.030158</td>\n",
       "      <td>1.596893</td>\n",
       "      <td>2.964043</td>\n",
       "      <td>1.596893</td>\n",
       "      <td>4.866639</td>\n",
       "      <td>6.233001</td>\n",
       "      <td>3.474176</td>\n",
       "      <td>2.069848</td>\n",
       "      <td>2.043263</td>\n",
       "      <td>2.092864</td>\n",
       "      <td>1.928284</td>\n",
       "      <td>1.796509</td>\n",
       "      <td>2.022844</td>\n",
       "    </tr>\n",
       "    <tr>\n",
       "      <th>1</th>\n",
       "      <td>18.392408</td>\n",
       "      <td>0.198644</td>\n",
       "      <td>2284.827148</td>\n",
       "      <td>0.858600</td>\n",
       "      <td>0.781461</td>\n",
       "      <td>4122</td>\n",
       "      <td>0.595496</td>\n",
       "      <td>0.832936</td>\n",
       "      <td>3.516314</td>\n",
       "      <td>0.832936</td>\n",
       "      <td>4.016573</td>\n",
       "      <td>9.644989</td>\n",
       "      <td>4.740163</td>\n",
       "      <td>0.187722</td>\n",
       "      <td>0.232523</td>\n",
       "      <td>0.138399</td>\n",
       "      <td>-3.075910</td>\n",
       "      <td>-3.023404</td>\n",
       "      <td>-3.035216</td>\n",
       "    </tr>\n",
       "    <tr>\n",
       "      <th>2</th>\n",
       "      <td>41.166922</td>\n",
       "      <td>0.868607</td>\n",
       "      <td>2296.675781</td>\n",
       "      <td>0.059236</td>\n",
       "      <td>0.323120</td>\n",
       "      <td>4122</td>\n",
       "      <td>2.585226</td>\n",
       "      <td>0.574857</td>\n",
       "      <td>4.336044</td>\n",
       "      <td>0.574857</td>\n",
       "      <td>19.729450</td>\n",
       "      <td>19.461752</td>\n",
       "      <td>1.988555</td>\n",
       "      <td>0.831277</td>\n",
       "      <td>0.900213</td>\n",
       "      <td>0.918054</td>\n",
       "      <td>0.381624</td>\n",
       "      <td>0.356568</td>\n",
       "      <td>0.403709</td>\n",
       "    </tr>\n",
       "    <tr>\n",
       "      <th>3</th>\n",
       "      <td>19.850971</td>\n",
       "      <td>-0.014880</td>\n",
       "      <td>2269.079834</td>\n",
       "      <td>0.658014</td>\n",
       "      <td>-0.368115</td>\n",
       "      <td>4122</td>\n",
       "      <td>1.773955</td>\n",
       "      <td>0.799523</td>\n",
       "      <td>2.879549</td>\n",
       "      <td>0.799523</td>\n",
       "      <td>14.824045</td>\n",
       "      <td>4.195254</td>\n",
       "      <td>0.856750</td>\n",
       "      <td>0.010287</td>\n",
       "      <td>-0.052050</td>\n",
       "      <td>-0.265430</td>\n",
       "      <td>1.847832</td>\n",
       "      <td>1.766978</td>\n",
       "      <td>2.019760</td>\n",
       "    </tr>\n",
       "    <tr>\n",
       "      <th>4</th>\n",
       "      <td>12.071737</td>\n",
       "      <td>0.849297</td>\n",
       "      <td>2289.308105</td>\n",
       "      <td>0.051149</td>\n",
       "      <td>0.822036</td>\n",
       "      <td>4122</td>\n",
       "      <td>0.967829</td>\n",
       "      <td>1.151076</td>\n",
       "      <td>2.399489</td>\n",
       "      <td>1.151076</td>\n",
       "      <td>6.863822</td>\n",
       "      <td>4.265862</td>\n",
       "      <td>1.030545</td>\n",
       "      <td>0.792443</td>\n",
       "      <td>0.888045</td>\n",
       "      <td>0.991515</td>\n",
       "      <td>-0.853275</td>\n",
       "      <td>-0.809077</td>\n",
       "      <td>-0.406614</td>\n",
       "    </tr>\n",
       "    <tr>\n",
       "      <th>...</th>\n",
       "      <td>...</td>\n",
       "      <td>...</td>\n",
       "      <td>...</td>\n",
       "      <td>...</td>\n",
       "      <td>...</td>\n",
       "      <td>...</td>\n",
       "      <td>...</td>\n",
       "      <td>...</td>\n",
       "      <td>...</td>\n",
       "      <td>...</td>\n",
       "      <td>...</td>\n",
       "      <td>...</td>\n",
       "      <td>...</td>\n",
       "      <td>...</td>\n",
       "      <td>...</td>\n",
       "      <td>...</td>\n",
       "      <td>...</td>\n",
       "      <td>...</td>\n",
       "      <td>...</td>\n",
       "    </tr>\n",
       "    <tr>\n",
       "      <th>999808</th>\n",
       "      <td>37.423441</td>\n",
       "      <td>-1.755403</td>\n",
       "      <td>2103.914551</td>\n",
       "      <td>3.889393</td>\n",
       "      <td>-0.270817</td>\n",
       "      <td>411</td>\n",
       "      <td>2.047315</td>\n",
       "      <td>0.512923</td>\n",
       "      <td>3.238719</td>\n",
       "      <td>0.512923</td>\n",
       "      <td>25.422626</td>\n",
       "      <td>10.219395</td>\n",
       "      <td>1.793552</td>\n",
       "      <td>-1.767855</td>\n",
       "      <td>-1.721222</td>\n",
       "      <td>-1.760479</td>\n",
       "      <td>2.118341</td>\n",
       "      <td>2.071165</td>\n",
       "      <td>2.009299</td>\n",
       "    </tr>\n",
       "    <tr>\n",
       "      <th>999809</th>\n",
       "      <td>24.682957</td>\n",
       "      <td>1.321535</td>\n",
       "      <td>2430.404297</td>\n",
       "      <td>0.469334</td>\n",
       "      <td>-0.183932</td>\n",
       "      <td>411</td>\n",
       "      <td>2.019141</td>\n",
       "      <td>1.147396</td>\n",
       "      <td>3.570420</td>\n",
       "      <td>1.147396</td>\n",
       "      <td>8.431062</td>\n",
       "      <td>6.834739</td>\n",
       "      <td>9.435437</td>\n",
       "      <td>1.334563</td>\n",
       "      <td>1.323848</td>\n",
       "      <td>1.303442</td>\n",
       "      <td>-1.439663</td>\n",
       "      <td>-1.281951</td>\n",
       "      <td>-1.371129</td>\n",
       "    </tr>\n",
       "    <tr>\n",
       "      <th>999810</th>\n",
       "      <td>51.712094</td>\n",
       "      <td>0.617304</td>\n",
       "      <td>2207.007080</td>\n",
       "      <td>10.334098</td>\n",
       "      <td>-0.728289</td>\n",
       "      <td>411</td>\n",
       "      <td>1.936293</td>\n",
       "      <td>0.707354</td>\n",
       "      <td>3.026112</td>\n",
       "      <td>0.707354</td>\n",
       "      <td>30.393255</td>\n",
       "      <td>8.018707</td>\n",
       "      <td>13.291607</td>\n",
       "      <td>0.614436</td>\n",
       "      <td>0.631900</td>\n",
       "      <td>0.614902</td>\n",
       "      <td>0.059602</td>\n",
       "      <td>0.112402</td>\n",
       "      <td>0.108593</td>\n",
       "    </tr>\n",
       "    <tr>\n",
       "      <th>999811</th>\n",
       "      <td>27.987713</td>\n",
       "      <td>0.353341</td>\n",
       "      <td>2286.011230</td>\n",
       "      <td>0.589687</td>\n",
       "      <td>-0.963699</td>\n",
       "      <td>4122</td>\n",
       "      <td>2.677253</td>\n",
       "      <td>1.029093</td>\n",
       "      <td>3.643798</td>\n",
       "      <td>1.029093</td>\n",
       "      <td>18.832998</td>\n",
       "      <td>2.315018</td>\n",
       "      <td>6.858844</td>\n",
       "      <td>0.359773</td>\n",
       "      <td>0.311186</td>\n",
       "      <td>0.348975</td>\n",
       "      <td>0.747605</td>\n",
       "      <td>0.832636</td>\n",
       "      <td>0.803832</td>\n",
       "    </tr>\n",
       "    <tr>\n",
       "      <th>999812</th>\n",
       "      <td>8.600531</td>\n",
       "      <td>0.125775</td>\n",
       "      <td>2458.471680</td>\n",
       "      <td>0.332153</td>\n",
       "      <td>0.951666</td>\n",
       "      <td>411</td>\n",
       "      <td>1.062187</td>\n",
       "      <td>1.022503</td>\n",
       "      <td>2.940771</td>\n",
       "      <td>1.022503</td>\n",
       "      <td>2.882684</td>\n",
       "      <td>3.491848</td>\n",
       "      <td>2.350023</td>\n",
       "      <td>0.197519</td>\n",
       "      <td>0.152259</td>\n",
       "      <td>-0.007442</td>\n",
       "      <td>2.267622</td>\n",
       "      <td>2.502538</td>\n",
       "      <td>2.711988</td>\n",
       "    </tr>\n",
       "  </tbody>\n",
       "</table>\n",
       "<p>999813 rows × 19 columns</p>\n",
       "</div>"
      ],
      "text/plain": [
       "        DMesons_pt  DMesons_eta    DMesons_m  DMesons_fitOutput__Lxy  \\\n",
       "0        14.495960     2.068161  2269.677734                0.426400   \n",
       "1        18.392408     0.198644  2284.827148                0.858600   \n",
       "2        41.166922     0.868607  2296.675781                0.059236   \n",
       "3        19.850971    -0.014880  2269.079834                0.658014   \n",
       "4        12.071737     0.849297  2289.308105                0.051149   \n",
       "...            ...          ...          ...                     ...   \n",
       "999808   37.423441    -1.755403  2103.914551                3.889393   \n",
       "999809   24.682957     1.321535  2430.404297                0.469334   \n",
       "999810   51.712094     0.617304  2207.007080               10.334098   \n",
       "999811   27.987713     0.353341  2286.011230                0.589687   \n",
       "999812    8.600531     0.125775  2458.471680                0.332153   \n",
       "\n",
       "        DMesons_costhetastar  DMesons_pdgId  inv_mass1  inv_mass2  inv_mass3  \\\n",
       "0                   0.224030           4122   1.030158   1.596893   2.964043   \n",
       "1                   0.781461           4122   0.595496   0.832936   3.516314   \n",
       "2                   0.323120           4122   2.585226   0.574857   4.336044   \n",
       "3                  -0.368115           4122   1.773955   0.799523   2.879549   \n",
       "4                   0.822036           4122   0.967829   1.151076   2.399489   \n",
       "...                      ...            ...        ...        ...        ...   \n",
       "999808             -0.270817            411   2.047315   0.512923   3.238719   \n",
       "999809             -0.183932            411   2.019141   1.147396   3.570420   \n",
       "999810             -0.728289            411   1.936293   0.707354   3.026112   \n",
       "999811             -0.963699           4122   2.677253   1.029093   3.643798   \n",
       "999812              0.951666            411   1.062187   1.022503   2.940771   \n",
       "\n",
       "        inv_mass4  daughter_pt1  daughter_pt2  daughter_pt3  daughter_eta1  \\\n",
       "0        1.596893      4.866639      6.233001      3.474176       2.069848   \n",
       "1        0.832936      4.016573      9.644989      4.740163       0.187722   \n",
       "2        0.574857     19.729450     19.461752      1.988555       0.831277   \n",
       "3        0.799523     14.824045      4.195254      0.856750       0.010287   \n",
       "4        1.151076      6.863822      4.265862      1.030545       0.792443   \n",
       "...           ...           ...           ...           ...            ...   \n",
       "999808   0.512923     25.422626     10.219395      1.793552      -1.767855   \n",
       "999809   1.147396      8.431062      6.834739      9.435437       1.334563   \n",
       "999810   0.707354     30.393255      8.018707     13.291607       0.614436   \n",
       "999811   1.029093     18.832998      2.315018      6.858844       0.359773   \n",
       "999812   1.022503      2.882684      3.491848      2.350023       0.197519   \n",
       "\n",
       "        daughter_eta2  daughter_eta3  daughter_phi1  daughter_phi2  \\\n",
       "0            2.043263       2.092864       1.928284       1.796509   \n",
       "1            0.232523       0.138399      -3.075910      -3.023404   \n",
       "2            0.900213       0.918054       0.381624       0.356568   \n",
       "3           -0.052050      -0.265430       1.847832       1.766978   \n",
       "4            0.888045       0.991515      -0.853275      -0.809077   \n",
       "...               ...            ...            ...            ...   \n",
       "999808      -1.721222      -1.760479       2.118341       2.071165   \n",
       "999809       1.323848       1.303442      -1.439663      -1.281951   \n",
       "999810       0.631900       0.614902       0.059602       0.112402   \n",
       "999811       0.311186       0.348975       0.747605       0.832636   \n",
       "999812       0.152259      -0.007442       2.267622       2.502538   \n",
       "\n",
       "        daughter_phi3  \n",
       "0            2.022844  \n",
       "1           -3.035216  \n",
       "2            0.403709  \n",
       "3            2.019760  \n",
       "4           -0.406614  \n",
       "...               ...  \n",
       "999808       2.009299  \n",
       "999809      -1.371129  \n",
       "999810       0.108593  \n",
       "999811       0.803832  \n",
       "999812       2.711988  \n",
       "\n",
       "[999813 rows x 19 columns]"
      ]
     },
     "execution_count": 237,
     "metadata": {},
     "output_type": "execute_result"
    }
   ],
   "source": [
    "invmass_ready_df = shuffled_df.drop(['DMesons_daughterInfo__pt', 'DMesons_daughterInfo__eta', \"DMesons_daughterInfo__phi\", \"DMesons_daughterInfo__pdgId\", \"particle_type\"], axis=1)\n",
    "invmass_ready_df[\"daughter_pt1\"] = particle1_pt\n",
    "invmass_ready_df[\"daughter_pt2\"] = particle2_pt\n",
    "invmass_ready_df[\"daughter_pt3\"] = particle3_pt\n",
    "invmass_ready_df[\"daughter_eta1\"] = particle1_eta\n",
    "invmass_ready_df[\"daughter_eta2\"] = particle2_eta\n",
    "invmass_ready_df[\"daughter_eta3\"] = particle3_eta\n",
    "invmass_ready_df[\"daughter_phi1\"] = particle1_phi\n",
    "invmass_ready_df[\"daughter_phi2\"] = particle2_phi\n",
    "invmass_ready_df[\"daughter_phi3\"] = particle3_phi\n",
    "invmass_ready_df"
   ]
  },
  {
   "cell_type": "code",
   "execution_count": 238,
   "id": "3025200b-2c94-4096-ab5a-33b38f70e1d3",
   "metadata": {},
   "outputs": [],
   "source": [
    "# create a new column 'particle_type' based on the pdgId column\n",
    "def func(x):\n",
    "    if x == 0 or x == 411:\n",
    "        return 'only_411'\n",
    "    elif x == 1 or x == 4122:\n",
    "        return 'only_4122'\n",
    "\n",
    "invmass_ready_df['particle_type'] = invmass_ready_df['DMesons_pdgId'].apply(func)\n",
    "\n",
    "# separate the rows based on the new column\n",
    "only_411 = invmass_ready_df[invmass_ready_df['particle_type'] == 'only_411']\n",
    "only_4122 = invmass_ready_df[invmass_ready_df['particle_type'] == 'only_4122']\n",
    "\n",
    "new_df = invmass_ready_df[invmass_ready_df['particle_type'] != 'both']\n",
    "# new_df = new_df.reset_index(drop=True)\n",
    "# only_411 = only_411.reset_index(drop=True)\n",
    "# only_4122 = only_4122.reset_index(drop=True)\n",
    "\n",
    "# new_df = new_df.drop('particle_type', axis=1)"
   ]
  },
  {
   "cell_type": "code",
   "execution_count": 239,
   "id": "696a8d9c-bcfa-4783-acfe-6c2b82724157",
   "metadata": {},
   "outputs": [],
   "source": [
    "only_411 = only_411.drop('particle_type', axis=1)\n",
    "only_4122 = only_4122.drop('particle_type', axis=1)\n",
    "new_df = new_df.drop(\"particle_type\", axis=1)\n",
    "\n",
    "new_df = new_df.drop('DMesons_m', axis=1)\n",
    "only_411 = only_411.drop('DMesons_m', axis=1)\n",
    "only_4122 = only_4122.drop('DMesons_m', axis=1)"
   ]
  },
  {
   "cell_type": "code",
   "execution_count": 240,
   "id": "dda49273-5dd3-4493-9bd9-c9a3a55f2224",
   "metadata": {},
   "outputs": [
    {
     "data": {
      "text/html": [
       "<div>\n",
       "<style scoped>\n",
       "    .dataframe tbody tr th:only-of-type {\n",
       "        vertical-align: middle;\n",
       "    }\n",
       "\n",
       "    .dataframe tbody tr th {\n",
       "        vertical-align: top;\n",
       "    }\n",
       "\n",
       "    .dataframe thead th {\n",
       "        text-align: right;\n",
       "    }\n",
       "</style>\n",
       "<table border=\"1\" class=\"dataframe\">\n",
       "  <thead>\n",
       "    <tr style=\"text-align: right;\">\n",
       "      <th></th>\n",
       "      <th>DMesons_pt</th>\n",
       "      <th>DMesons_eta</th>\n",
       "      <th>DMesons_fitOutput__Lxy</th>\n",
       "      <th>DMesons_costhetastar</th>\n",
       "      <th>DMesons_pdgId</th>\n",
       "      <th>inv_mass1</th>\n",
       "      <th>inv_mass2</th>\n",
       "      <th>inv_mass3</th>\n",
       "      <th>inv_mass4</th>\n",
       "      <th>daughter_pt1</th>\n",
       "      <th>daughter_pt2</th>\n",
       "      <th>daughter_pt3</th>\n",
       "      <th>daughter_eta1</th>\n",
       "      <th>daughter_eta2</th>\n",
       "      <th>daughter_eta3</th>\n",
       "      <th>daughter_phi1</th>\n",
       "      <th>daughter_phi2</th>\n",
       "      <th>daughter_phi3</th>\n",
       "    </tr>\n",
       "  </thead>\n",
       "  <tbody>\n",
       "    <tr>\n",
       "      <th>0</th>\n",
       "      <td>14.495960</td>\n",
       "      <td>2.068161</td>\n",
       "      <td>0.426400</td>\n",
       "      <td>0.224030</td>\n",
       "      <td>4122</td>\n",
       "      <td>1.030158</td>\n",
       "      <td>1.596893</td>\n",
       "      <td>2.964043</td>\n",
       "      <td>1.596893</td>\n",
       "      <td>4.866639</td>\n",
       "      <td>6.233001</td>\n",
       "      <td>3.474176</td>\n",
       "      <td>2.069848</td>\n",
       "      <td>2.043263</td>\n",
       "      <td>2.092864</td>\n",
       "      <td>1.928284</td>\n",
       "      <td>1.796509</td>\n",
       "      <td>2.022844</td>\n",
       "    </tr>\n",
       "    <tr>\n",
       "      <th>1</th>\n",
       "      <td>18.392408</td>\n",
       "      <td>0.198644</td>\n",
       "      <td>0.858600</td>\n",
       "      <td>0.781461</td>\n",
       "      <td>4122</td>\n",
       "      <td>0.595496</td>\n",
       "      <td>0.832936</td>\n",
       "      <td>3.516314</td>\n",
       "      <td>0.832936</td>\n",
       "      <td>4.016573</td>\n",
       "      <td>9.644989</td>\n",
       "      <td>4.740163</td>\n",
       "      <td>0.187722</td>\n",
       "      <td>0.232523</td>\n",
       "      <td>0.138399</td>\n",
       "      <td>-3.075910</td>\n",
       "      <td>-3.023404</td>\n",
       "      <td>-3.035216</td>\n",
       "    </tr>\n",
       "    <tr>\n",
       "      <th>2</th>\n",
       "      <td>41.166922</td>\n",
       "      <td>0.868607</td>\n",
       "      <td>0.059236</td>\n",
       "      <td>0.323120</td>\n",
       "      <td>4122</td>\n",
       "      <td>2.585226</td>\n",
       "      <td>0.574857</td>\n",
       "      <td>4.336044</td>\n",
       "      <td>0.574857</td>\n",
       "      <td>19.729450</td>\n",
       "      <td>19.461752</td>\n",
       "      <td>1.988555</td>\n",
       "      <td>0.831277</td>\n",
       "      <td>0.900213</td>\n",
       "      <td>0.918054</td>\n",
       "      <td>0.381624</td>\n",
       "      <td>0.356568</td>\n",
       "      <td>0.403709</td>\n",
       "    </tr>\n",
       "    <tr>\n",
       "      <th>3</th>\n",
       "      <td>19.850971</td>\n",
       "      <td>-0.014880</td>\n",
       "      <td>0.658014</td>\n",
       "      <td>-0.368115</td>\n",
       "      <td>4122</td>\n",
       "      <td>1.773955</td>\n",
       "      <td>0.799523</td>\n",
       "      <td>2.879549</td>\n",
       "      <td>0.799523</td>\n",
       "      <td>14.824045</td>\n",
       "      <td>4.195254</td>\n",
       "      <td>0.856750</td>\n",
       "      <td>0.010287</td>\n",
       "      <td>-0.052050</td>\n",
       "      <td>-0.265430</td>\n",
       "      <td>1.847832</td>\n",
       "      <td>1.766978</td>\n",
       "      <td>2.019760</td>\n",
       "    </tr>\n",
       "    <tr>\n",
       "      <th>4</th>\n",
       "      <td>12.071737</td>\n",
       "      <td>0.849297</td>\n",
       "      <td>0.051149</td>\n",
       "      <td>0.822036</td>\n",
       "      <td>4122</td>\n",
       "      <td>0.967829</td>\n",
       "      <td>1.151076</td>\n",
       "      <td>2.399489</td>\n",
       "      <td>1.151076</td>\n",
       "      <td>6.863822</td>\n",
       "      <td>4.265862</td>\n",
       "      <td>1.030545</td>\n",
       "      <td>0.792443</td>\n",
       "      <td>0.888045</td>\n",
       "      <td>0.991515</td>\n",
       "      <td>-0.853275</td>\n",
       "      <td>-0.809077</td>\n",
       "      <td>-0.406614</td>\n",
       "    </tr>\n",
       "    <tr>\n",
       "      <th>...</th>\n",
       "      <td>...</td>\n",
       "      <td>...</td>\n",
       "      <td>...</td>\n",
       "      <td>...</td>\n",
       "      <td>...</td>\n",
       "      <td>...</td>\n",
       "      <td>...</td>\n",
       "      <td>...</td>\n",
       "      <td>...</td>\n",
       "      <td>...</td>\n",
       "      <td>...</td>\n",
       "      <td>...</td>\n",
       "      <td>...</td>\n",
       "      <td>...</td>\n",
       "      <td>...</td>\n",
       "      <td>...</td>\n",
       "      <td>...</td>\n",
       "      <td>...</td>\n",
       "    </tr>\n",
       "    <tr>\n",
       "      <th>999808</th>\n",
       "      <td>37.423441</td>\n",
       "      <td>-1.755403</td>\n",
       "      <td>3.889393</td>\n",
       "      <td>-0.270817</td>\n",
       "      <td>411</td>\n",
       "      <td>2.047315</td>\n",
       "      <td>0.512923</td>\n",
       "      <td>3.238719</td>\n",
       "      <td>0.512923</td>\n",
       "      <td>25.422626</td>\n",
       "      <td>10.219395</td>\n",
       "      <td>1.793552</td>\n",
       "      <td>-1.767855</td>\n",
       "      <td>-1.721222</td>\n",
       "      <td>-1.760479</td>\n",
       "      <td>2.118341</td>\n",
       "      <td>2.071165</td>\n",
       "      <td>2.009299</td>\n",
       "    </tr>\n",
       "    <tr>\n",
       "      <th>999809</th>\n",
       "      <td>24.682957</td>\n",
       "      <td>1.321535</td>\n",
       "      <td>0.469334</td>\n",
       "      <td>-0.183932</td>\n",
       "      <td>411</td>\n",
       "      <td>2.019141</td>\n",
       "      <td>1.147396</td>\n",
       "      <td>3.570420</td>\n",
       "      <td>1.147396</td>\n",
       "      <td>8.431062</td>\n",
       "      <td>6.834739</td>\n",
       "      <td>9.435437</td>\n",
       "      <td>1.334563</td>\n",
       "      <td>1.323848</td>\n",
       "      <td>1.303442</td>\n",
       "      <td>-1.439663</td>\n",
       "      <td>-1.281951</td>\n",
       "      <td>-1.371129</td>\n",
       "    </tr>\n",
       "    <tr>\n",
       "      <th>999810</th>\n",
       "      <td>51.712094</td>\n",
       "      <td>0.617304</td>\n",
       "      <td>10.334098</td>\n",
       "      <td>-0.728289</td>\n",
       "      <td>411</td>\n",
       "      <td>1.936293</td>\n",
       "      <td>0.707354</td>\n",
       "      <td>3.026112</td>\n",
       "      <td>0.707354</td>\n",
       "      <td>30.393255</td>\n",
       "      <td>8.018707</td>\n",
       "      <td>13.291607</td>\n",
       "      <td>0.614436</td>\n",
       "      <td>0.631900</td>\n",
       "      <td>0.614902</td>\n",
       "      <td>0.059602</td>\n",
       "      <td>0.112402</td>\n",
       "      <td>0.108593</td>\n",
       "    </tr>\n",
       "    <tr>\n",
       "      <th>999811</th>\n",
       "      <td>27.987713</td>\n",
       "      <td>0.353341</td>\n",
       "      <td>0.589687</td>\n",
       "      <td>-0.963699</td>\n",
       "      <td>4122</td>\n",
       "      <td>2.677253</td>\n",
       "      <td>1.029093</td>\n",
       "      <td>3.643798</td>\n",
       "      <td>1.029093</td>\n",
       "      <td>18.832998</td>\n",
       "      <td>2.315018</td>\n",
       "      <td>6.858844</td>\n",
       "      <td>0.359773</td>\n",
       "      <td>0.311186</td>\n",
       "      <td>0.348975</td>\n",
       "      <td>0.747605</td>\n",
       "      <td>0.832636</td>\n",
       "      <td>0.803832</td>\n",
       "    </tr>\n",
       "    <tr>\n",
       "      <th>999812</th>\n",
       "      <td>8.600531</td>\n",
       "      <td>0.125775</td>\n",
       "      <td>0.332153</td>\n",
       "      <td>0.951666</td>\n",
       "      <td>411</td>\n",
       "      <td>1.062187</td>\n",
       "      <td>1.022503</td>\n",
       "      <td>2.940771</td>\n",
       "      <td>1.022503</td>\n",
       "      <td>2.882684</td>\n",
       "      <td>3.491848</td>\n",
       "      <td>2.350023</td>\n",
       "      <td>0.197519</td>\n",
       "      <td>0.152259</td>\n",
       "      <td>-0.007442</td>\n",
       "      <td>2.267622</td>\n",
       "      <td>2.502538</td>\n",
       "      <td>2.711988</td>\n",
       "    </tr>\n",
       "  </tbody>\n",
       "</table>\n",
       "<p>999813 rows × 18 columns</p>\n",
       "</div>"
      ],
      "text/plain": [
       "        DMesons_pt  DMesons_eta  DMesons_fitOutput__Lxy  DMesons_costhetastar  \\\n",
       "0        14.495960     2.068161                0.426400              0.224030   \n",
       "1        18.392408     0.198644                0.858600              0.781461   \n",
       "2        41.166922     0.868607                0.059236              0.323120   \n",
       "3        19.850971    -0.014880                0.658014             -0.368115   \n",
       "4        12.071737     0.849297                0.051149              0.822036   \n",
       "...            ...          ...                     ...                   ...   \n",
       "999808   37.423441    -1.755403                3.889393             -0.270817   \n",
       "999809   24.682957     1.321535                0.469334             -0.183932   \n",
       "999810   51.712094     0.617304               10.334098             -0.728289   \n",
       "999811   27.987713     0.353341                0.589687             -0.963699   \n",
       "999812    8.600531     0.125775                0.332153              0.951666   \n",
       "\n",
       "        DMesons_pdgId  inv_mass1  inv_mass2  inv_mass3  inv_mass4  \\\n",
       "0                4122   1.030158   1.596893   2.964043   1.596893   \n",
       "1                4122   0.595496   0.832936   3.516314   0.832936   \n",
       "2                4122   2.585226   0.574857   4.336044   0.574857   \n",
       "3                4122   1.773955   0.799523   2.879549   0.799523   \n",
       "4                4122   0.967829   1.151076   2.399489   1.151076   \n",
       "...               ...        ...        ...        ...        ...   \n",
       "999808            411   2.047315   0.512923   3.238719   0.512923   \n",
       "999809            411   2.019141   1.147396   3.570420   1.147396   \n",
       "999810            411   1.936293   0.707354   3.026112   0.707354   \n",
       "999811           4122   2.677253   1.029093   3.643798   1.029093   \n",
       "999812            411   1.062187   1.022503   2.940771   1.022503   \n",
       "\n",
       "        daughter_pt1  daughter_pt2  daughter_pt3  daughter_eta1  \\\n",
       "0           4.866639      6.233001      3.474176       2.069848   \n",
       "1           4.016573      9.644989      4.740163       0.187722   \n",
       "2          19.729450     19.461752      1.988555       0.831277   \n",
       "3          14.824045      4.195254      0.856750       0.010287   \n",
       "4           6.863822      4.265862      1.030545       0.792443   \n",
       "...              ...           ...           ...            ...   \n",
       "999808     25.422626     10.219395      1.793552      -1.767855   \n",
       "999809      8.431062      6.834739      9.435437       1.334563   \n",
       "999810     30.393255      8.018707     13.291607       0.614436   \n",
       "999811     18.832998      2.315018      6.858844       0.359773   \n",
       "999812      2.882684      3.491848      2.350023       0.197519   \n",
       "\n",
       "        daughter_eta2  daughter_eta3  daughter_phi1  daughter_phi2  \\\n",
       "0            2.043263       2.092864       1.928284       1.796509   \n",
       "1            0.232523       0.138399      -3.075910      -3.023404   \n",
       "2            0.900213       0.918054       0.381624       0.356568   \n",
       "3           -0.052050      -0.265430       1.847832       1.766978   \n",
       "4            0.888045       0.991515      -0.853275      -0.809077   \n",
       "...               ...            ...            ...            ...   \n",
       "999808      -1.721222      -1.760479       2.118341       2.071165   \n",
       "999809       1.323848       1.303442      -1.439663      -1.281951   \n",
       "999810       0.631900       0.614902       0.059602       0.112402   \n",
       "999811       0.311186       0.348975       0.747605       0.832636   \n",
       "999812       0.152259      -0.007442       2.267622       2.502538   \n",
       "\n",
       "        daughter_phi3  \n",
       "0            2.022844  \n",
       "1           -3.035216  \n",
       "2            0.403709  \n",
       "3            2.019760  \n",
       "4           -0.406614  \n",
       "...               ...  \n",
       "999808       2.009299  \n",
       "999809      -1.371129  \n",
       "999810       0.108593  \n",
       "999811       0.803832  \n",
       "999812       2.711988  \n",
       "\n",
       "[999813 rows x 18 columns]"
      ]
     },
     "execution_count": 240,
     "metadata": {},
     "output_type": "execute_result"
    }
   ],
   "source": [
    "new_df"
   ]
  },
  {
   "cell_type": "code",
   "execution_count": 186,
   "id": "36801eba-f89d-45e9-a814-58591333f141",
   "metadata": {},
   "outputs": [],
   "source": [
    "save(new_df, \"new_df_invmassdaughter_train\")\n",
    "save(only_411, \"only_411_invmassdaughter_train\")\n",
    "save(only_4122, \"only_4122_invmassdaughter_train\")"
   ]
  },
  {
   "cell_type": "code",
   "execution_count": 2,
   "id": "83f9240f-81c4-4d08-aa49-47cec590642f",
   "metadata": {},
   "outputs": [],
   "source": [
    "new_df = load(\"new_df_invmassdaughter_train\")\n",
    "only_411 = load(\"only_411_invmassdaughter_train\")\n",
    "only_4122 = load(\"only_4122_invmassdaughter_train\")"
   ]
  },
  {
   "cell_type": "code",
   "execution_count": 247,
   "id": "38d6fa12-d36d-445b-b647-5d33161b88a4",
   "metadata": {},
   "outputs": [],
   "source": [
    "training_columns = ['DMesons_pt','DMesons_eta', 'DMesons_fitOutput__Lxy', 'DMesons_costhetastar', \"inv_mass1\", \"inv_mass2\", \"inv_mass3\", \"inv_mass4\", \n",
    "                    \"daughter_pt1\", \"daughter_pt2\", \"daughter_pt3\", \"daughter_eta1\", \"daughter_eta2\", \"daughter_eta3\", \"daughter_phi1\", \"daughter_phi2\", \"daughter_phi3\"]\n",
    "#D and Lambda\n",
    "new_df['DMesons_pdgId'] = new_df['DMesons_pdgId'].replace({411: 0, 4122: 1})\n",
    "X_train, X_test, y_train, y_test = train_test_split(new_df[training_columns], new_df['DMesons_pdgId'], test_size=0.2, random_state=42)\n",
    "\n",
    "#only DMesons\n",
    "only_411['DMesons_pdgId'] = only_411['DMesons_pdgId'].replace({411: 0, 4122: 1})\n",
    "X_train1, X_test1, y_train1, y_test1 = train_test_split(only_411[training_columns], only_411['DMesons_pdgId'], test_size=0.2, random_state=42)\n",
    "\n",
    "#only Lambda\n",
    "only_4122['DMesons_pdgId'] = only_4122['DMesons_pdgId'].replace({411: 0, 4122: 1})\n",
    "X_train2, X_test2, y_train2, y_test2 = train_test_split(only_4122[training_columns], only_4122['DMesons_pdgId'], test_size=0.2, random_state=42)"
   ]
  },
  {
   "cell_type": "code",
   "execution_count": 248,
   "id": "2d64a75d-6dfe-4703-b8de-395e4a0d38f4",
   "metadata": {},
   "outputs": [
    {
     "data": {
      "image/png": "[encoded data removed]",
      "text/plain": [
       "<Figure size 640x480 with 1 Axes>"
      ]
     },
     "metadata": {},
     "output_type": "display_data"
    }
   ],
   "source": [
    "counts, bins, _ = plt.hist(X_train1[\"inv_mass3\"], bins=100)\n",
    "counts2, bins2, _ = plt.hist(X_train2[\"inv_mass3\"], bins=100)\n",
    "# Normalize the histogram using the formula\n",
    "density = counts / (sum(counts) * np.diff(bins))\n",
    "density2 = counts2 / (sum(counts2) * np.diff(bins2))\n",
    "\n",
    "# Plot the normalized histogram\n",
    "plt.clf()\n",
    "plt.bar(bins[:-1], density, width=np.diff(bins), align='edge', alpha=0.5)\n",
    "plt.bar(bins2[:-1], density2, width=np.diff(bins2), align='edge', alpha=0.5)\n",
    "plt.title(\"Histogram of Invariant mass pk\")\n",
    "plt.xlabel(\"Inv mass pk\")\n",
    "plt.ylabel(\"Normalized Counts\")\n",
    "plt.show()"
   ]
  },
  {
   "cell_type": "code",
   "execution_count": 249,
   "id": "c02eef1b-ab47-46d7-9ec4-3663f02a332b",
   "metadata": {},
   "outputs": [
    {
     "data": {
      "image/png": "[encoded data removed]",
      "text/plain": [
       "<Figure size 640x480 with 1 Axes>"
      ]
     },
     "metadata": {},
     "output_type": "display_data"
    }
   ],
   "source": [
    "counts, bins, _ = plt.hist(X_train1[\"inv_mass4\"], bins=100)\n",
    "counts2, bins2, _ = plt.hist(X_train2[\"inv_mass4\"], bins=100)\n",
    "# Normalize the histogram using the formula\n",
    "density = counts / (sum(counts) * np.diff(bins))\n",
    "density2 = counts2 / (sum(counts2) * np.diff(bins2))\n",
    "\n",
    "# Plot the normalized histogram\n",
    "plt.clf()\n",
    "plt.bar(bins[:-1], density, width=np.diff(bins), align='edge', alpha=0.5)\n",
    "plt.bar(bins2[:-1], density2, width=np.diff(bins2), align='edge', alpha=0.5)\n",
    "plt.title(\"Histogram of Invariant mass kpi\")\n",
    "plt.xlabel(\"Inv mass kpi\")\n",
    "plt.ylabel(\"Normalized Counts\")\n",
    "plt.show()"
   ]
  },
  {
   "cell_type": "code",
   "execution_count": 250,
   "id": "debfcd42-f024-461a-bdc0-d5d699c99532",
   "metadata": {},
   "outputs": [
    {
     "data": {
      "image/png": "[encoded data removed]",
      "text/plain": [
       "<Figure size 640x480 with 1 Axes>"
      ]
     },
     "metadata": {},
     "output_type": "display_data"
    },
    {
     "data": {
      "image/png": "[encoded data removed]",
      "text/plain": [
       "<Figure size 640x480 with 1 Axes>"
      ]
     },
     "metadata": {},
     "output_type": "display_data"
    },
    {
     "data": {
      "image/png": "[encoded data removed]",
      "text/plain": [
       "<Figure size 640x480 with 1 Axes>"
      ]
     },
     "metadata": {},
     "output_type": "display_data"
    }
   ],
   "source": [
    "counts, bins, _ = plt.hist(X_train1[\"DMesons_pt\"], bins=100)\n",
    "counts2, bins2, _ = plt.hist(X_train2[\"DMesons_pt\"], bins=100)\n",
    "# Normalize the histogram using the formula\n",
    "density = counts / (sum(counts) * np.diff(bins))\n",
    "density2 = counts2 / (sum(counts2) * np.diff(bins2))\n",
    "\n",
    "# Plot the normalized histogram\n",
    "plt.clf()\n",
    "plt.bar(bins[:-1], density, width=np.diff(bins), align='edge', alpha=0.5)\n",
    "plt.bar(bins2[:-1], density2, width=np.diff(bins2), align='edge', alpha=0.5)\n",
    "plt.title(\"Signal vs Backround P_t (Normalized)\")\n",
    "plt.xlabel(\"Transverse Momentum (p_t) [MeV]\")\n",
    "plt.ylabel(\"Normalized Counts\")\n",
    "plt.show()\n",
    "\n",
    "counts, bins, _ = plt.hist(X_train1[\"DMesons_fitOutput__Lxy\"], bins=100)\n",
    "counts2, bins2, _ = plt.hist(X_train2[\"DMesons_fitOutput__Lxy\"], bins=100)\n",
    "# Normalize the histogram using the formula\n",
    "density = counts / (sum(counts) * np.diff(bins))\n",
    "density2 = counts2 / (sum(counts2) * np.diff(bins2))\n",
    "\n",
    "# Plot the normalized histogram\n",
    "plt.clf()\n",
    "plt.bar(bins[:-1], density, width=np.diff(bins), align='edge', alpha=0.5)\n",
    "plt.bar(bins2[:-1], density2, width=np.diff(bins2), align='edge', alpha=0.5)\n",
    "plt.title(\"Signal vs Backround Lxy (Normalized)\")\n",
    "plt.xlabel(\"Decay Length (L_xy) [mm]\")\n",
    "plt.ylabel(\"Normalized Counts\")\n",
    "plt.show()\n",
    "\n",
    "counts, bins, _ = plt.hist(X_train1[\"DMesons_costhetastar\"], bins=100)\n",
    "counts2, bins2, _ = plt.hist(X_train2[\"DMesons_costhetastar\"], bins=100)\n",
    "# Normalize the histogram using the formula\n",
    "density = counts / (sum(counts) * np.diff(bins))\n",
    "density2 = counts2 / (sum(counts2) * np.diff(bins2))\n",
    "\n",
    "# Plot the normalized histogram\n",
    "plt.clf()\n",
    "plt.bar(bins[:-1], density, width=np.diff(bins), align='edge', alpha=0.5)\n",
    "plt.bar(bins2[:-1], density2, width=np.diff(bins2), align='edge', alpha=0.5)\n",
    "plt.title(\"Signal vs Backround cosθ* (Normalized)\")\n",
    "plt.xlabel(\"Cosine of Helicity Angle (cosθ*)\")\n",
    "plt.ylabel(\"Normalized Counts\")\n",
    "plt.show()"
   ]
  },
  {
   "cell_type": "code",
   "execution_count": 261,
   "id": "3f01b6e2-bf7d-4bbb-85ac-995b9bb15aab",
   "metadata": {},
   "outputs": [
    {
     "data": {
      "image/png": "[encoded data removed]",
      "text/plain": [
       "<Figure size 640x480 with 1 Axes>"
      ]
     },
     "metadata": {},
     "output_type": "display_data"
    }
   ],
   "source": [
    "counts, bins, _ = plt.hist(X_train1[\"daughter_phi3\"], bins=100)\n",
    "counts2, bins2, _ = plt.hist(X_train2[\"daughter_phi3\"], bins=100)\n",
    "# Normalize the histogram using the formula\n",
    "density = counts / (sum(counts) * np.diff(bins))\n",
    "density2 = counts2 / (sum(counts2) * np.diff(bins2))\n",
    "\n",
    "# Plot the normalized histogram\n",
    "plt.clf()\n",
    "plt.bar(bins[:-1], density, width=np.diff(bins), align='edge', alpha=0.5)\n",
    "plt.bar(bins2[:-1], density2, width=np.diff(bins2), align='edge', alpha=0.5)\n",
    "plt.title(\"Signal vs Backround Daughter P_t (Normalized)\")\n",
    "plt.xlabel(\"Transverse Momentum (p_t) [MeV]\")\n",
    "plt.ylabel(\"Normalized Counts\")\n",
    "plt.show()"
   ]
  },
  {
   "cell_type": "code",
   "execution_count": 262,
   "id": "cb04599d-15bc-4588-8a9d-363a47647c1f",
   "metadata": {},
   "outputs": [
    {
     "data": {
      "image/png": "[encoded data removed]",
      "text/plain": [
       "<Figure size 640x480 with 1 Axes>"
      ]
     },
     "metadata": {},
     "output_type": "display_data"
    }
   ],
   "source": [
    "#counts, bins, _ = plt.hist(X_train1, bins=20)\n",
    "bins = np.linspace(-5, 5, 100)\n",
    "signal_counts, _ = np.histogram(X_train2, bins=bins, density=True)\n",
    "background_counts, _ = np.histogram(X_train1, bins=bins, density=True)\n",
    "\n",
    "# Plot the signal and background histograms on the same plot\n",
    "plt.bar(bins[:-1], signal_counts, width=np.diff(bins), alpha=0.5, label='Signal')\n",
    "plt.bar(bins[:-1], background_counts, width=np.diff(bins), alpha=0.5, label='Background')\n",
    "\n",
    "# Add axis labels and a legend\n",
    "plt.xlabel('Data')\n",
    "plt.ylabel('Normalized Counts')\n",
    "plt.title(\"Normalized Signal vs Background\")\n",
    "plt.legend()\n",
    "\n",
    "# Show the plot\n",
    "plt.show()"
   ]
  },
  {
   "cell_type": "code",
   "execution_count": 263,
   "id": "3797f144-19c6-43ca-afac-c9917f73fddd",
   "metadata": {},
   "outputs": [
    {
     "data": {
      "text/html": [
       "wandb version 0.15.0 is available!  To upgrade, please run:\n",
       " $ pip install wandb --upgrade"
      ],
      "text/plain": [
       "<IPython.core.display.HTML object>"
      ]
     },
     "metadata": {},
     "output_type": "display_data"
    },
    {
     "data": {
      "text/html": [
       "Tracking run with wandb version 0.14.0"
      ],
      "text/plain": [
       "<IPython.core.display.HTML object>"
      ]
     },
     "metadata": {},
     "output_type": "display_data"
    },
    {
     "data": {
      "text/html": [
       "Run data is saved locally in <code>/global/u2/g/gupsingh/ATLAS_DNN/wandb/run-20230424_051713-ra54zj4q</code>"
      ],
      "text/plain": [
       "<IPython.core.display.HTML object>"
      ]
     },
     "metadata": {},
     "output_type": "display_data"
    },
    {
     "data": {
      "text/html": [
       "Syncing run <strong><a href='https://wandb.ai/atlasdnn/ATLAS_DNN/runs/ra54zj4q' target=\"_blank\">fanciful-plasma-63</a></strong> to <a href='https://wandb.ai/atlasdnn/ATLAS_DNN' target=\"_blank\">Weights & Biases</a> (<a href='https://wandb.me/run' target=\"_blank\">docs</a>)<br/>"
      ],
      "text/plain": [
       "<IPython.core.display.HTML object>"
      ]
     },
     "metadata": {},
     "output_type": "display_data"
    },
    {
     "data": {
      "text/html": [
       " View project at <a href='https://wandb.ai/atlasdnn/ATLAS_DNN' target=\"_blank\">https://wandb.ai/atlasdnn/ATLAS_DNN</a>"
      ],
      "text/plain": [
       "<IPython.core.display.HTML object>"
      ]
     },
     "metadata": {},
     "output_type": "display_data"
    },
    {
     "data": {
      "text/html": [
       " View run at <a href='https://wandb.ai/atlasdnn/ATLAS_DNN/runs/ra54zj4q' target=\"_blank\">https://wandb.ai/atlasdnn/ATLAS_DNN/runs/ra54zj4q</a>"
      ],
      "text/plain": [
       "<IPython.core.display.HTML object>"
      ]
     },
     "metadata": {},
     "output_type": "display_data"
    }
   ],
   "source": [
    "wandb.init(\n",
    "    # set the wandb project where this run will be logged\n",
    "    project=\"ATLAS_DNN\",\n",
    "\n",
    "    # track hyperparameters and run metadata with wandb.config\n",
    "    config={\n",
    "        \"layer_1\": 64,\n",
    "        \"activation_1\": \"relu\",\n",
    "        \"dropout_1\": 0.5,\n",
    "        \"layer_2\": 32,\n",
    "        \"activation_2\": \"relu\",\n",
    "        \"dropout_2\": 0.5,\n",
    "        \"output_layer\": 1,\n",
    "        \"output_activation\": \"sigmoid\",\n",
    "        \"optimizer\": \"adam\",\n",
    "        \"loss\": \"binary_crossentropy\",\n",
    "        \"metric\": \"accuracy\",\n",
    "        \"epoch\": 25,\n",
    "        \"batch_size\": 32\n",
    "    }\n",
    ")\n",
    "config = wandb.config"
   ]
  },
  {
   "cell_type": "code",
   "execution_count": 264,
   "id": "8691200c-24fe-4a5b-a4c4-29902c91a09e",
   "metadata": {},
   "outputs": [
    {
     "name": "stdout",
     "output_type": "stream",
     "text": [
      "Model: \"my_model_3\"\n",
      "_________________________________________________________________\n",
      " Layer (type)                Output Shape              Param #   \n",
      "=================================================================\n",
      " dense_9 (Dense)             multiple                  1152      \n",
      "                                                                 \n",
      " dropout_6 (Dropout)         multiple                  0         \n",
      "                                                                 \n",
      " dense_10 (Dense)            multiple                  2080      \n",
      "                                                                 \n",
      " dropout_7 (Dropout)         multiple                  0         \n",
      "                                                                 \n",
      " dense_11 (Dense)            multiple                  33        \n",
      "                                                                 \n",
      "=================================================================\n",
      "Total params: 3,265\n",
      "Trainable params: 3,265\n",
      "Non-trainable params: 0\n",
      "_________________________________________________________________\n"
     ]
    }
   ],
   "source": [
    "# def get_config(self):\n",
    "#     return config\n",
    "\n",
    "class MyModel(Model):\n",
    "    def __init__(self):\n",
    "        super(MyModel, self).__init__()\n",
    "        config = wandb.config\n",
    "        self.dense1 = Dense(config.layer_1, activation=config.activation_1)\n",
    "        self.dropout1 = Dropout(config.dropout_1)\n",
    "        \n",
    "        self.dense2 = Dense(config.layer_2, activation = config.activation_2)\n",
    "        self.dropout2 = Dropout(config.dropout_2)\n",
    "        \n",
    "        self.dense3 = Dense(config.output_layer, activation=config.output_activation)\n",
    "        \n",
    "    def call(self, x):\n",
    "        x = self.dense1(x)\n",
    "        x = self.dropout1(x)\n",
    "        \n",
    "        x = self.dense2(x)\n",
    "        x = self.dropout2(x)\n",
    "        \n",
    "        x = self.dense3(x)\n",
    "        \n",
    "        return x\n",
    "    \n",
    "model = MyModel()\n",
    "model.build(input_shape=(None, X_train.shape[1]))\n",
    "model.summary()\n",
    "\n",
    "def custom_accuracy(y_true, y_pred): \n",
    "    \n",
    "    y_pred_binary = tf.cast(tf.round(y_pred), tf.int32)\n",
    "    y_true = tf.cast(y_true, tf.int32)\n",
    "    \n",
    "    correct_predictions = tf.equal(y_true, y_pred_binary)\n",
    "    accuracy = tf.reduce_mean(tf.cast(correct_predictions, tf.float32))\n",
    "    \n",
    "    return accuracy"
   ]
  },
  {
   "cell_type": "code",
   "execution_count": 265,
   "id": "9f802f11-45c9-464e-9b90-e7e6deed7bba",
   "metadata": {},
   "outputs": [
    {
     "name": "stdout",
     "output_type": "stream",
     "text": [
      "Epoch 1/25\n",
      "24991/24996 [============================>.] - ETA: 0s - loss: 0.4382 - custom_accuracy: 0.8087"
     ]
    },
    {
     "name": "stderr",
     "output_type": "stream",
     "text": [
      "\u001b[34m\u001b[1mwandb\u001b[0m: \u001b[32m\u001b[41mERROR\u001b[0m Can't save model in the h5py format. The model will be saved as as an W&B Artifact in the 'tf' format.\n"
     ]
    },
    {
     "name": "stdout",
     "output_type": "stream",
     "text": [
      "INFO:tensorflow:Assets written to: /global/u2/g/gupsingh/ATLAS_DNN/wandb/run-20230424_051713-ra54zj4q/files/model-best/assets\n"
     ]
    },
    {
     "name": "stderr",
     "output_type": "stream",
     "text": [
      "\u001b[34m\u001b[1mwandb\u001b[0m: Adding directory to artifact (/global/u2/g/gupsingh/ATLAS_DNN/wandb/run-20230424_051713-ra54zj4q/files/model-best)... Done. 0.0s\n"
     ]
    },
    {
     "name": "stdout",
     "output_type": "stream",
     "text": [
      "24996/24996 [==============================] - 47s 2ms/step - loss: 0.4382 - custom_accuracy: 0.8087 - val_loss: 0.3816 - val_custom_accuracy: 0.8291\n",
      "Epoch 2/25\n",
      "24972/24996 [============================>.] - ETA: 0s - loss: 0.4027 - custom_accuracy: 0.8220"
     ]
    },
    {
     "name": "stderr",
     "output_type": "stream",
     "text": [
      "\u001b[34m\u001b[1mwandb\u001b[0m: \u001b[32m\u001b[41mERROR\u001b[0m Can't save model in the h5py format. The model will be saved as as an W&B Artifact in the 'tf' format.\n"
     ]
    },
    {
     "name": "stdout",
     "output_type": "stream",
     "text": [
      "INFO:tensorflow:Assets written to: /global/u2/g/gupsingh/ATLAS_DNN/wandb/run-20230424_051713-ra54zj4q/files/model-best/assets\n"
     ]
    },
    {
     "name": "stderr",
     "output_type": "stream",
     "text": [
      "\u001b[34m\u001b[1mwandb\u001b[0m: Adding directory to artifact (/global/u2/g/gupsingh/ATLAS_DNN/wandb/run-20230424_051713-ra54zj4q/files/model-best)... Done. 0.0s\n"
     ]
    },
    {
     "name": "stdout",
     "output_type": "stream",
     "text": [
      "24996/24996 [==============================] - 45s 2ms/step - loss: 0.4027 - custom_accuracy: 0.8220 - val_loss: 0.3620 - val_custom_accuracy: 0.8409\n",
      "Epoch 3/25\n",
      "24984/24996 [============================>.] - ETA: 0s - loss: 0.3903 - custom_accuracy: 0.8301"
     ]
    },
    {
     "name": "stderr",
     "output_type": "stream",
     "text": [
      "\u001b[34m\u001b[1mwandb\u001b[0m: \u001b[32m\u001b[41mERROR\u001b[0m Can't save model in the h5py format. The model will be saved as as an W&B Artifact in the 'tf' format.\n"
     ]
    },
    {
     "name": "stdout",
     "output_type": "stream",
     "text": [
      "INFO:tensorflow:Assets written to: /global/u2/g/gupsingh/ATLAS_DNN/wandb/run-20230424_051713-ra54zj4q/files/model-best/assets\n"
     ]
    },
    {
     "name": "stderr",
     "output_type": "stream",
     "text": [
      "\u001b[34m\u001b[1mwandb\u001b[0m: Adding directory to artifact (/global/u2/g/gupsingh/ATLAS_DNN/wandb/run-20230424_051713-ra54zj4q/files/model-best)... Done. 0.0s\n"
     ]
    },
    {
     "name": "stdout",
     "output_type": "stream",
     "text": [
      "24996/24996 [==============================] - 45s 2ms/step - loss: 0.3903 - custom_accuracy: 0.8301 - val_loss: 0.3582 - val_custom_accuracy: 0.8434\n",
      "Epoch 4/25\n",
      "24981/24996 [============================>.] - ETA: 0s - loss: 0.3848 - custom_accuracy: 0.8333"
     ]
    },
    {
     "name": "stderr",
     "output_type": "stream",
     "text": [
      "\u001b[34m\u001b[1mwandb\u001b[0m: \u001b[32m\u001b[41mERROR\u001b[0m Can't save model in the h5py format. The model will be saved as as an W&B Artifact in the 'tf' format.\n"
     ]
    },
    {
     "name": "stdout",
     "output_type": "stream",
     "text": [
      "INFO:tensorflow:Assets written to: /global/u2/g/gupsingh/ATLAS_DNN/wandb/run-20230424_051713-ra54zj4q/files/model-best/assets\n"
     ]
    },
    {
     "name": "stderr",
     "output_type": "stream",
     "text": [
      "\u001b[34m\u001b[1mwandb\u001b[0m: Adding directory to artifact (/global/u2/g/gupsingh/ATLAS_DNN/wandb/run-20230424_051713-ra54zj4q/files/model-best)... Done. 0.0s\n"
     ]
    },
    {
     "name": "stdout",
     "output_type": "stream",
     "text": [
      "24996/24996 [==============================] - 45s 2ms/step - loss: 0.3848 - custom_accuracy: 0.8333 - val_loss: 0.3443 - val_custom_accuracy: 0.8513\n",
      "Epoch 5/25\n",
      "24994/24996 [============================>.] - ETA: 0s - loss: 0.3819 - custom_accuracy: 0.8353"
     ]
    },
    {
     "name": "stderr",
     "output_type": "stream",
     "text": [
      "\u001b[34m\u001b[1mwandb\u001b[0m: \u001b[32m\u001b[41mERROR\u001b[0m Can't save model in the h5py format. The model will be saved as as an W&B Artifact in the 'tf' format.\n"
     ]
    },
    {
     "name": "stdout",
     "output_type": "stream",
     "text": [
      "INFO:tensorflow:Assets written to: /global/u2/g/gupsingh/ATLAS_DNN/wandb/run-20230424_051713-ra54zj4q/files/model-best/assets\n"
     ]
    },
    {
     "name": "stderr",
     "output_type": "stream",
     "text": [
      "\u001b[34m\u001b[1mwandb\u001b[0m: Adding directory to artifact (/global/u2/g/gupsingh/ATLAS_DNN/wandb/run-20230424_051713-ra54zj4q/files/model-best)... Done. 0.0s\n"
     ]
    },
    {
     "name": "stdout",
     "output_type": "stream",
     "text": [
      "24996/24996 [==============================] - 45s 2ms/step - loss: 0.3819 - custom_accuracy: 0.8353 - val_loss: 0.3427 - val_custom_accuracy: 0.8506\n",
      "Epoch 6/25\n",
      " 1123/24996 [>.............................] - ETA: 37s - loss: 0.3790 - custom_accuracy: 0.8368"
     ]
    },
    {
     "ename": "KeyboardInterrupt",
     "evalue": "",
     "output_type": "error",
     "traceback": [
      "\u001b[0;31m---------------------------------------------------------------------------\u001b[0m",
      "\u001b[0;31mKeyboardInterrupt\u001b[0m                         Traceback (most recent call last)",
      "Cell \u001b[0;32mIn[265], line 9\u001b[0m\n\u001b[1;32m      7\u001b[0m \u001b[38;5;66;03m#Train\u001b[39;00m\n\u001b[1;32m      8\u001b[0m \u001b[38;5;28;01mwith\u001b[39;00m tf\u001b[38;5;241m.\u001b[39mdevice(\u001b[38;5;124m'\u001b[39m\u001b[38;5;124m/gpu:0\u001b[39m\u001b[38;5;124m'\u001b[39m):\n\u001b[0;32m----> 9\u001b[0m     history \u001b[38;5;241m=\u001b[39m \u001b[43mmodel\u001b[49m\u001b[38;5;241;43m.\u001b[39;49m\u001b[43mfit\u001b[49m\u001b[43m(\u001b[49m\u001b[43mX_train\u001b[49m\u001b[43m,\u001b[49m\u001b[43m \u001b[49m\u001b[43my_train\u001b[49m\u001b[43m,\u001b[49m\u001b[43m \u001b[49m\u001b[43mepochs\u001b[49m\u001b[38;5;241;43m=\u001b[39;49m\u001b[43mconfig\u001b[49m\u001b[38;5;241;43m.\u001b[39;49m\u001b[43mepoch\u001b[49m\u001b[43m,\u001b[49m\u001b[43m \u001b[49m\u001b[43mbatch_size\u001b[49m\u001b[38;5;241;43m=\u001b[39;49m\u001b[43mconfig\u001b[49m\u001b[38;5;241;43m.\u001b[39;49m\u001b[43mbatch_size\u001b[49m\u001b[43m,\u001b[49m\u001b[43m \u001b[49m\u001b[43mvalidation_data\u001b[49m\u001b[38;5;241;43m=\u001b[39;49m\u001b[43m(\u001b[49m\u001b[43mX_test\u001b[49m\u001b[43m,\u001b[49m\u001b[43m \u001b[49m\u001b[43my_test\u001b[49m\u001b[43m)\u001b[49m\u001b[43m,\u001b[49m\u001b[43m \u001b[49m\u001b[43mcallbacks\u001b[49m\u001b[38;5;241;43m=\u001b[39;49m\u001b[43m[\u001b[49m\u001b[43mearly_stop\u001b[49m\u001b[43m,\u001b[49m\u001b[43m \u001b[49m\u001b[43mWandbCallback\u001b[49m\u001b[43m(\u001b[49m\u001b[43m)\u001b[49m\u001b[43m,\u001b[49m\u001b[43m \u001b[49m\u001b[43mtf\u001b[49m\u001b[38;5;241;43m.\u001b[39;49m\u001b[43mkeras\u001b[49m\u001b[38;5;241;43m.\u001b[39;49m\u001b[43mcallbacks\u001b[49m\u001b[38;5;241;43m.\u001b[39;49m\u001b[43mHistory\u001b[49m\u001b[43m(\u001b[49m\u001b[43m)\u001b[49m\u001b[43m]\u001b[49m\u001b[43m)\u001b[49m\n\u001b[1;32m     11\u001b[0m \u001b[38;5;66;03m#Evaluate testing set\u001b[39;00m\n\u001b[1;32m     12\u001b[0m loss \u001b[38;5;241m=\u001b[39m model\u001b[38;5;241m.\u001b[39mevaluate(X_test, y_test)\n",
      "File \u001b[0;32m~/.conda/envs/cernroot/lib/python3.11/site-packages/wandb/integration/keras/keras.py:174\u001b[0m, in \u001b[0;36mpatch_tf_keras.<locals>.new_v2\u001b[0;34m(*args, **kwargs)\u001b[0m\n\u001b[1;32m    172\u001b[0m     \u001b[38;5;28;01mfor\u001b[39;00m cbk \u001b[38;5;129;01min\u001b[39;00m cbks:\n\u001b[1;32m    173\u001b[0m         set_wandb_attrs(cbk, val_data)\n\u001b[0;32m--> 174\u001b[0m \u001b[38;5;28;01mreturn\u001b[39;00m \u001b[43mold_v2\u001b[49m\u001b[43m(\u001b[49m\u001b[38;5;241;43m*\u001b[39;49m\u001b[43margs\u001b[49m\u001b[43m,\u001b[49m\u001b[43m \u001b[49m\u001b[38;5;241;43m*\u001b[39;49m\u001b[38;5;241;43m*\u001b[39;49m\u001b[43mkwargs\u001b[49m\u001b[43m)\u001b[49m\n",
      "File \u001b[0;32m~/.conda/envs/cernroot/lib/python3.11/site-packages/wandb/integration/keras/keras.py:174\u001b[0m, in \u001b[0;36mpatch_tf_keras.<locals>.new_v2\u001b[0;34m(*args, **kwargs)\u001b[0m\n\u001b[1;32m    172\u001b[0m     \u001b[38;5;28;01mfor\u001b[39;00m cbk \u001b[38;5;129;01min\u001b[39;00m cbks:\n\u001b[1;32m    173\u001b[0m         set_wandb_attrs(cbk, val_data)\n\u001b[0;32m--> 174\u001b[0m \u001b[38;5;28;01mreturn\u001b[39;00m \u001b[43mold_v2\u001b[49m\u001b[43m(\u001b[49m\u001b[38;5;241;43m*\u001b[39;49m\u001b[43margs\u001b[49m\u001b[43m,\u001b[49m\u001b[43m \u001b[49m\u001b[38;5;241;43m*\u001b[39;49m\u001b[38;5;241;43m*\u001b[39;49m\u001b[43mkwargs\u001b[49m\u001b[43m)\u001b[49m\n",
      "File \u001b[0;32m~/.conda/envs/cernroot/lib/python3.11/site-packages/wandb/integration/keras/keras.py:174\u001b[0m, in \u001b[0;36mpatch_tf_keras.<locals>.new_v2\u001b[0;34m(*args, **kwargs)\u001b[0m\n\u001b[1;32m    172\u001b[0m     \u001b[38;5;28;01mfor\u001b[39;00m cbk \u001b[38;5;129;01min\u001b[39;00m cbks:\n\u001b[1;32m    173\u001b[0m         set_wandb_attrs(cbk, val_data)\n\u001b[0;32m--> 174\u001b[0m \u001b[38;5;28;01mreturn\u001b[39;00m \u001b[43mold_v2\u001b[49m\u001b[43m(\u001b[49m\u001b[38;5;241;43m*\u001b[39;49m\u001b[43margs\u001b[49m\u001b[43m,\u001b[49m\u001b[43m \u001b[49m\u001b[38;5;241;43m*\u001b[39;49m\u001b[38;5;241;43m*\u001b[39;49m\u001b[43mkwargs\u001b[49m\u001b[43m)\u001b[49m\n",
      "File \u001b[0;32m~/.conda/envs/cernroot/lib/python3.11/site-packages/keras/utils/traceback_utils.py:65\u001b[0m, in \u001b[0;36mfilter_traceback.<locals>.error_handler\u001b[0;34m(*args, **kwargs)\u001b[0m\n\u001b[1;32m     63\u001b[0m filtered_tb \u001b[38;5;241m=\u001b[39m \u001b[38;5;28;01mNone\u001b[39;00m\n\u001b[1;32m     64\u001b[0m \u001b[38;5;28;01mtry\u001b[39;00m:\n\u001b[0;32m---> 65\u001b[0m     \u001b[38;5;28;01mreturn\u001b[39;00m \u001b[43mfn\u001b[49m\u001b[43m(\u001b[49m\u001b[38;5;241;43m*\u001b[39;49m\u001b[43margs\u001b[49m\u001b[43m,\u001b[49m\u001b[43m \u001b[49m\u001b[38;5;241;43m*\u001b[39;49m\u001b[38;5;241;43m*\u001b[39;49m\u001b[43mkwargs\u001b[49m\u001b[43m)\u001b[49m\n\u001b[1;32m     66\u001b[0m \u001b[38;5;28;01mexcept\u001b[39;00m \u001b[38;5;167;01mException\u001b[39;00m \u001b[38;5;28;01mas\u001b[39;00m e:\n\u001b[1;32m     67\u001b[0m     filtered_tb \u001b[38;5;241m=\u001b[39m _process_traceback_frames(e\u001b[38;5;241m.\u001b[39m__traceback__)\n",
      "File \u001b[0;32m~/.conda/envs/cernroot/lib/python3.11/site-packages/keras/engine/training.py:1685\u001b[0m, in \u001b[0;36mModel.fit\u001b[0;34m(self, x, y, batch_size, epochs, verbose, callbacks, validation_split, validation_data, shuffle, class_weight, sample_weight, initial_epoch, steps_per_epoch, validation_steps, validation_batch_size, validation_freq, max_queue_size, workers, use_multiprocessing)\u001b[0m\n\u001b[1;32m   1677\u001b[0m \u001b[38;5;28;01mwith\u001b[39;00m tf\u001b[38;5;241m.\u001b[39mprofiler\u001b[38;5;241m.\u001b[39mexperimental\u001b[38;5;241m.\u001b[39mTrace(\n\u001b[1;32m   1678\u001b[0m     \u001b[38;5;124m\"\u001b[39m\u001b[38;5;124mtrain\u001b[39m\u001b[38;5;124m\"\u001b[39m,\n\u001b[1;32m   1679\u001b[0m     epoch_num\u001b[38;5;241m=\u001b[39mepoch,\n\u001b[0;32m   (...)\u001b[0m\n\u001b[1;32m   1682\u001b[0m     _r\u001b[38;5;241m=\u001b[39m\u001b[38;5;241m1\u001b[39m,\n\u001b[1;32m   1683\u001b[0m ):\n\u001b[1;32m   1684\u001b[0m     callbacks\u001b[38;5;241m.\u001b[39mon_train_batch_begin(step)\n\u001b[0;32m-> 1685\u001b[0m     tmp_logs \u001b[38;5;241m=\u001b[39m \u001b[38;5;28;43mself\u001b[39;49m\u001b[38;5;241;43m.\u001b[39;49m\u001b[43mtrain_function\u001b[49m\u001b[43m(\u001b[49m\u001b[43miterator\u001b[49m\u001b[43m)\u001b[49m\n\u001b[1;32m   1686\u001b[0m     \u001b[38;5;28;01mif\u001b[39;00m data_handler\u001b[38;5;241m.\u001b[39mshould_sync:\n\u001b[1;32m   1687\u001b[0m         context\u001b[38;5;241m.\u001b[39masync_wait()\n",
      "File \u001b[0;32m~/.conda/envs/cernroot/lib/python3.11/site-packages/tensorflow/python/util/traceback_utils.py:150\u001b[0m, in \u001b[0;36mfilter_traceback.<locals>.error_handler\u001b[0;34m(*args, **kwargs)\u001b[0m\n\u001b[1;32m    148\u001b[0m filtered_tb \u001b[38;5;241m=\u001b[39m \u001b[38;5;28;01mNone\u001b[39;00m\n\u001b[1;32m    149\u001b[0m \u001b[38;5;28;01mtry\u001b[39;00m:\n\u001b[0;32m--> 150\u001b[0m   \u001b[38;5;28;01mreturn\u001b[39;00m \u001b[43mfn\u001b[49m\u001b[43m(\u001b[49m\u001b[38;5;241;43m*\u001b[39;49m\u001b[43margs\u001b[49m\u001b[43m,\u001b[49m\u001b[43m \u001b[49m\u001b[38;5;241;43m*\u001b[39;49m\u001b[38;5;241;43m*\u001b[39;49m\u001b[43mkwargs\u001b[49m\u001b[43m)\u001b[49m\n\u001b[1;32m    151\u001b[0m \u001b[38;5;28;01mexcept\u001b[39;00m \u001b[38;5;167;01mException\u001b[39;00m \u001b[38;5;28;01mas\u001b[39;00m e:\n\u001b[1;32m    152\u001b[0m   filtered_tb \u001b[38;5;241m=\u001b[39m _process_traceback_frames(e\u001b[38;5;241m.\u001b[39m__traceback__)\n",
      "File \u001b[0;32m~/.conda/envs/cernroot/lib/python3.11/site-packages/tensorflow/python/eager/polymorphic_function/polymorphic_function.py:894\u001b[0m, in \u001b[0;36mFunction.__call__\u001b[0;34m(self, *args, **kwds)\u001b[0m\n\u001b[1;32m    891\u001b[0m compiler \u001b[38;5;241m=\u001b[39m \u001b[38;5;124m\"\u001b[39m\u001b[38;5;124mxla\u001b[39m\u001b[38;5;124m\"\u001b[39m \u001b[38;5;28;01mif\u001b[39;00m \u001b[38;5;28mself\u001b[39m\u001b[38;5;241m.\u001b[39m_jit_compile \u001b[38;5;28;01melse\u001b[39;00m \u001b[38;5;124m\"\u001b[39m\u001b[38;5;124mnonXla\u001b[39m\u001b[38;5;124m\"\u001b[39m\n\u001b[1;32m    893\u001b[0m \u001b[38;5;28;01mwith\u001b[39;00m OptionalXlaContext(\u001b[38;5;28mself\u001b[39m\u001b[38;5;241m.\u001b[39m_jit_compile):\n\u001b[0;32m--> 894\u001b[0m   result \u001b[38;5;241m=\u001b[39m \u001b[38;5;28;43mself\u001b[39;49m\u001b[38;5;241;43m.\u001b[39;49m\u001b[43m_call\u001b[49m\u001b[43m(\u001b[49m\u001b[38;5;241;43m*\u001b[39;49m\u001b[43margs\u001b[49m\u001b[43m,\u001b[49m\u001b[43m \u001b[49m\u001b[38;5;241;43m*\u001b[39;49m\u001b[38;5;241;43m*\u001b[39;49m\u001b[43mkwds\u001b[49m\u001b[43m)\u001b[49m\n\u001b[1;32m    896\u001b[0m new_tracing_count \u001b[38;5;241m=\u001b[39m \u001b[38;5;28mself\u001b[39m\u001b[38;5;241m.\u001b[39mexperimental_get_tracing_count()\n\u001b[1;32m    897\u001b[0m without_tracing \u001b[38;5;241m=\u001b[39m (tracing_count \u001b[38;5;241m==\u001b[39m new_tracing_count)\n",
      "File \u001b[0;32m~/.conda/envs/cernroot/lib/python3.11/site-packages/tensorflow/python/eager/polymorphic_function/polymorphic_function.py:926\u001b[0m, in \u001b[0;36mFunction._call\u001b[0;34m(self, *args, **kwds)\u001b[0m\n\u001b[1;32m    923\u001b[0m   \u001b[38;5;28mself\u001b[39m\u001b[38;5;241m.\u001b[39m_lock\u001b[38;5;241m.\u001b[39mrelease()\n\u001b[1;32m    924\u001b[0m   \u001b[38;5;66;03m# In this case we have created variables on the first call, so we run the\u001b[39;00m\n\u001b[1;32m    925\u001b[0m   \u001b[38;5;66;03m# defunned version which is guaranteed to never create variables.\u001b[39;00m\n\u001b[0;32m--> 926\u001b[0m   \u001b[38;5;28;01mreturn\u001b[39;00m \u001b[38;5;28;43mself\u001b[39;49m\u001b[38;5;241;43m.\u001b[39;49m\u001b[43m_no_variable_creation_fn\u001b[49m\u001b[43m(\u001b[49m\u001b[38;5;241;43m*\u001b[39;49m\u001b[43margs\u001b[49m\u001b[43m,\u001b[49m\u001b[43m \u001b[49m\u001b[38;5;241;43m*\u001b[39;49m\u001b[38;5;241;43m*\u001b[39;49m\u001b[43mkwds\u001b[49m\u001b[43m)\u001b[49m  \u001b[38;5;66;03m# pylint: disable=not-callable\u001b[39;00m\n\u001b[1;32m    927\u001b[0m \u001b[38;5;28;01melif\u001b[39;00m \u001b[38;5;28mself\u001b[39m\u001b[38;5;241m.\u001b[39m_variable_creation_fn \u001b[38;5;129;01mis\u001b[39;00m \u001b[38;5;129;01mnot\u001b[39;00m \u001b[38;5;28;01mNone\u001b[39;00m:\n\u001b[1;32m    928\u001b[0m   \u001b[38;5;66;03m# Release the lock early so that multiple threads can perform the call\u001b[39;00m\n\u001b[1;32m    929\u001b[0m   \u001b[38;5;66;03m# in parallel.\u001b[39;00m\n\u001b[1;32m    930\u001b[0m   \u001b[38;5;28mself\u001b[39m\u001b[38;5;241m.\u001b[39m_lock\u001b[38;5;241m.\u001b[39mrelease()\n",
      "File \u001b[0;32m~/.conda/envs/cernroot/lib/python3.11/site-packages/tensorflow/python/eager/polymorphic_function/tracing_compiler.py:143\u001b[0m, in \u001b[0;36mTracingCompiler.__call__\u001b[0;34m(self, *args, **kwargs)\u001b[0m\n\u001b[1;32m    140\u001b[0m \u001b[38;5;28;01mwith\u001b[39;00m \u001b[38;5;28mself\u001b[39m\u001b[38;5;241m.\u001b[39m_lock:\n\u001b[1;32m    141\u001b[0m   (concrete_function,\n\u001b[1;32m    142\u001b[0m    filtered_flat_args) \u001b[38;5;241m=\u001b[39m \u001b[38;5;28mself\u001b[39m\u001b[38;5;241m.\u001b[39m_maybe_define_function(args, kwargs)\n\u001b[0;32m--> 143\u001b[0m \u001b[38;5;28;01mreturn\u001b[39;00m \u001b[43mconcrete_function\u001b[49m\u001b[38;5;241;43m.\u001b[39;49m\u001b[43m_call_flat\u001b[49m\u001b[43m(\u001b[49m\n\u001b[1;32m    144\u001b[0m \u001b[43m    \u001b[49m\u001b[43mfiltered_flat_args\u001b[49m\u001b[43m,\u001b[49m\u001b[43m \u001b[49m\u001b[43mcaptured_inputs\u001b[49m\u001b[38;5;241;43m=\u001b[39;49m\u001b[43mconcrete_function\u001b[49m\u001b[38;5;241;43m.\u001b[39;49m\u001b[43mcaptured_inputs\u001b[49m\u001b[43m)\u001b[49m\n",
      "File \u001b[0;32m~/.conda/envs/cernroot/lib/python3.11/site-packages/tensorflow/python/eager/polymorphic_function/monomorphic_function.py:1757\u001b[0m, in \u001b[0;36mConcreteFunction._call_flat\u001b[0;34m(self, args, captured_inputs, cancellation_manager)\u001b[0m\n\u001b[1;32m   1753\u001b[0m possible_gradient_type \u001b[38;5;241m=\u001b[39m gradients_util\u001b[38;5;241m.\u001b[39mPossibleTapeGradientTypes(args)\n\u001b[1;32m   1754\u001b[0m \u001b[38;5;28;01mif\u001b[39;00m (possible_gradient_type \u001b[38;5;241m==\u001b[39m gradients_util\u001b[38;5;241m.\u001b[39mPOSSIBLE_GRADIENT_TYPES_NONE\n\u001b[1;32m   1755\u001b[0m     \u001b[38;5;129;01mand\u001b[39;00m executing_eagerly):\n\u001b[1;32m   1756\u001b[0m   \u001b[38;5;66;03m# No tape is watching; skip to running the function.\u001b[39;00m\n\u001b[0;32m-> 1757\u001b[0m   \u001b[38;5;28;01mreturn\u001b[39;00m \u001b[38;5;28mself\u001b[39m\u001b[38;5;241m.\u001b[39m_build_call_outputs(\u001b[38;5;28;43mself\u001b[39;49m\u001b[38;5;241;43m.\u001b[39;49m\u001b[43m_inference_function\u001b[49m\u001b[38;5;241;43m.\u001b[39;49m\u001b[43mcall\u001b[49m\u001b[43m(\u001b[49m\n\u001b[1;32m   1758\u001b[0m \u001b[43m      \u001b[49m\u001b[43mctx\u001b[49m\u001b[43m,\u001b[49m\u001b[43m \u001b[49m\u001b[43margs\u001b[49m\u001b[43m,\u001b[49m\u001b[43m \u001b[49m\u001b[43mcancellation_manager\u001b[49m\u001b[38;5;241;43m=\u001b[39;49m\u001b[43mcancellation_manager\u001b[49m\u001b[43m)\u001b[49m)\n\u001b[1;32m   1759\u001b[0m forward_backward \u001b[38;5;241m=\u001b[39m \u001b[38;5;28mself\u001b[39m\u001b[38;5;241m.\u001b[39m_select_forward_and_backward_functions(\n\u001b[1;32m   1760\u001b[0m     args,\n\u001b[1;32m   1761\u001b[0m     possible_gradient_type,\n\u001b[1;32m   1762\u001b[0m     executing_eagerly)\n\u001b[1;32m   1763\u001b[0m forward_function, args_with_tangents \u001b[38;5;241m=\u001b[39m forward_backward\u001b[38;5;241m.\u001b[39mforward()\n",
      "File \u001b[0;32m~/.conda/envs/cernroot/lib/python3.11/site-packages/tensorflow/python/eager/polymorphic_function/monomorphic_function.py:381\u001b[0m, in \u001b[0;36m_EagerDefinedFunction.call\u001b[0;34m(self, ctx, args, cancellation_manager)\u001b[0m\n\u001b[1;32m    379\u001b[0m \u001b[38;5;28;01mwith\u001b[39;00m _InterpolateFunctionError(\u001b[38;5;28mself\u001b[39m):\n\u001b[1;32m    380\u001b[0m   \u001b[38;5;28;01mif\u001b[39;00m cancellation_manager \u001b[38;5;129;01mis\u001b[39;00m \u001b[38;5;28;01mNone\u001b[39;00m:\n\u001b[0;32m--> 381\u001b[0m     outputs \u001b[38;5;241m=\u001b[39m \u001b[43mexecute\u001b[49m\u001b[38;5;241;43m.\u001b[39;49m\u001b[43mexecute\u001b[49m\u001b[43m(\u001b[49m\n\u001b[1;32m    382\u001b[0m \u001b[43m        \u001b[49m\u001b[38;5;28;43mstr\u001b[39;49m\u001b[43m(\u001b[49m\u001b[38;5;28;43mself\u001b[39;49m\u001b[38;5;241;43m.\u001b[39;49m\u001b[43msignature\u001b[49m\u001b[38;5;241;43m.\u001b[39;49m\u001b[43mname\u001b[49m\u001b[43m)\u001b[49m\u001b[43m,\u001b[49m\n\u001b[1;32m    383\u001b[0m \u001b[43m        \u001b[49m\u001b[43mnum_outputs\u001b[49m\u001b[38;5;241;43m=\u001b[39;49m\u001b[38;5;28;43mself\u001b[39;49m\u001b[38;5;241;43m.\u001b[39;49m\u001b[43m_num_outputs\u001b[49m\u001b[43m,\u001b[49m\n\u001b[1;32m    384\u001b[0m \u001b[43m        \u001b[49m\u001b[43minputs\u001b[49m\u001b[38;5;241;43m=\u001b[39;49m\u001b[43margs\u001b[49m\u001b[43m,\u001b[49m\n\u001b[1;32m    385\u001b[0m \u001b[43m        \u001b[49m\u001b[43mattrs\u001b[49m\u001b[38;5;241;43m=\u001b[39;49m\u001b[43mattrs\u001b[49m\u001b[43m,\u001b[49m\n\u001b[1;32m    386\u001b[0m \u001b[43m        \u001b[49m\u001b[43mctx\u001b[49m\u001b[38;5;241;43m=\u001b[39;49m\u001b[43mctx\u001b[49m\u001b[43m)\u001b[49m\n\u001b[1;32m    387\u001b[0m   \u001b[38;5;28;01melse\u001b[39;00m:\n\u001b[1;32m    388\u001b[0m     outputs \u001b[38;5;241m=\u001b[39m execute\u001b[38;5;241m.\u001b[39mexecute_with_cancellation(\n\u001b[1;32m    389\u001b[0m         \u001b[38;5;28mstr\u001b[39m(\u001b[38;5;28mself\u001b[39m\u001b[38;5;241m.\u001b[39msignature\u001b[38;5;241m.\u001b[39mname),\n\u001b[1;32m    390\u001b[0m         num_outputs\u001b[38;5;241m=\u001b[39m\u001b[38;5;28mself\u001b[39m\u001b[38;5;241m.\u001b[39m_num_outputs,\n\u001b[0;32m   (...)\u001b[0m\n\u001b[1;32m    393\u001b[0m         ctx\u001b[38;5;241m=\u001b[39mctx,\n\u001b[1;32m    394\u001b[0m         cancellation_manager\u001b[38;5;241m=\u001b[39mcancellation_manager)\n",
      "File \u001b[0;32m~/.conda/envs/cernroot/lib/python3.11/site-packages/tensorflow/python/eager/execute.py:52\u001b[0m, in \u001b[0;36mquick_execute\u001b[0;34m(op_name, num_outputs, inputs, attrs, ctx, name)\u001b[0m\n\u001b[1;32m     50\u001b[0m \u001b[38;5;28;01mtry\u001b[39;00m:\n\u001b[1;32m     51\u001b[0m   ctx\u001b[38;5;241m.\u001b[39mensure_initialized()\n\u001b[0;32m---> 52\u001b[0m   tensors \u001b[38;5;241m=\u001b[39m \u001b[43mpywrap_tfe\u001b[49m\u001b[38;5;241;43m.\u001b[39;49m\u001b[43mTFE_Py_Execute\u001b[49m\u001b[43m(\u001b[49m\u001b[43mctx\u001b[49m\u001b[38;5;241;43m.\u001b[39;49m\u001b[43m_handle\u001b[49m\u001b[43m,\u001b[49m\u001b[43m \u001b[49m\u001b[43mdevice_name\u001b[49m\u001b[43m,\u001b[49m\u001b[43m \u001b[49m\u001b[43mop_name\u001b[49m\u001b[43m,\u001b[49m\n\u001b[1;32m     53\u001b[0m \u001b[43m                                      \u001b[49m\u001b[43minputs\u001b[49m\u001b[43m,\u001b[49m\u001b[43m \u001b[49m\u001b[43mattrs\u001b[49m\u001b[43m,\u001b[49m\u001b[43m \u001b[49m\u001b[43mnum_outputs\u001b[49m\u001b[43m)\u001b[49m\n\u001b[1;32m     54\u001b[0m \u001b[38;5;28;01mexcept\u001b[39;00m core\u001b[38;5;241m.\u001b[39m_NotOkStatusException \u001b[38;5;28;01mas\u001b[39;00m e:\n\u001b[1;32m     55\u001b[0m   \u001b[38;5;28;01mif\u001b[39;00m name \u001b[38;5;129;01mis\u001b[39;00m \u001b[38;5;129;01mnot\u001b[39;00m \u001b[38;5;28;01mNone\u001b[39;00m:\n",
      "\u001b[0;31mKeyboardInterrupt\u001b[0m: "
     ]
    },
    {
     "name": "stderr",
     "output_type": "stream",
     "text": [
      "2023-04-24 05:18:26.279617: I tensorflow/core/common_runtime/executor.cc:1197] [/device:CPU:0] (DEBUG INFO) Executor start aborting (this does not indicate an error and you can ignore this message): INVALID_ARGUMENT: You must feed a value for placeholder tensor 'inputs' with dtype float and shape [?,64]\n",
      "\t [[{{node inputs}}]]\n",
      "2023-04-24 05:18:26.288981: I tensorflow/core/common_runtime/executor.cc:1197] [/device:CPU:0] (DEBUG INFO) Executor start aborting (this does not indicate an error and you can ignore this message): INVALID_ARGUMENT: You must feed a value for placeholder tensor 'inputs' with dtype float and shape [?,32]\n",
      "\t [[{{node inputs}}]]\n",
      "2023-04-24 05:18:26.390111: I tensorflow/core/common_runtime/executor.cc:1197] [/device:CPU:0] (DEBUG INFO) Executor start aborting (this does not indicate an error and you can ignore this message): INVALID_ARGUMENT: You must feed a value for placeholder tensor 'inputs' with dtype float and shape [?,64]\n",
      "\t [[{{node inputs}}]]\n",
      "2023-04-24 05:18:26.411709: I tensorflow/core/common_runtime/executor.cc:1197] [/device:CPU:0] (DEBUG INFO) Executor start aborting (this does not indicate an error and you can ignore this message): INVALID_ARGUMENT: You must feed a value for placeholder tensor 'inputs' with dtype float and shape [?,32]\n",
      "\t [[{{node inputs}}]]\n",
      "2023-04-24 05:19:11.715599: I tensorflow/core/common_runtime/executor.cc:1197] [/device:CPU:0] (DEBUG INFO) Executor start aborting (this does not indicate an error and you can ignore this message): INVALID_ARGUMENT: You must feed a value for placeholder tensor 'inputs' with dtype float and shape [?,64]\n",
      "\t [[{{node inputs}}]]\n",
      "2023-04-24 05:19:11.724832: I tensorflow/core/common_runtime/executor.cc:1197] [/device:CPU:0] (DEBUG INFO) Executor start aborting (this does not indicate an error and you can ignore this message): INVALID_ARGUMENT: You must feed a value for placeholder tensor 'inputs' with dtype float and shape [?,32]\n",
      "\t [[{{node inputs}}]]\n",
      "2023-04-24 05:19:11.817856: I tensorflow/core/common_runtime/executor.cc:1197] [/device:CPU:0] (DEBUG INFO) Executor start aborting (this does not indicate an error and you can ignore this message): INVALID_ARGUMENT: You must feed a value for placeholder tensor 'inputs' with dtype float and shape [?,64]\n",
      "\t [[{{node inputs}}]]\n",
      "2023-04-24 05:19:11.838635: I tensorflow/core/common_runtime/executor.cc:1197] [/device:CPU:0] (DEBUG INFO) Executor start aborting (this does not indicate an error and you can ignore this message): INVALID_ARGUMENT: You must feed a value for placeholder tensor 'inputs' with dtype float and shape [?,32]\n",
      "\t [[{{node inputs}}]]\n",
      "2023-04-24 05:19:56.933621: I tensorflow/core/common_runtime/executor.cc:1197] [/device:CPU:0] (DEBUG INFO) Executor start aborting (this does not indicate an error and you can ignore this message): INVALID_ARGUMENT: You must feed a value for placeholder tensor 'inputs' with dtype float and shape [?,64]\n",
      "\t [[{{node inputs}}]]\n",
      "2023-04-24 05:19:56.943393: I tensorflow/core/common_runtime/executor.cc:1197] [/device:CPU:0] (DEBUG INFO) Executor start aborting (this does not indicate an error and you can ignore this message): INVALID_ARGUMENT: You must feed a value for placeholder tensor 'inputs' with dtype float and shape [?,32]\n",
      "\t [[{{node inputs}}]]\n",
      "2023-04-24 05:19:57.029193: I tensorflow/core/common_runtime/executor.cc:1197] [/device:CPU:0] (DEBUG INFO) Executor start aborting (this does not indicate an error and you can ignore this message): INVALID_ARGUMENT: You must feed a value for placeholder tensor 'inputs' with dtype float and shape [?,64]\n",
      "\t [[{{node inputs}}]]\n",
      "2023-04-24 05:19:57.049100: I tensorflow/core/common_runtime/executor.cc:1197] [/device:CPU:0] (DEBUG INFO) Executor start aborting (this does not indicate an error and you can ignore this message): INVALID_ARGUMENT: You must feed a value for placeholder tensor 'inputs' with dtype float and shape [?,32]\n",
      "\t [[{{node inputs}}]]\n",
      "2023-04-24 05:20:41.816128: I tensorflow/core/common_runtime/executor.cc:1197] [/device:CPU:0] (DEBUG INFO) Executor start aborting (this does not indicate an error and you can ignore this message): INVALID_ARGUMENT: You must feed a value for placeholder tensor 'inputs' with dtype float and shape [?,64]\n",
      "\t [[{{node inputs}}]]\n",
      "2023-04-24 05:20:41.825300: I tensorflow/core/common_runtime/executor.cc:1197] [/device:CPU:0] (DEBUG INFO) Executor start aborting (this does not indicate an error and you can ignore this message): INVALID_ARGUMENT: You must feed a value for placeholder tensor 'inputs' with dtype float and shape [?,32]\n",
      "\t [[{{node inputs}}]]\n",
      "2023-04-24 05:20:41.917814: I tensorflow/core/common_runtime/executor.cc:1197] [/device:CPU:0] (DEBUG INFO) Executor start aborting (this does not indicate an error and you can ignore this message): INVALID_ARGUMENT: You must feed a value for placeholder tensor 'inputs' with dtype float and shape [?,64]\n",
      "\t [[{{node inputs}}]]\n",
      "2023-04-24 05:20:41.940200: I tensorflow/core/common_runtime/executor.cc:1197] [/device:CPU:0] (DEBUG INFO) Executor start aborting (this does not indicate an error and you can ignore this message): INVALID_ARGUMENT: You must feed a value for placeholder tensor 'inputs' with dtype float and shape [?,32]\n",
      "\t [[{{node inputs}}]]\n",
      "2023-04-24 05:21:26.348759: I tensorflow/core/common_runtime/executor.cc:1197] [/device:CPU:0] (DEBUG INFO) Executor start aborting (this does not indicate an error and you can ignore this message): INVALID_ARGUMENT: You must feed a value for placeholder tensor 'inputs' with dtype float and shape [?,64]\n",
      "\t [[{{node inputs}}]]\n",
      "2023-04-24 05:21:26.357990: I tensorflow/core/common_runtime/executor.cc:1197] [/device:CPU:0] (DEBUG INFO) Executor start aborting (this does not indicate an error and you can ignore this message): INVALID_ARGUMENT: You must feed a value for placeholder tensor 'inputs' with dtype float and shape [?,32]\n",
      "\t [[{{node inputs}}]]\n",
      "2023-04-24 05:21:26.451112: I tensorflow/core/common_runtime/executor.cc:1197] [/device:CPU:0] (DEBUG INFO) Executor start aborting (this does not indicate an error and you can ignore this message): INVALID_ARGUMENT: You must feed a value for placeholder tensor 'inputs' with dtype float and shape [?,64]\n",
      "\t [[{{node inputs}}]]\n",
      "2023-04-24 05:21:26.472826: I tensorflow/core/common_runtime/executor.cc:1197] [/device:CPU:0] (DEBUG INFO) Executor start aborting (this does not indicate an error and you can ignore this message): INVALID_ARGUMENT: You must feed a value for placeholder tensor 'inputs' with dtype float and shape [?,32]\n",
      "\t [[{{node inputs}}]]\n"
     ]
    }
   ],
   "source": [
    "#Compile\n",
    "start_time = time.time()\n",
    "\n",
    "model.compile(optimizer=config.optimizer, loss=config.loss, metrics=[custom_accuracy])\n",
    "\n",
    "early_stop = EarlyStopping(monitor='val_loss', patience=3, verbose=1, mode='min')\n",
    "#Train\n",
    "with tf.device('/gpu:0'):\n",
    "    history = model.fit(X_train, y_train, epochs=config.epoch, batch_size=config.batch_size, validation_data=(X_test, y_test), callbacks=[early_stop, WandbCallback(), tf.keras.callbacks.History()])\n",
    "\n",
    "#Evaluate testing set\n",
    "loss = model.evaluate(X_test, y_test)\n",
    "print(\"Loss: {}\".format(loss))\n",
    "\n",
    "end_time = time.time()\n",
    "runtime = end_time - start_time\n",
    "print(\"Training runtime:\", runtime, \"seconds\")"
   ]
  },
  {
   "cell_type": "code",
   "execution_count": 266,
   "id": "c51c2995-8b37-451a-a2a6-e6b0eef781b7",
   "metadata": {},
   "outputs": [
    {
     "data": {
      "text/html": [
       "Waiting for W&B process to finish... <strong style=\"color:green\">(success).</strong>"
      ],
      "text/plain": [
       "<IPython.core.display.HTML object>"
      ]
     },
     "metadata": {},
     "output_type": "display_data"
    },
    {
     "data": {
      "text/html": [
       "<style>\n",
       "    table.wandb td:nth-child(1) { padding: 0 10px; text-align: left ; width: auto;} td:nth-child(2) {text-align: left ; width: 100%}\n",
       "    .wandb-row { display: flex; flex-direction: row; flex-wrap: wrap; justify-content: flex-start; width: 100% }\n",
       "    .wandb-col { display: flex; flex-direction: column; flex-basis: 100%; flex: 1; padding: 10px; }\n",
       "    </style>\n",
       "<div class=\"wandb-row\"><div class=\"wandb-col\"><h3>Run history:</h3><br/><table class=\"wandb\"><tr><td>custom_accuracy</td><td>▁▅▇▇█</td></tr><tr><td>epoch</td><td>▁▃▅▆█</td></tr><tr><td>loss</td><td>█▄▂▁▁</td></tr><tr><td>val_custom_accuracy</td><td>▁▅▅██</td></tr><tr><td>val_loss</td><td>█▄▄▁▁</td></tr></table><br/></div><div class=\"wandb-col\"><h3>Run summary:</h3><br/><table class=\"wandb\"><tr><td>best_epoch</td><td>4</td></tr><tr><td>best_val_loss</td><td>0.34266</td></tr><tr><td>custom_accuracy</td><td>0.83534</td></tr><tr><td>epoch</td><td>4</td></tr><tr><td>loss</td><td>0.38187</td></tr><tr><td>val_custom_accuracy</td><td>0.85064</td></tr><tr><td>val_loss</td><td>0.34266</td></tr></table><br/></div></div>"
      ],
      "text/plain": [
       "<IPython.core.display.HTML object>"
      ]
     },
     "metadata": {},
     "output_type": "display_data"
    },
    {
     "data": {
      "text/html": [
       " View run <strong style=\"color:#cdcd00\">fanciful-plasma-63</strong> at: <a href='https://wandb.ai/atlasdnn/ATLAS_DNN/runs/ra54zj4q' target=\"_blank\">https://wandb.ai/atlasdnn/ATLAS_DNN/runs/ra54zj4q</a><br/>Synced 6 W&B file(s), 1 media file(s), 25 artifact file(s) and 0 other file(s)"
      ],
      "text/plain": [
       "<IPython.core.display.HTML object>"
      ]
     },
     "metadata": {},
     "output_type": "display_data"
    },
    {
     "data": {
      "text/html": [
       "Find logs at: <code>./wandb/run-20230424_051713-ra54zj4q/logs</code>"
      ],
      "text/plain": [
       "<IPython.core.display.HTML object>"
      ]
     },
     "metadata": {},
     "output_type": "display_data"
    }
   ],
   "source": [
    "wandb.finish()"
   ]
  },
  {
   "cell_type": "markdown",
   "id": "6762b384-00da-4be7-bdab-658c78b38bd8",
   "metadata": {},
   "source": [
    "------------------------------------------ Finished training, now analyze ------------------------------------------"
   ]
  },
  {
   "cell_type": "code",
   "execution_count": 268,
   "id": "e18b441c-207f-402e-8a4c-b1c8a7f86de0",
   "metadata": {},
   "outputs": [
    {
     "data": {
      "image/png": "[encoded data removed]",
      "text/plain": [
       "<Figure size 640x480 with 1 Axes>"
      ]
     },
     "metadata": {},
     "output_type": "display_data"
    }
   ],
   "source": [
    "# Plot the training and validation loss\n",
    "plt.plot(history.history['loss'])\n",
    "plt.plot(history.history['val_loss'])\n",
    "plt.title('Model Loss')\n",
    "plt.ylabel('Loss')\n",
    "plt.xlabel('Epoch')\n",
    "plt.legend(['Train', 'Validation'], loc='upper right')\n",
    "plt.show()"
   ]
  },
  {
   "cell_type": "code",
   "execution_count": 269,
   "id": "16ec2ba3-002e-489f-a0a4-a087894d71c2",
   "metadata": {},
   "outputs": [
    {
     "name": "stdout",
     "output_type": "stream",
     "text": [
      "6249/6249 [==============================] - 4s 553us/step\n"
     ]
    },
    {
     "data": {
      "text/plain": [
       "array([[9.4804347e-01],\n",
       "       [8.0190349e-01],\n",
       "       [7.5376469e-01],\n",
       "       [9.5698923e-01],\n",
       "       [3.6306021e-05],\n",
       "       [1.4722027e-02],\n",
       "       [9.9941671e-01],\n",
       "       [3.7923232e-01],\n",
       "       [3.8550055e-04],\n",
       "       [9.9998748e-01]], dtype=float32)"
      ]
     },
     "execution_count": 269,
     "metadata": {},
     "output_type": "execute_result"
    }
   ],
   "source": [
    "predictions_both = model.predict(X_test)\n",
    "predictions_both[:10]"
   ]
  },
  {
   "cell_type": "code",
   "execution_count": 270,
   "id": "4a31e0ad-5770-42c8-a6b1-6f93a797adc6",
   "metadata": {},
   "outputs": [
    {
     "name": "stdout",
     "output_type": "stream",
     "text": [
      "2535/2535 [==============================] - 1s 573us/step\n"
     ]
    },
    {
     "data": {
      "text/plain": [
       "array([[1.02980837e-01],\n",
       "       [4.51923907e-01],\n",
       "       [1.04708359e-01],\n",
       "       [4.31195140e-01],\n",
       "       [3.19472700e-02],\n",
       "       [8.15236941e-03],\n",
       "       [8.74401629e-03],\n",
       "       [2.08178945e-02],\n",
       "       [5.29839950e-10],\n",
       "       [1.11935794e-01]], dtype=float32)"
      ]
     },
     "execution_count": 270,
     "metadata": {},
     "output_type": "execute_result"
    }
   ],
   "source": [
    "predictions_background = model.predict(X_test1)\n",
    "predictions_background[:10]"
   ]
  },
  {
   "cell_type": "code",
   "execution_count": 271,
   "id": "691d943d-649d-46bc-8900-eee623a49f70",
   "metadata": {},
   "outputs": [
    {
     "name": "stdout",
     "output_type": "stream",
     "text": [
      "3714/3714 [==============================] - 2s 565us/step\n"
     ]
    },
    {
     "data": {
      "text/plain": [
       "array([[0.9059773 ],\n",
       "       [0.9161223 ],\n",
       "       [0.7847419 ],\n",
       "       [0.9557808 ],\n",
       "       [0.77664924],\n",
       "       [0.9973803 ],\n",
       "       [0.9527624 ],\n",
       "       [0.76218593],\n",
       "       [0.7181569 ],\n",
       "       [0.76564544]], dtype=float32)"
      ]
     },
     "execution_count": 271,
     "metadata": {},
     "output_type": "execute_result"
    }
   ],
   "source": [
    "predictions_signal = model.predict(X_test2)\n",
    "predictions_signal[:10]"
   ]
  },
  {
   "cell_type": "code",
   "execution_count": 272,
   "id": "3a685fcf-1cd5-4478-b5ca-b1ee1f483e9e",
   "metadata": {},
   "outputs": [
    {
     "name": "stdout",
     "output_type": "stream",
     "text": [
      "Accuracy for Both: 84.20%\n",
      "Accuracy for Only Background: 66.81%\n",
      "Accuracy for Only Signal: 96.07%\n"
     ]
    }
   ],
   "source": [
    "#predict accuract given y_test and predictions from model\n",
    "def pred_accuracy(y_test, predictions):\n",
    "    D_count, Lambda_count = 0, 0\n",
    "\n",
    "    predictions_list = []\n",
    "    for pred in predictions:\n",
    "        #arbitrary cutoff of 0.5\n",
    "        if float(pred) > 0.5:\n",
    "            predictions_list.append(int(1))\n",
    "            Lambda_count+=1\n",
    "        elif float(pred) < 0.5:\n",
    "            predictions_list.append(int(0))\n",
    "            D_count+=1\n",
    "            \n",
    "    accuracy = np.mean(predictions_list == y_test)\n",
    "    \n",
    "    # print(\"$D^+$ Count: {}\".format(D_count))\n",
    "    # print(\"$\\Lambda_C^+ Count: {}\".format(Lambda_count))\n",
    "    \n",
    "    return accuracy\n",
    "\n",
    "accuracy_both = pred_accuracy(y_test, list(predictions_both))\n",
    "accuracy_background = pred_accuracy(y_test1, list(predictions_background))\n",
    "accuracy_signal = pred_accuracy(y_test2, list(predictions_signal))\n",
    "\n",
    "print(\"Accuracy for Both: {:.2%}\".format(accuracy_both))\n",
    "print(\"Accuracy for Only Background: {:.2%}\".format(accuracy_background))\n",
    "print(\"Accuracy for Only Signal: {:.2%}\".format(accuracy_signal))"
   ]
  },
  {
   "cell_type": "code",
   "execution_count": 273,
   "id": "4c231cdf-49c7-4f4d-864c-8f38d62c3847",
   "metadata": {},
   "outputs": [
    {
     "data": {
      "image/png": "[encoded data removed]",
      "text/plain": [
       "<Figure size 640x480 with 1 Axes>"
      ]
     },
     "metadata": {},
     "output_type": "display_data"
    }
   ],
   "source": [
    "hist = plt.hist(predictions_background, bins = 50, label = \"$D^{+}$ Predictions\", alpha=0.5)\n",
    "hist2 = plt.hist(predictions_signal, bins = 50, label = \"$\\Lambda_C^{+}$ Predictions\", alpha=0.5)\n",
    "plt.xlabel(\"score\")\n",
    "plt.ylabel(\"count\")\n",
    "plt.title(\"Predictions Count vs Score (D+ & $\\Lambda$ Hypothesis with Daughter Info (p_t)\")\n",
    "plt.legend()\n",
    "plt.show()"
   ]
  },
  {
   "cell_type": "code",
   "execution_count": 208,
   "id": "38f6bd93-a366-496a-9e5d-daea55ed8021",
   "metadata": {},
   "outputs": [
    {
     "data": {
      "image/png": "[encoded data removed]",
      "text/plain": [
       "<Figure size 640x480 with 1 Axes>"
      ]
     },
     "metadata": {},
     "output_type": "display_data"
    }
   ],
   "source": [
    "# Get true labels and predicted probabilities\n",
    "y_true = list(y_test)\n",
    "y_pred = predictions_both\n",
    "\n",
    "# Calculate TPR and FPR for different threshold values\n",
    "fpr, tpr, thresholds = roc_curve(y_true, y_pred)\n",
    "\n",
    "# Plot ROC curve\n",
    "plt.plot(fpr, tpr)\n",
    "plt.xlabel('False Positive Rate')\n",
    "plt.ylabel('True Positive Rate')\n",
    "plt.title('ROC Curve')\n",
    "plt.show()"
   ]
  },
  {
   "cell_type": "code",
   "execution_count": null,
   "id": "b4ad1a23-f36a-4b5a-aa02-92c6246d47d3",
   "metadata": {},
   "outputs": [],
   "source": []
  }
 ],
 "metadata": {
  "kernelspec": {
   "display_name": "cernROOT",
   "language": "python",
   "name": "cernroot"
  },
  "language_info": {
   "codemirror_mode": {
    "name": "ipython",
    "version": 3
   },
   "file_extension": ".py",
   "mimetype": "text/x-python",
   "name": "python",
   "nbconvert_exporter": "python",
   "pygments_lexer": "ipython3",
   "version": "3.11.0"
  }
 },
 "nbformat": 4,
 "nbformat_minor": 5
}
