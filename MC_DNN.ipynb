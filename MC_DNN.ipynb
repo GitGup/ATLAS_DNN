{
 "cells": [
  {
   "cell_type": "code",
   "execution_count": 1,
   "id": "31a7a761-3ae0-4c84-9f77-ec0c8ec1b6b7",
   "metadata": {},
   "outputs": [
    {
     "name": "stdout",
     "output_type": "stream",
     "text": [
      "Welcome to JupyROOT 6.28/00\n"
     ]
    },
    {
     "name": "stderr",
     "output_type": "stream",
     "text": [
      "2023-04-17 07:36:17.116701: I tensorflow/core/platform/cpu_feature_guard.cc:182] This TensorFlow binary is optimized to use available CPU instructions in performance-critical operations.\n",
      "To enable the following instructions: AVX2 FMA, in other operations, rebuild TensorFlow with the appropriate compiler flags.\n",
      "2023-04-17 07:36:19.044541: W tensorflow/compiler/tf2tensorrt/utils/py_utils.cc:38] TF-TRT Warning: Could not find TensorRT\n"
     ]
    }
   ],
   "source": [
    "from common import *\n",
    "from process_ntuples import *\n",
    "from process_df import *\n",
    "from plotting import *\n",
    "from cuts import apply_cuts, apply_pt_cut\n",
    "import matplotlib.pyplot as plt\n",
    "import pickle\n",
    "\n",
    "import tensorflow as tf\n",
    "from tensorflow.keras import Model\n",
    "from keras.models import Sequential\n",
    "from keras.layers import Dense, Dropout, Activation\n",
    "from keras import layers\n",
    "\n",
    "from sklearn.preprocessing import StandardScaler\n",
    "from sklearn.model_selection import train_test_split\n",
    "\n",
    "from tensorflow.keras.callbacks import EarlyStopping\n",
    "\n",
    "#weights and biases imports\n",
    "import wandb\n",
    "from wandb.keras import WandbMetricsLogger, WandbModelCheckpoint, WandbCallback"
   ]
  },
  {
   "cell_type": "markdown",
   "id": "c874c9a6-beab-488b-8a31-9fe628c93d4e",
   "metadata": {},
   "source": [
    "$D^{+}$ : 411\n",
    "\n",
    "$\\Lambda_C^{+}$ : 4122\n",
    "\n",
    "Apply Cuts Fiducial Region cuts ($𝐷^{+}$ $𝑝_T$ > 8 GeV, |𝜂| < 2.2). ***See cuts.py on how the cuts are applied***"
   ]
  },
  {
   "cell_type": "code",
   "execution_count": 2,
   "id": "b01cad53-02f2-432b-aa7a-a88ae45eb0d2",
   "metadata": {},
   "outputs": [
    {
     "name": "stdout",
     "output_type": "stream",
     "text": [
      "[]\n",
      "Num GPUs Available:  0\n"
     ]
    },
    {
     "name": "stderr",
     "output_type": "stream",
     "text": [
      "2023-04-16 21:17:16.368459: E tensorflow/compiler/xla/stream_executor/cuda/cuda_driver.cc:266] failed call to cuInit: CUDA_ERROR_NO_DEVICE: no CUDA-capable device is detected\n"
     ]
    }
   ],
   "source": [
    "print(tf.config.list_physical_devices('GPU'))\n",
    "# Check if tensorflow is using GPU\n",
    "print(\"Num GPUs Available: \", len(tf.config.list_physical_devices('GPU')))"
   ]
  },
  {
   "cell_type": "code",
   "execution_count": 2,
   "id": "04c3b3b8-44f1-4c2e-b001-900d504b7e41",
   "metadata": {},
   "outputs": [
    {
     "name": "stdout",
     "output_type": "stream",
     "text": [
      "['CharmAnalysis.mc.ForcedDecay.Dplus.tree.root', 'CharmAnalysis.mc.ForcedDecay.LabmdaC.tree.root']\n"
     ]
    }
   ],
   "source": [
    "dir_path = \"/global/cfs/cdirs/atlas/gottino/Charm/Analysis/run_batch_gup/ntuples\"\n",
    "\n",
    "files = os.listdir(dir_path)\n",
    "\n",
    "DMesonsTTree = process_ntuple(dir_path, files[0])\n",
    "LambdaMesonsTTree = process_ntuple(dir_path, files[1])\n",
    "\n",
    "branches = [\"DMesons_pt\", \"DMesons_eta\", \"DMesons_m\", \"DMesons_fitOutput__Lxy\", \"DMesons_costhetastar\", \"DMesons_pdgId\"]\n",
    "\n",
    "print(files)"
   ]
  },
  {
   "cell_type": "code",
   "execution_count": 4,
   "id": "86bef075-ad71-4c0c-b8f3-ec828a290104",
   "metadata": {},
   "outputs": [],
   "source": [
    "branches = [\"DMesons_pt\", \"DMesons_eta\", \"DMesons_m\", \"DMesons_fitOutput__Lxy\", \"DMesons_costhetastar\", \"DMesons_pdgId\"]\n",
    "DMesons_df = show(0, DMesonsTTree, branches, 0)\n",
    "DMesons_df = remove_empty(DMesons_df)\n",
    "\n",
    "DMesons_df[\"DMesons_pt\"] = DMesons_df[\"DMesons_pt\"].apply(divide_by_1000)\n",
    "for col in DMesons_df.columns:\n",
    "    DMesons_df[col] = DMesons_df[col].apply(list)\n",
    "DMesons_df = apply_cuts(DMesons_df)"
   ]
  },
  {
   "cell_type": "code",
   "execution_count": 5,
   "id": "82dfcd78-e5c2-45a2-8563-74605348dfac",
   "metadata": {},
   "outputs": [
    {
     "data": {
      "text/html": [
       "<div>\n",
       "<style scoped>\n",
       "    .dataframe tbody tr th:only-of-type {\n",
       "        vertical-align: middle;\n",
       "    }\n",
       "\n",
       "    .dataframe tbody tr th {\n",
       "        vertical-align: top;\n",
       "    }\n",
       "\n",
       "    .dataframe thead th {\n",
       "        text-align: right;\n",
       "    }\n",
       "</style>\n",
       "<table border=\"1\" class=\"dataframe\">\n",
       "  <thead>\n",
       "    <tr style=\"text-align: right;\">\n",
       "      <th></th>\n",
       "      <th>DMesons_pt</th>\n",
       "      <th>DMesons_eta</th>\n",
       "      <th>DMesons_m</th>\n",
       "      <th>DMesons_fitOutput__Lxy</th>\n",
       "      <th>DMesons_costhetastar</th>\n",
       "      <th>DMesons_pdgId</th>\n",
       "    </tr>\n",
       "  </thead>\n",
       "  <tbody>\n",
       "    <tr>\n",
       "      <th>0</th>\n",
       "      <td>[10.047125]</td>\n",
       "      <td>[0.08182407170534134]</td>\n",
       "      <td>[1862.4176025390625]</td>\n",
       "      <td>[2.3395302295684814]</td>\n",
       "      <td>[0.25487038493156433]</td>\n",
       "      <td>[411]</td>\n",
       "    </tr>\n",
       "    <tr>\n",
       "      <th>1</th>\n",
       "      <td>[18.9937421875, 18.9937421875]</td>\n",
       "      <td>[-1.6619627475738525, -1.6619627475738525]</td>\n",
       "      <td>[1853.90625, 2398.886962890625]</td>\n",
       "      <td>[1.9184143543243408, 1.9184143543243408]</td>\n",
       "      <td>[-0.36730244755744934, -0.0650731548666954]</td>\n",
       "      <td>[411, 4122]</td>\n",
       "    </tr>\n",
       "    <tr>\n",
       "      <th>2</th>\n",
       "      <td>[10.118494140625, 10.118494140625]</td>\n",
       "      <td>[0.041659336537122726, 0.041659336537122726]</td>\n",
       "      <td>[1874.203125, 2468.1806640625]</td>\n",
       "      <td>[2.8901257514953613, 2.8901257514953613]</td>\n",
       "      <td>[0.06833142042160034, 0.4276972711086273]</td>\n",
       "      <td>[411, 4122]</td>\n",
       "    </tr>\n",
       "    <tr>\n",
       "      <th>3</th>\n",
       "      <td>[12.579470703125, 12.579470703125]</td>\n",
       "      <td>[-1.1025604009628296, -1.1025604009628296]</td>\n",
       "      <td>[1884.987060546875, 2220.384521484375]</td>\n",
       "      <td>[0.9249186515808105, 0.9249186515808105]</td>\n",
       "      <td>[-0.5603189468383789, -0.41332852840423584]</td>\n",
       "      <td>[411, 4122]</td>\n",
       "    </tr>\n",
       "    <tr>\n",
       "      <th>4</th>\n",
       "      <td>[36.1288359375]</td>\n",
       "      <td>[0.6598162055015564]</td>\n",
       "      <td>[2235.69873046875]</td>\n",
       "      <td>[0.3584118187427521]</td>\n",
       "      <td>[0.19036155939102173]</td>\n",
       "      <td>[4122]</td>\n",
       "    </tr>\n",
       "    <tr>\n",
       "      <th>...</th>\n",
       "      <td>...</td>\n",
       "      <td>...</td>\n",
       "      <td>...</td>\n",
       "      <td>...</td>\n",
       "      <td>...</td>\n",
       "      <td>...</td>\n",
       "    </tr>\n",
       "    <tr>\n",
       "      <th>8235046</th>\n",
       "      <td>[17.96]</td>\n",
       "      <td>[-0.6264557838439941]</td>\n",
       "      <td>[1865.6043701171875]</td>\n",
       "      <td>[5.87862491607666]</td>\n",
       "      <td>[0.45278045535087585]</td>\n",
       "      <td>[411]</td>\n",
       "    </tr>\n",
       "    <tr>\n",
       "      <th>8235047</th>\n",
       "      <td>[62.91061328125, 62.91061328125]</td>\n",
       "      <td>[0.2775037884712219, 0.2775037884712219]</td>\n",
       "      <td>[1847.262451171875, 2131.1259765625]</td>\n",
       "      <td>[11.870012283325195, 11.870012283325195]</td>\n",
       "      <td>[-0.9544855356216431, -0.9355815052986145]</td>\n",
       "      <td>[411, 4122]</td>\n",
       "    </tr>\n",
       "    <tr>\n",
       "      <th>8235048</th>\n",
       "      <td>[14.8181767578125, 14.8181767578125]</td>\n",
       "      <td>[-2.1479332447052, -2.1479332447052]</td>\n",
       "      <td>[1836.0997314453125, 2165.72412109375]</td>\n",
       "      <td>[2.027026653289795, 2.027026653289795]</td>\n",
       "      <td>[-0.9712575674057007, -0.9517184495925903]</td>\n",
       "      <td>[411, 4122]</td>\n",
       "    </tr>\n",
       "    <tr>\n",
       "      <th>8235049</th>\n",
       "      <td>[39.3814296875]</td>\n",
       "      <td>[1.5503557920455933]</td>\n",
       "      <td>[2210.86669921875]</td>\n",
       "      <td>[0.17065481841564178]</td>\n",
       "      <td>[-0.332907497882843]</td>\n",
       "      <td>[4122]</td>\n",
       "    </tr>\n",
       "    <tr>\n",
       "      <th>8235050</th>\n",
       "      <td>[11.4230400390625, 11.4230400390625]</td>\n",
       "      <td>[-0.4857237637042999, -0.4857237637042999]</td>\n",
       "      <td>[1854.3157958984375, 2423.545654296875]</td>\n",
       "      <td>[1.3970249891281128, 1.3970249891281128]</td>\n",
       "      <td>[0.97699373960495, 0.9895557165145874]</td>\n",
       "      <td>[411, 4122]</td>\n",
       "    </tr>\n",
       "  </tbody>\n",
       "</table>\n",
       "<p>8235051 rows × 6 columns</p>\n",
       "</div>"
      ],
      "text/plain": [
       "                                   DMesons_pt  \\\n",
       "0                                 [10.047125]   \n",
       "1              [18.9937421875, 18.9937421875]   \n",
       "2          [10.118494140625, 10.118494140625]   \n",
       "3          [12.579470703125, 12.579470703125]   \n",
       "4                             [36.1288359375]   \n",
       "...                                       ...   \n",
       "8235046                               [17.96]   \n",
       "8235047      [62.91061328125, 62.91061328125]   \n",
       "8235048  [14.8181767578125, 14.8181767578125]   \n",
       "8235049                       [39.3814296875]   \n",
       "8235050  [11.4230400390625, 11.4230400390625]   \n",
       "\n",
       "                                          DMesons_eta  \\\n",
       "0                               [0.08182407170534134]   \n",
       "1          [-1.6619627475738525, -1.6619627475738525]   \n",
       "2        [0.041659336537122726, 0.041659336537122726]   \n",
       "3          [-1.1025604009628296, -1.1025604009628296]   \n",
       "4                                [0.6598162055015564]   \n",
       "...                                               ...   \n",
       "8235046                         [-0.6264557838439941]   \n",
       "8235047      [0.2775037884712219, 0.2775037884712219]   \n",
       "8235048          [-2.1479332447052, -2.1479332447052]   \n",
       "8235049                          [1.5503557920455933]   \n",
       "8235050    [-0.4857237637042999, -0.4857237637042999]   \n",
       "\n",
       "                                       DMesons_m  \\\n",
       "0                           [1862.4176025390625]   \n",
       "1                [1853.90625, 2398.886962890625]   \n",
       "2                 [1874.203125, 2468.1806640625]   \n",
       "3         [1884.987060546875, 2220.384521484375]   \n",
       "4                             [2235.69873046875]   \n",
       "...                                          ...   \n",
       "8235046                     [1865.6043701171875]   \n",
       "8235047     [1847.262451171875, 2131.1259765625]   \n",
       "8235048   [1836.0997314453125, 2165.72412109375]   \n",
       "8235049                       [2210.86669921875]   \n",
       "8235050  [1854.3157958984375, 2423.545654296875]   \n",
       "\n",
       "                           DMesons_fitOutput__Lxy  \\\n",
       "0                            [2.3395302295684814]   \n",
       "1        [1.9184143543243408, 1.9184143543243408]   \n",
       "2        [2.8901257514953613, 2.8901257514953613]   \n",
       "3        [0.9249186515808105, 0.9249186515808105]   \n",
       "4                            [0.3584118187427521]   \n",
       "...                                           ...   \n",
       "8235046                        [5.87862491607666]   \n",
       "8235047  [11.870012283325195, 11.870012283325195]   \n",
       "8235048    [2.027026653289795, 2.027026653289795]   \n",
       "8235049                     [0.17065481841564178]   \n",
       "8235050  [1.3970249891281128, 1.3970249891281128]   \n",
       "\n",
       "                                DMesons_costhetastar DMesons_pdgId  \n",
       "0                              [0.25487038493156433]         [411]  \n",
       "1        [-0.36730244755744934, -0.0650731548666954]   [411, 4122]  \n",
       "2          [0.06833142042160034, 0.4276972711086273]   [411, 4122]  \n",
       "3        [-0.5603189468383789, -0.41332852840423584]   [411, 4122]  \n",
       "4                              [0.19036155939102173]        [4122]  \n",
       "...                                              ...           ...  \n",
       "8235046                        [0.45278045535087585]         [411]  \n",
       "8235047   [-0.9544855356216431, -0.9355815052986145]   [411, 4122]  \n",
       "8235048   [-0.9712575674057007, -0.9517184495925903]   [411, 4122]  \n",
       "8235049                         [-0.332907497882843]        [4122]  \n",
       "8235050       [0.97699373960495, 0.9895557165145874]   [411, 4122]  \n",
       "\n",
       "[8235051 rows x 6 columns]"
      ]
     },
     "execution_count": 5,
     "metadata": {},
     "output_type": "execute_result"
    }
   ],
   "source": [
    "DMesons_df"
   ]
  },
  {
   "cell_type": "code",
   "execution_count": 23,
   "id": "3d7010de-a6b9-4c9b-9388-4964b8f4d094",
   "metadata": {},
   "outputs": [],
   "source": [
    "# DMesons_df = generate_df(DMesonsTTree, branches, 100)\n",
    "# DMesons_df = apply_cuts(DMesons_df)\n",
    "# DMesons_df"
   ]
  },
  {
   "cell_type": "code",
   "execution_count": 24,
   "id": "df214ce5-075a-4991-85f5-44e2fff6f73f",
   "metadata": {},
   "outputs": [],
   "source": [
    "# Lambda_df = generate_df(LambdaMesonsTTree, branches, 100)\n",
    "# Lambda_df = apply_cuts(Lambda_df)\n",
    "# Lambda_df"
   ]
  },
  {
   "cell_type": "code",
   "execution_count": 2,
   "id": "fa114ab7-be57-46b9-9327-ea19a7d5be4d",
   "metadata": {},
   "outputs": [
    {
     "data": {
      "text/html": [
       "<div>\n",
       "<style scoped>\n",
       "    .dataframe tbody tr th:only-of-type {\n",
       "        vertical-align: middle;\n",
       "    }\n",
       "\n",
       "    .dataframe tbody tr th {\n",
       "        vertical-align: top;\n",
       "    }\n",
       "\n",
       "    .dataframe thead th {\n",
       "        text-align: right;\n",
       "    }\n",
       "</style>\n",
       "<table border=\"1\" class=\"dataframe\">\n",
       "  <thead>\n",
       "    <tr style=\"text-align: right;\">\n",
       "      <th></th>\n",
       "      <th>DMesons_pt</th>\n",
       "      <th>DMesons_eta</th>\n",
       "      <th>DMesons_m</th>\n",
       "      <th>DMesons_fitOutput__Lxy</th>\n",
       "      <th>DMesons_costhetastar</th>\n",
       "      <th>DMesons_pdgId</th>\n",
       "    </tr>\n",
       "  </thead>\n",
       "  <tbody>\n",
       "    <tr>\n",
       "      <th>0</th>\n",
       "      <td>[10.047125]</td>\n",
       "      <td>[0.08182407170534134]</td>\n",
       "      <td>[1862.4176025390625]</td>\n",
       "      <td>[2.3395302295684814]</td>\n",
       "      <td>[0.25487038493156433]</td>\n",
       "      <td>[411]</td>\n",
       "    </tr>\n",
       "    <tr>\n",
       "      <th>1</th>\n",
       "      <td>[18.9937421875, 18.9937421875]</td>\n",
       "      <td>[-1.6619627475738525, -1.6619627475738525]</td>\n",
       "      <td>[1853.90625, 2398.886962890625]</td>\n",
       "      <td>[1.9184143543243408, 1.9184143543243408]</td>\n",
       "      <td>[-0.36730244755744934, -0.0650731548666954]</td>\n",
       "      <td>[411, 4122]</td>\n",
       "    </tr>\n",
       "    <tr>\n",
       "      <th>2</th>\n",
       "      <td>[10.118494140625, 10.118494140625]</td>\n",
       "      <td>[0.041659336537122726, 0.041659336537122726]</td>\n",
       "      <td>[1874.203125, 2468.1806640625]</td>\n",
       "      <td>[2.8901257514953613, 2.8901257514953613]</td>\n",
       "      <td>[0.06833142042160034, 0.4276972711086273]</td>\n",
       "      <td>[411, 4122]</td>\n",
       "    </tr>\n",
       "    <tr>\n",
       "      <th>3</th>\n",
       "      <td>[12.579470703125, 12.579470703125]</td>\n",
       "      <td>[-1.1025604009628296, -1.1025604009628296]</td>\n",
       "      <td>[1884.987060546875, 2220.384521484375]</td>\n",
       "      <td>[0.9249186515808105, 0.9249186515808105]</td>\n",
       "      <td>[-0.5603189468383789, -0.41332852840423584]</td>\n",
       "      <td>[411, 4122]</td>\n",
       "    </tr>\n",
       "    <tr>\n",
       "      <th>4</th>\n",
       "      <td>[36.1288359375]</td>\n",
       "      <td>[0.6598162055015564]</td>\n",
       "      <td>[2235.69873046875]</td>\n",
       "      <td>[0.3584118187427521]</td>\n",
       "      <td>[0.19036155939102173]</td>\n",
       "      <td>[4122]</td>\n",
       "    </tr>\n",
       "    <tr>\n",
       "      <th>...</th>\n",
       "      <td>...</td>\n",
       "      <td>...</td>\n",
       "      <td>...</td>\n",
       "      <td>...</td>\n",
       "      <td>...</td>\n",
       "      <td>...</td>\n",
       "    </tr>\n",
       "    <tr>\n",
       "      <th>7417090</th>\n",
       "      <td>[17.96]</td>\n",
       "      <td>[-0.6264557838439941]</td>\n",
       "      <td>[1865.6043701171875]</td>\n",
       "      <td>[5.87862491607666]</td>\n",
       "      <td>[0.45278045535087585]</td>\n",
       "      <td>[411]</td>\n",
       "    </tr>\n",
       "    <tr>\n",
       "      <th>7417091</th>\n",
       "      <td>[62.91061328125, 62.91061328125]</td>\n",
       "      <td>[0.2775037884712219, 0.2775037884712219]</td>\n",
       "      <td>[1847.262451171875, 2131.1259765625]</td>\n",
       "      <td>[11.870012283325195, 11.870012283325195]</td>\n",
       "      <td>[-0.9544855356216431, -0.9355815052986145]</td>\n",
       "      <td>[411, 4122]</td>\n",
       "    </tr>\n",
       "    <tr>\n",
       "      <th>7417092</th>\n",
       "      <td>[14.8181767578125, 14.8181767578125]</td>\n",
       "      <td>[-2.1479332447052, -2.1479332447052]</td>\n",
       "      <td>[1836.0997314453125, 2165.72412109375]</td>\n",
       "      <td>[2.027026653289795, 2.027026653289795]</td>\n",
       "      <td>[-0.9712575674057007, -0.9517184495925903]</td>\n",
       "      <td>[411, 4122]</td>\n",
       "    </tr>\n",
       "    <tr>\n",
       "      <th>7417093</th>\n",
       "      <td>[39.3814296875]</td>\n",
       "      <td>[1.5503557920455933]</td>\n",
       "      <td>[2210.86669921875]</td>\n",
       "      <td>[0.17065481841564178]</td>\n",
       "      <td>[-0.332907497882843]</td>\n",
       "      <td>[4122]</td>\n",
       "    </tr>\n",
       "    <tr>\n",
       "      <th>7417094</th>\n",
       "      <td>[11.4230400390625, 11.4230400390625]</td>\n",
       "      <td>[-0.4857237637042999, -0.4857237637042999]</td>\n",
       "      <td>[1854.3157958984375, 2423.545654296875]</td>\n",
       "      <td>[1.3970249891281128, 1.3970249891281128]</td>\n",
       "      <td>[0.97699373960495, 0.9895557165145874]</td>\n",
       "      <td>[411, 4122]</td>\n",
       "    </tr>\n",
       "  </tbody>\n",
       "</table>\n",
       "<p>7417095 rows × 6 columns</p>\n",
       "</div>"
      ],
      "text/plain": [
       "                                   DMesons_pt  \\\n",
       "0                                 [10.047125]   \n",
       "1              [18.9937421875, 18.9937421875]   \n",
       "2          [10.118494140625, 10.118494140625]   \n",
       "3          [12.579470703125, 12.579470703125]   \n",
       "4                             [36.1288359375]   \n",
       "...                                       ...   \n",
       "7417090                               [17.96]   \n",
       "7417091      [62.91061328125, 62.91061328125]   \n",
       "7417092  [14.8181767578125, 14.8181767578125]   \n",
       "7417093                       [39.3814296875]   \n",
       "7417094  [11.4230400390625, 11.4230400390625]   \n",
       "\n",
       "                                          DMesons_eta  \\\n",
       "0                               [0.08182407170534134]   \n",
       "1          [-1.6619627475738525, -1.6619627475738525]   \n",
       "2        [0.041659336537122726, 0.041659336537122726]   \n",
       "3          [-1.1025604009628296, -1.1025604009628296]   \n",
       "4                                [0.6598162055015564]   \n",
       "...                                               ...   \n",
       "7417090                         [-0.6264557838439941]   \n",
       "7417091      [0.2775037884712219, 0.2775037884712219]   \n",
       "7417092          [-2.1479332447052, -2.1479332447052]   \n",
       "7417093                          [1.5503557920455933]   \n",
       "7417094    [-0.4857237637042999, -0.4857237637042999]   \n",
       "\n",
       "                                       DMesons_m  \\\n",
       "0                           [1862.4176025390625]   \n",
       "1                [1853.90625, 2398.886962890625]   \n",
       "2                 [1874.203125, 2468.1806640625]   \n",
       "3         [1884.987060546875, 2220.384521484375]   \n",
       "4                             [2235.69873046875]   \n",
       "...                                          ...   \n",
       "7417090                     [1865.6043701171875]   \n",
       "7417091     [1847.262451171875, 2131.1259765625]   \n",
       "7417092   [1836.0997314453125, 2165.72412109375]   \n",
       "7417093                       [2210.86669921875]   \n",
       "7417094  [1854.3157958984375, 2423.545654296875]   \n",
       "\n",
       "                           DMesons_fitOutput__Lxy  \\\n",
       "0                            [2.3395302295684814]   \n",
       "1        [1.9184143543243408, 1.9184143543243408]   \n",
       "2        [2.8901257514953613, 2.8901257514953613]   \n",
       "3        [0.9249186515808105, 0.9249186515808105]   \n",
       "4                            [0.3584118187427521]   \n",
       "...                                           ...   \n",
       "7417090                        [5.87862491607666]   \n",
       "7417091  [11.870012283325195, 11.870012283325195]   \n",
       "7417092    [2.027026653289795, 2.027026653289795]   \n",
       "7417093                     [0.17065481841564178]   \n",
       "7417094  [1.3970249891281128, 1.3970249891281128]   \n",
       "\n",
       "                                DMesons_costhetastar DMesons_pdgId  \n",
       "0                              [0.25487038493156433]         [411]  \n",
       "1        [-0.36730244755744934, -0.0650731548666954]   [411, 4122]  \n",
       "2          [0.06833142042160034, 0.4276972711086273]   [411, 4122]  \n",
       "3        [-0.5603189468383789, -0.41332852840423584]   [411, 4122]  \n",
       "4                              [0.19036155939102173]        [4122]  \n",
       "...                                              ...           ...  \n",
       "7417090                        [0.45278045535087585]         [411]  \n",
       "7417091   [-0.9544855356216431, -0.9355815052986145]   [411, 4122]  \n",
       "7417092   [-0.9712575674057007, -0.9517184495925903]   [411, 4122]  \n",
       "7417093                         [-0.332907497882843]        [4122]  \n",
       "7417094       [0.97699373960495, 0.9895557165145874]   [411, 4122]  \n",
       "\n",
       "[7417095 rows x 6 columns]"
      ]
     },
     "execution_count": 2,
     "metadata": {},
     "output_type": "execute_result"
    }
   ],
   "source": [
    "DMesons_df = load(\"DMesons_df\")\n",
    "DMesons_df"
   ]
  },
  {
   "cell_type": "code",
   "execution_count": 3,
   "id": "366f6eec-ded2-4ca5-b5ed-51021373694d",
   "metadata": {},
   "outputs": [
    {
     "name": "stdout",
     "output_type": "stream",
     "text": [
      "Removed 0 duplicate particles\n"
     ]
    }
   ],
   "source": [
    "DMesons_df = remove_duplicates(DMesons_df)"
   ]
  },
  {
   "cell_type": "code",
   "execution_count": 4,
   "id": "598eba32-1950-4807-980b-739a9ef1bdbf",
   "metadata": {},
   "outputs": [],
   "source": [
    "DMesons_df = DMesons_df.head(1000000)"
   ]
  },
  {
   "cell_type": "code",
   "execution_count": 6,
   "id": "d8c974d6-2036-43bc-b916-cbe342f23bf0",
   "metadata": {},
   "outputs": [
    {
     "data": {
      "text/html": [
       "<div>\n",
       "<style scoped>\n",
       "    .dataframe tbody tr th:only-of-type {\n",
       "        vertical-align: middle;\n",
       "    }\n",
       "\n",
       "    .dataframe tbody tr th {\n",
       "        vertical-align: top;\n",
       "    }\n",
       "\n",
       "    .dataframe thead th {\n",
       "        text-align: right;\n",
       "    }\n",
       "</style>\n",
       "<table border=\"1\" class=\"dataframe\">\n",
       "  <thead>\n",
       "    <tr style=\"text-align: right;\">\n",
       "      <th></th>\n",
       "      <th>DMesons_pt</th>\n",
       "      <th>DMesons_eta</th>\n",
       "      <th>DMesons_m</th>\n",
       "      <th>DMesons_fitOutput__Lxy</th>\n",
       "      <th>DMesons_costhetastar</th>\n",
       "      <th>DMesons_pdgId</th>\n",
       "    </tr>\n",
       "  </thead>\n",
       "  <tbody>\n",
       "    <tr>\n",
       "      <th>0</th>\n",
       "      <td>10.047125</td>\n",
       "      <td>0.081824</td>\n",
       "      <td>1862.417603</td>\n",
       "      <td>2.339530</td>\n",
       "      <td>0.254870</td>\n",
       "      <td>411</td>\n",
       "    </tr>\n",
       "    <tr>\n",
       "      <th>1</th>\n",
       "      <td>18.993742</td>\n",
       "      <td>-1.661963</td>\n",
       "      <td>1853.906250</td>\n",
       "      <td>1.918414</td>\n",
       "      <td>-0.367302</td>\n",
       "      <td>411</td>\n",
       "    </tr>\n",
       "    <tr>\n",
       "      <th>2</th>\n",
       "      <td>18.993742</td>\n",
       "      <td>-1.661963</td>\n",
       "      <td>2398.886963</td>\n",
       "      <td>1.918414</td>\n",
       "      <td>-0.065073</td>\n",
       "      <td>4122</td>\n",
       "    </tr>\n",
       "    <tr>\n",
       "      <th>3</th>\n",
       "      <td>10.118494</td>\n",
       "      <td>0.041659</td>\n",
       "      <td>1874.203125</td>\n",
       "      <td>2.890126</td>\n",
       "      <td>0.068331</td>\n",
       "      <td>411</td>\n",
       "    </tr>\n",
       "    <tr>\n",
       "      <th>4</th>\n",
       "      <td>10.118494</td>\n",
       "      <td>0.041659</td>\n",
       "      <td>2468.180664</td>\n",
       "      <td>2.890126</td>\n",
       "      <td>0.427697</td>\n",
       "      <td>4122</td>\n",
       "    </tr>\n",
       "    <tr>\n",
       "      <th>...</th>\n",
       "      <td>...</td>\n",
       "      <td>...</td>\n",
       "      <td>...</td>\n",
       "      <td>...</td>\n",
       "      <td>...</td>\n",
       "      <td>...</td>\n",
       "    </tr>\n",
       "    <tr>\n",
       "      <th>1660074</th>\n",
       "      <td>12.158312</td>\n",
       "      <td>0.132812</td>\n",
       "      <td>1869.685547</td>\n",
       "      <td>0.588506</td>\n",
       "      <td>0.557646</td>\n",
       "      <td>411</td>\n",
       "    </tr>\n",
       "    <tr>\n",
       "      <th>1660075</th>\n",
       "      <td>12.158312</td>\n",
       "      <td>0.132812</td>\n",
       "      <td>2280.860107</td>\n",
       "      <td>0.588506</td>\n",
       "      <td>0.823664</td>\n",
       "      <td>4122</td>\n",
       "    </tr>\n",
       "    <tr>\n",
       "      <th>1660076</th>\n",
       "      <td>8.233737</td>\n",
       "      <td>0.773861</td>\n",
       "      <td>1875.938477</td>\n",
       "      <td>1.890014</td>\n",
       "      <td>0.976978</td>\n",
       "      <td>411</td>\n",
       "    </tr>\n",
       "    <tr>\n",
       "      <th>1660077</th>\n",
       "      <td>39.016086</td>\n",
       "      <td>1.315515</td>\n",
       "      <td>1884.218384</td>\n",
       "      <td>2.228456</td>\n",
       "      <td>0.830586</td>\n",
       "      <td>411</td>\n",
       "    </tr>\n",
       "    <tr>\n",
       "      <th>1660078</th>\n",
       "      <td>39.016086</td>\n",
       "      <td>1.315515</td>\n",
       "      <td>2289.078857</td>\n",
       "      <td>2.228456</td>\n",
       "      <td>0.930610</td>\n",
       "      <td>4122</td>\n",
       "    </tr>\n",
       "  </tbody>\n",
       "</table>\n",
       "<p>1660079 rows × 6 columns</p>\n",
       "</div>"
      ],
      "text/plain": [
       "         DMesons_pt  DMesons_eta    DMesons_m  DMesons_fitOutput__Lxy  \\\n",
       "0         10.047125     0.081824  1862.417603                2.339530   \n",
       "1         18.993742    -1.661963  1853.906250                1.918414   \n",
       "2         18.993742    -1.661963  2398.886963                1.918414   \n",
       "3         10.118494     0.041659  1874.203125                2.890126   \n",
       "4         10.118494     0.041659  2468.180664                2.890126   \n",
       "...             ...          ...          ...                     ...   \n",
       "1660074   12.158312     0.132812  1869.685547                0.588506   \n",
       "1660075   12.158312     0.132812  2280.860107                0.588506   \n",
       "1660076    8.233737     0.773861  1875.938477                1.890014   \n",
       "1660077   39.016086     1.315515  1884.218384                2.228456   \n",
       "1660078   39.016086     1.315515  2289.078857                2.228456   \n",
       "\n",
       "         DMesons_costhetastar  DMesons_pdgId  \n",
       "0                    0.254870            411  \n",
       "1                   -0.367302            411  \n",
       "2                   -0.065073           4122  \n",
       "3                    0.068331            411  \n",
       "4                    0.427697           4122  \n",
       "...                       ...            ...  \n",
       "1660074              0.557646            411  \n",
       "1660075              0.823664           4122  \n",
       "1660076              0.976978            411  \n",
       "1660077              0.830586            411  \n",
       "1660078              0.930610           4122  \n",
       "\n",
       "[1660079 rows x 6 columns]"
      ]
     },
     "execution_count": 6,
     "metadata": {},
     "output_type": "execute_result"
    }
   ],
   "source": [
    "#separates each particle of the event into it's own event in a new data frame (for training)\n",
    "dfs = []\n",
    "for index, row in DMesons_df.iterrows():\n",
    "    \n",
    "    pts = row['DMesons_pt']\n",
    "    etas = row['DMesons_eta']\n",
    "    ms = row['DMesons_m']\n",
    "    lxys = row['DMesons_fitOutput__Lxy']\n",
    "    costhetastars = row['DMesons_costhetastar']\n",
    "    pdgids = row[\"DMesons_pdgId\"]\n",
    "        \n",
    "    d = {DMesons_df.columns[0]: pts, DMesons_df.columns[1]: etas, DMesons_df.columns[2]: ms, DMesons_df.columns[3]: lxys, \n",
    "         DMesons_df.columns[4]: costhetastars, DMesons_df.columns[-1]: pdgids}\n",
    "    df = pd.DataFrame(data=d)\n",
    "    \n",
    "    dfs.append(df)\n",
    "\n",
    "df = pd.concat(dfs)\n",
    "df = df.reset_index(drop = True)\n",
    "df"
   ]
  },
  {
   "cell_type": "code",
   "execution_count": null,
   "id": "fd30aaf7-cbb0-4040-be51-c8897ad849f8",
   "metadata": {},
   "outputs": [],
   "source": [
    "DMesons_df2 = show(0, TTree, [\"DMesons_daughterInfo__pt\", \"DMesons_daughterInfo__eta\", \"DMesons_daughterInfo__phi\", \"DMesons_daughterInfo__pdgId\"], 100)\n",
    "DMesons_df2 = remove_empty(DMesons_df2)"
   ]
  },
  {
   "cell_type": "code",
   "execution_count": 59,
   "id": "cb8981e7-9eec-4d65-b4e0-00aac573cae2",
   "metadata": {},
   "outputs": [
    {
     "data": {
      "text/plain": [
       "3"
      ]
     },
     "execution_count": 59,
     "metadata": {},
     "output_type": "execute_result"
    }
   ],
   "source": [
    "DPlus = [-321, 211, 211]\n",
    "LambdaC = [2212, -321, 211]\n",
    "\n",
    "remove_lambda = []\n",
    "\n",
    "count = 0\n",
    "for index, row in DMesons_df2.iterrows():\n",
    "    if count == 50:\n",
    "        break\n",
    "    count+=1\n",
    "    \n",
    "    pts = row['DMesons_daughterInfo__pt']\n",
    "    etas = row['DMesons_daughterInfo__eta']\n",
    "    phis = row['DMesons_daughterInfo__phi']\n",
    "    pdgids = row[\"DMesons_daughterInfo__pdgId\"]\n",
    "    \n",
    "    #loop through until the first lambda encountered\n",
    "    for i in range(len(pdgids) - 1):\n",
    "        #if there are multiple lambda baryons\n",
    "        if len(pdgids) > 2:\n",
    "            #stop at the first lambda and keep the higher proton pt valued lambda\n",
    "            if list(pdgids[i]) == LambdaC:\n",
    "                l1_pt, l2_pt = pts[i][0], pts[i + 1][0]\n",
    "                if (l1_pt > l2_pt):\n",
    "                    #Lambda 1's proton has higher pt\n",
    "                    remove_lambda.append((index, i + 1))\n",
    "                elif (l1_pt < l2_pt):\n",
    "                    #Lambda 2's proton has higher pt!\n",
    "                    remove_lambda.append((index, i))\n",
    "                else:\n",
    "                    raise Exception(\"Error: Are the proton pt vaules equal?\")\n",
    "                    \n",
    "len(remove_lambda)"
   ]
  },
  {
   "cell_type": "code",
   "execution_count": 24,
   "id": "b7707166-22b5-4f12-8dab-4bcf29a62005",
   "metadata": {},
   "outputs": [],
   "source": [
    "#takes tuples of shape (2,) / (index, column)\n",
    "def remove_particles_from_df(df, tuple_list):\n",
    "    for tup in tuple_list:\n",
    "        index, column = tup\n",
    "        print(index, column)\n",
    "        \n",
    "        new_df = df.copy()\n",
    "        for i in range(len(DMesons_df.iloc[index, 0][column]) + 1):\n",
    "            #new_df[\"DMesons_daughterInfo__pt\"] = new_df[\"DMesons_daughterInfo__pt\"].apply(lambda x: print(x))\n",
    "            val = new_df.iloc[index, i][column]\n",
    "            print(val)\n",
    "    df = df.drop(index, axis = 0)\n",
    "    return df\n",
    "#df = remove_particles_from_df(DMesons_df, remove_lambda)\n",
    "\n",
    "pd.set_option('display.max_rows', 10)"
   ]
  },
  {
   "cell_type": "code",
   "execution_count": 26,
   "id": "4f0ce083-7006-4ea6-aea4-332e607fa37b",
   "metadata": {},
   "outputs": [],
   "source": [
    "# create a new column 'particle_type' based on the pdgId column\n",
    "#func = lambda x: 'only_411' if x == [411] else ('only_4122' if x == [4122] else 'both')\n",
    "\n",
    "def func(x):\n",
    "    if x == 411:\n",
    "        return 'only_411'\n",
    "    elif x == 4122:\n",
    "        return 'only_4122'\n",
    "\n",
    "shuffled_df['particle_type'] = shuffled_df['DMesons_pdgId'].apply(func)\n",
    "\n",
    "# separate the rows based on the new column\n",
    "only_411 = shuffled_df[shuffled_df['particle_type'] == 'only_411']\n",
    "only_4122 = shuffled_df[shuffled_df['particle_type'] == 'only_4122']\n",
    "\n",
    "new_df = shuffled_df[shuffled_df['particle_type'] != 'both']\n",
    "new_df = new_df.reset_index(drop=True)\n",
    "\n",
    "new_df.loc[:, 'DMesons_pt'] = new_df['DMesons_pt'].apply(lambda x: float(x))\n",
    "new_df.loc[:, 'DMesons_eta'] = new_df['DMesons_eta'].apply(lambda x: float(x))\n",
    "#new_df.loc[:, 'DMesons_m'] = new_df['DMesons_m'].apply(lambda x: float(x))\n",
    "new_df.loc[:, 'DMesons_fitOutput__Lxy'] = new_df['DMesons_fitOutput__Lxy'].apply(lambda x: float(x))\n",
    "new_df.loc[:, 'DMesons_costhetastar'] = new_df['DMesons_costhetastar'].apply(lambda x: float(x))\n",
    "new_df.loc[:, 'DMesons_pdgId'] = new_df['DMesons_pdgId'].apply(lambda x: int(x))\n",
    "new_df = new_df.drop('particle_type', axis=1)"
   ]
  },
  {
   "cell_type": "code",
   "execution_count": 29,
   "id": "0de2d7f1-318c-4a77-b206-adcea3520a3e",
   "metadata": {},
   "outputs": [
    {
     "data": {
      "text/html": [
       "<div>\n",
       "<style scoped>\n",
       "    .dataframe tbody tr th:only-of-type {\n",
       "        vertical-align: middle;\n",
       "    }\n",
       "\n",
       "    .dataframe tbody tr th {\n",
       "        vertical-align: top;\n",
       "    }\n",
       "\n",
       "    .dataframe thead th {\n",
       "        text-align: right;\n",
       "    }\n",
       "</style>\n",
       "<table border=\"1\" class=\"dataframe\">\n",
       "  <thead>\n",
       "    <tr style=\"text-align: right;\">\n",
       "      <th></th>\n",
       "      <th>DMesons_pt</th>\n",
       "      <th>DMesons_eta</th>\n",
       "      <th>DMesons_fitOutput__Lxy</th>\n",
       "      <th>DMesons_costhetastar</th>\n",
       "      <th>DMesons_pdgId</th>\n",
       "      <th>particle_type</th>\n",
       "    </tr>\n",
       "  </thead>\n",
       "  <tbody>\n",
       "    <tr>\n",
       "      <th>0</th>\n",
       "      <td>40.292617</td>\n",
       "      <td>-2.132428</td>\n",
       "      <td>1.709223</td>\n",
       "      <td>0.596324</td>\n",
       "      <td>4122</td>\n",
       "      <td>only_4122</td>\n",
       "    </tr>\n",
       "    <tr>\n",
       "      <th>1</th>\n",
       "      <td>36.159043</td>\n",
       "      <td>1.770199</td>\n",
       "      <td>2.863618</td>\n",
       "      <td>0.336979</td>\n",
       "      <td>4122</td>\n",
       "      <td>only_4122</td>\n",
       "    </tr>\n",
       "    <tr>\n",
       "      <th>2</th>\n",
       "      <td>16.158487</td>\n",
       "      <td>-0.328203</td>\n",
       "      <td>1.889710</td>\n",
       "      <td>0.418236</td>\n",
       "      <td>4122</td>\n",
       "      <td>only_4122</td>\n",
       "    </tr>\n",
       "    <tr>\n",
       "      <th>3</th>\n",
       "      <td>9.363257</td>\n",
       "      <td>-1.904155</td>\n",
       "      <td>0.241280</td>\n",
       "      <td>-0.323162</td>\n",
       "      <td>4122</td>\n",
       "      <td>only_4122</td>\n",
       "    </tr>\n",
       "    <tr>\n",
       "      <th>5</th>\n",
       "      <td>8.698276</td>\n",
       "      <td>-1.495748</td>\n",
       "      <td>0.169658</td>\n",
       "      <td>-0.478632</td>\n",
       "      <td>4122</td>\n",
       "      <td>only_4122</td>\n",
       "    </tr>\n",
       "    <tr>\n",
       "      <th>...</th>\n",
       "      <td>...</td>\n",
       "      <td>...</td>\n",
       "      <td>...</td>\n",
       "      <td>...</td>\n",
       "      <td>...</td>\n",
       "      <td>...</td>\n",
       "    </tr>\n",
       "    <tr>\n",
       "      <th>999990</th>\n",
       "      <td>16.723584</td>\n",
       "      <td>0.065188</td>\n",
       "      <td>0.326478</td>\n",
       "      <td>-0.441904</td>\n",
       "      <td>4122</td>\n",
       "      <td>only_4122</td>\n",
       "    </tr>\n",
       "    <tr>\n",
       "      <th>999992</th>\n",
       "      <td>23.422354</td>\n",
       "      <td>1.404832</td>\n",
       "      <td>0.376477</td>\n",
       "      <td>-0.499287</td>\n",
       "      <td>4122</td>\n",
       "      <td>only_4122</td>\n",
       "    </tr>\n",
       "    <tr>\n",
       "      <th>999997</th>\n",
       "      <td>15.318966</td>\n",
       "      <td>-0.206616</td>\n",
       "      <td>0.383241</td>\n",
       "      <td>0.149074</td>\n",
       "      <td>4122</td>\n",
       "      <td>only_4122</td>\n",
       "    </tr>\n",
       "    <tr>\n",
       "      <th>999998</th>\n",
       "      <td>13.441096</td>\n",
       "      <td>-0.770800</td>\n",
       "      <td>0.260466</td>\n",
       "      <td>0.482102</td>\n",
       "      <td>4122</td>\n",
       "      <td>only_4122</td>\n",
       "    </tr>\n",
       "    <tr>\n",
       "      <th>999999</th>\n",
       "      <td>10.628495</td>\n",
       "      <td>0.894638</td>\n",
       "      <td>0.197627</td>\n",
       "      <td>-0.789414</td>\n",
       "      <td>4122</td>\n",
       "      <td>only_4122</td>\n",
       "    </tr>\n",
       "  </tbody>\n",
       "</table>\n",
       "<p>500000 rows × 6 columns</p>\n",
       "</div>"
      ],
      "text/plain": [
       "        DMesons_pt  DMesons_eta  DMesons_fitOutput__Lxy  DMesons_costhetastar  \\\n",
       "0        40.292617    -2.132428                1.709223              0.596324   \n",
       "1        36.159043     1.770199                2.863618              0.336979   \n",
       "2        16.158487    -0.328203                1.889710              0.418236   \n",
       "3         9.363257    -1.904155                0.241280             -0.323162   \n",
       "5         8.698276    -1.495748                0.169658             -0.478632   \n",
       "...            ...          ...                     ...                   ...   \n",
       "999990   16.723584     0.065188                0.326478             -0.441904   \n",
       "999992   23.422354     1.404832                0.376477             -0.499287   \n",
       "999997   15.318966    -0.206616                0.383241              0.149074   \n",
       "999998   13.441096    -0.770800                0.260466              0.482102   \n",
       "999999   10.628495     0.894638                0.197627             -0.789414   \n",
       "\n",
       "        DMesons_pdgId particle_type  \n",
       "0                4122     only_4122  \n",
       "1                4122     only_4122  \n",
       "2                4122     only_4122  \n",
       "3                4122     only_4122  \n",
       "5                4122     only_4122  \n",
       "...               ...           ...  \n",
       "999990           4122     only_4122  \n",
       "999992           4122     only_4122  \n",
       "999997           4122     only_4122  \n",
       "999998           4122     only_4122  \n",
       "999999           4122     only_4122  \n",
       "\n",
       "[500000 rows x 6 columns]"
      ]
     },
     "execution_count": 29,
     "metadata": {},
     "output_type": "execute_result"
    }
   ],
   "source": [
    "only_4122"
   ]
  },
  {
   "cell_type": "code",
   "execution_count": 8,
   "id": "f65320d5-2bb2-4d77-a9ba-88a397e7b528",
   "metadata": {},
   "outputs": [
    {
     "name": "stdout",
     "output_type": "stream",
     "text": [
      "846608 811534\n"
     ]
    }
   ],
   "source": [
    "D = 0\n",
    "Lambda = 0\n",
    "for pdgId in new_df[\"DMesons_pdgId\"]:\n",
    "    if pdgId == 411:\n",
    "        D+=1\n",
    "    elif pdgId == 4122:\n",
    "        Lambda+=1\n",
    "print(D, Lambda)"
   ]
  },
  {
   "cell_type": "code",
   "execution_count": 32,
   "id": "b3f33e82-58e3-4420-81af-d4b5118760dc",
   "metadata": {},
   "outputs": [],
   "source": [
    "# only_411 = only_411.reset_index(drop=True)\n",
    "# only_411.loc[:, 'DMesons_pt'] = only_411['DMesons_pt'].apply(lambda x: float(x[0]))\n",
    "# only_411.loc[:, 'DMesons_eta'] = only_411['DMesons_eta'].apply(lambda x: float(x[0]))\n",
    "# only_411.loc[:, 'DMesons_m'] = only_411['DMesons_m'].apply(lambda x: float(x[0]))\n",
    "# only_411.loc[:, 'DMesons_fitOutput__Lxy'] = only_411['DMesons_fitOutput__Lxy'].apply(lambda x: float(x[0]))\n",
    "# only_411.loc[:, 'DMesons_costhetastar'] = only_411['DMesons_costhetastar'].apply(lambda x: float(x[0]))\n",
    "# only_411.loc[:, 'DMesons_pdgId'] = only_411['DMesons_pdgId'].apply(lambda x: int(x[0]))\n",
    "\n",
    "#only_411 = only_411.drop('particle_type', axis=1)\n",
    "\n",
    "# only_4122 = only_4122.reset_index(drop=True)\n",
    "# only_4122.loc[:, 'DMesons_pt'] = only_4122['DMesons_pt'].apply(lambda x: float(x[0]))\n",
    "# only_4122.loc[:, 'DMesons_eta'] = only_4122['DMesons_eta'].apply(lambda x: float(x[0]))\n",
    "# only_4122.loc[:, 'DMesons_m'] = only_4122['DMesons_m'].apply(lambda x: float(x[0]))\n",
    "# only_4122.loc[:, 'DMesons_fitOutput__Lxy'] = only_4122['DMesons_fitOutput__Lxy'].apply(lambda x: float(x[0]))\n",
    "# only_4122.loc[:, 'DMesons_costhetastar'] = only_4122['DMesons_costhetastar'].apply(lambda x: float(x[0]))\n",
    "# only_4122.loc[:, 'DMesons_pdgId'] = only_4122['DMesons_pdgId'].apply(lambda x: int(x[0]))\n",
    "\n",
    "#only_4122 = only_4122.drop('particle_type', axis=1)\n",
    "\n",
    "#new_df = new_df.drop('DMesons_m', axis=1)\n",
    "#only_411 = only_411.drop('DMesons_m', axis=1)\n",
    "#only_4122 = only_4122.drop('DMesons_m', axis=1)"
   ]
  },
  {
   "cell_type": "code",
   "execution_count": 13,
   "id": "b6aa174b-d393-43b2-8c69-65d109e729cf",
   "metadata": {},
   "outputs": [],
   "source": [
    "# Write\n",
    "# save(new_df, \"DMesons_df_both\")\n",
    "# save(only_411, \"DMesons_only_411\")\n",
    "# save(only_4122, \"DMesons_only_4122\")"
   ]
  },
  {
   "cell_type": "code",
   "execution_count": 22,
   "id": "9dca7972-7adc-403b-be80-d3941955501d",
   "metadata": {},
   "outputs": [],
   "source": [
    "# Read\n",
    "# both_df = load(\"Lambda_df_both\")\n",
    "# only_411 = load(\"Lambda_only_411\")\n",
    "Lambda_only_4122 = load(\"Lambda_only_4122\")\n",
    "DMesons_only_411 = load(\"DMesons_only_4122\")"
   ]
  },
  {
   "cell_type": "code",
   "execution_count": 23,
   "id": "a8b8202e-d878-43fe-b55a-0eeed2795b60",
   "metadata": {},
   "outputs": [
    {
     "data": {
      "text/html": [
       "<div>\n",
       "<style scoped>\n",
       "    .dataframe tbody tr th:only-of-type {\n",
       "        vertical-align: middle;\n",
       "    }\n",
       "\n",
       "    .dataframe tbody tr th {\n",
       "        vertical-align: top;\n",
       "    }\n",
       "\n",
       "    .dataframe thead th {\n",
       "        text-align: right;\n",
       "    }\n",
       "</style>\n",
       "<table border=\"1\" class=\"dataframe\">\n",
       "  <thead>\n",
       "    <tr style=\"text-align: right;\">\n",
       "      <th></th>\n",
       "      <th>DMesons_pt</th>\n",
       "      <th>DMesons_eta</th>\n",
       "      <th>DMesons_fitOutput__Lxy</th>\n",
       "      <th>DMesons_costhetastar</th>\n",
       "      <th>DMesons_pdgId</th>\n",
       "    </tr>\n",
       "  </thead>\n",
       "  <tbody>\n",
       "    <tr>\n",
       "      <th>2</th>\n",
       "      <td>18.993742</td>\n",
       "      <td>-1.661963</td>\n",
       "      <td>1.918414</td>\n",
       "      <td>-0.065073</td>\n",
       "      <td>411</td>\n",
       "    </tr>\n",
       "    <tr>\n",
       "      <th>4</th>\n",
       "      <td>10.118494</td>\n",
       "      <td>0.041659</td>\n",
       "      <td>2.890126</td>\n",
       "      <td>0.427697</td>\n",
       "      <td>411</td>\n",
       "    </tr>\n",
       "    <tr>\n",
       "      <th>6</th>\n",
       "      <td>12.579471</td>\n",
       "      <td>-1.102560</td>\n",
       "      <td>0.924919</td>\n",
       "      <td>-0.413329</td>\n",
       "      <td>411</td>\n",
       "    </tr>\n",
       "    <tr>\n",
       "      <th>7</th>\n",
       "      <td>36.128836</td>\n",
       "      <td>0.659816</td>\n",
       "      <td>0.358412</td>\n",
       "      <td>0.190362</td>\n",
       "      <td>411</td>\n",
       "    </tr>\n",
       "    <tr>\n",
       "      <th>9</th>\n",
       "      <td>15.020291</td>\n",
       "      <td>-0.034316</td>\n",
       "      <td>1.028398</td>\n",
       "      <td>0.067321</td>\n",
       "      <td>411</td>\n",
       "    </tr>\n",
       "    <tr>\n",
       "      <th>...</th>\n",
       "      <td>...</td>\n",
       "      <td>...</td>\n",
       "      <td>...</td>\n",
       "      <td>...</td>\n",
       "      <td>...</td>\n",
       "    </tr>\n",
       "    <tr>\n",
       "      <th>1660068</th>\n",
       "      <td>10.548007</td>\n",
       "      <td>1.538961</td>\n",
       "      <td>1.138265</td>\n",
       "      <td>-0.198148</td>\n",
       "      <td>411</td>\n",
       "    </tr>\n",
       "    <tr>\n",
       "      <th>1660070</th>\n",
       "      <td>11.152401</td>\n",
       "      <td>-0.025487</td>\n",
       "      <td>1.273141</td>\n",
       "      <td>0.740452</td>\n",
       "      <td>411</td>\n",
       "    </tr>\n",
       "    <tr>\n",
       "      <th>1660072</th>\n",
       "      <td>8.283731</td>\n",
       "      <td>1.182054</td>\n",
       "      <td>1.952910</td>\n",
       "      <td>0.662747</td>\n",
       "      <td>411</td>\n",
       "    </tr>\n",
       "    <tr>\n",
       "      <th>1660075</th>\n",
       "      <td>12.158312</td>\n",
       "      <td>0.132812</td>\n",
       "      <td>0.588506</td>\n",
       "      <td>0.823664</td>\n",
       "      <td>411</td>\n",
       "    </tr>\n",
       "    <tr>\n",
       "      <th>1660078</th>\n",
       "      <td>39.016086</td>\n",
       "      <td>1.315515</td>\n",
       "      <td>2.228456</td>\n",
       "      <td>0.930610</td>\n",
       "      <td>411</td>\n",
       "    </tr>\n",
       "  </tbody>\n",
       "</table>\n",
       "<p>811534 rows × 5 columns</p>\n",
       "</div>"
      ],
      "text/plain": [
       "         DMesons_pt  DMesons_eta  DMesons_fitOutput__Lxy  \\\n",
       "2         18.993742    -1.661963                1.918414   \n",
       "4         10.118494     0.041659                2.890126   \n",
       "6         12.579471    -1.102560                0.924919   \n",
       "7         36.128836     0.659816                0.358412   \n",
       "9         15.020291    -0.034316                1.028398   \n",
       "...             ...          ...                     ...   \n",
       "1660068   10.548007     1.538961                1.138265   \n",
       "1660070   11.152401    -0.025487                1.273141   \n",
       "1660072    8.283731     1.182054                1.952910   \n",
       "1660075   12.158312     0.132812                0.588506   \n",
       "1660078   39.016086     1.315515                2.228456   \n",
       "\n",
       "         DMesons_costhetastar  DMesons_pdgId  \n",
       "2                   -0.065073            411  \n",
       "4                    0.427697            411  \n",
       "6                   -0.413329            411  \n",
       "7                    0.190362            411  \n",
       "9                    0.067321            411  \n",
       "...                       ...            ...  \n",
       "1660068             -0.198148            411  \n",
       "1660070              0.740452            411  \n",
       "1660072              0.662747            411  \n",
       "1660075              0.823664            411  \n",
       "1660078              0.930610            411  \n",
       "\n",
       "[811534 rows x 5 columns]"
      ]
     },
     "execution_count": 23,
     "metadata": {},
     "output_type": "execute_result"
    }
   ],
   "source": [
    "DMesons_only_411['DMesons_pdgId'] = DMesons_only_411['DMesons_pdgId'].replace({4122: 411})\n",
    "\n",
    "DMesons_only_411"
   ]
  },
  {
   "cell_type": "code",
   "execution_count": 24,
   "id": "caaeb6d0-c468-4abf-b50f-2795bb3eec0e",
   "metadata": {},
   "outputs": [],
   "source": [
    "Lambda_only_4122 = Lambda_only_4122.head(500000)\n",
    "DMesons_only_411 = DMesons_only_411.head(500000)\n",
    "\n",
    "combined_df = pd.concat([Lambda_only_4122, DMesons_only_411], axis=0)\n",
    "\n",
    "# Shuffle the rows of the combined data frame\n",
    "shuffled_df = combined_df.sample(frac=1).reset_index(drop=True)"
   ]
  },
  {
   "cell_type": "code",
   "execution_count": 25,
   "id": "847b8bdc-9fc2-4dd7-8b08-a9988cc73f4f",
   "metadata": {},
   "outputs": [
    {
     "data": {
      "text/html": [
       "<div>\n",
       "<style scoped>\n",
       "    .dataframe tbody tr th:only-of-type {\n",
       "        vertical-align: middle;\n",
       "    }\n",
       "\n",
       "    .dataframe tbody tr th {\n",
       "        vertical-align: top;\n",
       "    }\n",
       "\n",
       "    .dataframe thead th {\n",
       "        text-align: right;\n",
       "    }\n",
       "</style>\n",
       "<table border=\"1\" class=\"dataframe\">\n",
       "  <thead>\n",
       "    <tr style=\"text-align: right;\">\n",
       "      <th></th>\n",
       "      <th>DMesons_pt</th>\n",
       "      <th>DMesons_eta</th>\n",
       "      <th>DMesons_fitOutput__Lxy</th>\n",
       "      <th>DMesons_costhetastar</th>\n",
       "      <th>DMesons_pdgId</th>\n",
       "    </tr>\n",
       "  </thead>\n",
       "  <tbody>\n",
       "    <tr>\n",
       "      <th>0</th>\n",
       "      <td>40.292617</td>\n",
       "      <td>-2.132428</td>\n",
       "      <td>1.709223</td>\n",
       "      <td>0.596324</td>\n",
       "      <td>4122</td>\n",
       "    </tr>\n",
       "    <tr>\n",
       "      <th>1</th>\n",
       "      <td>36.159043</td>\n",
       "      <td>1.770199</td>\n",
       "      <td>2.863618</td>\n",
       "      <td>0.336979</td>\n",
       "      <td>4122</td>\n",
       "    </tr>\n",
       "    <tr>\n",
       "      <th>2</th>\n",
       "      <td>16.158487</td>\n",
       "      <td>-0.328203</td>\n",
       "      <td>1.889710</td>\n",
       "      <td>0.418236</td>\n",
       "      <td>4122</td>\n",
       "    </tr>\n",
       "    <tr>\n",
       "      <th>3</th>\n",
       "      <td>9.363257</td>\n",
       "      <td>-1.904155</td>\n",
       "      <td>0.241280</td>\n",
       "      <td>-0.323162</td>\n",
       "      <td>4122</td>\n",
       "    </tr>\n",
       "    <tr>\n",
       "      <th>4</th>\n",
       "      <td>10.212383</td>\n",
       "      <td>0.252142</td>\n",
       "      <td>1.681181</td>\n",
       "      <td>-0.700560</td>\n",
       "      <td>411</td>\n",
       "    </tr>\n",
       "    <tr>\n",
       "      <th>...</th>\n",
       "      <td>...</td>\n",
       "      <td>...</td>\n",
       "      <td>...</td>\n",
       "      <td>...</td>\n",
       "      <td>...</td>\n",
       "    </tr>\n",
       "    <tr>\n",
       "      <th>999995</th>\n",
       "      <td>12.804967</td>\n",
       "      <td>-0.274116</td>\n",
       "      <td>1.246783</td>\n",
       "      <td>-0.283360</td>\n",
       "      <td>411</td>\n",
       "    </tr>\n",
       "    <tr>\n",
       "      <th>999996</th>\n",
       "      <td>8.228212</td>\n",
       "      <td>0.152788</td>\n",
       "      <td>3.529275</td>\n",
       "      <td>0.035969</td>\n",
       "      <td>411</td>\n",
       "    </tr>\n",
       "    <tr>\n",
       "      <th>999997</th>\n",
       "      <td>15.318966</td>\n",
       "      <td>-0.206616</td>\n",
       "      <td>0.383241</td>\n",
       "      <td>0.149074</td>\n",
       "      <td>4122</td>\n",
       "    </tr>\n",
       "    <tr>\n",
       "      <th>999998</th>\n",
       "      <td>13.441096</td>\n",
       "      <td>-0.770800</td>\n",
       "      <td>0.260466</td>\n",
       "      <td>0.482102</td>\n",
       "      <td>4122</td>\n",
       "    </tr>\n",
       "    <tr>\n",
       "      <th>999999</th>\n",
       "      <td>10.628495</td>\n",
       "      <td>0.894638</td>\n",
       "      <td>0.197627</td>\n",
       "      <td>-0.789414</td>\n",
       "      <td>4122</td>\n",
       "    </tr>\n",
       "  </tbody>\n",
       "</table>\n",
       "<p>1000000 rows × 5 columns</p>\n",
       "</div>"
      ],
      "text/plain": [
       "        DMesons_pt  DMesons_eta  DMesons_fitOutput__Lxy  DMesons_costhetastar  \\\n",
       "0        40.292617    -2.132428                1.709223              0.596324   \n",
       "1        36.159043     1.770199                2.863618              0.336979   \n",
       "2        16.158487    -0.328203                1.889710              0.418236   \n",
       "3         9.363257    -1.904155                0.241280             -0.323162   \n",
       "4        10.212383     0.252142                1.681181             -0.700560   \n",
       "...            ...          ...                     ...                   ...   \n",
       "999995   12.804967    -0.274116                1.246783             -0.283360   \n",
       "999996    8.228212     0.152788                3.529275              0.035969   \n",
       "999997   15.318966    -0.206616                0.383241              0.149074   \n",
       "999998   13.441096    -0.770800                0.260466              0.482102   \n",
       "999999   10.628495     0.894638                0.197627             -0.789414   \n",
       "\n",
       "        DMesons_pdgId  \n",
       "0                4122  \n",
       "1                4122  \n",
       "2                4122  \n",
       "3                4122  \n",
       "4                 411  \n",
       "...               ...  \n",
       "999995            411  \n",
       "999996            411  \n",
       "999997           4122  \n",
       "999998           4122  \n",
       "999999           4122  \n",
       "\n",
       "[1000000 rows x 5 columns]"
      ]
     },
     "execution_count": 25,
     "metadata": {},
     "output_type": "execute_result"
    }
   ],
   "source": [
    "shuffled_df"
   ]
  },
  {
   "cell_type": "code",
   "execution_count": 16,
   "id": "b6828295-443b-45dd-85a9-ad54b5e7a39e",
   "metadata": {},
   "outputs": [
    {
     "name": "stdout",
     "output_type": "stream",
     "text": [
      "500000 500000\n"
     ]
    }
   ],
   "source": [
    "D = 0\n",
    "Lambda = 0\n",
    "for pdgId in shuffled_df[\"DMesons_pdgId\"]:\n",
    "    if pdgId == 411:\n",
    "        D+=1\n",
    "    elif pdgId == 4122:\n",
    "        Lambda+=1\n",
    "print(D, Lambda)"
   ]
  },
  {
   "cell_type": "code",
   "execution_count": 34,
   "id": "38d6fa12-d36d-445b-b647-5d33161b88a4",
   "metadata": {},
   "outputs": [],
   "source": [
    "#D and Lambda\n",
    "shuffled_df['DMesons_pdgId'] = shuffled_df['DMesons_pdgId'].replace({411: 0, 4122: 1})\n",
    "X_train, X_test, y_train, y_test = train_test_split(shuffled_df[['DMesons_pt','DMesons_eta', 'DMesons_fitOutput__Lxy', 'DMesons_costhetastar']], shuffled_df['DMesons_pdgId'], test_size=0.2, random_state=42)\n",
    "\n",
    "#only DMesons\n",
    "only_411['DMesons_pdgId'] = only_411['DMesons_pdgId'].replace({411: 0, 4122: 1})\n",
    "X_train1, X_test1, y_train1, y_test1 = train_test_split(only_411[['DMesons_pt', 'DMesons_eta', 'DMesons_fitOutput__Lxy', 'DMesons_costhetastar']], only_411['DMesons_pdgId'], test_size=0.2, random_state=42)\n",
    "\n",
    "#only Lambda\n",
    "only_4122['DMesons_pdgId'] = only_4122['DMesons_pdgId'].replace({411: 0, 4122: 1})\n",
    "X_train2, X_test2, y_train2, y_test2 = train_test_split(only_4122[['DMesons_pt', 'DMesons_eta', 'DMesons_fitOutput__Lxy', 'DMesons_costhetastar']], only_4122['DMesons_pdgId'], test_size=0.2, random_state=42)"
   ]
  },
  {
   "cell_type": "code",
   "execution_count": 35,
   "id": "c16f1337-d124-4531-b770-014fb6bca4d8",
   "metadata": {},
   "outputs": [
    {
     "name": "stdout",
     "output_type": "stream",
     "text": [
      "(800000, 4) (200000, 4)\n"
     ]
    },
    {
     "data": {
      "text/html": [
       "<div>\n",
       "<style scoped>\n",
       "    .dataframe tbody tr th:only-of-type {\n",
       "        vertical-align: middle;\n",
       "    }\n",
       "\n",
       "    .dataframe tbody tr th {\n",
       "        vertical-align: top;\n",
       "    }\n",
       "\n",
       "    .dataframe thead th {\n",
       "        text-align: right;\n",
       "    }\n",
       "</style>\n",
       "<table border=\"1\" class=\"dataframe\">\n",
       "  <thead>\n",
       "    <tr style=\"text-align: right;\">\n",
       "      <th></th>\n",
       "      <th>DMesons_pt</th>\n",
       "      <th>DMesons_eta</th>\n",
       "      <th>DMesons_fitOutput__Lxy</th>\n",
       "      <th>DMesons_costhetastar</th>\n",
       "    </tr>\n",
       "  </thead>\n",
       "  <tbody>\n",
       "    <tr>\n",
       "      <th>566853</th>\n",
       "      <td>15.604036</td>\n",
       "      <td>-0.216518</td>\n",
       "      <td>7.741232</td>\n",
       "      <td>-0.907705</td>\n",
       "    </tr>\n",
       "    <tr>\n",
       "      <th>382311</th>\n",
       "      <td>9.240773</td>\n",
       "      <td>0.407024</td>\n",
       "      <td>1.929520</td>\n",
       "      <td>0.907743</td>\n",
       "    </tr>\n",
       "    <tr>\n",
       "      <th>241519</th>\n",
       "      <td>13.420954</td>\n",
       "      <td>-1.343910</td>\n",
       "      <td>0.390033</td>\n",
       "      <td>0.561081</td>\n",
       "    </tr>\n",
       "    <tr>\n",
       "      <th>719220</th>\n",
       "      <td>9.452331</td>\n",
       "      <td>0.630296</td>\n",
       "      <td>0.307287</td>\n",
       "      <td>0.193578</td>\n",
       "    </tr>\n",
       "    <tr>\n",
       "      <th>905718</th>\n",
       "      <td>10.639515</td>\n",
       "      <td>-0.208657</td>\n",
       "      <td>3.687753</td>\n",
       "      <td>0.525842</td>\n",
       "    </tr>\n",
       "    <tr>\n",
       "      <th>...</th>\n",
       "      <td>...</td>\n",
       "      <td>...</td>\n",
       "      <td>...</td>\n",
       "      <td>...</td>\n",
       "    </tr>\n",
       "    <tr>\n",
       "      <th>259178</th>\n",
       "      <td>10.633990</td>\n",
       "      <td>1.143685</td>\n",
       "      <td>7.976819</td>\n",
       "      <td>-0.385408</td>\n",
       "    </tr>\n",
       "    <tr>\n",
       "      <th>365838</th>\n",
       "      <td>9.548328</td>\n",
       "      <td>0.783142</td>\n",
       "      <td>0.483700</td>\n",
       "      <td>0.486954</td>\n",
       "    </tr>\n",
       "    <tr>\n",
       "      <th>131932</th>\n",
       "      <td>17.454320</td>\n",
       "      <td>0.541352</td>\n",
       "      <td>0.647483</td>\n",
       "      <td>-0.651447</td>\n",
       "    </tr>\n",
       "    <tr>\n",
       "      <th>671155</th>\n",
       "      <td>14.981626</td>\n",
       "      <td>0.436486</td>\n",
       "      <td>0.416233</td>\n",
       "      <td>0.114587</td>\n",
       "    </tr>\n",
       "    <tr>\n",
       "      <th>121958</th>\n",
       "      <td>8.078379</td>\n",
       "      <td>1.366025</td>\n",
       "      <td>0.476150</td>\n",
       "      <td>-0.946996</td>\n",
       "    </tr>\n",
       "  </tbody>\n",
       "</table>\n",
       "<p>800000 rows × 4 columns</p>\n",
       "</div>"
      ],
      "text/plain": [
       "        DMesons_pt  DMesons_eta  DMesons_fitOutput__Lxy  DMesons_costhetastar\n",
       "566853   15.604036    -0.216518                7.741232             -0.907705\n",
       "382311    9.240773     0.407024                1.929520              0.907743\n",
       "241519   13.420954    -1.343910                0.390033              0.561081\n",
       "719220    9.452331     0.630296                0.307287              0.193578\n",
       "905718   10.639515    -0.208657                3.687753              0.525842\n",
       "...            ...          ...                     ...                   ...\n",
       "259178   10.633990     1.143685                7.976819             -0.385408\n",
       "365838    9.548328     0.783142                0.483700              0.486954\n",
       "131932   17.454320     0.541352                0.647483             -0.651447\n",
       "671155   14.981626     0.436486                0.416233              0.114587\n",
       "121958    8.078379     1.366025                0.476150             -0.946996\n",
       "\n",
       "[800000 rows x 4 columns]"
      ]
     },
     "execution_count": 35,
     "metadata": {},
     "output_type": "execute_result"
    }
   ],
   "source": [
    "print(np.shape(X_train), np.shape(X_test))\n",
    "\n",
    "X_train"
   ]
  },
  {
   "cell_type": "code",
   "execution_count": 36,
   "id": "b4f81a2c-2193-403b-81bf-ca83822dc278",
   "metadata": {},
   "outputs": [
    {
     "data": {
      "image/png": "[encoded data removed]",
      "text/plain": [
       "<Figure size 640x480 with 1 Axes>"
      ]
     },
     "metadata": {},
     "output_type": "display_data"
    },
    {
     "data": {
      "image/png": "[encoded data removed]",
      "text/plain": [
       "<Figure size 640x480 with 1 Axes>"
      ]
     },
     "metadata": {},
     "output_type": "display_data"
    },
    {
     "data": {
      "image/png": "[encoded data removed]",
      "text/plain": [
       "<Figure size 640x480 with 1 Axes>"
      ]
     },
     "metadata": {},
     "output_type": "display_data"
    }
   ],
   "source": [
    "plt.figure()\n",
    "plt.title(\"Pt\")\n",
    "hists = plt.hist(X_train1[\"DMesons_pt\"], bins = 100, label = \"background\", alpha=0.5)\n",
    "hists = plt.hist(X_train2[\"DMesons_pt\"], bins = 100, label = \"signal\", alpha=0.5)\n",
    "plt.title(\"Signal vs Backround P_t (Normalized)\")\n",
    "plt.xlabel(\"Transverse Momentum (p_t) [MeV]\")\n",
    "plt.ylabel(\"Normalized Counts\")\n",
    "plt.legend()\n",
    "plt.show()\n",
    "\n",
    "plt.figure()\n",
    "plt.title(\"Lxy\")\n",
    "hists1 = plt.hist(X_train1[\"DMesons_fitOutput__Lxy\"], bins = 100, label = \"background\", alpha=0.5)\n",
    "hists1 = plt.hist(X_train2[\"DMesons_fitOutput__Lxy\"], bins = 100, label = \"signal\", alpha=0.5)\n",
    "plt.title(\"Signal vs Backround Lxy (Normalized)\")\n",
    "plt.xlabel(\"Decay Length (L_xy) [mm]\")\n",
    "plt.ylabel(\"Normalized Counts\")\n",
    "plt.legend()\n",
    "plt.show()\n",
    "\n",
    "plt.figure()\n",
    "plt.title(\"costhetastar\")\n",
    "hists2 = plt.hist(X_train1[\"DMesons_costhetastar\"], bins = 100, label = \"background\", alpha=0.5)\n",
    "hists2 = plt.hist(X_train2[\"DMesons_costhetastar\"], bins = 100, label = \"signal\", alpha=0.5)\n",
    "plt.title(\"Signal vs Backround cosθ* (Normalized)\")\n",
    "plt.xlabel(\"Cosine of Helicity Angle (cosθ*)\")\n",
    "plt.ylabel(\"Normalized Counts\")\n",
    "plt.legend()\n",
    "plt.show()"
   ]
  },
  {
   "cell_type": "code",
   "execution_count": 37,
   "id": "debfcd42-f024-461a-bdc0-d5d699c99532",
   "metadata": {},
   "outputs": [
    {
     "data": {
      "image/png": "[encoded data removed]",
      "text/plain": [
       "<Figure size 640x480 with 1 Axes>"
      ]
     },
     "metadata": {},
     "output_type": "display_data"
    },
    {
     "data": {
      "image/png": "[encoded data removed]",
      "text/plain": [
       "<Figure size 640x480 with 1 Axes>"
      ]
     },
     "metadata": {},
     "output_type": "display_data"
    },
    {
     "data": {
      "image/png": "[encoded data removed]",
      "text/plain": [
       "<Figure size 640x480 with 1 Axes>"
      ]
     },
     "metadata": {},
     "output_type": "display_data"
    }
   ],
   "source": [
    "counts, bins, _ = plt.hist(X_train1[\"DMesons_pt\"], bins=20)\n",
    "counts2, bins2, _ = plt.hist(X_train2[\"DMesons_pt\"], bins=20)\n",
    "# Normalize the histogram using the formula\n",
    "density = counts / (sum(counts) * np.diff(bins))\n",
    "density2 = counts2 / (sum(counts2) * np.diff(bins2))\n",
    "\n",
    "# Plot the normalized histogram\n",
    "plt.clf()\n",
    "plt.bar(bins[:-1], density, width=np.diff(bins), align='edge', alpha=0.5)\n",
    "plt.bar(bins2[:-1], density2, width=np.diff(bins2), align='edge', alpha=0.5)\n",
    "plt.title(\"Signal vs Backround P_t (Normalized)\")\n",
    "plt.xlabel(\"Transverse Momentum (p_t) [MeV]\")\n",
    "plt.ylabel(\"Normalized Counts\")\n",
    "plt.show()\n",
    "\n",
    "counts, bins, _ = plt.hist(X_train1[\"DMesons_fitOutput__Lxy\"], bins=20)\n",
    "counts2, bins2, _ = plt.hist(X_train2[\"DMesons_fitOutput__Lxy\"], bins=20)\n",
    "# Normalize the histogram using the formula\n",
    "density = counts / (sum(counts) * np.diff(bins))\n",
    "density2 = counts2 / (sum(counts2) * np.diff(bins2))\n",
    "\n",
    "# Plot the normalized histogram\n",
    "plt.clf()\n",
    "plt.bar(bins[:-1], density, width=np.diff(bins), align='edge', alpha=0.5)\n",
    "plt.bar(bins2[:-1], density2, width=np.diff(bins2), align='edge', alpha=0.5)\n",
    "plt.title(\"Signal vs Backround Lxy (Normalized)\")\n",
    "plt.xlabel(\"Decay Length (L_xy) [mm]\")\n",
    "plt.ylabel(\"Normalized Counts\")\n",
    "plt.show()\n",
    "\n",
    "counts, bins, _ = plt.hist(X_train1[\"DMesons_costhetastar\"], bins=20)\n",
    "counts2, bins2, _ = plt.hist(X_train2[\"DMesons_costhetastar\"], bins=20)\n",
    "# Normalize the histogram using the formula\n",
    "density = counts / (sum(counts) * np.diff(bins))\n",
    "density2 = counts2 / (sum(counts2) * np.diff(bins2))\n",
    "\n",
    "# Plot the normalized histogram\n",
    "plt.clf()\n",
    "plt.bar(bins[:-1], density, width=np.diff(bins), align='edge', alpha=0.5)\n",
    "plt.bar(bins2[:-1], density2, width=np.diff(bins2), align='edge', alpha=0.5)\n",
    "plt.title(\"Signal vs Backround cosθ* (Normalized)\")\n",
    "plt.xlabel(\"Cosine of Helicity Angle (cosθ*)\")\n",
    "plt.ylabel(\"Normalized Counts\")\n",
    "plt.show()"
   ]
  },
  {
   "cell_type": "code",
   "execution_count": 38,
   "id": "cb04599d-15bc-4588-8a9d-363a47647c1f",
   "metadata": {},
   "outputs": [
    {
     "data": {
      "image/png": "[encoded data removed]",
      "text/plain": [
       "<Figure size 640x480 with 1 Axes>"
      ]
     },
     "metadata": {},
     "output_type": "display_data"
    }
   ],
   "source": [
    "#counts, bins, _ = plt.hist(X_train1, bins=20)\n",
    "bins = np.linspace(-5, 5, 50)\n",
    "signal_counts, _ = np.histogram(X_train2, bins=bins, density=True)\n",
    "background_counts, _ = np.histogram(X_train1, bins=bins, density=True)\n",
    "\n",
    "# Plot the signal and background histograms on the same plot\n",
    "plt.bar(bins[:-1], signal_counts, width=np.diff(bins), alpha=0.5, label='Signal')\n",
    "plt.bar(bins[:-1], background_counts, width=np.diff(bins), alpha=0.5, label='Background')\n",
    "\n",
    "# Add axis labels and a legend\n",
    "plt.xlabel('Data')\n",
    "plt.ylabel('Normalized Counts')\n",
    "plt.title(\"Normalized Signal vs Background\")\n",
    "plt.legend()\n",
    "\n",
    "# Show the plot\n",
    "plt.show()"
   ]
  },
  {
   "cell_type": "code",
   "execution_count": 39,
   "id": "3797f144-19c6-43ca-afac-c9917f73fddd",
   "metadata": {},
   "outputs": [
    {
     "name": "stderr",
     "output_type": "stream",
     "text": [
      "Failed to detect the name of this notebook, you can set it manually with the WANDB_NOTEBOOK_NAME environment variable to enable code saving.\n",
      "\u001b[34m\u001b[1mwandb\u001b[0m: Currently logged in as: \u001b[33mgup-singh\u001b[0m (\u001b[33matlasdnn\u001b[0m). Use \u001b[1m`wandb login --relogin`\u001b[0m to force relogin\n"
     ]
    },
    {
     "data": {
      "text/html": [
       "wandb version 0.14.2 is available!  To upgrade, please run:\n",
       " $ pip install wandb --upgrade"
      ],
      "text/plain": [
       "<IPython.core.display.HTML object>"
      ]
     },
     "metadata": {},
     "output_type": "display_data"
    },
    {
     "data": {
      "text/html": [
       "Tracking run with wandb version 0.14.0"
      ],
      "text/plain": [
       "<IPython.core.display.HTML object>"
      ]
     },
     "metadata": {},
     "output_type": "display_data"
    },
    {
     "data": {
      "text/html": [
       "Run data is saved locally in <code>/global/u2/g/gupsingh/ATLAS_DNN/wandb/run-20230417_074405-dzz3x88x</code>"
      ],
      "text/plain": [
       "<IPython.core.display.HTML object>"
      ]
     },
     "metadata": {},
     "output_type": "display_data"
    },
    {
     "data": {
      "text/html": [
       "Syncing run <strong><a href='https://wandb.ai/atlasdnn/ATLAS_DNN/runs/dzz3x88x' target=\"_blank\">mild-darkness-49</a></strong> to <a href='https://wandb.ai/atlasdnn/ATLAS_DNN' target=\"_blank\">Weights & Biases</a> (<a href='https://wandb.me/run' target=\"_blank\">docs</a>)<br/>"
      ],
      "text/plain": [
       "<IPython.core.display.HTML object>"
      ]
     },
     "metadata": {},
     "output_type": "display_data"
    },
    {
     "data": {
      "text/html": [
       " View project at <a href='https://wandb.ai/atlasdnn/ATLAS_DNN' target=\"_blank\">https://wandb.ai/atlasdnn/ATLAS_DNN</a>"
      ],
      "text/plain": [
       "<IPython.core.display.HTML object>"
      ]
     },
     "metadata": {},
     "output_type": "display_data"
    },
    {
     "data": {
      "text/html": [
       " View run at <a href='https://wandb.ai/atlasdnn/ATLAS_DNN/runs/dzz3x88x' target=\"_blank\">https://wandb.ai/atlasdnn/ATLAS_DNN/runs/dzz3x88x</a>"
      ],
      "text/plain": [
       "<IPython.core.display.HTML object>"
      ]
     },
     "metadata": {},
     "output_type": "display_data"
    }
   ],
   "source": [
    "wandb.init(\n",
    "    # set the wandb project where this run will be logged\n",
    "    project=\"ATLAS_DNN\",\n",
    "\n",
    "    # track hyperparameters and run metadata with wandb.config\n",
    "    config={\n",
    "        \"layer_1\": 64,\n",
    "        \"activation_1\": \"relu\",\n",
    "        \"dropout_1\": 0.5,\n",
    "        \"layer_2\": 32,\n",
    "        \"activation_2\": \"relu\",\n",
    "        \"dropout_2\": 0.5,\n",
    "        \"output_layer\": 1,\n",
    "        \"output_activation\": \"sigmoid\",\n",
    "        \"optimizer\": \"adam\",\n",
    "        \"loss\": \"binary_crossentropy\",\n",
    "        \"metric\": \"accuracy\",\n",
    "        \"epoch\": 10,\n",
    "        \"batch_size\": 32\n",
    "    }\n",
    ")\n",
    "config = wandb.config"
   ]
  },
  {
   "cell_type": "code",
   "execution_count": 40,
   "id": "8691200c-24fe-4a5b-a4c4-29902c91a09e",
   "metadata": {},
   "outputs": [
    {
     "name": "stdout",
     "output_type": "stream",
     "text": [
      "Model: \"my_model\"\n",
      "_________________________________________________________________\n",
      " Layer (type)                Output Shape              Param #   \n",
      "=================================================================\n",
      " dense (Dense)               multiple                  320       \n",
      "                                                                 \n",
      " dropout (Dropout)           multiple                  0         \n",
      "                                                                 \n",
      " dense_1 (Dense)             multiple                  2080      \n",
      "                                                                 \n",
      " dropout_1 (Dropout)         multiple                  0         \n",
      "                                                                 \n",
      " dense_2 (Dense)             multiple                  33        \n",
      "                                                                 \n",
      "=================================================================\n",
      "Total params: 2,433\n",
      "Trainable params: 2,433\n",
      "Non-trainable params: 0\n",
      "_________________________________________________________________\n"
     ]
    },
    {
     "name": "stderr",
     "output_type": "stream",
     "text": [
      "2023-04-17 07:44:13.499279: E tensorflow/compiler/xla/stream_executor/cuda/cuda_driver.cc:266] failed call to cuInit: CUDA_ERROR_NO_DEVICE: no CUDA-capable device is detected\n"
     ]
    }
   ],
   "source": [
    "# def get_config(self):\n",
    "#     return config\n",
    "\n",
    "class MyModel(Model):\n",
    "    def __init__(self):\n",
    "        super(MyModel, self).__init__()\n",
    "        config = wandb.config\n",
    "        self.dense1 = Dense(config.layer_1, activation=config.activation_1)\n",
    "        self.dropout1 = Dropout(config.dropout_1)\n",
    "        \n",
    "        self.dense2 = Dense(config.layer_2, activation = config.activation_2)\n",
    "        self.dropout2 = Dropout(config.dropout_2)\n",
    "        \n",
    "        self.dense3 = Dense(config.output_layer, activation=config.output_activation)\n",
    "        \n",
    "    def call(self, x):\n",
    "        x = self.dense1(x)\n",
    "        x = self.dropout1(x)\n",
    "        \n",
    "        x = self.dense2(x)\n",
    "        x = self.dropout2(x)\n",
    "        \n",
    "        x = self.dense3(x)\n",
    "        \n",
    "        return x\n",
    "    \n",
    "model = MyModel()\n",
    "model.build(input_shape=(None, X_train.shape[1]))\n",
    "model.summary()\n",
    "\n",
    "def custom_accuracy(y_true, y_pred):\n",
    "    \n",
    "    y_pred_binary = tf.cast(tf.round(y_pred), tf.int32)\n",
    "    y_true = tf.cast(y_true, tf.int32)\n",
    "    \n",
    "    correct_predictions = tf.equal(y_true, y_pred_binary)\n",
    "    accuracy = tf.reduce_mean(tf.cast(correct_predictions, tf.float32))\n",
    "    \n",
    "    return accuracy"
   ]
  },
  {
   "cell_type": "code",
   "execution_count": 41,
   "id": "9f802f11-45c9-464e-9b90-e7e6deed7bba",
   "metadata": {},
   "outputs": [
    {
     "name": "stderr",
     "output_type": "stream",
     "text": [
      "\u001b[34m\u001b[1mwandb\u001b[0m: \u001b[33mWARNING\u001b[0m The save_model argument by default saves the model in the HDF5 format that cannot save custom objects like subclassed models and custom layers. This behavior will be deprecated in a future release in favor of the SavedModel format. Meanwhile, the HDF5 model is saved as W&B files and the SavedModel as W&B Artifacts.\n"
     ]
    },
    {
     "name": "stdout",
     "output_type": "stream",
     "text": [
      "Epoch 1/10\n",
      "24990/25000 [============================>.] - ETA: 0s - loss: 0.4965 - custom_accuracy: 0.7674"
     ]
    },
    {
     "name": "stderr",
     "output_type": "stream",
     "text": [
      "\u001b[34m\u001b[1mwandb\u001b[0m: \u001b[32m\u001b[41mERROR\u001b[0m Can't save model in the h5py format. The model will be saved as as an W&B Artifact in the 'tf' format.\n",
      "WARNING:absl:Found untraced functions such as _update_step_xla while saving (showing 1 of 1). These functions will not be directly callable after loading.\n"
     ]
    },
    {
     "name": "stdout",
     "output_type": "stream",
     "text": [
      "INFO:tensorflow:Assets written to: /global/u2/g/gupsingh/ATLAS_DNN/wandb/run-20230417_074405-dzz3x88x/files/model-best/assets\n"
     ]
    },
    {
     "name": "stderr",
     "output_type": "stream",
     "text": [
      "INFO:tensorflow:Assets written to: /global/u2/g/gupsingh/ATLAS_DNN/wandb/run-20230417_074405-dzz3x88x/files/model-best/assets\n",
      "\u001b[34m\u001b[1mwandb\u001b[0m: Adding directory to artifact (/global/u2/g/gupsingh/ATLAS_DNN/wandb/run-20230417_074405-dzz3x88x/files/model-best)... Done. 0.0s\n"
     ]
    },
    {
     "name": "stdout",
     "output_type": "stream",
     "text": [
      "25000/25000 [==============================] - 53s 2ms/step - loss: 0.4965 - custom_accuracy: 0.7674 - val_loss: 0.4680 - val_custom_accuracy: 0.7762\n",
      "Epoch 2/10\n",
      "25000/25000 [==============================] - 46s 2ms/step - loss: 0.4797 - custom_accuracy: 0.7723 - val_loss: 0.4684 - val_custom_accuracy: 0.7767\n",
      "Epoch 3/10\n",
      "24990/25000 [============================>.] - ETA: 0s - loss: 0.4782 - custom_accuracy: 0.7727"
     ]
    },
    {
     "name": "stderr",
     "output_type": "stream",
     "text": [
      "\u001b[34m\u001b[1mwandb\u001b[0m: \u001b[32m\u001b[41mERROR\u001b[0m Can't save model in the h5py format. The model will be saved as as an W&B Artifact in the 'tf' format.\n",
      "WARNING:absl:Found untraced functions such as _update_step_xla while saving (showing 1 of 1). These functions will not be directly callable after loading.\n"
     ]
    },
    {
     "name": "stdout",
     "output_type": "stream",
     "text": [
      "INFO:tensorflow:Assets written to: /global/u2/g/gupsingh/ATLAS_DNN/wandb/run-20230417_074405-dzz3x88x/files/model-best/assets\n"
     ]
    },
    {
     "name": "stderr",
     "output_type": "stream",
     "text": [
      "INFO:tensorflow:Assets written to: /global/u2/g/gupsingh/ATLAS_DNN/wandb/run-20230417_074405-dzz3x88x/files/model-best/assets\n",
      "\u001b[34m\u001b[1mwandb\u001b[0m: Adding directory to artifact (/global/u2/g/gupsingh/ATLAS_DNN/wandb/run-20230417_074405-dzz3x88x/files/model-best)... Done. 0.0s\n"
     ]
    },
    {
     "name": "stdout",
     "output_type": "stream",
     "text": [
      "25000/25000 [==============================] - 47s 2ms/step - loss: 0.4782 - custom_accuracy: 0.7727 - val_loss: 0.4665 - val_custom_accuracy: 0.7776\n",
      "Epoch 4/10\n",
      "25000/25000 [==============================] - 46s 2ms/step - loss: 0.4790 - custom_accuracy: 0.7725 - val_loss: 0.4674 - val_custom_accuracy: 0.7772\n",
      "Epoch 5/10\n",
      "25000/25000 [==============================] - 46s 2ms/step - loss: 0.4781 - custom_accuracy: 0.7728 - val_loss: 0.4673 - val_custom_accuracy: 0.7760\n",
      "Epoch 6/10\n",
      "25000/25000 [==============================] - 46s 2ms/step - loss: 0.4783 - custom_accuracy: 0.7730 - val_loss: 0.4666 - val_custom_accuracy: 0.7767\n",
      "Epoch 6: early stopping\n",
      "6250/6250 [==============================] - 8s 1ms/step - loss: 0.4666 - custom_accuracy: 0.7767\n",
      "Loss: [0.4665882885456085, 0.7767400145530701]\n",
      "Training runtime: 292.3809893131256 seconds\n"
     ]
    },
    {
     "name": "stderr",
     "output_type": "stream",
     "text": [
      "2023-04-17 07:45:04.420270: I tensorflow/core/common_runtime/executor.cc:1197] [/device:CPU:0] (DEBUG INFO) Executor start aborting (this does not indicate an error and you can ignore this message): INVALID_ARGUMENT: You must feed a value for placeholder tensor 'inputs' with dtype float and shape [?,64]\n",
      "\t [[{{node inputs}}]]\n",
      "2023-04-17 07:45:04.434071: I tensorflow/core/common_runtime/executor.cc:1197] [/device:CPU:0] (DEBUG INFO) Executor start aborting (this does not indicate an error and you can ignore this message): INVALID_ARGUMENT: You must feed a value for placeholder tensor 'inputs' with dtype float and shape [?,32]\n",
      "\t [[{{node inputs}}]]\n",
      "2023-04-17 07:45:04.642580: I tensorflow/core/common_runtime/executor.cc:1197] [/device:CPU:0] (DEBUG INFO) Executor start aborting (this does not indicate an error and you can ignore this message): INVALID_ARGUMENT: You must feed a value for placeholder tensor 'inputs' with dtype float and shape [?,64]\n",
      "\t [[{{node inputs}}]]\n",
      "2023-04-17 07:45:04.688704: I tensorflow/core/common_runtime/executor.cc:1197] [/device:CPU:0] (DEBUG INFO) Executor start aborting (this does not indicate an error and you can ignore this message): INVALID_ARGUMENT: You must feed a value for placeholder tensor 'inputs' with dtype float and shape [?,32]\n",
      "\t [[{{node inputs}}]]\n",
      "2023-04-17 07:46:42.221643: I tensorflow/core/common_runtime/executor.cc:1197] [/device:CPU:0] (DEBUG INFO) Executor start aborting (this does not indicate an error and you can ignore this message): INVALID_ARGUMENT: You must feed a value for placeholder tensor 'inputs' with dtype float and shape [?,64]\n",
      "\t [[{{node inputs}}]]\n",
      "2023-04-17 07:46:42.234757: I tensorflow/core/common_runtime/executor.cc:1197] [/device:CPU:0] (DEBUG INFO) Executor start aborting (this does not indicate an error and you can ignore this message): INVALID_ARGUMENT: You must feed a value for placeholder tensor 'inputs' with dtype float and shape [?,32]\n",
      "\t [[{{node inputs}}]]\n",
      "2023-04-17 07:46:42.407454: I tensorflow/core/common_runtime/executor.cc:1197] [/device:CPU:0] (DEBUG INFO) Executor start aborting (this does not indicate an error and you can ignore this message): INVALID_ARGUMENT: You must feed a value for placeholder tensor 'inputs' with dtype float and shape [?,64]\n",
      "\t [[{{node inputs}}]]\n",
      "2023-04-17 07:46:42.446553: I tensorflow/core/common_runtime/executor.cc:1197] [/device:CPU:0] (DEBUG INFO) Executor start aborting (this does not indicate an error and you can ignore this message): INVALID_ARGUMENT: You must feed a value for placeholder tensor 'inputs' with dtype float and shape [?,32]\n",
      "\t [[{{node inputs}}]]\n"
     ]
    }
   ],
   "source": [
    "#Compile\n",
    "import time\n",
    "\n",
    "start_time = time.time()\n",
    "\n",
    "model.compile(optimizer=config.optimizer, loss=config.loss, metrics=[custom_accuracy])\n",
    "\n",
    "early_stop = EarlyStopping(monitor='val_loss', patience=3, verbose=1, mode='min')\n",
    "#Train\n",
    "history = model.fit(X_train, y_train, epochs=config.epoch, batch_size=config.batch_size, validation_data=(X_test, y_test), callbacks=[early_stop, WandbCallback(), tf.keras.callbacks.History()])\n",
    "\n",
    "#Evaluate testing set\n",
    "loss = model.evaluate(X_test, y_test)\n",
    "print(\"Loss: {}\".format(loss))\n",
    "\n",
    "end_time = time.time()\n",
    "runtime = end_time - start_time\n",
    "print(\"Training runtime:\", runtime, \"seconds\")"
   ]
  },
  {
   "cell_type": "code",
   "execution_count": 43,
   "id": "c51c2995-8b37-451a-a2a6-e6b0eef781b7",
   "metadata": {},
   "outputs": [],
   "source": [
    "wandb.finish()"
   ]
  },
  {
   "cell_type": "markdown",
   "id": "6762b384-00da-4be7-bdab-658c78b38bd8",
   "metadata": {},
   "source": [
    "------------------------------------------ Finished training, now analyze ------------------------------------------"
   ]
  },
  {
   "cell_type": "code",
   "execution_count": 44,
   "id": "e18b441c-207f-402e-8a4c-b1c8a7f86de0",
   "metadata": {},
   "outputs": [
    {
     "data": {
      "image/png": "[encoded data removed]",
      "text/plain": [
       "<Figure size 640x480 with 1 Axes>"
      ]
     },
     "metadata": {},
     "output_type": "display_data"
    }
   ],
   "source": [
    "# Plot the training and validation loss\n",
    "plt.plot(history.history['loss'])\n",
    "plt.plot(history.history['val_loss'])\n",
    "plt.title('Model Loss')\n",
    "plt.ylabel('Loss')\n",
    "plt.xlabel('Epoch')\n",
    "plt.legend(['Train', 'Validation'], loc='upper right')\n",
    "plt.show()"
   ]
  },
  {
   "cell_type": "code",
   "execution_count": 45,
   "id": "16ec2ba3-002e-489f-a0a4-a087894d71c2",
   "metadata": {},
   "outputs": [
    {
     "name": "stdout",
     "output_type": "stream",
     "text": [
      "6250/6250 [==============================] - 7s 1ms/step\n"
     ]
    },
    {
     "data": {
      "text/plain": [
       "array([[0.71808386],\n",
       "       [0.70039725],\n",
       "       [0.79178286],\n",
       "       [0.01058451],\n",
       "       [0.06616455],\n",
       "       [0.7938251 ],\n",
       "       [0.73005605],\n",
       "       [0.78505135],\n",
       "       [0.67074215],\n",
       "       [0.7503327 ]], dtype=float32)"
      ]
     },
     "execution_count": 45,
     "metadata": {},
     "output_type": "execute_result"
    }
   ],
   "source": [
    "predictions = model.predict(X_test)\n",
    "predictions[:10]"
   ]
  },
  {
   "cell_type": "code",
   "execution_count": 46,
   "id": "4a31e0ad-5770-42c8-a6b1-6f93a797adc6",
   "metadata": {},
   "outputs": [
    {
     "name": "stdout",
     "output_type": "stream",
     "text": [
      "3125/3125 [==============================] - 3s 1ms/step\n"
     ]
    },
    {
     "data": {
      "text/plain": [
       "array([[7.1192038e-01],\n",
       "       [5.6942806e-02],\n",
       "       [2.6781796e-02],\n",
       "       [2.8700244e-09],\n",
       "       [2.8438205e-01],\n",
       "       [2.5402742e-02],\n",
       "       [7.6811218e-01],\n",
       "       [7.4634053e-02],\n",
       "       [2.0304192e-02],\n",
       "       [6.7178285e-01]], dtype=float32)"
      ]
     },
     "execution_count": 46,
     "metadata": {},
     "output_type": "execute_result"
    }
   ],
   "source": [
    "predictions1 = model.predict(X_test1)\n",
    "predictions1[:10]"
   ]
  },
  {
   "cell_type": "code",
   "execution_count": 47,
   "id": "691d943d-649d-46bc-8900-eee623a49f70",
   "metadata": {},
   "outputs": [
    {
     "name": "stdout",
     "output_type": "stream",
     "text": [
      "3125/3125 [==============================] - 3s 1ms/step\n"
     ]
    },
    {
     "data": {
      "text/plain": [
       "array([[0.71710175],\n",
       "       [0.70433414],\n",
       "       [0.75427043],\n",
       "       [0.81452835],\n",
       "       [0.74733216],\n",
       "       [0.7859319 ],\n",
       "       [0.5115893 ],\n",
       "       [0.7551093 ],\n",
       "       [0.77770126],\n",
       "       [0.7311392 ]], dtype=float32)"
      ]
     },
     "execution_count": 47,
     "metadata": {},
     "output_type": "execute_result"
    }
   ],
   "source": [
    "predictions2 = model.predict(X_test2)\n",
    "predictions2[:10]"
   ]
  },
  {
   "cell_type": "code",
   "execution_count": 51,
   "id": "209542a2-f19f-468c-b9b3-f98196ceefc0",
   "metadata": {},
   "outputs": [
    {
     "name": "stdout",
     "output_type": "stream",
     "text": [
      "$D^+$ Count: 79443\n",
      "$\\Lambda_C^+ Count: 120557\n",
      "Unknown Particle Count: 0\n"
     ]
    },
    {
     "data": {
      "text/plain": [
       "(200000, 1)"
      ]
     },
     "execution_count": 51,
     "metadata": {},
     "output_type": "execute_result"
    }
   ],
   "source": [
    "predictions_list = []\n",
    "D_count = 0\n",
    "Lambda_count = 0\n",
    "unclear = 0\n",
    "for pred in predictions:\n",
    "    if float(pred) > 0.5:\n",
    "        predictions_list.append(int(1))\n",
    "        Lambda_count+=1\n",
    "    elif float(pred) < 0.5:\n",
    "        predictions_list.append(int(0))\n",
    "        D_count+=1\n",
    "    else:\n",
    "        unclear+=1\n",
    "        \n",
    "print(\"$D^+$ Count: {}\".format(D_count))\n",
    "print(\"$\\Lambda_C^+ Count: {}\".format(Lambda_count))\n",
    "print(\"Unknown Particle Count: {}\".format(unclear))\n",
    "np.shape(predictions)"
   ]
  },
  {
   "cell_type": "code",
   "execution_count": 52,
   "id": "a429e301-ba3c-487c-bd73-448fad907dc1",
   "metadata": {},
   "outputs": [
    {
     "name": "stdout",
     "output_type": "stream",
     "text": [
      "Accuracy: 77.67%\n"
     ]
    },
    {
     "data": {
      "text/plain": [
       "987231    1\n",
       "79954     1\n",
       "567130    0\n",
       "500891    0\n",
       "55399     0\n",
       "         ..\n",
       "90245     1\n",
       "639296    0\n",
       "311939    0\n",
       "324459    1\n",
       "390499    0\n",
       "Name: DMesons_pdgId, Length: 200000, dtype: int64"
      ]
     },
     "execution_count": 52,
     "metadata": {},
     "output_type": "execute_result"
    }
   ],
   "source": [
    "accuracy = np.mean(predictions_list == y_test)\n",
    "print(\"Accuracy: {:.2%}\".format(accuracy))\n",
    "\n",
    "y_test"
   ]
  },
  {
   "cell_type": "code",
   "execution_count": 53,
   "id": "4c231cdf-49c7-4f4d-864c-8f38d62c3847",
   "metadata": {},
   "outputs": [
    {
     "data": {
      "image/png": "[encoded data removed]",
      "text/plain": [
       "<Figure size 640x480 with 1 Axes>"
      ]
     },
     "metadata": {},
     "output_type": "display_data"
    }
   ],
   "source": [
    "hist = plt.hist(predictions1, bins = 25, label = \"$D^{+}$ Predictions\", alpha=0.5)\n",
    "hist2 = plt.hist(predictions2, bins = 25, label = \"$\\Lambda_C^{+}$ Predictions\", alpha=0.5)\n",
    "plt.xlabel(\"score\")\n",
    "plt.ylabel(\"count\")\n",
    "plt.legend()\n",
    "plt.show()"
   ]
  },
  {
   "cell_type": "code",
   "execution_count": 54,
   "id": "38f6bd93-a366-496a-9e5d-daea55ed8021",
   "metadata": {},
   "outputs": [
    {
     "data": {
      "image/png": "[encoded data removed]",
      "text/plain": [
       "<Figure size 640x480 with 1 Axes>"
      ]
     },
     "metadata": {},
     "output_type": "display_data"
    }
   ],
   "source": [
    "from sklearn.metrics import roc_curve\n",
    "\n",
    "# Get true labels and predicted probabilities\n",
    "y_true = y_test\n",
    "y_pred = predictions_list\n",
    "\n",
    "# Calculate TPR and FPR for different threshold values\n",
    "fpr, tpr, thresholds = roc_curve(y_true, y_pred)\n",
    "\n",
    "# Plot ROC curve\n",
    "plt.plot(fpr, tpr)\n",
    "plt.xlabel('False Positive Rate')\n",
    "plt.ylabel('True Positive Rate')\n",
    "plt.title('ROC Curve')\n",
    "plt.show()\n"
   ]
  },
  {
   "cell_type": "code",
   "execution_count": null,
   "id": "f439bc12-384a-466e-af63-8ca144412f64",
   "metadata": {},
   "outputs": [],
   "source": []
  }
 ],
 "metadata": {
  "kernelspec": {
   "display_name": "cernROOT",
   "language": "python",
   "name": "cernroot"
  },
  "language_info": {
   "codemirror_mode": {
    "name": "ipython",
    "version": 3
   },
   "file_extension": ".py",
   "mimetype": "text/x-python",
   "name": "python",
   "nbconvert_exporter": "python",
   "pygments_lexer": "ipython3",
   "version": "3.11.0"
  }
 },
 "nbformat": 4,
 "nbformat_minor": 5
}
